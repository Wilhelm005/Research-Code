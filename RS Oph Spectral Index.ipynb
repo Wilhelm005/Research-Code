{
 "cells": [
  {
   "cell_type": "markdown",
   "id": "a40fe041-f434-4ff5-81db-9c829852528e",
   "metadata": {},
   "source": [
    "## RS Oph Spectral Index Plot"
   ]
  },
  {
   "cell_type": "code",
   "execution_count": 1,
   "id": "b9cd7c88-dac1-4957-be8a-9d2de764a2eb",
   "metadata": {},
   "outputs": [],
   "source": [
    "#imports imports imports\n",
    "import math\n",
    "import pandas as pd\n",
    "import numpy as np\n",
    "import matplotlib.pyplot as plt\n",
    "%matplotlib inline\n",
    "\n",
    "from sympy import diff as dif\n",
    "\n",
    "from astropy.io import ascii\n",
    "import astropy.units as u\n",
    "import astropy.constants as const\n",
    "from astropy.modeling.powerlaws import BrokenPowerLaw1D, SmoothlyBrokenPowerLaw1D, PowerLaw1D\n",
    "from astropy.modeling import fitting, models"
   ]
  },
  {
   "cell_type": "code",
   "execution_count": 2,
   "id": "8226abf5-8f27-40e0-b5c7-399779a7e653",
   "metadata": {},
   "outputs": [],
   "source": [
    "#All of the data"
   ]
  },
  {
   "cell_type": "code",
   "execution_count": 3,
   "id": "6c2c7d59-be6a-4d27-bf93-4111b3f7bf33",
   "metadata": {},
   "outputs": [],
   "source": [
    "data = (\n",
    "\n",
    "[59439.04,\t2.6,\t4.71,\t0.14],\n",
    "[59439.04,\t3.4,\t5.328,\t0.093],\n",
    "[59439.04,\t5.1,\t10.012,\t0.058],\n",
    "[59439.04,\t7,\t15.607,\t0.057],\n",
    "[59439.04,\t13.7,\t24.088,\t0.055],\n",
    "[59439.04,\t16.5,\t25.573,\t0.059],\n",
    "[59439.04,\t31.1,\t35.973,\t0.14],\n",
    "[59439.04,\t34.9,\t38.318,\t0.16],\n",
    "    \n",
    "[59440.08,\t2.6,\t18.206,\t0.11],\n",
    "[59440.08,\t3.4,\t23.366,\t0.1],\n",
    "[59440.08,\t5.1,\t33.454,\t0.059],\n",
    "[59440.08,\t7,\t39.663,\t0.055],\n",
    "[59440.08,\t13.7,\t40.939,\t0.062],\n",
    "[59440.08,\t16.5,\t41.636,\t0.063],\n",
    "[59440.08,\t31.1,\t44.762,\t0.14],\n",
    "[59440.08,\t34.9,\t46.68,\t0.15],\n",
    "\t\t\t\n",
    "[59443.99,\t2.6,\t68.929,\t0.37],\n",
    "[59443.99,\t3.4,\t73.933,\t0.11],\n",
    "[59443.99,\t5.1,\t67.597,\t0.087],\n",
    "[59443.99,\t7,\t58.65,\t0.068],\n",
    "[59443.99,\t13.7,\t47.847,\t0.066],\n",
    "[59443.99,\t16.5,\t46.81,\t0.063],\n",
    "[59443.99,\t31.1,\t48.13,\t0.14],\n",
    "[59443.99,\t34.9,\t49.924,\t0.16],\n",
    "\t\t\t\n",
    "[59446.01,\t2.6,\t88.695,\t0.21],\n",
    "[59446.01,\t3.4,\t78.259,\t0.11],\n",
    "[59446.01,\t5.1,\t60.457,\t0.065],\n",
    "[59446.01,\t7,\t50.875,\t0.057],\n",
    "[59446.01,\t13.7,\t43.692,\t0.054],\n",
    "[59446.01,\t16.5,\t42.418,\t0.055],\n",
    "[59446.01,\t31.1,\t46.076,\t0.12],\n",
    "[59446.01,\t34.9,\t48.49,\t0.14],\n",
    "\t\t\t\n",
    "[59446.99,\t2.6,\t84.443,\t0.34],\n",
    "[59446.99,\t3.4,\t82.034,\t0.13],\n",
    "[59446.99,\t5.1,\t63.977,\t0.083],\n",
    "[59446.99,\t7,\t51.883,\t0.062],\n",
    "[59446.99,\t13.7,\t41.854,\t0.056],\n",
    "[59446.99,\t16.5,\t40.83,\t0.056],\n",
    "[59446.99,\t31.1,\t43.653,\t0.12],\n",
    "[59446.99,\t34.9,\t45.965,\t0.13],\n",
    "\t\t\t\n",
    "[59451.01,\t2.6,\t92.534,\t0.24],\n",
    "[59451.01,\t3.4,\t83.135,\t0.19],\n",
    "[59451.01,\t5.1,\t61.832,\t0.074],\n",
    "[59451.01,\t7,\t52.291,\t0.059],\n",
    "[59451.01,\t13.7,\t44.133,\t0.054],\n",
    "[59451.01,\t16.5,\t42.894,\t0.061],\n",
    "[59451.01,\t31.1,\t47.067,\t0.12],\n",
    "[59451.01,\t34.9,\t48.103,\t0.13],\n",
    "\t\t\t\n",
    "[59461.01,\t2.6,\t94.467,\t0.22],\n",
    "[59461.01,\t3.4,\t85.812,\t0.17],\n",
    "[59461.01,\t5.1,\t65.115,\t0.074],\n",
    "[59461.01,\t7,\t57.617,\t0.064],\n",
    "[59461.01,\t13.7,\t54.102,\t0.06],\n",
    "[59461.01,\t16.5,\t54.536,\t0.065],\n",
    "[59461.01,\t31.1,\t70.776,\t0.15],\n",
    "[59461.01,\t34.9,\t77.042,\t0.16],\n",
    "\t\t\t\n",
    "[59463.02,\t2.6,\t88.638,\t0.2],\n",
    "[59463.02,\t3.4,\t80.579,\t0.17],\n",
    "[59463.02,\t5.1,\t60.766,\t0.069],\n",
    "[59463.02,\t7,\t56.003,\t0.062],\n",
    "[59463.02,\t13.7,\t51.457,\t0.068],\n",
    "[59463.02,\t16.5,\t54.259,\t0.074],\n",
    "[59463.02,\t31.1,\t75.224,\t0.17],\n",
    "[59463.02,\t34.9,\t82.831,\t0.18],\n",
    "\t\t\t\n",
    "[59466.04,\t2.6,\t58.862,\t0.17],\n",
    "[59466.04,\t3.4,\t58.434,\t0.13],\n",
    "[59466.04,\t5.1,\t54.499,\t0.067],\n",
    "[59466.04,\t7,\t54.364,\t0.068],\n",
    "\t\t\t\n",
    "[59467.99,\t2.6,\t81.96,\t0.23],\n",
    "[59467.99,\t3.4,\t75.044,\t0.15],\n",
    "[59467.99,\t5.1,\t60.253,\t0.061],\n",
    "[59467.99,\t7,\t55.839,\t0.055],\n",
    "[59467.99,\t13.7,\t55.46,\t0.057],\n",
    "[59467.99,\t16.5,\t57.657,\t0.059],\n",
    "[59467.99,\t31.1,\t85.302,\t0.13],\n",
    "[59467.99,\t34.9,\t94.908,\t0.14],\n",
    "\t\t\t\n",
    "[59470.01,\t2.6,\t74.216,\t0.24],\n",
    "[59470.01,\t3.4,\t67.992,\t0.14],\n",
    "[59470.01,\t5.1,\t56.608,\t0.058],\n",
    "[59470.01,\t7,\t54.465,\t0.056],\n",
    "[59470.01,\t13.7,\t56.891,\t0.061],\n",
    "[59470.01,\t16.5,\t60.279,\t0.063],\n",
    "[59470.01,\t31.1,\t92.384,\t0.14],\n",
    "[59470.01,\t34.9,\t103.52,\t0.15],\n",
    "\t\t\t\n",
    "[59487.96,\t2.6,\t65.358,\t0.18],\n",
    "[59487.96,\t3.4,\t60.804,\t0.13],\n",
    "[59487.96,\t5.1,\t49.879,\t0.061],\n",
    "[59487.96,\t7,\t46.096,\t0.058],\n",
    "[59487.96,\t13.7,\t51.336,\t0.074],\n",
    "[59487.96,\t16.5,\t55.64,\t0.083],\n",
    "[59487.96,\t31.1,\t92.061,\t0.14],\n",
    "[59487.96,\t34.9,\t103.31,\t0.16],\n",
    "\t\t\t\n",
    "[59510.94,\t2.6,\t27.414,\t0.13],\n",
    "[59510.94,\t3.4,\t30.985,\t0.086],\n",
    "[59510.94,\t5.1,\t36.454,\t0.052],\n",
    "[59510.94,\t7,\t38.595,\t0.05],\t\t\n",
    "\t\t\t\n",
    "[59511.92,\t2.6,\t36.139,\t0.13],\n",
    "[59511.92,\t3.4,\t36.456,\t0.11],\n",
    "[59511.92,\t5.1,\t36.228,\t0.053],\n",
    "[59511.92,\t7,\t38.215,\t0.053],\n",
    "[59511.92,\t13.7,\t45.791,\t0.053],\n",
    "[59511.92,\t16.5,\t50.332,\t0.052],\n",
    "[59511.92,\t31.1,\t79.492,\t0.12],\n",
    "[59511.92,\t34.9,\t88.439,\t0.13],\n",
    "\t\t\t\n",
    "[59523.82,\t2.6,\t32.964,\t0.13],\n",
    "[59523.82,\t3.4,\t32.519,\t0.092],\n",
    "[59523.82,\t5.1,\t31.849,\t0.053],\n",
    "[59523.82,\t7,\t32.08,\t0.049],\n",
    "[59523.82,\t13.7,\t38.122,\t0.049],\n",
    "[59523.82,\t16.5,\t41.511,\t0.05],\n",
    "[59523.82,\t31.1,\t66.05,\t0.11],\n",
    "[59523.82,\t34.9,\t72.993,\t0.12],\n",
    "\t\t\t\n",
    "[59574.76,\t2.6,\t17.902,\t0.2],\n",
    "[59574.76,\t3.4,\t17.739,\t0.18],\n",
    "[59574.76,\t5.1,\t17.481,\t0.064],\n",
    "[59574.76,\t7,\t19.527,\t0.06],\n",
    "[59574.76,\t13.7,\t25.248,\t0.067],\n",
    "[59574.76,\t16.5,\t26.955,\t0.061],\n",
    "[59574.76,\t31.1,\t42.236,\t0.34],\n",
    "[59574.76,\t34.9,\t47.137,\t0.35],\n",
    "\t\t\t\n",
    "[59588.66,\t2.6,\t24.59,\t0.16],\n",
    "[59588.66,\t3.4,\t22.702,\t0.14],\n",
    "[59588.66,\t5.1,\t18.554,\t0.06],\n",
    "[59588.66,\t7,\t18.619,\t0.051],\n",
    "[59588.66,\t13.7,\t21.6,\t0.051],\n",
    "[59588.66,\t16.5,\t22.164,\t0.053],\n",
    "[59588.66,\t31.1,\t26.488,\t0.1],\n",
    "[59588.66,\t34.9,\t27.475,\t0.11],\n",
    "\t\t\t\n",
    "[59590.61,\t2.6,\t24.388,\t0.21],\n",
    "[59590.61,\t3.4,\t22.617,\t0.11],\n",
    "[59590.61,\t5.1,\t19.794,\t0.062],\n",
    "[59590.61,\t7,\t19.169,\t0.052],\n",
    "[59590.61,\t13.7,\t21.908,\t0.051],\n",
    "[59590.61,\t16.5,\t22.994,\t0.047],\n",
    "[59590.61,\t31.1,\t28.341,\t0.11],\n",
    "[59590.61,\t34.9,\t29.746,\t0.12],\n",
    "\t\t\t\n",
    "[59595.61,\t2.6,\t23.163,\t0.16],\n",
    "[59595.61,\t3.4,\t20.742,\t0.13],\n",
    "[59595.61,\t5.1,\t17.488,\t0.056],\n",
    "[59595.61,\t7,\t17.871,\t0.057],\n",
    "[59595.61,\t13.7,\t20.702,\t0.05],\n",
    "[59595.61,\t16.5,\t21.855,\t0.048],\n",
    "[59595.61,\t31.1,\t27.116,\t0.11],\n",
    "[59595.61,\t34.9,\t28.356,\t0.11],\n",
    "\t\t\t\n",
    "[60034.47,\t2.6,\t3.295,\t0.17],\n",
    "[60034.47,\t3.4,\t3.342,\t0.12],\n",
    "[60034.47,\t5.1,\t2.765,\t0.052],\n",
    "[60034.47,\t7,\t2.347,\t0.049],\n",
    "[60034.47,\t13.7,\t1.672,\t0.05],\n",
    "[60034.47,\t16.5,\t1.526,\t0.051],\n",
    "[60034.47,\t31.1,\t0.87,\t0.1],\n",
    "[60034.47,\t34.9,\t0.862,\t0.11],\n",
    "\t\t\t\n",
    "[60049.34,\t2.6,\t2.777,\t0.17],\n",
    "[60049.34,\t3.4,\t2.82,\t0.078],\n",
    "[60049.34,\t5.1,\t2.684,\t0.053],\n",
    "[60049.34,\t7,\t2.373,\t0.046],\n",
    "[60049.34,\t13.7,\t1.67,\t0.048],\n",
    "[60049.34,\t16.5,\t1.541,\t0.048],\n",
    "[60049.34,\t31.1,\t1.077,\t0.11],\n",
    "[60049.34,\t34.9,\t1.113,\t0.12],\n",
    "\t\t\t\n",
    "[60131.12,\t2.6,\t1.808,\t0.017],\n",
    "[60131.12,\t3.4,\t1.999,\t0.014],\n",
    "[60131.12,\t5.1,\t2.163,\t0.016],\n",
    "[60131.12,\t7,\t2.336,\t0.018],\n",
    "[60131.12,\t13.7,\t1.933,\t0.02],\n",
    "[60131.12,\t16.5,\t1.923,\t0.022],\n",
    "[60131.12,\t31.1,\t1.336,\t0.066],\n",
    "[60131.12,\t34.9,\t1.306,\t0.079],\n",
    ")\n",
    "\n",
    "df =  pd.DataFrame(data, columns = [\"MJD\", \"Freq (GHz)\", \"Flux Density (mJy)\", \"Uncertainty (mJy)\"])"
   ]
  },
  {
   "cell_type": "code",
   "execution_count": 4,
   "id": "0bed4a69-b306-48f5-bde0-41c7d99cfce8",
   "metadata": {},
   "outputs": [],
   "source": [
    "E1 = ([59439.04,\t2.6,\t4.71,\t0.14],\n",
    "[59439.04,\t3.4,\t5.328,\t0.093],\n",
    "[59439.04,\t5.1,\t10.012,\t0.058],\n",
    "[59439.04,\t7,\t15.607,\t0.057],\n",
    "[59439.04,\t13.7,\t24.088,\t0.055],\n",
    "[59439.04,\t16.5,\t25.573,\t0.059],\n",
    "[59439.04,\t31.1,\t35.973,\t0.14],\n",
    "[59439.04,\t34.9,\t38.318,\t0.16],)\n",
    "\n",
    "E2 = ( \n",
    "[59440.08,\t2.6,\t18.206,\t0.11],\n",
    "[59440.08,\t3.4,\t23.366,\t0.1],\n",
    "[59440.08,\t5.1,\t33.454,\t0.059],\n",
    "[59440.08,\t7,\t39.663,\t0.055],\n",
    "[59440.08,\t13.7,\t40.939,\t0.062],\n",
    "[59440.08,\t16.5,\t41.636,\t0.063],\n",
    "[59440.08,\t31.1,\t44.762,\t0.14],\n",
    "[59440.08,\t34.9,\t46.68,\t0.15],)\n",
    "\n",
    "E3 = (\n",
    "    [59443.99,\t2.6,\t68.929,\t0.37],\n",
    "[59443.99,\t3.4,\t73.933,\t0.11],\n",
    "[59443.99,\t5.1,\t67.597,\t0.087],\n",
    "[59443.99,\t7,\t58.65,\t0.068],\n",
    "[59443.99,\t13.7,\t47.847,\t0.066],\n",
    "[59443.99,\t16.5,\t46.81,\t0.063],\n",
    "[59443.99,\t31.1,\t48.13,\t0.14],\n",
    "[59443.99,\t34.9,\t49.924,\t0.16],\n",
    ")\n",
    "\n",
    "E4 = ([59446.01,\t2.6,\t88.695,\t0.21],\n",
    "[59446.01,\t3.4,\t78.259,\t0.11],\n",
    "[59446.01,\t5.1,\t60.457,\t0.065],\n",
    "[59446.01,\t7,\t50.875,\t0.057],\n",
    "[59446.01,\t13.7,\t43.692,\t0.054],\n",
    "[59446.01,\t16.5,\t42.418,\t0.055],\n",
    "[59446.01,\t31.1,\t46.076,\t0.12],\n",
    "[59446.01,\t34.9,\t48.49,\t0.14],)\n",
    "\n",
    "E5 = ([59446.99,\t2.6,\t84.443,\t0.34],\n",
    "[59446.99,\t3.4,\t82.034,\t0.13],\n",
    "[59446.99,\t5.1,\t63.977,\t0.083],\n",
    "[59446.99,\t7,\t51.883,\t0.062],\n",
    "[59446.99,\t13.7,\t41.854,\t0.056],\n",
    "[59446.99,\t16.5,\t40.83,\t0.056],\n",
    "[59446.99,\t31.1,\t43.653,\t0.12],\n",
    "[59446.99,\t34.9,\t45.965,\t0.13],)\n",
    "\n",
    "E6 = (\t\t\t\n",
    "[59451.01,\t2.6,\t92.534,\t0.24],\n",
    "[59451.01,\t3.4,\t83.135,\t0.19],\n",
    "[59451.01,\t5.1,\t61.832,\t0.074],\n",
    "[59451.01,\t7,\t52.291,\t0.059],\n",
    "[59451.01,\t13.7,\t44.133,\t0.054],\n",
    "[59451.01,\t16.5,\t42.894,\t0.061],\n",
    "[59451.01,\t31.1,\t47.067,\t0.12],\n",
    "[59451.01,\t34.9,\t48.103,\t0.13],\n",
    "\t\t\t)\n",
    "\n",
    "E7 = ([59461.01,\t2.6,\t94.467,\t0.22],\n",
    "[59461.01,\t3.4,\t85.812,\t0.17],\n",
    "[59461.01,\t5.1,\t65.115,\t0.074],\n",
    "[59461.01,\t7,\t57.617,\t0.064],\n",
    "[59461.01,\t13.7,\t54.102,\t0.06],\n",
    "[59461.01,\t16.5,\t54.536,\t0.065],\n",
    "[59461.01,\t31.1,\t70.776,\t0.15],\n",
    "[59461.01,\t34.9,\t77.042,\t0.16],)\n",
    "\n",
    "E8 = ([59463.02,\t2.6,\t88.638,\t0.2],\n",
    "[59463.02,\t3.4,\t80.579,\t0.17],\n",
    "[59463.02,\t5.1,\t60.766,\t0.069],\n",
    "[59463.02,\t7,\t56.003,\t0.062],\n",
    "[59463.02,\t13.7,\t51.457,\t0.068],\n",
    "[59463.02,\t16.5,\t54.259,\t0.074],\n",
    "[59463.02,\t31.1,\t75.224,\t0.17],\n",
    "[59463.02,\t34.9,\t82.831,\t0.18],)\n",
    "\n",
    "E9 = ([59466.04,\t2.6,\t58.862,\t0.17],\n",
    "[59466.04,\t3.4,\t58.434,\t0.13],\n",
    "[59466.04,\t5.1,\t54.499,\t0.067],\n",
    "[59466.04,\t7,\t54.364,\t0.068],)\n",
    "\n",
    "E10 = ([59467.99,\t2.6,\t81.96,\t0.23],\n",
    "[59467.99,\t3.4,\t75.044,\t0.15],\n",
    "[59467.99,\t5.1,\t60.253,\t0.061],\n",
    "[59467.99,\t7,\t55.839,\t0.055],\n",
    "[59467.99,\t13.7,\t55.46,\t0.057],\n",
    "[59467.99,\t16.5,\t57.657,\t0.059],\n",
    "[59467.99,\t31.1,\t85.302,\t0.13],\n",
    "[59467.99,\t34.9,\t94.908,\t0.14],)\n",
    "\n",
    "E11 = ([59470.01,\t2.6,\t74.216,\t0.24],\n",
    "[59470.01,\t3.4,\t67.992,\t0.14],\n",
    "[59470.01,\t5.1,\t56.608,\t0.058],\n",
    "[59470.01,\t7,\t54.465,\t0.056],\n",
    "[59470.01,\t13.7,\t56.891,\t0.061],\n",
    "[59470.01,\t16.5,\t60.279,\t0.063],\n",
    "[59470.01,\t31.1,\t92.384,\t0.14],\n",
    "[59470.01,\t34.9,\t103.52,\t0.15],)\n",
    "\n",
    "E12 = ([59487.96,\t2.6,\t65.358,\t0.18],\n",
    "[59487.96,\t3.4,\t60.804,\t0.13],\n",
    "[59487.96,\t5.1,\t49.879,\t0.061],\n",
    "[59487.96,\t7,\t46.096,\t0.058],\n",
    "[59487.96,\t13.7,\t51.336,\t0.074],\n",
    "[59487.96,\t16.5,\t55.64,\t0.083],\n",
    "[59487.96,\t31.1,\t92.061,\t0.14],\n",
    "[59487.96,\t34.9,\t103.31,\t0.16],)\n",
    "\n",
    "E13 = (\t\t\t\n",
    "[59510.94,\t2.6,\t27.414,\t0.13],\n",
    "[59510.94,\t3.4,\t30.985,\t0.086],\n",
    "[59510.94,\t5.1,\t36.454,\t0.052],\n",
    "[59510.94,\t7,\t38.595,\t0.05],\t)\n",
    "\n",
    "E14 = (\t\t\t\n",
    "[59511.92,\t2.6,\t36.139,\t0.13],\n",
    "[59511.92,\t3.4,\t36.456,\t0.11],\n",
    "[59511.92,\t5.1,\t36.228,\t0.053],\n",
    "[59511.92,\t7,\t38.215,\t0.053],\n",
    "[59511.92,\t13.7,\t45.791,\t0.053],\n",
    "[59511.92,\t16.5,\t50.332,\t0.052],\n",
    "[59511.92,\t31.1,\t79.492,\t0.12],\n",
    "[59511.92,\t34.9,\t88.439,\t0.13],)\n",
    "\n",
    "E15 = (\t\t\t\n",
    "[59523.82,\t2.6,\t32.964,\t0.13],\n",
    "[59523.82,\t3.4,\t32.519,\t0.092],\n",
    "[59523.82,\t5.1,\t31.849,\t0.053],\n",
    "[59523.82,\t7,\t32.08,\t0.049],\n",
    "[59523.82,\t13.7,\t38.122,\t0.049],\n",
    "[59523.82,\t16.5,\t41.511,\t0.05],\n",
    "[59523.82,\t31.1,\t66.05,\t0.11],\n",
    "[59523.82,\t34.9,\t72.993,\t0.12],)\n",
    "\n",
    "E16 = (\t\t\t\n",
    "[59574.76,\t2.6,\t17.902,\t0.2],\n",
    "[59574.76,\t3.4,\t17.739,\t0.18],\n",
    "[59574.76,\t5.1,\t17.481,\t0.064],\n",
    "[59574.76,\t7,\t19.527,\t0.06],\n",
    "[59574.76,\t13.7,\t25.248,\t0.067],\n",
    "[59574.76,\t16.5,\t26.955,\t0.061],\n",
    "[59574.76,\t31.1,\t42.236,\t0.34],\n",
    "[59574.76,\t34.9,\t47.137,\t0.35],)\n",
    "\n",
    "E17 = (\t\t\t\n",
    "[59588.66,\t2.6,\t24.59,\t0.16],\n",
    "[59588.66,\t3.4,\t22.702,\t0.14],\n",
    "[59588.66,\t5.1,\t18.554,\t0.06],\n",
    "[59588.66,\t7,\t18.619,\t0.051],\n",
    "[59588.66,\t13.7,\t21.6,\t0.051],\n",
    "[59588.66,\t16.5,\t22.164,\t0.053],\n",
    "[59588.66,\t31.1,\t26.488,\t0.1],\n",
    "[59588.66,\t34.9,\t27.475,\t0.11],)\n",
    "\n",
    "E18 = (\t\t\t\n",
    "[59590.61,\t2.6,\t24.388,\t0.21],\n",
    "[59590.61,\t3.4,\t22.617,\t0.11],\n",
    "[59590.61,\t5.1,\t19.794,\t0.062],\n",
    "[59590.61,\t7,\t19.169,\t0.052],\n",
    "[59590.61,\t13.7,\t21.908,\t0.051],\n",
    "[59590.61,\t16.5,\t22.994,\t0.047],\n",
    "[59590.61,\t31.1,\t28.341,\t0.11],\n",
    "[59590.61,\t34.9,\t29.746,\t0.12],)\n",
    "\n",
    "E19 = (\t\t\t\n",
    "[59595.61,\t2.6,\t23.163,\t0.16],\n",
    "[59595.61,\t3.4,\t20.742,\t0.13],\n",
    "[59595.61,\t5.1,\t17.488,\t0.056],\n",
    "[59595.61,\t7,\t17.871,\t0.057],\n",
    "[59595.61,\t13.7,\t20.702,\t0.05],\n",
    "[59595.61,\t16.5,\t21.855,\t0.048],\n",
    "[59595.61,\t31.1,\t27.116,\t0.11],\n",
    "[59595.61,\t34.9,\t28.356,\t0.11],)\n",
    "\n",
    "E20 = (\t\t\t\n",
    "[60034.47,\t2.6,\t3.295,\t0.17],\n",
    "[60034.47,\t3.4,\t3.342,\t0.12],\n",
    "[60034.47,\t5.1,\t2.765,\t0.052],\n",
    "[60034.47,\t7,\t2.347,\t0.049],\n",
    "[60034.47,\t13.7,\t1.672,\t0.05],\n",
    "[60034.47,\t16.5,\t1.526,\t0.051],\n",
    "[60034.47,\t31.1,\t0.87,\t0.1],\n",
    "[60034.47,\t34.9,\t0.862,\t0.11],)\n",
    "\n",
    "E21 = ([60049.34,\t2.6,\t2.777,\t0.17],\n",
    "[60049.34,\t3.4,\t2.82,\t0.078],\n",
    "[60049.34,\t5.1,\t2.684,\t0.053],\n",
    "[60049.34,\t7,\t2.373,\t0.046],\n",
    "[60049.34,\t13.7,\t1.67,\t0.048],\n",
    "[60049.34,\t16.5,\t1.541,\t0.048],\n",
    "[60049.34,\t31.1,\t1.077,\t0.11],\n",
    "[60049.34,\t34.9,\t1.113,\t0.12],)\n",
    "\n",
    "E22 = (\t\t\t\n",
    "[60131.12,\t2.6,\t1.808,\t0.017],\n",
    "[60131.12,\t3.4,\t1.999,\t0.014],\n",
    "[60131.12,\t5.1,\t2.163,\t0.016],\n",
    "[60131.12,\t7,\t2.336,\t0.018],\n",
    "[60131.12,\t13.7,\t1.933,\t0.02],\n",
    "[60131.12,\t16.5,\t1.923,\t0.022],\n",
    "[60131.12,\t31.1,\t1.336,\t0.066],\n",
    "[60131.12,\t34.9,\t1.306,\t0.079],)"
   ]
  },
  {
   "cell_type": "code",
   "execution_count": 5,
   "id": "f47cf892-761e-495f-8994-b03c6325ebda",
   "metadata": {},
   "outputs": [],
   "source": [
    "df1 =  pd.DataFrame(E1, columns = [\"MJD\", \"Freq (GHz)\", \"Flux Density (mJy)\", \"Uncertainty (mJy)\"])\n",
    "\n",
    "df2 =  pd.DataFrame(E2, columns = [\"MJD\", \"Freq (GHz)\", \"Flux Density (mJy)\", \"Uncertainty (mJy)\"])\n",
    "\n",
    "df3 =  pd.DataFrame(E3, columns = [\"MJD\", \"Freq (GHz)\", \"Flux Density (mJy)\", \"Uncertainty (mJy)\"])\n",
    "\n",
    "df4 =  pd.DataFrame(E4, columns = [\"MJD\", \"Freq (GHz)\", \"Flux Density (mJy)\", \"Uncertainty (mJy)\"])\n",
    "\n",
    "df5 =  pd.DataFrame(E5, columns = [\"MJD\", \"Freq (GHz)\", \"Flux Density (mJy)\", \"Uncertainty (mJy)\"])\n",
    "\n",
    "df6 =  pd.DataFrame(E6, columns = [\"MJD\", \"Freq (GHz)\", \"Flux Density (mJy)\", \"Uncertainty (mJy)\"])\n",
    "\n",
    "df7 =  pd.DataFrame(E7, columns = [\"MJD\", \"Freq (GHz)\", \"Flux Density (mJy)\", \"Uncertainty (mJy)\"])\n",
    "\n",
    "df8 =  pd.DataFrame(E8, columns = [\"MJD\", \"Freq (GHz)\", \"Flux Density (mJy)\", \"Uncertainty (mJy)\"])\n",
    "\n",
    "df9 =  pd.DataFrame(E9, columns = [\"MJD\", \"Freq (GHz)\", \"Flux Density (mJy)\", \"Uncertainty (mJy)\"])\n",
    "\n",
    "df10 =  pd.DataFrame(E10, columns = [\"MJD\", \"Freq (GHz)\", \"Flux Density (mJy)\", \"Uncertainty (mJy)\"])\n",
    "\n",
    "df11 =  pd.DataFrame(E11, columns = [\"MJD\", \"Freq (GHz)\", \"Flux Density (mJy)\", \"Uncertainty (mJy)\"])\n",
    "\n",
    "df12 =  pd.DataFrame(E12, columns = [\"MJD\", \"Freq (GHz)\", \"Flux Density (mJy)\", \"Uncertainty (mJy)\"])\n",
    "\n",
    "df13 =  pd.DataFrame(E13, columns = [\"MJD\", \"Freq (GHz)\", \"Flux Density (mJy)\", \"Uncertainty (mJy)\"])\n",
    "\n",
    "df14 =  pd.DataFrame(E14, columns = [\"MJD\", \"Freq (GHz)\", \"Flux Density (mJy)\", \"Uncertainty (mJy)\"])\n",
    "\n",
    "df15 =  pd.DataFrame(E15, columns = [\"MJD\", \"Freq (GHz)\", \"Flux Density (mJy)\", \"Uncertainty (mJy)\"])\n",
    "\n",
    "df16 =  pd.DataFrame(E16, columns = [\"MJD\", \"Freq (GHz)\", \"Flux Density (mJy)\", \"Uncertainty (mJy)\"])\n",
    "\n",
    "df17 =  pd.DataFrame(E17, columns = [\"MJD\", \"Freq (GHz)\", \"Flux Density (mJy)\", \"Uncertainty (mJy)\"])\n",
    "\n",
    "df18 =  pd.DataFrame(E18, columns = [\"MJD\", \"Freq (GHz)\", \"Flux Density (mJy)\", \"Uncertainty (mJy)\"])\n",
    "\n",
    "df19 =  pd.DataFrame(E19, columns = [\"MJD\", \"Freq (GHz)\", \"Flux Density (mJy)\", \"Uncertainty (mJy)\"])\n",
    "\n",
    "df20 =  pd.DataFrame(E20, columns = [\"MJD\", \"Freq (GHz)\", \"Flux Density (mJy)\", \"Uncertainty (mJy)\"])\n",
    "\n",
    "df21 =  pd.DataFrame(E21, columns = [\"MJD\", \"Freq (GHz)\", \"Flux Density (mJy)\", \"Uncertainty (mJy)\"])\n",
    "\n",
    "df22 =  pd.DataFrame(E22, columns = [\"MJD\", \"Freq (GHz)\", \"Flux Density (mJy)\", \"Uncertainty (mJy)\"])"
   ]
  },
  {
   "cell_type": "code",
   "execution_count": 6,
   "id": "ead610b1-052c-4ab5-a33b-d200df4ca2d3",
   "metadata": {},
   "outputs": [
    {
     "data": {
      "image/png": "[encoded data removed]",
      "text/plain": [
       "<Figure size 1200x1200 with 24 Axes>"
      ]
     },
     "metadata": {},
     "output_type": "display_data"
    }
   ],
   "source": [
    "dfs = [df1, df2, df3, df4, df5, df6, df7, df8, df9, df10, df11, df12, df13, df14, df15, df16, df17, df18, df19, df20, df21, df22]\n",
    "\n",
    "annotations = ['Day 5.04', 'Day 6.08', 'Day 9.99','Day 12.01', 'Day 12.99', 'Day 17.01','Day 27.01', 'Day 29.02', 'Day 32.04','Day 33.99',\n",
    "               'Day 36.01', 'Day 53.96','Day 76.94', 'Day 77.92', 'Day 89.82','Day 140.76', 'Day 154.66', \n",
    "               'Day 156.61','Day 161.61', 'Day 600.47', 'Day 615.34', 'Day 697.12']\n",
    "\n",
    "\n",
    "fig, ax = plt.subplots(6, 4, sharex='all', sharey='all')\n",
    "fig.set_size_inches(12, 12)\n",
    "fig.subplots_adjust(hspace=0, wspace=0)\n",
    "\n",
    "\n",
    "for idx, (df, label) in enumerate(zip(dfs, annotations)):\n",
    "    row, col = divmod(idx, 4)\n",
    "    mask = df[\"Flux Density (mJy)\"] > 3 * df[\"Uncertainty (mJy)\"] #don't show the non-detections\n",
    "    if mask.any():\n",
    "        ax[row,col].errorbar(df[\"Freq (GHz)\"][mask], df[\"Flux Density (mJy)\"][mask], yerr=df[\"Uncertainty (mJy)\"][mask], fmt='^')\n",
    "        ax[row,col].set_xscale('log')\n",
    "        ax[row,col].set_yscale('log')\n",
    "        ax[row,col].set_xticks([1, 5, 10, 50], labels=['1', '5', '10', '50'])\n",
    "        ax[row,col].set_yticks([.1, 1,10, 100], labels=['0.1','1.0', '10.0', '100.0'])\n",
    "        ax[row,col].annotate(label, xy=(65, 75), xycoords='axes points', size=9, ha='right', va='top', bbox=dict(boxstyle='round', fc='w', ec=\"w\"))\n",
    "        ax[row,col].tick_params(axis='both', which='both', direction='in', top=True, right=True)\n",
    "\n",
    "fig.supxlabel(\"Frequency (GHz)\")\n",
    "fig.supylabel(\"Flux Density (mJy)\")\n",
    "plt.show();"
   ]
  },
  {
   "cell_type": "markdown",
   "id": "b84cfb65-8d90-44d0-9713-bd67fc845008",
   "metadata": {},
   "source": [
    "# Now to find the alpha"
   ]
  },
  {
   "cell_type": "code",
   "execution_count": 7,
   "id": "5126a38a-66cf-4eae-bbd3-19f9a3a1e380",
   "metadata": {},
   "outputs": [],
   "source": [
    "def error(err, freq, flux):\n",
    "    yerr = []\n",
    "    for i in range(len(freq)):\n",
    "        if freq[i] < 10:\n",
    "            pl = np.sqrt(err[i]**2 + (flux[i]*0.05)**2)\n",
    "            yerr.append(pl)\n",
    "        else:\n",
    "            pl =np.sqrt(err[i]**2 + (flux[i]*0.1)**2)\n",
    "            yerr.append(pl)\n",
    "\n",
    "    return(yerr)\n",
    "\n"
   ]
  },
  {
   "cell_type": "markdown",
   "id": "2a02804a-073e-464d-867d-6a8b36242a8e",
   "metadata": {},
   "source": [
    "## Day 5.04 (df1)"
   ]
  },
  {
   "cell_type": "code",
   "execution_count": 8,
   "id": "91bf13ae-ee30-4105-877e-f85de81b5bcc",
   "metadata": {},
   "outputs": [],
   "source": [
    "#(work for anything with 3+ points)\n",
    "mask = df1['Flux Density (mJy)'] > 3 * df1['Uncertainty (mJy)']  # apply detection threshold\n",
    "\n",
    "x1 = df1['Freq (GHz)'][mask].values.tolist()\n",
    "y1 = df1['Flux Density (mJy)'][mask].values.tolist()\n",
    "yerr1 = df1['Uncertainty (mJy)'][mask].values.tolist()\n"
   ]
  },
  {
   "cell_type": "code",
   "execution_count": 9,
   "id": "7c532be6-6c3b-4db7-9768-eb920f9199b6",
   "metadata": {},
   "outputs": [],
   "source": [
    "yerr1 = error(yerr1, x1, y1)"
   ]
  },
  {
   "cell_type": "code",
   "execution_count": 10,
   "id": "2ac0cf6d-a669-4c68-8034-4be72975c14c",
   "metadata": {},
   "outputs": [
    {
     "data": {
      "text/plain": [
       "<PowerLaw1D(amplitude=5.05728876, x_0=2.97513314, alpha=-1.07503188)>"
      ]
     },
     "execution_count": 10,
     "metadata": {},
     "output_type": "execute_result"
    }
   ],
   "source": [
    "PL1 =  PowerLaw1D(amplitude = y1[0], x_0= x1[0], alpha= .5) \n",
    "\n",
    "#Initialize fitters\n",
    "#setting calc_uncertainties=True to output errors on measurement \n",
    "\n",
    "fit1 = fitting.LevMarLSQFitter(calc_uncertainties=True)\n",
    "\n",
    "#Fit the data w/o weights\n",
    "fit_model1 = fit1(PL1, x1, y1)\n",
    "\n",
    "\n",
    "#weight is 1/error^2\n",
    "y_weight1 = 1/ (np.power(yerr1, 2))  \n",
    "\n",
    "# fit the data using the uncertainties as weights\n",
    "fit_model_weights1 = fit1(PL1, x1, y1, weights=y_weight1)\n",
    "\n",
    "fit_model_weights1\n"
   ]
  },
  {
   "cell_type": "code",
   "execution_count": 11,
   "id": "14f02a58-aeac-4e45-969a-f5d29dd17a90",
   "metadata": {},
   "outputs": [
    {
     "data": {
      "text/plain": [
       "{'nfev': 15,\n",
       " 'fvec': array([-4.46109608,  6.401531  , -3.87847045, -4.7682101 ,  0.34920347,\n",
       "         0.9661251 ,  2.08883533,  2.24665497]),\n",
       " 'fjac': array([[ 3.72035653e+01,  1.47427141e+01, -2.03620171e+01,\n",
       "          2.01704964e-01,  4.37806397e-02,  4.74393449e-02,\n",
       "          4.73427491e-02,  4.72197158e-02],\n",
       "        [ 1.47427141e+01,  3.19014993e+01, -7.86634342e-15,\n",
       "          5.28929152e-01,  2.09492424e-01,  2.55413972e-01,\n",
       "          3.51545481e-01,  3.68164412e-01],\n",
       "        [-2.03620171e+01,  1.44097407e-15, -1.64126080e-15,\n",
       "          3.14677610e-01,  2.71324683e-01,  4.13272565e-01,\n",
       "          5.01173625e-01,  5.28063885e-01]]),\n",
       " 'ipvt': array([1, 2, 0], dtype=int32),\n",
       " 'qtf': array([5.59886745e-04, 2.06142722e-06, 5.63466416e+00]),\n",
       " 'message': 'Both actual and predicted relative reductions in the sum of squares\\n  are at most 0.000000',\n",
       " 'ierr': 1,\n",
       " 'param_jac': None,\n",
       " 'param_cov': array([[ 3.71231489e+29,  2.03180041e+29, -1.67683326e+13],\n",
       "        [ 2.03180041e+29,  1.11203198e+29, -9.17753641e+12],\n",
       "        [-1.67683326e+13, -9.17753641e+12,  1.74001922e-03]]),\n",
       " 'njev': 7,\n",
       " 'cov_x': array([[ 3.71231489e+29,  2.03180041e+29, -1.67683326e+13],\n",
       "        [ 2.03180041e+29,  1.11203198e+29, -9.17753641e+12],\n",
       "        [-1.67683326e+13, -9.17753641e+12,  1.74001922e-03]])}"
      ]
     },
     "execution_count": 11,
     "metadata": {},
     "output_type": "execute_result"
    }
   ],
   "source": [
    "fit1.fit_info"
   ]
  },
  {
   "cell_type": "code",
   "execution_count": 12,
   "id": "669b5d57-8eae-4621-a0f4-5356929b8493",
   "metadata": {},
   "outputs": [
    {
     "name": "stdout",
     "output_type": "stream",
     "text": [
      "The error/standard deviation is 0.1539634535615218\n"
     ]
    }
   ],
   "source": [
    "#taking fvec\n",
    "fvec1 = np.array([-4.46109608,  6.401531  , -3.87847045, -4.7682101 ,  0.34920347,\n",
    "         0.9661251 ,  2.08883533,  2.24665497])\n",
    "var1 = np.var(fvec1)\n",
    "\n",
    "#taking cov_x\n",
    "cov_x1 = np.array([[ 3.71231489e+29,  2.03180041e+29, -1.67683326e+13],\n",
    "        [ 2.03180041e+29,  1.11203198e+29, -9.17753641e+12],\n",
    "        [-1.67683326e+13, -9.17753641e+12,  1.74001922e-03]])\n",
    "\n",
    "def stand(cov):\n",
    "    diag = np.diagonal(cov)\n",
    "    sd1 = np.sqrt(diag[0])\n",
    "    sd2 = np.sqrt(diag[1])\n",
    "    sd3 = np.sqrt(diag[2])\n",
    "    return(sd1,sd2,sd3)\n",
    "\n",
    "diag1 = stand(cov_x1*var1) \n",
    "\n",
    "#The last diagonal element corresponds to alpha\n",
    "#So here we are calculating the standard deviation on the slope\n",
    "\n",
    "#print(diag)  #prints standard deviations of all three variances\n",
    "\n",
    "print('The error/standard deviation is', diag1[2]) #Just showing the standard deviation on the slope\n",
    "\n"
   ]
  },
  {
   "cell_type": "code",
   "execution_count": 13,
   "id": "753f3d15-002e-40ed-b64a-1dff743b579e",
   "metadata": {},
   "outputs": [
    {
     "data": {
      "image/png": "[encoded data removed]",
      "text/plain": [
       "<Figure size 640x480 with 1 Axes>"
      ]
     },
     "metadata": {},
     "output_type": "display_data"
    }
   ],
   "source": [
    "#plotting to check\n",
    "fig,ax = plt.subplots()\n",
    "mask = df1['Flux Density (mJy)'] > 3 * df1['Uncertainty (mJy)']  # apply detection threshold\n",
    "if mask.any():  # proceed only if at least one detection\n",
    "    ax.errorbar(df1['Freq (GHz)'][mask], df1['Flux Density (mJy)'][mask], yerr=yerr1, fmt='^')\n",
    "    ax.set_xscale('log')\n",
    "    ax.set_xticks([1, 5, 10, 50], labels=['1', '5', '10', '50'])\n",
    "    ax.set_yscale('log')\n",
    "    ax.set_yticks([1, 5, 10, 20, 50], labels=['1', '5', '10', '20', '50'])\n",
    "    ax.annotate('Day 5.04', xy=(90, 120), xycoords='axes points', size=9, ha='right', va='top', bbox=dict(boxstyle='round', fc='w', ec=\"w\"))\n",
    "    ax.tick_params(axis='both', which='both', direction='in', top=True, right=True)\n",
    "    ax.plot(df1['Freq (GHz)'][mask], fit_model_weights1(df1['Freq (GHz)'][mask]), 'r--')\n",
    "    ax.annotate('${\\u03B1 = 1.075 \\\\pm 0.154}$', xy=(90, 100), xycoords='axes points', size=9, ha='right', va='top', bbox=dict(boxstyle='round', fc='w', ec=\"w\"))\n",
    "\n",
    "plt.show();\n"
   ]
  },
  {
   "cell_type": "markdown",
   "id": "0ce69f64-bc27-4273-97e1-cb9b9b5e78ec",
   "metadata": {},
   "source": [
    "## Day 6.08 (df2)"
   ]
  },
  {
   "cell_type": "code",
   "execution_count": 14,
   "id": "1bc5e657-9cd2-42db-b872-b7ac06f20d80",
   "metadata": {},
   "outputs": [],
   "source": [
    "#(work for anything with 3+ points)\n",
    "mask = df2['Flux Density (mJy)'] > 3 * df2['Uncertainty (mJy)']  # apply detection threshold\n",
    "\n",
    "x2 = df2['Freq (GHz)'][mask].values.tolist()\n",
    "y2 = df2['Flux Density (mJy)'][mask].values.tolist()\n",
    "yerr2 = df2['Uncertainty (mJy)'][mask].values.tolist()\n"
   ]
  },
  {
   "cell_type": "code",
   "execution_count": 15,
   "id": "504d94d2-e375-4576-9201-3a4b24175f05",
   "metadata": {},
   "outputs": [],
   "source": [
    "yerr2 = error(yerr2, x2, y2)"
   ]
  },
  {
   "cell_type": "code",
   "execution_count": 16,
   "id": "0bcff897-02a4-49ca-a24d-5d491acb0455",
   "metadata": {},
   "outputs": [
    {
     "data": {
      "text/plain": [
       "<PowerLaw1D(amplitude=424.21494489, x_0=843.125074, alpha=-0.53353308)>"
      ]
     },
     "execution_count": 16,
     "metadata": {},
     "output_type": "execute_result"
    }
   ],
   "source": [
    "PL2 =  PowerLaw1D(amplitude = y2[0], x_0= x2[0], alpha= -3.5) \n",
    "\n",
    "#Initialize fitters\n",
    "#setting calc_uncertainties=True to output errors on measurement \n",
    "\n",
    "fit2 = fitting.LevMarLSQFitter(calc_uncertainties=True)\n",
    "\n",
    "#Fit the data w/o weights\n",
    "fit_model2 = fit2(PL2, x2, y2)\n",
    "\n",
    "\n",
    "#weight is 1/error^2\n",
    "y_weight2 = 1/ (np.power(yerr2, 2))  \n",
    "\n",
    "# fit the data using the uncertainties as weights\n",
    "fit_model_weights2 = fit2(PL2, x2, y2, weights=y_weight2)\n",
    "\n",
    "fit_model_weights2\n"
   ]
  },
  {
   "cell_type": "code",
   "execution_count": 17,
   "id": "acb871ea-6dac-4d3e-853d-cfd316e85ac8",
   "metadata": {},
   "outputs": [
    {
     "data": {
      "text/plain": [
       "{'nfev': 39,\n",
       " 'fvec': array([ 1.42686625, -0.70860911, -2.01842999, -1.71409143,  0.36740618,\n",
       "         0.59833359,  1.40494398,  1.41598542]),\n",
       " 'fjac': array([[-1.74901780e+02, -7.45644279e-02,  2.00164475e-02,\n",
       "          2.29096813e-01,  6.61764054e-02,  6.74635823e-02,\n",
       "          6.86162184e-02,  6.47483690e-02],\n",
       "        [-7.45644279e-02, -6.91934735e-03,  1.85746417e-03,\n",
       "          4.26976485e-01,  2.57479310e-01,  3.08615791e-01,\n",
       "          5.13527679e-01,  5.26902034e-01],\n",
       "        [ 2.00164475e-02,  1.85746417e-03,  9.71253940e-19,\n",
       "         -5.58145572e-01, -1.67443672e-01, -3.34887343e-01,\n",
       "         -2.23258229e-01, -6.69774687e-01]]),\n",
       " 'ipvt': array([2, 0, 1], dtype=int32),\n",
       " 'qtf': array([-2.02620021e-05, -2.38465345e-05,  1.67609501e+00]),\n",
       " 'message': 'Both actual and predicted relative reductions in the sum of squares\\n  are at most 0.000000',\n",
       " 'ierr': 1,\n",
       " 'param_jac': None,\n",
       " 'param_cov': array([[7.63914998e+34, 2.84570400e+35, 6.17366810e+15],\n",
       "        [2.84570400e+35, 1.06006968e+36, 2.29978886e+16],\n",
       "        [6.17366810e+15, 2.29978886e+16, 4.32778321e-03]]),\n",
       " 'njev': 27,\n",
       " 'cov_x': array([[7.63914998e+34, 2.84570400e+35, 6.17366810e+15],\n",
       "        [2.84570400e+35, 1.06006968e+36, 2.29978886e+16],\n",
       "        [6.17366810e+15, 2.29978886e+16, 4.32778321e-03]])}"
      ]
     },
     "execution_count": 17,
     "metadata": {},
     "output_type": "execute_result"
    }
   ],
   "source": [
    "fit2.fit_info"
   ]
  },
  {
   "cell_type": "code",
   "execution_count": 18,
   "id": "6b57ede1-3cdf-498c-9bb0-1ef40f16409b",
   "metadata": {},
   "outputs": [
    {
     "name": "stdout",
     "output_type": "stream",
     "text": [
      "The error/standard deviation is 0.08686334692002702\n"
     ]
    }
   ],
   "source": [
    "#taking fvec\n",
    "fvec2 = np.array([ 1.42686625, -0.70860911, -2.01842999, -1.71409143,  0.36740618,\n",
    "         0.59833359,  1.40494398,  1.41598542])\n",
    "var2 = np.var(fvec2)\n",
    "\n",
    "#taking cov_x\n",
    "cov_x2 = np.array([[7.63914998e+34, 2.84570400e+35, 6.17366810e+15],\n",
    "        [2.84570400e+35, 1.06006968e+36, 2.29978886e+16],\n",
    "        [6.17366810e+15, 2.29978886e+16, 4.32778321e-03]])\n",
    "\n",
    "def stand(cov):\n",
    "    diag = np.diagonal(cov)\n",
    "    sd1 = np.sqrt(diag[0])\n",
    "    sd2 = np.sqrt(diag[1])\n",
    "    sd3 = np.sqrt(diag[2])\n",
    "    return(sd1,sd2,sd3)\n",
    "\n",
    "diag2 = stand(cov_x2*var2) \n",
    "\n",
    "#The last diagonal element corresponds to alpha\n",
    "#So here we are calculating the standard deviation on the slope\n",
    "\n",
    "#print(diag)  #prints standard deviations of all three variances\n",
    "\n",
    "print('The error/standard deviation is', diag2[2]) #Just showing the standard deviation on the slope\n",
    "\n"
   ]
  },
  {
   "cell_type": "code",
   "execution_count": 19,
   "id": "d38099bd-5a52-4f3d-829c-440316684c30",
   "metadata": {},
   "outputs": [
    {
     "data": {
      "image/png": "[encoded data removed]",
      "text/plain": [
       "<Figure size 640x480 with 1 Axes>"
      ]
     },
     "metadata": {},
     "output_type": "display_data"
    }
   ],
   "source": [
    "#plotting to check\n",
    "fig,ax = plt.subplots()\n",
    "mask = df2['Flux Density (mJy)'] > 3 * df2['Uncertainty (mJy)']  # apply detection threshold\n",
    "if mask.any():  # proceed only if at least one detection\n",
    "    ax.errorbar(df2['Freq (GHz)'][mask], df2['Flux Density (mJy)'][mask], yerr=yerr2, fmt='^')\n",
    "    ax.set_xscale('log')\n",
    "    ax.set_xticks([1, 5, 10, 50], labels=['1', '5', '10', '50'])\n",
    "    ax.set_yscale('log')\n",
    "    ax.set_yticks([1, 5, 10, 20, 50], labels=['1', '5', '10', '20', '50'])\n",
    "    ax.annotate('Day 6.08', xy=(90, 120), xycoords='axes points', size=9, ha='right', va='top', bbox=dict(boxstyle='round', fc='w', ec=\"w\"))\n",
    "    ax.tick_params(axis='both', which='both', direction='in', top=True, right=True)\n",
    "    ax.plot(df2['Freq (GHz)'][mask], fit_model_weights2(df2['Freq (GHz)'][mask]), 'r--')\n",
    "    ax.annotate('${\\u03B1 = 0.534 \\\\pm 0.087}$', xy=(90, 100), xycoords='axes points', size=9, ha='right', va='top', bbox=dict(boxstyle='round', fc='w', ec=\"w\"))\n",
    "\n",
    "plt.show();\n"
   ]
  },
  {
   "cell_type": "markdown",
   "id": "0a024b51-6804-4eff-8188-6c6e9dc08a02",
   "metadata": {},
   "source": [
    "## dAY 9.99 (df3)"
   ]
  },
  {
   "cell_type": "code",
   "execution_count": 20,
   "id": "65ac3ab6-d436-4c54-9899-c1463c19c6c9",
   "metadata": {},
   "outputs": [],
   "source": [
    "#(work for anything with 3+ points)\n",
    "mask = df3['Flux Density (mJy)'] > 3 * df3['Uncertainty (mJy)']  # apply detection threshold\n",
    "\n",
    "x3 = df3['Freq (GHz)'][mask].values.tolist()\n",
    "y3 = df3['Flux Density (mJy)'][mask].values.tolist()\n",
    "yerr3 = df3['Uncertainty (mJy)'][mask].values.tolist()\n"
   ]
  },
  {
   "cell_type": "code",
   "execution_count": 21,
   "id": "eb7b72b8-4dcd-4a46-be3e-829dc5ff0783",
   "metadata": {},
   "outputs": [],
   "source": [
    "yerr3 = error(yerr3, x3, y3)"
   ]
  },
  {
   "cell_type": "code",
   "execution_count": 22,
   "id": "8f3f0788-e732-4c27-bbce-4e63550f5e53",
   "metadata": {},
   "outputs": [
    {
     "data": {
      "text/plain": [
       "<PowerLaw1D(amplitude=24.31926686, x_0=929.9606829, alpha=0.18576418)>"
      ]
     },
     "execution_count": 22,
     "metadata": {},
     "output_type": "execute_result"
    }
   ],
   "source": [
    "PL3 =  PowerLaw1D(amplitude = y3[0], x_0= x3[0], alpha= -3.5) \n",
    "\n",
    "#Initialize fitters\n",
    "#setting calc_uncertainties=True to output errors on measurement \n",
    "\n",
    "fit3 = fitting.LevMarLSQFitter(calc_uncertainties=True)\n",
    "\n",
    "#Fit the data w/o weights\n",
    "fit_model3 = fit3(PL3, x3, y3)\n",
    "\n",
    "\n",
    "#weight is 1/error^2\n",
    "y_weight3 = 1/ (np.power(yerr3, 2))  \n",
    "\n",
    "# fit the data using the uncertainties as weights\n",
    "fit_model_weights3 = fit3(PL3, x3, y3, weights=y_weight3)\n",
    "\n",
    "fit_model_weights3\n"
   ]
  },
  {
   "cell_type": "code",
   "execution_count": 23,
   "id": "34a5fc6e-877d-42aa-aecd-7ba1b5c9a0a8",
   "metadata": {},
   "outputs": [
    {
     "data": {
      "text/plain": [
       "{'nfev': 64,\n",
       " 'fvec': array([ 0.29665376, -0.36292261, -0.31771727,  0.19303604,  0.2354447 ,\n",
       "         0.21082609, -0.10405179, -0.20741834]),\n",
       " 'fjac': array([[-6.59390917e+01, -5.16854875e-01, -2.51004705e-03,\n",
       "          5.19765396e-01,  1.48728835e-01,  1.43498089e-01,\n",
       "          1.01622444e-01,  8.92966639e-02],\n",
       "        [-5.16854875e-01,  6.26229446e-02,  3.04121224e-04,\n",
       "         -4.74698358e-01, -3.45505656e-01, -4.01294192e-01,\n",
       "         -4.87743409e-01, -4.68538844e-01],\n",
       "        [-2.51004705e-03,  3.04121224e-04,  3.51387001e-19,\n",
       "          5.39961295e-01,  3.47117975e-01,  2.69980647e-01,\n",
       "          3.85686639e-01,  2.31411984e-01]]),\n",
       " 'ipvt': array([2, 0, 1], dtype=int32),\n",
       " 'qtf': array([-1.69484023e-06, -3.16574234e-06,  5.08635162e-01]),\n",
       " 'message': 'Both actual and predicted relative reductions in the sum of squares\\n  are at most 0.000000',\n",
       " 'ierr': 1,\n",
       " 'param_jac': None,\n",
       " 'param_cov': array([[ 1.91009562e+32, -3.93316225e+34,  6.17319787e+14],\n",
       "        [-3.93316225e+34,  8.09894812e+36, -1.27115044e+17],\n",
       "        [ 6.17319787e+14, -1.27115044e+17,  1.78920414e-02]]),\n",
       " 'njev': 41,\n",
       " 'cov_x': array([[ 1.91009562e+32, -3.93316225e+34,  6.17319787e+14],\n",
       "        [-3.93316225e+34,  8.09894812e+36, -1.27115044e+17],\n",
       "        [ 6.17319787e+14, -1.27115044e+17,  1.78920414e-02]])}"
      ]
     },
     "execution_count": 23,
     "metadata": {},
     "output_type": "execute_result"
    }
   ],
   "source": [
    "fit3.fit_info"
   ]
  },
  {
   "cell_type": "code",
   "execution_count": 24,
   "id": "c20d4630-3d1b-41ed-9474-f5c97e11302b",
   "metadata": {},
   "outputs": [
    {
     "name": "stdout",
     "output_type": "stream",
     "text": [
      "The error/standard deviation is 0.03381473656287069\n"
     ]
    }
   ],
   "source": [
    "#taking fvec\n",
    "fvec3 = np.array([ 0.29665376, -0.36292261, -0.31771727,  0.19303604,  0.2354447 ,\n",
    "         0.21082609, -0.10405179, -0.20741834])\n",
    "var3 = np.var(fvec3)\n",
    "\n",
    "#taking cov_x\n",
    "cov_x3 = np.array([[ 1.91009562e+32, -3.93316225e+34,  6.17319787e+14],\n",
    "        [-3.93316225e+34,  8.09894812e+36, -1.27115044e+17],\n",
    "        [ 6.17319787e+14, -1.27115044e+17,  1.78920414e-02]])\n",
    "\n",
    "def stand(cov):\n",
    "    diag = np.diagonal(cov)\n",
    "    sd1 = np.sqrt(diag[0])\n",
    "    sd2 = np.sqrt(diag[1])\n",
    "    sd3 = np.sqrt(diag[2])\n",
    "    return(sd1,sd2,sd3)\n",
    "\n",
    "diag3 = stand(cov_x3*var3) \n",
    "\n",
    "#The last diagonal element corresponds to alpha\n",
    "#So here we are calculating the standard deviation on the slope\n",
    "\n",
    "#print(diag)  #prints standard deviations of all three variances\n",
    "\n",
    "print('The error/standard deviation is', diag3[2]) #Just showing the standard deviation on the slope\n",
    "\n"
   ]
  },
  {
   "cell_type": "code",
   "execution_count": 25,
   "id": "305f1f0e-0798-449d-a3d1-c28fdc7efa4d",
   "metadata": {},
   "outputs": [
    {
     "data": {
      "image/png": "[encoded data removed]",
      "text/plain": [
       "<Figure size 640x480 with 1 Axes>"
      ]
     },
     "metadata": {},
     "output_type": "display_data"
    }
   ],
   "source": [
    "#plotting to check\n",
    "fig,ax = plt.subplots()\n",
    "mask = df3['Flux Density (mJy)'] > 3 * df3['Uncertainty (mJy)']  # apply detection threshold\n",
    "if mask.any():  # proceed only if at least one detection\n",
    "    ax.errorbar(df3['Freq (GHz)'][mask], df3['Flux Density (mJy)'][mask], yerr=yerr3, fmt='^')\n",
    "    ax.set_xscale('log')\n",
    "    ax.set_xticks([1, 5, 10, 50], labels=['1', '5', '10', '50'])\n",
    "    ax.set_yscale('log')\n",
    "    ax.set_yticks([1, 5, 10, 20, 50], labels=['1', '5', '10', '20', '50'])\n",
    "    ax.annotate('Day 9.99', xy=(90, 120), xycoords='axes points', size=9, ha='right', va='top', bbox=dict(boxstyle='round', fc='w', ec=\"w\"))\n",
    "    ax.tick_params(axis='both', which='both', direction='in', top=True, right=True)\n",
    "    ax.plot(df3['Freq (GHz)'][mask], fit_model_weights3(df3['Freq (GHz)'][mask]), 'r--')\n",
    "    ax.annotate('${\\u03B1 = -0.186 \\\\pm 0.034}$', xy=(90, 100), xycoords='axes points', size=9, ha='right', va='top', bbox=dict(boxstyle='round', fc='w', ec=\"w\"))\n",
    "\n",
    "plt.show();\n"
   ]
  },
  {
   "cell_type": "markdown",
   "id": "cee15f90-e694-4899-a218-c29d975cf08f",
   "metadata": {},
   "source": [
    "## Day 12.01 (df4)"
   ]
  },
  {
   "cell_type": "code",
   "execution_count": 26,
   "id": "42e735d0-3f65-4f20-91fe-7008d0265ea3",
   "metadata": {},
   "outputs": [],
   "source": [
    "#(work for anything with 3+ points)\n",
    "mask = df4['Flux Density (mJy)'] > 3 * df4['Uncertainty (mJy)']  # apply detection threshold\n",
    "\n",
    "x4 = df4['Freq (GHz)'][mask].values.tolist()\n",
    "y4 = df4['Flux Density (mJy)'][mask].values.tolist()\n",
    "yerr4 = df4['Uncertainty (mJy)'][mask].values.tolist()\n"
   ]
  },
  {
   "cell_type": "code",
   "execution_count": 27,
   "id": "b1407771-a908-45a4-bee3-375eec95f93f",
   "metadata": {},
   "outputs": [],
   "source": [
    "yerr4 = error(yerr4, x4, y4)"
   ]
  },
  {
   "cell_type": "code",
   "execution_count": 28,
   "id": "80822154-0882-40d9-9d93-90c9e087adaf",
   "metadata": {},
   "outputs": [
    {
     "data": {
      "text/plain": [
       "<PowerLaw1D(amplitude=9.51560247, x_0=945.90711151, alpha=0.35785324)>"
      ]
     },
     "execution_count": 28,
     "metadata": {},
     "output_type": "execute_result"
    }
   ],
   "source": [
    "PL4 =  PowerLaw1D(amplitude = y4[0], x_0= x4[0], alpha= -3) \n",
    "\n",
    "#Initialize fitters\n",
    "#setting calc_uncertainties=True to output errors on measurement \n",
    "\n",
    "fit4 = fitting.LevMarLSQFitter(calc_uncertainties=True)\n",
    "\n",
    "#Fit the data w/o weights\n",
    "fit_model4 = fit4(PL4, x4, y4)\n",
    "\n",
    "\n",
    "#weight is 1/error^2\n",
    "y_weight4 = 1/ (np.power(yerr4, 2))  \n",
    "\n",
    "# fit the data using the uncertainties as weights\n",
    "fit_model_weights4 = fit4(PL4, x4, y4, weights=y_weight4)\n",
    "\n",
    "fit_model_weights4\n"
   ]
  },
  {
   "cell_type": "code",
   "execution_count": 29,
   "id": "6fd5cebc-3379-444a-91ec-4698e9a77987",
   "metadata": {},
   "outputs": [
    {
     "data": {
      "text/plain": [
       "{'nfev': 54,\n",
       " 'fvec': array([-0.51736691, -0.45337068,  0.1338218 ,  0.64832137, -0.0200807 ,\n",
       "        -0.1054514 , -0.64858818, -0.74357469]),\n",
       " 'fjac': array([[-6.66517825e+01, -1.36251311e+00, -4.90493709e-03,\n",
       "          6.26183882e-01,  1.44118538e-01,  1.36776722e-01,\n",
       "          7.78916718e-02,  6.51987236e-02],\n",
       "        [-1.36251311e+00,  1.31740037e-01,  4.74253486e-04,\n",
       "         -5.25951769e-01, -3.68699783e-01, -4.28793682e-01,\n",
       "         -4.34046452e-01, -3.98780432e-01],\n",
       "        [-4.90493709e-03,  4.74253486e-04, -4.67169195e-19,\n",
       "          2.32079123e-01,  4.06138466e-01,  1.16039562e-01,\n",
       "          0.00000000e+00, -2.90098904e-01]]),\n",
       " 'ipvt': array([2, 0, 1], dtype=int32),\n",
       " 'qtf': array([ 4.40970831e-05,  3.68118865e-05, -6.29293005e-01]),\n",
       " 'message': 'Both actual and predicted relative reductions in the sum of squares\\n  are at most 0.000000',\n",
       " 'ierr': 1,\n",
       " 'param_jac': None,\n",
       " 'param_cov': array([[ 5.93795779e+31, -1.64946975e+34, -2.18527739e+15],\n",
       "        [-1.64946975e+34,  4.58196328e+36,  6.07035126e+17],\n",
       "        [-2.18527739e+15,  6.07035126e+17,  1.04725421e-01]]),\n",
       " 'njev': 39,\n",
       " 'cov_x': array([[ 5.93795779e+31, -1.64946975e+34, -2.18527739e+15],\n",
       "        [-1.64946975e+34,  4.58196328e+36,  6.07035126e+17],\n",
       "        [-2.18527739e+15,  6.07035126e+17,  1.04725421e-01]])}"
      ]
     },
     "execution_count": 29,
     "metadata": {},
     "output_type": "execute_result"
    }
   ],
   "source": [
    "fit4.fit_info"
   ]
  },
  {
   "cell_type": "code",
   "execution_count": 30,
   "id": "334988c2-f5eb-41d5-9333-cf335bfdde9f",
   "metadata": {},
   "outputs": [
    {
     "name": "stdout",
     "output_type": "stream",
     "text": [
      "The error/standard deviation is 0.1416434684188529\n"
     ]
    }
   ],
   "source": [
    "#taking fvec\n",
    "fvec4 = np.array([-0.51736691, -0.45337068,  0.1338218 ,  0.64832137, -0.0200807 ,\n",
    "        -0.1054514 , -0.64858818, -0.74357469])\n",
    "var4 = np.var(fvec4)\n",
    "\n",
    "#taking cov_x\n",
    "cov_x4 = np.array([[ 5.93795779e+31, -1.64946975e+34, -2.18527739e+15],\n",
    "        [-1.64946975e+34,  4.58196328e+36,  6.07035126e+17],\n",
    "        [-2.18527739e+15,  6.07035126e+17,  1.04725421e-01]])\n",
    "\n",
    "def stand(cov):\n",
    "    diag = np.diagonal(cov)\n",
    "    sd1 = np.sqrt(diag[0])\n",
    "    sd2 = np.sqrt(diag[1])\n",
    "    sd3 = np.sqrt(diag[2])\n",
    "    return(sd1,sd2,sd3)\n",
    "\n",
    "diag4 = stand(cov_x4*var4) \n",
    "\n",
    "#The last diagonal element corresponds to alpha\n",
    "#So here we are calculating the standard deviation on the slope\n",
    "\n",
    "#print(diag)  #prints standard deviations of all three variances\n",
    "\n",
    "print('The error/standard deviation is', diag4[2]) #Just showing the standard deviation on the slope\n",
    "\n"
   ]
  },
  {
   "cell_type": "code",
   "execution_count": 31,
   "id": "289f8cee-adf3-4c2a-9d5b-33de396a1fb6",
   "metadata": {},
   "outputs": [
    {
     "data": {
      "image/png": "[encoded data removed]",
      "text/plain": [
       "<Figure size 640x480 with 1 Axes>"
      ]
     },
     "metadata": {},
     "output_type": "display_data"
    }
   ],
   "source": [
    "#plotting to check\n",
    "fig,ax = plt.subplots()\n",
    "mask = df4['Flux Density (mJy)'] > 3 * df4['Uncertainty (mJy)']  # apply detection threshold\n",
    "if mask.any():  # proceed only if at least one detection\n",
    "    ax.errorbar(df4['Freq (GHz)'][mask], df4['Flux Density (mJy)'][mask], yerr=yerr4, fmt='^')\n",
    "    ax.set_xscale('log')\n",
    "    ax.set_xticks([1, 5, 10, 50], labels=['1', '5', '10', '50'])\n",
    "    ax.set_yscale('log')\n",
    "    ax.set_yticks([1, 5, 10, 20, 50], labels=['1', '5', '10', '20', '50'])\n",
    "    ax.annotate('Day 12.01', xy=(90, 120), xycoords='axes points', size=9, ha='right', va='top', bbox=dict(boxstyle='round', fc='w', ec=\"w\"))\n",
    "    ax.tick_params(axis='both', which='both', direction='in', top=True, right=True)\n",
    "    ax.plot(df4['Freq (GHz)'][mask], fit_model_weights4(df4['Freq (GHz)'][mask]), 'r--')\n",
    "    ax.annotate('${\\u03B1 = -0.358 \\\\pm 0.142}$', xy=(90, 100), xycoords='axes points', size=9, ha='right', va='top', bbox=dict(boxstyle='round', fc='w', ec=\"w\"))\n",
    "\n",
    "plt.show();\n"
   ]
  },
  {
   "cell_type": "markdown",
   "id": "6fd9aa49-fa9c-4467-bc91-f620729779a1",
   "metadata": {},
   "source": [
    "## Day 12.99 (df5)"
   ]
  },
  {
   "cell_type": "code",
   "execution_count": 32,
   "id": "68dea83b-46f1-4321-b3f7-4a70dc62c00a",
   "metadata": {},
   "outputs": [],
   "source": [
    "#(work for anything with 3+ points)\n",
    "mask = df5['Flux Density (mJy)'] > 3 * df5['Uncertainty (mJy)']  # apply detection threshold\n",
    "\n",
    "x5 = df5['Freq (GHz)'][mask].values.tolist()\n",
    "y5 = df5['Flux Density (mJy)'][mask].values.tolist()\n",
    "yerr5 = df5['Uncertainty (mJy)'][mask].values.tolist()\n"
   ]
  },
  {
   "cell_type": "code",
   "execution_count": 33,
   "id": "305a7091-30fd-44b0-bed1-c07c6a025b60",
   "metadata": {},
   "outputs": [],
   "source": [
    "yerr5 = error(yerr5, x5, y5)"
   ]
  },
  {
   "cell_type": "code",
   "execution_count": 34,
   "id": "0dc1cf3e-e813-4448-8318-cd259a692104",
   "metadata": {},
   "outputs": [
    {
     "data": {
      "text/plain": [
       "<PowerLaw1D(amplitude=9.5278505, x_0=952.31750462, alpha=0.36146653)>"
      ]
     },
     "execution_count": 34,
     "metadata": {},
     "output_type": "execute_result"
    }
   ],
   "source": [
    "PL5 =  PowerLaw1D(amplitude = y5[0], x_0= x5[0], alpha= -3.5) \n",
    "\n",
    "#Initialize fitters\n",
    "#setting calc_uncertainties=True to output errors on measurement \n",
    "\n",
    "fit5 = fitting.LevMarLSQFitter(calc_uncertainties=True)\n",
    "\n",
    "#Fit the data w/o weights\n",
    "fit_model5 = fit5(PL5, x5, y5)\n",
    "\n",
    "\n",
    "#weight is 1/error^2\n",
    "y_weight5 = 1/ (np.power(yerr5, 2))  \n",
    "\n",
    "# fit the data using the uncertainties as weights\n",
    "fit_model_weights5 = fit5(PL5, x5, y5, weights=y_weight5)\n",
    "\n",
    "fit_model_weights5\n"
   ]
  },
  {
   "cell_type": "code",
   "execution_count": 35,
   "id": "a03cd81b-60dd-4c2a-87c1-57e9bc5275c0",
   "metadata": {},
   "outputs": [
    {
     "data": {
      "text/plain": [
       "{'nfev': 47,\n",
       " 'fvec': array([-0.22048499, -0.53353698, -0.08660539,  0.65100842,  0.13050945,\n",
       "         0.02644924, -0.56804446, -0.68500569]),\n",
       " 'fjac': array([[-6.55464472e+01, -1.33806767e+00, -4.83904141e-03,\n",
       "          6.26337770e-01,  1.63026167e-01,  1.53145428e-01,\n",
       "          8.98415566e-02,  7.51019274e-02],\n",
       "        [-1.33806767e+00,  1.42598903e-01,  5.15700374e-04,\n",
       "         -4.91479213e-01, -3.81359567e-01, -4.38119747e-01,\n",
       "         -4.54994702e-01, -4.17265439e-01],\n",
       "        [-4.83904141e-03,  5.15700374e-04,  1.02606146e-18,\n",
       "          7.39664774e-01,  3.69832387e-01,  3.16999189e-01,\n",
       "          2.11332793e-01,  1.84916193e-01]]),\n",
       " 'ipvt': array([2, 0, 1], dtype=int32),\n",
       " 'qtf': array([ 1.71561042e-05,  3.80196073e-05, -3.93215181e-02]),\n",
       " 'message': 'Both actual and predicted relative reductions in the sum of squares\\n  are at most 0.000000',\n",
       " 'ierr': 1,\n",
       " 'param_jac': None,\n",
       " 'param_cov': array([[ 1.24226934e+31, -3.43506142e+33,  3.87797894e+14],\n",
       "        [-3.43506142e+33,  9.49846104e+35, -1.07231945e+17],\n",
       "        [ 3.87797894e+14, -1.07231945e+17,  3.28325424e-02]]),\n",
       " 'njev': 34,\n",
       " 'cov_x': array([[ 1.24226934e+31, -3.43506142e+33,  3.87797894e+14],\n",
       "        [-3.43506142e+33,  9.49846104e+35, -1.07231945e+17],\n",
       "        [ 3.87797894e+14, -1.07231945e+17,  3.28325424e-02]])}"
      ]
     },
     "execution_count": 35,
     "metadata": {},
     "output_type": "execute_result"
    }
   ],
   "source": [
    "fit5.fit_info"
   ]
  },
  {
   "cell_type": "code",
   "execution_count": 36,
   "id": "9265d65b-0d3f-42d0-8107-81b7117aeff6",
   "metadata": {},
   "outputs": [
    {
     "name": "stdout",
     "output_type": "stream",
     "text": [
      "The error/standard deviation is 0.07491799920053203\n"
     ]
    }
   ],
   "source": [
    "#taking fvec\n",
    "fvec5 = np.array([-0.22048499, -0.53353698, -0.08660539,  0.65100842,  0.13050945,\n",
    "         0.02644924, -0.56804446, -0.68500569])\n",
    "var5 = np.var(fvec5)\n",
    "\n",
    "#taking cov_x\n",
    "cov_x5 = np.array([[ 1.24226934e+31, -3.43506142e+33,  3.87797894e+14],\n",
    "        [-3.43506142e+33,  9.49846104e+35, -1.07231945e+17],\n",
    "        [ 3.87797894e+14, -1.07231945e+17,  3.28325424e-02]])\n",
    "\n",
    "def stand(cov):\n",
    "    diag = np.diagonal(cov)\n",
    "    sd1 = np.sqrt(diag[0])\n",
    "    sd2 = np.sqrt(diag[1])\n",
    "    sd3 = np.sqrt(diag[2])\n",
    "    return(sd1,sd2,sd3)\n",
    "\n",
    "diag5 = stand(cov_x5*var5) \n",
    "\n",
    "#The last diagonal element corresponds to alpha\n",
    "#So here we are calculating the standard deviation on the slope\n",
    "\n",
    "#print(diag)  #prints standard deviations of all three variances\n",
    "\n",
    "print('The error/standard deviation is', diag5[2]) #Just showing the standard deviation on the slope\n",
    "\n"
   ]
  },
  {
   "cell_type": "code",
   "execution_count": 37,
   "id": "d9abcb13-a3ce-487e-88e1-133b4e9129d6",
   "metadata": {},
   "outputs": [
    {
     "data": {
      "image/png": "[encoded data removed]",
      "text/plain": [
       "<Figure size 640x480 with 1 Axes>"
      ]
     },
     "metadata": {},
     "output_type": "display_data"
    }
   ],
   "source": [
    "#plotting to check\n",
    "fig,ax = plt.subplots()\n",
    "mask = df5['Flux Density (mJy)'] > 3 * df5['Uncertainty (mJy)']  # apply detection threshold\n",
    "if mask.any():  # proceed only if at least one detection\n",
    "    ax.errorbar(df5['Freq (GHz)'][mask], df5['Flux Density (mJy)'][mask], yerr=yerr5, fmt='^')\n",
    "    ax.set_xscale('log')\n",
    "    ax.set_xticks([1, 5, 10, 50], labels=['1', '5', '10', '50'])\n",
    "    ax.set_yscale('log')\n",
    "    ax.set_yticks([1, 5, 10, 20, 50], labels=['1', '5', '10', '20', '50'])\n",
    "    ax.annotate('Day 12.99', xy=(90, 120), xycoords='axes points', size=9, ha='right', va='top', bbox=dict(boxstyle='round', fc='w', ec=\"w\"))\n",
    "    ax.tick_params(axis='both', which='both', direction='in', top=True, right=True)\n",
    "    ax.plot(df5['Freq (GHz)'][mask], fit_model_weights5(df5['Freq (GHz)'][mask]), 'r--')\n",
    "    ax.annotate('${\\u03B1 = -0.362 \\\\pm 0.075}$', xy=(90, 100), xycoords='axes points', size=9, ha='right', va='top', bbox=dict(boxstyle='round', fc='w', ec=\"w\"))\n",
    "\n",
    "plt.show();\n"
   ]
  },
  {
   "cell_type": "markdown",
   "id": "3509675e-f37d-460a-a361-95c27081276d",
   "metadata": {},
   "source": [
    "## Day 17.01 (df6)"
   ]
  },
  {
   "cell_type": "code",
   "execution_count": 38,
   "id": "41d10c05-2f51-4e8e-8b56-fccaa134be3a",
   "metadata": {},
   "outputs": [],
   "source": [
    "#(work for anything with 3+ points)\n",
    "mask = df6['Flux Density (mJy)'] > 3 * df6['Uncertainty (mJy)']  # apply detection threshold\n",
    "\n",
    "x6 = df6['Freq (GHz)'][mask].values.tolist()\n",
    "y6 = df6['Flux Density (mJy)'][mask].values.tolist()\n",
    "yerr6 = df6['Uncertainty (mJy)'][mask].values.tolist()\n"
   ]
  },
  {
   "cell_type": "code",
   "execution_count": 39,
   "id": "6448882c-7667-4092-a642-f452f389fc2a",
   "metadata": {},
   "outputs": [],
   "source": [
    "yerr6 = error(yerr6, x6, y6)"
   ]
  },
  {
   "cell_type": "code",
   "execution_count": 40,
   "id": "bc80942f-5793-41ce-b159-3bc14742285b",
   "metadata": {},
   "outputs": [
    {
     "data": {
      "text/plain": [
       "<PowerLaw1D(amplitude=9.54242428, x_0=862.83359789, alpha=0.3696339)>"
      ]
     },
     "execution_count": 40,
     "metadata": {},
     "output_type": "execute_result"
    }
   ],
   "source": [
    "PL6 =  PowerLaw1D(amplitude = y6[0], x_0= x6[0], alpha= -1.5) \n",
    "\n",
    "#Initialize fitters\n",
    "#setting calc_uncertainties=True to output errors on measurement \n",
    "\n",
    "fit6 = fitting.LevMarLSQFitter(calc_uncertainties=True)\n",
    "\n",
    "#Fit the data w/o weights\n",
    "fit_model6 = fit6(PL6, x6, y6)\n",
    "\n",
    "\n",
    "#weight is 1/error^2\n",
    "y_weight6 = 1/ (np.power(yerr6, 2))  \n",
    "\n",
    "# fit the data using the uncertainties as weights\n",
    "fit_model_weights6 = fit6(PL6, x6, y6, weights=y_weight6)\n",
    "\n",
    "fit_model_weights6\n"
   ]
  },
  {
   "cell_type": "code",
   "execution_count": 41,
   "id": "d009759a-0f4b-49ba-9a0e-c2a21e510a72",
   "metadata": {},
   "outputs": [
    {
     "data": {
      "text/plain": [
       "{'nfev': 38,\n",
       " 'fvec': array([-5.11175522e-01, -5.35525890e-01,  1.83000090e-01,  6.24003072e-01,\n",
       "        -2.97392449e-04, -9.22769050e-02, -6.53015527e-01, -7.28594467e-01]),\n",
       " 'fjac': array([[-6.32759801e+01, -1.31688294e+00, -5.37554598e-03,\n",
       "          6.29326194e-01,  1.48349758e-01,  1.40024915e-01,\n",
       "          7.72371815e-02,  6.83984788e-02],\n",
       "        [-1.31688294e+00,  1.30307919e-01,  5.31919877e-04,\n",
       "         -5.10537754e-01, -3.74469937e-01, -4.34275615e-01,\n",
       "         -4.28966040e-01, -4.17507391e-01],\n",
       "        [-5.37554598e-03,  5.31919877e-04, -8.51115970e-19,\n",
       "          6.36929755e-01, -1.27385951e-01, -3.18464878e-02,\n",
       "         -1.91078927e-01, -6.36929755e-02]]),\n",
       " 'ipvt': array([2, 0, 1], dtype=int32),\n",
       " 'qtf': array([ 7.00622333e-05,  6.53084917e-05, -9.20341203e-01]),\n",
       " 'message': 'Both actual and predicted relative reductions in the sum of squares\\n  are at most 0.000000',\n",
       " 'ierr': 1,\n",
       " 'param_jac': None,\n",
       " 'param_cov': array([[ 2.30024101e+31, -5.63505205e+33, -4.85157974e+14],\n",
       "        [-5.63505205e+33,  1.38045585e+36,  1.18852347e+17],\n",
       "        [-4.85157974e+14,  1.18852347e+17,  3.59904397e-02]]),\n",
       " 'njev': 26,\n",
       " 'cov_x': array([[ 2.30024101e+31, -5.63505205e+33, -4.85157974e+14],\n",
       "        [-5.63505205e+33,  1.38045585e+36,  1.18852347e+17],\n",
       "        [-4.85157974e+14,  1.18852347e+17,  3.59904397e-02]])}"
      ]
     },
     "execution_count": 41,
     "metadata": {},
     "output_type": "execute_result"
    }
   ],
   "source": [
    "fit6.fit_info"
   ]
  },
  {
   "cell_type": "code",
   "execution_count": 42,
   "id": "fec16abc-ba4c-4ed2-b431-e9e4c4f279cb",
   "metadata": {},
   "outputs": [
    {
     "name": "stdout",
     "output_type": "stream",
     "text": [
      "The error/standard deviation is 0.08403108061516525\n"
     ]
    }
   ],
   "source": [
    "#taking fvec\n",
    "fvec6 = np.array([-5.11175522e-01, -5.35525890e-01,  1.83000090e-01,  6.24003072e-01,\n",
    "        -2.97392449e-04, -9.22769050e-02, -6.53015527e-01, -7.28594467e-01])\n",
    "var6 = np.var(fvec6)\n",
    "\n",
    "#taking cov_x\n",
    "cov_x6 = np.array([[ 2.30024101e+31, -5.63505205e+33, -4.85157974e+14],\n",
    "        [-5.63505205e+33,  1.38045585e+36,  1.18852347e+17],\n",
    "        [-4.85157974e+14,  1.18852347e+17,  3.59904397e-02]])\n",
    "\n",
    "def stand(cov):\n",
    "    diag = np.diagonal(cov)\n",
    "    sd1 = np.sqrt(diag[0])\n",
    "    sd2 = np.sqrt(diag[1])\n",
    "    sd3 = np.sqrt(diag[2])\n",
    "    return(sd1,sd2,sd3)\n",
    "\n",
    "diag6 = stand(cov_x6*var6) \n",
    "\n",
    "#The last diagonal element corresponds to alpha\n",
    "#So here we are calculating the standard deviation on the slope\n",
    "\n",
    "#print(diag)  #prints standard deviations of all three variances\n",
    "\n",
    "print('The error/standard deviation is', diag6[2]) #Just showing the standard deviation on the slope\n",
    "\n"
   ]
  },
  {
   "cell_type": "code",
   "execution_count": 43,
   "id": "74e7f408-b564-41c7-964e-c0b10e92e4bf",
   "metadata": {},
   "outputs": [
    {
     "data": {
      "image/png": "[encoded data removed]",
      "text/plain": [
       "<Figure size 640x480 with 1 Axes>"
      ]
     },
     "metadata": {},
     "output_type": "display_data"
    }
   ],
   "source": [
    "#plotting to check\n",
    "fig,ax = plt.subplots()\n",
    "mask = df6['Flux Density (mJy)'] > 3 * df6['Uncertainty (mJy)']  # apply detection threshold\n",
    "if mask.any():  # proceed only if at least one detection\n",
    "    ax.errorbar(df6['Freq (GHz)'][mask], df6['Flux Density (mJy)'][mask], yerr=df6['Uncertainty (mJy)'][mask], fmt='^')\n",
    "    ax.set_xscale('log')\n",
    "    ax.set_xticks([1, 5, 10, 50], labels=['1', '5', '10', '50'])\n",
    "    ax.set_yscale('log')\n",
    "    ax.set_yticks([1, 5, 10, 20, 50], labels=['1', '5', '10', '20', '50'])\n",
    "    ax.annotate('Day 17.01', xy=(90, 120), xycoords='axes points', size=9, ha='right', va='top', bbox=dict(boxstyle='round', fc='w', ec=\"w\"))\n",
    "    ax.tick_params(axis='both', which='both', direction='in', top=True, right=True)\n",
    "    ax.plot(df6['Freq (GHz)'][mask], fit_model_weights6(df6['Freq (GHz)'][mask]), 'r--')\n",
    "    ax.annotate('${\\u03B1 = -0.370 \\\\pm 0.084}$', xy=(90, 100), xycoords='axes points', size=9, ha='right', va='top', bbox=dict(boxstyle='round', fc='w', ec=\"w\"))\n",
    "\n",
    "plt.show();\n"
   ]
  },
  {
   "cell_type": "markdown",
   "id": "5609e1a8-5ed6-48c7-9a4d-37fa7553602e",
   "metadata": {},
   "source": [
    "## Day 27.01 (df7)"
   ]
  },
  {
   "cell_type": "code",
   "execution_count": 44,
   "id": "80d33c82-4ef9-418d-a488-c779d666ecee",
   "metadata": {},
   "outputs": [],
   "source": [
    "#(work for anything with 3+ points)\n",
    "mask = df7['Flux Density (mJy)'] > 3 * df7['Uncertainty (mJy)']  # apply detection threshold\n",
    "\n",
    "x7 = df7['Freq (GHz)'][mask].values.tolist()\n",
    "y7 = df7['Flux Density (mJy)'][mask].values.tolist()\n",
    "yerr7 = df7['Uncertainty (mJy)'][mask].values.tolist()\n"
   ]
  },
  {
   "cell_type": "code",
   "execution_count": 45,
   "id": "1084296f-13ca-44e1-ab76-cd1cc6de9b6a",
   "metadata": {},
   "outputs": [],
   "source": [
    "yerr7 = error(yerr7, x7, y7) "
   ]
  },
  {
   "cell_type": "code",
   "execution_count": 46,
   "id": "8323cf05-27bd-431b-becd-ca468fe15bb6",
   "metadata": {},
   "outputs": [
    {
     "data": {
      "text/plain": [
       "<PowerLaw1D(amplitude=25.8011116, x_0=82.09605104, alpha=0.34950633)>"
      ]
     },
     "execution_count": 46,
     "metadata": {},
     "output_type": "execute_result"
    }
   ],
   "source": [
    "PL7 =  PowerLaw1D(amplitude = y7[0], x_0= x7[0], alpha= -1) \n",
    "\n",
    "#Initialize fitters\n",
    "#setting calc_uncertainties=True to output errors on measurement \n",
    "\n",
    "fit7 = fitting.LevMarLSQFitter(calc_uncertainties=True)\n",
    "\n",
    "#Fit the data w/o weights\n",
    "fit_model7 = fit7(PL7, x7, y7)\n",
    "\n",
    "\n",
    "#weight is 1/error^2\n",
    "y_weight7 = 1/ (np.power(yerr7, 2))  \n",
    "\n",
    "# fit the data using the uncertainties as weights\n",
    "fit_model_weights7 = fit7(PL7, x7, y7, weights=y_weight7)\n",
    "\n",
    "fit_model_weights7\n"
   ]
  },
  {
   "cell_type": "code",
   "execution_count": 47,
   "id": "d266178e-58f5-47de-8ae3-24da358fc3df",
   "metadata": {},
   "outputs": [
    {
     "data": {
      "text/plain": [
       "{'nfev': 20,\n",
       " 'fvec': array([-0.36830055, -0.3957724 ,  0.28528841,  0.40757972, -0.20021716,\n",
       "        -0.31368475, -0.68948769, -0.71151611]),\n",
       " 'fjac': array([[-3.20135728e+01, -4.44220492e-01, -4.85737248e-02,\n",
       "          5.65754065e-01,  9.23403865e-02,  7.63283432e-02,\n",
       "          2.19917383e-02,  1.57174526e-02],\n",
       "        [-4.44220492e-01,  6.82318212e-02,  7.46087533e-03,\n",
       "         -7.01180633e-01, -3.69699123e-01, -3.95187100e-01,\n",
       "         -2.75900589e-01, -2.36621463e-01],\n",
       "        [-4.85737248e-02,  7.46087533e-03, -9.04513166e-18,\n",
       "          3.83570641e-01, -1.43838990e-01,  4.79463301e-02,\n",
       "          0.00000000e+00,  0.00000000e+00]]),\n",
       " 'ipvt': array([2, 0, 1], dtype=int32),\n",
       " 'qtf': array([ 1.30729401e-05,  3.35619400e-05, -5.10671659e-01]),\n",
       " 'message': 'Both actual and predicted relative reductions in the sum of squares\\n  are at most 0.000000',\n",
       " 'ierr': 1,\n",
       " 'param_jac': None,\n",
       " 'param_cov': array([[ 1.46142271e+32, -1.33651253e+33, -2.70282229e+15],\n",
       "        [-1.33651253e+33,  1.22227862e+34,  2.47180765e+16],\n",
       "        [-2.70282229e+15,  2.47180765e+16,  9.23205362e-02]]),\n",
       " 'njev': 11,\n",
       " 'cov_x': array([[ 1.46142271e+32, -1.33651253e+33, -2.70282229e+15],\n",
       "        [-1.33651253e+33,  1.22227862e+34,  2.47180765e+16],\n",
       "        [-2.70282229e+15,  2.47180765e+16,  9.23205362e-02]])}"
      ]
     },
     "execution_count": 47,
     "metadata": {},
     "output_type": "execute_result"
    }
   ],
   "source": [
    "fit7.fit_info"
   ]
  },
  {
   "cell_type": "code",
   "execution_count": 48,
   "id": "5840325d-9288-436f-8be7-ecb5a35666a8",
   "metadata": {},
   "outputs": [
    {
     "name": "stdout",
     "output_type": "stream",
     "text": [
      "The error/standard deviation is 0.11604085422254407\n"
     ]
    }
   ],
   "source": [
    "#taking fvec\n",
    "fvec7 = np.array([-0.36830055, -0.3957724 ,  0.28528841,  0.40757972, -0.20021716,\n",
    "        -0.31368475, -0.68948769, -0.71151611])\n",
    "var7 = np.var(fvec7)\n",
    "\n",
    "#taking cov_x\n",
    "cov_x7 = np.array([[ 1.46142271e+32, -1.33651253e+33, -2.70282229e+15],\n",
    "        [-1.33651253e+33,  1.22227862e+34,  2.47180765e+16],\n",
    "        [-2.70282229e+15,  2.47180765e+16,  9.23205362e-02]])\n",
    "\n",
    "def stand(cov):\n",
    "    diag = np.diagonal(cov)\n",
    "    sd1 = np.sqrt(diag[0])\n",
    "    sd2 = np.sqrt(diag[1])\n",
    "    sd3 = np.sqrt(diag[2])\n",
    "    return(sd1,sd2,sd3)\n",
    "\n",
    "diag7 = stand(cov_x7*var7) \n",
    "\n",
    "#The last diagonal element corresponds to alpha\n",
    "#So here we are calculating the standard deviation on the slope\n",
    "\n",
    "#print(diag)  #prints standard deviations of all three variances\n",
    "\n",
    "print('The error/standard deviation is', diag7[2]) #Just showing the standard deviation on the slope\n",
    "\n"
   ]
  },
  {
   "cell_type": "code",
   "execution_count": 49,
   "id": "cb867e85-7117-4825-bfb9-58baf5047556",
   "metadata": {},
   "outputs": [
    {
     "data": {
      "image/png": "[encoded data removed]",
      "text/plain": [
       "<Figure size 640x480 with 1 Axes>"
      ]
     },
     "metadata": {},
     "output_type": "display_data"
    }
   ],
   "source": [
    "#plotting to check\n",
    "fig,ax = plt.subplots()\n",
    "mask = df7['Flux Density (mJy)'] > 3 * df7['Uncertainty (mJy)']  # apply detection threshold\n",
    "if mask.any():  # proceed only if at least one detection\n",
    "    ax.errorbar(df7['Freq (GHz)'][mask], df7['Flux Density (mJy)'][mask], yerr=df7['Uncertainty (mJy)'][mask], fmt='^')\n",
    "    ax.set_xscale('log')\n",
    "    ax.set_xticks([1, 5, 10, 50], labels=['1', '5', '10', '50'])\n",
    "    ax.set_yscale('log')\n",
    "    ax.set_yticks([1, 5, 10, 20, 50], labels=['1', '5', '10', '20', '50'])\n",
    "    ax.annotate('Day 27.01', xy=(90, 120), xycoords='axes points', size=9, ha='right', va='top', bbox=dict(boxstyle='round', fc='w', ec=\"w\"))\n",
    "    ax.tick_params(axis='both', which='both', direction='in', top=True, right=True)\n",
    "    ax.plot(df7['Freq (GHz)'][mask], fit_model_weights7(df7['Freq (GHz)'][mask]), 'r--')\n",
    "    ax.annotate('${\\u03B1 = -0.350 \\\\pm 0.116}$', xy=(90, 100), xycoords='axes points', size=9, ha='right', va='top', bbox=dict(boxstyle='round', fc='w', ec=\"w\"))\n",
    "\n",
    "plt.show();\n"
   ]
  },
  {
   "cell_type": "markdown",
   "id": "33bc35c4-701a-40bd-8aab-83a9e08f0a0b",
   "metadata": {},
   "source": [
    "## Day 29.02 (df8)"
   ]
  },
  {
   "cell_type": "code",
   "execution_count": 50,
   "id": "c6f95647-7fd9-430d-9af5-f4ef145ed566",
   "metadata": {},
   "outputs": [],
   "source": [
    "#(work for anything with 3+ points)\n",
    "mask = df8['Flux Density (mJy)'] > 3 * df8['Uncertainty (mJy)']  # apply detection threshold\n",
    "\n",
    "x8 = df8['Freq (GHz)'][mask].values.tolist()\n",
    "y8 = df8['Flux Density (mJy)'][mask].values.tolist()\n",
    "yerr8 = df8['Uncertainty (mJy)'][mask].values.tolist()\n"
   ]
  },
  {
   "cell_type": "code",
   "execution_count": 51,
   "id": "c2d45a29-0cb9-41a8-80c5-70d2ca22c4cb",
   "metadata": {},
   "outputs": [],
   "source": [
    "yerr8 = error(yerr8, x8, y8)"
   ]
  },
  {
   "cell_type": "code",
   "execution_count": 52,
   "id": "bce98265-405d-4b65-ac9e-03eca0c2649f",
   "metadata": {},
   "outputs": [
    {
     "data": {
      "text/plain": [
       "<PowerLaw1D(amplitude=11.52850021, x_0=859.73735546, alpha=0.33642517)>"
      ]
     },
     "execution_count": 52,
     "metadata": {},
     "output_type": "execute_result"
    }
   ],
   "source": [
    "PL8 =  PowerLaw1D(amplitude = y8[0], x_0= x8[0], alpha= -2) \n",
    "\n",
    "#Initialize fitters\n",
    "#setting calc_uncertainties=True to output errors on measurement \n",
    "\n",
    "fit8 = fitting.LevMarLSQFitter(calc_uncertainties=True)\n",
    "\n",
    "#Fit the data w/o weights\n",
    "fit_model8 = fit8(PL8, x8, y8)\n",
    "\n",
    "\n",
    "#weight is 1/error^2\n",
    "y_weight8 = 1/ (np.power(yerr8, 2))  \n",
    "\n",
    "# fit the data using the uncertainties as weights\n",
    "fit_model_weights8 = fit8(PL8, x8, y8, weights=y_weight8)\n",
    "\n",
    "fit_model_weights8\n"
   ]
  },
  {
   "cell_type": "code",
   "execution_count": 53,
   "id": "c8cfa4e6-49b4-4886-aecb-eb09da44203d",
   "metadata": {},
   "outputs": [
    {
     "data": {
      "text/plain": [
       "{'nfev': 54,\n",
       " 'fvec': array([-0.379777  , -0.39479538,  0.42624121,  0.27548701, -0.19084104,\n",
       "        -0.36236606, -0.70662683, -0.7131576 ]),\n",
       " 'fjac': array([[-6.21338302e+01, -1.04981445e+00, -4.75495781e-03,\n",
       "          5.73716171e-01,  1.16646353e-01,  9.41161646e-02,\n",
       "          3.32042424e-02,  2.54290815e-02],\n",
       "        [-1.04981445e+00,  8.42605869e-02,  3.81644141e-04,\n",
       "         -7.05916456e-01, -3.95181522e-01, -3.87291841e-01,\n",
       "         -2.39278732e-01, -2.00890836e-01],\n",
       "        [-4.75495781e-03,  3.81644141e-04,  6.77490819e-19,\n",
       "         -3.20064019e-01,  4.00080024e-02, -4.00080024e-02,\n",
       "          1.00020006e-01,  2.00040012e-02]]),\n",
       " 'ipvt': array([2, 0, 1], dtype=int32),\n",
       " 'qtf': array([ 1.47383690e-05,  1.02312751e-04, -3.28623033e-01]),\n",
       " 'message': 'Both actual and predicted relative reductions in the sum of squares\\n  are at most 0.000000',\n",
       " 'ierr': 1,\n",
       " 'param_jac': None,\n",
       " 'param_cov': array([[ 4.46952542e+31, -9.86795798e+33,  5.15327286e+14],\n",
       "        [-9.86795798e+33,  2.17867862e+36, -1.13775570e+17],\n",
       "        [ 5.15327286e+14, -1.13775570e+17,  4.64093324e-02]]),\n",
       " 'njev': 37,\n",
       " 'cov_x': array([[ 4.46952542e+31, -9.86795798e+33,  5.15327286e+14],\n",
       "        [-9.86795798e+33,  2.17867862e+36, -1.13775570e+17],\n",
       "        [ 5.15327286e+14, -1.13775570e+17,  4.64093324e-02]])}"
      ]
     },
     "execution_count": 53,
     "metadata": {},
     "output_type": "execute_result"
    }
   ],
   "source": [
    "fit8.fit_info"
   ]
  },
  {
   "cell_type": "code",
   "execution_count": 54,
   "id": "fe60a1fb-d213-463b-8b6b-cf9d369384be",
   "metadata": {},
   "outputs": [
    {
     "name": "stdout",
     "output_type": "stream",
     "text": [
      "The error/standard deviation is 0.08378652824476979\n"
     ]
    }
   ],
   "source": [
    "#taking fvec\n",
    "fvec8 = np.array([-0.379777  , -0.39479538,  0.42624121,  0.27548701, -0.19084104,\n",
    "        -0.36236606, -0.70662683, -0.7131576 ])\n",
    "var8 = np.var(fvec8)\n",
    "\n",
    "#taking cov_x\n",
    "cov_x8 = np.array([[ 4.46952542e+31, -9.86795798e+33,  5.15327286e+14],\n",
    "        [-9.86795798e+33,  2.17867862e+36, -1.13775570e+17],\n",
    "        [ 5.15327286e+14, -1.13775570e+17,  4.64093324e-02]])\n",
    "\n",
    "def stand(cov):\n",
    "    diag = np.diagonal(cov)\n",
    "    sd1 = np.sqrt(diag[0])\n",
    "    sd2 = np.sqrt(diag[1])\n",
    "    sd3 = np.sqrt(diag[2])\n",
    "    return(sd1,sd2,sd3)\n",
    "\n",
    "diag8 = stand(cov_x8*var8) \n",
    "\n",
    "#The last diagonal element corresponds to alpha\n",
    "#So here we are calculating the standard deviation on the slope\n",
    "\n",
    "#print(diag)  #prints standard deviations of all three variances\n",
    "\n",
    "print('The error/standard deviation is', diag8[2]) #Just showing the standard deviation on the slope\n",
    "\n"
   ]
  },
  {
   "cell_type": "code",
   "execution_count": 55,
   "id": "a4cd3f32-c801-4d13-8a6e-87a85c23b4c3",
   "metadata": {},
   "outputs": [
    {
     "data": {
      "image/png": "[encoded data removed]",
      "text/plain": [
       "<Figure size 640x480 with 1 Axes>"
      ]
     },
     "metadata": {},
     "output_type": "display_data"
    }
   ],
   "source": [
    "#plotting to check\n",
    "fig,ax = plt.subplots()\n",
    "mask = df8['Flux Density (mJy)'] > 3 * df8['Uncertainty (mJy)']  # apply detection threshold\n",
    "if mask.any():  # proceed only if at least one detection\n",
    "    ax.errorbar(df8['Freq (GHz)'][mask], df8['Flux Density (mJy)'][mask], yerr=df8['Uncertainty (mJy)'][mask], fmt='^')\n",
    "    ax.set_xscale('log')\n",
    "    ax.set_xticks([1, 5, 10, 50], labels=['1', '5', '10', '50'])\n",
    "    ax.set_yscale('log')\n",
    "    ax.set_yticks([1, 5, 10, 20, 50], labels=['1', '5', '10', '20', '50'])\n",
    "    ax.annotate('Day 29.02', xy=(90, 120), xycoords='axes points', size=9, ha='right', va='top', bbox=dict(boxstyle='round', fc='w', ec=\"w\"))\n",
    "    ax.tick_params(axis='both', which='both', direction='in', top=True, right=True)\n",
    "    ax.plot(df8['Freq (GHz)'][mask], fit_model_weights8(df8['Freq (GHz)'][mask]), 'r--')\n",
    "    ax.annotate('${\\u03B1 = -0.336 \\\\pm 0.084}$', xy=(90, 100), xycoords='axes points', size=9, ha='right', va='top', bbox=dict(boxstyle='round', fc='w', ec=\"w\"))\n",
    "\n",
    "plt.show();\n"
   ]
  },
  {
   "cell_type": "markdown",
   "id": "84d4b0f5-8678-45a0-9c00-1689bf995809",
   "metadata": {},
   "source": [
    "## Day 32.04 (df9)"
   ]
  },
  {
   "cell_type": "code",
   "execution_count": 56,
   "id": "b0b04f6e-8c6e-4105-a6b7-e8dca0a1d702",
   "metadata": {},
   "outputs": [],
   "source": [
    "#(work for anything with 3+ points)\n",
    "mask = df9['Flux Density (mJy)'] > 3 * df9['Uncertainty (mJy)']  # apply detection threshold\n",
    "\n",
    "x9 = df9['Freq (GHz)'][mask].values.tolist()\n",
    "y9 = df9['Flux Density (mJy)'][mask].values.tolist()\n",
    "yerr9 = df9['Uncertainty (mJy)'][mask].values.tolist()\n"
   ]
  },
  {
   "cell_type": "code",
   "execution_count": 57,
   "id": "84b33f46-a910-404a-a073-a9ab34416aed",
   "metadata": {},
   "outputs": [],
   "source": [
    "yerr9 = error(yerr9, x9, y9)"
   ]
  },
  {
   "cell_type": "code",
   "execution_count": 58,
   "id": "4e2c77b0-a35c-40a2-866c-9b7201fc06b4",
   "metadata": {},
   "outputs": [
    {
     "data": {
      "text/plain": [
       "<PowerLaw1D(amplitude=59.87821998, x_0=2.24513454, alpha=0.09307237)>"
      ]
     },
     "execution_count": 58,
     "metadata": {},
     "output_type": "execute_result"
    }
   ],
   "source": [
    "PL9 =  PowerLaw1D(amplitude = y9[0], x_0= x9[0], alpha= -2.5) \n",
    "\n",
    "#Initialize fitters\n",
    "#setting calc_uncertainties=True to output errors on measurement \n",
    "\n",
    "fit9 = fitting.LevMarLSQFitter(calc_uncertainties=True)\n",
    "\n",
    "#Fit the data w/o weights\n",
    "fit_model9 = fit9(PL9, x9, y9)\n",
    "\n",
    "\n",
    "#weight is 1/error^2\n",
    "y_weight9 = 1/ (np.power(yerr9, 2))  \n",
    "\n",
    "# fit the data using the uncertainties as weights\n",
    "fit_model_weights9 = fit9(PL9, x9, y9, weights=y_weight9)\n",
    "\n",
    "fit_model_weights9\n"
   ]
  },
  {
   "cell_type": "code",
   "execution_count": 59,
   "id": "b36f7792-5069-4a00-a59b-5c811cdfe27f",
   "metadata": {},
   "outputs": [
    {
     "data": {
      "text/plain": [
       "{'nfev': 18,\n",
       " 'fvec': array([ 0.023469  , -0.09640047,  0.13148761, -0.06752938]),\n",
       " 'fjac': array([[ 1.07227552e+01, -5.09197224e-01, -2.05134515e-01,\n",
       "          7.72643899e-01],\n",
       "        [-5.09197224e-01, -2.91705748e-01, -1.17516189e-01,\n",
       "         -8.81315453e-01],\n",
       "        [-2.05134515e-01, -1.17516189e-01, -1.38777878e-17,\n",
       "         -1.00000000e+00]]),\n",
       " 'ipvt': array([2, 1, 0], dtype=int32),\n",
       " 'qtf': array([ 1.09325983e-06,  6.26299764e-07, -1.52712592e-01]),\n",
       " 'message': 'Both actual and predicted relative reductions in the sum of squares\\n  are at most 0.000000',\n",
       " 'ierr': 1,\n",
       " 'param_jac': None,\n",
       " 'param_cov': array([[ 5.19229686e+33, -2.09176179e+33, -2.58559815e+16],\n",
       "        [-2.09176179e+33,  8.42684369e+32,  1.04163062e+16],\n",
       "        [-2.58559815e+16,  1.04163062e+16,  1.63953322e-01]]),\n",
       " 'njev': 11,\n",
       " 'cov_x': array([[ 5.19229686e+33, -2.09176179e+33, -2.58559815e+16],\n",
       "        [-2.09176179e+33,  8.42684369e+32,  1.04163062e+16],\n",
       "        [-2.58559815e+16,  1.04163062e+16,  1.63953322e-01]])}"
      ]
     },
     "execution_count": 59,
     "metadata": {},
     "output_type": "execute_result"
    }
   ],
   "source": [
    "fit9.fit_info"
   ]
  },
  {
   "cell_type": "code",
   "execution_count": 60,
   "id": "4cfb988a-b792-47ae-9dc7-d91c9080daed",
   "metadata": {},
   "outputs": [
    {
     "name": "stdout",
     "output_type": "stream",
     "text": [
      "The error/standard deviation is 0.03603082373439542\n"
     ]
    }
   ],
   "source": [
    "#taking fvec\n",
    "fvec9 = np.array([ 0.023469  , -0.09640047,  0.13148761, -0.06752938])\n",
    "var9 = np.var(fvec9)\n",
    "\n",
    "#taking cov_x\n",
    "cov_x9 = np.array([[ 5.19229686e+33, -2.09176179e+33, -2.58559815e+16],\n",
    "        [-2.09176179e+33,  8.42684369e+32,  1.04163062e+16],\n",
    "        [-2.58559815e+16,  1.04163062e+16,  1.63953322e-01]])\n",
    "\n",
    "def stand(cov):\n",
    "    diag = np.diagonal(cov)\n",
    "    sd1 = np.sqrt(diag[0])\n",
    "    sd2 = np.sqrt(diag[1])\n",
    "    sd3 = np.sqrt(diag[2])\n",
    "    return(sd1,sd2,sd3)\n",
    "\n",
    "diag9 = stand(cov_x9*var9) \n",
    "\n",
    "#The last diagonal element corresponds to alpha\n",
    "#So here we are calculating the standard deviation on the slope\n",
    "\n",
    "#print(diag)  #prints standard deviations of all three variances\n",
    "\n",
    "print('The error/standard deviation is', diag9[2]) #Just showing the standard deviation on the slope\n",
    "\n"
   ]
  },
  {
   "cell_type": "code",
   "execution_count": 61,
   "id": "e1e8713e-3b6b-4056-971b-b018082253bb",
   "metadata": {},
   "outputs": [
    {
     "data": {
      "image/png": "[encoded data removed]",
      "text/plain": [
       "<Figure size 640x480 with 1 Axes>"
      ]
     },
     "metadata": {},
     "output_type": "display_data"
    }
   ],
   "source": [
    "#plotting to check\n",
    "fig,ax = plt.subplots()\n",
    "mask = df9['Flux Density (mJy)'] > 3 * df9['Uncertainty (mJy)']  # apply detection threshold\n",
    "if mask.any():  # proceed only if at least one detection\n",
    "    ax.errorbar(df9['Freq (GHz)'][mask], df9['Flux Density (mJy)'][mask], yerr=df9['Uncertainty (mJy)'][mask], fmt='^')\n",
    "    ax.set_xscale('log')\n",
    "    ax.set_xticks([1, 5, 10, 50], labels=['1', '5', '10', '50'])\n",
    "    ax.set_yscale('log')\n",
    "    ax.set_yticks([1, 5, 10, 20, 50], labels=['1', '5', '10', '20', '50'])\n",
    "    ax.annotate('Day 32.04', xy=(90, 120), xycoords='axes points', size=9, ha='right', va='top', bbox=dict(boxstyle='round', fc='w', ec=\"w\"))\n",
    "    ax.tick_params(axis='both', which='both', direction='in', top=True, right=True)\n",
    "    ax.plot(df9['Freq (GHz)'][mask], fit_model_weights9(df9['Freq (GHz)'][mask]), 'r--')\n",
    "    ax.annotate('${\\u03B1 = -0.093 \\\\pm 0.036}$', xy=(90, 100), xycoords='axes points', size=9, ha='right', va='top', bbox=dict(boxstyle='round', fc='w', ec=\"w\"))\n",
    "\n",
    "plt.show();\n"
   ]
  },
  {
   "cell_type": "markdown",
   "id": "d36d4f57-c497-420d-a616-72ccd3104860",
   "metadata": {},
   "source": [
    "## Day 33.99 (df10)"
   ]
  },
  {
   "cell_type": "code",
   "execution_count": 62,
   "id": "3b59592f-4e86-4b23-9c59-fb5c84d4e059",
   "metadata": {},
   "outputs": [],
   "source": [
    "#(work for anything with 3+ points)\n",
    "mask = df10['Flux Density (mJy)'] > 3 * df10['Uncertainty (mJy)']  # apply detection threshold\n",
    "\n",
    "x10 = df10['Freq (GHz)'][mask].values.tolist()\n",
    "y10 = df10['Flux Density (mJy)'][mask].values.tolist()\n",
    "yerr10 = df10['Uncertainty (mJy)'][mask].values.tolist()\n"
   ]
  },
  {
   "cell_type": "code",
   "execution_count": 63,
   "id": "32aa7cd2-0812-4cbf-83d9-7fa6ee8976fd",
   "metadata": {},
   "outputs": [],
   "source": [
    "yerr10 = error(yerr10, x10, y10)"
   ]
  },
  {
   "cell_type": "code",
   "execution_count": 64,
   "id": "976eda16-8f68-4bdd-bd7a-bd9f56aa5c68",
   "metadata": {},
   "outputs": [
    {
     "data": {
      "text/plain": [
       "<PowerLaw1D(amplitude=15.33350072, x_0=716.7416679, alpha=0.28682788)>"
      ]
     },
     "execution_count": 64,
     "metadata": {},
     "output_type": "execute_result"
    }
   ],
   "source": [
    "PL10 =  PowerLaw1D(amplitude = y10[0], x_0= x10[0], alpha= -1.5) \n",
    "\n",
    "#Initialize fitters\n",
    "#setting calc_uncertainties=True to output errors on measurement \n",
    "\n",
    "fit10 = fitting.LevMarLSQFitter(calc_uncertainties=True)\n",
    "\n",
    "#Fit the data w/o weights\n",
    "fit_model10 = fit10(PL10, x10, y10)\n",
    "\n",
    "\n",
    "#weight is 1/error^2\n",
    "y_weight10 = 1/ (np.power(yerr10, 2))  \n",
    "\n",
    "# fit the data using the uncertainties as weights\n",
    "fit_model_weights10 = fit10(PL10, x10, y10, weights=y_weight10)\n",
    "\n",
    "fit_model_weights10\n"
   ]
  },
  {
   "cell_type": "code",
   "execution_count": 65,
   "id": "10bb904d-bf44-47af-9230-7f99b4d67003",
   "metadata": {},
   "outputs": [
    {
     "data": {
      "text/plain": [
       "{'nfev': 43,\n",
       " 'fvec': array([-0.30365111, -0.27589598,  0.34014728,  0.25682559, -0.25198807,\n",
       "        -0.37376801, -0.65388461, -0.6484615 ]),\n",
       " 'fjac': array([[-6.18223129e+01, -8.08035744e-01, -4.96338081e-03,\n",
       "          5.55278082e-01,  9.92586305e-02,  8.29760323e-02,\n",
       "          2.62905794e-02,  1.97924049e-02],\n",
       "        [-8.08035744e-01,  6.62439568e-02,  4.06905247e-04,\n",
       "         -7.49695541e-01, -3.55482045e-01, -3.60101456e-01,\n",
       "         -1.99824431e-01, -1.65082350e-01],\n",
       "        [-4.96338081e-03,  4.06905247e-04,  1.67838077e-18,\n",
       "          5.49083893e-01,  8.07476313e-02,  1.13046684e-01,\n",
       "          2.42242894e-02,  1.61495263e-02]]),\n",
       " 'ipvt': array([2, 0, 1], dtype=int32),\n",
       " 'qtf': array([ 1.01127271e-05,  9.02641823e-05, -3.89328438e-01]),\n",
       " 'message': 'Both actual and predicted relative reductions in the sum of squares\\n  are at most 0.000000',\n",
       " 'ierr': 1,\n",
       " 'param_jac': None,\n",
       " 'param_cov': array([[ 1.33940853e+31, -2.18054993e+33,  5.90692638e+14],\n",
       "        [-2.18054993e+33,  3.54992363e+35, -9.61644458e+16],\n",
       "        [ 5.90692638e+14, -9.61644458e+16,  6.52412195e-02]]),\n",
       " 'njev': 29,\n",
       " 'cov_x': array([[ 1.33940853e+31, -2.18054993e+33,  5.90692638e+14],\n",
       "        [-2.18054993e+33,  3.54992363e+35, -9.61644458e+16],\n",
       "        [ 5.90692638e+14, -9.61644458e+16,  6.52412195e-02]])}"
      ]
     },
     "execution_count": 65,
     "metadata": {},
     "output_type": "execute_result"
    }
   ],
   "source": [
    "fit10.fit_info"
   ]
  },
  {
   "cell_type": "code",
   "execution_count": 66,
   "id": "c3bed901-7adf-438a-83ee-b79dcbc0f483",
   "metadata": {},
   "outputs": [
    {
     "name": "stdout",
     "output_type": "stream",
     "text": [
      "The error/standard deviation is 0.08778338056139479\n"
     ]
    }
   ],
   "source": [
    "#taking fvec\n",
    "fvec10 = np.array([-0.30365111, -0.27589598,  0.34014728,  0.25682559, -0.25198807,\n",
    "        -0.37376801, -0.65388461, -0.6484615 ])\n",
    "var10 = np.var(fvec10)\n",
    "\n",
    "#taking cov_x\n",
    "cov_x10 = np.array([[ 1.33940853e+31, -2.18054993e+33,  5.90692638e+14],\n",
    "        [-2.18054993e+33,  3.54992363e+35, -9.61644458e+16],\n",
    "        [ 5.90692638e+14, -9.61644458e+16,  6.52412195e-02]])\n",
    "\n",
    "def stand(cov):\n",
    "    diag = np.diagonal(cov)\n",
    "    sd1 = np.sqrt(diag[0])\n",
    "    sd2 = np.sqrt(diag[1])\n",
    "    sd3 = np.sqrt(diag[2])\n",
    "    return(sd1,sd2,sd3)\n",
    "\n",
    "diag10 = stand(cov_x10*var10) \n",
    "\n",
    "#The last diagonal element corresponds to alpha\n",
    "#So here we are calculating the standard deviation on the slope\n",
    "\n",
    "#print(diag)  #prints standard deviations of all three variances\n",
    "\n",
    "print('The error/standard deviation is', diag10[2]) #Just showing the standard deviation on the slope\n",
    "\n"
   ]
  },
  {
   "cell_type": "code",
   "execution_count": 67,
   "id": "50110b3f-79be-4419-a063-9d79c8ac8974",
   "metadata": {},
   "outputs": [
    {
     "data": {
      "image/png": "[encoded data removed]",
      "text/plain": [
       "<Figure size 640x480 with 1 Axes>"
      ]
     },
     "metadata": {},
     "output_type": "display_data"
    }
   ],
   "source": [
    "#plotting to check\n",
    "fig,ax = plt.subplots()\n",
    "mask = df10['Flux Density (mJy)'] > 3 * df10['Uncertainty (mJy)']  # apply detection threshold\n",
    "if mask.any():  # proceed only if at least one detection\n",
    "    ax.errorbar(df10['Freq (GHz)'][mask], df10['Flux Density (mJy)'][mask], yerr=df10['Uncertainty (mJy)'][mask], fmt='^')\n",
    "    ax.set_xscale('log')\n",
    "    ax.set_xticks([1, 5, 10, 50], labels=['1', '5', '10', '50'])\n",
    "    ax.set_yscale('log')\n",
    "    ax.set_yticks([1, 5, 10, 20, 50], labels=['1', '5', '10', '20', '50'])\n",
    "    ax.annotate('Day 33.99', xy=(90, 120), xycoords='axes points', size=9, ha='right', va='top', bbox=dict(boxstyle='round', fc='w', ec=\"w\"))\n",
    "    ax.tick_params(axis='both', which='both', direction='in', top=True, right=True)\n",
    "    ax.plot(df10['Freq (GHz)'][mask], fit_model_weights10(df10['Freq (GHz)'][mask]), 'r--')\n",
    "    ax.annotate('${\\u03B1 = -0.287 \\\\pm 0.088}$', xy=(90, 100), xycoords='axes points', size=9, ha='right', va='top', bbox=dict(boxstyle='round', fc='w', ec=\"w\"))\n",
    "\n",
    "plt.show();\n"
   ]
  },
  {
   "cell_type": "markdown",
   "id": "232937b8-836b-4f4c-b83d-64e48be895cc",
   "metadata": {},
   "source": [
    "## Day 36.01 (df11)"
   ]
  },
  {
   "cell_type": "code",
   "execution_count": 68,
   "id": "891fcf75-c82c-4038-915b-9bd64cb3dd6a",
   "metadata": {},
   "outputs": [],
   "source": [
    "#(work for anything with 3+ points)\n",
    "mask = df11['Flux Density (mJy)'] > 3 * df11['Uncertainty (mJy)']  # apply detection threshold\n",
    "\n",
    "x11 = df11['Freq (GHz)'][mask].values.tolist()\n",
    "y11 = df11['Flux Density (mJy)'][mask].values.tolist()\n",
    "yerr11 = df11['Uncertainty (mJy)'][mask].values.tolist()\n"
   ]
  },
  {
   "cell_type": "code",
   "execution_count": 69,
   "id": "7e3a511b-2e8f-4c84-a0c6-752617af8ca7",
   "metadata": {},
   "outputs": [],
   "source": [
    "yerr11 = error(yerr11, x11, y11)"
   ]
  },
  {
   "cell_type": "code",
   "execution_count": 70,
   "id": "d7aaf75b-9372-413e-956f-6cd06ab858bf",
   "metadata": {},
   "outputs": [
    {
     "data": {
      "text/plain": [
       "<PowerLaw1D(amplitude=19.58572375, x_0=678.09504108, alpha=0.22835415)>"
      ]
     },
     "execution_count": 70,
     "metadata": {},
     "output_type": "execute_result"
    }
   ],
   "source": [
    "PL11 =  PowerLaw1D(amplitude = y11[0], x_0= x11[0], alpha= -1.5) \n",
    "\n",
    "#Initialize fitters\n",
    "#setting calc_uncertainties=True to output errors on measurement \n",
    "\n",
    "fit11 = fitting.LevMarLSQFitter(calc_uncertainties=True)\n",
    "\n",
    "#Fit the data w/o weights\n",
    "fit_model11 = fit11(PL11, x11, y11)\n",
    "\n",
    "\n",
    "#weight is 1/error^2\n",
    "y_weight11 = 1/ (np.power(yerr11, 2))  \n",
    "\n",
    "# fit the data using the uncertainties as weights\n",
    "fit_model_weights11 = fit11(PL11, x11, y11, weights=y_weight11)\n",
    "\n",
    "fit_model_weights11\n"
   ]
  },
  {
   "cell_type": "code",
   "execution_count": 71,
   "id": "179b6988-0a16-44e8-be76-2dd7377cfee4",
   "metadata": {},
   "outputs": [
    {
     "data": {
      "text/plain": [
       "{'nfev': 52,\n",
       " 'fvec': array([-0.32098419, -0.20391293,  0.40169326,  0.16023434, -0.28263813,\n",
       "        -0.3996153 , -0.61841716, -0.60602302]),\n",
       " 'fjac': array([[-6.52196346e+01, -6.70368777e-01, -4.43284248e-03,\n",
       "          5.25775240e-01,  8.81935243e-02,  7.17023033e-02,\n",
       "          2.19022819e-02,  1.63547598e-02],\n",
       "        [-6.70368777e-01,  5.42088591e-02,  3.58458421e-04,\n",
       "         -7.69483404e-01, -3.33022661e-01, -3.27274427e-01,\n",
       "         -1.74482600e-01, -1.42965037e-01],\n",
       "        [-4.43284248e-03,  3.58458421e-04,  3.81161062e-19,\n",
       "          7.11118135e-01, -3.55559067e-01, -2.48891347e-01,\n",
       "         -2.48891347e-01, -2.48891347e-01]]),\n",
       " 'ipvt': array([2, 0, 1], dtype=int32),\n",
       " 'qtf': array([ 9.55518226e-06,  7.10903795e-05, -8.79064211e-01]),\n",
       " 'message': 'Both actual and predicted relative reductions in the sum of squares\\n  are at most 0.000000',\n",
       " 'ierr': 1,\n",
       " 'param_jac': None,\n",
       " 'param_cov': array([[ 3.00967766e+32, -4.55146769e+34,  8.15182550e+15],\n",
       "        [-4.55146769e+34,  6.88308201e+36, -1.23278220e+18],\n",
       "        [ 8.15182550e+15, -1.23278220e+18,  2.56982964e-01]]),\n",
       " 'njev': 35,\n",
       " 'cov_x': array([[ 3.00967766e+32, -4.55146769e+34,  8.15182550e+15],\n",
       "        [-4.55146769e+34,  6.88308201e+36, -1.23278220e+18],\n",
       "        [ 8.15182550e+15, -1.23278220e+18,  2.56982964e-01]])}"
      ]
     },
     "execution_count": 71,
     "metadata": {},
     "output_type": "execute_result"
    }
   ],
   "source": [
    "fit11.fit_info"
   ]
  },
  {
   "cell_type": "code",
   "execution_count": 72,
   "id": "8340cb0e-336b-4cd3-82d9-2c70d8bb95a4",
   "metadata": {},
   "outputs": [
    {
     "name": "stdout",
     "output_type": "stream",
     "text": [
      "The error/standard deviation is 0.16851002477468807\n"
     ]
    }
   ],
   "source": [
    "#taking fvec\n",
    "fvec11 = np.array([-0.32098419, -0.20391293,  0.40169326,  0.16023434, -0.28263813,\n",
    "        -0.3996153 , -0.61841716, -0.60602302])\n",
    "var11 = np.var(fvec11)\n",
    "\n",
    "#taking cov_x\n",
    "cov_x11 = np.array([[ 3.00967766e+32, -4.55146769e+34,  8.15182550e+15],\n",
    "        [-4.55146769e+34,  6.88308201e+36, -1.23278220e+18],\n",
    "        [ 8.15182550e+15, -1.23278220e+18,  2.56982964e-01]])\n",
    "\n",
    "def stand(cov):\n",
    "    diag = np.diagonal(cov)\n",
    "    sd1 = np.sqrt(diag[0])\n",
    "    sd2 = np.sqrt(diag[1])\n",
    "    sd3 = np.sqrt(diag[2])\n",
    "    return(sd1,sd2,sd3)\n",
    "\n",
    "diag11 = stand(cov_x11*var11) \n",
    "\n",
    "#The last diagonal element corresponds to alpha\n",
    "#So here we are calculating the standard deviation on the slope\n",
    "\n",
    "#print(diag)  #prints standard deviations of all three variances\n",
    "\n",
    "print('The error/standard deviation is', diag11[2]) #Just showing the standard deviation on the slope\n",
    "\n"
   ]
  },
  {
   "cell_type": "code",
   "execution_count": 73,
   "id": "d2373529-6fdc-4ba8-9a29-fb96a5f2704c",
   "metadata": {},
   "outputs": [
    {
     "data": {
      "image/png": "[encoded data removed]",
      "text/plain": [
       "<Figure size 640x480 with 1 Axes>"
      ]
     },
     "metadata": {},
     "output_type": "display_data"
    }
   ],
   "source": [
    "#plotting to check\n",
    "fig,ax = plt.subplots()\n",
    "mask = df11['Flux Density (mJy)'] > 3 * df11['Uncertainty (mJy)']  # apply detection threshold\n",
    "if mask.any():  # proceed only if at least one detection\n",
    "    ax.errorbar(df11['Freq (GHz)'][mask], df11['Flux Density (mJy)'][mask], yerr=df11['Uncertainty (mJy)'][mask], fmt='^')\n",
    "    ax.set_xscale('log')\n",
    "    ax.set_xticks([1, 5, 10, 50], labels=['1', '5', '10', '50'])\n",
    "    ax.set_yscale('log')\n",
    "    ax.set_yticks([1, 5, 10, 20, 50], labels=['1', '5', '10', '20', '50'])\n",
    "    ax.annotate('Day 36.01', xy=(90, 120), xycoords='axes points', size=9, ha='right', va='top', bbox=dict(boxstyle='round', fc='w', ec=\"w\"))\n",
    "    ax.tick_params(axis='both', which='both', direction='in', top=True, right=True)\n",
    "    ax.plot(df11['Freq (GHz)'][mask], fit_model_weights11(df11['Freq (GHz)'][mask]), 'r--')\n",
    "    ax.annotate('${\\u03B1 = -0.228 \\\\pm 0.169}$', xy=(90, 100), xycoords='axes points', size=9, ha='right', va='top', bbox=dict(boxstyle='round', fc='w', ec=\"w\"))\n",
    "\n",
    "plt.show();\n"
   ]
  },
  {
   "cell_type": "markdown",
   "id": "7a32bd1c-5b9d-42ac-bb1c-ae691a135ef9",
   "metadata": {},
   "source": [
    "## Day 53.96 (df12)"
   ]
  },
  {
   "cell_type": "code",
   "execution_count": 74,
   "id": "4f1cc1b1-d5f6-4386-84ec-8fddfc59f02f",
   "metadata": {},
   "outputs": [],
   "source": [
    "#(work for anything with 3+ points)\n",
    "mask = df12['Flux Density (mJy)'] > 3 * df12['Uncertainty (mJy)']  # apply detection threshold\n",
    "\n",
    "x12 = df12['Freq (GHz)'][mask].values.tolist()\n",
    "y12 = df12['Flux Density (mJy)'][mask].values.tolist()\n",
    "yerr12 = df12['Uncertainty (mJy)'][mask].values.tolist()\n"
   ]
  },
  {
   "cell_type": "code",
   "execution_count": 75,
   "id": "92fc4d3e-722c-4c7d-b301-23bc4fee95ac",
   "metadata": {},
   "outputs": [],
   "source": [
    "yerr12 = error(yerr12, x12, y12)"
   ]
  },
  {
   "cell_type": "code",
   "execution_count": 76,
   "id": "de97b5d2-1b69-4f4a-91f2-316410cf6fc1",
   "metadata": {},
   "outputs": [
    {
     "data": {
      "text/plain": [
       "<PowerLaw1D(amplitude=12.23254804, x_0=836.47545869, alpha=0.28340213)>"
      ]
     },
     "execution_count": 76,
     "metadata": {},
     "output_type": "execute_result"
    }
   ],
   "source": [
    "PL12 =  PowerLaw1D(amplitude = y12[0], x_0= x12[0], alpha= -3) \n",
    "\n",
    "#Initialize fitters\n",
    "#setting calc_uncertainties=True to output errors on measurement \n",
    "\n",
    "fit12 = fitting.LevMarLSQFitter(calc_uncertainties=True)\n",
    "\n",
    "#Fit the data w/o weights\n",
    "fit_model12 = fit12(PL12, x12, y12)\n",
    "\n",
    "\n",
    "#weight is 1/error^2\n",
    "y_weight12 = 1/ (np.power(yerr12, 2))  \n",
    "\n",
    "# fit the data using the uncertainties as weights\n",
    "fit_model_weights12 = fit12(PL12, x12, y12, weights=y_weight12)\n",
    "\n",
    "fit_model_weights12\n"
   ]
  },
  {
   "cell_type": "code",
   "execution_count": 77,
   "id": "e23902b1-8d74-46b2-b2aa-c7fb8020f916",
   "metadata": {},
   "outputs": [
    {
     "data": {
      "text/plain": [
       "{'nfev': 65,\n",
       " 'fvec': array([-0.23634418, -0.27830641,  0.32573762,  0.25488424, -0.45934   ,\n",
       "        -0.59505233, -0.71917351, -0.68581384]),\n",
       " 'fjac': array([[-7.77004367e+01, -1.22779562e+00, -5.09553319e-03,\n",
       "          5.49433472e-01,  7.87361015e-02,  6.07079950e-02,\n",
       "          1.55368320e-02,  1.15226513e-02],\n",
       "        [-1.22779562e+00,  9.31896569e-02,  3.86750842e-04,\n",
       "         -8.17685822e-01, -3.00412400e-01, -2.79302019e-01,\n",
       "         -1.23427932e-01, -1.00198001e-01],\n",
       "        [-5.09553319e-03,  3.86750842e-04, -5.27722600e-19,\n",
       "          7.19072408e-01,  5.90666621e-01,  3.08173889e-01,\n",
       "          1.41246366e-01,  1.28405787e-01]]),\n",
       " 'ipvt': array([2, 0, 1], dtype=int32),\n",
       " 'qtf': array([2.26382712e-05, 1.55945606e-04, 5.20826379e-01]),\n",
       " 'message': 'Both actual and predicted relative reductions in the sum of squares\\n  are at most 0.000000',\n",
       " 'ierr': 1,\n",
       " 'param_jac': None,\n",
       " 'param_cov': array([[ 6.18465850e+31, -1.49022611e+34,  4.42462207e+14],\n",
       "        [-1.49022611e+34,  3.59077848e+36, -1.06613604e+17],\n",
       "        [ 4.42462207e+14, -1.06613604e+17,  3.20832102e-02]]),\n",
       " 'njev': 46,\n",
       " 'cov_x': array([[ 6.18465850e+31, -1.49022611e+34,  4.42462207e+14],\n",
       "        [-1.49022611e+34,  3.59077848e+36, -1.06613604e+17],\n",
       "        [ 4.42462207e+14, -1.06613604e+17,  3.20832102e-02]])}"
      ]
     },
     "execution_count": 77,
     "metadata": {},
     "output_type": "execute_result"
    }
   ],
   "source": [
    "fit12.fit_info"
   ]
  },
  {
   "cell_type": "code",
   "execution_count": 78,
   "id": "474902d7-bd7f-4c2a-bdec-c3ab81e12509",
   "metadata": {},
   "outputs": [
    {
     "name": "stdout",
     "output_type": "stream",
     "text": [
      "The error/standard deviation is 0.06593416923708988\n"
     ]
    }
   ],
   "source": [
    "#taking fvec\n",
    "fvec12 = np.array([-0.11805603, -0.1390707 ,  0.16298192,  0.12737298, -0.22977516,\n",
    "        -0.29763902, -0.35966734, -0.34298007])\n",
    "var12 = np.var(fvec12)\n",
    "\n",
    "#taking cov_x\n",
    "cov_x12 = np.array([[ 5.63030655e+32, -1.35636212e+35, -1.89697242e+15],\n",
    "        [-1.35636212e+35,  3.26752760e+37,  4.56987824e+17],\n",
    "        [-1.89697242e+15,  4.56987824e+17,  1.21860938e-01]])\n",
    "\n",
    "def stand(cov):\n",
    "    diag = np.diagonal(cov)\n",
    "    sd1 = np.sqrt(diag[0])\n",
    "    sd2 = np.sqrt(diag[1])\n",
    "    sd3 = np.sqrt(diag[2])\n",
    "    return(sd1,sd2,sd3)\n",
    "\n",
    "diag12 = stand(cov_x12*var12) \n",
    "\n",
    "#The last diagonal element corresponds to alpha\n",
    "#So here we are calculating the standard deviation on the slope\n",
    "\n",
    "#print(diag)  #prints standard deviations of all three variances\n",
    "\n",
    "print('The error/standard deviation is', diag12[2]) #Just showing the standard deviation on the slope\n",
    "\n"
   ]
  },
  {
   "cell_type": "code",
   "execution_count": 79,
   "id": "bcf51bec-89fe-4745-9f70-b38f0da7223a",
   "metadata": {},
   "outputs": [
    {
     "data": {
      "image/png": "[encoded data removed]",
      "text/plain": [
       "<Figure size 640x480 with 1 Axes>"
      ]
     },
     "metadata": {},
     "output_type": "display_data"
    }
   ],
   "source": [
    "#plotting to check\n",
    "fig,ax = plt.subplots()\n",
    "mask = df12['Flux Density (mJy)'] > 3 * df12['Uncertainty (mJy)']  # apply detection threshold\n",
    "if mask.any():  # proceed only if at least one detection\n",
    "    ax.errorbar(df12['Freq (GHz)'][mask], df12['Flux Density (mJy)'][mask], yerr=df12['Uncertainty (mJy)'][mask], fmt='^')\n",
    "    ax.set_xscale('log')\n",
    "    ax.set_xticks([1, 5, 10, 50], labels=['1', '5', '10', '50'])\n",
    "    ax.set_yscale('log')\n",
    "    ax.set_yticks([1, 5, 10, 20, 50], labels=['1', '5', '10', '20', '50'])\n",
    "    ax.annotate('Day 53.96', xy=(90, 120), xycoords='axes points', size=9, ha='right', va='top', bbox=dict(boxstyle='round', fc='w', ec=\"w\"))\n",
    "    ax.tick_params(axis='both', which='both', direction='in', top=True, right=True)\n",
    "    ax.plot(df12['Freq (GHz)'][mask], fit_model_weights12(df12['Freq (GHz)'][mask]), 'r--')\n",
    "    ax.annotate('${\\u03B1 = -0.284 \\\\pm 0.066}$', xy=(90, 100), xycoords='axes points', size=9, ha='right', va='top', bbox=dict(boxstyle='round', fc='w', ec=\"w\"))\n",
    "\n",
    "plt.show();\n"
   ]
  },
  {
   "cell_type": "markdown",
   "id": "6e206dd5-2b20-43a3-a357-1bc59790f9ba",
   "metadata": {},
   "source": [
    "## Day 76.94 (df13)"
   ]
  },
  {
   "cell_type": "code",
   "execution_count": 80,
   "id": "a64604cc-1e0d-441b-9c35-60564f5268f0",
   "metadata": {},
   "outputs": [],
   "source": [
    "#(work for anything with 3+ points)\n",
    "mask = df13['Flux Density (mJy)'] > 3 * df13['Uncertainty (mJy)']  # apply detection threshold\n",
    "\n",
    "x13 = df13['Freq (GHz)'][mask].values.tolist()\n",
    "y13 = df13['Flux Density (mJy)'][mask].values.tolist()\n",
    "yerr13 = df13['Uncertainty (mJy)'][mask].values.tolist()\n"
   ]
  },
  {
   "cell_type": "code",
   "execution_count": 81,
   "id": "014c4f19-68e4-4f97-9045-b2758a634347",
   "metadata": {},
   "outputs": [],
   "source": [
    "yerr13 = error(yerr13, x13, y13)"
   ]
  },
  {
   "cell_type": "code",
   "execution_count": 82,
   "id": "ef878039-b454-48fa-b14d-9527d238245b",
   "metadata": {},
   "outputs": [
    {
     "data": {
      "text/plain": [
       "<PowerLaw1D(amplitude=37.8594619, x_0=6.16394692, alpha=-0.35932405)>"
      ]
     },
     "execution_count": 82,
     "metadata": {},
     "output_type": "execute_result"
    }
   ],
   "source": [
    "PL13 =  PowerLaw1D(amplitude = y13[0], x_0= x13[0], alpha= -1) \n",
    "\n",
    "#Initialize fitters\n",
    "#setting calc_uncertainties=True to output errors on measurement \n",
    "\n",
    "fit13 = fitting.LevMarLSQFitter(calc_uncertainties=True)\n",
    "\n",
    "#Fit the data w/o weights\n",
    "fit_model13 = fit13(PL13, x13, y13)\n",
    "\n",
    "\n",
    "#weight is 1/error^2\n",
    "y_weight13 = 1/ (np.power(yerr13, 2))  \n",
    "\n",
    "# fit the data using the uncertainties as weights\n",
    "fit_model_weights13 = fit13(PL13, x13, y13, weights=y_weight13)\n",
    "\n",
    "fit_model_weights13\n"
   ]
  },
  {
   "cell_type": "code",
   "execution_count": 83,
   "id": "ada2e423-656a-4896-978b-5b95e955f106",
   "metadata": {},
   "outputs": [
    {
     "data": {
      "text/plain": [
       "{'nfev': 16,\n",
       " 'fvec': array([ 0.18418854, -0.17129513, -0.32672975,  0.27772379]),\n",
       " 'fjac': array([[-1.49259406e+01,  1.12531963e+00, -5.09887146e-01,\n",
       "         -9.06255391e-02],\n",
       "        [ 1.12531963e+00,  8.82799153e-01, -4.00000079e-01,\n",
       "          8.12253885e-01],\n",
       "        [-5.09887146e-01, -4.00000079e-01, -1.14439170e-16,\n",
       "          9.70142500e-01]]),\n",
       " 'ipvt': array([2, 1, 0], dtype=int32),\n",
       " 'qtf': array([-1.19157237e-05, -9.34614709e-06, -3.62101382e-01]),\n",
       " 'message': 'Both actual and predicted relative reductions in the sum of squares\\n  are at most 0.000000',\n",
       " 'ierr': 1,\n",
       " 'param_jac': None,\n",
       " 'param_cov': array([[ 7.63573067e+31,  3.45978229e+31, -6.93752964e+14],\n",
       "        [ 3.45978229e+31,  1.56764218e+31, -3.14342441e+14],\n",
       "        [-6.93752964e+14, -3.14342441e+14,  1.80854738e-02]]),\n",
       " 'njev': 8,\n",
       " 'cov_x': array([[ 7.63573067e+31,  3.45978229e+31, -6.93752964e+14],\n",
       "        [ 3.45978229e+31,  1.56764218e+31, -3.14342441e+14],\n",
       "        [-6.93752964e+14, -3.14342441e+14,  1.80854738e-02]])}"
      ]
     },
     "execution_count": 83,
     "metadata": {},
     "output_type": "execute_result"
    }
   ],
   "source": [
    "fit13.fit_info"
   ]
  },
  {
   "cell_type": "code",
   "execution_count": 84,
   "id": "4eeb6389-58f7-4075-b353-9a7ba9239df7",
   "metadata": {},
   "outputs": [
    {
     "name": "stdout",
     "output_type": "stream",
     "text": [
      "The error/standard deviation is 0.033406336954901986\n"
     ]
    }
   ],
   "source": [
    "#taking fvec\n",
    "fvec13 = np.array([ 0.18418854, -0.17129513, -0.32672975,  0.27772379])\n",
    "var13 = np.var(fvec13)\n",
    "\n",
    "#taking cov_x\n",
    "cov_x13 = np.array([[ 7.63573067e+31,  3.45978229e+31, -6.93752964e+14],\n",
    "        [ 3.45978229e+31,  1.56764218e+31, -3.14342441e+14],\n",
    "        [-6.93752964e+14, -3.14342441e+14,  1.80854738e-02]])\n",
    "\n",
    "def stand(cov):\n",
    "    diag = np.diagonal(cov)\n",
    "    sd1 = np.sqrt(diag[0])\n",
    "    sd2 = np.sqrt(diag[1])\n",
    "    sd3 = np.sqrt(diag[2])\n",
    "    return(sd1,sd2,sd3)\n",
    "\n",
    "diag13 = stand(cov_x13*var13) \n",
    "\n",
    "#The last diagonal element corresponds to alpha\n",
    "#So here we are calculating the standard deviation on the slope\n",
    "\n",
    "#print(diag)  #prints standard deviations of all three variances\n",
    "\n",
    "print('The error/standard deviation is', diag13[2]) #Just showing the standard deviation on the slope\n",
    "\n"
   ]
  },
  {
   "cell_type": "code",
   "execution_count": 85,
   "id": "329fce12-953b-4087-864e-3fe2826e2546",
   "metadata": {},
   "outputs": [
    {
     "data": {
      "image/png": "[encoded data removed]",
      "text/plain": [
       "<Figure size 640x480 with 1 Axes>"
      ]
     },
     "metadata": {},
     "output_type": "display_data"
    }
   ],
   "source": [
    "#plotting to check\n",
    "fig,ax = plt.subplots()\n",
    "mask = df13['Flux Density (mJy)'] > 3 * df13['Uncertainty (mJy)']  # apply detection threshold\n",
    "if mask.any():  # proceed only if at least one detection\n",
    "    ax.errorbar(df13['Freq (GHz)'][mask], df13['Flux Density (mJy)'][mask], yerr=df13['Uncertainty (mJy)'][mask], fmt='^')\n",
    "    ax.set_xscale('log')\n",
    "    ax.set_xticks([1, 5, 10, 50], labels=['1', '5', '10', '50'])\n",
    "    ax.set_yscale('log')\n",
    "    ax.set_yticks([1, 5, 10, 20, 50], labels=['1', '5', '10', '20', '50'])\n",
    "    ax.annotate('Day 76.94', xy=(90, 120), xycoords='axes points', size=9, ha='right', va='top', bbox=dict(boxstyle='round', fc='w', ec=\"w\"))\n",
    "    ax.tick_params(axis='both', which='both', direction='in', top=True, right=True)\n",
    "    ax.plot(df13['Freq (GHz)'][mask], fit_model_weights13(df13['Freq (GHz)'][mask]), 'r--')\n",
    "    ax.annotate('${\\u03B1 = 0.359 \\\\pm 0.033}$', xy=(90, 100), xycoords='axes points', size=9, ha='right', va='top', bbox=dict(boxstyle='round', fc='w', ec=\"w\"))\n",
    "\n",
    "plt.show();\n"
   ]
  },
  {
   "cell_type": "markdown",
   "id": "c0ad5195-261e-45f3-b66f-3dcc92aa0fdf",
   "metadata": {},
   "source": [
    "## Day 77.92 (df14)"
   ]
  },
  {
   "cell_type": "code",
   "execution_count": 86,
   "id": "d0f07af5-288f-40f9-b099-0ea8c0a99f8d",
   "metadata": {},
   "outputs": [],
   "source": [
    "#(work for anything with 3+ points)\n",
    "mask = df14['Flux Density (mJy)'] > 3 * df14['Uncertainty (mJy)']  # apply detection threshold\n",
    "\n",
    "x14 = df14['Freq (GHz)'][mask].values.tolist()\n",
    "y14 = df14['Flux Density (mJy)'][mask].values.tolist()\n",
    "yerr14 = df14['Uncertainty (mJy)'][mask].values.tolist()\n"
   ]
  },
  {
   "cell_type": "code",
   "execution_count": 87,
   "id": "65c759f8-8b51-4cfe-9bcf-111b07c2d03a",
   "metadata": {},
   "outputs": [],
   "source": [
    "yerr14 = error(yerr14, x14, y14)"
   ]
  },
  {
   "cell_type": "code",
   "execution_count": 88,
   "id": "f959c15a-c2fe-4e65-b29f-36753aa1547a",
   "metadata": {},
   "outputs": [
    {
     "data": {
      "text/plain": [
       "<PowerLaw1D(amplitude=58.03284856, x_0=750.69025091, alpha=-0.08757128)>"
      ]
     },
     "execution_count": 88,
     "metadata": {},
     "output_type": "execute_result"
    }
   ],
   "source": [
    "PL14 =  PowerLaw1D(amplitude = y14[0], x_0= x14[0], alpha= -2.5) \n",
    "\n",
    "#Initialize fitters\n",
    "#setting calc_uncertainties=True to output errors on measurement \n",
    "\n",
    "fit14 = fitting.LevMarLSQFitter(calc_uncertainties=True)\n",
    "\n",
    "#Fit the data w/o weights\n",
    "fit_model14 = fit14(PL14, x14, y14)\n",
    "\n",
    "\n",
    "#weight is 1/error^2\n",
    "y_weight14 = 1/ (np.power(yerr14, 2))  \n",
    "\n",
    "# fit the data using the uncertainties as weights\n",
    "fit_model_weights14 = fit14(PL14, x14, y14, weights=y_weight14)\n",
    "\n",
    "fit_model_weights14\n"
   ]
  },
  {
   "cell_type": "code",
   "execution_count": 89,
   "id": "a1d7fd9a-8227-409a-86cc-328a25b6a1b6",
   "metadata": {},
   "outputs": [
    {
     "data": {
      "text/plain": [
       "{'nfev': 49,\n",
       " 'fvec': array([-0.24495612, -0.08426903,  0.3820162 ,  0.087995  , -0.23463288,\n",
       "        -0.34695743, -0.56292812, -0.56346715]),\n",
       " 'fjac': array([[-1.13781966e+02, -3.77215818e-01,  2.54815451e-03,\n",
       "          4.33587652e-01,  6.86181598e-02,  5.50493959e-02,\n",
       "          1.94560548e-02,  1.53038087e-02],\n",
       "        [-3.77215818e-01,  2.96130258e-02, -2.00040830e-04,\n",
       "         -7.73060034e-01, -2.85102785e-01, -2.73004969e-01,\n",
       "         -1.63552745e-01, -1.40582356e-01],\n",
       "        [ 2.54815451e-03, -2.00040830e-04,  4.54666583e-19,\n",
       "          9.53843729e-01,  1.93749507e-01,  1.78845699e-01,\n",
       "          1.19230466e-01,  7.45190413e-02]]),\n",
       " 'ipvt': array([2, 0, 1], dtype=int32),\n",
       " 'qtf': array([1.58475214e-06, 4.85259629e-05, 5.05682427e-02]),\n",
       " 'message': 'Both actual and predicted relative reductions in the sum of squares\\n  are at most 0.000000',\n",
       " 'ierr': 1,\n",
       " 'param_jac': None,\n",
       " 'param_cov': array([[ 2.20742346e+32,  3.26775728e+34, -4.84398139e+14],\n",
       "        [ 3.26775728e+34,  4.83742148e+36, -7.17078338e+16],\n",
       "        [-4.84398139e+14, -7.17078338e+16,  1.36735631e-02]]),\n",
       " 'njev': 34,\n",
       " 'cov_x': array([[ 2.20742346e+32,  3.26775728e+34, -4.84398139e+14],\n",
       "        [ 3.26775728e+34,  4.83742148e+36, -7.17078338e+16],\n",
       "        [-4.84398139e+14, -7.17078338e+16,  1.36735631e-02]])}"
      ]
     },
     "execution_count": 89,
     "metadata": {},
     "output_type": "execute_result"
    }
   ],
   "source": [
    "fit14.fit_info"
   ]
  },
  {
   "cell_type": "code",
   "execution_count": 90,
   "id": "415f51d4-07b1-4750-b3b7-50046371a43e",
   "metadata": {},
   "outputs": [
    {
     "name": "stdout",
     "output_type": "stream",
     "text": [
      "The error/standard deviation is 0.03516743783027706\n"
     ]
    }
   ],
   "source": [
    "#taking fvec\n",
    "fvec14 = np.array([-0.24495612, -0.08426903,  0.3820162 ,  0.087995  , -0.23463288,\n",
    "        -0.34695743, -0.56292812, -0.56346715])\n",
    "var14 = np.var(fvec14)\n",
    "\n",
    "#taking cov_x\n",
    "cov_x14 = np.array([[ 2.20742346e+32,  3.26775728e+34, -4.84398139e+14],\n",
    "        [ 3.26775728e+34,  4.83742148e+36, -7.17078338e+16],\n",
    "        [-4.84398139e+14, -7.17078338e+16,  1.36735631e-02]])\n",
    "\n",
    "def stand(cov):\n",
    "    diag = np.diagonal(cov)\n",
    "    sd1 = np.sqrt(diag[0])\n",
    "    sd2 = np.sqrt(diag[1])\n",
    "    sd3 = np.sqrt(diag[2])\n",
    "    return(sd1,sd2,sd3)\n",
    "\n",
    "diag14 = stand(cov_x14*var14) \n",
    "\n",
    "#The last diagonal element corresponds to alpha\n",
    "#So here we are calculating the standard deviation on the slope\n",
    "\n",
    "#print(diag)  #prints standard deviations of all three variances\n",
    "\n",
    "print('The error/standard deviation is', diag14[2]) #Just showing the standard deviation on the slope\n",
    "\n"
   ]
  },
  {
   "cell_type": "code",
   "execution_count": 91,
   "id": "44b57791-2c80-4a68-a922-9a878db35e4a",
   "metadata": {},
   "outputs": [
    {
     "data": {
      "image/png": "[encoded data removed]",
      "text/plain": [
       "<Figure size 640x480 with 1 Axes>"
      ]
     },
     "metadata": {},
     "output_type": "display_data"
    }
   ],
   "source": [
    "#plotting to check\n",
    "fig,ax = plt.subplots()\n",
    "mask = df14['Flux Density (mJy)'] > 3 * df14['Uncertainty (mJy)']  # apply detection threshold\n",
    "if mask.any():  # proceed only if at least one detection\n",
    "    ax.errorbar(df14['Freq (GHz)'][mask], df14['Flux Density (mJy)'][mask], yerr=df14['Uncertainty (mJy)'][mask], fmt='^')\n",
    "    ax.set_xscale('log')\n",
    "    ax.set_xticks([1, 5, 10, 50], labels=['1', '5', '10', '50'])\n",
    "    ax.set_yscale('log')\n",
    "    ax.set_yticks([1, 5, 10, 20, 50], labels=['1', '5', '10', '20', '50'])\n",
    "    ax.annotate('Day 77.92', xy=(90, 120), xycoords='axes points', size=9, ha='right', va='top', bbox=dict(boxstyle='round', fc='w', ec=\"w\"))\n",
    "    ax.tick_params(axis='both', which='both', direction='in', top=True, right=True)\n",
    "    ax.plot(df14['Freq (GHz)'][mask], fit_model_weights14(df14['Freq (GHz)'][mask]), 'r--')\n",
    "    ax.annotate('${\\u03B1 = 0.088 \\\\pm 0.035}$', xy=(90, 100), xycoords='axes points', size=9, ha='right', va='top', bbox=dict(boxstyle='round', fc='w', ec=\"w\"))\n",
    "\n",
    "plt.show();\n"
   ]
  },
  {
   "cell_type": "markdown",
   "id": "c2d74215-11bf-4dc3-a052-4ff62cf4e702",
   "metadata": {},
   "source": [
    "## Day 89.82 (df15)"
   ]
  },
  {
   "cell_type": "code",
   "execution_count": 92,
   "id": "dc9e4cdc-8fd4-4dc9-b48c-e186dc7f5488",
   "metadata": {},
   "outputs": [],
   "source": [
    "#(work for anything with 3+ points)\n",
    "mask = df15['Flux Density (mJy)'] > 3 * df15['Uncertainty (mJy)']  # apply detection threshold\n",
    "\n",
    "x15 = df15['Freq (GHz)'][mask].values.tolist()\n",
    "y15 = df15['Flux Density (mJy)'][mask].values.tolist()\n",
    "yerr15 = df15['Uncertainty (mJy)'][mask].values.tolist()\n"
   ]
  },
  {
   "cell_type": "code",
   "execution_count": 93,
   "id": "e03b85bd-d642-4af3-adb8-4dfd1ccc3e51",
   "metadata": {},
   "outputs": [],
   "source": [
    "yerr15 = error(yerr15, x15, y15)"
   ]
  },
  {
   "cell_type": "code",
   "execution_count": 94,
   "id": "84bbd077-c7aa-4509-b56a-9e1d561288e8",
   "metadata": {},
   "outputs": [
    {
     "data": {
      "text/plain": [
       "<PowerLaw1D(amplitude=35.88856068, x_0=827.95748398, alpha=-0.01903366)>"
      ]
     },
     "execution_count": 94,
     "metadata": {},
     "output_type": "execute_result"
    }
   ],
   "source": [
    "PL15 =  PowerLaw1D(amplitude = y15[0], x_0= x15[0], alpha= -3.5) \n",
    "\n",
    "#Initialize fitters\n",
    "#setting calc_uncertainties=True to output errors on measurement \n",
    "\n",
    "fit15 = fitting.LevMarLSQFitter(calc_uncertainties=True)\n",
    "\n",
    "#Fit the data w/o weights\n",
    "fit_model15 = fit15(PL15, x15, y15)\n",
    "\n",
    "\n",
    "#weight is 1/error^2\n",
    "y_weight15 = 1/ (np.power(yerr15, 2))  \n",
    "\n",
    "# fit the data using the uncertainties as weights\n",
    "fit_model_weights15 = fit15(PL15, x15, y15, weights=y_weight15)\n",
    "\n",
    "fit_model_weights15\n"
   ]
  },
  {
   "cell_type": "code",
   "execution_count": 95,
   "id": "993d2286-efe6-4863-ab45-2d8b4be5572e",
   "metadata": {},
   "outputs": [
    {
     "data": {
      "text/plain": [
       "{'nfev': 63,\n",
       " 'fvec': array([-0.29418409, -0.0733404 ,  0.2859398 ,  0.26865753, -0.33907929,\n",
       "        -0.4757948 , -0.74097126, -0.73560635]),\n",
       " 'fjac': array([[-1.31088901e+02, -6.93666780e-01,  5.73214534e-04,\n",
       "          4.63220199e-01,  7.14269396e-02,  5.77131531e-02,\n",
       "          1.93337174e-02,  1.53079796e-02],\n",
       "        [-6.93666780e-01,  5.41135780e-02, -4.47169885e-05,\n",
       "         -7.89262910e-01, -2.87180720e-01, -2.77184233e-01,\n",
       "         -1.57280513e-01, -1.36004079e-01],\n",
       "        [ 5.73214534e-04, -4.47169885e-05,  8.95814933e-20,\n",
       "         -3.02574263e-01, -1.89108914e-02,  1.13465349e-01,\n",
       "          2.83663372e-02,  1.89108914e-02]]),\n",
       " 'ipvt': array([2, 0, 1], dtype=int32),\n",
       " 'qtf': array([ 2.42394726e-06,  3.44030378e-05, -1.76220433e-01]),\n",
       " 'message': 'Both actual and predicted relative reductions in the sum of squares\\n  are at most 0.000000',\n",
       " 'ierr': 1,\n",
       " 'param_jac': None,\n",
       " 'param_cov': array([[ 8.50934237e+31,  1.02974502e+35, -9.03982898e+13],\n",
       "        [ 1.02974502e+35,  1.24613015e+38, -1.09394105e+17],\n",
       "        [-9.03982898e+13, -1.09394105e+17,  9.71641816e-03]]),\n",
       " 'njev': 42,\n",
       " 'cov_x': array([[ 8.50934237e+31,  1.02974502e+35, -9.03982898e+13],\n",
       "        [ 1.02974502e+35,  1.24613015e+38, -1.09394105e+17],\n",
       "        [-9.03982898e+13, -1.09394105e+17,  9.71641816e-03]])}"
      ]
     },
     "execution_count": 95,
     "metadata": {},
     "output_type": "execute_result"
    }
   ],
   "source": [
    "fit15.fit_info"
   ]
  },
  {
   "cell_type": "code",
   "execution_count": 96,
   "id": "d6378119-206e-45c5-b2f9-a1da98036fde",
   "metadata": {},
   "outputs": [
    {
     "name": "stdout",
     "output_type": "stream",
     "text": [
      "The error/standard deviation is 0.036945082256276726\n"
     ]
    }
   ],
   "source": [
    "#taking fvec\n",
    "fvec15 = np.array([-0.29418409, -0.0733404 ,  0.2859398 ,  0.26865753, -0.33907929,\n",
    "        -0.4757948 , -0.74097126, -0.73560635])\n",
    "var15 = np.var(fvec15)\n",
    "\n",
    "#taking cov_x\n",
    "cov_x15 = np.array([[ 8.50934237e+31,  1.02974502e+35, -9.03982898e+13],\n",
    "        [ 1.02974502e+35,  1.24613015e+38, -1.09394105e+17],\n",
    "        [-9.03982898e+13, -1.09394105e+17,  9.71641816e-03]])\n",
    "\n",
    "def stand(cov):\n",
    "    diag = np.diagonal(cov)\n",
    "    sd1 = np.sqrt(diag[0])\n",
    "    sd2 = np.sqrt(diag[1])\n",
    "    sd3 = np.sqrt(diag[2])\n",
    "    return(sd1,sd2,sd3)\n",
    "\n",
    "diag15 = stand(cov_x15*var15) \n",
    "\n",
    "#The last diagonal element corresponds to alpha\n",
    "#So here we are calculating the standard deviation on the slope\n",
    "\n",
    "#print(diag)  #prints standard deviations of all three variances\n",
    "\n",
    "print('The error/standard deviation is', diag15[2]) #Just showing the standard deviation on the slope\n",
    "\n"
   ]
  },
  {
   "cell_type": "code",
   "execution_count": 97,
   "id": "6187e905-4490-47eb-a8a7-2608631cac43",
   "metadata": {},
   "outputs": [
    {
     "data": {
      "image/png": "[encoded data removed]",
      "text/plain": [
       "<Figure size 640x480 with 1 Axes>"
      ]
     },
     "metadata": {},
     "output_type": "display_data"
    }
   ],
   "source": [
    "#plotting to check\n",
    "fig,ax = plt.subplots()\n",
    "mask = df15['Flux Density (mJy)'] > 3 * df15['Uncertainty (mJy)']  # apply detection threshold\n",
    "if mask.any():  # proceed only if at least one detection\n",
    "    ax.errorbar(df15['Freq (GHz)'][mask], df15['Flux Density (mJy)'][mask], yerr=yerr15, fmt='^')\n",
    "    ax.set_xscale('log')\n",
    "    ax.set_xticks([1, 5, 10, 50], labels=['1', '5', '10', '50'])\n",
    "    ax.set_yscale('log')\n",
    "    ax.set_yticks([1, 5, 10, 20, 50], labels=['1', '5', '10', '20', '50'])\n",
    "    ax.annotate('Day 89.82', xy=(90, 120), xycoords='axes points', size=9, ha='right', va='top', bbox=dict(boxstyle='round', fc='w', ec=\"w\"))\n",
    "    ax.tick_params(axis='both', which='both', direction='in', top=True, right=True)\n",
    "    ax.plot(df15['Freq (GHz)'][mask], fit_model_weights15(df15['Freq (GHz)'][mask]), 'r--')\n",
    "    ax.annotate('${\\u03B1 = 0.019 \\\\pm 0.037}$', xy=(90, 100), xycoords='axes points', size=9, ha='right', va='top', bbox=dict(boxstyle='round', fc='w', ec=\"w\"))\n",
    "\n",
    "plt.show();\n"
   ]
  },
  {
   "cell_type": "markdown",
   "id": "77587b43-37e4-46f7-a711-1fc0a603ddf1",
   "metadata": {},
   "source": [
    "## Day 140.76 (df16)"
   ]
  },
  {
   "cell_type": "code",
   "execution_count": 98,
   "id": "78145707-3794-44ef-9a5f-554fff28b7b7",
   "metadata": {},
   "outputs": [],
   "source": [
    "#(work for anything with 3+ points)\n",
    "mask = df16['Flux Density (mJy)'] > 3 * df16['Uncertainty (mJy)']  # apply detection threshold\n",
    "\n",
    "x16 = df16['Freq (GHz)'][mask].values.tolist()\n",
    "y16 = df16['Flux Density (mJy)'][mask].values.tolist()\n",
    "yerr16 = df16['Uncertainty (mJy)'][mask].values.tolist()\n"
   ]
  },
  {
   "cell_type": "code",
   "execution_count": 99,
   "id": "82890a80-3064-489c-b83c-7c7cd19420cb",
   "metadata": {},
   "outputs": [],
   "source": [
    "yerr16 = error(yerr16, x16, y16)"
   ]
  },
  {
   "cell_type": "code",
   "execution_count": 100,
   "id": "7d3742a1-c718-4396-9339-73f70c614a97",
   "metadata": {},
   "outputs": [
    {
     "data": {
      "text/plain": [
       "<PowerLaw1D(amplitude=32.230776, x_0=766.97517534, alpha=-0.11053236)>"
      ]
     },
     "execution_count": 100,
     "metadata": {},
     "output_type": "execute_result"
    }
   ],
   "source": [
    "PL16 =  PowerLaw1D(amplitude = y16[0], x_0= x16[0], alpha= -2.5) \n",
    "\n",
    "#Initialize fitters\n",
    "#setting calc_uncertainties=True to output errors on measurement \n",
    "\n",
    "fit16 = fitting.LevMarLSQFitter(calc_uncertainties=True)\n",
    "\n",
    "#Fit the data w/o weights\n",
    "fit_model16 = fit16(PL16, x16, y16)\n",
    "\n",
    "\n",
    "#weight is 1/error^2\n",
    "y_weight16 = 1/ (np.power(yerr16, 2))  \n",
    "\n",
    "# fit the data using the uncertainties as weights\n",
    "fit_model_weights16 = fit16(PL16, x16, y16, weights=y_weight16)\n",
    "\n",
    "fit_model_weights16\n"
   ]
  },
  {
   "cell_type": "code",
   "execution_count": 101,
   "id": "099c0fba-dbe3-457d-b94b-98953fb33c61",
   "metadata": {},
   "outputs": [
    {
     "data": {
      "text/plain": [
       "{'nfev': 53,\n",
       " 'fvec': array([-0.84634969, -0.03858447,  1.351511  , -0.36397567, -0.71979613,\n",
       "        -0.80744409, -1.09279285, -1.0845941 ]),\n",
       " 'fjac': array([[-2.25743294e+02, -1.34533763e+00,  6.26697273e-03,\n",
       "          4.16725304e-01,  5.76926173e-02,  4.92886393e-02,\n",
       "          1.78677325e-02,  1.40197269e-02],\n",
       "        [-1.34533763e+00,  1.00695888e-01, -4.69070640e-04,\n",
       "         -7.68467474e-01, -2.49176711e-01, -2.54215291e-01,\n",
       "         -1.56306469e-01, -1.34020342e-01],\n",
       "        [ 6.26697273e-03, -4.69070640e-04,  7.97759355e-19,\n",
       "          2.71811835e-01, -1.35905918e-01, -2.03858877e-01,\n",
       "         -1.18917678e-01, -1.01929438e-01]]),\n",
       " 'ipvt': array([2, 0, 1], dtype=int32),\n",
       " 'qtf': array([ 1.27139574e-07,  1.35412850e-04, -2.09551300e+00]),\n",
       " 'message': 'Both actual and predicted relative reductions in the sum of squares\\n  are at most 0.000000',\n",
       " 'ierr': 1,\n",
       " 'param_jac': None,\n",
       " 'param_cov': array([[ 3.40964542e+31,  7.31952171e+33, -4.39659482e+14],\n",
       "        [ 7.31952171e+33,  1.57128943e+36, -9.43821638e+16],\n",
       "        [-4.39659482e+14, -9.43821638e+16,  9.19159997e-03]]),\n",
       " 'njev': 38,\n",
       " 'cov_x': array([[ 3.40964542e+31,  7.31952171e+33, -4.39659482e+14],\n",
       "        [ 7.31952171e+33,  1.57128943e+36, -9.43821638e+16],\n",
       "        [-4.39659482e+14, -9.43821638e+16,  9.19159997e-03]])}"
      ]
     },
     "execution_count": 101,
     "metadata": {},
     "output_type": "execute_result"
    }
   ],
   "source": [
    "fit16.fit_info"
   ]
  },
  {
   "cell_type": "code",
   "execution_count": 102,
   "id": "b76066c0-0a58-41af-905e-c0f501b094c5",
   "metadata": {},
   "outputs": [
    {
     "name": "stdout",
     "output_type": "stream",
     "text": [
      "The error/standard deviation is 0.07266476011076256\n"
     ]
    }
   ],
   "source": [
    "#taking fvec\n",
    "fvec16 = np.array([-0.84634969, -0.03858447,  1.351511  , -0.36397567, -0.71979613,\n",
    "        -0.80744409, -1.09279285, -1.0845941 ])\n",
    "var16 = np.var(fvec16)\n",
    "\n",
    "#taking cov_x\n",
    "cov_x16 = np.array([[ 3.40964542e+31,  7.31952171e+33, -4.39659482e+14],\n",
    "        [ 7.31952171e+33,  1.57128943e+36, -9.43821638e+16],\n",
    "        [-4.39659482e+14, -9.43821638e+16,  9.19159997e-03]])\n",
    "\n",
    "def stand(cov):\n",
    "    diag = np.diagonal(cov)\n",
    "    sd1 = np.sqrt(diag[0])\n",
    "    sd2 = np.sqrt(diag[1])\n",
    "    sd3 = np.sqrt(diag[2])\n",
    "    return(sd1,sd2,sd3)\n",
    "\n",
    "diag16 = stand(cov_x16*var16) \n",
    "\n",
    "#The last diagonal element corresponds to alpha\n",
    "#So here we are calculating the standard deviation on the slope\n",
    "\n",
    "#print(diag)  #prints standard deviations of all three variances\n",
    "\n",
    "print('The error/standard deviation is', diag16[2]) #Just showing the standard deviation on the slope\n",
    "\n"
   ]
  },
  {
   "cell_type": "code",
   "execution_count": 103,
   "id": "33a3c3f6-dfaa-43e1-b5cd-28da99cd05a8",
   "metadata": {},
   "outputs": [
    {
     "data": {
      "image/png": "[encoded data removed]",
      "text/plain": [
       "<Figure size 640x480 with 1 Axes>"
      ]
     },
     "metadata": {},
     "output_type": "display_data"
    }
   ],
   "source": [
    "#plotting to check\n",
    "fig,ax = plt.subplots()\n",
    "mask = df16['Flux Density (mJy)'] > 3 * df16['Uncertainty (mJy)']  # apply detection threshold\n",
    "if mask.any():  # proceed only if at least one detection\n",
    "    ax.errorbar(df16['Freq (GHz)'][mask], df16['Flux Density (mJy)'][mask], yerr=df16['Uncertainty (mJy)'][mask], fmt='^')\n",
    "    ax.set_xscale('log')\n",
    "    ax.set_xticks([1, 5, 10, 50], labels=['1', '5', '10', '50'])\n",
    "    ax.set_yscale('log')\n",
    "    ax.set_yticks([1, 5, 10, 20, 50], labels=['1', '5', '10', '20', '50'])\n",
    "    ax.annotate('Day 140.76', xy=(90, 120), xycoords='axes points', size=9, ha='right', va='top', bbox=dict(boxstyle='round', fc='w', ec=\"w\"))\n",
    "    ax.tick_params(axis='both', which='both', direction='in', top=True, right=True)\n",
    "    ax.plot(df16['Freq (GHz)'][mask], fit_model_weights16(df16['Freq (GHz)'][mask]), 'r--')\n",
    "    ax.annotate('${\\u03B1 = 0.111 \\\\pm 0.073}$', xy=(90, 100), xycoords='axes points', size=9, ha='right', va='top', bbox=dict(boxstyle='round', fc='w', ec=\"w\"))\n",
    "\n",
    "plt.show();\n"
   ]
  },
  {
   "cell_type": "markdown",
   "id": "6a6663fe-0e63-4e92-aea4-8937c625ee61",
   "metadata": {},
   "source": [
    "## Day 154.66 (df17)"
   ]
  },
  {
   "cell_type": "code",
   "execution_count": 104,
   "id": "5cbeff6b-283c-4b19-9118-6674ca884e2f",
   "metadata": {},
   "outputs": [],
   "source": [
    "#(work for anything with 3+ points)\n",
    "mask = df17['Flux Density (mJy)'] > 3 * df17['Uncertainty (mJy)']  # apply detection threshold\n",
    "\n",
    "x17 = df17['Freq (GHz)'][mask].values.tolist()\n",
    "y17 = df17['Flux Density (mJy)'][mask].values.tolist()\n",
    "yerr17 = df17['Uncertainty (mJy)'][mask].values.tolist()\n"
   ]
  },
  {
   "cell_type": "code",
   "execution_count": 105,
   "id": "14cf7346-4ce7-42b6-8439-15fcfa64177e",
   "metadata": {},
   "outputs": [],
   "source": [
    "yerr17 = error(yerr17, x17, y17)"
   ]
  },
  {
   "cell_type": "code",
   "execution_count": 106,
   "id": "b276ea96-9e50-4eeb-887a-37337c09ef54",
   "metadata": {},
   "outputs": [
    {
     "data": {
      "text/plain": [
       "<PowerLaw1D(amplitude=8.03052243, x_0=829.77695804, alpha=0.17961271)>"
      ]
     },
     "execution_count": 106,
     "metadata": {},
     "output_type": "execute_result"
    }
   ],
   "source": [
    "PL17 =  PowerLaw1D(amplitude = y17[0], x_0= x17[0], alpha= -2.5) \n",
    "\n",
    "#Initialize fitters\n",
    "#setting calc_uncertainties=True to output errors on measurement \n",
    "\n",
    "fit17 = fitting.LevMarLSQFitter(calc_uncertainties=True)\n",
    "\n",
    "#Fit the data w/o weights\n",
    "fit_model17 = fit17(PL17, x17, y17)\n",
    "\n",
    "\n",
    "#weight is 1/error^2\n",
    "y_weight17 = 1/ (np.power(yerr17, 2))  \n",
    "\n",
    "# fit the data using the uncertainties as weights\n",
    "fit_model_weights17 = fit17(PL17, x17, y17, weights=y_weight17)\n",
    "\n",
    "fit_model_weights17\n"
   ]
  },
  {
   "cell_type": "code",
   "execution_count": 107,
   "id": "32a1753c-17fe-437d-9816-1e2522436fc5",
   "metadata": {},
   "outputs": [
    {
     "data": {
      "text/plain": [
       "{'nfev': 51,\n",
       " 'fvec': array([-1.28151701, -0.87619484,  1.72159332,  0.36205438, -1.03198012,\n",
       "        -1.20702086, -1.70838616, -1.75736603]),\n",
       " 'fjac': array([[-2.01491522e+02, -4.85713555e+00, -8.46460336e-03,\n",
       "          5.15971602e-01,  7.31826845e-02,  6.41736847e-02,\n",
       "          3.35778241e-02,  2.94901409e-02],\n",
       "        [-4.85713555e+00,  3.76317836e-01,  6.55814766e-04,\n",
       "         -7.50044030e-01, -2.73668151e-01, -2.89500831e-01,\n",
       "         -2.61856791e-01, -2.51781300e-01],\n",
       "        [-8.46460336e-03,  6.55814766e-04,  1.95945360e-18,\n",
       "          2.21327450e-01,  2.76659312e-02,  6.91648281e-02,\n",
       "          5.53318624e-02,  6.91648281e-02]]),\n",
       " 'ipvt': array([2, 0, 1], dtype=int32),\n",
       " 'qtf': array([ 1.92510191e-05,  1.60440065e-04, -1.81898411e+00]),\n",
       " 'message': 'Both actual and predicted relative reductions in the sum of squares\\n  are at most 0.000000',\n",
       " 'ierr': 1,\n",
       " 'param_jac': None,\n",
       " 'param_cov': array([[ 7.91011520e+29, -4.53896067e+32,  2.94679906e+13],\n",
       "        [-4.53896067e+32,  2.60453400e+35, -1.69092418e+16],\n",
       "        [ 2.94679906e+13, -1.69092418e+16,  5.22575660e-03]]),\n",
       " 'njev': 38,\n",
       " 'cov_x': array([[ 7.91011520e+29, -4.53896067e+32,  2.94679906e+13],\n",
       "        [-4.53896067e+32,  2.60453400e+35, -1.69092418e+16],\n",
       "        [ 2.94679906e+13, -1.69092418e+16,  5.22575660e-03]])}"
      ]
     },
     "execution_count": 107,
     "metadata": {},
     "output_type": "execute_result"
    }
   ],
   "source": [
    "fit17.fit_info"
   ]
  },
  {
   "cell_type": "code",
   "execution_count": 108,
   "id": "c41d481c-32bd-4b80-a9e3-d139b50c672d",
   "metadata": {},
   "outputs": [
    {
     "name": "stdout",
     "output_type": "stream",
     "text": [
      "The error/standard deviation is 0.08025193226462374\n"
     ]
    }
   ],
   "source": [
    "#taking fvec\n",
    "fvec17 = np.array([-1.28151701, -0.87619484,  1.72159332,  0.36205438, -1.03198012,\n",
    "        -1.20702086, -1.70838616, -1.75736603])\n",
    "var17 = np.var(fvec17)\n",
    "\n",
    "#taking cov_x\n",
    "cov_x17 = np.array([[ 7.91011520e+29, -4.53896067e+32,  2.94679906e+13],\n",
    "        [-4.53896067e+32,  2.60453400e+35, -1.69092418e+16],\n",
    "        [ 2.94679906e+13, -1.69092418e+16,  5.22575660e-03]])\n",
    "\n",
    "def stand(cov):\n",
    "    diag = np.diagonal(cov)\n",
    "    sd1 = np.sqrt(diag[0])\n",
    "    sd2 = np.sqrt(diag[1])\n",
    "    sd3 = np.sqrt(diag[2])\n",
    "    return(sd1,sd2,sd3)\n",
    "\n",
    "diag17 = stand(cov_x17*var17) \n",
    "\n",
    "#The last diagonal element corresponds to alpha\n",
    "#So here we are calculating the standard deviation on the slope\n",
    "\n",
    "#print(diag)  #prints standard deviations of all three variances\n",
    "\n",
    "print('The error/standard deviation is', diag17[2]) #Just showing the standard deviation on the slope\n",
    "\n"
   ]
  },
  {
   "cell_type": "code",
   "execution_count": 109,
   "id": "a1545f8b-df8f-4225-b935-5dce36354adf",
   "metadata": {},
   "outputs": [
    {
     "data": {
      "image/png": "[encoded data removed]",
      "text/plain": [
       "<Figure size 640x480 with 1 Axes>"
      ]
     },
     "metadata": {},
     "output_type": "display_data"
    }
   ],
   "source": [
    "#plotting to check\n",
    "fig,ax = plt.subplots()\n",
    "mask = df17['Flux Density (mJy)'] > 3 * df17['Uncertainty (mJy)']  # apply detection threshold\n",
    "if mask.any():  # proceed only if at least one detection\n",
    "    ax.errorbar(df17['Freq (GHz)'][mask], df17['Flux Density (mJy)'][mask], yerr=df17['Uncertainty (mJy)'][mask], fmt='^')\n",
    "    ax.set_xscale('log')\n",
    "    ax.set_xticks([1, 5, 10, 50], labels=['1', '5', '10', '50'])\n",
    "    ax.set_yscale('log')\n",
    "    ax.set_yticks([1, 5, 10, 20, 50], labels=['1', '5', '10', '20', '50'])\n",
    "    ax.annotate('Day 154.66', xy=(90, 120), xycoords='axes points', size=9, ha='right', va='top', bbox=dict(boxstyle='round', fc='w', ec=\"w\"))\n",
    "    ax.tick_params(axis='both', which='both', direction='in', top=True, right=True)\n",
    "    ax.plot(df17['Freq (GHz)'][mask], fit_model_weights17(df17['Freq (GHz)'][mask]), 'r--')\n",
    "    ax.annotate('${\\u03B1 = -0.180 \\\\pm 0.080}$', xy=(90, 100), xycoords='axes points', size=9, ha='right', va='top', bbox=dict(boxstyle='round', fc='w', ec=\"w\"))\n",
    "\n",
    "plt.show();\n"
   ]
  },
  {
   "cell_type": "markdown",
   "id": "5645d78d-b427-4982-915e-c9ce8863d87f",
   "metadata": {},
   "source": [
    "## Day 156.61 (df18)"
   ]
  },
  {
   "cell_type": "code",
   "execution_count": 110,
   "id": "c9e9ff65-229a-49bd-ab35-1712ea9ca40d",
   "metadata": {},
   "outputs": [],
   "source": [
    "#(work for anything with 3+ points)\n",
    "mask = df18['Flux Density (mJy)'] > 3 * df18['Uncertainty (mJy)']  # apply detection threshold\n",
    "\n",
    "x18 = df18['Freq (GHz)'][mask].values.tolist()\n",
    "y18 = df18['Flux Density (mJy)'][mask].values.tolist()\n",
    "yerr18 = df18['Uncertainty (mJy)'][mask].values.tolist()\n"
   ]
  },
  {
   "cell_type": "code",
   "execution_count": 111,
   "id": "2951bff4-20c9-4a07-b2f2-5f6a48547b0a",
   "metadata": {},
   "outputs": [],
   "source": [
    "yerr18 = error(yerr18, x18, y18)"
   ]
  },
  {
   "cell_type": "code",
   "execution_count": 112,
   "id": "4b66e224-1e91-41ce-9eee-9d1928398165",
   "metadata": {},
   "outputs": [
    {
     "data": {
      "text/plain": [
       "<PowerLaw1D(amplitude=18.65400229, x_0=10.59011245, alpha=0.14520782)>"
      ]
     },
     "execution_count": 112,
     "metadata": {},
     "output_type": "execute_result"
    }
   ],
   "source": [
    "PL18 =  PowerLaw1D(amplitude = y18[0], x_0= x18[0], alpha= -.5) \n",
    "\n",
    "#Initialize fitters\n",
    "#setting calc_uncertainties=True to output errors on measurement \n",
    "\n",
    "fit18 = fitting.LevMarLSQFitter(calc_uncertainties=True)\n",
    "\n",
    "#Fit the data w/o weights\n",
    "fit_model18 = fit18(PL18, x18, y18)\n",
    "\n",
    "\n",
    "#weight is 1/error^2\n",
    "y_weight18 = 1/ (np.power(yerr18, 2))  \n",
    "\n",
    "# fit the data using the uncertainties as weights\n",
    "fit_model_weights18 = fit18(PL18, x18, y18, weights=y_weight18)\n",
    "\n",
    "fit_model_weights18\n"
   ]
  },
  {
   "cell_type": "code",
   "execution_count": 113,
   "id": "d708a8b1-aaa5-49ba-8d5f-b29c8177ffc9",
   "metadata": {},
   "outputs": [
    {
     "data": {
      "text/plain": [
       "{'nfev': 18,\n",
       " 'fvec': array([-0.98900635, -0.47803039,  0.9640636 ,  0.69554909, -0.8201535 ,\n",
       "        -1.04042797, -1.54002027, -1.58621751]),\n",
       " 'fjac': array([[-3.38233727e+01, -1.81239175e+00, -4.63568106e-01,\n",
       "          2.63184275e-01, -2.84847480e-02, -4.33525367e-02,\n",
       "         -6.31634078e-02, -6.24119072e-02],\n",
       "        [-1.81239175e+00,  9.43655575e-01,  2.41365382e-01,\n",
       "         -7.71651709e-01, -2.61256705e-01, -2.61944186e-01,\n",
       "         -2.20611874e-01, -2.07226528e-01],\n",
       "        [-4.63568106e-01,  2.41365382e-01,  1.23348476e-16,\n",
       "          6.75052741e-01,  1.12508790e-01,  2.25017580e-01,\n",
       "          1.12508790e-01,  1.12508790e-01]]),\n",
       " 'ipvt': array([2, 0, 1], dtype=int32),\n",
       " 'qtf': array([ 7.44107015e-05, -3.84222564e-05, -6.02196726e-01]),\n",
       " 'message': 'Both actual and predicted relative reductions in the sum of squares\\n  are at most 0.000000',\n",
       " 'ierr': 1,\n",
       " 'param_jac': None,\n",
       " 'param_cov': array([[ 4.29987039e+30, -1.68110134e+31, -6.30537700e+13],\n",
       "        [-1.68110134e+31,  6.57252767e+31,  2.46518540e+14],\n",
       "        [-6.30537700e+13,  2.46518540e+14,  5.02309598e-03]]),\n",
       " 'njev': 11,\n",
       " 'cov_x': array([[ 4.29987039e+30, -1.68110134e+31, -6.30537700e+13],\n",
       "        [-1.68110134e+31,  6.57252767e+31,  2.46518540e+14],\n",
       "        [-6.30537700e+13,  2.46518540e+14,  5.02309598e-03]])}"
      ]
     },
     "execution_count": 113,
     "metadata": {},
     "output_type": "execute_result"
    }
   ],
   "source": [
    "fit18.fit_info"
   ]
  },
  {
   "cell_type": "code",
   "execution_count": 114,
   "id": "9a5872a7-4850-4ffc-a4b4-da35097f6555",
   "metadata": {},
   "outputs": [
    {
     "name": "stdout",
     "output_type": "stream",
     "text": [
      "The error/standard deviation is 0.06334016920541749\n"
     ]
    }
   ],
   "source": [
    "#taking fvec\n",
    "fvec18 = np.array([-0.98900635, -0.47803039,  0.9640636 ,  0.69554909, -0.8201535 ,\n",
    "        -1.04042797, -1.54002027, -1.58621751])\n",
    "var18 = np.var(fvec18)\n",
    "\n",
    "#taking cov_x\n",
    "cov_x18 = np.array([[ 4.29987039e+30, -1.68110134e+31, -6.30537700e+13],\n",
    "        [-1.68110134e+31,  6.57252767e+31,  2.46518540e+14],\n",
    "        [-6.30537700e+13,  2.46518540e+14,  5.02309598e-03]])\n",
    "\n",
    "def stand(cov):\n",
    "    diag = np.diagonal(cov)\n",
    "    sd1 = np.sqrt(diag[0])\n",
    "    sd2 = np.sqrt(diag[1])\n",
    "    sd3 = np.sqrt(diag[2])\n",
    "    return(sd1,sd2,sd3)\n",
    "\n",
    "diag18 = stand(cov_x18*var18) \n",
    "\n",
    "#The last diagonal element corresponds to alpha\n",
    "#So here we are calculating the standard deviation on the slope\n",
    "\n",
    "#print(diag)  #prints standard deviations of all three variances\n",
    "\n",
    "print('The error/standard deviation is', diag18[2]) #Just showing the standard deviation on the slope\n",
    "\n"
   ]
  },
  {
   "cell_type": "code",
   "execution_count": 115,
   "id": "b0861dc3-6024-4820-918b-b7cc07b93ec6",
   "metadata": {},
   "outputs": [
    {
     "data": {
      "image/png": "[encoded data removed]",
      "text/plain": [
       "<Figure size 640x480 with 1 Axes>"
      ]
     },
     "metadata": {},
     "output_type": "display_data"
    }
   ],
   "source": [
    "#plotting to check\n",
    "fig,ax = plt.subplots()\n",
    "mask = df18['Flux Density (mJy)'] > 3 * df18['Uncertainty (mJy)']  # apply detection threshold\n",
    "if mask.any():  # proceed only if at least one detection\n",
    "    ax.errorbar(df18['Freq (GHz)'][mask], df18['Flux Density (mJy)'][mask], yerr=df18['Uncertainty (mJy)'][mask], fmt='^')\n",
    "    ax.set_xscale('log')\n",
    "    ax.set_xticks([1, 5, 10, 50], labels=['1', '5', '10', '50'])\n",
    "    ax.set_yscale('log')\n",
    "    ax.set_yticks([1, 5, 10, 20, 50], labels=['1', '5', '10', '20', '50'])\n",
    "    ax.annotate('Day 156.61', xy=(90, 120), xycoords='axes points', size=9, ha='right', va='top', bbox=dict(boxstyle='round', fc='w', ec=\"w\"))\n",
    "    ax.tick_params(axis='both', which='both', direction='in', top=True, right=True)\n",
    "    ax.plot(df18['Freq (GHz)'][mask], fit_model_weights18(df18['Freq (GHz)'][mask]), 'r--')\n",
    "    ax.annotate('${\\u03B1 = -0.145 \\\\pm 0.063}$', xy=(90, 100), xycoords='axes points', size=9, ha='right', va='top', bbox=dict(boxstyle='round', fc='w', ec=\"w\"))\n",
    "\n",
    "plt.show();\n"
   ]
  },
  {
   "cell_type": "markdown",
   "id": "820723b3-1b61-48f1-bb5a-bad9c7142d23",
   "metadata": {},
   "source": [
    "## Day 161.61 (df19)"
   ]
  },
  {
   "cell_type": "code",
   "execution_count": 116,
   "id": "01e3c281-259f-4ed1-9d71-97f61e4f6596",
   "metadata": {},
   "outputs": [],
   "source": [
    "#(work for anything with 3+ points)\n",
    "mask = df19['Flux Density (mJy)'] > 3 * df19['Uncertainty (mJy)']  # apply detection threshold\n",
    "\n",
    "x19 = df19['Freq (GHz)'][mask].values.tolist()\n",
    "y19 = df19['Flux Density (mJy)'][mask].values.tolist()\n",
    "yerr19 = df19['Uncertainty (mJy)'][mask].values.tolist()\n"
   ]
  },
  {
   "cell_type": "code",
   "execution_count": 117,
   "id": "4e0d1ec3-4f71-4392-ad71-1eb29d8e0c66",
   "metadata": {},
   "outputs": [],
   "source": [
    "yerr19 = error(yerr19, x19, y19)"
   ]
  },
  {
   "cell_type": "code",
   "execution_count": 118,
   "id": "a3174fa0-6cf9-40d3-af0d-6388774d0a5c",
   "metadata": {},
   "outputs": [
    {
     "data": {
      "text/plain": [
       "<PowerLaw1D(amplitude=21.77902575, x_0=2.09339822, alpha=0.15896184)>"
      ]
     },
     "execution_count": 118,
     "metadata": {},
     "output_type": "execute_result"
    }
   ],
   "source": [
    "PL19 =  PowerLaw1D(amplitude = y19[0], x_0= x19[0], alpha= 6.5) \n",
    "\n",
    "#Initialize fitters\n",
    "#setting calc_uncertainties=True to output errors on measurement \n",
    "\n",
    "fit19 = fitting.LevMarLSQFitter(calc_uncertainties=True)\n",
    "\n",
    "#Fit the data w/o weights\n",
    "fit_model19 = fit19(PL19, x19, y19)\n",
    "\n",
    "\n",
    "#weight is 1/error^2\n",
    "y_weight19 = 1/ (np.power(yerr19, 2))  \n",
    "\n",
    "# fit the data using the uncertainties as weights\n",
    "fit_model_weights19 = fit19(PL19, x19, y19, weights=y_weight19)\n",
    "\n",
    "fit_model_weights19\n"
   ]
  },
  {
   "cell_type": "code",
   "execution_count": 119,
   "id": "2d2aefb2-19be-4823-b385-be09abc6eb20",
   "metadata": {},
   "outputs": [
    {
     "data": {
      "text/plain": [
       "{'nfev': 21,\n",
       " 'fvec': array([-1.55203821, -0.52991918,  1.84508297,  0.1315041 , -1.06000212,\n",
       "        -1.29096362, -1.7561196 , -1.79207927]),\n",
       " 'fjac': array([[ 3.80338593e+01, -2.84601862e+00, -1.72424088e+00,\n",
       "          7.10679582e-01,  1.85926417e-01,  1.78032141e-01,\n",
       "          1.36536077e-01,  1.27846955e-01],\n",
       "        [-2.84601862e+00, -1.33260629e+00, -8.07350393e-01,\n",
       "         -6.93167119e-01, -3.00736208e-01, -3.06468116e-01,\n",
       "         -2.68695251e-01, -2.55800606e-01],\n",
       "        [-1.72424088e+00, -8.07350393e-01,  5.19259273e-16,\n",
       "          6.41426981e-01,  2.67261242e-01,  1.06904497e-01,\n",
       "          1.06904497e-01,  1.06904497e-01]]),\n",
       " 'ipvt': array([2, 1, 0], dtype=int32),\n",
       " 'qtf': array([ 2.65869211e-04,  6.98848019e-05, -1.82183693e+00]),\n",
       " 'message': 'Both actual and predicted relative reductions in the sum of squares\\n  are at most 0.000000',\n",
       " 'ierr': 1,\n",
       " 'param_jac': None,\n",
       " 'param_cov': array([[ 3.70878347e+30, -2.24694106e+30,  2.47296783e+13],\n",
       "        [-2.24694106e+30,  1.36129384e+30, -1.49823062e+13],\n",
       "        [ 2.47296783e+13, -1.49823062e+13,  4.00923329e-03]]),\n",
       " 'njev': 11,\n",
       " 'cov_x': array([[ 3.70878347e+30, -2.24694106e+30,  2.47296783e+13],\n",
       "        [-2.24694106e+30,  1.36129384e+30, -1.49823062e+13],\n",
       "        [ 2.47296783e+13, -1.49823062e+13,  4.00923329e-03]])}"
      ]
     },
     "execution_count": 119,
     "metadata": {},
     "output_type": "execute_result"
    }
   ],
   "source": [
    "fit19.fit_info"
   ]
  },
  {
   "cell_type": "code",
   "execution_count": 120,
   "id": "d2268ed8-39ee-4545-b457-d34b6148992e",
   "metadata": {},
   "outputs": [
    {
     "name": "stdout",
     "output_type": "stream",
     "text": [
      "The error/standard deviation is 0.07319435945585713\n"
     ]
    }
   ],
   "source": [
    "#taking fvec\n",
    "fvec19 = np.array([-1.55203821, -0.52991918,  1.84508297,  0.1315041 , -1.06000212,\n",
    "        -1.29096362, -1.7561196 , -1.79207927])\n",
    "var19 = np.var(fvec19)\n",
    "\n",
    "#taking cov_x\n",
    "cov_x19 = np.array([[ 3.70878347e+30, -2.24694106e+30,  2.47296783e+13],\n",
    "        [-2.24694106e+30,  1.36129384e+30, -1.49823062e+13],\n",
    "        [ 2.47296783e+13, -1.49823062e+13,  4.00923329e-03]])\n",
    "\n",
    "def stand(cov):\n",
    "    diag = np.diagonal(cov)\n",
    "    sd1 = np.sqrt(diag[0])\n",
    "    sd2 = np.sqrt(diag[1])\n",
    "    sd3 = np.sqrt(diag[2])\n",
    "    return(sd1,sd2,sd3)\n",
    "\n",
    "diag19 = stand(cov_x19*var19) \n",
    "\n",
    "#The last diagonal element corresponds to alpha\n",
    "#So here we are calculating the standard deviation on the slope\n",
    "\n",
    "#print(diag)  #prints standard deviations of all three variances\n",
    "\n",
    "print('The error/standard deviation is', diag19[2]) #Just showing the standard deviation on the slope\n",
    "\n"
   ]
  },
  {
   "cell_type": "code",
   "execution_count": 121,
   "id": "2b026905-7a0d-4e83-a04a-44d1427f5ec2",
   "metadata": {},
   "outputs": [
    {
     "data": {
      "image/png": "[encoded data removed]",
      "text/plain": [
       "<Figure size 640x480 with 1 Axes>"
      ]
     },
     "metadata": {},
     "output_type": "display_data"
    }
   ],
   "source": [
    "#plotting to check\n",
    "fig,ax = plt.subplots()\n",
    "mask = df19['Flux Density (mJy)'] > 3 * df19['Uncertainty (mJy)']  # apply detection threshold\n",
    "if mask.any():  # proceed only if at least one detection\n",
    "    ax.errorbar(df19['Freq (GHz)'][mask], df19['Flux Density (mJy)'][mask], yerr=df19['Uncertainty (mJy)'][mask], fmt='^')\n",
    "    ax.set_xscale('log')\n",
    "    ax.set_xticks([1, 5, 10, 50], labels=['1', '5', '10', '50'])\n",
    "    ax.set_yscale('log')\n",
    "    ax.set_yticks([1, 5, 10, 20, 50], labels=['1', '5', '10', '20', '50'])\n",
    "    ax.annotate('Day 161.61', xy=(90, 120), xycoords='axes points', size=9, ha='right', va='top', bbox=dict(boxstyle='round', fc='w', ec=\"w\"))\n",
    "    ax.tick_params(axis='both', which='both', direction='in', top=True, right=True)\n",
    "    ax.plot(df19['Freq (GHz)'][mask], fit_model_weights19(df19['Freq (GHz)'][mask]), 'r--')\n",
    "    ax.annotate('${\\u03B1 = -0.159 \\\\pm 0.073}$', xy=(90, 100), xycoords='axes points', size=9, ha='right', va='top', bbox=dict(boxstyle='round', fc='w', ec=\"w\"))\n",
    "\n",
    "plt.show();\n"
   ]
  },
  {
   "cell_type": "markdown",
   "id": "7e4741c9-394d-4abe-99c1-e83921661864",
   "metadata": {},
   "source": [
    "## Day 600.47 (df20)"
   ]
  },
  {
   "cell_type": "code",
   "execution_count": 122,
   "id": "e721d39e-7806-418e-b74f-c152ee1ebd99",
   "metadata": {},
   "outputs": [],
   "source": [
    "#(work for anything with 3+ points)\n",
    "mask = df20['Flux Density (mJy)'] > 3 * df20['Uncertainty (mJy)']  # apply detection threshold\n",
    "\n",
    "x20 = df20['Freq (GHz)'][mask].values.tolist()\n",
    "y20 = df20['Flux Density (mJy)'][mask].values.tolist()\n",
    "yerr20 = df20['Uncertainty (mJy)'][mask].values.tolist()\n"
   ]
  },
  {
   "cell_type": "code",
   "execution_count": 123,
   "id": "bfb758d1-fc5d-46ee-94d6-69a48de5a99f",
   "metadata": {},
   "outputs": [],
   "source": [
    "yerr20 = error(yerr20, x20, y20)"
   ]
  },
  {
   "cell_type": "code",
   "execution_count": 124,
   "id": "5f273fee-dabf-42cc-828f-b9288a40891f",
   "metadata": {},
   "outputs": [
    {
     "data": {
      "text/plain": [
       "<PowerLaw1D(amplitude=0.14593666, x_0=1057.17592694, alpha=0.54693872)>"
      ]
     },
     "execution_count": 124,
     "metadata": {},
     "output_type": "execute_result"
    }
   ],
   "source": [
    "PL20 =  PowerLaw1D(amplitude = y20[0], x_0= x20[0], alpha= -4.5) \n",
    "\n",
    "#Initialize fitters\n",
    "#setting calc_uncertainties=True to output errors on measurement \n",
    "\n",
    "fit20 = fitting.LevMarLSQFitter(calc_uncertainties=True)\n",
    "\n",
    "#Fit the data w/o weights\n",
    "fit_model20 = fit20(PL20, x20, y20)\n",
    "\n",
    "\n",
    "#weight is 1/error^2\n",
    "y_weight20 = 1/ (np.power(yerr20, 2))  \n",
    "\n",
    "# fit the data using the uncertainties as weights\n",
    "fit_model_weights20 = fit20(PL20, x20, y20, weights=y_weight20)\n",
    "\n",
    "fit_model_weights20\n"
   ]
  },
  {
   "cell_type": "code",
   "execution_count": 125,
   "id": "381829ec-7971-4375-9c1a-218a93b887f9",
   "metadata": {},
   "outputs": [
    {
     "data": {
      "text/plain": [
       "{'nfev': 68,\n",
       " 'fvec': array([10.82069124,  0.63799777, -3.02879966, -4.77911036, -3.28123377,\n",
       "        -4.09331547,  7.62778745,  4.13013837]),\n",
       " 'fjac': array([[-1.64215244e+03, -1.24044487e-01, -1.20774442e+03,\n",
       "          5.85533062e-01,  2.15350627e-01,  2.28849412e-01,\n",
       "          2.38417684e-01,  2.01368288e-01],\n",
       "        [-1.24044487e-01, -2.47768071e-17, -5.30382876e-08,\n",
       "          5.60112034e-01,  2.80056017e-01,  4.20084025e-01,\n",
       "          1.40028008e-01,  1.40028008e-01],\n",
       "        [-1.20774442e+03,  6.75223506e+01, -1.47296711e+02,\n",
       "         -1.41837214e-01, -2.76043505e-01, -3.43689440e-01,\n",
       "         -6.49929030e-01, -5.83347004e-01]]),\n",
       " 'ipvt': array([0, 1, 2], dtype=int32),\n",
       " 'qtf': array([6.53690467e-06, 1.29687213e+01, 5.94537236e+00]),\n",
       " 'message': 'Both actual and predicted relative reductions in the sum of squares\\n  are at most 0.000000',\n",
       " 'ierr': 1,\n",
       " 'param_jac': None,\n",
       " 'param_cov': array([[ 1.12479397e+25, -1.48904898e+29, -9.48811879e+09],\n",
       "        [-1.48904898e+29,  1.97126489e+33,  1.25607658e+14],\n",
       "        [-9.48811879e+09,  1.25607658e+14,  4.60907636e-05]]),\n",
       " 'njev': 45,\n",
       " 'cov_x': array([[ 1.12479397e+25, -1.48904898e+29, -9.48811879e+09],\n",
       "        [-1.48904898e+29,  1.97126489e+33,  1.25607658e+14],\n",
       "        [-9.48811879e+09,  1.25607658e+14,  4.60907636e-05]])}"
      ]
     },
     "execution_count": 125,
     "metadata": {},
     "output_type": "execute_result"
    }
   ],
   "source": [
    "fit20.fit_info"
   ]
  },
  {
   "cell_type": "code",
   "execution_count": 126,
   "id": "d6e8ea13-f89d-4ce1-9e56-8206024bd97f",
   "metadata": {},
   "outputs": [
    {
     "name": "stdout",
     "output_type": "stream",
     "text": [
      "The error/standard deviation is 0.03750912229049003\n"
     ]
    }
   ],
   "source": [
    "#taking fvec\n",
    "fvec20 = np.array([10.82069124,  0.63799777, -3.02879966, -4.77911036, -3.28123377,\n",
    "        -4.09331547,  7.62778745,  4.13013837])\n",
    "var20 = np.var(fvec20)\n",
    "\n",
    "#taking cov_x\n",
    "cov_x20 = np.array([[ 1.12479397e+25, -1.48904898e+29, -9.48811879e+09],\n",
    "        [-1.48904898e+29,  1.97126489e+33,  1.25607658e+14],\n",
    "        [-9.48811879e+09,  1.25607658e+14,  4.60907636e-05]])\n",
    "\n",
    "def stand(cov):\n",
    "    diag = np.diagonal(cov)\n",
    "    sd1 = np.sqrt(diag[0])\n",
    "    sd2 = np.sqrt(diag[1])\n",
    "    sd3 = np.sqrt(diag[2])\n",
    "    return(sd1,sd2,sd3)\n",
    "\n",
    "diag20 = stand(cov_x20*var20) \n",
    "\n",
    "#The last diagonal element corresponds to alpha\n",
    "#So here we are calculating the standard deviation on the slope\n",
    "\n",
    "#print(diag)  #prints standard deviations of all three variances\n",
    "\n",
    "print('The error/standard deviation is', diag20[2]) #Just showing the standard deviation on the slope\n",
    "\n"
   ]
  },
  {
   "cell_type": "code",
   "execution_count": 127,
   "id": "988a4b4f-96cd-48ad-8fc5-599bf01aa908",
   "metadata": {},
   "outputs": [
    {
     "data": {
      "image/png": "[encoded data removed]",
      "text/plain": [
       "<Figure size 640x480 with 1 Axes>"
      ]
     },
     "metadata": {},
     "output_type": "display_data"
    }
   ],
   "source": [
    "#plotting to check\n",
    "fig,ax = plt.subplots()\n",
    "mask = df20['Flux Density (mJy)'] > 3 * df20['Uncertainty (mJy)']  # apply detection threshold\n",
    "if mask.any():  # proceed only if at least one detection\n",
    "    ax.errorbar(df20['Freq (GHz)'][mask], df20['Flux Density (mJy)'][mask], yerr=df20['Uncertainty (mJy)'][mask], fmt='^')\n",
    "    ax.set_xscale('log')\n",
    "    ax.set_xticks([1, 5, 10, 50], labels=['1', '5', '10', '50'])\n",
    "    ax.set_yscale('log')\n",
    "    ax.set_yticks([1, 5, 10, 20, 50], labels=['1', '5', '10', '20', '50'])\n",
    "    ax.annotate('Day 600.47', xy=(90, 120), xycoords='axes points', size=9, ha='right', va='top', bbox=dict(boxstyle='round', fc='w', ec=\"w\"))\n",
    "    ax.tick_params(axis='both', which='both', direction='in', top=True, right=True)\n",
    "    ax.plot(df20['Freq (GHz)'][mask], fit_model_weights20(df20['Freq (GHz)'][mask]), 'r--')\n",
    "    ax.annotate('${\\u03B1 = -0.547 \\\\pm 0.038}$', xy=(90, 100), xycoords='axes points', size=9, ha='right', va='top', bbox=dict(boxstyle='round', fc='w', ec=\"w\"))\n",
    "\n",
    "plt.show();\n"
   ]
  },
  {
   "cell_type": "markdown",
   "id": "c1abf402-d2ce-4a21-b716-ebbfd45e54e9",
   "metadata": {},
   "source": [
    " ## Day 615.34 (df21)"
   ]
  },
  {
   "cell_type": "code",
   "execution_count": 128,
   "id": "d695438e-5319-404f-966e-2ae2c11beedf",
   "metadata": {},
   "outputs": [],
   "source": [
    "#(work for anything with 3+ points)\n",
    "mask = df21['Flux Density (mJy)'] > 3 * df21['Uncertainty (mJy)']  # apply detection threshold\n",
    "\n",
    "x21 = df21['Freq (GHz)'][mask].values.tolist()\n",
    "y21 = df21['Flux Density (mJy)'][mask].values.tolist()\n",
    "yerr21 = df21['Uncertainty (mJy)'][mask].values.tolist()\n"
   ]
  },
  {
   "cell_type": "code",
   "execution_count": 129,
   "id": "9d30cd52-18d8-4db9-9cb4-8475598c13a2",
   "metadata": {},
   "outputs": [],
   "source": [
    "yerr21 = error(yerr21, x21, y21)"
   ]
  },
  {
   "cell_type": "code",
   "execution_count": 130,
   "id": "01dadd09-c8da-4de8-be39-f973e5f3aba7",
   "metadata": {},
   "outputs": [
    {
     "data": {
      "text/plain": [
       "<PowerLaw1D(amplitude=0.32299541, x_0=958.87993185, alpha=0.39305323)>"
      ]
     },
     "execution_count": 130,
     "metadata": {},
     "output_type": "execute_result"
    }
   ],
   "source": [
    "PL21 =  PowerLaw1D(amplitude = y21[0], x_0= x21[0], alpha= -2) \n",
    "\n",
    "#Initialize fitters\n",
    "#setting calc_uncertainties=True to output errors on measurement \n",
    "\n",
    "fit21 = fitting.LevMarLSQFitter(calc_uncertainties=True)\n",
    "\n",
    "#Fit the data w/o weights\n",
    "fit_model21 = fit21(PL21, x21, y21)\n",
    "\n",
    "\n",
    "#weight is 1/error^2\n",
    "y_weight21 = 1/ (np.power(yerr21, 2))  \n",
    "\n",
    "# fit the data using the uncertainties as weights\n",
    "fit_model_weights21 = fit21(PL21, x21, y21, weights=y_weight21)\n",
    "\n",
    "fit_model_weights21\n"
   ]
  },
  {
   "cell_type": "code",
   "execution_count": 131,
   "id": "c8dadf30-a8fa-4a4a-9705-26fba874e826",
   "metadata": {},
   "outputs": [
    {
     "data": {
      "text/plain": [
       "{'nfev': 29,\n",
       " 'fvec': array([10.7871569 ,  5.65392979, -7.40976953, -8.60361914,  1.5077558 ,\n",
       "         2.0576091 ,  7.0023745 ,  2.79565275]),\n",
       " 'fjac': array([[-1.27222974e+03, -7.71769089e+02, -1.02181169e-01,\n",
       "          5.33405314e-01,  1.89734908e-01,  1.95455954e-01,\n",
       "          1.41339888e-01,  1.15486998e-01],\n",
       "        [-7.71769089e+02,  1.01831569e+02,  1.34823601e-02,\n",
       "         -2.84106736e-01, -3.36832247e-01, -4.28451660e-01,\n",
       "         -5.58620756e-01, -5.01773362e-01],\n",
       "        [-1.02181169e-01,  1.34823601e-02,  9.93584190e-18,\n",
       "         -8.72962499e-02, -3.49185000e-01, -6.11073749e-01,\n",
       "         -5.23777500e-01, -8.72962499e-02]]),\n",
       " 'ipvt': array([2, 0, 1], dtype=int32),\n",
       " 'qtf': array([ 4.31443865e-04, -4.73032350e-04,  8.57387866e+00]),\n",
       " 'message': 'Both actual and predicted relative reductions in the sum of squares\\n  are at most 0.000000',\n",
       " 'ierr': 1,\n",
       " 'param_jac': None,\n",
       " 'param_cov': array([[ 1.77565108e+26, -1.34114008e+30,  3.98027684e+10],\n",
       "        [-1.34114008e+30,  1.01295617e+34, -3.00628253e+14],\n",
       "        [ 3.98027684e+10, -3.00628253e+14,  4.50277452e-05]]),\n",
       " 'njev': 21,\n",
       " 'cov_x': array([[ 1.77565108e+26, -1.34114008e+30,  3.98027684e+10],\n",
       "        [-1.34114008e+30,  1.01295617e+34, -3.00628253e+14],\n",
       "        [ 3.98027684e+10, -3.00628253e+14,  4.50277452e-05]])}"
      ]
     },
     "execution_count": 131,
     "metadata": {},
     "output_type": "execute_result"
    }
   ],
   "source": [
    "fit21.fit_info"
   ]
  },
  {
   "cell_type": "code",
   "execution_count": 132,
   "id": "622658d2-bd24-4de3-9ce6-0362f1de7d1b",
   "metadata": {},
   "outputs": [
    {
     "name": "stdout",
     "output_type": "stream",
     "text": [
      "The error/standard deviation is 0.0422293097752915\n"
     ]
    }
   ],
   "source": [
    "#taking fvec\n",
    "fvec21 = np.array([10.7871569 ,  5.65392979, -7.40976953, -8.60361914,  1.5077558 ,\n",
    "         2.0576091 ,  7.0023745 ,  2.79565275])\n",
    "var21 = np.var(fvec21)\n",
    "\n",
    "#taking cov_x\n",
    "cov_x21 = np.array([[ 1.77565108e+26, -1.34114008e+30,  3.98027684e+10],\n",
    "        [-1.34114008e+30,  1.01295617e+34, -3.00628253e+14],\n",
    "        [ 3.98027684e+10, -3.00628253e+14,  4.50277452e-05]])\n",
    "\n",
    "def stand(cov):\n",
    "    diag = np.diagonal(cov)\n",
    "    sd1 = np.sqrt(diag[0])\n",
    "    sd2 = np.sqrt(diag[1])\n",
    "    sd3 = np.sqrt(diag[2])\n",
    "    return(sd1,sd2,sd3)\n",
    "\n",
    "diag21 = stand(cov_x21*var21) \n",
    "\n",
    "#The last diagonal element corresponds to alpha\n",
    "#So here we are calculating the standard deviation on the slope\n",
    "\n",
    "#print(diag)  #prints standard deviations of all three variances\n",
    "\n",
    "print('The error/standard deviation is', diag21[2]) #Just showing the standard deviation on the slope\n",
    "\n"
   ]
  },
  {
   "cell_type": "code",
   "execution_count": 133,
   "id": "616a56d6-0c7c-4a28-9fad-920e7d5542f0",
   "metadata": {},
   "outputs": [
    {
     "data": {
      "image/png": "[encoded data removed]",
      "text/plain": [
       "<Figure size 640x480 with 1 Axes>"
      ]
     },
     "metadata": {},
     "output_type": "display_data"
    }
   ],
   "source": [
    "#plotting to check\n",
    "fig,ax = plt.subplots()\n",
    "mask = df21['Flux Density (mJy)'] > 3 * df21['Uncertainty (mJy)']  # apply detection threshold\n",
    "if mask.any():  # proceed only if at least one detection\n",
    "    ax.errorbar(df21['Freq (GHz)'][mask], df21['Flux Density (mJy)'][mask], yerr=df21['Uncertainty (mJy)'][mask], fmt='^')\n",
    "    ax.set_xscale('log')\n",
    "    ax.set_xticks([1, 5, 10, 50], labels=['1', '5', '10', '50'])\n",
    "    ax.set_yscale('log')\n",
    "    ax.set_yticks([1, 5, 10, 20, 50], labels=['1', '5', '10', '20', '50'])\n",
    "    ax.annotate('Day 615.34', xy=(90, 120), xycoords='axes points', size=9, ha='right', va='top', bbox=dict(boxstyle='round', fc='w', ec=\"w\"))\n",
    "    ax.tick_params(axis='both', which='both', direction='in', top=True, right=True)\n",
    "    ax.plot(df21['Freq (GHz)'][mask], fit_model_weights21(df21['Freq (GHz)'][mask]), 'r--')\n",
    "    ax.annotate('${\\u03B1 = -0.393 \\\\pm 0.042}$', xy=(90, 100), xycoords='axes points', size=9, ha='right', va='top', bbox=dict(boxstyle='round', fc='w', ec=\"w\"))\n",
    "\n",
    "plt.show();\n"
   ]
  },
  {
   "cell_type": "markdown",
   "id": "a96d5ba1-b5be-46b8-aa1c-bb2c07124d08",
   "metadata": {},
   "source": [
    "## Day 697.12 (df22)"
   ]
  },
  {
   "cell_type": "code",
   "execution_count": 134,
   "id": "d46789b1-8df8-49ef-ae8b-3de8c17bc2ca",
   "metadata": {},
   "outputs": [],
   "source": [
    "#(work for anything with 3+ points)\n",
    "mask = df22['Flux Density (mJy)'] > 3 * df22['Uncertainty (mJy)']  # apply detection threshold\n",
    "\n",
    "x22 = df22['Freq (GHz)'][mask].values.tolist()\n",
    "y22 = df22['Flux Density (mJy)'][mask].values.tolist()\n",
    "yerr22 = df22['Uncertainty (mJy)'][mask].values.tolist()\n"
   ]
  },
  {
   "cell_type": "code",
   "execution_count": 135,
   "id": "4af12aec-750d-4c6a-9924-fd13ab89c7d3",
   "metadata": {},
   "outputs": [],
   "source": [
    "yerr22 = error(yerr22, x22, y22)"
   ]
  },
  {
   "cell_type": "code",
   "execution_count": 136,
   "id": "af63ea91-c3a5-43c0-9cb5-3baa271a0fe4",
   "metadata": {},
   "outputs": [
    {
     "data": {
      "text/plain": [
       "<PowerLaw1D(amplitude=1.4304074, x_0=977.69024352, alpha=0.05682559)>"
      ]
     },
     "execution_count": 136,
     "metadata": {},
     "output_type": "execute_result"
    }
   ],
   "source": [
    "PL22 =  PowerLaw1D(amplitude = y22[0], x_0= x22[0], alpha= -2.5) \n",
    "\n",
    "#Initialize fitters\n",
    "#setting calc_uncertainties=True to output errors on measurement \n",
    "\n",
    "fit22 = fitting.LevMarLSQFitter(calc_uncertainties=True)\n",
    "\n",
    "#Fit the data w/o weights\n",
    "fit_model22 = fit22(PL22, x22, y22)\n",
    "\n",
    "\n",
    "#weight is 1/error^2\n",
    "y_weight22 = 1/ (np.power(yerr22, 2))  \n",
    "\n",
    "# fit the data using the uncertainties as weights\n",
    "fit_model_weights22 = fit22(PL22, x22, y22, weights=y_weight22)\n",
    "\n",
    "fit_model_weights22\n"
   ]
  },
  {
   "cell_type": "code",
   "execution_count": 137,
   "id": "26a87ed3-3eb5-447f-8178-aa57a2fd376d",
   "metadata": {},
   "outputs": [
    {
     "data": {
      "text/plain": [
       "{'nfev': 25,\n",
       " 'fvec': array([ 23.11062027,  -2.52977031, -19.63729938, -31.65507353,\n",
       "         -2.91295693,  -3.18099722,  18.19475779,  18.14165396]),\n",
       " 'fjac': array([[-2.13761916e+03, -2.72455244e+02, -2.24829948e-02,\n",
       "          3.13798054e-01,  9.65393693e-02,  9.21045031e-02,\n",
       "          1.26660469e-01,  1.15931583e-01],\n",
       "        [-2.72455244e+02,  3.55889035e+01,  2.93679476e-03,\n",
       "         -3.34983363e-01, -2.31844472e-01, -2.62357859e-01,\n",
       "         -5.99512389e-01, -5.97382418e-01],\n",
       "        [-2.24829948e-02,  2.93679476e-03,  8.04065851e-19,\n",
       "          5.39359890e-01, -1.34839972e-01, -4.04519917e-01,\n",
       "          2.69679945e-01,  5.39359890e-01]]),\n",
       " 'ipvt': array([2, 0, 1], dtype=int32),\n",
       " 'qtf': array([-6.66630186e-04, -6.11525128e-03,  1.98244717e+01]),\n",
       " 'message': 'Both actual and predicted relative reductions in the sum of squares\\n  are at most 0.000000',\n",
       " 'ierr': 1,\n",
       " 'param_jac': None,\n",
       " 'param_cov': array([[ 1.05325794e+28, -1.27636755e+32,  3.42133670e+11],\n",
       "        [-1.27636755e+32,  1.54673803e+36, -4.14607188e+15],\n",
       "        [ 3.42133670e+11, -4.14607188e+15,  2.41587733e-05]]),\n",
       " 'njev': 18,\n",
       " 'cov_x': array([[ 1.05325794e+28, -1.27636755e+32,  3.42133670e+11],\n",
       "        [-1.27636755e+32,  1.54673803e+36, -4.14607188e+15],\n",
       "        [ 3.42133670e+11, -4.14607188e+15,  2.41587733e-05]])}"
      ]
     },
     "execution_count": 137,
     "metadata": {},
     "output_type": "execute_result"
    }
   ],
   "source": [
    "fit22.fit_info"
   ]
  },
  {
   "cell_type": "code",
   "execution_count": 138,
   "id": "2056a515-cc2f-44a4-8635-0fca66cc5e10",
   "metadata": {},
   "outputs": [
    {
     "name": "stdout",
     "output_type": "stream",
     "text": [
      "The error/standard deviation is 0.0887269846274669\n"
     ]
    }
   ],
   "source": [
    "#taking fvec\n",
    "fvec22 = np.array([ 23.11062027,  -2.52977031, -19.63729938, -31.65507353,\n",
    "         -2.91295693,  -3.18099722,  18.19475779,  18.14165396])\n",
    "var22 = np.var(fvec22)\n",
    "\n",
    "#taking cov_x\n",
    "cov_x22 = np.array([[ 1.05325794e+28, -1.27636755e+32,  3.42133670e+11],\n",
    "        [-1.27636755e+32,  1.54673803e+36, -4.14607188e+15],\n",
    "        [ 3.42133670e+11, -4.14607188e+15,  2.41587733e-05]])\n",
    "\n",
    "def stand(cov):\n",
    "    diag = np.diagonal(cov)\n",
    "    sd1 = np.sqrt(diag[0])\n",
    "    sd2 = np.sqrt(diag[1])\n",
    "    sd3 = np.sqrt(diag[2])\n",
    "    return(sd1,sd2,sd3)\n",
    "\n",
    "diag22 = stand(cov_x22*var22) \n",
    "\n",
    "#The last diagonal element corresponds to alpha\n",
    "#So here we are calculating the standard deviation on the slope\n",
    "\n",
    "#print(diag)  #prints standard deviations of all three variances\n",
    "\n",
    "print('The error/standard deviation is', diag22[2]) #Just showing the standard deviation on the slope\n",
    "\n"
   ]
  },
  {
   "cell_type": "code",
   "execution_count": 139,
   "id": "f620f767-f266-47d8-a32f-4d1a5a3cb325",
   "metadata": {},
   "outputs": [
    {
     "data": {
      "image/png": "[encoded data removed]",
      "text/plain": [
       "<Figure size 640x480 with 1 Axes>"
      ]
     },
     "metadata": {},
     "output_type": "display_data"
    }
   ],
   "source": [
    "#plotting to check\n",
    "fig,ax = plt.subplots()\n",
    "mask = df22['Flux Density (mJy)'] > 3 * df22['Uncertainty (mJy)']  # apply detection threshold\n",
    "if mask.any():  # proceed only if at least one detection\n",
    "    ax.errorbar(df22['Freq (GHz)'][mask], df22['Flux Density (mJy)'][mask], yerr=df22['Uncertainty (mJy)'][mask], fmt='^')\n",
    "    ax.set_xscale('log')\n",
    "    ax.set_xticks([1, 5, 10, 50], labels=['1', '5', '10', '50'])\n",
    "    ax.set_yscale('log')\n",
    "    ax.set_yticks([1, 5, 10, 20, 50], labels=['1', '5', '10', '20', '50'])\n",
    "    ax.annotate('Day 697.12', xy=(90, 120), xycoords='axes points', size=9, ha='right', va='top', bbox=dict(boxstyle='round', fc='w', ec=\"w\"))\n",
    "    ax.tick_params(axis='both', which='both', direction='in', top=True, right=True)\n",
    "    ax.plot(df22['Freq (GHz)'][mask], fit_model_weights22(df22['Freq (GHz)'][mask]), 'r--')\n",
    "    ax.annotate('${\\u03B1 = -0.057 \\\\pm 0.089}$', xy=(90, 100), xycoords='axes points', size=9, ha='right', va='top', bbox=dict(boxstyle='round', fc='w', ec=\"w\"))\n",
    "\n",
    "plt.show();\n"
   ]
  },
  {
   "cell_type": "markdown",
   "id": "566439d1-6953-43f2-83df-2fb2d22a83d6",
   "metadata": {},
   "source": [
    "## Now to put it all together"
   ]
  },
  {
   "cell_type": "code",
   "execution_count": 151,
   "id": "6f1ef6ea-b6ca-44aa-8b08-8ae4ad341f13",
   "metadata": {},
   "outputs": [
    {
     "data": {
      "image/png": "[encoded data removed]",
      "text/plain": [
       "<Figure size 1200x1200 with 24 Axes>"
      ]
     },
     "metadata": {},
     "output_type": "display_data"
    }
   ],
   "source": [
    "fig, ax = plt.subplots(6, 4, sharex='all', sharey='all')\n",
    "fig.set_size_inches(12, 12)\n",
    "fig.subplots_adjust(hspace=0, wspace=0)\n",
    "\n",
    "#first r0w\n",
    "mask = df1['Flux Density (mJy)'] > 3 * df1['Uncertainty (mJy)']  # apply detection threshold\n",
    "if mask.any():  # proceed only if at least one detection\n",
    "    ax[0,0].errorbar(df1['Freq (GHz)'][mask], df1['Flux Density (mJy)'][mask], yerr=yerr1, fmt='^')\n",
    "    ax[0,0].set_xscale('log')\n",
    "    ax[0,0].set_xticks([1, 5, 10, 50], labels=['1', '5', '10', '50'], fontsize=13)\n",
    "    ax[0,0].set_yscale('log')\n",
    "    ax[0,0].set_yticks([1, 5, 10, 20, 50], labels=['1', '5', '10', '20', '50'], fontsize=13)\n",
    "    ax[0,0].annotate('Day 5.04', xy=(90, 50), xycoords='axes points', size=11, ha='right', va='top', bbox=dict(boxstyle='round', fc='w', ec=\"w\"))\n",
    "    ax[0,0].tick_params(axis='both', which='both', direction='in', top=True, right=True)\n",
    "    ax[0,0].plot(df1['Freq (GHz)'][mask], fit_model_weights1(df1['Freq (GHz)'][mask]), 'r--')\n",
    "    ax[0,0].annotate('${\\u03B1 = 1.075 \\\\pm 0.154}$', xy=(130, 30), xycoords='axes points', size=11, ha='right', va='top', bbox=dict(boxstyle='round', fc='w', ec=\"w\"))\n",
    "\n",
    "mask = df2['Flux Density (mJy)'] > 3 * df2['Uncertainty (mJy)']  # apply detection threshold\n",
    "if mask.any():  # proceed only if at least one detection\n",
    "    ax[0,1].errorbar(df2['Freq (GHz)'][mask], df2['Flux Density (mJy)'][mask], yerr=yerr2, fmt='^')\n",
    "    ax[0,1].set_xscale('log')\n",
    "    ax[0,1].set_xticks([1, 5, 10, 50], labels=['1', '5', '10', '50'])\n",
    "    ax[0,1].set_yscale('log')\n",
    "    ax[0,1].set_yticks([1, 5, 10, 20, 50], labels=['1', '5', '10', '20', '50'])\n",
    "    ax[0,1].annotate('Day 6.08', xy=(90, 50), xycoords='axes points', size=11, ha='right', va='top', bbox=dict(boxstyle='round', fc='w', ec=\"w\"))\n",
    "    ax[0,1].tick_params(axis='both', which='both', direction='in', top=True, right=True)\n",
    "    ax[0,1].plot(df2['Freq (GHz)'][mask], fit_model_weights2(df2['Freq (GHz)'][mask]), 'r--')\n",
    "    ax[0,1].annotate('${\\u03B1 = 0.534 \\\\pm 0.087}$', xy=(130, 30), xycoords='axes points', size=11, ha='right', va='top', bbox=dict(boxstyle='round', fc='w', ec=\"w\"))\n",
    "\n",
    "mask = df3['Flux Density (mJy)'] > 3 * df3['Uncertainty (mJy)']  # apply detection threshold\n",
    "if mask.any():  # proceed only if at least one detection\n",
    "    ax[0,2].errorbar(df3['Freq (GHz)'][mask], df3['Flux Density (mJy)'][mask], yerr=yerr3, fmt='^')\n",
    "    ax[0,2].set_xscale('log')\n",
    "    ax[0,2].set_xticks([1, 5, 10, 50], labels=['1', '5', '10', '50'])\n",
    "    ax[0,2].set_yscale('log')\n",
    "    ax[0,2].set_yticks([1, 5, 10, 20, 50], labels=['1', '5', '10', '20', '50'])\n",
    "    ax[0,2].annotate('Day 9.99', xy=(90, 50), xycoords='axes points', size=11, ha='right', va='top', bbox=dict(boxstyle='round', fc='w', ec=\"w\"))\n",
    "    ax[0,2].tick_params(axis='both', which='both', direction='in', top=True, right=True)\n",
    "    ax[0,2].plot(df3['Freq (GHz)'][mask], fit_model_weights3(df3['Freq (GHz)'][mask]), 'r--')\n",
    "    ax[0,2].annotate('${\\u03B1 = -0.186 \\\\pm 0.034}$', xy=(130, 30), xycoords='axes points', size=11, ha='right', va='top', bbox=dict(boxstyle='round', fc='w', ec=\"w\"))\n",
    "\n",
    "mask = df4['Flux Density (mJy)'] > 3 * df4['Uncertainty (mJy)']  # apply detection threshold\n",
    "if mask.any():  # proceed only if at least one detection\n",
    "    ax[0,3].errorbar(df4['Freq (GHz)'][mask], df4['Flux Density (mJy)'][mask], yerr=yerr4, fmt='^')\n",
    "    ax[0,3].set_xscale('log')\n",
    "    ax[0,3].set_xticks([1, 5, 10, 50], labels=['1', '5', '10', '50'])\n",
    "    ax[0,3].set_yscale('log')\n",
    "    ax[0,3].set_yticks([1, 5, 10, 20, 50], labels=['1', '5', '10', '20', '50'])\n",
    "    ax[0,3].annotate('Day 12.01', xy=(90, 50), xycoords='axes points', size=11, ha='right', va='top', bbox=dict(boxstyle='round', fc='w', ec=\"w\"))\n",
    "    ax[0,3].tick_params(axis='both', which='both', direction='in', top=True, right=True)\n",
    "    ax[0,3].plot(df4['Freq (GHz)'][mask], fit_model_weights4(df4['Freq (GHz)'][mask]), 'r--')\n",
    "    ax[0,3].annotate('${\\u03B1 = -0.358 \\\\pm 0.142}$', xy=(130, 30), xycoords='axes points', size=11, ha='right', va='top', bbox=dict(boxstyle='round', fc='w', ec=\"w\"))\n",
    "\n",
    "\n",
    "#second row\n",
    "mask = df5['Flux Density (mJy)'] > 3 * df5['Uncertainty (mJy)']  # apply detection threshold\n",
    "if mask.any():  # proceed only if at least one detection\n",
    "    ax[1,0].errorbar(df5['Freq (GHz)'][mask], df5['Flux Density (mJy)'][mask], yerr=yerr5, fmt='^')\n",
    "    ax[1,0].set_xscale('log')\n",
    "    ax[1,0].set_xticks([1, 5, 10, 50], labels=['1', '5', '10', '50'], fontsize=13)\n",
    "    ax[1,0].set_yscale('log')\n",
    "    ax[1,0].set_yticks([1, 5, 10, 20, 50], labels=['1', '5', '10', '20', '50'], fontsize=13)\n",
    "    ax[1,0].annotate('Day 12.99', xy=(90, 50), xycoords='axes points', size=11, ha='right', va='top', bbox=dict(boxstyle='round', fc='w', ec=\"w\"))\n",
    "    ax[1,0].tick_params(axis='both', which='both', direction='in', top=True, right=True)\n",
    "    ax[1,0].plot(df5['Freq (GHz)'][mask], fit_model_weights5(df5['Freq (GHz)'][mask]), 'r--')\n",
    "    ax[1,0].annotate('${\\u03B1 = -0.362 \\\\pm 0.075}$', xy=(130, 30), xycoords='axes points', size=11, ha='right', va='top', bbox=dict(boxstyle='round', fc='w', ec=\"w\"))\n",
    "\n",
    "mask = df6['Flux Density (mJy)'] > 3 * df6['Uncertainty (mJy)']  # apply detection threshold\n",
    "if mask.any():  # proceed only if at least one detection\n",
    "    ax[1,1].errorbar(df6['Freq (GHz)'][mask], df6['Flux Density (mJy)'][mask], yerr=yerr6, fmt='^')\n",
    "    ax[1,1].set_xscale('log')\n",
    "    ax[1,1].set_xticks([1, 5, 10, 50], labels=['1', '5', '10', '50'], fontsize=13)\n",
    "    ax[1,1].set_yscale('log')\n",
    "    ax[1,1].set_yticks([1, 5, 10, 20, 50], labels=['1', '5', '10', '20', '50'], fontsize=13)\n",
    "    ax[1,1].annotate('Day 17.01', xy=(90, 50), xycoords='axes points', size=11, ha='right', va='top', bbox=dict(boxstyle='round', fc='w', ec=\"w\"))\n",
    "    ax[1,1].tick_params(axis='both', which='both', direction='in', top=True, right=True)\n",
    "    ax[1,1].plot(df6['Freq (GHz)'][mask], fit_model_weights6(df6['Freq (GHz)'][mask]), 'r--')\n",
    "    ax[1,1].annotate('${\\u03B1 = -0.370 \\\\pm 0.084}$', xy=(130, 30), xycoords='axes points', size=11, ha='right', va='top', bbox=dict(boxstyle='round', fc='w', ec=\"w\"))\n",
    "\n",
    "mask = df7['Flux Density (mJy)'] > 3 * df7['Uncertainty (mJy)']  # apply detection threshold\n",
    "if mask.any():  # proceed only if at least one detection\n",
    "    ax[1,2].errorbar(df7['Freq (GHz)'][mask], df7['Flux Density (mJy)'][mask], yerr=yerr7, fmt='^')\n",
    "    ax[1,2].set_xscale('log')\n",
    "    ax[1,2].set_xticks([1, 5, 10, 50], labels=['1', '5', '10', '50'])\n",
    "    ax[1,2].set_yscale('log')\n",
    "    ax[1,2].set_yticks([1, 5, 10, 20, 50], labels=['1', '5', '10', '20', '50'])\n",
    "    ax[1,2].annotate('Day 27.01', xy=(90, 50), xycoords='axes points', size=11, ha='right', va='top', bbox=dict(boxstyle='round', fc='w', ec=\"w\"))\n",
    "    ax[1,2].tick_params(axis='both', which='both', direction='in', top=True, right=True)\n",
    "    ax[1,2].plot(df7['Freq (GHz)'][mask], fit_model_weights7(df7['Freq (GHz)'][mask]), 'r--')\n",
    "    ax[1,2].annotate('${\\u03B1 = -0.350 \\\\pm 0.116}$', xy=(130, 30), xycoords='axes points', size=11, ha='right', va='top', bbox=dict(boxstyle='round', fc='w', ec=\"w\"))\n",
    "\n",
    "mask = df8['Flux Density (mJy)'] > 3 * df8['Uncertainty (mJy)']  # apply detection threshold\n",
    "if mask.any():  # proceed only if at least one detection\n",
    "    ax[1,3].errorbar(df8['Freq (GHz)'][mask], df8['Flux Density (mJy)'][mask], yerr=yerr8, fmt='^')\n",
    "    ax[1,3].set_xscale('log')\n",
    "    ax[1,3].set_xticks([1, 5, 10, 50], labels=['1', '5', '10', '50'])\n",
    "    ax[1,3].set_yscale('log')\n",
    "    ax[1,3].set_yticks([1, 5, 10, 20, 50], labels=['1', '5', '10', '20', '50'])\n",
    "    ax[1,3].annotate('Day 29.02', xy=(90, 50), xycoords='axes points', size=11, ha='right', va='top', bbox=dict(boxstyle='round', fc='w', ec=\"w\"))\n",
    "    ax[1,3].tick_params(axis='both', which='both', direction='in', top=True, right=True)\n",
    "    ax[1,3].plot(df8['Freq (GHz)'][mask], fit_model_weights8(df8['Freq (GHz)'][mask]), 'r--')\n",
    "    ax[1,3].annotate('${\\u03B1 = -0.336 \\\\pm 0.084}$', xy=(130, 30), xycoords='axes points', size=11, ha='right', va='top', bbox=dict(boxstyle='round', fc='w', ec=\"w\"))\n",
    "\n",
    "\n",
    "#third row\n",
    "mask = df9['Flux Density (mJy)'] > 3 * df9['Uncertainty (mJy)']  # apply detection threshold\n",
    "if mask.any():  # proceed only if at least one detection\n",
    "    ax[2,0].errorbar(df9['Freq (GHz)'][mask], df9['Flux Density (mJy)'][mask], yerr=yerr9, fmt='^')\n",
    "    ax[2,0].set_xscale('log')\n",
    "    ax[2,0].set_xticks([1, 5, 10, 50], labels=['1', '5', '10', '50'], fontsize=13)\n",
    "    ax[2,0].set_yscale('log')\n",
    "    ax[2,0].set_yticks([1, 5, 10, 20, 50], labels=['1', '5', '10', '20', '50'], fontsize=13)\n",
    "    ax[2,0].annotate('Day 32.04', xy=(90, 50), xycoords='axes points', size=11, ha='right', va='top', bbox=dict(boxstyle='round', fc='w', ec=\"w\"))\n",
    "    ax[2,0].tick_params(axis='both', which='both', direction='in', top=True, right=True)\n",
    "    ax[2,0].plot(df9['Freq (GHz)'][mask], fit_model_weights9(df9['Freq (GHz)'][mask]), 'r--')\n",
    "    ax[2,0].annotate('${\\u03B1 = -0.093 \\\\pm 0.036}$', xy=(130, 30), xycoords='axes points', size=11, ha='right', va='top', bbox=dict(boxstyle='round', fc='w', ec=\"w\"))\n",
    "\n",
    "mask = df10['Flux Density (mJy)'] > 3 * df10['Uncertainty (mJy)']  # apply detection threshold\n",
    "if mask.any():  # proceed only if at least one detection\n",
    "    ax[2,1].errorbar(df10['Freq (GHz)'][mask], df10['Flux Density (mJy)'][mask], yerr=yerr10, fmt='^')\n",
    "    ax[2,1].set_xscale('log')\n",
    "    ax[2,1].set_xticks([1, 5, 10, 50], labels=['1', '5', '10', '50'])\n",
    "    ax[2,1].set_yscale('log')\n",
    "    ax[2,1].set_yticks([1, 5, 10, 20, 50], labels=['1', '5', '10', '20', '50'])\n",
    "    ax[2,1].annotate('Day 33.99', xy=(90, 50), xycoords='axes points', size=11, ha='right', va='top', bbox=dict(boxstyle='round', fc='w', ec=\"w\"))\n",
    "    ax[2,1].tick_params(axis='both', which='both', direction='in', top=True, right=True)\n",
    "    ax[2,1].plot(df10['Freq (GHz)'][mask], fit_model_weights10(df10['Freq (GHz)'][mask]), 'r--')\n",
    "    ax[2,1].annotate('${\\u03B1 = -0.287 \\\\pm 0.088}$', xy=(130, 30), xycoords='axes points', size=11, ha='right', va='top', bbox=dict(boxstyle='round', fc='w', ec=\"w\"))\n",
    "\n",
    "mask = df11['Flux Density (mJy)'] > 3 * df11['Uncertainty (mJy)']  # apply detection threshold\n",
    "if mask.any():  # proceed only if at least one detection\n",
    "    ax[2,2].errorbar(df11['Freq (GHz)'][mask], df11['Flux Density (mJy)'][mask], yerr=yerr11, fmt='^')\n",
    "    ax[2,2].set_xscale('log')\n",
    "    ax[2,2].set_xticks([1, 5, 10, 50], labels=['1', '5', '10', '50'])\n",
    "    ax[2,2].set_yscale('log')\n",
    "    ax[2,2].set_yticks([1, 5, 10, 20, 50], labels=['1', '5', '10', '20', '50'])\n",
    "    ax[2,2].annotate('Day 36.01', xy=(90, 50), xycoords='axes points', size=11, ha='right', va='top', bbox=dict(boxstyle='round', fc='w', ec=\"w\"))\n",
    "    ax[2,2].tick_params(axis='both', which='both', direction='in', top=True, right=True)\n",
    "    ax[2,2].plot(df11['Freq (GHz)'][mask], fit_model_weights11(df11['Freq (GHz)'][mask]), 'r--')\n",
    "    ax[2,2].annotate('${\\u03B1 = -0.228 \\\\pm 0.169}$', xy=(130, 30), xycoords='axes points', size=11, ha='right', va='top', bbox=dict(boxstyle='round', fc='w', ec=\"w\"))\n",
    "\n",
    "mask = df12['Flux Density (mJy)'] > 3 * df12['Uncertainty (mJy)']  # apply detection threshold\n",
    "if mask.any():  # proceed only if at least one detection\n",
    "    ax[2,3].errorbar(df12['Freq (GHz)'][mask], df12['Flux Density (mJy)'][mask], yerr=yerr12, fmt='^')\n",
    "    ax[2,3].set_xscale('log')\n",
    "    ax[2,3].set_xticks([1, 5, 10, 50], labels=['1', '5', '10', '50'])\n",
    "    ax[2,3].set_yscale('log')\n",
    "    ax[2,3].set_yticks([1, 5, 10, 20, 50], labels=['1', '5', '10', '20', '50'])\n",
    "    ax[2,3].annotate('Day 53.96', xy=(90, 50), xycoords='axes points', size=11, ha='right', va='top', bbox=dict(boxstyle='round', fc='w', ec=\"w\"))\n",
    "    ax[2,3].tick_params(axis='both', which='both', direction='in', top=True, right=True)\n",
    "    ax[2,3].plot(df12['Freq (GHz)'][mask], fit_model_weights12(df12['Freq (GHz)'][mask]), 'r--')\n",
    "    ax[2,3].annotate('${\\u03B1 = -0.284 \\\\pm 0.066}$', xy=(130, 30), xycoords='axes points', size=11, ha='right', va='top', bbox=dict(boxstyle='round', fc='w', ec=\"w\"))\n",
    "\n",
    "#fourth fow\n",
    "mask = df13['Flux Density (mJy)'] > 3 * df13['Uncertainty (mJy)']  # apply detection threshold\n",
    "if mask.any():  # proceed only if at least one detection\n",
    "    ax[3,0].errorbar(df13['Freq (GHz)'][mask], df13['Flux Density (mJy)'][mask], yerr=yerr13, fmt='^')\n",
    "    ax[3,0].set_xscale('log')\n",
    "    ax[3,0].set_xticks([1, 5, 10, 50], labels=['1', '5', '10', '50'], fontsize=13)\n",
    "    ax[3,0].set_yscale('log')\n",
    "    ax[3,0].set_yticks([1, 5, 10, 20, 50], labels=['1', '5', '10', '20', '50'], fontsize=13)\n",
    "    ax[3,0].annotate('Day 76.94', xy=(90, 50), xycoords='axes points', size=11, ha='right', va='top', bbox=dict(boxstyle='round', fc='w', ec=\"w\"))\n",
    "    ax[3,0].tick_params(axis='both', which='both', direction='in', top=True, right=True)\n",
    "    ax[3,0].plot(df13['Freq (GHz)'][mask], fit_model_weights13(df13['Freq (GHz)'][mask]), 'r--')\n",
    "    ax[3,0].annotate('${\\u03B1 = 0.359 \\\\pm 0.033}$', xy=(130, 30), xycoords='axes points', size=11, ha='right', va='top', bbox=dict(boxstyle='round', fc='w', ec=\"w\"))\n",
    "\n",
    "mask = df14['Flux Density (mJy)'] > 3 * df14['Uncertainty (mJy)']  # apply detection threshold\n",
    "if mask.any():  # proceed only if at least one detection\n",
    "    ax[3,1].errorbar(df14['Freq (GHz)'][mask], df14['Flux Density (mJy)'][mask], yerr=yerr14, fmt='^')\n",
    "    ax[3,1].set_xscale('log')\n",
    "    ax[3,1].set_xticks([1, 5, 10, 50], labels=['1', '5', '10', '50'])\n",
    "    ax[3,1].set_yscale('log')\n",
    "    ax[3,1].set_yticks([1, 5, 10, 20, 50], labels=['1', '5', '10', '20', '50'])\n",
    "    ax[3,1].annotate('Day 77.92', xy=(90, 50), xycoords='axes points', size=11, ha='right', va='top', bbox=dict(boxstyle='round', fc='w', ec=\"w\"))\n",
    "    ax[3,1].tick_params(axis='both', which='both', direction='in', top=True, right=True)\n",
    "    ax[3,1].plot(df14['Freq (GHz)'][mask], fit_model_weights14(df14['Freq (GHz)'][mask]), 'r--')\n",
    "    ax[3,1].annotate('${\\u03B1 = 0.088 \\\\pm 0.035}$', xy=(130, 30), xycoords='axes points', size=11, ha='right', va='top', bbox=dict(boxstyle='round', fc='w', ec=\"w\"))\n",
    "\n",
    "mask = df15['Flux Density (mJy)'] > 3 * df15['Uncertainty (mJy)']  # apply detection threshold\n",
    "if mask.any():  # proceed only if at least one detection\n",
    "    ax[3,2].errorbar(df15['Freq (GHz)'][mask], df15['Flux Density (mJy)'][mask], yerr=yerr15, fmt='^')\n",
    "    ax[3,2].set_xscale('log')\n",
    "    ax[3,2].set_xticks([1, 5, 10, 50], labels=['1', '5', '10', '50'])\n",
    "    ax[3,2].set_yscale('log')\n",
    "    ax[3,2].set_yticks([1, 5, 10, 20, 50], labels=['1', '5', '10', '20', '50'])\n",
    "    ax[3,2].annotate('Day 89.82', xy=(90, 50), xycoords='axes points', size=11, ha='right', va='top', bbox=dict(boxstyle='round', fc='w', ec=\"w\"))\n",
    "    ax[3,2].tick_params(axis='both', which='both', direction='in', top=True, right=True)\n",
    "    ax[3,2].plot(df15['Freq (GHz)'][mask], fit_model_weights15(df15['Freq (GHz)'][mask]), 'r--')\n",
    "    ax[3,2].annotate('${\\u03B1 = 0.019 \\\\pm 0.037}$', xy=(130, 30), xycoords='axes points', size=11, ha='right', va='top', bbox=dict(boxstyle='round', fc='w', ec=\"w\"))\n",
    "\n",
    "mask = df16['Flux Density (mJy)'] > 3 * df16['Uncertainty (mJy)']  # apply detection threshold\n",
    "if mask.any():  # proceed only if at least one detection\n",
    "    ax[3,3].errorbar(df16['Freq (GHz)'][mask], df16['Flux Density (mJy)'][mask], yerr=yerr16, fmt='^')\n",
    "    ax[3,3].set_xscale('log')\n",
    "    ax[3,3].set_xticks([1, 5, 10, 50], labels=['1', '5', '10', '50'])\n",
    "    ax[3,3].set_yscale('log')\n",
    "    ax[3,3].set_yticks([1, 5, 10, 20, 50], labels=['1', '5', '10', '20', '50'])\n",
    "    ax[3,3].annotate('Day 140.76', xy=(90, 50), xycoords='axes points', size=11, ha='right', va='top', bbox=dict(boxstyle='round', fc='w', ec=\"w\"))\n",
    "    ax[3,3].tick_params(axis='both', which='both', direction='in', top=True, right=True)\n",
    "    ax[3,3].plot(df16['Freq (GHz)'][mask], fit_model_weights16(df16['Freq (GHz)'][mask]), 'r--')\n",
    "    ax[3,3].annotate('${\\u03B1 = 0.111 \\\\pm 0.073}$', xy=(130, 30), xycoords='axes points', size=11, ha='right', va='top', bbox=dict(boxstyle='round', fc='w', ec=\"w\"))\n",
    "\n",
    "#fifth row\n",
    "mask = df17['Flux Density (mJy)'] > 3 * df17['Uncertainty (mJy)']  # apply detection threshold\n",
    "if mask.any():  # proceed only if at least one detection\n",
    "    ax[4,0].errorbar(df17['Freq (GHz)'][mask], df17['Flux Density (mJy)'][mask], yerr=yerr17, fmt='^')\n",
    "    ax[4,0].set_xscale('log')\n",
    "    ax[4,0].set_xticks([1, 5, 10, 50], labels=['1', '5', '10', '50'], fontsize=13)\n",
    "    ax[4,0].set_yscale('log')\n",
    "    ax[4,0].set_yticks([1, 5, 10, 50], labels=['1', '5', '10', '50'], fontsize=13)\n",
    "    ax[4,0].annotate('Day 154.66', xy=(90, 50), xycoords='axes points', size=11, ha='right', va='top', bbox=dict(boxstyle='round', fc='w', ec=\"w\"))\n",
    "    ax[4,0].tick_params(axis='both', which='both', direction='in', top=True, right=True)\n",
    "    ax[4,0].plot(df17['Freq (GHz)'][mask], fit_model_weights17(df17['Freq (GHz)'][mask]), 'r--')\n",
    "    ax[4,0].annotate('${\\u03B1 = -0.180 \\\\pm 0.080}$', xy=(130, 30), xycoords='axes points', size=11, ha='right', va='top', bbox=dict(boxstyle='round', fc='w', ec=\"w\"))\n",
    "\n",
    "mask = df18['Flux Density (mJy)'] > 3 * df18['Uncertainty (mJy)']  # apply detection threshold\n",
    "if mask.any():  # proceed only if at least one detection\n",
    "    ax[4,1].errorbar(df18['Freq (GHz)'][mask], df18['Flux Density (mJy)'][mask], yerr=yerr18, fmt='^')\n",
    "    ax[4,1].set_xscale('log')\n",
    "    ax[4,1].set_xticks([1, 5, 10, 50], labels=['1', '5', '10', '50'], fontsize=13)\n",
    "    ax[4,1].set_yscale('log')\n",
    "    ax[4,1].set_yticks([1, 5, 10, 20, 50], labels=['1', '5', '10', '20', '50'], fontsize=13)\n",
    "    ax[4,1].annotate('Day 156.61', xy=(90, 50), xycoords='axes points', size=11, ha='right', va='top', bbox=dict(boxstyle='round', fc='w', ec=\"w\"))\n",
    "    ax[4,1].tick_params(axis='both', which='both', direction='in', top=True, right=True)\n",
    "    ax[4,1].plot(df18['Freq (GHz)'][mask], fit_model_weights18(df18['Freq (GHz)'][mask]), 'r--')\n",
    "    ax[4,1].annotate('${\\u03B1 = -0.145 \\\\pm 0.063}$', xy=(130, 30), xycoords='axes points', size=11, ha='right', va='top', bbox=dict(boxstyle='round', fc='w', ec=\"w\"))\n",
    "\n",
    "mask = df19['Flux Density (mJy)'] > 3 * df19['Uncertainty (mJy)']  # apply detection threshold\n",
    "if mask.any():  # proceed only if at least one detection\n",
    "    ax[4,2].errorbar(df19['Freq (GHz)'][mask], df19['Flux Density (mJy)'][mask], yerr=yerr19, fmt='^')\n",
    "    ax[4,2].set_xscale('log')\n",
    "    ax[4,2].set_xticks([1, 5, 10, 50], labels=['1', '5', '10', '50'], fontsize=13)\n",
    "    ax[4,2].set_yscale('log')\n",
    "    ax[4,2].set_yticks([1, 5, 10, 20, 50], labels=['1', '5', '10', '20', '50'], fontsize=13)\n",
    "    ax[4,2].annotate('Day 161.61', xy=(90, 50), xycoords='axes points', size=11, ha='right', va='top', bbox=dict(boxstyle='round', fc='w', ec=\"w\"))\n",
    "    ax[4,2].tick_params(axis='both', which='both', direction='in', top=True, right=True)\n",
    "    ax[4,2].plot(df19['Freq (GHz)'][mask], fit_model_weights19(df19['Freq (GHz)'][mask]), 'r--')\n",
    "    ax[4,2].annotate('${\\u03B1 = -0.159 \\\\pm 0.073}$', xy=(130, 30), xycoords='axes points', size=11, ha='right', va='top', bbox=dict(boxstyle='round', fc='w', ec=\"w\"))\n",
    "\n",
    "mask = df20['Flux Density (mJy)'] > 3 * df20['Uncertainty (mJy)']  # apply detection threshold\n",
    "if mask.any():  # proceed only if at least one detection\n",
    "    ax[4,3].errorbar(df20['Freq (GHz)'][mask], df20['Flux Density (mJy)'][mask], yerr=yerr20, fmt='^')\n",
    "    ax[4,3].set_xscale('log')\n",
    "    ax[4,3].set_xticks([1, 5, 10, 50], labels=['1', '5', '10', '50'], fontsize=13)\n",
    "    ax[4,3].set_yscale('log')\n",
    "    ax[4,3].set_yticks([1, 5, 10, 20, 50], labels=['1', '5', '10', '20', '50'], fontsize=13)\n",
    "    ax[4,3].annotate('Day 600.47', xy=(90, 100), xycoords='axes points', size=11, ha='right', va='top', bbox=dict(boxstyle='round', fc='w', ec=\"w\"))\n",
    "    ax[4,3].tick_params(axis='both', which='both', direction='in', top=True, right=True)\n",
    "    ax[4,3].plot(df20['Freq (GHz)'][mask], fit_model_weights20(df20['Freq (GHz)'][mask]), 'r--')\n",
    "    ax[4,3].annotate('${\\u03B1 = -0.547 \\\\pm 0.038}$', xy=(130, 80), xycoords='axes points', size=11, ha='right', va='top', bbox=dict(boxstyle='round', fc='w', ec=\"w\"))\n",
    "\n",
    "#sixth row\n",
    "mask = df21['Flux Density (mJy)'] > 3 * df21['Uncertainty (mJy)']  # apply detection threshold\n",
    "if mask.any():  # proceed only if at least one detection\n",
    "    ax[5,0].errorbar(df21['Freq (GHz)'][mask], df21['Flux Density (mJy)'][mask], yerr=yerr21, fmt='^')\n",
    "    ax[5,0].set_xscale('log')\n",
    "    ax[5,0].set_xticks([1, 5, 10, 50], labels=['1', '5', '10', '50'], fontsize=13)\n",
    "    ax[5,0].set_yscale('log')\n",
    "    ax[5,0].set_yticks([1, 5, 10, 50], labels=['1', '5', '10', '50'], fontsize=13)\n",
    "    ax[5,0].annotate('Day 615.34', xy=(90, 100), xycoords='axes points', size=11, ha='right', va='top', bbox=dict(boxstyle='round', fc='w', ec=\"w\"))\n",
    "    ax[5,0].tick_params(axis='both', which='both', direction='in', top=True, right=True)\n",
    "    ax[5,0].plot(df21['Freq (GHz)'][mask], fit_model_weights21(df21['Freq (GHz)'][mask]), 'r--')\n",
    "    ax[5,0].annotate('${\\u03B1 = -0.393 \\\\pm 0.042}$', xy=(130, 80), xycoords='axes points', size=11, ha='right', va='top', bbox=dict(boxstyle='round', fc='w', ec=\"w\"))\n",
    "\n",
    "mask = df22['Flux Density (mJy)'] > 3 * df22['Uncertainty (mJy)']  # apply detection threshold\n",
    "if mask.any():  # proceed only if at least one detection\n",
    "    ax[5,1].errorbar(df22['Freq (GHz)'][mask], df22['Flux Density (mJy)'][mask], yerr=yerr22, fmt='^')\n",
    "    ax[5,1].set_xscale('log')\n",
    "    ax[5,1].set_xticks([1, 5, 10, 50], labels=['1', '5', '10', '50'], fontsize=13)\n",
    "    ax[5,1].set_yscale('log')\n",
    "    ax[5,1].set_yticks([1, 5, 10, 50], labels=['1', '5', '10', '50'], fontsize=13)\n",
    "    ax[5,1].annotate('Day 697.12', xy=(90, 100), xycoords='axes points', size=11, ha='right', va='top', bbox=dict(boxstyle='round', fc='w', ec=\"w\"))\n",
    "    ax[5,1].tick_params(axis='both', which='both', direction='in', top=True, right=True)\n",
    "    ax[5,1].plot(df22['Freq (GHz)'][mask], fit_model_weights22(df22['Freq (GHz)'][mask]), 'r--')\n",
    "    ax[5,1].annotate('${\\u03B1 = -0.057 \\\\pm 0.089}$', xy=(130, 80), xycoords='axes points', size=11, ha='right', va='top', bbox=dict(boxstyle='round', fc='w', ec=\"w\"))\n",
    "\n",
    "ax[5,2].set_xscale('log')\n",
    "ax[5,2].set_xticks([1, 5, 10, 50], labels=['1', '5', '10', '50'], fontsize=13)\n",
    "ax[5,2].set_yscale('log')\n",
    "ax[5,2].set_yticks([1, 10, 50], labels=['1', '10', '50'], fontsize=13)\n",
    "\n",
    "ax[5,3].set_xscale('log')\n",
    "ax[5,3].set_xticks([1, 5, 10, 50], labels=['1', '5', '10', '50'], fontsize=13)\n",
    "ax[5,3].set_yscale('log')\n",
    "ax[5,3].set_yticks([1, 10, 50], labels=['1', '10', '50'], fontsize=13)\n",
    "\n",
    "fig.supxlabel(\"Frequency (GHz)\", fontsize =20)\n",
    "fig.supylabel(\"Flux Density (mJy)\", fontsize=20)\n",
    "plt.savefig(\"RSOph_SI.png\")\n",
    "plt.show();"
   ]
  },
  {
   "cell_type": "code",
   "execution_count": null,
   "id": "22600e50-367a-49d8-a2fc-8a6cc0425549",
   "metadata": {},
   "outputs": [],
   "source": []
  }
 ],
 "metadata": {
  "kernelspec": {
   "display_name": "anaconda-2025.04-py3.11",
   "language": "python",
   "name": "conda-env-anaconda-2025.04-py3.11"
  },
  "language_info": {
   "codemirror_mode": {
    "name": "ipython",
    "version": 3
   },
   "file_extension": ".py",
   "mimetype": "text/x-python",
   "name": "python",
   "nbconvert_exporter": "python",
   "pygments_lexer": "ipython3",
   "version": "3.11.11"
  }
 },
 "nbformat": 4,
 "nbformat_minor": 5
}
