{
 "cells": [
  {
   "cell_type": "markdown",
   "id": "77ada6b4-dd6e-40f5-9106-11cfb14b9896",
   "metadata": {},
   "source": [
    "### V392 Per Spectral Index work"
   ]
  },
  {
   "cell_type": "code",
   "execution_count": 1,
   "id": "1d7a9cda-8abc-40c3-858f-1c95c813d25b",
   "metadata": {},
   "outputs": [],
   "source": [
    "#imports\n",
    "import math\n",
    "import pandas as pd\n",
    "import numpy as np\n",
    "import matplotlib.pyplot as plt\n",
    "%matplotlib inline\n",
    "\n",
    "from sympy import diff as dif\n",
    "\n",
    "from astropy.io import ascii\n",
    "import astropy.units as u\n",
    "import astropy.constants as const\n",
    "from astropy.modeling.powerlaws import BrokenPowerLaw1D, SmoothlyBrokenPowerLaw1D, PowerLaw1D\n",
    "from astropy.modeling import fitting, models"
   ]
  },
  {
   "cell_type": "code",
   "execution_count": 2,
   "id": "aff632e2-3d0c-4261-adb1-3dde2d49104a",
   "metadata": {},
   "outputs": [],
   "source": [
    "#the bulk of the data"
   ]
  },
  {
   "cell_type": "code",
   "execution_count": 3,
   "id": "10c8840c-d447-4bee-b37f-589cbfc221d9",
   "metadata": {},
   "outputs": [],
   "source": [
    "data = ([58238.93,\t1.26,\t-0.0122,\t0.0531,\t1],\n",
    "[58238.93,\t1.74,\t0.0298,\t0.0385,\t1],\n",
    "[58238.93,\t5,\t0.0152,\t0.012,\t1],\n",
    "[58238.93,\t7,\t-0.0184,\t0.0143,\t1],\n",
    "[58246.67,\t5,\t0.232,\t0.0125,\t9],\n",
    "[58246.67,\t7,\t0.3,\t0.0125,\t9],\n",
    "[58246.68,\t13.5,\t0.435,\t0.0181,\t9],\n",
    "[58246.68,\t16.5,\t0.342,\t0.0186,\t9],\n",
    "[58246.68,\t29.5,\t0.968,\t0.0239,\t9],\n",
    "[58246.68,\t35,\t0.913,\t0.0231,\t9],\n",
    "[58250.64,\t1.26,\t0.114,\t0.0474,\t13],\n",
    "[58250.64,\t1.74,\t0.15,\t0.0419,\t13],\n",
    "[58250.64,\t5,\t0.5,\t0.0132,\t13],\n",
    "[58250.64,\t7,\t0.751,\t0.0147,\t13],\n",
    "[58255.65,\t13.5,\t7.378,\t0.0135,\t18],\n",
    "[58255.65,\t16.5,\t8.321,\t0.0171,\t18],\n",
    "[58255.65,\t29.5,\t11.851,\t0.0286,\t18],\n",
    "[58255.65,\t35,\t12.991,\t0.035,\t18],\n",
    "[58255.71,\t8.416,\t7.136,\t0.0322,\t18],\n",
    "[58256.62,\t1.26,\t0.626,\t0.0562,\t19],\n",
    "[58256.62,\t1.74,\t0.948,\t0.0424,\t19],\n",
    "[58256.62,\t5,\t3.227,\t0.0131,\t19],\n",
    "[58256.62,\t7,\t4.202,\t0.0214,\t19],\n",
    "[58259.7,\t4.868,\t3.932,\t0.0196,\t22],\n",
    "[58260.96,\t1.26,\t1.576,\t0.0616,\t23],\n",
    "[58260.96,\t1.74,\t2.015,\t0.041,\t23],\n",
    "[58260.96,\t5,\t4.523,\t0.0134,\t23],\n",
    "[58260.96,\t7,\t5.889,\t0.0152,\t23],\n",
    "[58269.56,\t13.5,\t7.582,\t0.0116,\t32],\n",
    "[58269.56,\t16.5,\t8.545,\t0.0131,\t32],\n",
    "[58269.56,\t29.5,\t14.418,\t0.0485,\t32],\n",
    "[58269.56,\t35,\t17.162,\t0.0565,\t32],\n",
    "[58269.61,\t1.26,\t3.471,\t0.0551,\t32],\n",
    "[58269.61,\t1.74,\t3.887,\t0.0374,\t32],\n",
    "[58269.61,\t5,\t5.226,\t0.0122,\t32],\n",
    "[58269.61,\t7,\t5.994,\t0.0134,\t32],\n",
    "[58278.53,\t13.5,\t6.545,\t0.012,\t41],\n",
    "[58278.53,\t16.5,\t7.35,\t0.0141,\t41],\n",
    "[58278.53,\t29.5,\t11.934,\t0.0594,\t41],\n",
    "[58278.53,\t35,\t13.925,\t0.07,\t41],\n",
    "[58278.58,\t1.26,\t3.704,\t0.0571,\t41],\n",
    "[58278.58,\t1.74,\t3.746,\t0.0413,\t41],\n",
    "[58278.58,\t5,\t4.419,\t0.0123,\t41],\n",
    "[58278.58,\t7,\t4.984,\t0.0137,\t41],\n",
    "[58280.64,\t8.416,\t1.98,\t0.036,\t43],\n",
    "[58283.6,\t4.868,\t3.57,\t0.025,\t46],\t\n",
    "[58323.5,\t4.868,\t1.2,\t0.02,\t86],\n",
    "#\t1.4\t\t\t90\n",
    "[58347.5,\t1.4,\t0.22,\t0.035,\t110],\n",
    "[58368.38,\t13.5,\t3.017,\t0.0111,\t131],\n",
    "[58368.38,\t16.5,\t3.089,\t0.0125,\t131],\n",
    "[58368.38,\t29.5,\t3.164,\t0.0266,\t131],\n",
    "[58368.38,\t35,\t3.116,\t0.0338,\t131],\n",
    "[58368.43,\t1.26,\t0.971,\t0.272,\t131],\n",
    "[58368.43,\t1.74,\t0.85,\t0.116,\t131],\n",
    "[58368.43,\t5,\t1.865,\t0.017,\t131],\n",
    "[58368.43,\t7,\t2.333,\t0.0126,\t131],\n",
    "[58379.39,\t13.5,\t2.444,\t0.0118,\t142],\n",
    "[58379.39,\t16.5,\t2.475,\t0.0127,\t142],\n",
    "[58379.39,\t29.5,\t2.364,\t0.0237,\t142],\n",
    "[58379.39,\t35,\t2.193,\t0.0256,\t142],\n",
    "[58379.44,\t1.26,\t1.033,\t0.223,\t142],\n",
    "[58379.44,\t1.74,\t0.417,\t0.125,\t142],\n",
    "[58379.44,\t5,\t1.637,\t0.0158,\t142],\n",
    "[58379.44,\t7,\t2.018,\t0.0125,\t142],\t\t\n",
    "[58423.19,\t13.5,\t1.2,\t0.0127,\t186],\n",
    "[58423.19,\t16.5,\t1.207,\t0.0117,\t186],\n",
    "[58423.19,\t29.5,\t1.068,\t0.0241,\t186],\n",
    "[58423.19,\t35,\t1.125,\t0.0276,\t186],\n",
    "[58423.58,\t1.26,\t-0.108,\t0.241,\t186],\n",
    "[58423.58,\t1.74,\t0.511,\t0.107,\t186],\n",
    "[58423.58,\t5,\t1.121,\t0.0201,\t186],\n",
    "[58423.58,\t7,\t1.165,\t0.0165,\t186],\n",
    "[58460.18,\t1.26,\t0.105,\t0.111,\t223],\n",
    "[58460.18,\t1.74,\t0.349,\t0.0714,\t223],\n",
    "[58460.18,\t5,\t0.766,\t0.0137,\t223],\n",
    "[58460.18,\t7,\t0.782,\t0.0131,\t223],\t\n",
    "[58461.08,\t13.5,\t0.738,\t0.0119,\t224],\n",
    "[58461.08,\t16.5,\t0.717,\t0.0121,\t224],\n",
    "[58461.08,\t29.5,\t0.57,\t0.0229,\t224],\n",
    "[58461.08,\t35,\t0.593,\t0.0273,\t224],\n",
    "[58493.11,\t1.26,\t0.178,\t0.151,\t256],\n",
    "[58493.11,\t1.74,\t0.402,\t0.0811,\t256],\n",
    "[58493.11,\t5,\t0.559,\t0.0158,\t256],\n",
    "[58493.11,\t7,\t0.589,\t0.0186,\t256],\n",
    "[58496.01,\t13.5,\t0.521,\t0.0114,\t259],\n",
    "[58496.01,\t16.5,\t0.529,\t0.0118,\t259],\n",
    "[58496.01,\t29.5,\t0.426,\t0.0266,\t259],\n",
    "[58496.01,\t35,\t0.414,\t0.0309,\t259],\n",
    "[58519.04,\t1.26,\t0.111,\t0.109,\t282],\n",
    "[58519.04,\t1.74,\t0.41,\t0.0637,\t282],\n",
    "[58519.04,\t5,\t0.492,\t0.0127,\t282],\n",
    "[58519.04,\t7,\t0.457,\t0.0126,\t282],\n",
    "[58627.98,\t1.26,\t0.0193,\t0.086,\t390],\n",
    "[58627.98,\t1.78,\t0.177,\t0.044,\t390],\n",
    "[58627.98,\t5,\t0.157,\t0.0145,\t390],\n",
    "[58627.98,\t7,\t0.176,\t0.0143,\t390],\n",
    "[58628.64,\t13.5,\t0.139,\t0.034,\t391],\n",
    "[58628.64,\t16.5,\t0.125,\t0.0399,\t391],\n",
    "[58628.64,\t29.5,\t0.126,\t0.0373,\t391],\n",
    "[58628.64,\t35,\t-0.0704,\t0.0471,\t391],\n",
    "[58652.58,\t1.26,\t0.104,\t0.0989,\t415],\n",
    "[58652.58,\t1.78,\t0.0834,\t0.0396,\t415],\n",
    "[58652.58,\t5,\t0.165,\t0.0134,\t415],\n",
    "[58652.58,\t7,\t0.157,\t0.0143,\t415],\n",
    "[58658.62,\t13.5,\t0.0657,\t0.0114,\t419],\n",
    "[58658.62,\t16.5,\t0.0483,\t0.0201,\t419],\n",
    "[58658.62,\t29.5,\t0.104,\t0.0352,\t419],\n",
    "[58658.62,\t35,\t0.137,\t0.0421,\t419],\n",
    "[58711.46,\t13.5,\t0.032,\t0.014,\t474],\n",
    "[58711.46,\t16.5,\t0.007,\t0.015,\t474],\n",
    "[58711.46,\t29.5,\t-0.033,\t0.034,\t474],\n",
    "[58711.46,\t35,\t-0.031,\t0.043,\t474],\n",
    "[58712.62,\t1.26,\t0.38,\t0.09,\t475],\n",
    "[58712.62,\t1.78,\t0.255,\t0.067,\t475],\n",
    "[58712.62,\t5,\t0.075,\t0.017,\t475],\n",
    "[58712.62,\t7,\t0.056,\t0.02,\t475],\n",
    "#[58765.29,\t1.26\t\t\t528],\n",
    "[58765.29,\t1.78,\t0.0962,\t0.066,\t528],\n",
    "[58765.29,\t5,\t0.0426,\t0.016,\t528],\n",
    "[58765.29,\t7,\t0.0304,\t0.016,\t528],\n",
    "#[58839.82,\t5,\t\t\t611],\n",
    "#[58839.82,\t7,\t\t\t611\n",
    "[58839.82,\t13.5,\t0.0592,\t0.017,\t611],\n",
    "[58839.82,\t16.5,\t0.0631,\t0.018,\t611],\n",
    "[58839.82,\t29.5,\t0.002,\t0.04,\t611],\n",
    "[58839.82,\t35,\t0.02,\t0.044,\t611],\n",
    "[58924.11,\t5,\t0.117,\t0.022,\t687],\n",
    "[58924.11,\t7,\t0.088,\t0.021,\t687],\n",
    "[58924.11,\t13.5,\t0.037,\t0.017,\t687],\n",
    "[58924.11,\t16.5,\t0.024,\t0.018,\t687],\n",
    "[58924.11,\t29.5,\t0.14,\t0.036,\t687],\n",
    "[58924.11,\t35,\t0.05,\t0.041,\t687],\n",
    "[58984.93,\t5,\t0.0606,\t0.016,\t747],\n",
    "[58984.93,\t7,\t0.062,\t0.015,\t747],\n",
    "[58984.93,\t13.5,\t0.0423,\t0.017,\t747],\n",
    "[58984.93,\t16.5,\t0.0532,\t0.018,\t747],\n",
    "[58984.93,\t29.5,\t0.0229,\t0.037,\t747],\n",
    "[58984.93,\t35,\t0.008,\t0.043,\t747])\n",
    "\n",
    "df =  pd.DataFrame(data, columns = [\"MJD\",\t\"Freq (GHz)\",\t\"Flux (mJy)\",\t\"eFlux (mJy)\",\t\"Days\"])"
   ]
  },
  {
   "cell_type": "code",
   "execution_count": 4,
   "id": "c750f26f-d90a-4e08-84e6-4d88b812253a",
   "metadata": {},
   "outputs": [],
   "source": [
    "#now to seperate it into days"
   ]
  },
  {
   "cell_type": "code",
   "execution_count": 5,
   "id": "d5d3ff3c-38ee-46fa-bf5a-c133eaee92d9",
   "metadata": {},
   "outputs": [],
   "source": [
    "E1=([58238.93,\t1.26,\t-0.0122,\t0.0531,\t1],\n",
    "[58238.93,\t1.74,\t0.0298,\t0.0385,\t1],\n",
    "[58238.93,\t5,\t0.0152,\t0.012,\t1],\n",
    "[58238.93,\t7,\t-0.0184,\t0.0143,\t1],)\n",
    "\n",
    " \n",
    "E2=([58246.67,\t5,\t0.232,\t0.0125,\t9],\n",
    "[58246.67,\t7,\t0.3,\t0.0125,\t9],\n",
    "[58246.68,\t13.5,\t0.435,\t0.0181,\t9],\n",
    "[58246.68,\t16.5,\t0.342,\t0.0186,\t9],\n",
    "[58246.68,\t29.5,\t0.968,\t0.0239,\t9],\n",
    "[58246.68,\t35,\t0.913,\t0.0231,\t9],)\n",
    "\n",
    " \n",
    "E3=([58250.64,\t1.26,\t0.114,\t0.0474,\t13],\n",
    "[58250.64,\t1.74,\t0.15,\t0.0419,\t13],\n",
    "[58250.64,\t5,\t0.5,\t0.0132,\t13],\n",
    "[58250.64,\t7,\t0.751,\t0.0147,\t13],)\n",
    "\n",
    " \n",
    "E4=([58255.65,\t13.5,\t7.378,\t0.0135,\t18],\n",
    "[58255.65,\t16.5,\t8.321,\t0.0171,\t18],\n",
    "[58255.65,\t29.5,\t11.851,\t0.0286,\t18],\n",
    "[58255.65,\t35,\t12.991,\t0.035,\t18],\n",
    "[58255.71,\t8.416,\t7.136,\t0.0322,\t18],)\n",
    "\n",
    " \n",
    "E5=([58256.62,\t1.26,\t0.626,\t0.0562,\t19],\n",
    "[58256.62,\t1.74,\t0.948,\t0.0424,\t19],\n",
    "[58256.62,\t5,\t3.227,\t0.0131,\t19],\n",
    "[58256.62,\t7,\t4.202,\t0.0214,\t19],)\n",
    "\n",
    " \n",
    "E6=(#[58259.7,\t4.868,\t3.932,\t0.0196,\t22],\n",
    "[58260.96,\t1.26,\t1.576,\t0.0616,\t23],\n",
    "[58260.96,\t1.74,\t2.015,\t0.041,\t23],\n",
    "[58260.96,\t5,\t4.523,\t0.0134,\t23],\n",
    "[58260.96,\t7,\t5.889,\t0.0152,\t23],)\n",
    "\n",
    " \n",
    "E7=([58269.56,\t13.5,\t7.582,\t0.0116,\t32],\n",
    "[58269.56,\t16.5,\t8.545,\t0.0131,\t32],\n",
    "[58269.56,\t29.5,\t14.418,\t0.0485,\t32],\n",
    "[58269.56,\t35,\t17.162,\t0.0565,\t32],\n",
    "[58269.61,\t1.26,\t3.471,\t0.0551,\t32],\n",
    "[58269.61,\t1.74,\t3.887,\t0.0374,\t32],\n",
    "[58269.61,\t5,\t5.226,\t0.0122,\t32],\n",
    "[58269.61,\t7,\t5.994,\t0.0134,\t32],)\n",
    "\n",
    " \n",
    "E8=([58278.53,\t13.5,\t6.545,\t0.012,\t41],\n",
    "[58278.53,\t16.5,\t7.35,\t0.0141,\t41],\n",
    "[58278.53,\t29.5,\t11.934,\t0.0594,\t41],\n",
    "[58278.53,\t35,\t13.925,\t0.07,\t41],\n",
    "[58278.58,\t1.26,\t3.704,\t0.0571,\t41],\n",
    "[58278.58,\t1.74,\t3.746,\t0.0413,\t41],\n",
    "[58278.58,\t5,\t4.419,\t0.0123,\t41],\n",
    "[58278.58,\t7,\t4.984,\t0.0137,\t41],)\n",
    "\n",
    "\n",
    "#not using the following due to only one data point a day\n",
    "#[58280.64,\t8.416,\t1.98,\t0.036,\t43],\n",
    "\n",
    " \n",
    "#[58283.6,\t4.868,\t3.57,\t0.025,\t46],\n",
    "\n",
    " \n",
    "#[58323.5,\t4.868,\t1.2,\t0.02,\t86],\n",
    "#\t1.4\t\t\t90\n",
    "\n",
    " \n",
    "#[58347.5,\t1.4,\t0.22,\t0.035,\t110],\n",
    "\n",
    " \n",
    "E9=([58368.38,\t13.5,\t3.017,\t0.0111,\t131],\n",
    "[58368.38,\t16.5,\t3.089,\t0.0125,\t131],\n",
    "[58368.38,\t29.5,\t3.164,\t0.0266,\t131],\n",
    "[58368.38,\t35,\t3.116,\t0.0338,\t131],\n",
    "[58368.43,\t1.26,\t0.971,\t0.272,\t131],\n",
    "[58368.43,\t1.74,\t0.85,\t0.116,\t131],\n",
    "[58368.43,\t5,\t1.865,\t0.017,\t131],\n",
    "[58368.43,\t7,\t2.333,\t0.0126,\t131],)\n",
    "\n",
    " \n",
    "E10=([58379.39,\t13.5,\t2.444,\t0.0118,\t142],\n",
    "[58379.39,\t16.5,\t2.475,\t0.0127,\t142],\n",
    "[58379.39,\t29.5,\t2.364,\t0.0237,\t142],\n",
    "[58379.39,\t35,\t2.193,\t0.0256,\t142],\n",
    "[58379.44,\t1.26,\t1.033,\t0.223,\t142],\n",
    "[58379.44,\t1.74,\t0.417,\t0.125,\t142],\n",
    "[58379.44,\t5,\t1.637,\t0.0158,\t142],\n",
    "[58379.44,\t7,\t2.018,\t0.0125,\t142],)\t\n",
    "\n",
    " \n",
    "E11=([58423.19,\t13.5,\t1.2,\t0.0127,\t186],\n",
    "[58423.19,\t16.5,\t1.207,\t0.0117,\t186],\n",
    "[58423.19,\t29.5,\t1.068,\t0.0241,\t186],\n",
    "[58423.19,\t35,\t1.125,\t0.0276,\t186],\n",
    "[58423.58,\t1.26,\t-0.108,\t0.241,\t186],\n",
    "[58423.58,\t1.74,\t0.511,\t0.107,\t186],\n",
    "[58423.58,\t5,\t1.121,\t0.0201,\t186],\n",
    "[58423.58,\t7,\t1.165,\t0.0165,\t186],)\n",
    "\n",
    " \n",
    "E12=([58460.18,\t1.26,\t0.105,\t0.111,\t223],\n",
    "[58460.18,\t1.74,\t0.349,\t0.0714,\t223],\n",
    "[58460.18,\t5,\t0.766,\t0.0137,\t223],\n",
    "[58460.18,\t7,\t0.782,\t0.0131,\t223],)\t\n",
    "\n",
    " \n",
    "E13=([58461.08,\t13.5,\t0.738,\t0.0119,\t224],\n",
    "[58461.08,\t16.5,\t0.717,\t0.0121,\t224],\n",
    "[58461.08,\t29.5,\t0.57,\t0.0229,\t224],\n",
    "[58461.08,\t35,\t0.593,\t0.0273,\t224],)\n",
    "\n",
    "\n",
    " \n",
    "E14=([58493.11,\t1.26,\t0.178,\t0.151,\t256],\n",
    "[58493.11,\t1.74,\t0.402,\t0.0811,\t256],\n",
    "[58493.11,\t5,\t0.559,\t0.0158,\t256],\n",
    "[58493.11,\t7,\t0.589,\t0.0186,\t256],)\n",
    "\n",
    " \n",
    "E15=([58496.01,\t13.5,\t0.521,\t0.0114,\t259],\n",
    "[58496.01,\t16.5,\t0.529,\t0.0118,\t259],\n",
    "[58496.01,\t29.5,\t0.426,\t0.0266,\t259],\n",
    "[58496.01,\t35,\t0.414,\t0.0309,\t259],)\n",
    "\n",
    " \n",
    "E16=([58519.04,\t1.26,\t0.111,\t0.109,\t282],\n",
    "[58519.04,\t1.74,\t0.41,\t0.0637,\t282],\n",
    "[58519.04,\t5,\t0.492,\t0.0127,\t282],\n",
    "[58519.04,\t7,\t0.457,\t0.0126,\t282],)\n",
    "\n",
    " \n",
    "E17=([58627.98,\t1.26,\t0.0193,\t0.086,\t390],\n",
    "[58627.98,\t1.78,\t0.177,\t0.044,\t390],\n",
    "[58627.98,\t5,\t0.157,\t0.0145,\t390],\n",
    "[58627.98,\t7,\t0.176,\t0.0143,\t390],)\n",
    "\n",
    " \n",
    "E18=([58628.64,\t13.5,\t0.139,\t0.034,\t391],\n",
    "[58628.64,\t16.5,\t0.125,\t0.0399,\t391],\n",
    "[58628.64,\t29.5,\t0.126,\t0.0373,\t391],\n",
    "[58628.64,\t35,\t-0.0704,\t0.0471,\t391],)\n",
    "\n",
    " \n",
    "E19=([58652.58,\t1.26,\t0.104,\t0.0989,\t415],\n",
    "[58652.58,\t1.78,\t0.0834,\t0.0396,\t415],\n",
    "[58652.58,\t5,\t0.165,\t0.0134,\t415],\n",
    "[58652.58,\t7,\t0.157,\t0.0143,\t415],)\n",
    "\n",
    " \n",
    "E20=([58658.62,\t13.5,\t0.0657,\t0.0114,\t419],\n",
    "[58658.62,\t16.5,\t0.0483,\t0.0201,\t419],\n",
    "[58658.62,\t29.5,\t0.104,\t0.0352,\t419],\n",
    "[58658.62,\t35,\t0.137,\t0.0421,\t419],)\n",
    "\n",
    " \n",
    "E21=([58711.46,\t13.5,\t0.032,\t0.014,\t474],\n",
    "[58711.46,\t16.5,\t0.007,\t0.015,\t474],\n",
    "[58711.46,\t29.5,\t-0.033,\t0.034,\t474],\n",
    "[58711.46,\t35,\t-0.031,\t0.043,\t474],)\n",
    "\n",
    " \n",
    "E22=([58712.62,\t1.26,\t0.38,\t0.09,\t475],\n",
    "[58712.62,\t1.78,\t0.255,\t0.067,\t475],\n",
    "[58712.62,\t5,\t0.075,\t0.017,\t475],\n",
    "[58712.62,\t7,\t0.056,\t0.02,\t475],)\n",
    "\n",
    " \n",
    "E23=(#[58765.29,\t1.26\t\t\t528],\n",
    "[58765.29,\t1.78,\t0.0962,\t0.066,\t528],\n",
    "[58765.29,\t5,\t0.0426,\t0.016,\t528],\n",
    "[58765.29,\t7,\t0.0304,\t0.016,\t528],)\n",
    "\n",
    " \n",
    "E24=(#[58839.82,\t5,\t\t\t611],\n",
    "#[58839.82,\t7,\t\t\t611\n",
    "[58839.82,\t13.5,\t0.0592,\t0.017,\t611],\n",
    "[58839.82,\t16.5,\t0.0631,\t0.018,\t611],\n",
    "[58839.82,\t29.5,\t0.002,\t0.04,\t611],\n",
    "[58839.82,\t35,\t0.02,\t0.044,\t611],)\n",
    "\n",
    " \n",
    "E25=([58924.11,\t5,\t0.117,\t0.022,\t687],\n",
    "[58924.11,\t7,\t0.088,\t0.021,\t687],\n",
    "[58924.11,\t13.5,\t0.037,\t0.017,\t687],\n",
    "[58924.11,\t16.5,\t0.024,\t0.018,\t687],\n",
    "[58924.11,\t29.5,\t0.14,\t0.036,\t687],\n",
    "[58924.11,\t35,\t0.05,\t0.041,\t687],)\n",
    "\n",
    " \n",
    "E26=([58984.93,\t5,\t0.0606,\t0.016,\t747],\n",
    "[58984.93,\t7,\t0.062,\t0.015,\t747],\n",
    "[58984.93,\t13.5,\t0.0423,\t0.017,\t747],\n",
    "[58984.93,\t16.5,\t0.0532,\t0.018,\t747],\n",
    "[58984.93,\t29.5,\t0.0229,\t0.037,\t747],\n",
    "[58984.93,\t35,\t0.008,\t0.043,\t747])\n"
   ]
  },
  {
   "cell_type": "code",
   "execution_count": 6,
   "id": "f59382e7-07f1-46c4-90b1-218d543cf8a3",
   "metadata": {},
   "outputs": [],
   "source": [
    "df1 =  pd.DataFrame(E1, columns = [\"MJD\",\t\"Freq (GHz)\",\t\"Flux (mJy)\",\t\"eFlux (mJy)\",\t\"Days\"])\n",
    "\n",
    "df2 =  pd.DataFrame(E2, columns = [\"MJD\",\t\"Freq (GHz)\",\t\"Flux (mJy)\",\t\"eFlux (mJy)\",\t\"Days\"])\n",
    "\n",
    "df3 =  pd.DataFrame(E3, columns = [\"MJD\",\t\"Freq (GHz)\",\t\"Flux (mJy)\",\t\"eFlux (mJy)\",\t\"Days\"])\n",
    "\n",
    "df4 =  pd.DataFrame(E4, columns = [\"MJD\",\t\"Freq (GHz)\",\t\"Flux (mJy)\",\t\"eFlux (mJy)\",\t\"Days\"])\n",
    "\n",
    "df5 =  pd.DataFrame(E5, columns = [\"MJD\",\t\"Freq (GHz)\",\t\"Flux (mJy)\",\t\"eFlux (mJy)\",\t\"Days\"])\n",
    "\n",
    "df6 =  pd.DataFrame(E6, columns = [\"MJD\",\t\"Freq (GHz)\",\t\"Flux (mJy)\",\t\"eFlux (mJy)\",\t\"Days\"])\n",
    "\n",
    "df7 =  pd.DataFrame(E7, columns = [\"MJD\",\t\"Freq (GHz)\",\t\"Flux (mJy)\",\t\"eFlux (mJy)\",\t\"Days\"])\n",
    "\n",
    "df8 =  pd.DataFrame(E8, columns = [\"MJD\",\t\"Freq (GHz)\",\t\"Flux (mJy)\",\t\"eFlux (mJy)\",\t\"Days\"])\n",
    "\n",
    "df9 =  pd.DataFrame(E9, columns = [\"MJD\",\t\"Freq (GHz)\",\t\"Flux (mJy)\",\t\"eFlux (mJy)\",\t\"Days\"])\n",
    "\n",
    "df10 =  pd.DataFrame(E10, columns = [\"MJD\",\t\"Freq (GHz)\",\t\"Flux (mJy)\",\t\"eFlux (mJy)\",\t\"Days\"])\n",
    "\n",
    "df11 =  pd.DataFrame(E11, columns = [\"MJD\",\t\"Freq (GHz)\",\t\"Flux (mJy)\",\t\"eFlux (mJy)\",\t\"Days\"])\n",
    "\n",
    "df12 =  pd.DataFrame(E12, columns = [\"MJD\",\t\"Freq (GHz)\",\t\"Flux (mJy)\",\t\"eFlux (mJy)\",\t\"Days\"])\n",
    "\n",
    "df13 =  pd.DataFrame(E13, columns = [\"MJD\",\t\"Freq (GHz)\",\t\"Flux (mJy)\",\t\"eFlux (mJy)\",\t\"Days\"])\n",
    "\n",
    "df14 =  pd.DataFrame(E14, columns = [\"MJD\",\t\"Freq (GHz)\",\t\"Flux (mJy)\",\t\"eFlux (mJy)\",\t\"Days\"])\n",
    "\n",
    "df15 =  pd.DataFrame(E15, columns = [\"MJD\",\t\"Freq (GHz)\",\t\"Flux (mJy)\",\t\"eFlux (mJy)\",\t\"Days\"])\n",
    "\n",
    "df16 =  pd.DataFrame(E16, columns = [\"MJD\",\t\"Freq (GHz)\",\t\"Flux (mJy)\",\t\"eFlux (mJy)\",\t\"Days\"])\n",
    "\n",
    "df17 =  pd.DataFrame(E17, columns = [\"MJD\",\t\"Freq (GHz)\",\t\"Flux (mJy)\",\t\"eFlux (mJy)\",\t\"Days\"])\n",
    "\n",
    "df18 =  pd.DataFrame(E18, columns = [\"MJD\",\t\"Freq (GHz)\",\t\"Flux (mJy)\",\t\"eFlux (mJy)\",\t\"Days\"])\n",
    "\n",
    "df19 =  pd.DataFrame(E19, columns = [\"MJD\",\t\"Freq (GHz)\",\t\"Flux (mJy)\",\t\"eFlux (mJy)\",\t\"Days\"])\n",
    "\n",
    "df20 =  pd.DataFrame(E20, columns = [\"MJD\",\t\"Freq (GHz)\",\t\"Flux (mJy)\",\t\"eFlux (mJy)\",\t\"Days\"])\n",
    "\n",
    "df21 =  pd.DataFrame(E21, columns = [\"MJD\",\t\"Freq (GHz)\",\t\"Flux (mJy)\",\t\"eFlux (mJy)\",\t\"Days\"])\n",
    "\n",
    "df22 =  pd.DataFrame(E22, columns = [\"MJD\",\t\"Freq (GHz)\",\t\"Flux (mJy)\",\t\"eFlux (mJy)\",\t\"Days\"])\n",
    "\n",
    "df23 =  pd.DataFrame(E23, columns = [\"MJD\",\t\"Freq (GHz)\",\t\"Flux (mJy)\",\t\"eFlux (mJy)\",\t\"Days\"])\n",
    "\n",
    "df24 =  pd.DataFrame(E24, columns = [\"MJD\",\t\"Freq (GHz)\",\t\"Flux (mJy)\",\t\"eFlux (mJy)\",\t\"Days\"])\n",
    "\n",
    "df25 =  pd.DataFrame(E25, columns = [\"MJD\",\t\"Freq (GHz)\",\t\"Flux (mJy)\",\t\"eFlux (mJy)\",\t\"Days\"])\n",
    "\n",
    "df26 =  pd.DataFrame(E26, columns = [\"MJD\",\t\"Freq (GHz)\",\t\"Flux (mJy)\",\t\"eFlux (mJy)\",\t\"Days\"])\n"
   ]
  },
  {
   "cell_type": "code",
   "execution_count": 7,
   "id": "75d5d8c6-6526-407d-861c-816408936acb",
   "metadata": {},
   "outputs": [
    {
     "data": {
      "image/png": "[encoded data removed]",
      "text/plain": [
       "<Figure size 1200x1200 with 28 Axes>"
      ]
     },
     "metadata": {},
     "output_type": "display_data"
    }
   ],
   "source": [
    "#putting them all in a list\n",
    "dfs = [df1, df2, df3, df4, df5, df6, df7, df8, df9, df10,\n",
    "       df11, df12, df13, df14, df15, df16, df17, df18, df19, df20,\n",
    "       df21, df22, df23, df24, df25, df26]\n",
    "\n",
    "\n",
    "#the days by the list so they can all be defined\n",
    "annotations = ['Day 1','Day 9','Day 13','Day 18','Day 19','Day 23','Day 32','Day 41','Day 131',\n",
    "               'Day 142','Day 186','Day 223','Day 224','Day 256','Day 259','Day 282','Day 390','Day 391',\n",
    "               'Day 415','Day 419','Day 474','Day 475','Day 528','Day 611','Day 687','Day 747',]\n",
    "\n",
    "#making the figure (7,4) is the (rows, columns)\n",
    "fig, ax = plt.subplots(7, 4, sharex='all', sharey='all')\n",
    "fig.set_size_inches(12, 12)\n",
    "fig.subplots_adjust(hspace=0, wspace=0)\n",
    "\n",
    "#loop for each of the datasets\n",
    "for idx, (df, label) in enumerate(zip(dfs, annotations)):\n",
    "    row, col = divmod(idx, 4)\n",
    "    mask = df['Flux (mJy)'] > 3 * df['eFlux (mJy)'] #don't show the non-detections\n",
    "    if mask.any():\n",
    "        ax[row, col].errorbar(df['Freq (GHz)'][mask], df['Flux (mJy)'][mask], yerr=df['eFlux (mJy)'][mask], fmt='^')\n",
    "        ax[row, col].set_xscale('log')\n",
    "        ax[row, col].set_yscale('log')\n",
    "        ax[row, col].set_xticks([1, 5, 10, 50], labels=['1', '5', '10', '50'])\n",
    "        ax[row, col].set_yticks([1, 5, 10, 20, 50, 100], labels=['1', '5', '10', '20', '50', '100'])\n",
    "        ax[row, col].annotate(label, xy=(50, 85), xycoords='axes points', size=9, ha='right', va='top', bbox=dict(boxstyle='round', fc='w', ec=\"w\"))\n",
    "        ax[row, col].tick_params(axis='both', which='both', direction='in', top=True, right=True)\n",
    "\n",
    "fig.supxlabel(\"Frequency (GHz)\")\n",
    "fig.supylabel(\"Flux Density (mJy)\")\n",
    "plt.show();"
   ]
  },
  {
   "cell_type": "markdown",
   "id": "00ca2028-adda-4e93-b943-77836085e7f7",
   "metadata": {},
   "source": [
    "### Now to sort it out"
   ]
  },
  {
   "cell_type": "code",
   "execution_count": 8,
   "id": "5c984469-ef27-4a1d-b469-492a06fe9e31",
   "metadata": {},
   "outputs": [
    {
     "data": {
      "image/png": "[encoded data removed]",
      "text/plain": [
       "<Figure size 1200x1200 with 24 Axes>"
      ]
     },
     "metadata": {},
     "output_type": "display_data"
    }
   ],
   "source": [
    "dfs = [ df2, df3, df4, df5, df6, df7, df8, df9, df10,\n",
    "       df11, df12, df13, df14, df15, df16, df17, df18, df19, df20, df22, df24, df25, df26]\n",
    "\n",
    "\n",
    "#the days by the list so they can all be defined\n",
    "annotations = ['Day 9','Day 13','Day 18','Day 19','Day 23','Day 32','Day 41','Day 131',\n",
    "               'Day 142','Day 186','Day 223','Day 224','Day 256','Day 259','Day 282','Day 390','Day 391',\n",
    "               'Day 415','Day 419','Day 475','Day 611','Day 687','Day 747',]\n",
    "\n",
    "#making the figure (7,4) is the (rows, columns)\n",
    "fig, ax = plt.subplots(6, 4, sharex='all', sharey='all')\n",
    "fig.set_size_inches(12, 12)\n",
    "fig.subplots_adjust(hspace=0, wspace=0)\n",
    "\n",
    "#loop for each of the datasets\n",
    "for idx, (df, label) in enumerate(zip(dfs, annotations)):\n",
    "    row, col = divmod(idx, 4)\n",
    "    mask = df['Flux (mJy)'] > 3 * df['eFlux (mJy)'] #don't show the non-detections\n",
    "    if mask.any():\n",
    "        ax[row, col].errorbar(df['Freq (GHz)'][mask], df['Flux (mJy)'][mask], yerr=df['eFlux (mJy)'][mask], fmt='^')\n",
    "        ax[row, col].set_xscale('log')\n",
    "        ax[row, col].set_yscale('log')\n",
    "        ax[row, col].set_xticks([1, 5, 10, 50], labels=['1', '5', '10', '50'])\n",
    "        ax[row, col].set_yticks([.1, 1, 5, 10, 20, 50], labels=['0.1','1.0', '5.0', '10.0', '20.0', '50.0'])\n",
    "        ax[row, col].annotate(label, xy=(50, 85), xycoords='axes points', size=9, ha='right', va='top', bbox=dict(boxstyle='round', fc='w', ec=\"w\"))\n",
    "        ax[row, col].tick_params(axis='both', which='both', direction='in', top=True, right=True)\n",
    "\n",
    "fig.supxlabel(\"Frequency (GHz)\")\n",
    "fig.supylabel(\"Flux Density (mJy)\")\n",
    "plt.show();"
   ]
  },
  {
   "cell_type": "code",
   "execution_count": 9,
   "id": "92770e03-51c9-42eb-bdaa-d8205c5392e1",
   "metadata": {},
   "outputs": [],
   "source": [
    "def error(err, freq, flux):\n",
    "    yerr = []\n",
    "    for i in range(len(freq)):\n",
    "        if freq[i] < 10:\n",
    "            pl = np.sqrt(err[i]**2 + (flux[i]*0.05)**2)\n",
    "            yerr.append(pl)\n",
    "        else:\n",
    "            pl =np.sqrt(err[i]**2 + (flux[i]*0.1)**2)\n",
    "            yerr.append(pl)\n",
    "\n",
    "    return(yerr)\n"
   ]
  },
  {
   "cell_type": "markdown",
   "id": "caafbbf4-418c-42fe-a456-bdee1ab26f35",
   "metadata": {},
   "source": [
    "## Day 9 (df2)"
   ]
  },
  {
   "cell_type": "code",
   "execution_count": 10,
   "id": "043aebee-792a-4be2-8501-984152c57a99",
   "metadata": {},
   "outputs": [],
   "source": [
    "#(work for anything with 3+ points)\n",
    "mask = df2['Flux (mJy)'] > 3 * df2['eFlux (mJy)']  # apply detection threshold\n",
    "\n",
    "x2 = df2['Freq (GHz)'][mask].values.tolist()\n",
    "y2 = df2['Flux (mJy)'][mask].values.tolist()\n",
    "yerr2 = df2['eFlux (mJy)'][mask].values.tolist()\n"
   ]
  },
  {
   "cell_type": "code",
   "execution_count": 11,
   "id": "89d64cee-7df2-42de-862d-8fa1dcd6fbf9",
   "metadata": {},
   "outputs": [],
   "source": [
    "yerr2 = error(yerr2, x2, y2)"
   ]
  },
  {
   "cell_type": "code",
   "execution_count": 12,
   "id": "82639513-7692-4d7e-903c-148b449fb50f",
   "metadata": {},
   "outputs": [
    {
     "data": {
      "text/plain": [
       "<PowerLaw1D(amplitude=0.25156341, x_0=5.51726168, alpha=-0.50742601)>"
      ]
     },
     "execution_count": 12,
     "metadata": {},
     "output_type": "execute_result"
    }
   ],
   "source": [
    "PL2 =  PowerLaw1D(amplitude = y2[0], x_0= x2[0], alpha= -.5) \n",
    "\n",
    "#Initialize fitters\n",
    "#setting calc_uncertainties=True to output errors on measurement \n",
    "\n",
    "fit2 = fitting.LevMarLSQFitter(calc_uncertainties=True)\n",
    "\n",
    "#Fit the data w/o weights\n",
    "fit_model2 = fit2(PL2, x2, y2)\n",
    "\n",
    "\n",
    "#weight is 1/error^2\n",
    "y_weight2 = 1/ (np.power(yerr2, 2))  \n",
    "\n",
    "# fit the data using the uncertainties as weights\n",
    "fit_model_weights2 = fit2(PL2, x2, y2, weights=y_weight2)\n",
    "\n",
    "fit_model_weights2\n"
   ]
  },
  {
   "cell_type": "code",
   "execution_count": 13,
   "id": "75acd8ed-36c1-467c-b9d5-38cc19912d2e",
   "metadata": {},
   "outputs": [
    {
     "data": {
      "text/plain": [
       "{'nfev': 11,\n",
       " 'fvec': array([ 25.1221768 , -42.33758679, -17.50984675,  63.73181718,\n",
       "        -38.12481369, -30.5143415 ]),\n",
       " 'fjac': array([[-4.62583590e+03,  1.71289480e+02,  1.06961798e+02,\n",
       "          2.48525293e-01,  5.08801567e-02,  6.21989735e-02],\n",
       "        [ 1.71289480e+02,  4.02379421e+02,  1.50711631e-13,\n",
       "          7.54670697e-01,  2.40052124e-01,  3.24225346e-01],\n",
       "        [ 1.06961798e+02,  1.25342964e-14, -1.05779480e-14,\n",
       "          7.36405441e-01,  3.63943759e-01,  4.37035932e-01]]),\n",
       " 'ipvt': array([1, 3, 2], dtype=int32),\n",
       " 'qtf': array([-4.74265908e-03, -1.29116887e-04, -4.43506783e+01]),\n",
       " 'message': 'Both actual and predicted relative reductions in the sum of squares\\n  are at most 0.000000',\n",
       " 'ierr': 1,\n",
       " 'param_jac': None,\n",
       " 'param_cov': array([[ 4.77830747e+24,  2.06650100e+26, -6.43724171e+09],\n",
       "        [ 2.06650100e+26,  8.93711087e+27, -2.78394944e+11],\n",
       "        [-6.43724171e+09, -2.78394944e+11,  1.48484266e-05]]),\n",
       " 'njev': 4,\n",
       " 'cov_x': array([[ 4.77830747e+24,  2.06650100e+26, -6.43724171e+09],\n",
       "        [ 2.06650100e+26,  8.93711087e+27, -2.78394944e+11],\n",
       "        [-6.43724171e+09, -2.78394944e+11,  1.48484266e-05]])}"
      ]
     },
     "execution_count": 13,
     "metadata": {},
     "output_type": "execute_result"
    }
   ],
   "source": [
    "fit2.fit_info"
   ]
  },
  {
   "cell_type": "code",
   "execution_count": 14,
   "id": "42056ff9-7c24-4705-b5b8-469268f27d89",
   "metadata": {},
   "outputs": [
    {
     "name": "stdout",
     "output_type": "stream",
     "text": [
      "The error/standard deviation is 0.1485318779078096\n"
     ]
    }
   ],
   "source": [
    "#taking fvec\n",
    "fvec2 = np.array([ 25.1221768 , -42.33758679, -17.50984675,  63.73181718,\n",
    "        -38.12481369, -30.5143415 ])\n",
    "var2 = np.var(fvec2)\n",
    "\n",
    "#taking cov_x\n",
    "cov_x2 = np.array([[ 4.77830747e+24,  2.06650100e+26, -6.43724171e+09],\n",
    "        [ 2.06650100e+26,  8.93711087e+27, -2.78394944e+11],\n",
    "        [-6.43724171e+09, -2.78394944e+11,  1.48484266e-05]])\n",
    "\n",
    "def stand(cov):\n",
    "    diag = np.diagonal(cov)\n",
    "    sd1 = np.sqrt(diag[0])\n",
    "    sd2 = np.sqrt(diag[1])\n",
    "    sd3 = np.sqrt(diag[2])\n",
    "    return(sd1,sd2,sd3)\n",
    "\n",
    "diag2 = stand(cov_x2*var2) \n",
    "\n",
    "#The last diagonal element corresponds to alpha\n",
    "#So here we are calculating the standard deviation on the slope\n",
    "\n",
    "#print(diag)  #prints standard deviations of all three variances\n",
    "\n",
    "print('The error/standard deviation is', diag2[2]) #Just showing the standard deviation on the slope\n"
   ]
  },
  {
   "cell_type": "code",
   "execution_count": 15,
   "id": "8baed83c-ef30-4d75-b57b-1760b7395d5e",
   "metadata": {},
   "outputs": [
    {
     "data": {
      "image/png": "[encoded data removed]",
      "text/plain": [
       "<Figure size 640x480 with 1 Axes>"
      ]
     },
     "metadata": {},
     "output_type": "display_data"
    }
   ],
   "source": [
    "#plotting to check\n",
    "fig,ax = plt.subplots()\n",
    "mask = df2['Flux (mJy)'] > 3 * df2['eFlux (mJy)']  # apply detection threshold\n",
    "if mask.any():  # proceed only if at least one detection\n",
    "    ax.errorbar(df2['Freq (GHz)'][mask], df2['Flux (mJy)'][mask], yerr=yerr2, fmt='^')\n",
    "    ax.set_xscale('log')\n",
    "    ax.set_xticks([1, 5, 10, 50], labels=['1', '5', '10', '50'])\n",
    "    ax.set_yscale('log')\n",
    "    ax.set_yticks([1, 5, 10, 20, 50], labels=['1', '5', '10', '20', '50'])\n",
    "    ax.annotate('Day 9', xy=(90, 120), xycoords='axes points', size=9, ha='right', va='top', bbox=dict(boxstyle='round', fc='w', ec=\"w\"))\n",
    "    ax.tick_params(axis='both', which='both', direction='in', top=True, right=True)\n",
    "    ax.plot(df2['Freq (GHz)'][mask], fit_model_weights2(df2['Freq (GHz)'][mask]), 'r--')\n",
    "    ax.annotate('${\\u03B1 = 0.507 \\\\pm 0.149}$', xy=(90, 100), xycoords='axes points', size=9, ha='right', va='top', bbox=dict(boxstyle='round', fc='w', ec=\"w\"))\n",
    "\n",
    "plt.show();\n"
   ]
  },
  {
   "cell_type": "markdown",
   "id": "ee6fdd9d-bbb4-499c-9ed9-ece83154c119",
   "metadata": {},
   "source": [
    "## Day 13 (df3)"
   ]
  },
  {
   "cell_type": "code",
   "execution_count": 16,
   "id": "82cd5903-ce75-48bb-addf-cff89aeebdf3",
   "metadata": {},
   "outputs": [],
   "source": [
    "#(work for anything with 3+ points)\n",
    "mask = df3['Flux (mJy)'] > 3 * df3['eFlux (mJy)']  # apply detection threshold\n",
    "\n",
    "x3 = df3['Freq (GHz)'][mask].values.tolist()\n",
    "y3 = df3['Flux (mJy)'][mask].values.tolist()\n",
    "yerr3 = df3['eFlux (mJy)'][mask].values.tolist()\n"
   ]
  },
  {
   "cell_type": "code",
   "execution_count": 17,
   "id": "733fdf02-17bd-4574-bd4f-6ea265df65b9",
   "metadata": {},
   "outputs": [],
   "source": [
    "yerr3 = error(yerr3, x3, y3)"
   ]
  },
  {
   "cell_type": "code",
   "execution_count": 18,
   "id": "70351a11-1c3b-4685-b756-aacda2e24f53",
   "metadata": {},
   "outputs": [
    {
     "data": {
      "text/plain": [
       "<PowerLaw1D(amplitude=14.23161585, x_0=83.76845146, alpha=-1.18693893)>"
      ]
     },
     "execution_count": 18,
     "metadata": {},
     "output_type": "execute_result"
    }
   ],
   "source": [
    "PL3 =  PowerLaw1D(amplitude = y3[0], x_0= x3[0], alpha= -1.5) \n",
    "\n",
    "#Initialize fitters\n",
    "#setting calc_uncertainties=True to output errors on measurement \n",
    "\n",
    "fit3 = fitting.LevMarLSQFitter(calc_uncertainties=True)\n",
    "\n",
    "#Fit the data w/o weights\n",
    "fit_model3 = fit3(PL3, x3, y3)\n",
    "\n",
    "\n",
    "#weight is 1/error^2\n",
    "y_weight3 = 1/ (np.power(yerr3, 2))  \n",
    "\n",
    "# fit the data using the uncertainties as weights\n",
    "fit_model_weights3 = fit3(PL3, x3, y3, weights=y_weight3)\n",
    "\n",
    "fit_model_weights3\n"
   ]
  },
  {
   "cell_type": "code",
   "execution_count": 19,
   "id": "32009fd4-47bc-4f15-b7a3-e4e3fc4f66b8",
   "metadata": {},
   "outputs": [
    {
     "data": {
      "text/plain": [
       "{'nfev': 15,\n",
       " 'fvec': array([-3.70765675,  1.932965  , -2.00029288]),\n",
       " 'fjac': array([[-2.12724318e+03, -5.48005186e+01,  1.10506232e+01],\n",
       "        [-5.48005186e+01, -4.00941616e+00,  8.08505982e-01],\n",
       "        [ 1.10506232e+01,  8.08505982e-01,  2.22044605e-15]]),\n",
       " 'ipvt': array([3, 1, 2], dtype=int32),\n",
       " 'qtf': array([4.42849928e-05, 3.62850622e-06, 4.63510991e+00]),\n",
       " 'message': 'Both actual and predicted relative reductions in the sum of squares\\n  are at most 0.000000',\n",
       " 'ierr': 1,\n",
       " 'param_jac': None,\n",
       " 'param_cov': None,\n",
       " 'njev': 8,\n",
       " 'cov_x': array([[8.24752710e+27, 4.08998439e+28, 2.55353737e+10],\n",
       "        [4.08998439e+28, 2.02824096e+29, 1.26631023e+11],\n",
       "        [2.55353737e+10, 1.26631023e+11, 4.15831929e-05]])}"
      ]
     },
     "execution_count": 19,
     "metadata": {},
     "output_type": "execute_result"
    }
   ],
   "source": [
    "fit3.fit_info"
   ]
  },
  {
   "cell_type": "code",
   "execution_count": 20,
   "id": "022b07e1-43d7-425c-8bfe-82740ba3644a",
   "metadata": {},
   "outputs": [
    {
     "name": "stdout",
     "output_type": "stream",
     "text": [
      "The error/standard deviation is 0.015229973039123074\n"
     ]
    }
   ],
   "source": [
    "#taking fvec\n",
    "fvec3 = np.array([-3.70765675,  1.932965  , -2.00029288])\n",
    "var3 = np.var(fvec3)\n",
    "\n",
    "#taking cov_x\n",
    "cov_x3 = np.array([[8.24752710e+27, 4.08998439e+28, 2.55353737e+10],\n",
    "        [4.08998439e+28, 2.02824096e+29, 1.26631023e+11],\n",
    "        [2.55353737e+10, 1.26631023e+11, 4.15831929e-05]])\n",
    "\n",
    "def stand(cov):\n",
    "    diag = np.diagonal(cov)\n",
    "    sd1 = np.sqrt(diag[0])\n",
    "    sd2 = np.sqrt(diag[1])\n",
    "    sd3 = np.sqrt(diag[2])\n",
    "    return(sd1,sd2,sd3)\n",
    "\n",
    "diag3 = stand(cov_x3*var3) \n",
    "\n",
    "#The last diagonal element corresponds to alpha\n",
    "#So here we are calculating the standard deviation on the slope\n",
    "\n",
    "#print(diag)  #prints standard deviations of all three variances\n",
    "\n",
    "print('The error/standard deviation is', diag3[2]) #Just showing the standard deviation on the slope\n",
    "\n"
   ]
  },
  {
   "cell_type": "code",
   "execution_count": 21,
   "id": "d3d8acbb-bdcd-4ffe-9e26-94145adaed74",
   "metadata": {},
   "outputs": [
    {
     "data": {
      "image/png": "[encoded data removed]",
      "text/plain": [
       "<Figure size 640x480 with 1 Axes>"
      ]
     },
     "metadata": {},
     "output_type": "display_data"
    }
   ],
   "source": [
    "#plotting to check\n",
    "fig,ax = plt.subplots()\n",
    "mask = df3['Flux (mJy)'] > 3 * df3['eFlux (mJy)']  # apply detection threshold\n",
    "if mask.any():  # proceed only if at least one detection\n",
    "    ax.errorbar(df3['Freq (GHz)'][mask], df3['Flux (mJy)'][mask], yerr=yerr3, fmt='^')\n",
    "    ax.set_xscale('log')\n",
    "    ax.set_xticks([1, 5, 10, 50], labels=['1', '5', '10', '50'])\n",
    "    ax.set_yscale('log')\n",
    "    ax.set_yticks([1, 5, 10, 20, 50], labels=['1', '5', '10', '20', '50'])\n",
    "    ax.annotate('Day 13', xy=(90, 120), xycoords='axes points', size=9, ha='right', va='top', bbox=dict(boxstyle='round', fc='w', ec=\"w\"))\n",
    "    ax.tick_params(axis='both', which='both', direction='in', top=True, right=True)\n",
    "    ax.plot(df3['Freq (GHz)'][mask], fit_model_weights3(df3['Freq (GHz)'][mask]), 'r--')\n",
    "    ax.annotate('${\\u03B1 = 1.187 \\\\pm 0.015}$', xy=(90, 100), xycoords='axes points', size=9, ha='right', va='top', bbox=dict(boxstyle='round', fc='w', ec=\"w\"))\n",
    "\n",
    "plt.show();\n"
   ]
  },
  {
   "cell_type": "markdown",
   "id": "bc1f277f-4a2c-4d04-b0c4-b5c5ad9cf251",
   "metadata": {},
   "source": [
    "## Day 18 (df4)"
   ]
  },
  {
   "cell_type": "code",
   "execution_count": 22,
   "id": "8da99d9c-c089-456d-ac65-d55db5a745b1",
   "metadata": {},
   "outputs": [],
   "source": [
    "#(work for anything with 3+ points)\n",
    "mask = df4['Flux (mJy)'] > 3 * df4['eFlux (mJy)']  # apply detection threshold\n",
    "\n",
    "x4 = df4['Freq (GHz)'][mask].values.tolist()\n",
    "y4 = df4['Flux (mJy)'][mask].values.tolist()\n",
    "yerr4 = df4['eFlux (mJy)'][mask].values.tolist()\n"
   ]
  },
  {
   "cell_type": "code",
   "execution_count": 23,
   "id": "88a185cd-16a8-4087-ac58-dfcab9c3ac0a",
   "metadata": {},
   "outputs": [],
   "source": [
    "yerr4 = error(yerr4, x4, y4)"
   ]
  },
  {
   "cell_type": "code",
   "execution_count": 24,
   "id": "6005c915-0232-4003-b4ef-7a7c872f9f41",
   "metadata": {},
   "outputs": [
    {
     "data": {
      "text/plain": [
       "<PowerLaw1D(amplitude=7.26357518, x_0=9.07381568, alpha=-0.32476157)>"
      ]
     },
     "execution_count": 24,
     "metadata": {},
     "output_type": "execute_result"
    }
   ],
   "source": [
    "PL4 =  PowerLaw1D(amplitude = y4[0], x_0= x4[0], alpha= -2) \n",
    "\n",
    "#Initialize fitters\n",
    "#setting calc_uncertainties=True to output errors on measurement \n",
    "\n",
    "fit4 = fitting.LevMarLSQFitter(calc_uncertainties=True)\n",
    "\n",
    "#Fit the data w/o weights\n",
    "fit_model4 = fit4(PL4, x4, y4)\n",
    "\n",
    "\n",
    "#weight is 1/error^2\n",
    "y_weight4 = 1/ (np.power(yerr4, 2))  \n",
    "\n",
    "# fit the data using the uncertainties as weights\n",
    "fit_model_weights4 = fit4(PL4, x4, y4, weights=y_weight4)\n",
    "\n",
    "fit_model_weights4\n"
   ]
  },
  {
   "cell_type": "code",
   "execution_count": 25,
   "id": "898d207d-4350-40e2-8663-5f8adcd2b1d5",
   "metadata": {},
   "outputs": [
    {
     "data": {
      "text/plain": [
       "{'nfev': 15,\n",
       " 'fvec': array([ 1.62693872,  0.72098789, -0.85307784, -1.02474203, -0.37245297]),\n",
       " 'fjac': array([[ 1.65071916e+01, -7.22794500e-01,  1.87905701e-01,\n",
       "          5.45251546e-01, -2.51793259e-01],\n",
       "        [-7.22794500e-01, -8.16461780e+00,  2.12256490e+00,\n",
       "         -2.51319332e-02,  9.94796187e-01],\n",
       "        [ 1.87905701e-01,  2.12256490e+00,  4.58715471e-16,\n",
       "          1.21014343e-01, -9.68114742e-01]]),\n",
       " 'ipvt': array([3, 1, 2], dtype=int32),\n",
       " 'qtf': array([-1.84322616e-05, -4.69204693e-05,  3.10160276e-01]),\n",
       " 'message': 'Both actual and predicted relative reductions in the sum of squares\\n  are at most 0.000000',\n",
       " 'ierr': 1,\n",
       " 'param_jac': None,\n",
       " 'param_cov': array([[3.21191070e+29, 1.23548746e+30, 1.86317112e+13],\n",
       "        [1.23548746e+30, 4.75240259e+30, 7.16683863e+13],\n",
       "        [1.86317112e+13, 7.16683863e+13, 4.77944806e-03]]),\n",
       " 'njev': 7,\n",
       " 'cov_x': array([[3.21191070e+29, 1.23548746e+30, 1.86317112e+13],\n",
       "        [1.23548746e+30, 4.75240259e+30, 7.16683863e+13],\n",
       "        [1.86317112e+13, 7.16683863e+13, 4.77944806e-03]])}"
      ]
     },
     "execution_count": 25,
     "metadata": {},
     "output_type": "execute_result"
    }
   ],
   "source": [
    "fit4.fit_info"
   ]
  },
  {
   "cell_type": "code",
   "execution_count": 26,
   "id": "ba233c36-f4b7-49e3-86a3-694c9aad593e",
   "metadata": {},
   "outputs": [
    {
     "name": "stdout",
     "output_type": "stream",
     "text": [
      "The error/standard deviation is 0.06969406270703984\n"
     ]
    }
   ],
   "source": [
    "#taking fvec\n",
    "fvec4 = np.array([ 1.62693872,  0.72098789, -0.85307784, -1.02474203, -0.37245297])\n",
    "var4 = np.var(fvec4)\n",
    "\n",
    "#taking cov_x\n",
    "cov_x4 = np.array([[3.21191070e+29, 1.23548746e+30, 1.86317112e+13],\n",
    "        [1.23548746e+30, 4.75240259e+30, 7.16683863e+13],\n",
    "        [1.86317112e+13, 7.16683863e+13, 4.77944806e-03]])\n",
    "\n",
    "def stand(cov):\n",
    "    diag = np.diagonal(cov)\n",
    "    sd1 = np.sqrt(diag[0])\n",
    "    sd2 = np.sqrt(diag[1])\n",
    "    sd3 = np.sqrt(diag[2])\n",
    "    return(sd1,sd2,sd3)\n",
    "\n",
    "diag4 = stand(cov_x4*var4) \n",
    "\n",
    "#The last diagonal element corresponds to alpha\n",
    "#So here we are calculating the standard deviation on the slope\n",
    "\n",
    "#print(diag)  #prints standard deviations of all three variances\n",
    "\n",
    "print('The error/standard deviation is', diag4[2]) #Just showing the standard deviation on the slope\n",
    "\n"
   ]
  },
  {
   "cell_type": "code",
   "execution_count": 27,
   "id": "0cd32627-475d-442f-a3d9-aafdf1e968ef",
   "metadata": {},
   "outputs": [
    {
     "data": {
      "image/png": "[encoded data removed]",
      "text/plain": [
       "<Figure size 640x480 with 1 Axes>"
      ]
     },
     "metadata": {},
     "output_type": "display_data"
    }
   ],
   "source": [
    "#plotting to check\n",
    "fig,ax = plt.subplots()\n",
    "mask = df4['Flux (mJy)'] > 3 * df4['eFlux (mJy)']  # apply detection threshold\n",
    "if mask.any():  # proceed only if at least one detection\n",
    "    ax.errorbar(df4['Freq (GHz)'][mask], df4['Flux (mJy)'][mask], yerr=yerr4, fmt='^')\n",
    "    ax.set_xscale('log')\n",
    "    ax.set_xticks([1, 5, 10, 50], labels=['1', '5', '10', '50'])\n",
    "    ax.set_yscale('log')\n",
    "    ax.set_yticks([1, 5, 10, 20, 50], labels=['1', '5', '10', '20', '50'])\n",
    "    ax.annotate('Day 18', xy=(90, 120), xycoords='axes points', size=9, ha='right', va='top', bbox=dict(boxstyle='round', fc='w', ec=\"w\"))\n",
    "    ax.tick_params(axis='both', which='both', direction='in', top=True, right=True)\n",
    "    ax.plot(df4['Freq (GHz)'][mask], fit_model_weights4(df4['Freq (GHz)'][mask]), 'r--')\n",
    "    ax.annotate('${\\u03B1 = 0.325 \\\\pm 0.070}$', xy=(90, 100), xycoords='axes points', size=9, ha='right', va='top', bbox=dict(boxstyle='round', fc='w', ec=\"w\"))\n",
    "\n",
    "plt.show();\n"
   ]
  },
  {
   "cell_type": "markdown",
   "id": "48e9ffcd-f872-4df4-8ef8-aaa56cdb689d",
   "metadata": {},
   "source": [
    "## Day 19 (df5)"
   ]
  },
  {
   "cell_type": "code",
   "execution_count": 28,
   "id": "ff6290c7-164b-46d8-af3c-9b982f33e580",
   "metadata": {},
   "outputs": [],
   "source": [
    "#(work for anything with 3+ points)\n",
    "mask = df5['Flux (mJy)'] > 3 * df5['eFlux (mJy)']  # apply detection threshold\n",
    "\n",
    "x5 = df5['Freq (GHz)'][mask].values.tolist()\n",
    "y5 = df5['Flux (mJy)'][mask].values.tolist()\n",
    "yerr5 = df5['eFlux (mJy)'][mask].values.tolist()\n"
   ]
  },
  {
   "cell_type": "code",
   "execution_count": 29,
   "id": "4c073e5d-cc87-448d-9259-03aad3c6bbfa",
   "metadata": {},
   "outputs": [],
   "source": [
    "yerr5 = error(yerr5, x5, y5)"
   ]
  },
  {
   "cell_type": "code",
   "execution_count": 30,
   "id": "83ce5b0d-5bfb-4715-b26e-04190dc42a3a",
   "metadata": {},
   "outputs": [
    {
     "data": {
      "text/plain": [
       "<PowerLaw1D(amplitude=0.68800312, x_0=1.32913326, alpha=-1.13129333)>"
      ]
     },
     "execution_count": 30,
     "metadata": {},
     "output_type": "execute_result"
    }
   ],
   "source": [
    "PL5 =  PowerLaw1D(amplitude = y5[0], x_0= x5[0], alpha= .25) \n",
    "\n",
    "#Initialize fitters\n",
    "#setting calc_uncertainties=True to output errors on measurement \n",
    "\n",
    "fit5 = fitting.LevMarLSQFitter(calc_uncertainties=True)\n",
    "\n",
    "#Fit the data w/o weights\n",
    "fit_model5 = fit5(PL5, x5, y5)\n",
    "\n",
    "\n",
    "#weight is 1/error^2\n",
    "y_weight5 = 1/ (np.power(yerr5, 2))  \n",
    "\n",
    "# fit the data using the uncertainties as weights\n",
    "fit_model_weights5 = fit5(PL5, x5, y5, weights=y_weight5)\n",
    "\n",
    "fit_model_weights5\n"
   ]
  },
  {
   "cell_type": "code",
   "execution_count": 31,
   "id": "2a1e8020-27a4-49d0-a1dd-ecfbd0c15d7c",
   "metadata": {},
   "outputs": [
    {
     "data": {
      "text/plain": [
       "{'nfev': 18,\n",
       " 'fvec': array([ 5.23410792, -3.68307904, -5.61289475,  6.83028046]),\n",
       " 'fjac': array([[-4.63624415e+02,  1.51399934e+02,  2.71495981e+02,\n",
       "          3.16782119e-01],\n",
       "        [ 1.51399934e+02, -1.82864401e+02, -8.80174046e-15,\n",
       "         -7.51802754e-01],\n",
       "        [ 2.71495981e+02,  1.06837597e-14,  9.37046799e-15,\n",
       "         -6.92122459e-01]]),\n",
       " 'ipvt': array([1, 3, 2], dtype=int32),\n",
       " 'qtf': array([1.13752035e-04, 1.36443301e-09, 8.67167932e+00]),\n",
       " 'message': 'Both actual and predicted relative reductions in the sum of squares\\n  are at most 0.000000',\n",
       " 'ierr': 1,\n",
       " 'param_jac': None,\n",
       " 'param_cov': array([[3.90545512e+27, 6.66921233e+27, 3.89645341e+11],\n",
       "        [6.66921233e+27, 1.13887861e+28, 6.65384042e+11],\n",
       "        [3.89645341e+11, 6.65384042e+11, 6.87795770e-05]]),\n",
       " 'njev': 10,\n",
       " 'cov_x': array([[3.90545512e+27, 6.66921233e+27, 3.89645341e+11],\n",
       "        [6.66921233e+27, 1.13887861e+28, 6.65384042e+11],\n",
       "        [3.89645341e+11, 6.65384042e+11, 6.87795770e-05]])}"
      ]
     },
     "execution_count": 31,
     "metadata": {},
     "output_type": "execute_result"
    }
   ],
   "source": [
    "fit5.fit_info"
   ]
  },
  {
   "cell_type": "code",
   "execution_count": 32,
   "id": "e2206ad4-6d6b-4d92-a03e-36468a7889f8",
   "metadata": {},
   "outputs": [
    {
     "name": "stdout",
     "output_type": "stream",
     "text": [
      "The error/standard deviation is 0.044891872552450855\n"
     ]
    }
   ],
   "source": [
    "#taking fvec\n",
    "fvec5 = np.array([ 5.23410792, -3.68307904, -5.61289475,  6.83028046])\n",
    "var5 = np.var(fvec5)\n",
    "\n",
    "#taking cov_x\n",
    "cov_x5 = np.array([[3.90545512e+27, 6.66921233e+27, 3.89645341e+11],\n",
    "        [6.66921233e+27, 1.13887861e+28, 6.65384042e+11],\n",
    "        [3.89645341e+11, 6.65384042e+11, 6.87795770e-05]])\n",
    "\n",
    "def stand(cov):\n",
    "    diag = np.diagonal(cov)\n",
    "    sd1 = np.sqrt(diag[0])\n",
    "    sd2 = np.sqrt(diag[1])\n",
    "    sd3 = np.sqrt(diag[2])\n",
    "    return(sd1,sd2,sd3)\n",
    "\n",
    "diag5 = stand(cov_x5*var5) \n",
    "\n",
    "#The last diagonal element corresponds to alpha\n",
    "#So here we are calculating the standard deviation on the slope\n",
    "\n",
    "#print(diag)  #prints standard deviations of all three variances\n",
    "\n",
    "print('The error/standard deviation is', diag5[2]) #Just showing the standard deviation on the slope\n",
    "\n"
   ]
  },
  {
   "cell_type": "code",
   "execution_count": 33,
   "id": "e8156514-5b55-4baa-9f56-df747eb69cec",
   "metadata": {},
   "outputs": [
    {
     "data": {
      "image/png": "[encoded data removed]",
      "text/plain": [
       "<Figure size 640x480 with 1 Axes>"
      ]
     },
     "metadata": {},
     "output_type": "display_data"
    }
   ],
   "source": [
    "#plotting to check\n",
    "fig,ax = plt.subplots()\n",
    "mask = df5['Flux (mJy)'] > 3 * df5['eFlux (mJy)']  # apply detection threshold\n",
    "if mask.any():  # proceed only if at least one detection\n",
    "    ax.errorbar(df5['Freq (GHz)'][mask], df5['Flux (mJy)'][mask], yerr=yerr5, fmt='^')\n",
    "    ax.set_xscale('log')\n",
    "    ax.set_xticks([1, 5, 10, 50], labels=['1', '5', '10', '50'])\n",
    "    ax.set_yscale('log')\n",
    "    ax.set_yticks([1, 5, 10, 20, 50], labels=['1', '5', '10', '20', '50'])\n",
    "    ax.annotate('Day 19', xy=(90, 120), xycoords='axes points', size=9, ha='right', va='top', bbox=dict(boxstyle='round', fc='w', ec=\"w\"))\n",
    "    ax.tick_params(axis='both', which='both', direction='in', top=True, right=True)\n",
    "    ax.plot(df5['Freq (GHz)'][mask], fit_model_weights5(df5['Freq (GHz)'][mask]), 'r--')\n",
    "    ax.annotate('${\\u03B1 = 1.131 \\\\pm 0.045}$', xy=(90, 100), xycoords='axes points', size=9, ha='right', va='top', bbox=dict(boxstyle='round', fc='w', ec=\"w\"))\n",
    "\n",
    "plt.show();\n"
   ]
  },
  {
   "cell_type": "markdown",
   "id": "8173f49b-6e02-4061-8fb0-6463590bef91",
   "metadata": {},
   "source": [
    "## Day 23 (df6)"
   ]
  },
  {
   "cell_type": "code",
   "execution_count": 34,
   "id": "006de60a-397a-4c1e-883e-3cb529752bd9",
   "metadata": {},
   "outputs": [],
   "source": [
    "#(work for anything with 3+ points)\n",
    "mask = df6['Flux (mJy)'] > 3 * df6['eFlux (mJy)']  # apply detection threshold\n",
    "\n",
    "x6 = df6['Freq (GHz)'][mask].values.tolist()\n",
    "y6 = df6['Flux (mJy)'][mask].values.tolist()\n",
    "yerr6 = df6['eFlux (mJy)'][mask].values.tolist()\n"
   ]
  },
  {
   "cell_type": "code",
   "execution_count": 35,
   "id": "e2f2d237-6827-474b-9515-a0be196da8c3",
   "metadata": {},
   "outputs": [],
   "source": [
    "yerr6 = error(yerr6, x6,y6)"
   ]
  },
  {
   "cell_type": "code",
   "execution_count": 36,
   "id": "adabde5e-9800-4dbc-a737-81ddcf613446",
   "metadata": {},
   "outputs": [
    {
     "data": {
      "text/plain": [
       "<PowerLaw1D(amplitude=96.31009337, x_0=268.80872904, alpha=-0.76705901)>"
      ]
     },
     "execution_count": 36,
     "metadata": {},
     "output_type": "execute_result"
    }
   ],
   "source": [
    "PL6 =  PowerLaw1D(amplitude = y6[0], x_0= x6[0], alpha= -2.5) \n",
    "\n",
    "#Initialize fitters\n",
    "#setting calc_uncertainties=True to output errors on measurement \n",
    "\n",
    "fit6 = fitting.LevMarLSQFitter(calc_uncertainties=True)\n",
    "\n",
    "#Fit the data w/o weights\n",
    "fit_model6 = fit6(PL6, x6, y6)\n",
    "\n",
    "\n",
    "#weight is 1/error^2\n",
    "y_weight6 = 1/ (np.power(yerr6, 2))  \n",
    "\n",
    "# fit the data using the uncertainties as weights\n",
    "fit_model_weights6 = fit6(PL6, x6, y6, weights=y_weight6)\n",
    "\n",
    "fit_model_weights6\n"
   ]
  },
  {
   "cell_type": "code",
   "execution_count": 37,
   "id": "6c612154-460a-463b-ac80-052b2e881cbe",
   "metadata": {},
   "outputs": [
    {
     "data": {
      "text/plain": [
       "{'nfev': 39,\n",
       " 'fvec': array([-0.15253043,  0.15135875,  0.17672557, -0.25783288]),\n",
       " 'fjac': array([[-1.27858361e+03, -2.65555965e+00,  7.29851277e-01,\n",
       "          1.92538786e-01],\n",
       "        [-2.65555965e+00, -2.91323029e-01,  8.00669210e-02,\n",
       "          6.97738972e-01],\n",
       "        [ 7.29851277e-01,  8.00669210e-02,  4.22076438e-17,\n",
       "          1.64398987e-01]]),\n",
       " 'ipvt': array([3, 1, 2], dtype=int32),\n",
       " 'qtf': array([-2.53311313e-05, -2.77890270e-06, -4.77319487e-03]),\n",
       " 'message': 'Both actual and predicted relative reductions in the sum of squares\\n  are at most 0.000000',\n",
       " 'ierr': 1,\n",
       " 'param_jac': None,\n",
       " 'param_cov': array([[4.24008345e+31, 1.54275191e+32, 6.93381684e+12],\n",
       "        [1.54275191e+32, 5.61329390e+32, 2.52286524e+13],\n",
       "        [6.93381684e+12, 2.52286524e+13, 5.25737339e-05]]),\n",
       " 'njev': 26,\n",
       " 'cov_x': array([[4.24008345e+31, 1.54275191e+32, 6.93381684e+12],\n",
       "        [1.54275191e+32, 5.61329390e+32, 2.52286524e+13],\n",
       "        [6.93381684e+12, 2.52286524e+13, 5.25737339e-05]])}"
      ]
     },
     "execution_count": 37,
     "metadata": {},
     "output_type": "execute_result"
    }
   ],
   "source": [
    "fit6.fit_info"
   ]
  },
  {
   "cell_type": "code",
   "execution_count": 38,
   "id": "bfece4b9-c893-4f5b-8db3-1a395bc1bff7",
   "metadata": {},
   "outputs": [
    {
     "name": "stdout",
     "output_type": "stream",
     "text": [
      "The error/standard deviation is 0.0013670751966013916\n"
     ]
    }
   ],
   "source": [
    "#taking fvec\n",
    "fvec6 = np.array([-0.15253043,  0.15135875,  0.17672557, -0.25783288])\n",
    "var6 = np.var(fvec6)\n",
    "\n",
    "#taking cov_x\n",
    "cov_x6 = np.array([[4.24008345e+31, 1.54275191e+32, 6.93381684e+12],\n",
    "        [1.54275191e+32, 5.61329390e+32, 2.52286524e+13],\n",
    "        [6.93381684e+12, 2.52286524e+13, 5.25737339e-05]])\n",
    "\n",
    "def stand(cov):\n",
    "    diag = np.diagonal(cov)\n",
    "    sd1 = np.sqrt(diag[0])\n",
    "    sd2 = np.sqrt(diag[1])\n",
    "    sd3 = np.sqrt(diag[2])\n",
    "    return(sd1,sd2,sd3)\n",
    "\n",
    "diag6 = stand(cov_x6*var6) \n",
    "\n",
    "#The last diagonal element corresponds to alpha\n",
    "#So here we are calculating the standard deviation on the slope\n",
    "\n",
    "#print(diag)  #prints standard deviations of all three variances\n",
    "\n",
    "print('The error/standard deviation is', diag6[2]) #Just showing the standard deviation on the slope\n",
    "\n"
   ]
  },
  {
   "cell_type": "code",
   "execution_count": 39,
   "id": "0765559b-2382-4390-bcab-0aa32c2af739",
   "metadata": {},
   "outputs": [
    {
     "data": {
      "image/png": "[encoded data removed]",
      "text/plain": [
       "<Figure size 640x480 with 1 Axes>"
      ]
     },
     "metadata": {},
     "output_type": "display_data"
    }
   ],
   "source": [
    "#plotting to check\n",
    "fig,ax = plt.subplots()\n",
    "mask = df6['Flux (mJy)'] > 3 * df6['eFlux (mJy)']  # apply detection threshold\n",
    "if mask.any():  # proceed only if at least one detection\n",
    "    ax.errorbar(df6['Freq (GHz)'][mask], df6['Flux (mJy)'][mask], yerr=df6['eFlux (mJy)'][mask], fmt='^')\n",
    "    ax.set_xscale('log')\n",
    "    ax.set_xticks([1, 5, 10, 50], labels=['1', '5', '10', '50'])\n",
    "    ax.set_yscale('log')\n",
    "    ax.set_yticks([1, 5, 10, 20, 50], labels=['1', '5', '10', '20', '50'])\n",
    "    ax.annotate('Day 23', xy=(90, 120), xycoords='axes points', size=9, ha='right', va='top', bbox=dict(boxstyle='round', fc='w', ec=\"w\"))\n",
    "    ax.tick_params(axis='both', which='both', direction='in', top=True, right=True)\n",
    "    ax.plot(df6['Freq (GHz)'][mask], fit_model_weights6(df6['Freq (GHz)'][mask]), 'r--')\n",
    "    ax.annotate('${\\u03B1 = 0.767 \\\\pm 0.002}$', xy=(90, 100), xycoords='axes points', size=9, ha='right', va='top', bbox=dict(boxstyle='round', fc='w', ec=\"w\"))\n",
    "\n",
    "plt.show();\n"
   ]
  },
  {
   "cell_type": "markdown",
   "id": "d99f5d85-57d9-4ac8-98e1-b8a1cccf6b98",
   "metadata": {},
   "source": [
    "## Day 32 (df7)"
   ]
  },
  {
   "cell_type": "code",
   "execution_count": 40,
   "id": "8ef30a96-7a1c-4f41-b35b-1ccfa1774db7",
   "metadata": {},
   "outputs": [],
   "source": [
    "#(work for anything with 3+ points)\n",
    "mask = df7['Flux (mJy)'] > 3 * df7['eFlux (mJy)']  # apply detection threshold\n",
    "\n",
    "x7 = df7['Freq (GHz)'][mask].values.tolist()\n",
    "y7 = df7['Flux (mJy)'][mask].values.tolist()\n",
    "yerr7 = df7['eFlux (mJy)'][mask].values.tolist()\n"
   ]
  },
  {
   "cell_type": "code",
   "execution_count": 41,
   "id": "00dad02a-54a0-4b42-b141-c3965318291b",
   "metadata": {},
   "outputs": [],
   "source": [
    "yerr7 = error(yerr7, x7, y7)"
   ]
  },
  {
   "cell_type": "code",
   "execution_count": 42,
   "id": "d8250d7c-d7c2-494c-b319-86557e4c7997",
   "metadata": {},
   "outputs": [
    {
     "data": {
      "text/plain": [
       "<PowerLaw1D(amplitude=7.8038097, x_0=16.71620272, alpha=-0.31248019)>"
      ]
     },
     "execution_count": 42,
     "metadata": {},
     "output_type": "execute_result"
    }
   ],
   "source": [
    "PL7 =  PowerLaw1D(amplitude = y7[0], x_0= x7[0], alpha= 4.5) \n",
    "\n",
    "#Initialize fitters\n",
    "#setting calc_uncertainties=True to output errors on measurement \n",
    "\n",
    "fit7 = fitting.LevMarLSQFitter(calc_uncertainties=True)\n",
    "\n",
    "#Fit the data w/o weights\n",
    "fit_model7 = fit7(PL7, x7, y7)\n",
    "\n",
    "\n",
    "#weight is 1/error^2\n",
    "y_weight7 = 1/ (np.power(yerr7, 2))  \n",
    "\n",
    "# fit the data using the uncertainties as weights\n",
    "fit_model_weights7 = fit7(PL7, x7, y7, weights=y_weight7)\n",
    "\n",
    "fit_model_weights7\n"
   ]
  },
  {
   "cell_type": "code",
   "execution_count": 43,
   "id": "ac929802-3093-4781-8259-277bec6d1d5d",
   "metadata": {},
   "outputs": [
    {
     "data": {
      "text/plain": [
       "{'nfev': 38,\n",
       " 'fvec': array([-0.49088803, -1.05823169, -2.44988002, -2.48637064,  0.24364801,\n",
       "        -0.9883572 ,  1.84113325, -0.5406546 ]),\n",
       " 'fjac': array([[-3.67840314e+02, -2.14273564e+01,  3.12456586e+00,\n",
       "         -6.69292734e-03,  7.37648813e-01,  6.04427604e-01,\n",
       "          2.56757350e-01,  1.56428294e-01],\n",
       "        [-2.14273564e+01, -7.55662373e+00,  1.10191701e+00,\n",
       "          7.67981793e-02, -4.54832122e-01, -1.64771163e-01,\n",
       "          5.48536364e-01,  6.46284513e-01],\n",
       "        [ 3.12456586e+00,  1.10191701e+00,  5.98839006e-16,\n",
       "          2.31744887e-02, -7.41583639e-01, -4.63489775e-02,\n",
       "         -5.56187730e-01, -3.70791820e-01]]),\n",
       " 'ipvt': array([3, 1, 2], dtype=int32),\n",
       " 'qtf': array([-1.50421321e-04, -5.29556994e-05,  1.62667424e+00]),\n",
       " 'message': 'Both actual and predicted relative reductions in the sum of squares\\n  are at most 0.000000',\n",
       " 'ierr': 1,\n",
       " 'param_jac': None,\n",
       " 'param_cov': array([[5.92955387e+28, 4.06631415e+29, 6.79587059e+11],\n",
       "        [4.06631415e+29, 2.78855900e+30, 4.66040876e+12],\n",
       "        [6.79587059e+11, 4.66040876e+12, 7.46035305e-05]]),\n",
       " 'njev': 26,\n",
       " 'cov_x': array([[5.92955387e+28, 4.06631415e+29, 6.79587059e+11],\n",
       "        [4.06631415e+29, 2.78855900e+30, 4.66040876e+12],\n",
       "        [6.79587059e+11, 4.66040876e+12, 7.46035305e-05]])}"
      ]
     },
     "execution_count": 43,
     "metadata": {},
     "output_type": "execute_result"
    }
   ],
   "source": [
    "fit7.fit_info"
   ]
  },
  {
   "cell_type": "code",
   "execution_count": 44,
   "id": "ec1e7506-ee4d-4cef-af09-897c955567fb",
   "metadata": {},
   "outputs": [
    {
     "name": "stdout",
     "output_type": "stream",
     "text": [
      "The error/standard deviation is 0.011372144748195779\n"
     ]
    }
   ],
   "source": [
    "#taking fvec\n",
    "fvec7 = np.array([-0.49088803, -1.05823169, -2.44988002, -2.48637064,  0.24364801,\n",
    "        -0.9883572 ,  1.84113325, -0.5406546 ])\n",
    "var7 = np.var(fvec7)\n",
    "\n",
    "#taking cov_x\n",
    "cov_x7 = np.array([[5.92955387e+28, 4.06631415e+29, 6.79587059e+11],\n",
    "        [4.06631415e+29, 2.78855900e+30, 4.66040876e+12],\n",
    "        [6.79587059e+11, 4.66040876e+12, 7.46035305e-05]])\n",
    "\n",
    "def stand(cov):\n",
    "    diag = np.diagonal(cov)\n",
    "    sd1 = np.sqrt(diag[0])\n",
    "    sd2 = np.sqrt(diag[1])\n",
    "    sd3 = np.sqrt(diag[2])\n",
    "    return(sd1,sd2,sd3)\n",
    "\n",
    "diag7 = stand(cov_x7*var7) \n",
    "\n",
    "#The last diagonal element corresponds to alpha\n",
    "#So here we are calculating the standard deviation on the slope\n",
    "\n",
    "#print(diag)  #prints standard deviations of all three variances\n",
    "\n",
    "print('The error/standard deviation is', diag7[2]) #Just showing the standard deviation on the slope\n",
    "\n"
   ]
  },
  {
   "cell_type": "code",
   "execution_count": 45,
   "id": "646ef2e7-763b-4c2c-927d-5271ca3340fb",
   "metadata": {},
   "outputs": [
    {
     "data": {
      "image/png": "[encoded data removed]",
      "text/plain": [
       "<Figure size 640x480 with 1 Axes>"
      ]
     },
     "metadata": {},
     "output_type": "display_data"
    }
   ],
   "source": [
    "#plotting to check\n",
    "fig,ax = plt.subplots()\n",
    "mask = df7['Flux (mJy)'] > 3 * df7['eFlux (mJy)']  # apply detection threshold\n",
    "if mask.any():  # proceed only if at least one detection\n",
    "    ax.errorbar(df7['Freq (GHz)'][mask], df7['Flux (mJy)'][mask], yerr=yerr7, fmt='^')\n",
    "    ax.set_xscale('log')\n",
    "    ax.set_xticks([1, 5, 10, 50], labels=['1', '5', '10', '50'])\n",
    "    ax.set_yscale('log')\n",
    "    ax.set_yticks([1, 5, 10, 20, 50], labels=['1', '5', '10', '20', '50'])\n",
    "    ax.annotate('Day 32', xy=(90, 120), xycoords='axes points', size=9, ha='right', va='top', bbox=dict(boxstyle='round', fc='w', ec=\"w\"))\n",
    "    ax.tick_params(axis='both', which='both', direction='in', top=True, right=True)\n",
    "    ax.plot(df7['Freq (GHz)'][mask], fit_model_weights7(df7['Freq (GHz)'][mask]), 'r--')\n",
    "    ax.annotate('${\\u03B1 = 0.312 \\\\pm 0.011}$', xy=(90, 100), xycoords='axes points', size=9, ha='right', va='top', bbox=dict(boxstyle='round', fc='w', ec=\"w\"))\n",
    "\n",
    "plt.show();\n"
   ]
  },
  {
   "cell_type": "markdown",
   "id": "4bb0e2df-f02e-4a06-8fc3-e3817ad3fc47",
   "metadata": {},
   "source": [
    "## Day 41 (df8)"
   ]
  },
  {
   "cell_type": "code",
   "execution_count": 46,
   "id": "9825e931-3087-443d-9778-50fcbbdb905a",
   "metadata": {},
   "outputs": [],
   "source": [
    "#(work for anything with 3+ points)\n",
    "mask = df8['Flux (mJy)'] > 3 * df8['eFlux (mJy)']  # apply detection threshold\n",
    "\n",
    "x8 = df8['Freq (GHz)'][mask].values.tolist()\n",
    "y8 = df8['Flux (mJy)'][mask].values.tolist()\n",
    "yerr8 = df8['eFlux (mJy)'][mask].values.tolist()\n"
   ]
  },
  {
   "cell_type": "code",
   "execution_count": 47,
   "id": "6fc292ff-d93a-464b-b287-7597ebf8b04c",
   "metadata": {},
   "outputs": [],
   "source": [
    "yerr8 = error(yerr8, x8, y8)"
   ]
  },
  {
   "cell_type": "code",
   "execution_count": 48,
   "id": "958e6a30-6dd2-40e0-b381-309668eb6bbc",
   "metadata": {},
   "outputs": [
    {
     "data": {
      "text/plain": [
       "<PowerLaw1D(amplitude=5.38208018, x_0=12.3690617, alpha=-0.17608782)>"
      ]
     },
     "execution_count": 48,
     "metadata": {},
     "output_type": "execute_result"
    }
   ],
   "source": [
    "PL8 =  PowerLaw1D(amplitude = y8[0], x_0= x8[0], alpha= -1) \n",
    "\n",
    "#Initialize fitters\n",
    "#setting calc_uncertainties=True to output errors on measurement \n",
    "\n",
    "fit8 = fitting.LevMarLSQFitter(calc_uncertainties=True)\n",
    "\n",
    "#Fit the data w/o weights\n",
    "fit_model8 = fit8(PL8, x8, y8)\n",
    "\n",
    "\n",
    "#weight is 1/error^2\n",
    "y_weight8 = 1/ (np.power(yerr8, 2))  \n",
    "\n",
    "# fit the data using the uncertainties as weights\n",
    "fit_model_weights8 = fit8(PL8, x8, y8, weights=y_weight8)\n",
    "\n",
    "fit_model_weights8\n"
   ]
  },
  {
   "cell_type": "code",
   "execution_count": 49,
   "id": "ecfcb3ab-bd46-417a-acff-738e2049b3f0",
   "metadata": {},
   "outputs": [
    {
     "data": {
      "text/plain": [
       "{'nfev': 18,\n",
       " 'fvec': array([-2.51884415, -3.12305972, -3.96558208, -3.83810145, -2.774573  ,\n",
       "         1.748279  ,  3.46395   , -1.85081329]),\n",
       " 'fjac': array([[ 3.13707140e+02,  3.16154841e+01, -2.42238165e+00,\n",
       "          1.10250232e-02, -6.97824050e-01, -6.47573653e-01,\n",
       "         -2.70545423e-01, -1.41845484e-01],\n",
       "        [ 3.16154841e+01, -1.45748621e+01,  1.11672743e+00,\n",
       "          6.44331863e-02, -1.73467017e-01,  2.56181438e-02,\n",
       "          6.53582433e-01,  7.12829299e-01],\n",
       "        [-2.42238165e+00,  1.11672743e+00, -3.54376452e-16,\n",
       "          3.91611456e-02, -3.91611456e-01,  2.44757160e-01,\n",
       "         -6.26578329e-01,  6.26578329e-01]]),\n",
       " 'ipvt': array([3, 1, 2], dtype=int32),\n",
       " 'qtf': array([ 2.03741441e-04, -9.53834116e-05,  1.16832632e+00]),\n",
       " 'message': 'Both actual and predicted relative reductions in the sum of squares\\n  are at most 0.000000',\n",
       " 'ierr': 1,\n",
       " 'param_jac': None,\n",
       " 'param_cov': array([[4.67472159e+28, 6.10116851e+29, 1.63682049e+12],\n",
       "        [6.10116851e+29, 7.96288218e+30, 2.13628072e+13],\n",
       "        [1.63682049e+12, 2.13628072e+13, 1.15286005e-04]]),\n",
       " 'njev': 10,\n",
       " 'cov_x': array([[4.67472159e+28, 6.10116851e+29, 1.63682049e+12],\n",
       "        [6.10116851e+29, 7.96288218e+30, 2.13628072e+13],\n",
       "        [1.63682049e+12, 2.13628072e+13, 1.15286005e-04]])}"
      ]
     },
     "execution_count": 49,
     "metadata": {},
     "output_type": "execute_result"
    }
   ],
   "source": [
    "fit8.fit_info"
   ]
  },
  {
   "cell_type": "code",
   "execution_count": 50,
   "id": "1882c0a7-1e91-43ae-96fb-bc3742d01f33",
   "metadata": {},
   "outputs": [
    {
     "name": "stdout",
     "output_type": "stream",
     "text": [
      "The error/standard deviation is 0.020110388672030733\n"
     ]
    }
   ],
   "source": [
    "#taking fvec\n",
    "fvec8 = np.array([-2.51885385, -3.12306768, -3.9655854 , -3.83810395, -2.77464744,\n",
    "         1.74819877,  3.46387809, -1.8508731  ])\n",
    "var8 = np.var(fvec8)\n",
    "\n",
    "#taking cov_x\n",
    "cov_x8 = np.array([[ 8.40083424e+28,  9.97654125e+29, -5.91754135e+11],\n",
    "        [ 9.97654125e+29,  1.18477966e+31, -7.02746819e+12],\n",
    "        [-5.91754135e+11, -7.02746819e+12,  6.21423014e-05]])\n",
    "\n",
    "def stand(cov):\n",
    "    diag = np.diagonal(cov)\n",
    "    sd1 = np.sqrt(diag[0])\n",
    "    sd2 = np.sqrt(diag[1])\n",
    "    sd3 = np.sqrt(diag[2])\n",
    "    return(sd1,sd2,sd3)\n",
    "\n",
    "diag8 = stand(cov_x8*var8) \n",
    "\n",
    "#The last diagonal element corresponds to alpha\n",
    "#So here we are calculating the standard deviation on the slope\n",
    "\n",
    "#print(diag)  #prints standard deviations of all three variances\n",
    "\n",
    "print('The error/standard deviation is', diag8[2]) #Just showing the standard deviation on the slope\n",
    "\n"
   ]
  },
  {
   "cell_type": "code",
   "execution_count": 51,
   "id": "2a866faf-5976-4646-bf6e-f3555c9069e8",
   "metadata": {},
   "outputs": [
    {
     "data": {
      "image/png": "[encoded data removed]",
      "text/plain": [
       "<Figure size 640x480 with 1 Axes>"
      ]
     },
     "metadata": {},
     "output_type": "display_data"
    }
   ],
   "source": [
    "#plotting to check\n",
    "fig,ax = plt.subplots()\n",
    "mask = df8['Flux (mJy)'] > 3 * df8['eFlux (mJy)']  # apply detection threshold\n",
    "if mask.any():  # proceed only if at least one detection\n",
    "    ax.errorbar(df8['Freq (GHz)'][mask], df8['Flux (mJy)'][mask], yerr=yerr8, fmt='^')\n",
    "    ax.set_xscale('log')\n",
    "    ax.set_xticks([1, 5, 10, 50], labels=['1', '5', '10', '50'])\n",
    "    ax.set_yscale('log')\n",
    "    ax.set_yticks([1, 5, 10, 20, 50], labels=['1', '5', '10', '20', '50'])\n",
    "    ax.annotate('Day 41', xy=(90, 120), xycoords='axes points', size=9, ha='right', va='top', bbox=dict(boxstyle='round', fc='w', ec=\"w\"))\n",
    "    ax.tick_params(axis='both', which='both', direction='in', top=True, right=True)\n",
    "    ax.plot(df8['Freq (GHz)'][mask], fit_model_weights8(df8['Freq (GHz)'][mask]), 'r--')\n",
    "    ax.annotate('${\\u03B1 = 0.176 \\\\pm 0.020}$', xy=(90, 100), xycoords='axes points', size=9, ha='right', va='top', bbox=dict(boxstyle='round', fc='w', ec=\"w\"))\n",
    "\n",
    "plt.show();\n"
   ]
  },
  {
   "cell_type": "markdown",
   "id": "5ffdb6fc-028b-49d8-87f7-7a52577d1c05",
   "metadata": {},
   "source": [
    "## Day 131 (df9)"
   ]
  },
  {
   "cell_type": "code",
   "execution_count": 52,
   "id": "5d308740-60ad-4fc9-b34b-5237c9c17ec6",
   "metadata": {},
   "outputs": [],
   "source": [
    "#(work for anything with 3+ points)\n",
    "mask = df9['Flux (mJy)'] > 3 * df9['eFlux (mJy)']  # apply detection threshold\n",
    "\n",
    "x9 = df9['Freq (GHz)'][mask].values.tolist()\n",
    "y9 = df9['Flux (mJy)'][mask].values.tolist()\n",
    "yerr9 = df9['eFlux (mJy)'][mask].values.tolist()\n"
   ]
  },
  {
   "cell_type": "code",
   "execution_count": 53,
   "id": "0c08eed8-adcb-4b54-9a7c-90d6ccf2a230",
   "metadata": {},
   "outputs": [],
   "source": [
    "yerr9 = error(yerr9, x9, y9)"
   ]
  },
  {
   "cell_type": "code",
   "execution_count": 54,
   "id": "f33c1627-1825-45b4-aed2-c72cb344e905",
   "metadata": {},
   "outputs": [
    {
     "data": {
      "text/plain": [
       "<PowerLaw1D(amplitude=2.86513367, x_0=12.90369756, alpha=-0.46454496)>"
      ]
     },
     "execution_count": 54,
     "metadata": {},
     "output_type": "execute_result"
    }
   ],
   "source": [
    "PL9 =  PowerLaw1D(amplitude = y9[0], x_0= x9[0], alpha= -1) \n",
    "\n",
    "#Initialize fitters\n",
    "#setting calc_uncertainties=True to output errors on measurement \n",
    "\n",
    "fit9 = fitting.LevMarLSQFitter(calc_uncertainties=True)\n",
    "\n",
    "#Fit the data w/o weights\n",
    "fit_model9 = fit9(PL9, x9, y9)\n",
    "\n",
    "\n",
    "#weight is 1/error^2\n",
    "y_weight9 = 1/ (np.power(yerr9, 2))  \n",
    "\n",
    "# fit the data using the uncertainties as weights\n",
    "fit_model_weights9 = fit9(PL9, x9, y9, weights=y_weight9)\n",
    "\n",
    "fit_model_weights9\n"
   ]
  },
  {
   "cell_type": "code",
   "execution_count": 55,
   "id": "37ef74e0-c12d-4689-b2bd-7a91ad66ea4f",
   "metadata": {},
   "outputs": [
    {
     "data": {
      "text/plain": [
       "{'nfev': 18,\n",
       " 'fvec': array([-9.99524347e-01,  1.28451999e+00,  1.03449612e+01,  1.46449244e+01,\n",
       "         1.68692864e-02,  1.83179162e+01, -2.28521390e+00, -1.28197332e+01]),\n",
       " 'fjac': array([[ 2.69566583e+02,  8.04635474e+01, -8.32318228e+00,\n",
       "          1.72539192e-01, -1.09663053e-01, -5.48642753e-01,\n",
       "         -7.17951113e-01, -3.52319222e-01],\n",
       "        [ 8.04635474e+01, -5.58656133e+01,  5.77876191e+00,\n",
       "          5.02921649e-01, -5.53185654e-02, -2.12295994e-01,\n",
       "          4.01378334e-01,  5.47155194e-01],\n",
       "        [-8.32318228e+00,  5.77876191e+00, -1.74220136e-15,\n",
       "         -2.54901195e-01,  1.59313247e-01,  5.09802390e-01,\n",
       "         -2.54901195e-01,  7.64703585e-01]]),\n",
       " 'ipvt': array([3, 1, 2], dtype=int32),\n",
       " 'qtf': array([9.63991143e-04, 8.60601845e-04, 4.11241595e+00]),\n",
       " 'message': 'Both actual and predicted relative reductions in the sum of squares\\n  are at most 0.000000',\n",
       " 'ierr': 1,\n",
       " 'param_jac': None,\n",
       " 'param_cov': array([[3.52520001e+27, 3.40795249e+28, 2.45943897e+11],\n",
       "        [3.40795249e+28, 3.29460461e+29, 2.37763847e+12],\n",
       "        [2.45943897e+11, 2.37763847e+12, 5.94685164e-05]]),\n",
       " 'njev': 9,\n",
       " 'cov_x': array([[3.52520001e+27, 3.40795249e+28, 2.45943897e+11],\n",
       "        [3.40795249e+28, 3.29460461e+29, 2.37763847e+12],\n",
       "        [2.45943897e+11, 2.37763847e+12, 5.94685164e-05]])}"
      ]
     },
     "execution_count": 55,
     "metadata": {},
     "output_type": "execute_result"
    }
   ],
   "source": [
    "fit9.fit_info"
   ]
  },
  {
   "cell_type": "code",
   "execution_count": 56,
   "id": "249b8c2c-2619-4056-b7a4-6bdd602e2b66",
   "metadata": {},
   "outputs": [
    {
     "name": "stdout",
     "output_type": "stream",
     "text": [
      "The error/standard deviation is 0.07354816632897618\n"
     ]
    }
   ],
   "source": [
    "#taking fvec\n",
    "fvec9 = np.array([-9.99524347e-01,  1.28451999e+00,  1.03449612e+01,  1.46449244e+01,\n",
    "         1.68692864e-02,  1.83179162e+01, -2.28521390e+00, -1.28197332e+01])\n",
    "var9 = np.var(fvec9)\n",
    "\n",
    "#taking cov_x\n",
    "cov_x9 = np.array([[3.52520001e+27, 3.40795249e+28, 2.45943897e+11],\n",
    "        [3.40795249e+28, 3.29460461e+29, 2.37763847e+12],\n",
    "        [2.45943897e+11, 2.37763847e+12, 5.94685164e-05]])\n",
    "\n",
    "def stand(cov):\n",
    "    diag = np.diagonal(cov)\n",
    "    sd1 = np.sqrt(diag[0])\n",
    "    sd2 = np.sqrt(diag[1])\n",
    "    sd3 = np.sqrt(diag[2])\n",
    "    return(sd1,sd2,sd3)\n",
    "\n",
    "diag9 = stand(cov_x9*var9) \n",
    "\n",
    "#The last diagonal element corresponds to alpha\n",
    "#So here we are calculating the standard deviation on the slope\n",
    "\n",
    "#print(diag)  #prints standard deviations of all three variances\n",
    "\n",
    "print('The error/standard deviation is', diag9[2]) #Just showing the standard deviation on the slope\n",
    "\n"
   ]
  },
  {
   "cell_type": "code",
   "execution_count": 57,
   "id": "b65d926c-4562-4c08-ae10-a864e567484f",
   "metadata": {},
   "outputs": [
    {
     "data": {
      "image/png": "[encoded data removed]",
      "text/plain": [
       "<Figure size 640x480 with 1 Axes>"
      ]
     },
     "metadata": {},
     "output_type": "display_data"
    }
   ],
   "source": [
    "#plotting to check\n",
    "fig,ax = plt.subplots()\n",
    "mask = df9['Flux (mJy)'] > 3 * df9['eFlux (mJy)']  # apply detection threshold\n",
    "if mask.any():  # proceed only if at least one detection\n",
    "    ax.errorbar(df9['Freq (GHz)'][mask], df9['Flux (mJy)'][mask], yerr=yerr9, fmt='^')\n",
    "    ax.set_xscale('log')\n",
    "    ax.set_xticks([1, 5, 10, 50], labels=['1', '5', '10', '50'])\n",
    "    ax.set_yscale('log')\n",
    "    ax.set_yticks([1, 5, 10, 20, 50], labels=['1', '5', '10', '20', '50'])\n",
    "    ax.annotate('Day 131', xy=(90, 120), xycoords='axes points', size=9, ha='right', va='top', bbox=dict(boxstyle='round', fc='w', ec=\"w\"))\n",
    "    ax.tick_params(axis='both', which='both', direction='in', top=True, right=True)\n",
    "    ax.plot(df9['Freq (GHz)'][mask], fit_model_weights9(df9['Freq (GHz)'][mask]), 'r--')\n",
    "    ax.annotate('${\\u03B1 = 0.465 \\\\pm 0.074}$', xy=(90, 100), xycoords='axes points', size=9, ha='right', va='top', bbox=dict(boxstyle='round', fc='w', ec=\"w\"))\n",
    "\n",
    "plt.show();\n"
   ]
  },
  {
   "cell_type": "markdown",
   "id": "f00c1d5a-3541-4b67-801b-23db58d3f3ba",
   "metadata": {},
   "source": [
    "## Day 142 (df10)"
   ]
  },
  {
   "cell_type": "code",
   "execution_count": 58,
   "id": "1746925f-231b-45ac-9ac9-adf1ab47febf",
   "metadata": {},
   "outputs": [],
   "source": [
    "#(work for anything with 3+ points)\n",
    "mask = df10['Flux (mJy)'] > 3 * df10['eFlux (mJy)']  # apply detection threshold\n",
    "\n",
    "x10 = df10['Freq (GHz)'][mask].values.tolist()\n",
    "y10 = df10['Flux (mJy)'][mask].values.tolist()\n",
    "yerr10 = df10['eFlux (mJy)'][mask].values.tolist()\n"
   ]
  },
  {
   "cell_type": "code",
   "execution_count": 59,
   "id": "b90baf21-f86f-4c99-9948-47eac9fadd34",
   "metadata": {},
   "outputs": [],
   "source": [
    "yerr10 = error(yerr10, x10, y10)"
   ]
  },
  {
   "cell_type": "code",
   "execution_count": 60,
   "id": "72f71561-3a7b-4f9f-9a6b-17c012533b98",
   "metadata": {},
   "outputs": [
    {
     "data": {
      "text/plain": [
       "<PowerLaw1D(amplitude=2.484453, x_0=16.48725648, alpha=-0.37048454)>"
      ]
     },
     "execution_count": 60,
     "metadata": {},
     "output_type": "execute_result"
    }
   ],
   "source": [
    "PL10 =  PowerLaw1D(amplitude = y10[0], x_0= x10[0], alpha= 4.5) \n",
    "\n",
    "#Initialize fitters\n",
    "#setting calc_uncertainties=True to output errors on measurement \n",
    "\n",
    "fit10 = fitting.LevMarLSQFitter(calc_uncertainties=True)\n",
    "\n",
    "#Fit the data w/o weights\n",
    "fit_model10 = fit10(PL10, x10, y10)\n",
    "\n",
    "\n",
    "#weight is 1/error^2\n",
    "y_weight10 = 1/ (np.power(yerr10, 2))  \n",
    "\n",
    "# fit the data using the uncertainties as weights\n",
    "fit_model_weights10 = fit10(PL10, x10, y10, weights=y_weight10)\n",
    "\n",
    "fit_model_weights10\n"
   ]
  },
  {
   "cell_type": "code",
   "execution_count": 61,
   "id": "33871f6b-7f3d-410d-a34c-6780a277b0c6",
   "metadata": {},
   "outputs": [
    {
     "data": {
      "text/plain": [
       "{'nfev': 35,\n",
       " 'fvec': array([ -2.28651914,   0.16549462,  12.72121007,  22.37214669,\n",
       "         -1.42648817,  41.2821875 ,  -5.78326984, -20.23732543]),\n",
       " 'fjac': array([[-3.55471377e+02, -1.08029889e+02,  6.03109830e+00,\n",
       "         -1.42641557e-01,  1.32298702e-01,  4.25407615e-01,\n",
       "          7.71290241e-01,  4.21703902e-01],\n",
       "        [-1.08029889e+02, -6.59945126e+01,  3.68434510e+00,\n",
       "          6.72181863e-01, -1.30865149e-01, -3.69316120e-01,\n",
       "         -1.17278596e-02,  2.94548960e-01],\n",
       "        [ 6.03109830e+00,  3.68434510e+00, -7.08854796e-16,\n",
       "          0.00000000e+00, -7.83110328e-02,  6.26488263e-01,\n",
       "          3.32821889e-01,  6.26488263e-01]]),\n",
       " 'ipvt': array([3, 1, 2], dtype=int32),\n",
       " 'qtf': array([-6.83263026e-04,  6.13791008e-04, -1.70168089e+01]),\n",
       " 'message': 'Both actual and predicted relative reductions in the sum of squares\\n  are at most 0.000000',\n",
       " 'ierr': 1,\n",
       " 'param_jac': None,\n",
       " 'param_cov': array([[ 6.20283727e+27,  1.11106102e+29, -5.24269552e+11],\n",
       "        [ 1.11106102e+29,  1.99014828e+30, -9.39079067e+12],\n",
       "        [-5.24269552e+11, -9.39079067e+12,  7.34318554e-05]]),\n",
       " 'njev': 24,\n",
       " 'cov_x': array([[ 6.20283727e+27,  1.11106102e+29, -5.24269552e+11],\n",
       "        [ 1.11106102e+29,  1.99014828e+30, -9.39079067e+12],\n",
       "        [-5.24269552e+11, -9.39079067e+12,  7.34318554e-05]])}"
      ]
     },
     "execution_count": 61,
     "metadata": {},
     "output_type": "execute_result"
    }
   ],
   "source": [
    "fit10.fit_info"
   ]
  },
  {
   "cell_type": "code",
   "execution_count": 62,
   "id": "5bc59269-08b3-47c4-b12b-b0fb12dbb657",
   "metadata": {},
   "outputs": [
    {
     "name": "stdout",
     "output_type": "stream",
     "text": [
      "The error/standard deviation is 0.1527807854648782\n"
     ]
    }
   ],
   "source": [
    "#taking fvec\n",
    "fvec10 = np.array([ -2.28651914,   0.16549462,  12.72121007,  22.37214669,\n",
    "         -1.42648817,  41.2821875 ,  -5.78326984, -20.23732543])\n",
    "var10 = np.var(fvec10)\n",
    "\n",
    "#taking cov_x\n",
    "cov_x10 = np.array([[ 6.20283727e+27,  1.11106102e+29, -5.24269552e+11],\n",
    "        [ 1.11106102e+29,  1.99014828e+30, -9.39079067e+12],\n",
    "        [-5.24269552e+11, -9.39079067e+12,  7.34318554e-05]])\n",
    "\n",
    "def stand(cov):\n",
    "    diag = np.diagonal(cov)\n",
    "    sd1 = np.sqrt(diag[0])\n",
    "    sd2 = np.sqrt(diag[1])\n",
    "    sd3 = np.sqrt(diag[2])\n",
    "    return(sd1,sd2,sd3)\n",
    "\n",
    "diag10 = stand(cov_x10*var10) \n",
    "\n",
    "#The last diagonal element corresponds to alpha\n",
    "#So here we are calculating the standard deviation on the slope\n",
    "\n",
    "#print(diag)  #prints standard deviations of all three variances\n",
    "\n",
    "print('The error/standard deviation is', diag10[2]) #Just showing the standard deviation on the slope\n",
    "\n"
   ]
  },
  {
   "cell_type": "code",
   "execution_count": 63,
   "id": "51043f94-7ae7-4a15-9050-9ab5619c6b5f",
   "metadata": {},
   "outputs": [
    {
     "data": {
      "image/png": "[encoded data removed]",
      "text/plain": [
       "<Figure size 640x480 with 1 Axes>"
      ]
     },
     "metadata": {},
     "output_type": "display_data"
    }
   ],
   "source": [
    "#plotting to check\n",
    "fig,ax = plt.subplots()\n",
    "mask = df10['Flux (mJy)'] > 3 * df10['eFlux (mJy)']  # apply detection threshold\n",
    "if mask.any():  # proceed only if at least one detection\n",
    "    ax.errorbar(df10['Freq (GHz)'][mask], df10['Flux (mJy)'][mask], yerr=yerr10, fmt='^')\n",
    "    ax.set_xscale('log')\n",
    "    ax.set_xticks([1, 5, 10, 50], labels=['1', '5', '10', '50'])\n",
    "    ax.set_yscale('log')\n",
    "    ax.set_yticks([1, 5, 10, 20, 50], labels=['1', '5', '10', '20', '50'])\n",
    "    ax.annotate('Day 142', xy=(90, 120), xycoords='axes points', size=9, ha='right', va='top', bbox=dict(boxstyle='round', fc='w', ec=\"w\"))\n",
    "    ax.tick_params(axis='both', which='both', direction='in', top=True, right=True)\n",
    "    ax.plot(df10['Freq (GHz)'][mask], fit_model_weights10(df10['Freq (GHz)'][mask]), 'r--')\n",
    "    ax.annotate('${\\u03B1 = 0.371 \\\\pm 0.153}$', xy=(90, 100), xycoords='axes points', size=9, ha='right', va='top', bbox=dict(boxstyle='round', fc='w', ec=\"w\"))\n",
    "\n",
    "plt.show();\n"
   ]
  },
  {
   "cell_type": "markdown",
   "id": "b0d1234a-ff2e-4ad6-a6bf-4e774417491e",
   "metadata": {},
   "source": [
    "## Day 186 (df11)"
   ]
  },
  {
   "cell_type": "code",
   "execution_count": 64,
   "id": "aee8de37-b915-4a8d-9022-2e9531632429",
   "metadata": {},
   "outputs": [],
   "source": [
    "#(work for anything with 3+ points)\n",
    "mask = df11['Flux (mJy)'] > 3 * df11['eFlux (mJy)']  # apply detection threshold\n",
    "\n",
    "x11 = df11['Freq (GHz)'][mask].values.tolist()\n",
    "y11 = df11['Flux (mJy)'][mask].values.tolist()\n",
    "yerr11 = df11['eFlux (mJy)'][mask].values.tolist()\n"
   ]
  },
  {
   "cell_type": "code",
   "execution_count": 65,
   "id": "d8b646f8-6d4c-41af-8d2d-5ba35ca028dc",
   "metadata": {},
   "outputs": [],
   "source": [
    "yerr11 = error(yerr11, x11, y11)"
   ]
  },
  {
   "cell_type": "code",
   "execution_count": 66,
   "id": "51975829-64fc-41ab-ba8b-6a76953bd58d",
   "metadata": {},
   "outputs": [
    {
     "data": {
      "text/plain": [
       "<PowerLaw1D(amplitude=1.27607933, x_0=36.23670821, alpha=-0.0780053)>"
      ]
     },
     "execution_count": 66,
     "metadata": {},
     "output_type": "execute_result"
    }
   ],
   "source": [
    "PL11 =  PowerLaw1D(amplitude = y11[0], x_0= x11[0], alpha= -2) \n",
    "\n",
    "#Initialize fitters\n",
    "#setting calc_uncertainties=True to output errors on measurement \n",
    "\n",
    "fit11 = fitting.LevMarLSQFitter(calc_uncertainties=True)\n",
    "\n",
    "#Fit the data w/o weights\n",
    "fit_model11 = fit11(PL11, x11, y11)\n",
    "\n",
    "\n",
    "#weight is 1/error^2\n",
    "y_weight11 = 1/ (np.power(yerr11, 2))  \n",
    "\n",
    "# fit the data using the uncertainties as weights\n",
    "fit_model_weights11 = fit11(PL11, x11, y11, weights=y_weight11)\n",
    "\n",
    "fit_model_weights11\n"
   ]
  },
  {
   "cell_type": "code",
   "execution_count": 67,
   "id": "36fe4a6a-689d-4fc0-af46-055bd16f2369",
   "metadata": {},
   "outputs": [
    {
     "data": {
      "text/plain": [
       "{'nfev': 16,\n",
       " 'fvec': array([ -1.27159239,  -0.46760469,  15.66431115,  11.00218958,\n",
       "         40.98380208,  -7.78419232, -11.60112318]),\n",
       " 'fjac': array([[-8.37516102e+02, -3.53581762e+02,  9.71276504e-01,\n",
       "          3.93239429e-03,  3.01651366e-01,  7.29288108e-01,\n",
       "          6.01199349e-01],\n",
       "        [-3.53581762e+02, -1.24996458e+02,  3.43360817e-01,\n",
       "          5.82639415e-01, -3.97175436e-01, -2.88085664e-01,\n",
       "          8.86766345e-02],\n",
       "        [ 9.71276504e-01,  3.43360817e-01,  2.19015280e-16,\n",
       "         -0.00000000e+00, -2.53457893e-01, -8.23738151e-01,\n",
       "         -4.91074667e-01]]),\n",
       " 'ipvt': array([3, 1, 2], dtype=int32),\n",
       " 'qtf': array([-1.00626494e-04, -4.24804304e-04, -2.69071609e+00]),\n",
       " 'message': 'Both actual and predicted relative reductions in the sum of squares\\n  are at most 0.000000',\n",
       " 'ierr': 1,\n",
       " 'param_jac': None,\n",
       " 'param_cov': array([[1.57310324e+26, 5.72669691e+28, 2.35898893e+10],\n",
       "        [5.72669691e+28, 2.08473651e+31, 8.58762111e+12],\n",
       "        [2.35898893e+10, 8.58762111e+12, 1.63708340e-05]]),\n",
       " 'njev': 8,\n",
       " 'cov_x': array([[1.57310324e+26, 5.72669691e+28, 2.35898893e+10],\n",
       "        [5.72669691e+28, 2.08473651e+31, 8.58762111e+12],\n",
       "        [2.35898893e+10, 8.58762111e+12, 1.63708340e-05]])}"
      ]
     },
     "execution_count": 67,
     "metadata": {},
     "output_type": "execute_result"
    }
   ],
   "source": [
    "fit11.fit_info"
   ]
  },
  {
   "cell_type": "code",
   "execution_count": 68,
   "id": "cf176a67-77c5-4637-ad52-804761d72168",
   "metadata": {},
   "outputs": [
    {
     "name": "stdout",
     "output_type": "stream",
     "text": [
      "The error/standard deviation is 0.06725120717135392\n"
     ]
    }
   ],
   "source": [
    "#taking fvec\n",
    "fvec11 = np.array([ -1.27159239,  -0.46760469,  15.66431115,  11.00218958,\n",
    "         40.98380208,  -7.78419232, -11.60112318])\n",
    "var11 = np.var(fvec11)\n",
    "\n",
    "#taking cov_x\n",
    "cov_x11 = np.array([[1.57310324e+26, 5.72669691e+28, 2.35898893e+10],\n",
    "        [5.72669691e+28, 2.08473651e+31, 8.58762111e+12],\n",
    "        [2.35898893e+10, 8.58762111e+12, 1.63708340e-05]])\n",
    "\n",
    "def stand(cov):\n",
    "    diag = np.diagonal(cov)\n",
    "    sd1 = np.sqrt(diag[0])\n",
    "    sd2 = np.sqrt(diag[1])\n",
    "    sd3 = np.sqrt(diag[2])\n",
    "    return(sd1,sd2,sd3)\n",
    "\n",
    "diag11 = stand(cov_x11*var11) \n",
    "\n",
    "#The last diagonal element corresponds to alpha\n",
    "#So here we are calculating the standard deviation on the slope\n",
    "\n",
    "#print(diag)  #prints standard deviations of all three variances\n",
    "\n",
    "print('The error/standard deviation is', diag11[2]) #Just showing the standard deviation on the slope\n",
    "\n"
   ]
  },
  {
   "cell_type": "code",
   "execution_count": 69,
   "id": "dd5fb14a-17c2-4fdd-84e5-e327d51e6a77",
   "metadata": {},
   "outputs": [
    {
     "data": {
      "image/png": "[encoded data removed]",
      "text/plain": [
       "<Figure size 640x480 with 1 Axes>"
      ]
     },
     "metadata": {},
     "output_type": "display_data"
    }
   ],
   "source": [
    "#plotting to check\n",
    "fig,ax = plt.subplots()\n",
    "mask = df11['Flux (mJy)'] > 3 * df11['eFlux (mJy)']  # apply detection threshold\n",
    "if mask.any():  # proceed only if at least one detection\n",
    "    ax.errorbar(df11['Freq (GHz)'][mask], df11['Flux (mJy)'][mask], yerr=yerr11, fmt='^')\n",
    "    ax.set_xscale('log')\n",
    "    ax.set_xticks([1, 5, 10, 50], labels=['1', '5', '10', '50'])\n",
    "    ax.set_yscale('log')\n",
    "    ax.set_yticks([1, 5, 10, 20, 50], labels=['1', '5', '10', '20', '50'])\n",
    "    ax.annotate('Day 186', xy=(90, 120), xycoords='axes points', size=9, ha='right', va='top', bbox=dict(boxstyle='round', fc='w', ec=\"w\"))\n",
    "    ax.tick_params(axis='both', which='both', direction='in', top=True, right=True)\n",
    "    ax.plot(df11['Freq (GHz)'][mask], fit_model_weights11(df11['Freq (GHz)'][mask]), 'r--')\n",
    "    ax.annotate('${\\u03B1 = 0.078 \\\\pm 0.067}$', xy=(90, 100), xycoords='axes points', size=9, ha='right', va='top', bbox=dict(boxstyle='round', fc='w', ec=\"w\"))\n",
    "\n",
    "plt.show();\n"
   ]
  },
  {
   "cell_type": "markdown",
   "id": "0d37b274-a414-4503-98e0-85f9132a19f7",
   "metadata": {},
   "source": [
    "## Day 223 (df12)"
   ]
  },
  {
   "cell_type": "code",
   "execution_count": 70,
   "id": "6b1f1e8b-6d18-4cca-8075-c747b4746fda",
   "metadata": {},
   "outputs": [],
   "source": [
    "#(work for anything with 3+ points)\n",
    "mask = df12['Flux (mJy)'] > 3 * df12['eFlux (mJy)']  # apply detection threshold\n",
    "\n",
    "x12 = df12['Freq (GHz)'][mask].values.tolist()\n",
    "y12 = df12['Flux (mJy)'][mask].values.tolist()\n",
    "yerr12 = df12['eFlux (mJy)'][mask].values.tolist()\n"
   ]
  },
  {
   "cell_type": "code",
   "execution_count": 71,
   "id": "6cc64fab-70df-4439-9ca8-ba86afc9dd97",
   "metadata": {},
   "outputs": [],
   "source": [
    "yerr12 = error(yerr12, x12, y12)"
   ]
  },
  {
   "cell_type": "code",
   "execution_count": 72,
   "id": "f14be0a7-1b2e-41a3-979a-41f5b9b2fde4",
   "metadata": {},
   "outputs": [
    {
     "data": {
      "text/plain": [
       "<PowerLaw1D(amplitude=3.33276744, x_0=436.22286528, alpha=-0.34169508)>"
      ]
     },
     "execution_count": 72,
     "metadata": {},
     "output_type": "execute_result"
    }
   ],
   "source": [
    "PL12 =  PowerLaw1D(amplitude = y12[0], x_0= x12[0], alpha= -1.5) \n",
    "\n",
    "#Initialize fitters\n",
    "#setting calc_uncertainties=True to output errors on measurement \n",
    "\n",
    "fit12 = fitting.LevMarLSQFitter(calc_uncertainties=True)\n",
    "\n",
    "#Fit the data w/o weights\n",
    "fit_model12 = fit12(PL12, x12, y12)\n",
    "\n",
    "\n",
    "#weight is 1/error^2\n",
    "y_weight12 = 1/ (np.power(yerr12, 2))  \n",
    "\n",
    "# fit the data using the uncertainties as weights\n",
    "fit_model_weights12 = fit12(PL12, x12, y12, weights=y_weight12)\n",
    "\n",
    "fit_model_weights12\n"
   ]
  },
  {
   "cell_type": "code",
   "execution_count": 73,
   "id": "3d39f463-1116-4a78-9a0c-ee1e8a40d722",
   "metadata": {},
   "outputs": [
    {
     "data": {
      "text/plain": [
       "{'nfev': 21,\n",
       " 'fvec': array([ 28.81821532, -25.45896822,  17.68606807]),\n",
       " 'fjac': array([[-2.82543035e+03, -1.96039589e+02,  5.11775030e-01],\n",
       "        [-1.96039589e+02, -1.09646757e+01,  2.86240512e-02],\n",
       "        [ 5.11775030e-01,  2.86240512e-02, -4.85722573e-17]]),\n",
       " 'ipvt': array([3, 1, 2], dtype=int32),\n",
       " 'qtf': array([-3.36950113e-04, -1.42398203e-03, -4.23254722e+01]),\n",
       " 'message': 'Both actual and predicted relative reductions in the sum of squares\\n  are at most 0.000000',\n",
       " 'ierr': 1,\n",
       " 'param_jac': None,\n",
       " 'param_cov': None,\n",
       " 'njev': 14,\n",
       " 'cov_x': array([[ 2.88864415e+27,  1.10651864e+30, -6.18803376e+10],\n",
       "        [ 1.10651864e+30,  4.23860968e+32, -2.37037668e+13],\n",
       "        [-6.18803376e+10, -2.37037668e+13,  4.14938771e-05]])}"
      ]
     },
     "execution_count": 73,
     "metadata": {},
     "output_type": "execute_result"
    }
   ],
   "source": [
    "fit12.fit_info"
   ]
  },
  {
   "cell_type": "code",
   "execution_count": 74,
   "id": "0071a8f5-cff0-4b2b-93c5-0e973fcae401",
   "metadata": {},
   "outputs": [
    {
     "name": "stdout",
     "output_type": "stream",
     "text": [
      "The error/standard deviation is 0.15078469310822618\n"
     ]
    }
   ],
   "source": [
    "#taking fvec\n",
    "fvec12 = np.array([ 28.81821532, -25.45896822,  17.68606807])\n",
    "var12 = np.var(fvec12)\n",
    "\n",
    "#taking cov_x\n",
    "cov_x12 = np.array([[ 2.88864415e+27,  1.10651864e+30, -6.18803376e+10],\n",
    "        [ 1.10651864e+30,  4.23860968e+32, -2.37037668e+13],\n",
    "        [-6.18803376e+10, -2.37037668e+13,  4.14938771e-05]])\n",
    "\n",
    "def stand(cov):\n",
    "    diag = np.diagonal(cov)\n",
    "    sd1 = np.sqrt(diag[0])\n",
    "    sd2 = np.sqrt(diag[1])\n",
    "    sd3 = np.sqrt(diag[2])\n",
    "    return(sd1,sd2,sd3)\n",
    "\n",
    "diag12 = stand(cov_x12*var12) \n",
    "\n",
    "#The last diagonal element corresponds to alpha\n",
    "#So here we are calculating the standard deviation on the slope\n",
    "\n",
    "#print(diag)  #prints standard deviations of all three variances\n",
    "\n",
    "print('The error/standard deviation is', diag12[2]) #Just showing the standard deviation on the slope\n",
    "\n"
   ]
  },
  {
   "cell_type": "code",
   "execution_count": 75,
   "id": "f97e9652-9603-4129-8afd-b4533cf8fc6a",
   "metadata": {},
   "outputs": [
    {
     "data": {
      "image/png": "[encoded data removed]",
      "text/plain": [
       "<Figure size 640x480 with 1 Axes>"
      ]
     },
     "metadata": {},
     "output_type": "display_data"
    }
   ],
   "source": [
    "#plotting to check\n",
    "fig,ax = plt.subplots()\n",
    "mask = df12['Flux (mJy)'] > 3 * df12['eFlux (mJy)']  # apply detection threshold\n",
    "if mask.any():  # proceed only if at least one detection\n",
    "    ax.errorbar(df12['Freq (GHz)'][mask], df12['Flux (mJy)'][mask], yerr=yerr12, fmt='^')\n",
    "    ax.set_xscale('log')\n",
    "    ax.set_xticks([1, 5, 10, 50], labels=['1', '5', '10', '50'])\n",
    "    ax.set_yscale('log')\n",
    "    ax.set_yticks([1, 5, 10, 20, 50], labels=['1', '5', '10', '20', '50'])\n",
    "    ax.annotate('Day 223', xy=(90, 120), xycoords='axes points', size=9, ha='right', va='top', bbox=dict(boxstyle='round', fc='w', ec=\"w\"))\n",
    "    ax.tick_params(axis='both', which='both', direction='in', top=True, right=True)\n",
    "    ax.plot(df12['Freq (GHz)'][mask], fit_model_weights12(df12['Freq (GHz)'][mask]), 'r--')\n",
    "    ax.annotate('${\\u03B1 = 0.342 \\\\pm 0.151}$', xy=(90, 100), xycoords='axes points', size=9, ha='right', va='top', bbox=dict(boxstyle='round', fc='w', ec=\"w\"))\n",
    "\n",
    "plt.show();\n"
   ]
  },
  {
   "cell_type": "markdown",
   "id": "ab16cc82-99bd-47c5-8bcd-7873f45a56c5",
   "metadata": {},
   "source": [
    "## Day 224 (df13)"
   ]
  },
  {
   "cell_type": "code",
   "execution_count": 76,
   "id": "a00ea339-b795-45a9-acae-b7b49ded60df",
   "metadata": {},
   "outputs": [],
   "source": [
    "#(work for anything with 3+ points)\n",
    "mask = df13['Flux (mJy)'] > 3 * df13['eFlux (mJy)']  # apply detection threshold\n",
    "\n",
    "x13 = df13['Freq (GHz)'][mask].values.tolist()\n",
    "y13 = df13['Flux (mJy)'][mask].values.tolist()\n",
    "yerr13 = df13['eFlux (mJy)'][mask].values.tolist()\n"
   ]
  },
  {
   "cell_type": "code",
   "execution_count": 77,
   "id": "d05fef4f-0cf8-4eca-9337-7f151b418b08",
   "metadata": {},
   "outputs": [],
   "source": [
    "yerr13 = error(yerr13, x13, y13)"
   ]
  },
  {
   "cell_type": "code",
   "execution_count": 78,
   "id": "162ff672-1b29-4133-bb01-0e9ac38d0137",
   "metadata": {},
   "outputs": [
    {
     "data": {
      "text/plain": [
       "<PowerLaw1D(amplitude=0.67622958, x_0=18.81222952, alpha=0.28234448)>"
      ]
     },
     "execution_count": 78,
     "metadata": {},
     "output_type": "execute_result"
    }
   ],
   "source": [
    "PL13 =  PowerLaw1D(amplitude = y13[0], x_0= x13[0], alpha= .3) \n",
    "\n",
    "#Initialize fitters\n",
    "#setting calc_uncertainties=True to output errors on measurement \n",
    "\n",
    "fit13 = fitting.LevMarLSQFitter(calc_uncertainties=True)\n",
    "\n",
    "#Fit the data w/o weights\n",
    "fit_model13 = fit13(PL13, x13, y13)\n",
    "\n",
    "\n",
    "#weight is 1/error^2\n",
    "y_weight13 = 1/ (np.power(yerr13, 2))  \n",
    "\n",
    "# fit the data using the uncertainties as weights\n",
    "fit_model_weights13 = fit13(PL13, x13, y13, weights=y_weight13)\n",
    "\n",
    "fit_model_weights13\n"
   ]
  },
  {
   "cell_type": "code",
   "execution_count": 79,
   "id": "cd500ebe-b417-439f-a74a-a5b4d6cccdf3",
   "metadata": {},
   "outputs": [
    {
     "data": {
      "text/plain": [
       "{'nfev': 12,\n",
       " 'fvec': array([ 0.83141556, -2.88639415,  6.77505385, -5.98329706]),\n",
       " 'fjac': array([[-4.12690649e+02,  5.05536183e+01, -4.19308829e+00,\n",
       "          4.77036146e-01],\n",
       "        [ 5.05536183e+01, -1.07668115e+02, -4.11015703e-16,\n",
       "         -7.49175148e-01],\n",
       "        [-4.19308829e+00, -6.15750590e-16,  1.23619028e-16,\n",
       "          4.30668569e-01]]),\n",
       " 'ipvt': array([1, 3, 2], dtype=int32),\n",
       " 'qtf': array([ 9.06906277e-04, -4.13562251e-09, -7.35068476e-01]),\n",
       " 'message': 'Both actual and predicted relative reductions in the sum of squares\\n  are at most 0.000000',\n",
       " 'ierr': 1,\n",
       " 'param_jac': None,\n",
       " 'param_cov': array([[ 6.75535400e+27, -6.64873056e+29,  3.80238825e+12],\n",
       "        [-6.64873056e+29,  6.54379001e+31, -3.74237308e+14],\n",
       "        [ 3.80238825e+12, -3.74237308e+14,  2.22651473e-03]]),\n",
       " 'njev': 5,\n",
       " 'cov_x': array([[ 6.75535400e+27, -6.64873056e+29,  3.80238825e+12],\n",
       "        [-6.64873056e+29,  6.54379001e+31, -3.74237308e+14],\n",
       "        [ 3.80238825e+12, -3.74237308e+14,  2.22651473e-03]])}"
      ]
     },
     "execution_count": 79,
     "metadata": {},
     "output_type": "execute_result"
    }
   ],
   "source": [
    "fit13.fit_info"
   ]
  },
  {
   "cell_type": "code",
   "execution_count": 80,
   "id": "fc48a5ab-ed63-4e5e-92c8-b643d7f2ccec",
   "metadata": {},
   "outputs": [
    {
     "name": "stdout",
     "output_type": "stream",
     "text": [
      "The error/standard deviation is 0.2242261544475407\n"
     ]
    }
   ],
   "source": [
    "#taking fvec\n",
    "fvec13 = np.array([ 0.83141556, -2.88639415,  6.77505385, -5.98329706])\n",
    "var13 = np.var(fvec13)\n",
    "\n",
    "#taking cov_x\n",
    "cov_x13 = np.array([[ 6.75535400e+27, -6.64873056e+29,  3.80238825e+12],\n",
    "        [-6.64873056e+29,  6.54379001e+31, -3.74237308e+14],\n",
    "        [ 3.80238825e+12, -3.74237308e+14,  2.22651473e-03]])\n",
    "\n",
    "def stand(cov):\n",
    "    diag = np.diagonal(cov)\n",
    "    sd1 = np.sqrt(diag[0])\n",
    "    sd2 = np.sqrt(diag[1])\n",
    "    sd3 = np.sqrt(diag[2])\n",
    "    return(sd1,sd2,sd3)\n",
    "\n",
    "diag13 = stand(cov_x13*var13) \n",
    "\n",
    "#The last diagonal element corresponds to alpha\n",
    "#So here we are calculating the standard deviation on the slope\n",
    "\n",
    "#print(diag)  #prints standard deviations of all three variances\n",
    "\n",
    "print('The error/standard deviation is', diag13[2]) #Just showing the standard deviation on the slope\n",
    "\n"
   ]
  },
  {
   "cell_type": "code",
   "execution_count": 81,
   "id": "9c23fda4-05d6-4faf-8ad4-805a0843685d",
   "metadata": {},
   "outputs": [
    {
     "data": {
      "image/png": "[encoded data removed]",
      "text/plain": [
       "<Figure size 640x480 with 1 Axes>"
      ]
     },
     "metadata": {},
     "output_type": "display_data"
    }
   ],
   "source": [
    "#plotting to check\n",
    "fig,ax = plt.subplots()\n",
    "mask = df13['Flux (mJy)'] > 3 * df13['eFlux (mJy)']  # apply detection threshold\n",
    "if mask.any():  # proceed only if at least one detection\n",
    "    ax.errorbar(df13['Freq (GHz)'][mask], df13['Flux (mJy)'][mask], yerr=yerr13, fmt='^')\n",
    "    ax.set_xscale('log')\n",
    "    ax.set_xticks([1, 5, 10, 50], labels=['1', '5', '10', '50'])\n",
    "    ax.set_yscale('log')\n",
    "    ax.set_yticks([1, 5, 10, 20, 50], labels=['1', '5', '10', '20', '50'])\n",
    "    ax.annotate('Day 224', xy=(90, 120), xycoords='axes points', size=9, ha='right', va='top', bbox=dict(boxstyle='round', fc='w', ec=\"w\"))\n",
    "    ax.tick_params(axis='both', which='both', direction='in', top=True, right=True)\n",
    "    ax.plot(df13['Freq (GHz)'][mask], fit_model_weights13(df13['Freq (GHz)'][mask]), 'r--')\n",
    "    ax.annotate('${\\u03B1 = -0.282 \\\\pm 0.224}$', xy=(90, 100), xycoords='axes points', size=9, ha='right', va='top', bbox=dict(boxstyle='round', fc='w', ec=\"w\"))\n",
    "\n",
    "plt.show();\n"
   ]
  },
  {
   "cell_type": "markdown",
   "id": "2c3a6289-c382-42a1-9331-a9892f0f7063",
   "metadata": {},
   "source": [
    "## Day 256 (df14)"
   ]
  },
  {
   "cell_type": "code",
   "execution_count": 82,
   "id": "9d1e085f-5fb5-4eb2-84ee-3e9448ba936a",
   "metadata": {},
   "outputs": [],
   "source": [
    "#(work for anything with 3+ points)\n",
    "mask = df14['Flux (mJy)'] > 3 * df14['eFlux (mJy)']  # apply detection threshold\n",
    "\n",
    "x14 = df14['Freq (GHz)'][mask].values.tolist()\n",
    "y14 = df14['Flux (mJy)'][mask].values.tolist()\n",
    "yerr14 = df14['eFlux (mJy)'][mask].values.tolist()\n"
   ]
  },
  {
   "cell_type": "code",
   "execution_count": 83,
   "id": "4d8e0327-c1be-440d-a0a1-e7b98f50e592",
   "metadata": {},
   "outputs": [],
   "source": [
    "yerr14 = error(yerr14, x14, y14)"
   ]
  },
  {
   "cell_type": "code",
   "execution_count": 84,
   "id": "5300595f-72b9-4fe5-ae93-ff06b419af87",
   "metadata": {},
   "outputs": [
    {
     "data": {
      "text/plain": [
       "<PowerLaw1D(amplitude=1.26486486, x_0=350.96294628, alpha=-0.19364973)>"
      ]
     },
     "execution_count": 84,
     "metadata": {},
     "output_type": "execute_result"
    }
   ],
   "source": [
    "PL14 =  PowerLaw1D(amplitude = y14[0], x_0= x14[0], alpha= -1.5) \n",
    "\n",
    "#Initialize fitters\n",
    "#setting calc_uncertainties=True to output errors on measurement \n",
    "\n",
    "fit14 = fitting.LevMarLSQFitter(calc_uncertainties=True)\n",
    "\n",
    "#Fit the data w/o weights\n",
    "fit_model14 = fit14(PL14, x14, y14)\n",
    "\n",
    "\n",
    "#weight is 1/error^2\n",
    "y_weight14 = 1/ (np.power(yerr14, 2))  \n",
    "\n",
    "# fit the data using the uncertainties as weights\n",
    "fit_model_weights14 = fit14(PL14, x14, y14, weights=y_weight14)\n",
    "\n",
    "fit_model_weights14\n"
   ]
  },
  {
   "cell_type": "code",
   "execution_count": 85,
   "id": "fd0dcce6-29b4-4ea6-acbf-b9871857777a",
   "metadata": {},
   "outputs": [
    {
     "data": {
      "text/plain": [
       "{'nfev': 46,\n",
       " 'fvec': array([ 7.25140642, -3.61082977,  3.01930498]),\n",
       " 'fjac': array([[-3.00289583e+03, -5.76564025e+02,  4.02538489e-01],\n",
       "        [-5.76564025e+02,  2.77921203e+01, -1.94035660e-02],\n",
       "        [ 4.02538489e-01, -1.94035660e-02, -4.51028104e-17]]),\n",
       " 'ipvt': array([3, 1, 2], dtype=int32),\n",
       " 'qtf': array([-3.33071257e-04, -2.93146633e-05,  8.64506734e+00]),\n",
       " 'message': 'Both actual and predicted relative reductions in the sum of squares\\n  are at most 0.000000',\n",
       " 'ierr': 1,\n",
       " 'param_jac': None,\n",
       " 'param_cov': None,\n",
       " 'njev': 29,\n",
       " 'cov_x': array([[2.39614191e+26, 3.43204255e+29, 2.70443896e+10],\n",
       "        [3.43204255e+29, 4.91578401e+32, 3.87362266e+13],\n",
       "        [2.70443896e+10, 3.87362266e+13, 5.08910744e-05]])}"
      ]
     },
     "execution_count": 85,
     "metadata": {},
     "output_type": "execute_result"
    }
   ],
   "source": [
    "fit14.fit_info"
   ]
  },
  {
   "cell_type": "code",
   "execution_count": 86,
   "id": "174eb996-2f00-4699-b95a-26d5611a5bcb",
   "metadata": {},
   "outputs": [
    {
     "name": "stdout",
     "output_type": "stream",
     "text": [
      "The error/standard deviation is 0.03189068773160555\n"
     ]
    }
   ],
   "source": [
    "#taking fvec\n",
    "fvec14 = np.array([ 7.25140642, -3.61082977,  3.01930498])\n",
    "var14 = np.var(fvec14)\n",
    "\n",
    "#taking cov_x\n",
    "cov_x14 = np.array([[2.39614191e+26, 3.43204255e+29, 2.70443896e+10],\n",
    "        [3.43204255e+29, 4.91578401e+32, 3.87362266e+13],\n",
    "        [2.70443896e+10, 3.87362266e+13, 5.08910744e-05]])\n",
    "\n",
    "def stand(cov):\n",
    "    diag = np.diagonal(cov)\n",
    "    sd1 = np.sqrt(diag[0])\n",
    "    sd2 = np.sqrt(diag[1])\n",
    "    sd3 = np.sqrt(diag[2])\n",
    "    return(sd1,sd2,sd3)\n",
    "\n",
    "diag14 = stand(cov_x14*var14) \n",
    "\n",
    "#The last diagonal element corresponds to alpha\n",
    "#So here we are calculating the standard deviation on the slope\n",
    "\n",
    "#print(diag)  #prints standard deviations of all three variances\n",
    "\n",
    "print('The error/standard deviation is', diag14[2]) #Just showing the standard deviation on the slope\n",
    "\n"
   ]
  },
  {
   "cell_type": "code",
   "execution_count": 87,
   "id": "2376404b-5aa0-4cad-8ee3-baff01454b55",
   "metadata": {},
   "outputs": [
    {
     "data": {
      "image/png": "[encoded data removed]",
      "text/plain": [
       "<Figure size 640x480 with 1 Axes>"
      ]
     },
     "metadata": {},
     "output_type": "display_data"
    }
   ],
   "source": [
    "#plotting to check\n",
    "fig,ax = plt.subplots()\n",
    "mask = df14['Flux (mJy)'] > 3 * df14['eFlux (mJy)']  # apply detection threshold\n",
    "if mask.any():  # proceed only if at least one detection\n",
    "    ax.errorbar(df14['Freq (GHz)'][mask], df14['Flux (mJy)'][mask], yerr=yerr14, fmt='^')\n",
    "    ax.set_xscale('log')\n",
    "    ax.set_xticks([1, 5, 10, 50], labels=['1', '5', '10', '50'])\n",
    "    ax.set_yscale('log')\n",
    "    ax.set_yticks([1, 5, 10, 20, 50], labels=['1', '5', '10', '20', '50'])\n",
    "    ax.annotate('Day 256', xy=(90, 120), xycoords='axes points', size=9, ha='right', va='top', bbox=dict(boxstyle='round', fc='w', ec=\"w\"))\n",
    "    ax.tick_params(axis='both', which='both', direction='in', top=True, right=True)\n",
    "    ax.plot(df14['Freq (GHz)'][mask], fit_model_weights14(df14['Freq (GHz)'][mask]), 'r--')\n",
    "    ax.annotate('${\\u03B1 = 0.194 \\\\pm 0.032}$', xy=(90, 100), xycoords='axes points', size=9, ha='right', va='top', bbox=dict(boxstyle='round', fc='w', ec=\"w\"))\n",
    "\n",
    "plt.show();\n"
   ]
  },
  {
   "cell_type": "markdown",
   "id": "d4a5858d-3d65-49b6-ac46-2928c462467f",
   "metadata": {},
   "source": [
    "## Day 259 (df15)"
   ]
  },
  {
   "cell_type": "code",
   "execution_count": 88,
   "id": "2ba297dd-975e-4805-874c-93727a4b7c4d",
   "metadata": {},
   "outputs": [],
   "source": [
    "#(work for anything with 3+ points)\n",
    "mask = df15['Flux (mJy)'] > 3 * df15['eFlux (mJy)']  # apply detection threshold\n",
    "\n",
    "x15 = df15['Freq (GHz)'][mask].values.tolist()\n",
    "y15 = df15['Flux (mJy)'][mask].values.tolist()\n",
    "yerr15 = df15['eFlux (mJy)'][mask].values.tolist()\n"
   ]
  },
  {
   "cell_type": "code",
   "execution_count": 89,
   "id": "62c47a5c-930e-4927-99b7-0a427daecf81",
   "metadata": {},
   "outputs": [],
   "source": [
    "yerr15 = error(yerr15, x15, y15)"
   ]
  },
  {
   "cell_type": "code",
   "execution_count": 90,
   "id": "f835d767-7c87-4d84-8e7e-3efc1395fc18",
   "metadata": {},
   "outputs": [
    {
     "data": {
      "text/plain": [
       "<PowerLaw1D(amplitude=0.53069618, x_0=13.94094419, alpha=0.27339853)>"
      ]
     },
     "execution_count": 90,
     "metadata": {},
     "output_type": "execute_result"
    }
   ],
   "source": [
    "PL15 =  PowerLaw1D(amplitude = y15[0], x_0= x15[0], alpha= -.5) \n",
    "\n",
    "#Initialize fitters\n",
    "#setting calc_uncertainties=True to output errors on measurement \n",
    "\n",
    "fit15 = fitting.LevMarLSQFitter(calc_uncertainties=True)\n",
    "\n",
    "#Fit the data w/o weights\n",
    "fit_model15 = fit15(PL15, x15, y15)\n",
    "\n",
    "\n",
    "#weight is 1/error^2\n",
    "y_weight15 = 1/ (np.power(yerr15, 2))  \n",
    "\n",
    "# fit the data using the uncertainties as weights\n",
    "fit_model_weights15 = fit15(PL15, x15, y15, weights=y_weight15)\n",
    "\n",
    "fit_model_weights15\n"
   ]
  },
  {
   "cell_type": "code",
   "execution_count": 91,
   "id": "dd7c9c98-4191-4b23-b739-eb964512c2d9",
   "metadata": {},
   "outputs": [
    {
     "data": {
      "text/plain": [
       "{'nfev': 13,\n",
       " 'fvec': array([ 5.05561275, -7.55752418,  2.52191158, -0.51796403]),\n",
       " 'fjac': array([[-6.48734582e+02,  1.38903453e+02, -6.74492455e+00,\n",
       "          4.49177375e-01],\n",
       "        [ 1.38903453e+02, -1.35186208e+02, -6.32250819e-16,\n",
       "         -7.66813411e-01],\n",
       "        [-6.74492455e+00, -9.03093565e-16,  4.12914211e-16,\n",
       "         -4.43605034e-01]]),\n",
       " 'ipvt': array([1, 3, 2], dtype=int32),\n",
       " 'qtf': array([ 9.42593930e-04, -4.19251840e-07,  2.12354971e-01]),\n",
       " 'message': 'Both actual and predicted relative reductions in the sum of squares\\n  are at most 0.000000',\n",
       " 'ierr': 1,\n",
       " 'param_jac': None,\n",
       " 'param_cov': array([[ 6.34016316e+26, -6.09804167e+28,  4.07371600e+11],\n",
       "        [-6.09804167e+28,  5.86516644e+30, -3.91814679e+13],\n",
       "        [ 4.07371600e+11, -3.91814679e+13,  3.16465241e-04]]),\n",
       " 'njev': 7,\n",
       " 'cov_x': array([[ 6.34016316e+26, -6.09804167e+28,  4.07371600e+11],\n",
       "        [-6.09804167e+28,  5.86516644e+30, -3.91814679e+13],\n",
       "        [ 4.07371600e+11, -3.91814679e+13,  3.16465241e-04]])}"
      ]
     },
     "execution_count": 91,
     "metadata": {},
     "output_type": "execute_result"
    }
   ],
   "source": [
    "fit15.fit_info"
   ]
  },
  {
   "cell_type": "code",
   "execution_count": 92,
   "id": "edfa775c-59ac-4038-b5ab-80f6cc2ffb4d",
   "metadata": {},
   "outputs": [
    {
     "name": "stdout",
     "output_type": "stream",
     "text": [
      "The error/standard deviation is 0.08402663853255936\n"
     ]
    }
   ],
   "source": [
    "#taking fvec\n",
    "fvec15 = np.array([ 5.05561275, -7.55752418,  2.52191158, -0.51796403])\n",
    "var15 = np.var(fvec15)\n",
    "\n",
    "#taking cov_x\n",
    "cov_x15 = np.array([[ 6.34016316e+26, -6.09804167e+28,  4.07371600e+11],\n",
    "        [-6.09804167e+28,  5.86516644e+30, -3.91814679e+13],\n",
    "        [ 4.07371600e+11, -3.91814679e+13,  3.16465241e-04]])\n",
    "\n",
    "def stand(cov):\n",
    "    diag = np.diagonal(cov)\n",
    "    sd1 = np.sqrt(diag[0])\n",
    "    sd2 = np.sqrt(diag[1])\n",
    "    sd3 = np.sqrt(diag[2])\n",
    "    return(sd1,sd2,sd3)\n",
    "\n",
    "diag15 = stand(cov_x15*var15) \n",
    "\n",
    "#The last diagonal element corresponds to alpha\n",
    "#So here we are calculating the standard deviation on the slope\n",
    "\n",
    "#print(diag)  #prints standard deviations of all three variances\n",
    "\n",
    "print('The error/standard deviation is', diag15[2]) #Just showing the standard deviation on the slope\n",
    "\n"
   ]
  },
  {
   "cell_type": "code",
   "execution_count": 93,
   "id": "4a950a97-c336-40fd-a4e3-1b53adebf647",
   "metadata": {},
   "outputs": [
    {
     "data": {
      "image/png": "[encoded data removed]",
      "text/plain": [
       "<Figure size 640x480 with 1 Axes>"
      ]
     },
     "metadata": {},
     "output_type": "display_data"
    }
   ],
   "source": [
    "#plotting to check\n",
    "fig,ax = plt.subplots()\n",
    "mask = df15['Flux (mJy)'] > 3 * df15['eFlux (mJy)']  # apply detection threshold\n",
    "if mask.any():  # proceed only if at least one detection\n",
    "    ax.errorbar(df15['Freq (GHz)'][mask], df15['Flux (mJy)'][mask], yerr=yerr15, fmt='^')\n",
    "    ax.set_xscale('log')\n",
    "    ax.set_xticks([1, 5, 10, 50], labels=['1', '5', '10', '50'])\n",
    "    ax.set_yscale('log')\n",
    "    ax.set_yticks([1, 5, 10, 20, 50], labels=['1', '5', '10', '20', '50'])\n",
    "    ax.annotate('Day 259', xy=(90, 120), xycoords='axes points', size=9, ha='right', va='top', bbox=dict(boxstyle='round', fc='w', ec=\"w\"))\n",
    "    ax.tick_params(axis='both', which='both', direction='in', top=True, right=True)\n",
    "    ax.plot(df15['Freq (GHz)'][mask], fit_model_weights15(df15['Freq (GHz)'][mask]), 'r--')\n",
    "    ax.annotate('${\\u03B1 = -0.273 \\\\pm 0.084}$', xy=(90, 100), xycoords='axes points', size=9, ha='right', va='top', bbox=dict(boxstyle='round', fc='w', ec=\"w\"))\n",
    "\n",
    "plt.show();\n"
   ]
  },
  {
   "cell_type": "markdown",
   "id": "920e6f8a-b376-4615-8a6c-41c09501b87b",
   "metadata": {},
   "source": [
    "## Day 282 (df16)"
   ]
  },
  {
   "cell_type": "code",
   "execution_count": 94,
   "id": "6b2d1e85-826e-42c2-8049-2d5c2d52f50d",
   "metadata": {},
   "outputs": [],
   "source": [
    "#(work for anything with 3+ points)\n",
    "mask = df16['Flux (mJy)'] > 3 * df16['eFlux (mJy)']  # apply detection threshold\n",
    "\n",
    "x16 = df16['Freq (GHz)'][mask].values.tolist()\n",
    "y16 = df16['Flux (mJy)'][mask].values.tolist()\n",
    "yerr16 = df16['eFlux (mJy)'][mask].values.tolist()\n"
   ]
  },
  {
   "cell_type": "code",
   "execution_count": 95,
   "id": "9fe19d2c-e8a5-418a-92be-21171fb8486b",
   "metadata": {},
   "outputs": [],
   "source": [
    "yerr16 = error(yerr16, x16, y16)"
   ]
  },
  {
   "cell_type": "code",
   "execution_count": 96,
   "id": "df320f9e-947a-41e7-bdca-330895ba96a2",
   "metadata": {},
   "outputs": [
    {
     "data": {
      "text/plain": [
       "<PowerLaw1D(amplitude=0.51258501, x_0=1.99264511, alpha=0.07633797)>"
      ]
     },
     "execution_count": 96,
     "metadata": {},
     "output_type": "execute_result"
    }
   ],
   "source": [
    "PL16 =  PowerLaw1D(amplitude = y16[0], x_0= x16[0], alpha= 2) \n",
    "\n",
    "#Initialize fitters\n",
    "#setting calc_uncertainties=True to output errors on measurement \n",
    "\n",
    "fit16 = fitting.LevMarLSQFitter(calc_uncertainties=True)\n",
    "\n",
    "#Fit the data w/o weights\n",
    "fit_model16 = fit16(PL16, x16, y16)\n",
    "\n",
    "\n",
    "#weight is 1/error^2\n",
    "y_weight16 = 1/ (np.power(yerr16, 2))  \n",
    "\n",
    "# fit the data using the uncertainties as weights\n",
    "fit_model_weights16 = fit16(PL16, x16, y16, weights=y_weight16)\n",
    "\n",
    "fit_model_weights16\n"
   ]
  },
  {
   "cell_type": "code",
   "execution_count": 97,
   "id": "9d912b8c-b67a-4e36-bd6a-c9afa7e70434",
   "metadata": {},
   "outputs": [
    {
     "data": {
      "text/plain": [
       "{'nfev': 18,\n",
       " 'fvec': array([ 24.09984862, -18.4987269 ,  12.7845734 ]),\n",
       " 'fjac': array([[-1.81951781e+03,  1.01165514e+03, -3.57299861e+01],\n",
       "        [ 1.01165514e+03, -2.10392132e+02,  2.10432628e-14],\n",
       "        [-3.57299861e+01, -3.16809985e-16, -3.53855986e-15]]),\n",
       " 'ipvt': array([1, 3, 2], dtype=int32),\n",
       " 'qtf': array([8.91622053e-04, 5.63217094e-04, 3.29613549e+01]),\n",
       " 'message': 'Both actual and predicted relative reductions in the sum of squares\\n  are at most 0.000000',\n",
       " 'ierr': 1,\n",
       " 'param_jac': None,\n",
       " 'param_cov': None,\n",
       " 'njev': 11,\n",
       " 'cov_x': array([[ 3.07964020e+25, -1.56827942e+27,  2.36152642e+09],\n",
       "        [-1.56827942e+27,  7.98632363e+28, -1.20258635e+11],\n",
       "        [ 2.36152642e+09, -1.20258635e+11,  2.27723752e-05]])}"
      ]
     },
     "execution_count": 97,
     "metadata": {},
     "output_type": "execute_result"
    }
   ],
   "source": [
    "fit16.fit_info"
   ]
  },
  {
   "cell_type": "code",
   "execution_count": 98,
   "id": "25213939-548e-466a-95d1-1e841a237e07",
   "metadata": {},
   "outputs": [
    {
     "name": "stdout",
     "output_type": "stream",
     "text": [
      "The error/standard deviation is 0.0859750426332966\n"
     ]
    }
   ],
   "source": [
    "#taking fvec\n",
    "fvec16 = np.array([ 24.09984862, -18.4987269 ,  12.7845734 ])\n",
    "var16 = np.var(fvec16)\n",
    "\n",
    "#taking cov_x\n",
    "cov_x16 = np.array([[ 3.07964020e+25, -1.56827942e+27,  2.36152642e+09],\n",
    "        [-1.56827942e+27,  7.98632363e+28, -1.20258635e+11],\n",
    "        [ 2.36152642e+09, -1.20258635e+11,  2.27723752e-05]])\n",
    "\n",
    "def stand(cov):\n",
    "    diag = np.diagonal(cov)\n",
    "    sd1 = np.sqrt(diag[0])\n",
    "    sd2 = np.sqrt(diag[1])\n",
    "    sd3 = np.sqrt(diag[2])\n",
    "    return(sd1,sd2,sd3)\n",
    "\n",
    "diag16 = stand(cov_x16*var16) \n",
    "\n",
    "#The last diagonal element corresponds to alpha\n",
    "#So here we are calculating the standard deviation on the slope\n",
    "\n",
    "#print(diag)  #prints standard deviations of all three variances\n",
    "\n",
    "print('The error/standard deviation is', diag16[2]) #Just showing the standard deviation on the slope\n",
    "\n"
   ]
  },
  {
   "cell_type": "code",
   "execution_count": 99,
   "id": "e03ecf13-70bb-4b12-946e-8936b4dfa48b",
   "metadata": {},
   "outputs": [
    {
     "data": {
      "image/png": "[encoded data removed]",
      "text/plain": [
       "<Figure size 640x480 with 1 Axes>"
      ]
     },
     "metadata": {},
     "output_type": "display_data"
    }
   ],
   "source": [
    "#plotting to check\n",
    "fig,ax = plt.subplots()\n",
    "mask = df16['Flux (mJy)'] > 3 * df16['eFlux (mJy)']  # apply detection threshold\n",
    "if mask.any():  # proceed only if at least one detection\n",
    "    ax.errorbar(df16['Freq (GHz)'][mask], df16['Flux (mJy)'][mask], yerr=yerr16, fmt='^')\n",
    "    ax.set_xscale('log')\n",
    "    ax.set_xticks([1, 5, 10, 50], labels=['1', '5', '10', '50'])\n",
    "    ax.set_yscale('log')\n",
    "    ax.set_yticks([1, 5, 10, 20, 50], labels=['1', '5', '10', '20', '50'])\n",
    "    ax.annotate('Day 282', xy=(90, 120), xycoords='axes points', size=9, ha='right', va='top', bbox=dict(boxstyle='round', fc='w', ec=\"w\"))\n",
    "    ax.tick_params(axis='both', which='both', direction='in', top=True, right=True)\n",
    "    ax.plot(df16['Freq (GHz)'][mask], fit_model_weights16(df16['Freq (GHz)'][mask]), 'r--')\n",
    "    ax.annotate('${\\u03B1 = -0.076 \\\\pm 0.086}$', xy=(90, 100), xycoords='axes points', size=9, ha='right', va='top', bbox=dict(boxstyle='round', fc='w', ec=\"w\"))\n",
    "\n",
    "plt.show();\n"
   ]
  },
  {
   "cell_type": "markdown",
   "id": "8b71f01f-0f4d-4a95-bac6-dea98aa9e722",
   "metadata": {},
   "source": [
    "## Day 390 (df17)"
   ]
  },
  {
   "cell_type": "code",
   "execution_count": 100,
   "id": "9d5b0d02-f0ed-48ed-bfd8-ade7173d9292",
   "metadata": {},
   "outputs": [],
   "source": [
    "#(work for anything with 3+ points)\n",
    "mask = df17['Flux (mJy)'] > 3 * df17['eFlux (mJy)']  # apply detection threshold\n",
    "\n",
    "x17 = df17['Freq (GHz)'][mask].values.tolist()\n",
    "y17 = df17['Flux (mJy)'][mask].values.tolist()\n",
    "yerr17 = df17['eFlux (mJy)'][mask].values.tolist()\n"
   ]
  },
  {
   "cell_type": "code",
   "execution_count": 101,
   "id": "4a9b5101-ac24-4276-aea9-09a6be0967c0",
   "metadata": {},
   "outputs": [],
   "source": [
    "yerr17 = error(yerr17, x17, y17)"
   ]
  },
  {
   "cell_type": "code",
   "execution_count": 102,
   "id": "2a60053a-6adf-4e01-b8d1-d657349cb59d",
   "metadata": {},
   "outputs": [
    {
     "data": {
      "text/plain": [
       "<PowerLaw1D(amplitude=0.45025305, x_0=345.92933588, alpha=-0.24415424)>"
      ]
     },
     "execution_count": 102,
     "metadata": {},
     "output_type": "execute_result"
    }
   ],
   "source": [
    "PL17 =  PowerLaw1D(amplitude = y17[0], x_0= x17[0], alpha= -2.5) \n",
    "\n",
    "#Initialize fitters\n",
    "#setting calc_uncertainties=True to output errors on measurement \n",
    "\n",
    "fit17 = fitting.LevMarLSQFitter(calc_uncertainties=True)\n",
    "\n",
    "#Fit the data w/o weights\n",
    "fit_model17 = fit17(PL17, x17, y17)\n",
    "\n",
    "\n",
    "#weight is 1/error^2\n",
    "y_weight17 = 1/ (np.power(yerr17, 2))  \n",
    "\n",
    "# fit the data using the uncertainties as weights\n",
    "fit_model_weights17 = fit17(PL17, x17, y17, weights=y_weight17)\n",
    "\n",
    "fit_model_weights17\n"
   ]
  },
  {
   "cell_type": "code",
   "execution_count": 103,
   "id": "827c0bfb-50f9-4456-84a1-4c29b5a8e945",
   "metadata": {},
   "outputs": [
    {
     "data": {
      "text/plain": [
       "{'nfev': 60,\n",
       " 'fvec': array([-26.13107624,  11.15470532,  -8.03521715]),\n",
       " 'fjac': array([[-3.48241250e+03, -1.89358602e+03,  5.99901127e-01],\n",
       "        [-1.89358602e+03,  8.78598887e+01, -2.78346195e-02],\n",
       "        [ 5.99901127e-01, -2.78346195e-02, -2.08166817e-17]]),\n",
       " 'ipvt': array([3, 1, 2], dtype=int32),\n",
       " 'qtf': array([ 3.14633849e-04,  1.81463524e-03, -2.95266881e+01]),\n",
       " 'message': 'Both actual and predicted relative reductions in the sum of squares\\n  are at most 0.000000',\n",
       " 'ierr': 1,\n",
       " 'param_jac': None,\n",
       " 'param_cov': None,\n",
       " 'njev': 42,\n",
       " 'cov_x': array([[2.31614783e+26, 7.31091334e+29, 6.07247806e+11],\n",
       "        [7.31091334e+29, 2.30768749e+33, 1.91677579e+15],\n",
       "        [6.07247806e+11, 1.91677579e+15, 1.63046781e-03]])}"
      ]
     },
     "execution_count": 103,
     "metadata": {},
     "output_type": "execute_result"
    }
   ],
   "source": [
    "fit17.fit_info"
   ]
  },
  {
   "cell_type": "code",
   "execution_count": 104,
   "id": "9a748324-18bc-4ae6-aef0-2942f43d22c8",
   "metadata": {},
   "outputs": [
    {
     "name": "stdout",
     "output_type": "stream",
     "text": [
      "The error/standard deviation is 0.6147323268193591\n"
     ]
    }
   ],
   "source": [
    "#taking fvec\n",
    "fvec17 = np.array([-26.13107624,  11.15470532,  -8.03521715])\n",
    "var17 = np.var(fvec17)\n",
    "\n",
    "#taking cov_x\n",
    "cov_x17 = np.array([[2.31614783e+26, 7.31091334e+29, 6.07247806e+11],\n",
    "        [7.31091334e+29, 2.30768749e+33, 1.91677579e+15],\n",
    "        [6.07247806e+11, 1.91677579e+15, 1.63046781e-03]])\n",
    "\n",
    "def stand(cov):\n",
    "    diag = np.diagonal(cov)\n",
    "    sd1 = np.sqrt(diag[0])\n",
    "    sd2 = np.sqrt(diag[1])\n",
    "    sd3 = np.sqrt(diag[2])\n",
    "    return(sd1,sd2,sd3)\n",
    "\n",
    "diag17 = stand(cov_x17*var17) \n",
    "\n",
    "#The last diagonal element corresponds to alpha\n",
    "#So here we are calculating the standard deviation on the slope\n",
    "\n",
    "#print(diag)  #prints standard deviations of all three variances\n",
    "\n",
    "print('The error/standard deviation is', diag17[2]) #Just showing the standard deviation on the slope\n",
    "\n"
   ]
  },
  {
   "cell_type": "code",
   "execution_count": 105,
   "id": "9ef17b36-ea33-4772-9d9f-6d2a2a87fee8",
   "metadata": {},
   "outputs": [
    {
     "data": {
      "image/png": "[encoded data removed]",
      "text/plain": [
       "<Figure size 640x480 with 1 Axes>"
      ]
     },
     "metadata": {},
     "output_type": "display_data"
    }
   ],
   "source": [
    "#plotting to check\n",
    "fig,ax = plt.subplots()\n",
    "mask = df17['Flux (mJy)'] > 3 * df17['eFlux (mJy)']  # apply detection threshold\n",
    "if mask.any():  # proceed only if at least one detection\n",
    "    ax.errorbar(df17['Freq (GHz)'][mask], df17['Flux (mJy)'][mask], yerr=yerr17, fmt='^')\n",
    "    ax.set_xscale('log')\n",
    "    ax.set_xticks([1, 5, 10, 50], labels=['1', '5', '10', '50'])\n",
    "    ax.set_yscale('log')\n",
    "    ax.set_yticks([1, 5, 10, 20, 50], labels=['1', '5', '10', '20', '50'])\n",
    "    ax.annotate('Day 390', xy=(90, 120), xycoords='axes points', size=9, ha='right', va='top', bbox=dict(boxstyle='round', fc='w', ec=\"w\"))\n",
    "    ax.tick_params(axis='both', which='both', direction='in', top=True, right=True)\n",
    "    ax.plot(df17['Freq (GHz)'][mask], fit_model_weights17(df17['Freq (GHz)'][mask]), 'r--')\n",
    "    ax.annotate('${\\u03B1 = 0.244 \\\\pm 0.615}$', xy=(90, 100), xycoords='axes points', size=9, ha='right', va='top', bbox=dict(boxstyle='round', fc='w', ec=\"w\"))\n",
    "\n",
    "plt.show();\n"
   ]
  },
  {
   "cell_type": "markdown",
   "id": "ea0a0e8a-5e5d-4151-bfbd-2abc24a9cff6",
   "metadata": {},
   "source": [
    "## Day 391 (df18)"
   ]
  },
  {
   "cell_type": "code",
   "execution_count": 106,
   "id": "9c9e7bcd-f738-46fd-b6bc-e165b363bf8b",
   "metadata": {},
   "outputs": [],
   "source": [
    "#(work for anything with 3+ points)\n",
    "mask = df18['Flux (mJy)'] > 3 * df18['eFlux (mJy)']  # apply detection threshold\n",
    "\n",
    "x18 = df18['Freq (GHz)'][mask].values.tolist()\n",
    "y18 = df18['Flux (mJy)'][mask].values.tolist()\n",
    "yerr18 = df18['eFlux (mJy)'][mask].values.tolist()\n"
   ]
  },
  {
   "cell_type": "code",
   "execution_count": 107,
   "id": "892c2a67-3204-4224-8678-9dc93a3965be",
   "metadata": {},
   "outputs": [],
   "source": [
    "yerr18 = error(yerr18, x18, y18)"
   ]
  },
  {
   "cell_type": "code",
   "execution_count": 108,
   "id": "8166736a-99b1-4a0e-8ea3-e9b595589d70",
   "metadata": {},
   "outputs": [
    {
     "data": {
      "text/plain": [
       "<PowerLaw1D(amplitude=0.13540425, x_0=13.74647606, alpha=0.11155441)>"
      ]
     },
     "execution_count": 108,
     "metadata": {},
     "output_type": "execute_result"
    }
   ],
   "source": [
    "PL18 =  PowerLaw1D(amplitude = y18[0], x_0= x18[0], alpha= -.25) \n",
    "\n",
    "#Initialize fitters\n",
    "#setting calc_uncertainties=True to output errors on measurement \n",
    "\n",
    "fit18 = fitting.LevMarLSQFitter(calc_uncertainties=True)\n",
    "\n",
    "#Fit the data w/o weights\n",
    "fit_model18 = fit18(PL18, x18, y18)\n",
    "\n",
    "\n",
    "#weight is 1/error^2\n",
    "y_weight18 = 1/ (np.power(yerr18, 2))  \n",
    "\n",
    "# fit the data using the uncertainties as weights\n",
    "fit_model_weights18 = fit18(PL18, x18, y18, weights=y_weight18)\n",
    "\n",
    "fit_model_weights18\n"
   ]
  },
  {
   "cell_type": "code",
   "execution_count": 109,
   "id": "0f9ff4c8-976a-46f3-bd01-1128c3c076a9",
   "metadata": {},
   "outputs": [
    {
     "data": {
      "text/plain": [
       "{'nfev': 9,\n",
       " 'fvec': array([-2.46231995,  4.38968663, -1.06602685]),\n",
       " 'fjac': array([[-1.10315096e+03,  3.85805623e+01, -1.21092161e+00],\n",
       "        [ 3.85805623e+01,  4.94847402e+01, -8.80156663e-15],\n",
       "        [-1.21092161e+00, -1.22759062e-16,  2.15777596e-16]]),\n",
       " 'ipvt': array([1, 3, 2], dtype=int32),\n",
       " 'qtf': array([ 2.19433161e-04, -2.72061540e-05,  5.14478197e+00]),\n",
       " 'message': 'Both actual and predicted relative reductions in the sum of squares\\n  are at most 0.000000',\n",
       " 'ierr': 1,\n",
       " 'param_jac': None,\n",
       " 'param_cov': None,\n",
       " 'njev': 5,\n",
       " 'cov_x': array([[ 2.58791177e+25, -2.35759055e+28, -5.84858287e+10],\n",
       "        [-2.35759055e+28,  2.14776766e+31,  5.32806562e+13],\n",
       "        [-5.84858287e+10,  5.32806562e+13,  5.40549131e-04]])}"
      ]
     },
     "execution_count": 109,
     "metadata": {},
     "output_type": "execute_result"
    }
   ],
   "source": [
    "fit18.fit_info"
   ]
  },
  {
   "cell_type": "code",
   "execution_count": 110,
   "id": "455cfe91-99fc-4e31-aa35-02caba965e22",
   "metadata": {},
   "outputs": [
    {
     "name": "stdout",
     "output_type": "stream",
     "text": [
      "The error/standard deviation is 0.06873620564078589\n"
     ]
    }
   ],
   "source": [
    "#taking fvec\n",
    "fvec18 = np.array([-2.46231995,  4.38968663, -1.06602685])\n",
    "var18 = np.var(fvec18)\n",
    "\n",
    "#taking cov_x\n",
    "cov_x18 = np.array([[ 2.58791177e+25, -2.35759055e+28, -5.84858287e+10],\n",
    "        [-2.35759055e+28,  2.14776766e+31,  5.32806562e+13],\n",
    "        [-5.84858287e+10,  5.32806562e+13,  5.40549131e-04]])\n",
    "\n",
    "def stand(cov):\n",
    "    diag = np.diagonal(cov)\n",
    "    sd1 = np.sqrt(diag[0])\n",
    "    sd2 = np.sqrt(diag[1])\n",
    "    sd3 = np.sqrt(diag[2])\n",
    "    return(sd1,sd2,sd3)\n",
    "\n",
    "diag18 = stand(cov_x18*var18) \n",
    "\n",
    "#The last diagonal element corresponds to alpha\n",
    "#So here we are calculating the standard deviation on the slope\n",
    "\n",
    "#print(diag)  #prints standard deviations of all three variances\n",
    "\n",
    "print('The error/standard deviation is', diag18[2]) #Just showing the standard deviation on the slope\n",
    "\n"
   ]
  },
  {
   "cell_type": "code",
   "execution_count": 111,
   "id": "36444a47-8686-47a2-a4b2-8449f64c47c8",
   "metadata": {},
   "outputs": [
    {
     "data": {
      "image/png": "[encoded data removed]",
      "text/plain": [
       "<Figure size 640x480 with 1 Axes>"
      ]
     },
     "metadata": {},
     "output_type": "display_data"
    }
   ],
   "source": [
    "#plotting to check\n",
    "fig,ax = plt.subplots()\n",
    "mask = df18['Flux (mJy)'] > 3 * df18['eFlux (mJy)']  # apply detection threshold\n",
    "if mask.any():  # proceed only if at least one detection\n",
    "    ax.errorbar(df18['Freq (GHz)'][mask], df18['Flux (mJy)'][mask], yerr=yerr18, fmt='^')\n",
    "    ax.set_xscale('log')\n",
    "    ax.set_xticks([1, 5, 10, 50], labels=['1', '5', '10', '50'])\n",
    "    ax.set_yscale('log')\n",
    "    ax.set_yticks([1, 5, 10, 20, 50], labels=['1', '5', '10', '20', '50'])\n",
    "    ax.annotate('Day 391', xy=(90, 120), xycoords='axes points', size=9, ha='right', va='top', bbox=dict(boxstyle='round', fc='w', ec=\"w\"))\n",
    "    ax.tick_params(axis='both', which='both', direction='in', top=True, right=True)\n",
    "    ax.plot(df18['Freq (GHz)'][mask], fit_model_weights18(df18['Freq (GHz)'][mask]), 'r--')\n",
    "    ax.annotate('${\\u03B1 = -0.112 \\\\pm 0.069}$', xy=(90, 100), xycoords='axes points', size=9, ha='right', va='top', bbox=dict(boxstyle='round', fc='w', ec=\"w\"))\n",
    "\n",
    "plt.show();\n"
   ]
  },
  {
   "cell_type": "markdown",
   "id": "a9ae5f95-ff33-4f3f-a7d2-a23af8372e1d",
   "metadata": {},
   "source": [
    "## Day 415 (df19)"
   ]
  },
  {
   "cell_type": "code",
   "execution_count": 112,
   "id": "671dc599-27fd-4c01-a917-c63ce3cd87ae",
   "metadata": {},
   "outputs": [],
   "source": [
    "#(work for anything with 3+ points)\n",
    "mask = df19['Flux (mJy)'] > 3 * df19['eFlux (mJy)']  # apply detection threshold\n",
    "\n",
    "x19 = df19['Freq (GHz)'][mask].values.tolist()\n",
    "y19 = df19['Flux (mJy)'][mask].values.tolist()\n",
    "yerr19 = df19['eFlux (mJy)'][mask].values.tolist()\n"
   ]
  },
  {
   "cell_type": "code",
   "execution_count": 113,
   "id": "60e15cb6-e23a-4103-a86e-f5492be96517",
   "metadata": {},
   "outputs": [],
   "source": [
    "yerr19 = error(yerr19, x19, y19)"
   ]
  },
  {
   "cell_type": "code",
   "execution_count": 114,
   "id": "1fab5a5e-0bd8-438c-bfef-a0819f6e506d",
   "metadata": {},
   "outputs": [
    {
     "data": {
      "text/plain": [
       "<PowerLaw1D(amplitude=0.165, x_0=5., alpha=0.14770808)>"
      ]
     },
     "execution_count": 114,
     "metadata": {},
     "output_type": "execute_result"
    }
   ],
   "source": [
    "PL19 =  PowerLaw1D(amplitude = y19[0], x_0= x19[0], alpha= 2,\n",
    "                  bounds={\n",
    "        'amplitude': (0, None),  # Amplitude should be positive\n",
    "        #'x_0': (x3[0], x3[0]),  # Frequency must stay within data\n",
    "        'alpha': (-10, 10)  # Keep alpha within a realistic range\n",
    "    },\n",
    "                 fixed={'x_0': True}) \n",
    "\n",
    "#Initialize fitters\n",
    "#setting calc_uncertainties=True to output errors on measurement \n",
    "\n",
    "fit19 = fitting.LevMarLSQFitter(calc_uncertainties=True)\n",
    "\n",
    "#Fit the data w/o weights\n",
    "fit_model19 = fit19(PL19, x19, y19)\n",
    "\n",
    "\n",
    "#weight is 1/error^2\n",
    "y_weight19 = 1/ (np.power(yerr19, 2))  \n",
    "\n",
    "# fit the data using the uncertainties as weights\n",
    "fit_model_weights19 = fit19(PL19, x19, y19, weights=y_weight19)\n",
    "\n",
    "fit_model_weights19\n"
   ]
  },
  {
   "cell_type": "code",
   "execution_count": 115,
   "id": "b4d508ae-cd0f-4689-a6d1-89dc88b85255",
   "metadata": {},
   "outputs": [
    {
     "data": {
      "text/plain": [
       "{'nfev': 6,\n",
       " 'fvec': array([0.00000000e+00, 1.25160189e-12]),\n",
       " 'fjac': array([[-5.39385970e+03,  6.62904269e-01],\n",
       "        [ 1.31593506e+02,  1.48625693e+02]]),\n",
       " 'ipvt': array([1, 2], dtype=int32),\n",
       " 'qtf': array([-2.5504151e-05, -2.8805161e-05]),\n",
       " 'message': 'The relative error between two consecutive iterates is at most 0.000000',\n",
       " 'ierr': 2,\n",
       " 'param_jac': None,\n",
       " 'param_cov': None,\n",
       " 'njev': 5,\n",
       " 'cov_x': array([[6.13169025e-08, 1.10445246e-06],\n",
       "        [1.10445246e-06, 4.52701796e-05]])}"
      ]
     },
     "execution_count": 115,
     "metadata": {},
     "output_type": "execute_result"
    }
   ],
   "source": [
    "fit19.fit_info"
   ]
  },
  {
   "cell_type": "code",
   "execution_count": 116,
   "id": "1f400e13-e22e-4c3c-8c14-e55b300aaf3b",
   "metadata": {},
   "outputs": [
    {
     "name": "stdout",
     "output_type": "stream",
     "text": [
      "The error/standard deviation is 0.006728311794202168\n"
     ]
    }
   ],
   "source": [
    "#taking fvec\n",
    "fvec19 = np.array([0.00000000e+00, 1.62876868e-12])\n",
    "var19 = np.var(fvec19)\n",
    "\n",
    "#taking cov_x\n",
    "cov_x19 = np.array([[6.13169025e-08, 1.10445246e-06],\n",
    "        [1.10445246e-06, 4.52701796e-05]])\n",
    "\n",
    "def stand(cov):\n",
    "    diag = np.diagonal(cov)\n",
    "    sd1 = np.sqrt(diag[0])\n",
    "    sd2 = np.sqrt(diag[1])\n",
    "    #sd3 = np.sqrt(diag[2])\n",
    "    return(sd1,sd2)#,sd3)\n",
    "\n",
    "diag19 = stand(cov_x19)#*var19) \n",
    "\n",
    "#The last diagonal element corresponds to alpha\n",
    "#So here we are calculating the standard deviation on the slope\n",
    "\n",
    "#print(diag)  #prints standard deviations of all three variances\n",
    "\n",
    "print('The error/standard deviation is', diag19[1]) #Just showing the standard deviation on the slope\n",
    "\n"
   ]
  },
  {
   "cell_type": "code",
   "execution_count": 117,
   "id": "a8edaed2-bcc8-4913-9919-a7b7cbc04811",
   "metadata": {},
   "outputs": [],
   "source": [
    "#Error on alpha for only two data points\n",
    "def two_points(Flux, Freq, Err):\n",
    "    \n",
    "    alpha = (np.log10(Flux[0]/Flux[1])) / (np.log10(Freq[0]/Freq[1]))\n",
    "    \n",
    "    \n",
    "    der_s1 = 1 / (Flux[0] * np.log(Freq[0]/Freq[1]))\n",
    "    der_s2 = -1 / (Flux[1] * np.log(Freq[0]/Freq[1]))\n",
    "    \n",
    "    \n",
    "    err_alph_squared = (der_s1)**2 * (Err[0]**2) + (der_s2)**2 * (Err[1]**2) \n",
    "    err_alph = np.sqrt(err_alph_squared)\n",
    "    \n",
    "    return(alpha, err_alph)"
   ]
  },
  {
   "cell_type": "code",
   "execution_count": 118,
   "id": "f0f5a20a-6db2-4cbc-bf93-6466f573e649",
   "metadata": {},
   "outputs": [
    {
     "name": "stdout",
     "output_type": "stream",
     "text": [
      "(-0.14770808150873518, 0.41916438432605374)\n"
     ]
    }
   ],
   "source": [
    "alpha_err19 = two_points(y19,x19,yerr19)\n",
    "print(alpha_err19)"
   ]
  },
  {
   "cell_type": "code",
   "execution_count": 119,
   "id": "108495ac-0246-49fe-93ec-c513c8d00350",
   "metadata": {},
   "outputs": [
    {
     "data": {
      "image/png": "[encoded data removed]",
      "text/plain": [
       "<Figure size 640x480 with 1 Axes>"
      ]
     },
     "metadata": {},
     "output_type": "display_data"
    }
   ],
   "source": [
    "#plotting to check\n",
    "fig,ax = plt.subplots()\n",
    "mask = df19['Flux (mJy)'] > 3 * df19['eFlux (mJy)']  # apply detection threshold\n",
    "if mask.any():  # proceed only if at least one detection\n",
    "    ax.errorbar(df19['Freq (GHz)'][mask], df19['Flux (mJy)'][mask], yerr=df19['eFlux (mJy)'][mask], fmt='^')\n",
    "    ax.set_xscale('log')\n",
    "    ax.set_xticks([1, 5, 10, 50], labels=['1', '5', '10', '50'])\n",
    "    ax.set_yscale('log')\n",
    "    ax.set_yticks([1, 5, 10, 20, 50], labels=['1', '5', '10', '20', '50'])\n",
    "    ax.annotate('Day 415', xy=(90, 120), xycoords='axes points', size=9, ha='right', va='top', bbox=dict(boxstyle='round', fc='w', ec=\"w\"))\n",
    "    ax.tick_params(axis='both', which='both', direction='in', top=True, right=True)\n",
    "    ax.plot(df19['Freq (GHz)'][mask], fit_model_weights19(df19['Freq (GHz)'][mask]), 'r--')\n",
    "    ax.annotate('${\\u03B1 = -0.148 \\\\pm 0.007}$', xy=(90, 100), xycoords='axes points', size=9, ha='right', va='top', bbox=dict(boxstyle='round', fc='w', ec=\"w\"))\n",
    "\n",
    "plt.show();\n"
   ]
  },
  {
   "cell_type": "markdown",
   "id": "d1f750ac-1ac0-4638-8903-cc25370cf45a",
   "metadata": {},
   "source": [
    "## Day 419 (df20)"
   ]
  },
  {
   "cell_type": "code",
   "execution_count": 120,
   "id": "f784ca97-6014-41dc-bdfb-2f9966e80d53",
   "metadata": {},
   "outputs": [],
   "source": [
    "#(work for anything with 3+ points)\n",
    "mask = df20['Flux (mJy)'] > 3 * df20['eFlux (mJy)']  # apply detection threshold\n",
    "\n",
    "x20 = df20['Freq (GHz)'][mask].values.tolist()\n",
    "y20 = df20['Flux (mJy)'][mask].values.tolist()\n",
    "yerr20 = df20['eFlux (mJy)'][mask].values.tolist()\n"
   ]
  },
  {
   "cell_type": "code",
   "execution_count": 121,
   "id": "6499fc24-3e4c-40a7-982b-2e0dc07df62d",
   "metadata": {},
   "outputs": [],
   "source": [
    "yerr20 = error(yerr20, x20, y20)"
   ]
  },
  {
   "cell_type": "code",
   "execution_count": 122,
   "id": "cdd31227-9d91-4004-b384-21c9e86041a0",
   "metadata": {},
   "outputs": [
    {
     "data": {
      "text/plain": [
       "<PowerLaw1D(amplitude=0.0657, x_0=13.5, alpha=-0.7714014)>"
      ]
     },
     "execution_count": 122,
     "metadata": {},
     "output_type": "execute_result"
    }
   ],
   "source": [
    "PL20 =  PowerLaw1D(amplitude = y20[0], x_0= x20[0], alpha= -1, bounds={\n",
    "        'amplitude': (0, None),  # Amplitude should be positive\n",
    "        #'x_0': (x3[0], x3[0]),  # Frequency must stay within data\n",
    "        'alpha': (-10, 10)  # Keep alpha within a realistic range\n",
    "    },\n",
    "                 fixed={'x_0': True}) \n",
    "\n",
    "#Initialize fitters\n",
    "#setting calc_uncertainties=True to output errors on measurement \n",
    "\n",
    "fit20 = fitting.LevMarLSQFitter(calc_uncertainties=True)\n",
    "\n",
    "#Fit the data w/o weights\n",
    "fit_model20 = fit20(PL20, x20, y20)\n",
    "\n",
    "\n",
    "#weight is 1/error^2\n",
    "y_weight20 = 1/ (np.power(yerr20, 2))  \n",
    "\n",
    "# fit the data using the uncertainties as weights\n",
    "fit_model_weights20 = fit20(PL20, x20, y20, weights=y_weight20)\n",
    "\n",
    "fit_model_weights20\n"
   ]
  },
  {
   "cell_type": "code",
   "execution_count": 123,
   "id": "21443d60-54e5-411a-823c-c43afec8030f",
   "metadata": {},
   "outputs": [
    {
     "data": {
      "text/plain": [
       "{'nfev': 5,\n",
       " 'fvec': array([0.0000000e+00, 2.8320571e-14]),\n",
       " 'fjac': array([[-5.87332745e+03,  1.81130993e-01],\n",
       "        [ 1.20606943e+01,  6.54840892e+01]]),\n",
       " 'ipvt': array([1, 2], dtype=int32),\n",
       " 'qtf': array([-3.70727994e-07, -2.01288454e-06]),\n",
       " 'message': 'The relative error between two consecutive iterates is at most 0.000000',\n",
       " 'ierr': 2,\n",
       " 'param_jac': None,\n",
       " 'param_cov': None,\n",
       " 'njev': 4,\n",
       " 'cov_x': array([[2.99722310e-08, 4.78868766e-07],\n",
       "        [4.78868766e-07, 2.33199931e-04]])}"
      ]
     },
     "execution_count": 123,
     "metadata": {},
     "output_type": "execute_result"
    }
   ],
   "source": [
    "fit20.fit_info"
   ]
  },
  {
   "cell_type": "code",
   "execution_count": 124,
   "id": "3faa9a79-2219-411f-a7d2-ef147607051a",
   "metadata": {},
   "outputs": [
    {
     "name": "stdout",
     "output_type": "stream",
     "text": [
      "The error/standard deviation is 0.015270885075855951\n"
     ]
    }
   ],
   "source": [
    "#taking fvec\n",
    "fvec20 = np.array([0.00000000e+00, 3.13195881e-14])\n",
    "var20 = np.var(fvec20)\n",
    "\n",
    "#taking cov_x\n",
    "cov_x20 = np.array([[2.99722310e-08, 4.78868766e-07],\n",
    "        [4.78868766e-07, 2.33199931e-04]])\n",
    "\n",
    "def stand(cov):\n",
    "    diag = np.diagonal(cov)\n",
    "    sd1 = np.sqrt(diag[0])\n",
    "    sd2 = np.sqrt(diag[1])\n",
    "    #sd3 = np.sqrt(diag[2])\n",
    "    return(sd1,sd2)#,sd3)\n",
    "\n",
    "diag20 = stand(cov_x20)#*var20) \n",
    "\n",
    "#The last diagonal element corresponds to alpha\n",
    "#So here we are calculating the standard deviation on the slope\n",
    "\n",
    "#print(diag)  #prints standard deviations of all three variances\n",
    "\n",
    "print('The error/standard deviation is', diag20[1]) #Just showing the standard deviation on the slope\n",
    "\n"
   ]
  },
  {
   "cell_type": "code",
   "execution_count": 125,
   "id": "f8ef3e19-d59a-46b0-80e6-fcfdb1c91a0d",
   "metadata": {},
   "outputs": [
    {
     "name": "stdout",
     "output_type": "stream",
     "text": [
      "(0.7714013951028592, 0.39907800488658196)\n"
     ]
    }
   ],
   "source": [
    "alpha_err20 = two_points(y20,x20,yerr20)\n",
    "print(alpha_err20)"
   ]
  },
  {
   "cell_type": "code",
   "execution_count": 126,
   "id": "f43c2ecc-ae36-45dc-a003-da23d04836cf",
   "metadata": {},
   "outputs": [
    {
     "data": {
      "image/png": "[encoded data removed]",
      "text/plain": [
       "<Figure size 640x480 with 1 Axes>"
      ]
     },
     "metadata": {},
     "output_type": "display_data"
    }
   ],
   "source": [
    "#plotting to check\n",
    "fig,ax = plt.subplots()\n",
    "mask = df20['Flux (mJy)'] > 3 * df20['eFlux (mJy)']  # apply detection threshold\n",
    "if mask.any():  # proceed only if at least one detection\n",
    "    ax.errorbar(df20['Freq (GHz)'][mask], df20['Flux (mJy)'][mask], yerr=df20['eFlux (mJy)'][mask], fmt='^')\n",
    "    ax.set_xscale('log')\n",
    "    ax.set_xticks([1, 5, 10, 50], labels=['1', '5', '10', '50'])\n",
    "    ax.set_yscale('log')\n",
    "    ax.set_yticks([1, 5, 10, 20, 50], labels=['1', '5', '10', '20', '50'])\n",
    "    ax.annotate('Day 419', xy=(90, 120), xycoords='axes points', size=9, ha='right', va='top', bbox=dict(boxstyle='round', fc='w', ec=\"w\"))\n",
    "    ax.tick_params(axis='both', which='both', direction='in', top=True, right=True)\n",
    "    ax.plot(df20['Freq (GHz)'][mask], fit_model_weights20(df20['Freq (GHz)'][mask]), 'r--')\n",
    "    ax.annotate('${\\u03B1 = 0.771 \\\\pm 0.015}$', xy=(90, 100), xycoords='axes points', size=9, ha='right', va='top', bbox=dict(boxstyle='round', fc='w', ec=\"w\"))\n",
    "\n",
    "plt.show();\n"
   ]
  },
  {
   "cell_type": "markdown",
   "id": "2af4d76f-05cb-4d77-a516-56d54e17e58c",
   "metadata": {},
   "source": [
    "## Day 475 (df22)"
   ]
  },
  {
   "cell_type": "code",
   "execution_count": 127,
   "id": "5408638e-179d-4422-a9b2-f90aa934d8ff",
   "metadata": {},
   "outputs": [],
   "source": [
    "#(work for anything with 3+ points)\n",
    "mask = df22['Flux (mJy)'] > 3 * df22['eFlux (mJy)']  # apply detection threshold\n",
    "\n",
    "x22 = df22['Freq (GHz)'][mask].values.tolist()\n",
    "y22 = df22['Flux (mJy)'][mask].values.tolist()\n",
    "yerr22 = df22['eFlux (mJy)'][mask].values.tolist()\n"
   ]
  },
  {
   "cell_type": "code",
   "execution_count": 128,
   "id": "3e55e437-7709-4577-9021-b0595b40525a",
   "metadata": {},
   "outputs": [],
   "source": [
    "yerr22 = error(yerr22, x22, y22)"
   ]
  },
  {
   "cell_type": "code",
   "execution_count": 129,
   "id": "3ce9ca4a-5060-4ca9-b9de-57e9fc50ac3d",
   "metadata": {},
   "outputs": [
    {
     "data": {
      "text/plain": [
       "<PowerLaw1D(amplitude=0.65385375, x_0=0.79887782, alpha=1.18067648)>"
      ]
     },
     "execution_count": 129,
     "metadata": {},
     "output_type": "execute_result"
    }
   ],
   "source": [
    "PL22 =  PowerLaw1D(amplitude = y22[0], x_0= x22[0], alpha= -2.5) \n",
    "\n",
    "#Initialize fitters\n",
    "#setting calc_uncertainties=True to output errors on measurement \n",
    "\n",
    "fit22 = fitting.LevMarLSQFitter(calc_uncertainties=True)\n",
    "\n",
    "#Fit the data w/o weights\n",
    "fit_model22 = fit22(PL22, x22, y22)\n",
    "\n",
    "\n",
    "#weight is 1/error^2\n",
    "y_weight22 = 1/ (np.power(yerr22, 2))  \n",
    "\n",
    "# fit the data using the uncertainties as weights\n",
    "fit_model_weights22 = fit22(PL22, x22, y22, weights=y_weight22)\n",
    "\n",
    "fit_model_weights22\n"
   ]
  },
  {
   "cell_type": "code",
   "execution_count": 130,
   "id": "f43906fe-0891-4aee-821c-5cf5928facb3",
   "metadata": {},
   "outputs": [
    {
     "data": {
      "text/plain": [
       "{'nfev': 30,\n",
       " 'fvec': array([ 0.21278365, -0.23474897,  0.01297477]),\n",
       " 'fjac': array([[ 4.56452149e+02, -3.87484586e+02, -3.74442900e+02],\n",
       "        [-3.87484586e+02, -6.96685015e+01, -6.73236476e+01],\n",
       "        [-3.74442900e+02, -6.73236476e+01,  6.39488462e-14]]),\n",
       " 'ipvt': array([3, 1, 2], dtype=int32),\n",
       " 'qtf': array([3.86685671e-06, 6.95248769e-07, 3.17099831e-01]),\n",
       " 'message': 'Both actual and predicted relative reductions in the sum of squares\\n  are at most 0.000000',\n",
       " 'ierr': 1,\n",
       " 'param_jac': None,\n",
       " 'param_cov': None,\n",
       " 'njev': 21,\n",
       " 'cov_x': array([[ 2.28347842e+26, -2.36301099e+26,  1.64712051e+11],\n",
       "        [-2.36301099e+26,  2.44531366e+26, -1.70448901e+11],\n",
       "        [ 1.64712051e+11, -1.70448901e+11,  2.72082171e-04]])}"
      ]
     },
     "execution_count": 130,
     "metadata": {},
     "output_type": "execute_result"
    }
   ],
   "source": [
    "fit22.fit_info"
   ]
  },
  {
   "cell_type": "code",
   "execution_count": 131,
   "id": "497d583f-84bc-4c5c-aaa8-864f3ef90862",
   "metadata": {},
   "outputs": [
    {
     "name": "stdout",
     "output_type": "stream",
     "text": [
      "The error/standard deviation is 0.016494913488709177\n"
     ]
    }
   ],
   "source": [
    "#taking fvec\n",
    "fvec22 = np.array([ 0.21278365, -0.23474897,  0.01297477])\n",
    "var22 = np.var(fvec22)\n",
    "\n",
    "#taking cov_x\n",
    "cov_x22 = np.array([[ 2.28347842e+26, -2.36301099e+26,  1.64712051e+11],\n",
    "        [-2.36301099e+26,  2.44531366e+26, -1.70448901e+11],\n",
    "        [ 1.64712051e+11, -1.70448901e+11,  2.72082171e-04]])\n",
    "\n",
    "def stand(cov):\n",
    "    diag = np.diagonal(cov)\n",
    "    sd1 = np.sqrt(diag[0])\n",
    "    sd2 = np.sqrt(diag[1])\n",
    "    sd3 = np.sqrt(diag[2])\n",
    "    return(sd1,sd2,sd3)\n",
    "\n",
    "diag22 = stand(cov_x22)#*var22) \n",
    "\n",
    "#The last diagonal element corresponds to alpha\n",
    "#So here we are calculating the standard deviation on the slope\n",
    "\n",
    "#print(diag)  #prints standard deviations of all three variances\n",
    "\n",
    "print('The error/standard deviation is', diag22[2]) #Just showing the standard deviation on the slope\n",
    "\n"
   ]
  },
  {
   "cell_type": "code",
   "execution_count": 132,
   "id": "56a4498d-467e-4d35-9497-9b420ff12ab0",
   "metadata": {},
   "outputs": [
    {
     "data": {
      "image/png": "[encoded data removed]",
      "text/plain": [
       "<Figure size 640x480 with 1 Axes>"
      ]
     },
     "metadata": {},
     "output_type": "display_data"
    }
   ],
   "source": [
    "#plotting to check\n",
    "fig,ax = plt.subplots()\n",
    "mask = df22['Flux (mJy)'] > 3 * df22['eFlux (mJy)']  # apply detection threshold\n",
    "if mask.any():  # proceed only if at least one detection\n",
    "    ax.errorbar(df22['Freq (GHz)'][mask], df22['Flux (mJy)'][mask], yerr=yerr22, fmt='^')\n",
    "    ax.set_xscale('log')\n",
    "    ax.set_xticks([1, 5, 10, 50], labels=['1', '5', '10', '50'])\n",
    "    ax.set_yscale('log')\n",
    "    ax.set_yticks([1, 5, 10, 20, 50], labels=['1', '5', '10', '20', '50'])\n",
    "    ax.annotate('Day 475', xy=(90, 120), xycoords='axes points', size=9, ha='right', va='top', bbox=dict(boxstyle='round', fc='w', ec=\"w\"))\n",
    "    ax.tick_params(axis='both', which='both', direction='in', top=True, right=True)\n",
    "    ax.plot(df22['Freq (GHz)'][mask], fit_model_weights22(df22['Freq (GHz)'][mask]), 'r--')\n",
    "    ax.annotate('${\\u03B1 = -1.181 \\\\pm 0.017}$', xy=(90, 100), xycoords='axes points', size=9, ha='right', va='top', bbox=dict(boxstyle='round', fc='w', ec=\"w\"))\n",
    "\n",
    "plt.show();\n"
   ]
  },
  {
   "cell_type": "markdown",
   "id": "7ea2cb34-235c-4be8-ad19-efa92e976b1a",
   "metadata": {},
   "source": [
    "## Day 611 (df24)"
   ]
  },
  {
   "cell_type": "code",
   "execution_count": 133,
   "id": "4051a812-1b10-46ad-a4e2-205f80f4a671",
   "metadata": {},
   "outputs": [],
   "source": [
    "#(work for anything with 3+ points)\n",
    "mask = df24['Flux (mJy)'] > 3 * df24['eFlux (mJy)']  # apply detection threshold\n",
    "\n",
    "x24 = df24['Freq (GHz)'][mask].values.tolist()\n",
    "y24 = df24['Flux (mJy)'][mask].values.tolist()\n",
    "yerr24 = df24['eFlux (mJy)'][mask].values.tolist()\n"
   ]
  },
  {
   "cell_type": "code",
   "execution_count": 134,
   "id": "45fa704d-57a1-47a1-bb38-658a7ac5c21c",
   "metadata": {},
   "outputs": [],
   "source": [
    "yerr24 = error(yerr24, x24, y24)"
   ]
  },
  {
   "cell_type": "code",
   "execution_count": 135,
   "id": "671e7a44-5019-48a0-82cc-56cb9f3bb0b7",
   "metadata": {},
   "outputs": [
    {
     "data": {
      "text/plain": [
       "<PowerLaw1D(amplitude=0.0592, x_0=13.5, alpha=-0.31792997)>"
      ]
     },
     "execution_count": 135,
     "metadata": {},
     "output_type": "execute_result"
    }
   ],
   "source": [
    "PL24 =  PowerLaw1D(amplitude = y24[0], x_0= x24[0], alpha= -2.5, bounds={\n",
    "        'amplitude': (0, None),  # Amplitude should be positive\n",
    "        #'x_0': (x3[0], x3[0]),  # Frequency must stay within data\n",
    "        'alpha': (-10, 10)  # Keep alpha within a realistic range\n",
    "    },\n",
    "                 fixed={'x_0': True}) \n",
    "\n",
    "#Initialize fitters\n",
    "#setting calc_uncertainties=True to output errors on measurement \n",
    "\n",
    "fit24 = fitting.LevMarLSQFitter(calc_uncertainties=True)\n",
    "\n",
    "#Fit the data w/o weights\n",
    "fit_model24 = fit24(PL24, x24, y24)\n",
    "\n",
    "\n",
    "#weight is 1/error^2\n",
    "y_weight24 = 1/ (np.power(yerr24, 2))  \n",
    "\n",
    "# fit the data using the uncertainties as weights\n",
    "fit_model_weights24 = fit24(PL24, x24, y24, weights=y_weight24)\n",
    "\n",
    "fit_model_weights24\n"
   ]
  },
  {
   "cell_type": "code",
   "execution_count": 136,
   "id": "4201ddc2-0624-4044-8ef3-fe8bd2bffcdd",
   "metadata": {},
   "outputs": [
    {
     "data": {
      "text/plain": [
       "{'nfev': 6,\n",
       " 'fvec': array([0., 0.]),\n",
       " 'fjac': array([[-4.25517372e+03,  6.88507132e-01],\n",
       "        [ 2.39629259e+01,  2.52410202e+01]]),\n",
       " 'ipvt': array([1, 2], dtype=int32),\n",
       " 'qtf': array([-1.92931707e-09, -2.03221975e-09]),\n",
       " 'message': 'The relative error between two consecutive iterates is at most 0.000000',\n",
       " 'ierr': 2,\n",
       " 'param_jac': None,\n",
       " 'param_cov': None,\n",
       " 'njev': 5,\n",
       " 'cov_x': array([[1.05006069e-07, 8.83911409e-06],\n",
       "        [8.83911409e-06, 1.56958988e-03]])}"
      ]
     },
     "execution_count": 136,
     "metadata": {},
     "output_type": "execute_result"
    }
   ],
   "source": [
    "fit24.fit_info"
   ]
  },
  {
   "cell_type": "code",
   "execution_count": 137,
   "id": "f8830e20-bf73-4065-b550-a669b3ed27d4",
   "metadata": {},
   "outputs": [
    {
     "name": "stdout",
     "output_type": "stream",
     "text": [
      "The error/standard deviation is 0.03961804992676949\n"
     ]
    }
   ],
   "source": [
    "#taking fvec\n",
    "fvec24 = np.array([0.00000000e+00, 4.28326784e-14])\n",
    "var24 = np.var(fvec24)\n",
    "\n",
    "#taking cov_x\n",
    "cov_x24 = np.array([[1.05006069e-07, 8.83911409e-06],\n",
    "        [8.83911409e-06, 1.56958988e-03]])\n",
    "\n",
    "def stand(cov):\n",
    "    diag = np.diagonal(cov)\n",
    "    sd1 = np.sqrt(diag[0])\n",
    "    sd2 = np.sqrt(diag[1])\n",
    "    #sd3 = np.sqrt(diag[2])\n",
    "    return(sd1,sd2)#,sd3)\n",
    "\n",
    "diag24 = stand(cov_x24)#*var24) \n",
    "\n",
    "#The last diagonal element corresponds to alpha\n",
    "#So here we are calculating the standard deviation on the slope\n",
    "\n",
    "#print(diag)  #prints standard deviations of all three variances\n",
    "\n",
    "print('The error/standard deviation is', diag24[1]) #Just showing the standard deviation on the slope\n",
    "\n"
   ]
  },
  {
   "cell_type": "code",
   "execution_count": 138,
   "id": "3ed04fac-4c90-496c-aec4-3a5e05755995",
   "metadata": {},
   "outputs": [
    {
     "name": "stdout",
     "output_type": "stream",
     "text": [
      "(0.3179299673541062, 2.1366411620265344)\n"
     ]
    }
   ],
   "source": [
    "alpha_err24 = two_points(y24,x24,yerr24)\n",
    "print(alpha_err24)"
   ]
  },
  {
   "cell_type": "code",
   "execution_count": 139,
   "id": "1686ea58-be46-4ba2-8fd0-b90fc181dacc",
   "metadata": {},
   "outputs": [
    {
     "data": {
      "image/png": "[encoded data removed]",
      "text/plain": [
       "<Figure size 640x480 with 1 Axes>"
      ]
     },
     "metadata": {},
     "output_type": "display_data"
    }
   ],
   "source": [
    "#plotting to check\n",
    "fig,ax = plt.subplots()\n",
    "mask = df24['Flux (mJy)'] > 3 * df24['eFlux (mJy)']  # apply detection threshold\n",
    "if mask.any():  # proceed only if at least one detection\n",
    "    ax.errorbar(df24['Freq (GHz)'][mask], df24['Flux (mJy)'][mask], yerr=yerr24, fmt='^')\n",
    "    ax.set_xscale('log')\n",
    "    ax.set_xticks([1, 5, 10, 50], labels=['1', '5', '10', '50'])\n",
    "    ax.set_yscale('log')\n",
    "    ax.set_yticks([1, 5, 10, 20, 50], labels=['1', '5', '10', '20', '50'])\n",
    "    ax.annotate('Day 611', xy=(90, 120), xycoords='axes points', size=9, ha='right', va='top', bbox=dict(boxstyle='round', fc='w', ec=\"w\"))\n",
    "    ax.tick_params(axis='both', which='both', direction='in', top=True, right=True)\n",
    "    ax.plot(df24['Freq (GHz)'][mask], fit_model_weights24(df24['Freq (GHz)'][mask]), 'r--')\n",
    "    ax.annotate('${\\u03B1 = 0.318 \\\\pm 0.040}$', xy=(90, 100), xycoords='axes points', size=9, ha='right', va='top', bbox=dict(boxstyle='round', fc='w', ec=\"w\"))\n",
    "\n",
    "plt.show();\n"
   ]
  },
  {
   "cell_type": "markdown",
   "id": "aeb894e2-5973-45a4-b9fd-6b65e8288eb9",
   "metadata": {},
   "source": [
    "## Day 687 (df25)"
   ]
  },
  {
   "cell_type": "code",
   "execution_count": 140,
   "id": "ff608e2c-1eb4-4c45-8435-74cba20da1e0",
   "metadata": {},
   "outputs": [],
   "source": [
    "#(work for anything with 3+ points)\n",
    "mask = df25['Flux (mJy)'] > 3 * df25['eFlux (mJy)']  # apply detection threshold\n",
    "\n",
    "x25 = df25['Freq (GHz)'][mask].values.tolist()\n",
    "y25 = df25['Flux (mJy)'][mask].values.tolist()\n",
    "yerr25 = df25['eFlux (mJy)'][mask].values.tolist()\n"
   ]
  },
  {
   "cell_type": "code",
   "execution_count": 141,
   "id": "0d485af3-0ba0-41f2-8f6c-446194a94ee3",
   "metadata": {},
   "outputs": [],
   "source": [
    "yerr25 = error(yerr25, x25, y25)"
   ]
  },
  {
   "cell_type": "code",
   "execution_count": 142,
   "id": "5bd4edd5-58cc-4d5d-8078-232037b0dda8",
   "metadata": {},
   "outputs": [
    {
     "data": {
      "text/plain": [
       "<PowerLaw1D(amplitude=0.10006051, x_0=4.17652085, alpha=-0.05894521)>"
      ]
     },
     "execution_count": 142,
     "metadata": {},
     "output_type": "execute_result"
    }
   ],
   "source": [
    "PL25 =  PowerLaw1D(amplitude = y25[0], x_0= x25[0], alpha= 0.3) \n",
    "\n",
    "#Initialize fitters\n",
    "#setting calc_uncertainties=True to output errors on measurement \n",
    "\n",
    "fit25 = fitting.LevMarLSQFitter(calc_uncertainties=True)\n",
    "\n",
    "#Fit the data w/o weights\n",
    "fit_model25 = fit25(PL25, x25, y25)\n",
    "\n",
    "\n",
    "#weight is 1/error^2\n",
    "y_weight25 = 1/ (np.power(yerr25, 2))  \n",
    "\n",
    "# fit the data using the uncertainties as weights\n",
    "fit_model_weights25 = fit25(PL25, x25, y25, weights=y_weight25)\n",
    "\n",
    "fit_model_weights25\n"
   ]
  },
  {
   "cell_type": "code",
   "execution_count": 143,
   "id": "5244e645-6649-4a0a-9660-5b08f33a83ea",
   "metadata": {},
   "outputs": [
    {
     "data": {
      "text/plain": [
       "{'nfev': 15,\n",
       " 'fvec': array([-30.62859961,  32.91619349, -18.57818722]),\n",
       " 'fjac': array([[-3.06579935e+03,  1.47334454e+02,  4.38555049e+00],\n",
       "        [ 1.47334454e+02,  1.25688931e+02,  4.84965564e-15],\n",
       "        [ 4.38555049e+00,  1.27650198e-16, -4.25347685e-16]]),\n",
       " 'ipvt': array([1, 3, 2], dtype=int32),\n",
       " 'qtf': array([-2.95309214e-04,  1.80243001e-03,  4.86491104e+01]),\n",
       " 'message': 'Both actual and predicted relative reductions in the sum of squares\\n  are at most 0.000000',\n",
       " 'ierr': 1,\n",
       " 'param_jac': None,\n",
       " 'param_cov': None,\n",
       " 'njev': 8,\n",
       " 'cov_x': array([[ 1.13102611e+25,  7.90664502e+27, -8.03002135e+09],\n",
       "        [ 7.90664502e+27,  5.52728493e+30, -5.61353341e+12],\n",
       "        [-8.03002135e+09, -5.61353341e+12,  6.90014520e-05]])}"
      ]
     },
     "execution_count": 143,
     "metadata": {},
     "output_type": "execute_result"
    }
   ],
   "source": [
    "fit25.fit_info"
   ]
  },
  {
   "cell_type": "code",
   "execution_count": 144,
   "id": "5e32f159-7fd9-4298-b97a-3c808ded5182",
   "metadata": {},
   "outputs": [
    {
     "name": "stdout",
     "output_type": "stream",
     "text": [
      "The error/standard deviation is 0.2289135714396403\n"
     ]
    }
   ],
   "source": [
    "#taking fvec\n",
    "fvec25 = np.array([-30.62859961,  32.91619349, -18.57818722])\n",
    "var25 = np.var(fvec25)\n",
    "\n",
    "#taking cov_x\n",
    "cov_x25 = np.array([[ 1.13102611e+25,  7.90664502e+27, -8.03002135e+09],\n",
    "        [ 7.90664502e+27,  5.52728493e+30, -5.61353341e+12],\n",
    "        [-8.03002135e+09, -5.61353341e+12,  6.90014520e-05]])\n",
    "\n",
    "def stand(cov):\n",
    "    diag = np.diagonal(cov)\n",
    "    sd1 = np.sqrt(diag[0])\n",
    "    sd2 = np.sqrt(diag[1])\n",
    "    sd3 = np.sqrt(diag[2])\n",
    "    return(sd1,sd2,sd3)\n",
    "\n",
    "diag25 = stand(cov_x25*var25) \n",
    "\n",
    "#The last diagonal element corresponds to alpha\n",
    "#So here we are calculating the standard deviation on the slope\n",
    "\n",
    "#print(diag)  #prints standard deviations of all three variances\n",
    "\n",
    "print('The error/standard deviation is', diag25[2]) #Just showing the standard deviation on the slope\n",
    "\n"
   ]
  },
  {
   "cell_type": "code",
   "execution_count": 145,
   "id": "a30eccfa-26a5-49f7-bbf9-36049000d627",
   "metadata": {},
   "outputs": [
    {
     "data": {
      "image/png": "[encoded data removed]",
      "text/plain": [
       "<Figure size 640x480 with 1 Axes>"
      ]
     },
     "metadata": {},
     "output_type": "display_data"
    }
   ],
   "source": [
    "#plotting to check\n",
    "fig,ax = plt.subplots()\n",
    "mask = df25['Flux (mJy)'] > 3 * df25['eFlux (mJy)']  # apply detection threshold\n",
    "if mask.any():  # proceed only if at least one detection\n",
    "    ax.errorbar(df25['Freq (GHz)'][mask], df25['Flux (mJy)'][mask], yerr=yerr25, fmt='^')\n",
    "    ax.set_xscale('log')\n",
    "    ax.set_xticks([1, 5, 10, 50], labels=['1', '5', '10', '50'])\n",
    "    ax.set_yscale('log')\n",
    "    ax.set_yticks([1, 5, 10, 20, 50], labels=['1', '5', '10', '20', '50'])\n",
    "    ax.annotate('Day 687', xy=(90, 120), xycoords='axes points', size=9, ha='right', va='top', bbox=dict(boxstyle='round', fc='w', ec=\"w\"))\n",
    "    ax.tick_params(axis='both', which='both', direction='in', top=True, right=True)\n",
    "    ax.plot(df25['Freq (GHz)'][mask], fit_model_weights25(df25['Freq (GHz)'][mask]), 'r--')\n",
    "    ax.annotate('${\\u03B1 = 0.059 \\\\pm 0.229}$', xy=(90, 100), xycoords='axes points', size=9, ha='right', va='top', bbox=dict(boxstyle='round', fc='w', ec=\"w\"))\n",
    "\n",
    "plt.show();\n"
   ]
  },
  {
   "cell_type": "markdown",
   "id": "db1afb1c-69c6-4927-b460-ded3dd35fe14",
   "metadata": {},
   "source": [
    "## Day 747 (df26)"
   ]
  },
  {
   "cell_type": "code",
   "execution_count": 146,
   "id": "e9a038c0-7e01-4e24-8fd4-9ee46354a004",
   "metadata": {},
   "outputs": [],
   "source": [
    "#(work for anything with 3+ points)\n",
    "mask = df26['Flux (mJy)'] > 3 * df26['eFlux (mJy)']  # apply detection threshold\n",
    "\n",
    "x26 = df26['Freq (GHz)'][mask].values.tolist()\n",
    "y26 = df26['Flux (mJy)'][mask].values.tolist()\n",
    "yerr26 = df26['eFlux (mJy)'][mask].values.tolist()\n"
   ]
  },
  {
   "cell_type": "code",
   "execution_count": 147,
   "id": "6a4cbe06-d59c-491d-83fe-4f83ffc671ac",
   "metadata": {},
   "outputs": [],
   "source": [
    "yerr26 = error(yerr26, x26, y26)"
   ]
  },
  {
   "cell_type": "code",
   "execution_count": 148,
   "id": "6a85c57b-f58d-4566-a41e-fc0088a14b7f",
   "metadata": {},
   "outputs": [
    {
     "data": {
      "text/plain": [
       "<PowerLaw1D(amplitude=0.0606, x_0=5., alpha=-0.06787928)>"
      ]
     },
     "execution_count": 148,
     "metadata": {},
     "output_type": "execute_result"
    }
   ],
   "source": [
    "PL26 =  PowerLaw1D(amplitude = y26[0], x_0= x26[0], alpha= -2, bounds={\n",
    "        'amplitude': (0, None),  # Amplitude should be positive\n",
    "        #'x_0': (x3[0], x3[0]),  # Frequency must stay within data\n",
    "        'alpha': (-10, 10)  # Keep alpha within a realistic range\n",
    "    },\n",
    "                 fixed={'x_0': True}) \n",
    "\n",
    "#Initialize fitters\n",
    "#setting calc_uncertainties=True to output errors on measurement \n",
    "\n",
    "fit26 = fitting.LevMarLSQFitter(calc_uncertainties=True)\n",
    "\n",
    "#Fit the data w/o weights\n",
    "fit_model26 = fit26(PL26, x26, y26)\n",
    "\n",
    "\n",
    "#weight is 1/error^2\n",
    "y_weight26 = 1/ (np.power(yerr26, 2))  \n",
    "\n",
    "# fit the data using the uncertainties as weights\n",
    "fit_model_weights26 = fit26(PL26, x26, y26, weights=y_weight26)\n",
    "\n",
    "fit_model_weights26\n"
   ]
  },
  {
   "cell_type": "code",
   "execution_count": 149,
   "id": "0429ed30-d133-49b7-8096-c2e0bfba7f7a",
   "metadata": {},
   "outputs": [
    {
     "data": {
      "text/plain": [
       "{'nfev': 6,\n",
       " 'fvec': array([0., 0.]),\n",
       " 'fjac': array([[-5.76521089e+03,  7.56410152e-01],\n",
       "        [ 6.72592091e+01,  5.81616834e+01]]),\n",
       " 'ipvt': array([1, 2], dtype=int32),\n",
       " 'qtf': array([-9.49425870e-07, -8.21005891e-07]),\n",
       " 'message': 'The relative error between two consecutive iterates is at most 0.000000',\n",
       " 'ierr': 2,\n",
       " 'param_jac': None,\n",
       " 'param_cov': None,\n",
       " 'njev': 5,\n",
       " 'cov_x': array([[7.03209097e-08, 3.44875721e-06],\n",
       "        [3.44875721e-06, 2.95614725e-04]])}"
      ]
     },
     "execution_count": 149,
     "metadata": {},
     "output_type": "execute_result"
    }
   ],
   "source": [
    "fit26.fit_info"
   ]
  },
  {
   "cell_type": "code",
   "execution_count": 150,
   "id": "f1957906-6fbf-4db9-99aa-2924abb7137b",
   "metadata": {},
   "outputs": [
    {
     "name": "stdout",
     "output_type": "stream",
     "text": [
      "The error/standard deviation is 0.017193450060997068\n"
     ]
    }
   ],
   "source": [
    "#taking fvec\n",
    "fvec26 = np.array([0., 0.])\n",
    "var26 = np.var(fvec26)\n",
    "\n",
    "#taking cov_x\n",
    "cov_x26 = np.array([[7.03209097e-08, 3.44875721e-06],\n",
    "        [3.44875721e-06, 2.95614725e-04]])\n",
    "\n",
    "def stand(cov):\n",
    "    diag = np.diagonal(cov)\n",
    "    sd1 = np.sqrt(diag[0])\n",
    "    sd2 = np.sqrt(diag[1])\n",
    "    #sd3 = np.sqrt(diag[2])\n",
    "    return(sd1,sd2)#,sd3)\n",
    "\n",
    "diag26 = stand(cov_x26)#*var26) \n",
    "\n",
    "#The last diagonal element corresponds to alpha\n",
    "#So here we are calculating the standard deviation on the slope\n",
    "\n",
    "#print(diag)  #prints standard deviations of all three variances\n",
    "\n",
    "print('The error/standard deviation is', diag26[1]) #Just showing the standard deviation on the slope\n",
    "\n"
   ]
  },
  {
   "cell_type": "code",
   "execution_count": 151,
   "id": "3f693624-9ad1-44bf-8ce5-f28588c78ada",
   "metadata": {},
   "outputs": [
    {
     "data": {
      "image/png": "[encoded data removed]",
      "text/plain": [
       "<Figure size 640x480 with 1 Axes>"
      ]
     },
     "metadata": {},
     "output_type": "display_data"
    }
   ],
   "source": [
    "#plotting to check\n",
    "fig,ax = plt.subplots()\n",
    "mask = df26['Flux (mJy)'] > 3 * df26['eFlux (mJy)']  # apply detection threshold\n",
    "if mask.any():  # proceed only if at least one detection\n",
    "    ax.errorbar(df26['Freq (GHz)'][mask], df26['Flux (mJy)'][mask], yerr=yerr26, fmt='^')\n",
    "    ax.set_xscale('log')\n",
    "    ax.set_xticks([1, 5, 10, 50], labels=['1', '5', '10', '50'])\n",
    "    ax.set_yscale('log')\n",
    "    ax.set_yticks([1, 5, 10, 20, 50], labels=['1', '5', '10', '20', '50'])\n",
    "    ax.annotate('Day 747', xy=(90, 120), xycoords='axes points', size=9, ha='right', va='top', bbox=dict(boxstyle='round', fc='w', ec=\"w\"))\n",
    "    ax.tick_params(axis='both', which='both', direction='in', top=True, right=True)\n",
    "    ax.plot(df26['Freq (GHz)'][mask], fit_model_weights26(df26['Freq (GHz)'][mask]), 'r--')\n",
    "    ax.annotate('${\\u03B1 = 0.068 \\\\pm 0.017}$', xy=(90, 100), xycoords='axes points', size=9, ha='right', va='top', bbox=dict(boxstyle='round', fc='w', ec=\"w\"))\n",
    "\n",
    "plt.show();\n"
   ]
  },
  {
   "cell_type": "markdown",
   "id": "4cf98ba3-bfae-4be0-8a9a-f74159247165",
   "metadata": {},
   "source": [
    "## All Together Now"
   ]
  },
  {
   "cell_type": "code",
   "execution_count": 158,
   "id": "4db01d12-3a0d-4724-b782-8d505d1747c6",
   "metadata": {},
   "outputs": [
    {
     "data": {
      "image/png": "[encoded data removed]",
      "text/plain": [
       "<Figure size 1200x1200 with 24 Axes>"
      ]
     },
     "metadata": {},
     "output_type": "display_data"
    }
   ],
   "source": [
    "#four by four\n",
    "\n",
    "fig, ax = plt.subplots(6, 4, sharex='all', sharey='all',squeeze=True, width_ratios=None, height_ratios=None)\n",
    "fig.set_size_inches(12,12)\n",
    "fig.subplots_adjust(hspace=0, wspace=0)\n",
    "\n",
    "#first row\n",
    "mask = df2['Flux (mJy)'] > 3 * df2['eFlux (mJy)']  # apply detection threshold\n",
    "if mask.any():  # proceed only if at least one detection\n",
    "    ax[0,0].errorbar(df2['Freq (GHz)'][mask], df2['Flux (mJy)'][mask], yerr=yerr2, fmt='^')\n",
    "    ax[0,0].set_xscale('log')\n",
    "    ax[0,0].set_xticks([1, 5, 10, 50], labels=['1', '5', '10', '50'], fontsize=13)\n",
    "    ax[0,0].set_yscale('log')\n",
    "    ax[0,0].set_yticks([1, 5, 10, 20, 50], labels=['1', '5', '10', '20', '50'], fontsize=13)\n",
    "    ax[0,0].annotate('Day 9', xy=(60, 100), xycoords='axes points', size=11, ha='right', va='top', bbox=dict(boxstyle='round', fc='w', ec=\"w\"))\n",
    "    ax[0,0].tick_params(axis='both', which='both', direction='in', top=True, right=True)\n",
    "    ax[0,0].plot(df2['Freq (GHz)'][mask], fit_model_weights2(df2['Freq (GHz)'][mask]), 'r--')\n",
    "    ax[0,0].annotate('${\\u03B1 = 0.507 \\\\pm 0.149}$', xy=(110, 80), xycoords='axes points', size=11, ha='right', va='top', bbox=dict(boxstyle='round', fc='w', ec=\"w\"))\n",
    "\n",
    "mask = df3['Flux (mJy)'] > 3 * df3['eFlux (mJy)']  # apply detection threshold\n",
    "if mask.any():  # proceed only if at least one detection\n",
    "    ax[0,1].errorbar(df3['Freq (GHz)'][mask], df3['Flux (mJy)'][mask], yerr=yerr3, fmt='^')\n",
    "    ax[0,1].set_xscale('log')\n",
    "    ax[0,1].set_xticks([1, 5, 10, 50], labels=['1', '5', '10', '50'])\n",
    "    ax[0,1].set_yscale('log')\n",
    "    ax[0,1].set_yticks([1, 5, 10, 20, 50], labels=['1', '5', '10', '20', '50'])\n",
    "    ax[0,1].annotate('Day 13', xy=(60, 100), xycoords='axes points', size=11, ha='right', va='top', bbox=dict(boxstyle='round', fc='w', ec=\"w\"))\n",
    "    ax[0,1].tick_params(axis='both', which='both', direction='in', top=True, right=True)\n",
    "    ax[0,1].plot(df3['Freq (GHz)'][mask], fit_model_weights3(df3['Freq (GHz)'][mask]), 'r--')\n",
    "    ax[0,1].annotate('${\\u03B1 = 1.187 \\\\pm 0.015}$', xy=(110, 80), xycoords='axes points', size=11, ha='right', va='top', bbox=dict(boxstyle='round', fc='w', ec=\"w\"))\n",
    "\n",
    "mask = df4['Flux (mJy)'] > 3 * df4['eFlux (mJy)']  # apply detection threshold\n",
    "if mask.any():  # proceed only if at least one detection\n",
    "    ax[0,2].errorbar(df4['Freq (GHz)'][mask], df4['Flux (mJy)'][mask], yerr=yerr4, fmt='^')\n",
    "    ax[0,2].set_xscale('log')\n",
    "    ax[0,2].set_xticks([1, 5, 10, 50], labels=['1', '5', '10', '50'])\n",
    "    ax[0,2].set_yscale('log')\n",
    "    ax[0,2].set_yticks([1, 5, 10, 20, 50], labels=['1', '5', '10', '20', '50'])\n",
    "    ax[0,2].annotate('Day 18', xy=(60, 100), xycoords='axes points', size=11, ha='right', va='top', bbox=dict(boxstyle='round', fc='w', ec=\"w\"))\n",
    "    ax[0,2].tick_params(axis='both', which='both', direction='in', top=True, right=True)\n",
    "    ax[0,2].plot(df4['Freq (GHz)'][mask], fit_model_weights4(df4['Freq (GHz)'][mask]), 'r--')\n",
    "    ax[0,2].annotate('${\\u03B1 = 0.325 \\\\pm 0.070}$', xy=(110, 80), xycoords='axes points', size=11, ha='right', va='top', bbox=dict(boxstyle='round', fc='w', ec=\"w\"))\n",
    "\n",
    "\n",
    "mask = df5['Flux (mJy)'] > 3 * df5['eFlux (mJy)']  # apply detection threshold\n",
    "if mask.any():  # proceed only if at least one detection\n",
    "    ax[0,3].errorbar(df5['Freq (GHz)'][mask], df5['Flux (mJy)'][mask], yerr=yerr5, fmt='^')\n",
    "    ax[0,3].set_xscale('log')\n",
    "    ax[0,3].set_xticks([1, 5, 10, 50], labels=['1', '5', '10', '50'])\n",
    "    ax[0,3].set_yscale('log')\n",
    "    ax[0,3].set_yticks([1, 5, 10, 20, 50], labels=['1', '5', '10', '20', '50'])\n",
    "    ax[0,3].annotate('Day 19', xy=(60, 100), xycoords='axes points', size=11, ha='right', va='top', bbox=dict(boxstyle='round', fc='w', ec=\"w\"))\n",
    "    ax[0,3].tick_params(axis='both', which='both', direction='in', top=True, right=True)\n",
    "    ax[0,3].plot(df5['Freq (GHz)'][mask], fit_model_weights5(df5['Freq (GHz)'][mask]), 'r--')\n",
    "    ax[0,3].annotate('${\\u03B1 = 1.131 \\\\pm 0.045}$', xy=(110, 30), xycoords='axes points', size=11, ha='right', va='top', bbox=dict(boxstyle='round', fc='w', ec=\"w\"))\n",
    "\n",
    "#second row\n",
    "mask = df6['Flux (mJy)'] > 3 * df6['eFlux (mJy)']  # apply detection threshold\n",
    "if mask.any():  # proceed only if at least one detection\n",
    "    ax[1,0].errorbar(df6['Freq (GHz)'][mask], df6['Flux (mJy)'][mask], yerr=yerr6, fmt='^')\n",
    "    ax[1,0].set_xscale('log')\n",
    "    ax[1,0].set_xticks([1, 5, 10, 50], labels=['1', '5', '10', '50'], fontsize=13)\n",
    "    ax[1,0].set_yscale('log')\n",
    "    ax[1,0].set_yticks([1, 5, 10, 20, 50], labels=['1', '5', '10', '20', '50'], fontsize=13)\n",
    "    ax[1,0].annotate('Day 23', xy=(60, 50), xycoords='axes points', size=11, ha='right', va='top', bbox=dict(boxstyle='round', fc='w', ec=\"w\"))\n",
    "    ax[1,0].tick_params(axis='both', which='both', direction='in', top=True, right=True)\n",
    "    ax[1,0].plot(df6['Freq (GHz)'][mask], fit_model_weights6(df6['Freq (GHz)'][mask]), 'r--')\n",
    "    ax[1,0].annotate('${\\u03B1 = 0.767 \\\\pm 0.002}$', xy=(110, 30), xycoords='axes points', size=11, ha='right', va='top', bbox=dict(boxstyle='round', fc='w', ec=\"w\"))\n",
    "\n",
    "mask = df7['Flux (mJy)'] > 3 * df7['eFlux (mJy)']  # apply detection threshold\n",
    "if mask.any():  # proceed only if at least one detection\n",
    "    ax[1,1].errorbar(df7['Freq (GHz)'][mask], df7['Flux (mJy)'][mask], yerr=yerr7, fmt='^')\n",
    "    ax[1,1].set_xscale('log')\n",
    "    ax[1,1].set_xticks([1, 5, 10, 50], labels=['1', '5', '10', '50'])\n",
    "    ax[1,1].set_yscale('log')\n",
    "    ax[1,1].set_yticks([1, 5, 10, 20, 50], labels=['1', '5', '10', '20', '50'])\n",
    "    ax[1,1].annotate('Day 32', xy=(60, 50), xycoords='axes points', size=11, ha='right', va='top', bbox=dict(boxstyle='round', fc='w', ec=\"w\"))\n",
    "    ax[1,1].tick_params(axis='both', which='both', direction='in', top=True, right=True)\n",
    "    ax[1,1].plot(df7['Freq (GHz)'][mask], fit_model_weights7(df7['Freq (GHz)'][mask]), 'r--')\n",
    "    ax[1,1].annotate('${\\u03B1 = 0.312 \\\\pm 0.011}$', xy=(110, 30), xycoords='axes points', size=11, ha='right', va='top', bbox=dict(boxstyle='round', fc='w', ec=\"w\"))\n",
    "\n",
    "mask = df8['Flux (mJy)'] > 3 * df8['eFlux (mJy)']  # apply detection threshold\n",
    "if mask.any():  # proceed only if at least one detection\n",
    "    ax[1,2].errorbar(df8['Freq (GHz)'][mask], df8['Flux (mJy)'][mask], yerr=yerr8, fmt='^')\n",
    "    ax[1,2].set_xscale('log')\n",
    "    ax[1,2].set_xticks([1, 5, 10, 50], labels=['1', '5', '10', '50'])\n",
    "    ax[1,2].set_yscale('log')\n",
    "    ax[1,2].set_yticks([1, 5, 10, 20, 50], labels=['1', '5', '10', '20', '50'])\n",
    "    ax[1,2].annotate('Day 41', xy=(60, 50), xycoords='axes points', size=11, ha='right', va='top', bbox=dict(boxstyle='round', fc='w', ec=\"w\"))\n",
    "    ax[1,2].tick_params(axis='both', which='both', direction='in', top=True, right=True)\n",
    "    ax[1,2].plot(df8['Freq (GHz)'][mask], fit_model_weights8(df8['Freq (GHz)'][mask]), 'r--')\n",
    "    ax[1,2].annotate('${\\u03B1 = 0.176 \\\\pm 0.020}$', xy=(110, 30), xycoords='axes points', size=11, ha='right', va='top', bbox=dict(boxstyle='round', fc='w', ec=\"w\"))\n",
    "\n",
    "mask = df9['Flux (mJy)'] > 3 * df9['eFlux (mJy)']  # apply detection threshold\n",
    "if mask.any():  # proceed only if at least one detection\n",
    "    ax[1,3].errorbar(df9['Freq (GHz)'][mask], df9['Flux (mJy)'][mask], yerr=yerr9, fmt='^')\n",
    "    ax[1,3].set_xscale('log')\n",
    "    ax[1,3].set_xticks([1, 5, 10, 50], labels=['1', '5', '10', '50'])\n",
    "    ax[1,3].set_yscale('log')\n",
    "    ax[1,3].set_yticks([1, 5, 10, 20, 50], labels=['1', '5', '10', '20', '50'])\n",
    "    ax[1,3].annotate('Day 131', xy=(60, 50), xycoords='axes points', size=11, ha='right', va='top', bbox=dict(boxstyle='round', fc='w', ec=\"w\"))\n",
    "    ax[1,3].tick_params(axis='both', which='both', direction='in', top=True, right=True)\n",
    "    ax[1,3].plot(df9['Freq (GHz)'][mask], fit_model_weights9(df9['Freq (GHz)'][mask]), 'r--')\n",
    "    ax[1,3].annotate('${\\u03B1 = 0.465 \\\\pm 0.074}$', xy=(110, 30), xycoords='axes points', size=11, ha='right', va='top', bbox=dict(boxstyle='round', fc='w', ec=\"w\"))\n",
    "\n",
    "\n",
    "#third row\n",
    "\n",
    "mask = df10['Flux (mJy)'] > 3 * df10['eFlux (mJy)']  # apply detection threshold\n",
    "if mask.any():  # proceed only if at least one detection\n",
    "    ax[2,0].errorbar(df10['Freq (GHz)'][mask], df10['Flux (mJy)'][mask], yerr=yerr10, fmt='^')\n",
    "    ax[2,0].set_xscale('log')\n",
    "    ax[2,0].set_xticks([1, 5, 10, 50], labels=['1', '5', '10', '50'], fontsize=13)\n",
    "    ax[2,0].set_yscale('log')\n",
    "    ax[2,0].set_yticks([1, 5, 10, 20, 50], labels=['1', '5', '10', '20', '50'], fontsize=13)\n",
    "    ax[2,0].annotate('Day 142', xy=(60, 100), xycoords='axes points', size=11, ha='right', va='top', bbox=dict(boxstyle='round', fc='w', ec=\"w\"))\n",
    "    ax[2,0].tick_params(axis='both', which='both', direction='in', top=True, right=True)\n",
    "    ax[2,0].plot(df10['Freq (GHz)'][mask], fit_model_weights10(df10['Freq (GHz)'][mask]), 'r--')\n",
    "    ax[2,0].annotate('${\\u03B1 = 0.371 \\\\pm 0.153}$', xy=(110, 80), xycoords='axes points', size=11, ha='right', va='top', bbox=dict(boxstyle='round', fc='w', ec=\"w\"))\n",
    "\n",
    "mask = df11['Flux (mJy)'] > 3 * df11['eFlux (mJy)']  # apply detection threshold\n",
    "if mask.any():  # proceed only if at least one detection\n",
    "    ax[2,1].errorbar(df11['Freq (GHz)'][mask], df11['Flux (mJy)'][mask], yerr=yerr11, fmt='^')\n",
    "    ax[2,1].set_xscale('log')\n",
    "    ax[2,1].set_xticks([1, 5, 10, 50], labels=['1', '5', '10', '50'])\n",
    "    ax[2,1].set_yscale('log')\n",
    "    ax[2,1].set_yticks([1, 5, 10, 20, 50], labels=['1', '5', '10', '20', '50'])\n",
    "    ax[2,1].annotate('Day 186', xy=(60, 100), xycoords='axes points', size=11, ha='right', va='top', bbox=dict(boxstyle='round', fc='w', ec=\"w\"))\n",
    "    ax[2,1].tick_params(axis='both', which='both', direction='in', top=True, right=True)\n",
    "    ax[2,1].plot(df11['Freq (GHz)'][mask], fit_model_weights11(df11['Freq (GHz)'][mask]), 'r--')\n",
    "    ax[2,1].annotate('${\\u03B1 = 0.078 \\\\pm 0.067}$', xy=(110, 80), xycoords='axes points', size=11, ha='right', va='top', bbox=dict(boxstyle='round', fc='w', ec=\"w\"))\n",
    "\n",
    "mask = df12['Flux (mJy)'] > 3 * df12['eFlux (mJy)']  # apply detection threshold\n",
    "if mask.any():  # proceed only if at least one detection\n",
    "    ax[2,2].errorbar(df12['Freq (GHz)'][mask], df12['Flux (mJy)'][mask], yerr=yerr12, fmt='^')\n",
    "    ax[2,2].set_xscale('log')\n",
    "    ax[2,2].set_xticks([1, 5, 10, 50], labels=['1', '5', '10', '50'])\n",
    "    ax[2,2].set_yscale('log')\n",
    "    ax[2,2].set_yticks([1, 5, 10, 20, 50], labels=['1', '5', '10', '20', '50'])\n",
    "    ax[2,2].annotate('Day 223', xy=(60, 100), xycoords='axes points', size=11, ha='right', va='top', bbox=dict(boxstyle='round', fc='w', ec=\"w\"))\n",
    "    ax[2,2].tick_params(axis='both', which='both', direction='in', top=True, right=True)\n",
    "    ax[2,2].plot(df12['Freq (GHz)'][mask], fit_model_weights12(df12['Freq (GHz)'][mask]), 'r--')\n",
    "    ax[2,2].annotate('${\\u03B1 = 0.342 \\\\pm 0.151}$', xy=(110, 80), xycoords='axes points', size=11, ha='right', va='top', bbox=dict(boxstyle='round', fc='w', ec=\"w\"))\n",
    "\n",
    "mask = df13['Flux (mJy)'] > 3 * df13['eFlux (mJy)']  # apply detection threshold\n",
    "if mask.any():  # proceed only if at least one detection\n",
    "    ax[2,3].errorbar(df13['Freq (GHz)'][mask], df13['Flux (mJy)'][mask], yerr=yerr13, fmt='^')\n",
    "    ax[2,3].set_xscale('log')\n",
    "    ax[2,3].set_xticks([1, 5, 10, 50], labels=['1', '5', '10', '50'])\n",
    "    ax[2,3].set_yscale('log')\n",
    "    ax[2,3].set_yticks([1, 5, 10, 20, 50], labels=['1', '5', '10', '20', '50'])\n",
    "    ax[2,3].annotate('Day 224', xy=(60, 100), xycoords='axes points', size=11, ha='right', va='top', bbox=dict(boxstyle='round', fc='w', ec=\"w\"))\n",
    "    ax[2,3].tick_params(axis='both', which='both', direction='in', top=True, right=True)\n",
    "    ax[2,3].plot(df13['Freq (GHz)'][mask], fit_model_weights13(df13['Freq (GHz)'][mask]), 'r--')\n",
    "    ax[2,3].annotate('${\\u03B1 = -0.282 \\\\pm 0.224}$', xy=(120, 80), xycoords='axes points', size=11, ha='right', va='top', bbox=dict(boxstyle='round', fc='w', ec=\"w\"))\n",
    "\n",
    "\n",
    "#fourth row\n",
    "mask = df14['Flux (mJy)'] > 3 * df14['eFlux (mJy)']  # apply detection threshold\n",
    "if mask.any():  # proceed only if at least one detection\n",
    "    ax[3,0].errorbar(df14['Freq (GHz)'][mask], df14['Flux (mJy)'][mask], yerr=yerr14, fmt='^')\n",
    "    ax[3,0].set_xscale('log')\n",
    "    ax[3,0].set_xticks([1, 5, 10, 50], labels=['1', '5', '10', '50'], fontsize=13)\n",
    "    ax[3,0].set_yscale('log')\n",
    "    ax[3,0].set_yticks([1, 5, 10, 20, 50], labels=['1', '5', '10', '20', '50'], fontsize=13)\n",
    "    ax[3,0].annotate('Day 256', xy=(60, 100), xycoords='axes points', size=11, ha='right', va='top', bbox=dict(boxstyle='round', fc='w', ec=\"w\"))\n",
    "    ax[3,0].tick_params(axis='both', which='both', direction='in', top=True, right=True)\n",
    "    ax[3,0].plot(df14['Freq (GHz)'][mask], fit_model_weights14(df14['Freq (GHz)'][mask]), 'r--')\n",
    "    ax[3,0].annotate('${\\u03B1 = 0.194 \\\\pm 0.032}$', xy=(110, 80), xycoords='axes points', size=11, ha='right', va='top', bbox=dict(boxstyle='round', fc='w', ec=\"w\"))\n",
    "\n",
    "mask = df15['Flux (mJy)'] > 3 * df15['eFlux (mJy)']  # apply detection threshold\n",
    "if mask.any():  # proceed only if at least one detection\n",
    "    ax[3,1].errorbar(df15['Freq (GHz)'][mask], df15['Flux (mJy)'][mask], yerr=yerr15, fmt='^')\n",
    "    ax[3,1].set_xscale('log')\n",
    "    ax[3,1].set_xticks([1, 5, 10, 50], labels=['1', '5', '10', '50'])\n",
    "    ax[3,1].set_yscale('log')\n",
    "    ax[3,1].set_yticks([1, 5, 10, 20, 50], labels=['1', '5', '10', '20', '50'])\n",
    "    ax[3,1].annotate('Day 259', xy=(60, 100), xycoords='axes points', size=11, ha='right', va='top', bbox=dict(boxstyle='round', fc='w', ec=\"w\"))\n",
    "    ax[3,1].tick_params(axis='both', which='both', direction='in', top=True, right=True)\n",
    "    ax[3,1].plot(df15['Freq (GHz)'][mask], fit_model_weights15(df15['Freq (GHz)'][mask]), 'r--')\n",
    "    ax[3,1].annotate('${\\u03B1 = -0.273 \\\\pm 0.084}$', xy=(120, 80), xycoords='axes points', size=11, ha='right', va='top', bbox=dict(boxstyle='round', fc='w', ec=\"w\"))\n",
    "\n",
    "mask = df16['Flux (mJy)'] > 3 * df16['eFlux (mJy)']  # apply detection threshold\n",
    "if mask.any():  # proceed only if at least one detection\n",
    "    ax[3,2].errorbar(df16['Freq (GHz)'][mask], df16['Flux (mJy)'][mask], yerr=yerr16, fmt='^')\n",
    "    ax[3,2].set_xscale('log')\n",
    "    ax[3,2].set_xticks([1, 5, 10, 50], labels=['1', '5', '10', '50'])\n",
    "    ax[3,2].set_yscale('log')\n",
    "    ax[3,2].set_yticks([1, 5, 10, 20, 50], labels=['1', '5', '10', '20', '50'])\n",
    "    ax[3,2].annotate('Day 282', xy=(60, 100), xycoords='axes points', size=11, ha='right', va='top', bbox=dict(boxstyle='round', fc='w', ec=\"w\"))\n",
    "    ax[3,2].tick_params(axis='both', which='both', direction='in', top=True, right=True)\n",
    "    ax[3,2].plot(df16['Freq (GHz)'][mask], fit_model_weights16(df16['Freq (GHz)'][mask]), 'r--')\n",
    "    ax[3,2].annotate('${\\u03B1 = -0.076 \\\\pm 0.086}$', xy=(120, 80), xycoords='axes points', size=11, ha='right', va='top', bbox=dict(boxstyle='round', fc='w', ec=\"w\"))\n",
    "\n",
    "mask = df17['Flux (mJy)'] > 3 * df17['eFlux (mJy)']  # apply detection threshold\n",
    "if mask.any():  # proceed only if at least one detection\n",
    "    ax[3,3].errorbar(df17['Freq (GHz)'][mask], df17['Flux (mJy)'][mask], yerr=yerr17, fmt='^')\n",
    "    ax[3,3].set_xscale('log')\n",
    "    ax[3,3].set_xticks([1, 5, 10, 50], labels=['1', '5', '10', '50'])\n",
    "    ax[3,3].set_yscale('log')\n",
    "    ax[3,3].set_yticks([1, 5, 10, 20, 50], labels=['1', '5', '10', '20', '50'])\n",
    "    ax[3,3].annotate('Day 390', xy=(60, 100), xycoords='axes points', size=11, ha='right', va='top', bbox=dict(boxstyle='round', fc='w', ec=\"w\"))\n",
    "    ax[3,3].tick_params(axis='both', which='both', direction='in', top=True, right=True)\n",
    "    ax[3,3].plot(df17['Freq (GHz)'][mask], fit_model_weights17(df17['Freq (GHz)'][mask]), 'r--')\n",
    "    ax[3,3].annotate('${\\u03B1 = 0.244 \\\\pm 0.615}$', xy=(110, 80), xycoords='axes points', size=11, ha='right', va='top', bbox=dict(boxstyle='round', fc='w', ec=\"w\"))\n",
    "\n",
    "\n",
    "#fifth row\n",
    "mask = df18['Flux (mJy)'] > 3 * df18['eFlux (mJy)']  # apply detection threshold\n",
    "if mask.any():  # proceed only if at least one detection\n",
    "    ax[4,0].errorbar(df18['Freq (GHz)'][mask], df18['Flux (mJy)'][mask], yerr=yerr18, fmt='^')\n",
    "    ax[4,0].set_xscale('log')\n",
    "    ax[4,0].set_xticks([1, 5, 10, 50], labels=['1', '5', '10', '50'], fontsize=13)\n",
    "    ax[4,0].set_yscale('log')\n",
    "    ax[4,0].set_yticks([1, 5, 10, 20, 50], labels=['1', '5', '10', '20', '50'], fontsize=13)\n",
    "    ax[4,0].annotate('Day 391', xy=(60, 100), xycoords='axes points', size=11, ha='right', va='top', bbox=dict(boxstyle='round', fc='w', ec=\"w\"))\n",
    "    ax[4,0].tick_params(axis='both', which='both', direction='in', top=True, right=True)\n",
    "    ax[4,0].plot(df18['Freq (GHz)'][mask], fit_model_weights18(df18['Freq (GHz)'][mask]), 'r--')\n",
    "    ax[4,0].annotate('${\\u03B1 = -0.112 \\\\pm 0.069}$', xy=(120, 80), xycoords='axes points', size=11, ha='right', va='top', bbox=dict(boxstyle='round', fc='w', ec=\"w\"))\n",
    "\n",
    "mask = df19['Flux (mJy)'] > 3 * df19['eFlux (mJy)']  # apply detection threshold\n",
    "if mask.any():  # proceed only if at least one detection\n",
    "    ax[4,1].errorbar(df19['Freq (GHz)'][mask], df19['Flux (mJy)'][mask], yerr=yerr19, fmt='^')\n",
    "    ax[4,1].set_xscale('log')\n",
    "    ax[4,1].set_xticks([1, 5, 10, 50], labels=['1', '5', '10', '50'])\n",
    "    ax[4,1].set_yscale('log')\n",
    "    ax[4,1].set_yticks([1, 5, 10, 20, 50], labels=['1', '5', '10', '20', '50'])\n",
    "    ax[4,1].annotate('Day 415', xy=(60, 100), xycoords='axes points', size=11, ha='right', va='top', bbox=dict(boxstyle='round', fc='w', ec=\"w\"))\n",
    "    ax[4,1].tick_params(axis='both', which='both', direction='in', top=True, right=True)\n",
    "    ax[4,1].plot(df19['Freq (GHz)'][mask], fit_model_weights19(df19['Freq (GHz)'][mask]), 'r--')\n",
    "    ax[4,1].annotate('${\\u03B1 = -0.148 \\\\pm 0.007}$', xy=(120, 80), xycoords='axes points', size=11, ha='right', va='top', bbox=dict(boxstyle='round', fc='w', ec=\"w\"))\n",
    "\n",
    "mask = df20['Flux (mJy)'] > 3 * df20['eFlux (mJy)']  # apply detection threshold\n",
    "if mask.any():  # proceed only if at least one detection\n",
    "    ax[4,2].errorbar(df20['Freq (GHz)'][mask], df20['Flux (mJy)'][mask], yerr=yerr20, fmt='^')\n",
    "    ax[4,2].set_xscale('log')\n",
    "    ax[4,2].set_xticks([1, 5, 10, 50], labels=['1', '5', '10', '50'])\n",
    "    ax[4,2].set_yscale('log')\n",
    "    ax[4,2].set_yticks([1, 5, 10, 20, 50], labels=['1', '5', '10', '20', '50'])\n",
    "    ax[4,2].annotate('Day 419', xy=(60, 100), xycoords='axes points', size=11, ha='right', va='top', bbox=dict(boxstyle='round', fc='w', ec=\"w\"))\n",
    "    ax[4,2].tick_params(axis='both', which='both', direction='in', top=True, right=True)\n",
    "    ax[4,2].plot(df20['Freq (GHz)'][mask], fit_model_weights20(df20['Freq (GHz)'][mask]), 'r--')\n",
    "    ax[4,2].annotate('${\\u03B1 = 0.771 \\\\pm 0.015}$', xy=(115, 80), xycoords='axes points', size=11, ha='right', va='top', bbox=dict(boxstyle='round', fc='w', ec=\"w\"))\n",
    "\n",
    "mask = df22['Flux (mJy)'] > 3 * df22['eFlux (mJy)']  # apply detection threshold\n",
    "if mask.any():  # proceed only if at least one detection\n",
    "    ax[4,3].errorbar(df22['Freq (GHz)'][mask], df22['Flux (mJy)'][mask], yerr=yerr22, fmt='^')\n",
    "    ax[4,3].set_xscale('log')\n",
    "    ax[4,3].set_xticks([1, 5, 10, 50], labels=['1', '5', '10', '50'])\n",
    "    ax[4,3].set_yscale('log')\n",
    "    ax[4,3].set_yticks([1, 5, 10, 20, 50], labels=['1', '5', '10', '20', '50'])\n",
    "    ax[4,3].annotate('Day 475', xy=(60, 100), xycoords='axes points', size=11, ha='right', va='top', bbox=dict(boxstyle='round', fc='w', ec=\"w\"))\n",
    "    ax[4,3].tick_params(axis='both', which='both', direction='in', top=True, right=True)\n",
    "    ax[4,3].plot(df22['Freq (GHz)'][mask], fit_model_weights22(df22['Freq (GHz)'][mask]), 'r--')\n",
    "    ax[4,3].annotate('${\\u03B1 = -1.181 \\\\pm 0.017}$', xy=(120, 80), xycoords='axes points', size=11, ha='right', va='top', bbox=dict(boxstyle='round', fc='w', ec=\"w\"))\n",
    "\n",
    "\n",
    "#sixth row\n",
    "mask = df24['Flux (mJy)'] > 3 * df24['eFlux (mJy)']  # apply detection threshold\n",
    "if mask.any():  # proceed only if at least one detection\n",
    "    ax[5,0].errorbar(df24['Freq (GHz)'][mask], df24['Flux (mJy)'][mask], yerr=yerr24, fmt='^')\n",
    "    ax[5,0].set_xscale('log')\n",
    "    ax[5,0].set_xticks([1, 5, 10, 50], labels=['1', '5', '10', '50'], fontsize=13)\n",
    "    ax[5,0].set_yscale('log')\n",
    "    ax[5,0].set_yticks([1, 5, 10, 20, 50], labels=['1', '5', '10', '20', '50'], fontsize=13)\n",
    "    ax[5,0].annotate('Day 611', xy=(60, 100), xycoords='axes points', size=11, ha='right', va='top', bbox=dict(boxstyle='round', fc='w', ec=\"w\"))\n",
    "    ax[5,0].tick_params(axis='both', which='both', direction='in', top=True, right=True)\n",
    "    ax[5,0].plot(df24['Freq (GHz)'][mask], fit_model_weights24(df24['Freq (GHz)'][mask]), 'r--')\n",
    "    ax[5,0].annotate('${\\u03B1 = 0.318 \\\\pm 0.040}$', xy=(110, 80), xycoords='axes points', size=11, ha='right', va='top', bbox=dict(boxstyle='round', fc='w', ec=\"w\"))\n",
    "\n",
    "mask = df25['Flux (mJy)'] > 3 * df25['eFlux (mJy)']  # apply detection threshold\n",
    "if mask.any():  # proceed only if at least one detection\n",
    "    ax[5,1].errorbar(df25['Freq (GHz)'][mask], df25['Flux (mJy)'][mask], yerr=yerr25, fmt='^')\n",
    "    ax[5,1].set_xscale('log')\n",
    "    ax[5,1].set_xticks([1, 5, 10, 50], labels=['1', '5', '10', '50'], fontsize=13)\n",
    "    ax[5,1].set_yscale('log')\n",
    "    ax[5,1].set_yticks([1, 5, 10, 20, 50], labels=['1', '5', '10', '20', '50'], fontsize=13)\n",
    "    ax[5,1].annotate('Day 687', xy=(60, 100), xycoords='axes points', size=11, ha='right', va='top', bbox=dict(boxstyle='round', fc='w', ec=\"w\"))\n",
    "    ax[5,1].tick_params(axis='both', which='both', direction='in', top=True, right=True)\n",
    "    ax[5,1].plot(df25['Freq (GHz)'][mask], fit_model_weights25(df25['Freq (GHz)'][mask]), 'r--')\n",
    "    ax[5,1].annotate('${\\u03B1 = 0.059 \\\\pm 0.229}$', xy=(110, 80), xycoords='axes points', size=11, ha='right', va='top', bbox=dict(boxstyle='round', fc='w', ec=\"w\"))\n",
    "\n",
    "mask = df26['Flux (mJy)'] > 3 * df26['eFlux (mJy)']  # apply detection threshold\n",
    "if mask.any():  # proceed only if at least one detection\n",
    "    ax[5,2].errorbar(df26['Freq (GHz)'][mask], df26['Flux (mJy)'][mask], yerr=yerr26, fmt='^')\n",
    "    ax[5,2].set_xscale('log')\n",
    "    ax[5,2].set_xticks([1, 5, 10, 50], labels=['1', '5', '10', '50'], fontsize=13)\n",
    "    ax[5,2].set_yscale('log')\n",
    "    ax[5,2].set_yticks([1, 5, 10, 50], labels=['1', '5', '10', '50'], fontsize=13)\n",
    "    ax[5,2].annotate('Day 747', xy=(60, 100), xycoords='axes points', size=11, ha='right', va='top', bbox=dict(boxstyle='round', fc='w', ec=\"w\"))\n",
    "    ax[5,2].tick_params(axis='both', which='both', direction='in', top=True, right=True)\n",
    "    ax[5,2].plot(df26['Freq (GHz)'][mask], fit_model_weights26(df26['Freq (GHz)'][mask]), 'r--')\n",
    "    ax[5,2].annotate('${\\u03B1 = 0.068 \\\\pm 0.017}$', xy=(110, 80), xycoords='axes points', size=11, ha='right', va='top', bbox=dict(boxstyle='round', fc='w', ec=\"w\"))\n",
    "\n",
    "ax[5,3].set_xscale('log')\n",
    "ax[5,3].set_xticks([1, 5, 10, 50], labels=['1', '5', '10', '50'], fontsize=13)\n",
    "ax[5,3].set_yscale('log')\n",
    "ax[5,3].set_yticks([1, 5, 10, 50], labels=['1', '5', '10', '50'], fontsize=13)\n",
    "\n",
    "fig.supxlabel(\"Frequency (GHz)\", fontsize=20)\n",
    "fig.supylabel(\"Flux Density (mJy)\", fontsize=20)\n",
    "plt.savefig(\"V392Per_SI.png\")\n",
    "#plt.legend()\n",
    "plt.show();"
   ]
  },
  {
   "cell_type": "code",
   "execution_count": null,
   "id": "2f6a18a3-3583-4c99-bece-47f95791cc02",
   "metadata": {},
   "outputs": [],
   "source": []
  }
 ],
 "metadata": {
  "kernelspec": {
   "display_name": "Python [conda env:base] *",
   "language": "python",
   "name": "conda-base-py"
  },
  "language_info": {
   "codemirror_mode": {
    "name": "ipython",
    "version": 3
   },
   "file_extension": ".py",
   "mimetype": "text/x-python",
   "name": "python",
   "nbconvert_exporter": "python",
   "pygments_lexer": "ipython3",
   "version": "3.12.7"
  }
 },
 "nbformat": 4,
 "nbformat_minor": 5
}
