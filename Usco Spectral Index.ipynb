{
 "cells": [
  {
   "cell_type": "markdown",
   "id": "9f38211c-264c-46a5-beed-77f109edbf6b",
   "metadata": {},
   "source": [
    "## Usco Spectral Index"
   ]
  },
  {
   "cell_type": "code",
   "execution_count": 1,
   "id": "9340c907-3b8f-4e6c-8853-c8e611c61185",
   "metadata": {},
   "outputs": [],
   "source": [
    "## First get in the imports\n",
    "import math\n",
    "import pandas as pd\n",
    "import numpy as np\n",
    "import matplotlib.pyplot as plt\n",
    "%matplotlib inline\n",
    "\n",
    "from sympy import diff as dif\n",
    "\n",
    "from astropy.io import ascii\n",
    "import astropy.units as u\n",
    "import astropy.constants as const\n",
    "from astropy.modeling.powerlaws import BrokenPowerLaw1D, SmoothlyBrokenPowerLaw1D, PowerLaw1D\n",
    "from astropy.modeling import fitting, models"
   ]
  },
  {
   "cell_type": "code",
   "execution_count": 2,
   "id": "d6acb49f-3f84-4bb1-ae85-23c97d3b3cec",
   "metadata": {},
   "outputs": [],
   "source": [
    "#now the data"
   ]
  },
  {
   "cell_type": "code",
   "execution_count": 3,
   "id": "efa43a7b-aa87-46e6-ba3b-bbd6f0c41447",
   "metadata": {},
   "outputs": [],
   "source": [
    "data = (\n",
    "\n",
    "[59755.22,\t2.6,\t0.005,\t0.036],\n",
    "[59755.22,\t3.4,\t0.0002,\t0.022],\n",
    "[59755.22,\t5.1,\t0.013,\t0.023],\n",
    "[59755.22,\t7.0,\t0.061,\t0.019],\n",
    "[59755.22,\t13.7,\t0.211,\t0.027],\n",
    "[59755.22,\t16.5,\t0.216,\t0.032],\n",
    "[59755.22,\t31.1,\t0.424,\t0.081],\n",
    "[59755.22,\t34.9,\t0.452,\t0.099],\n",
    "[59769.25,\t2.6,\t0.019,\t0.032],\n",
    "[59769.25,\t3.4,\t0.013,\t0.028],\n",
    "[59769.25,\t5.1,\t0.065,\t0.031],\n",
    "[59769.25,\t7.0,\t0.115,\t0.029],\n",
    "[59769.25,\t13.7,\t0.125,\t0.031],\n",
    "[59769.25,\t16.5,\t0.169,\t0.029],\n",
    "[59769.25,\t31.1,\t0.010,\t0.099],\n",
    "[59769.25,\t34.9,\t0.193,\t0.126],\n",
    "[59776.14,\t2.6,\t0.002,\t0.009],\n",
    "[59776.14,\t3.4,\t0.010,\t0.015],\n",
    "[59776.14,\t5.1,\t0.017,\t0.010],\n",
    "[59776.14,\t7.0,\t0.057,\t0.026],\n",
    "[59776.14,\t13.7,\t0.105,\t0.012],\n",
    "[59776.14,\t16.5,\t0.108,\t0.013],\n",
    "[59776.14,\t31.1,\t0.185,\t0.044],\n",
    "[59776.14,\t34.9,\t0.152,\t0.052],\n",
    "[59796.03,\t2.6,\t-0.008,\t0.038],\n",
    "[59796.03,\t3.4,\t0.026,\t0.025],\n",
    "[59796.03,\t5.1,\t0.024,\t0.022],\n",
    "[59796.03,\t7.0,\t0.030,\t0.020],\n",
    "[59796.03,\t13.7,\t0.048,\t0.025],\n",
    "[59796.03,\t16.5,\t0.042,\t0.029],\n",
    "[59796.03,\t31.1,\t0.103,\t0.072],\n",
    "[59796.03,\t34.9,\t0.009,\t0.083],\n",
    "[59815.03,\t2.6,\t0.020,\t0.057],\n",
    "[59815.03,\t3.4,\t0.018,\t0.027],\n",
    "[59815.03,\t5.1,\t0.025,\t0.024],\n",
    "[59815.03,\t7.0,\t0.020,\t0.023],\n",
    "[59815.03,\t13.7,\t0.014,\t0.022],\n",
    "[59815.03,\t16.5,\t0.023,\t0.027],\n",
    "[59815.03,\t31.1,\t0.035,\t0.065],\n",
    "[59815.03,\t34.9,\t0.026,\t0.070]\n",
    "\n",
    ")\n",
    "\n",
    "df =  pd.DataFrame(data, columns = [\"MJD\",\t\"Frequency(GHz)\",\t\"Fluxdensity(mJy)\",\t\"error(mJy)\"])"
   ]
  },
  {
   "cell_type": "code",
   "execution_count": 4,
   "id": "ada20446-e431-49d0-8c68-20c02b232ba0",
   "metadata": {},
   "outputs": [],
   "source": [
    "E1 = (\n",
    "\n",
    "[59755.22,\t2.6,\t0.005,\t0.036],\n",
    "[59755.22,\t3.4,\t0.0002,\t0.022],\n",
    "[59755.22,\t5.1,\t0.013,\t0.023],\n",
    "[59755.22,\t7.0,\t0.061,\t0.019],\n",
    "[59755.22,\t13.7,\t0.211,\t0.027],\n",
    "[59755.22,\t16.5,\t0.216,\t0.032],\n",
    "[59755.22,\t31.1,\t0.424,\t0.081],\n",
    "[59755.22,\t34.9,\t0.452,\t0.099],\n",
    ")\n",
    "\n",
    "E2 = (\n",
    "[59769.25,\t2.6,\t0.019,\t0.032],\n",
    "[59769.25,\t3.4,\t0.013,\t0.028],\n",
    "[59769.25,\t5.1,\t0.065,\t0.031],\n",
    "[59769.25,\t7.0,\t0.115,\t0.029],\n",
    "[59769.25,\t13.7,\t0.125,\t0.031],\n",
    "[59769.25,\t16.5,\t0.169,\t0.029],\n",
    "[59769.25,\t31.1,\t0.010,\t0.099],\n",
    "[59769.25,\t34.9,\t0.193,\t0.126],\n",
    ")\n",
    "\n",
    "E3 = (\n",
    "[59776.14,\t2.6,\t0.002,\t0.009],\n",
    "[59776.14,\t3.4,\t0.010,\t0.015],\n",
    "[59776.14,\t5.1,\t0.017,\t0.010],\n",
    "[59776.14,\t7.0,\t0.057,\t0.026],\n",
    "[59776.14,\t13.7,\t0.105,\t0.012],\n",
    "[59776.14,\t16.5,\t0.108,\t0.013],\n",
    "[59776.14,\t31.1,\t0.185,\t0.044],\n",
    "[59776.14,\t34.9,\t0.152,\t0.052],\n",
    ")\n",
    "\n",
    "E4 = (\n",
    "[59796.03,\t2.6,\t-0.008,\t0.038],\n",
    "[59796.03,\t3.4,\t0.026,\t0.025],\n",
    "[59796.03,\t5.1,\t0.024,\t0.022],\n",
    "[59796.03,\t7.0,\t0.030,\t0.020],\n",
    "[59796.03,\t13.7,\t0.048,\t0.025],\n",
    "[59796.03,\t16.5,\t0.042,\t0.029],\n",
    "[59796.03,\t31.1,\t0.103,\t0.072],\n",
    "[59796.03,\t34.9,\t0.009,\t0.083],\n",
    ")\n",
    "\n",
    "E5 = (\n",
    "[59815.03,\t2.6,\t0.020,\t0.057],\n",
    "[59815.03,\t3.4,\t0.018,\t0.027],\n",
    "[59815.03,\t5.1,\t0.025,\t0.024],\n",
    "[59815.03,\t7.0,\t0.020,\t0.023],\n",
    "[59815.03,\t13.7,\t0.014,\t0.022],\n",
    "[59815.03,\t16.5,\t0.023,\t0.027],\n",
    "[59815.03,\t31.1,\t0.035,\t0.065],\n",
    "[59815.03,\t34.9,\t0.026,\t0.070]\n",
    ")"
   ]
  },
  {
   "cell_type": "code",
   "execution_count": 5,
   "id": "9563f248-700f-4915-ad84-1b7bff7c8ecb",
   "metadata": {},
   "outputs": [],
   "source": [
    "df1 =  pd.DataFrame(E1, columns = [\"MJD\",\t\"Frequency(GHz)\",\t\"Fluxdensity(mJy)\",\t\"error(mJy)\"])\n",
    "\n",
    "df2 =  pd.DataFrame(E2, columns = [\"MJD\",\t\"Frequency(GHz)\",\t\"Fluxdensity(mJy)\",\t\"error(mJy)\"])\n",
    "\n",
    "df3 =  pd.DataFrame(E3, columns = [\"MJD\",\t\"Frequency(GHz)\",\t\"Fluxdensity(mJy)\",\t\"error(mJy)\"])\n",
    "\n",
    "df4 =  pd.DataFrame(E4, columns = [\"MJD\",\t\"Frequency(GHz)\",\t\"Fluxdensity(mJy)\",\t\"error(mJy)\"])\n",
    "\n",
    "df5 =  pd.DataFrame(E5, columns = [\"MJD\",\t\"Frequency(GHz)\",\t\"Fluxdensity(mJy)\",\t\"error(mJy)\"])"
   ]
  },
  {
   "cell_type": "code",
   "execution_count": 6,
   "id": "2b4ff396-8f16-444e-8330-f073d5ae69b6",
   "metadata": {},
   "outputs": [
    {
     "data": {
      "image/png": "[encoded data removed]",
      "text/plain": [
       "<Figure size 1200x400 with 3 Axes>"
      ]
     },
     "metadata": {},
     "output_type": "display_data"
    }
   ],
   "source": [
    "dfs = [df1, df2, df3]\n",
    "\n",
    "annotations = ['Day 18.5', 'Day 32.53', 'Day 39.42']\n",
    "\n",
    "\n",
    "fig, ax = plt.subplots(1, 3, sharex='all', sharey='all')\n",
    "fig.set_size_inches(12, 4)\n",
    "fig.subplots_adjust(hspace=0, wspace=0)\n",
    "\n",
    "\n",
    "for idx, (df, label) in enumerate(zip(dfs, annotations)):\n",
    "    row, col = divmod(idx, 4)\n",
    "    mask = df[\"Fluxdensity(mJy)\"] > 3 * df[\"error(mJy)\"] #don't show the non-detections\n",
    "    if mask.any():\n",
    "        ax[col].errorbar(df[\"Frequency(GHz)\"][mask], df[\"Fluxdensity(mJy)\"][mask], yerr=df[\"error(mJy)\"][mask], fmt='^')\n",
    "        ax[col].set_xscale('log')\n",
    "        ax[col].set_yscale('log')\n",
    "        ax[col].set_xticks([1, 5, 10, 50], labels=['1', '5', '10', '50'])\n",
    "        ax[col].set_yticks([.1, 1], labels=['0.1','1.0'])\n",
    "        ax[col].annotate(label, xy=(55, 85), xycoords='axes points', size=9, ha='right', va='top', bbox=dict(boxstyle='round', fc='w', ec=\"w\"))\n",
    "        ax[col].tick_params(axis='both', which='both', direction='in', top=True, right=True)\n",
    "\n",
    "fig.supxlabel(\"Frequency (GHz)\")\n",
    "fig.supylabel(\"Flux Density (mJy)\")\n",
    "plt.show();"
   ]
  },
  {
   "cell_type": "markdown",
   "id": "7f59528b-0205-4050-b98e-17b6861a124d",
   "metadata": {},
   "source": [
    "## Day 18.50"
   ]
  },
  {
   "cell_type": "code",
   "execution_count": 7,
   "id": "dcf740dc-b5f1-4929-805a-8f92e8424fc6",
   "metadata": {},
   "outputs": [],
   "source": [
    "def error(err, freq, flux):\n",
    "    yerr = []\n",
    "    for i in range(len(freq)):\n",
    "        if freq[i] < 10:\n",
    "            pl = np.sqrt(err[i]**2 + (flux[i]*0.05)**2)\n",
    "            yerr.append(pl)\n",
    "        else:\n",
    "            pl =np.sqrt(err[i]**2 + (flux[i]*0.1)**2)\n",
    "            yerr.append(pl)\n",
    "\n",
    "    return(yerr)\n"
   ]
  },
  {
   "cell_type": "code",
   "execution_count": 8,
   "id": "f3525e77-0e51-472b-b5c7-9ddbb431a113",
   "metadata": {},
   "outputs": [],
   "source": [
    "#(work for anything with 3+ points)\n",
    "mask = df1['Fluxdensity(mJy)'] > 3 * df1['error(mJy)']  # apply detection threshold\n",
    "\n",
    "x1 = df1['Frequency(GHz)'][mask].values.tolist()\n",
    "y1 = df1['Fluxdensity(mJy)'][mask].values.tolist()\n",
    "yerr1 = df1['error(mJy)'][mask].values.tolist()\n"
   ]
  },
  {
   "cell_type": "code",
   "execution_count": 9,
   "id": "f7b53e42-b642-42af-b977-1e818b715510",
   "metadata": {},
   "outputs": [],
   "source": [
    "yerr1 = error(yerr1, x1, y1)"
   ]
  },
  {
   "cell_type": "code",
   "execution_count": 10,
   "id": "e1f6d4f8-22bc-4a1c-ac81-872d99e2c37c",
   "metadata": {},
   "outputs": [
    {
     "data": {
      "text/plain": [
       "<PowerLaw1D(amplitude=0.07871802, x_0=7.91100838, alpha=-1.41268877)>"
      ]
     },
     "execution_count": 10,
     "metadata": {},
     "output_type": "execute_result"
    }
   ],
   "source": [
    "PL1 =  PowerLaw1D(amplitude = y1[0], x_0= x1[0], alpha= 5.5) \n",
    "\n",
    "#Initialize fitters\n",
    "#setting calc_uncertainties=True to output errors on measurement \n",
    "\n",
    "fit1 = fitting.LevMarLSQFitter(calc_uncertainties=True)\n",
    "\n",
    "#Fit the data w/o weights\n",
    "fit_model1 = fit1(PL1, x1, y1)\n",
    "\n",
    "\n",
    "#weight is 1/error^2\n",
    "y_weight1 = 1/ (np.power(yerr1, 2))  \n",
    "\n",
    "# fit the data using the uncertainties as weights\n",
    "fit_model_weights1 = fit1(PL1, x1, y1, weights=y_weight1)\n",
    "\n",
    "fit_model_weights1\n"
   ]
  },
  {
   "cell_type": "code",
   "execution_count": 11,
   "id": "7d7620b0-c8bf-4fea-accb-fc45b3a3f5c4",
   "metadata": {},
   "outputs": [
    {
     "data": {
      "text/plain": [
       "{'nfev': 21,\n",
       " 'fvec': array([ 14.1062432 , -34.06934796,   4.27418888,  14.41002658,\n",
       "         15.93574556]),\n",
       " 'fjac': array([[-3.65136828e+03,  1.19143660e+02,  5.13268312e+01,\n",
       "          2.26613775e-01,  1.88215165e-01],\n",
       "        [ 1.19143660e+02,  1.38215474e+02,  2.55337546e-14,\n",
       "          5.46825269e-01,  4.99289292e-01],\n",
       "        [ 5.13268312e+01,  4.56838583e-15, -6.49913251e-15,\n",
       "          7.22855567e-01,  6.60017129e-01]]),\n",
       " 'ipvt': array([0, 2, 1], dtype=int32),\n",
       " 'qtf': array([ 1.11888847e-03, -1.37269689e-03, -4.21955273e+01]),\n",
       " 'message': 'Both actual and predicted relative reductions in the sum of squares\\n  are at most 0.000000',\n",
       " 'ierr': 1,\n",
       " 'param_jac': None,\n",
       " 'param_cov': array([[ 4.67807139e+24,  3.32795949e+26, -1.09997835e+10],\n",
       "        [ 3.32795949e+26,  2.36749580e+28, -7.82519780e+11],\n",
       "        [-1.09997835e+10, -7.82519780e+11,  7.82107231e-05]]),\n",
       " 'njev': 12,\n",
       " 'cov_x': array([[ 4.67807139e+24,  3.32795949e+26, -1.09997835e+10],\n",
       "        [ 3.32795949e+26,  2.36749580e+28, -7.82519780e+11],\n",
       "        [-1.09997835e+10, -7.82519780e+11,  7.82107231e-05]])}"
      ]
     },
     "execution_count": 11,
     "metadata": {},
     "output_type": "execute_result"
    }
   ],
   "source": [
    "fit1.fit_info"
   ]
  },
  {
   "cell_type": "code",
   "execution_count": 12,
   "id": "a1da02df-841b-4b63-8d58-3ef17759a084",
   "metadata": {},
   "outputs": [
    {
     "name": "stdout",
     "output_type": "stream",
     "text": [
      "The error/standard deviation is 0.16763887719512657\n"
     ]
    }
   ],
   "source": [
    "#taking fvec\n",
    "fvec1 = np.array([ 14.1062432 , -34.06934796,   4.27418888,  14.41002658,\n",
    "         15.93574556])\n",
    "var1 = np.var(fvec1)\n",
    "\n",
    "#taking cov_x\n",
    "cov_x1 = np.array([[ 4.67807139e+24,  3.32795949e+26, -1.09997835e+10],\n",
    "        [ 3.32795949e+26,  2.36749580e+28, -7.82519780e+11],\n",
    "        [-1.09997835e+10, -7.82519780e+11,  7.82107231e-05]])\n",
    "\n",
    "def stand(cov):\n",
    "    diag = np.diagonal(cov)\n",
    "    sd1 = np.sqrt(diag[0])\n",
    "    sd2 = np.sqrt(diag[1])\n",
    "    sd3 = np.sqrt(diag[2])\n",
    "    return(sd1,sd2,sd3)\n",
    "\n",
    "diag1 = stand(cov_x1*var1) \n",
    "\n",
    "#The last diagonal element corresponds to alpha\n",
    "#So here we are calculating the standard deviation on the slope\n",
    "\n",
    "#print(diag)  #prints standard deviations of all three variances\n",
    "\n",
    "print('The error/standard deviation is', diag1[2]) #Just showing the standard deviation on the slope\n"
   ]
  },
  {
   "cell_type": "code",
   "execution_count": 13,
   "id": "6078e6a5-1f25-4121-9f5c-e429544adcb1",
   "metadata": {},
   "outputs": [
    {
     "data": {
      "image/png": "[encoded data removed]",
      "text/plain": [
       "<Figure size 640x480 with 1 Axes>"
      ]
     },
     "metadata": {},
     "output_type": "display_data"
    }
   ],
   "source": [
    "#plotting to check\n",
    "fig,ax = plt.subplots()\n",
    "mask = df1['Fluxdensity(mJy)'] > 3 * df1['error(mJy)']  # apply detection threshold\n",
    "if mask.any():  # proceed only if at least one detection\n",
    "    ax.errorbar(df1['Frequency(GHz)'][mask], df1['Fluxdensity(mJy)'][mask], yerr=yerr1, fmt='^')\n",
    "    ax.set_xscale('log')\n",
    "    ax.set_xticks([1, 5, 10, 50], labels=['1', '5', '10', '50'])\n",
    "    ax.set_yscale('log')\n",
    "    ax.set_yticks([1, 5, 10, 20, 50], labels=['1', '5', '10', '20', '50'])\n",
    "    ax.annotate('Day 18.50', xy=(90, 120), xycoords='axes points', size=9, ha='right', va='top', bbox=dict(boxstyle='round', fc='w', ec=\"w\"))\n",
    "    ax.tick_params(axis='both', which='both', direction='in', top=True, right=True)\n",
    "    ax.plot(df1['Frequency(GHz)'][mask], fit_model_weights1(df1['Frequency(GHz)'][mask]), 'r--')\n",
    "    ax.annotate('${\\u03B1 = 1.413 \\\\pm 0.168}$', xy=(90, 100), xycoords='axes points', size=9, ha='right', va='top', bbox=dict(boxstyle='round', fc='w', ec=\"w\"))\n",
    "\n",
    "plt.show();\n"
   ]
  },
  {
   "cell_type": "markdown",
   "id": "59ab0633-39f9-49d8-82b7-c3279a4b5a95",
   "metadata": {},
   "source": [
    "## Day 32.53"
   ]
  },
  {
   "cell_type": "code",
   "execution_count": 14,
   "id": "9400c419-1547-49e7-b2b5-ad76d1fdce8c",
   "metadata": {},
   "outputs": [],
   "source": [
    "#(work for anything with 3+ points)\n",
    "mask = df2['Fluxdensity(mJy)'] > 3 * df2['error(mJy)']  # apply detection threshold\n",
    "\n",
    "x2 = df2['Frequency(GHz)'][mask].values.tolist()\n",
    "y2 = df2['Fluxdensity(mJy)'][mask].values.tolist()\n",
    "yerr2 = df2['error(mJy)'][mask].values.tolist()\n"
   ]
  },
  {
   "cell_type": "code",
   "execution_count": 15,
   "id": "72aff087-d3bc-415d-9166-772aad675324",
   "metadata": {},
   "outputs": [],
   "source": [
    "yerr2 = error(yerr2, x2, y2)"
   ]
  },
  {
   "cell_type": "code",
   "execution_count": 16,
   "id": "41373b28-0f78-4e4c-9b20-4918c094bb70",
   "metadata": {},
   "outputs": [
    {
     "data": {
      "text/plain": [
       "<PowerLaw1D(amplitude=0.7616623, x_0=1091.88920518, alpha=-0.38013484)>"
      ]
     },
     "execution_count": 16,
     "metadata": {},
     "output_type": "execute_result"
    }
   ],
   "source": [
    "PL2 =  PowerLaw1D(amplitude = y2[0], x_0= x2[0], alpha= -2) \n",
    "\n",
    "#Initialize fitters\n",
    "#setting calc_uncertainties=True to output errors on measurement \n",
    "\n",
    "fit2 = fitting.LevMarLSQFitter(calc_uncertainties=True)\n",
    "\n",
    "#Fit the data w/o weights\n",
    "fit_model2 = fit2(PL2, x2, y2)\n",
    "\n",
    "\n",
    "#weight is 1/error^2\n",
    "y_weight2 = 1/ (np.power(yerr2, 2))  \n",
    "\n",
    "# fit the data using the uncertainties as weights\n",
    "fit_model_weights2 = fit2(PL2, x2, y2, weights=y_weight2)\n",
    "\n",
    "fit_model_weights2\n"
   ]
  },
  {
   "cell_type": "code",
   "execution_count": 17,
   "id": "f1d5b2f0-39c3-4161-915b-3e599cd23f4a",
   "metadata": {},
   "outputs": [
    {
     "data": {
      "text/plain": [
       "{'nfev': 31,\n",
       " 'fvec': array([ -3.76283044,  17.18111812, -12.64150018]),\n",
       " 'fjac': array([[-1.03359448e+03, -2.97817576e+02,  7.88870568e-02],\n",
       "        [-2.97817576e+02, -2.40906863e+01,  6.38123298e-03],\n",
       "        [ 7.88870568e-02,  6.38123298e-03,  1.73472348e-18]]),\n",
       " 'ipvt': array([2, 0, 1], dtype=int32),\n",
       " 'qtf': array([-1.85935683e-03, -2.46597483e-04,  2.16600379e+01]),\n",
       " 'message': 'Both actual and predicted relative reductions in the sum of squares\\n  are at most 0.000000',\n",
       " 'ierr': 1,\n",
       " 'param_jac': None,\n",
       " 'param_cov': None,\n",
       " 'njev': 20,\n",
       " 'cov_x': array([[2.33158013e+28, 8.80227468e+31, 9.01459050e+12],\n",
       "        [8.80227468e+31, 3.32306999e+35, 3.40322431e+16],\n",
       "        [9.01459050e+12, 3.40322431e+16, 3.62930268e-03]])}"
      ]
     },
     "execution_count": 17,
     "metadata": {},
     "output_type": "execute_result"
    }
   ],
   "source": [
    "fit2.fit_info"
   ]
  },
  {
   "cell_type": "code",
   "execution_count": 18,
   "id": "0f346c14-d735-47df-99a6-cbca97c5cd55",
   "metadata": {},
   "outputs": [
    {
     "name": "stdout",
     "output_type": "stream",
     "text": [
      "The error/standard deviation is 0.7532117131791589\n"
     ]
    }
   ],
   "source": [
    "#taking fvec\n",
    "fvec2 = np.array([ -3.76283044,  17.18111812, -12.64150018])\n",
    "var2 = np.var(fvec2)\n",
    "\n",
    "#taking cov_x\n",
    "cov_x2 = np.array([[2.33158013e+28, 8.80227468e+31, 9.01459050e+12],\n",
    "        [8.80227468e+31, 3.32306999e+35, 3.40322431e+16],\n",
    "        [9.01459050e+12, 3.40322431e+16, 3.62930268e-03]])\n",
    "\n",
    "def stand(cov):\n",
    "    diag = np.diagonal(cov)\n",
    "    sd1 = np.sqrt(diag[0])\n",
    "    sd2 = np.sqrt(diag[1])\n",
    "    sd3 = np.sqrt(diag[2])\n",
    "    return(sd1,sd2,sd3)\n",
    "\n",
    "diag2 = stand(cov_x2*var2) \n",
    "\n",
    "#The last diagonal element corresponds to alpha\n",
    "#So here we are calculating the standard deviation on the slope\n",
    "\n",
    "#print(diag)  #prints standard deviations of all three variances\n",
    "\n",
    "print('The error/standard deviation is', diag2[2]) #Just showing the standard deviation on the slope\n"
   ]
  },
  {
   "cell_type": "code",
   "execution_count": 19,
   "id": "ebaac594-0489-492b-8c57-929b98152785",
   "metadata": {},
   "outputs": [
    {
     "data": {
      "image/png": "[encoded data removed]",
      "text/plain": [
       "<Figure size 640x480 with 1 Axes>"
      ]
     },
     "metadata": {},
     "output_type": "display_data"
    }
   ],
   "source": [
    "#plotting to check\n",
    "fig,ax = plt.subplots()\n",
    "mask = df2['Fluxdensity(mJy)'] > 3 * df2['error(mJy)']  # apply detection threshold\n",
    "if mask.any():  # proceed only if at least one detection\n",
    "    ax.errorbar(df2['Frequency(GHz)'][mask], df2['Fluxdensity(mJy)'][mask], yerr=yerr2, fmt='^')\n",
    "    ax.set_xscale('log')\n",
    "    ax.set_xticks([1, 5, 10, 50], labels=['1', '5', '10', '50'])\n",
    "    ax.set_yscale('log')\n",
    "    ax.set_yticks([1, 5, 10, 20, 50], labels=['1', '5', '10', '20', '50'])\n",
    "    ax.annotate('Day 32.53', xy=(90, 120), xycoords='axes points', size=9, ha='right', va='top', bbox=dict(boxstyle='round', fc='w', ec=\"w\"))\n",
    "    ax.tick_params(axis='both', which='both', direction='in', top=True, right=True)\n",
    "    ax.plot(df2['Frequency(GHz)'][mask], fit_model_weights2(df2['Frequency(GHz)'][mask]), 'r--')\n",
    "    ax.annotate('${\\u03B1 = 0.380 \\\\pm 0.753}$', xy=(90, 100), xycoords='axes points', size=9, ha='right', va='top', bbox=dict(boxstyle='round', fc='w', ec=\"w\"))\n",
    "\n",
    "plt.show();\n"
   ]
  },
  {
   "cell_type": "markdown",
   "id": "3376e931-380e-4552-a730-2966b2f040e2",
   "metadata": {},
   "source": [
    "## Day 39.42"
   ]
  },
  {
   "cell_type": "code",
   "execution_count": 20,
   "id": "17c13a96-086f-40ae-a179-1e335427bb45",
   "metadata": {},
   "outputs": [],
   "source": [
    "#(work for anything with 3+ points)\n",
    "mask = df3['Fluxdensity(mJy)'] > 3 * df3['error(mJy)']  # apply detection threshold\n",
    "\n",
    "x3 = df3['Frequency(GHz)'][mask].values.tolist()\n",
    "y3 = df3['Fluxdensity(mJy)'][mask].values.tolist()\n",
    "yerr3 = df3['error(mJy)'][mask].values.tolist()\n"
   ]
  },
  {
   "cell_type": "code",
   "execution_count": 21,
   "id": "935c5ae3-0f81-422c-be2f-cddfa51a60fe",
   "metadata": {},
   "outputs": [],
   "source": [
    "yerr3 = error(yerr3, x3, y3)"
   ]
  },
  {
   "cell_type": "code",
   "execution_count": 22,
   "id": "112b410d-2f25-46ed-a415-b5c8e4860f3e",
   "metadata": {},
   "outputs": [
    {
     "data": {
      "text/plain": [
       "<PowerLaw1D(amplitude=0.09906752, x_0=12.62166634, alpha=-0.43969211)>"
      ]
     },
     "execution_count": 22,
     "metadata": {},
     "output_type": "execute_result"
    }
   ],
   "source": [
    "PL3 =  PowerLaw1D(amplitude = y3[0], x_0= x3[0], alpha= .4) \n",
    "\n",
    "#Initialize fitters\n",
    "#setting calc_uncertainties=True to output errors on measurement \n",
    "\n",
    "fit3 = fitting.LevMarLSQFitter(calc_uncertainties=True)\n",
    "\n",
    "#Fit the data w/o weights\n",
    "fit_model3 = fit3(PL3, x3, y3)\n",
    "\n",
    "\n",
    "#weight is 1/error^2\n",
    "y_weight3 = 1/ (np.power(yerr3, 2))  \n",
    "\n",
    "# fit the data using the uncertainties as weights\n",
    "fit_model_weights3 = fit3(PL3, x3, y3, weights=y_weight3)\n",
    "\n",
    "fit_model_weights3\n"
   ]
  },
  {
   "cell_type": "code",
   "execution_count": 23,
   "id": "9077799a-6b0b-4c69-a39c-cc96175f91c4",
   "metadata": {},
   "outputs": [
    {
     "data": {
      "text/plain": [
       "{'nfev': 13,\n",
       " 'fvec': array([ -9.03173287,  12.09337772, -16.55803557]),\n",
       " 'fjac': array([[-5.70638960e+03,  1.02452443e+02,  1.96928996e+01],\n",
       "        [ 1.02452443e+02,  7.01564027e+01,  3.34919373e-12],\n",
       "        [ 1.96928996e+01, -4.10682865e-15,  3.42493303e-15]]),\n",
       " 'ipvt': array([0, 2, 1], dtype=int32),\n",
       " 'qtf': array([-1.16605481e-08, -4.29741157e-05,  2.24051451e+01]),\n",
       " 'message': 'Both actual and predicted relative reductions in the sum of squares\\n  are at most 0.000000',\n",
       " 'ierr': 1,\n",
       " 'param_jac': None,\n",
       " 'param_cov': None,\n",
       " 'njev': 6,\n",
       " 'cov_x': array([[1.01529518e+24, 2.94200956e+26, 1.72219907e+10],\n",
       "        [2.94200956e+26, 8.52502836e+28, 4.99039708e+12],\n",
       "        [1.72219907e+10, 4.99039708e+12, 4.95301510e-04]])}"
      ]
     },
     "execution_count": 23,
     "metadata": {},
     "output_type": "execute_result"
    }
   ],
   "source": [
    "fit3.fit_info"
   ]
  },
  {
   "cell_type": "code",
   "execution_count": 24,
   "id": "de785960-5e09-4845-82a8-520ad0cb608d",
   "metadata": {},
   "outputs": [
    {
     "name": "stdout",
     "output_type": "stream",
     "text": [
      "The error/standard deviation is 0.26991553334069746\n"
     ]
    }
   ],
   "source": [
    "#taking fvec\n",
    "fvec3 = np.array([ -9.03173287,  12.09337772, -16.55803557])\n",
    "var3 = np.var(fvec3)\n",
    "\n",
    "#taking cov_x\n",
    "cov_x3 = np.array([[1.01529518e+24, 2.94200956e+26, 1.72219907e+10],\n",
    "        [2.94200956e+26, 8.52502836e+28, 4.99039708e+12],\n",
    "        [1.72219907e+10, 4.99039708e+12, 4.95301510e-04]])\n",
    "\n",
    "def stand(cov):\n",
    "    diag = np.diagonal(cov)\n",
    "    sd1 = np.sqrt(diag[0])\n",
    "    sd2 = np.sqrt(diag[1])\n",
    "    sd3 = np.sqrt(diag[2])\n",
    "    return(sd1,sd2,sd3)\n",
    "\n",
    "diag3 = stand(cov_x3*var3) \n",
    "\n",
    "#The last diagonal element corresponds to alpha\n",
    "#So here we are calculating the standard deviation on the slope\n",
    "\n",
    "#print(diag)  #prints standard deviations of all three variances\n",
    "\n",
    "print('The error/standard deviation is', diag3[2]) #Just showing the standard deviation on the slope\n"
   ]
  },
  {
   "cell_type": "code",
   "execution_count": 25,
   "id": "babd28ef-350b-43ba-90cd-a638a511c88e",
   "metadata": {},
   "outputs": [
    {
     "data": {
      "image/png": "[encoded data removed]",
      "text/plain": [
       "<Figure size 640x480 with 1 Axes>"
      ]
     },
     "metadata": {},
     "output_type": "display_data"
    }
   ],
   "source": [
    "#plotting to check\n",
    "fig,ax = plt.subplots()\n",
    "mask = df3['Fluxdensity(mJy)'] > 3 * df3['error(mJy)']  # apply detection threshold\n",
    "if mask.any():  # proceed only if at least one detection\n",
    "    ax.errorbar(df3['Frequency(GHz)'][mask], df3['Fluxdensity(mJy)'][mask], yerr=yerr3, fmt='^')\n",
    "    ax.set_xscale('log')\n",
    "    ax.set_xticks([1, 5, 10, 50], labels=['1', '5', '10', '50'])\n",
    "    ax.set_yscale('log')\n",
    "    ax.set_yticks([1, 5, 10, 20, 50], labels=['1', '5', '10', '20', '50'])\n",
    "    ax.annotate('Day 39.42', xy=(90, 120), xycoords='axes points', size=9, ha='right', va='top', bbox=dict(boxstyle='round', fc='w', ec=\"w\"))\n",
    "    ax.tick_params(axis='both', which='both', direction='in', top=True, right=True)\n",
    "    ax.plot(df3['Frequency(GHz)'][mask], fit_model_weights3(df3['Frequency(GHz)'][mask]), 'r--')\n",
    "    ax.annotate('${\\u03B1 = 0.440 \\\\pm 0.270}$', xy=(90, 100), xycoords='axes points', size=9, ha='right', va='top', bbox=dict(boxstyle='round', fc='w', ec=\"w\"))\n",
    "\n",
    "plt.show();\n"
   ]
  },
  {
   "cell_type": "markdown",
   "id": "7960a3b6-8bbb-4f7d-8bb3-9e014eba44ed",
   "metadata": {},
   "source": [
    "## All together now with the alpha"
   ]
  },
  {
   "cell_type": "code",
   "execution_count": 39,
   "id": "7ba67e65-d9aa-426d-bab8-8a6053482f02",
   "metadata": {},
   "outputs": [
    {
     "data": {
      "image/png": "[encoded data removed]",
      "text/plain": [
       "<Figure size 1200x500 with 3 Axes>"
      ]
     },
     "metadata": {},
     "output_type": "display_data"
    }
   ],
   "source": [
    "fig, ax = plt.subplots(1, 3, sharex='all', sharey='all')\n",
    "fig.set_size_inches(12, 5)\n",
    "fig.subplots_adjust(hspace=0, wspace=0)\n",
    "\n",
    "mask = df1['Fluxdensity(mJy)'] > 3 * df1['error(mJy)']  # apply detection threshold\n",
    "if mask.any():  # proceed only if at least one detection\n",
    "    ax[0].errorbar(df1['Frequency(GHz)'][mask], df1['Fluxdensity(mJy)'][mask], yerr=yerr1, fmt='^')\n",
    "    ax[0].set_xscale('log')\n",
    "    ax[0].set_xticks([1, 5, 10, 50], labels=['1', '5', '10', '50'], fontsize = 13)\n",
    "    ax[0].set_yscale('log')\n",
    "    ax[0].set_yticks([0.01,0.1,1, 5, 10, 20, 50], labels=['0.01','0.1','1', '5', '10', '20', '50'], fontsize = 13)\n",
    "    ax[0].annotate('Day 18.50', xy=(70, 180), xycoords='axes points', size=11, ha='right', va='top', bbox=dict(boxstyle='round', fc='w', ec=\"w\"))\n",
    "    ax[0].tick_params(axis='both', which='both', direction='in', top=True, right=True)\n",
    "    ax[0].plot(df1['Frequency(GHz)'][mask], fit_model_weights1(df1['Frequency(GHz)'][mask]), 'r--')\n",
    "    ax[0].annotate('${\\u03B1 = 1.413 \\\\pm 0.168}$', xy=(110, 160), xycoords='axes points', size=11, ha='right', va='top', bbox=dict(boxstyle='round', fc='w', ec=\"w\"))\n",
    "\n",
    "mask = df2['Fluxdensity(mJy)'] > 3 * df2['error(mJy)']  # apply detection threshold\n",
    "if mask.any():  # proceed only if at least one detection\n",
    "    ax[1].errorbar(df2['Frequency(GHz)'][mask], df2['Fluxdensity(mJy)'][mask], yerr=yerr2, fmt='^')\n",
    "    ax[1].set_xscale('log')\n",
    "    ax[1].set_xticks([1, 5, 10, 50], labels=['1', '5', '10', '50'], fontsize = 13)\n",
    "    ax[1].set_yscale('log')\n",
    "    ax[1].set_yticks([1, 5, 10, 20, 50], labels=['1', '5', '10', '20', '50'], fontsize = 13)\n",
    "    ax[1].annotate('Day 32.53', xy=(80, 180), xycoords='axes points', size=11, ha='right', va='top', bbox=dict(boxstyle='round', fc='w', ec=\"w\"))\n",
    "    ax[1].tick_params(axis='both', which='both', direction='in', top=True, right=True)\n",
    "    ax[1].plot(df2['Frequency(GHz)'][mask], fit_model_weights2(df2['Frequency(GHz)'][mask]), 'r--')\n",
    "    ax[1].annotate('${\\u03B1 = 0.380 \\\\pm 0.753}$', xy=(115, 160), xycoords='axes points', size=11, ha='right', va='top', bbox=dict(boxstyle='round', fc='w', ec=\"w\"))\n",
    "\n",
    "#plotting to check\n",
    "mask = df3['Fluxdensity(mJy)'] > 3 * df3['error(mJy)']  # apply detection threshold\n",
    "if mask.any():  # proceed only if at least one detection\n",
    "    ax[2].errorbar(df3['Frequency(GHz)'][mask], df3['Fluxdensity(mJy)'][mask], yerr=yerr3, fmt='^')\n",
    "    ax[2].set_xscale('log')\n",
    "    ax[2].set_xticks([1, 5, 10, 50], labels=['1', '5', '10', '50'], fontsize = 13)\n",
    "    ax[2].set_yscale('log')\n",
    "    ax[2].set_yticks([0.1, 0.5,1, 5, 10, 20, 50], labels=['0.1','0.5','1', '5', '10', '20', '50'], fontsize = 13)\n",
    "    ax[2].annotate('Day 39.42', xy=(90, 180), xycoords='axes points', size=11, ha='right', va='top', bbox=dict(boxstyle='round', fc='w', ec=\"w\"))\n",
    "    ax[2].tick_params(axis='both', which='both', direction='in', top=True, right=True)\n",
    "    ax[2].plot(df3['Frequency(GHz)'][mask], fit_model_weights3(df3['Frequency(GHz)'][mask]), 'r--')\n",
    "    ax[2].annotate('${\\u03B1 = 0.440 \\\\pm 0.270}$', xy=(125, 160), xycoords='axes points', size=11, ha='right', va='top', bbox=dict(boxstyle='round', fc='w', ec=\"w\"))\n",
    "\n",
    "\n",
    "\n",
    "\n",
    "fig.supxlabel(\"Frequency (GHz)\", fontsize = 20)\n",
    "fig.supylabel(\"Flux Density (mJy)\", fontsize = 20)\n",
    "plt.savefig(\"USco_SI.png\")\n",
    "plt.show();"
   ]
  },
  {
   "cell_type": "code",
   "execution_count": null,
   "id": "7a917997-b8c5-441f-8527-3bb5a567b930",
   "metadata": {},
   "outputs": [],
   "source": []
  }
 ],
 "metadata": {
  "kernelspec": {
   "display_name": "anaconda-2025.04-py3.11",
   "language": "python",
   "name": "conda-env-anaconda-2025.04-py3.11"
  },
  "language_info": {
   "codemirror_mode": {
    "name": "ipython",
    "version": 3
   },
   "file_extension": ".py",
   "mimetype": "text/x-python",
   "name": "python",
   "nbconvert_exporter": "python",
   "pygments_lexer": "ipython3",
   "version": "3.11.11"
  }
 },
 "nbformat": 4,
 "nbformat_minor": 5
}
