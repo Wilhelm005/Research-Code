{
 "cells": [
  {
   "cell_type": "code",
   "execution_count": 2,
   "id": "3671c422",
   "metadata": {},
   "outputs": [],
   "source": [
    "import numpy as np\n",
    "import pandas as pd\n",
    "import astropy.units as u\n",
    "import astropy.constants as const"
   ]
  },
  {
   "cell_type": "code",
   "execution_count": 5,
   "id": "534f513f",
   "metadata": {},
   "outputs": [
    {
     "data": {
      "text/html": [
       "<div>\n",
       "<style scoped>\n",
       "    .dataframe tbody tr th:only-of-type {\n",
       "        vertical-align: middle;\n",
       "    }\n",
       "\n",
       "    .dataframe tbody tr th {\n",
       "        vertical-align: top;\n",
       "    }\n",
       "\n",
       "    .dataframe thead th {\n",
       "        text-align: right;\n",
       "    }\n",
       "</style>\n",
       "<table border=\"1\" class=\"dataframe\">\n",
       "  <thead>\n",
       "    <tr style=\"text-align: right;\">\n",
       "      <th></th>\n",
       "      <th>Nova</th>\n",
       "      <th>Distance</th>\n",
       "      <th>Distance Error (+)</th>\n",
       "      <th>Distance Error (-)</th>\n",
       "      <th>Distance Source</th>\n",
       "    </tr>\n",
       "  </thead>\n",
       "  <tbody>\n",
       "    <tr>\n",
       "      <th>0</th>\n",
       "      <td>V392 Per</td>\n",
       "      <td>3.40</td>\n",
       "      <td>0.78</td>\n",
       "      <td>0.33</td>\n",
       "      <td>Gaia DR3 Parallax</td>\n",
       "    </tr>\n",
       "    <tr>\n",
       "      <th>1</th>\n",
       "      <td>V1535 Sco</td>\n",
       "      <td>7.79</td>\n",
       "      <td>0.75</td>\n",
       "      <td>0.69</td>\n",
       "      <td>Gaia DR3 Parallax</td>\n",
       "    </tr>\n",
       "    <tr>\n",
       "      <th>2</th>\n",
       "      <td>V5589 Sgr</td>\n",
       "      <td>8.04</td>\n",
       "      <td>1.78</td>\n",
       "      <td>1.35</td>\n",
       "      <td>Extinctions / Mass Model</td>\n",
       "    </tr>\n",
       "  </tbody>\n",
       "</table>\n",
       "</div>"
      ],
      "text/plain": [
       "        Nova  Distance  Distance Error (+)  Distance Error (-)  \\\n",
       "0   V392 Per      3.40                0.78                0.33   \n",
       "1  V1535 Sco      7.79                0.75                0.69   \n",
       "2  V5589 Sgr      8.04                1.78                1.35   \n",
       "\n",
       "            Distance Source  \n",
       "0         Gaia DR3 Parallax  \n",
       "1         Gaia DR3 Parallax  \n",
       "2  Extinctions / Mass Model  "
      ]
     },
     "execution_count": 5,
     "metadata": {},
     "output_type": "execute_result"
    }
   ],
   "source": [
    "\n",
    "data = (\n",
    "['V392 Per',\t3.40,    \t0.78,\t\t\t0.33,\t\t\t'Gaia DR3 Parallax'],\n",
    "['V1535 Sco',\t7.79,\t  \t0.75,\t        \t0.69,\t\t\t'Gaia DR3 Parallax'],\n",
    "['V5589 Sgr',\t8.04,\t\t1.78,\t\t\t1.35,\t\t\t'Extinctions / Mass Model'],)\n",
    "\n",
    "df = pd.DataFrame(data, columns = ['Nova', 'Distance', 'Distance Error (+)', 'Distance Error (-)', 'Distance Source'])\n",
    "\n",
    "df"
   ]
  },
  {
   "cell_type": "code",
   "execution_count": 3,
   "id": "32bd8a5c",
   "metadata": {},
   "outputs": [
    {
     "ename": "NameError",
     "evalue": "name 'date_CAC' is not defined",
     "output_type": "error",
     "traceback": [
      "\u001b[1;31m---------------------------------------------------------------------------\u001b[0m",
      "\u001b[1;31mNameError\u001b[0m                                 Traceback (most recent call last)",
      "Cell \u001b[1;32mIn[3], line 4\u001b[0m\n\u001b[0;32m      1\u001b[0m \u001b[38;5;66;03m#CHANGING R: V IS CONSTANT BUT T IS CHANGING \u001b[39;00m\n\u001b[0;32m      2\u001b[0m \u001b[38;5;66;03m#S = flux values corresponding to nu \u001b[39;00m\n\u001b[1;32m----> 4\u001b[0m date_CAC_sec \u001b[38;5;241m=\u001b[39m date_CAC \u001b[38;5;241m*\u001b[39m \u001b[38;5;241m86400\u001b[39m    \u001b[38;5;66;03m#time in seconds  \u001b[39;00m\n\u001b[0;32m      5\u001b[0m V_const \u001b[38;5;241m=\u001b[39m  \u001b[38;5;241m4454.63\u001b[39m \u001b[38;5;241m*\u001b[39m \u001b[38;5;241m100000\u001b[39m        \u001b[38;5;66;03m#velocity in cm/s\u001b[39;00m\n\u001b[0;32m      7\u001b[0m nu0 \u001b[38;5;241m=\u001b[39m \u001b[38;5;241m0.61\u001b[39m \u001b[38;5;66;03m#FREQUENCY 1\u001b[39;00m\n",
      "\u001b[1;31mNameError\u001b[0m: name 'date_CAC' is not defined"
     ]
    }
   ],
   "source": [
    "#CHANGING R: V IS CONSTANT BUT T IS CHANGING \n",
    "#no nondetections in this\n",
    "#S = flux values corresponding to nu \n",
    "\n",
    "Dist =                   #distance in cm\n",
    "date_CAC_sec = date_CAC * 86400    #time in seconds  (date_CAC is going to be a list of times (from t0))\n",
    "V_const =  4454.63 * 100000        #velocity in cm/s\n",
    "\n",
    "nu0 = 0.61 #FREQUENCY 1\n",
    "nu1 = 4.56 #frequency 2\n",
    "nu2 = 36.5 #frequency 3\n",
    "\n",
    "def Con_TB(S,T,E,nu): #flux denisty, time, error of flux density, frequency in order those are the plug ins\n",
    "    R = []\n",
    "    CTB = []\n",
    "    CTBE = []\n",
    "    \n",
    "    for i in range(len(S)):\n",
    "        R.append(V_const * T[i])  #velocity over time                  #R in cm\n",
    "        angular_diam = 206265 * ((2*R[i])/ Dist)                       #unitless\n",
    "        CTB.append(1765.8 * (nu**(-2)) * S[i]*(angular_diam**(-2)))    #mJy / (Ghz^2)\n",
    "        CTBE.append(1765.8 * (nu**(-2)) * E[i]*(angular_diam**(-2)))\n",
    "    \n",
    "    return(CTB, CTBE)\n",
    "        \n"
   ]
  },
  {
   "cell_type": "code",
   "execution_count": 6,
   "id": "5f62610d-b500-43d8-9a30-a3a9ba60ae4a",
   "metadata": {},
   "outputs": [],
   "source": [
    "#with the output of the CTB and CTBError, you plot it with CTB on the y axis and time on the xaxis\n",
    "#horizontal line at 5*10^4 K (limit for thermal emmision)"
   ]
  },
  {
   "cell_type": "code",
   "execution_count": 1,
   "id": "aef38b1b-6086-4f04-baa4-bf4388b6b1b0",
   "metadata": {},
   "outputs": [],
   "source": [
    "#so, step by step\n",
    "#1 - Plug in the distance and velocity for the nova ( make sure they are in cm or cm/s\n",
    "# 2 - using the dataset (divided by frequency) and make the list for the dates start from T0\n",
    "# Plug in the values (the flux density list, the time list made in step 2, the flux error list, and the frequency is constant\n",
    "#get the output of the CTB and CTBerror\n",
    "#use that to make the plot"
   ]
  },
  {
   "cell_type": "code",
   "execution_count": null,
   "id": "8cdd8350-5afa-4fdc-95a2-2dd2c41be173",
   "metadata": {},
   "outputs": [],
   "source": []
  }
 ],
 "metadata": {
  "kernelspec": {
   "display_name": "Python 3 (ipykernel)",
   "language": "python",
   "name": "python3"
  },
  "language_info": {
   "codemirror_mode": {
    "name": "ipython",
    "version": 3
   },
   "file_extension": ".py",
   "mimetype": "text/x-python",
   "name": "python",
   "nbconvert_exporter": "python",
   "pygments_lexer": "ipython3",
   "version": "3.12.7"
  }
 },
 "nbformat": 4,
 "nbformat_minor": 5
}
