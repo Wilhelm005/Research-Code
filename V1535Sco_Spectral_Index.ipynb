{
 "cells": [
  {
   "cell_type": "markdown",
   "id": "09f50aad-dfdb-479c-91f0-f8e2a7e1b245",
   "metadata": {},
   "source": [
    "### V1535 Sco Spectral Index Work"
   ]
  },
  {
   "cell_type": "code",
   "execution_count": 1,
   "id": "23a84284-f8a3-43a6-9d5e-85b34efd9d17",
   "metadata": {},
   "outputs": [],
   "source": [
    "#imports imports imports\n",
    "import math\n",
    "import pandas as pd\n",
    "import numpy as np\n",
    "import matplotlib.pyplot as plt\n",
    "%matplotlib inline\n",
    "\n",
    "from sympy import diff as dif\n",
    "\n",
    "from astropy.io import ascii\n",
    "import astropy.units as u\n",
    "import astropy.constants as const\n",
    "from astropy.modeling.powerlaws import BrokenPowerLaw1D, SmoothlyBrokenPowerLaw1D, PowerLaw1D\n",
    "from astropy.modeling import fitting, models"
   ]
  },
  {
   "cell_type": "code",
   "execution_count": 2,
   "id": "d2876feb-bbd1-4456-b7d9-49df70a095e5",
   "metadata": {},
   "outputs": [],
   "source": [
    "#now to get all of the data"
   ]
  },
  {
   "cell_type": "code",
   "execution_count": 3,
   "id": "f83fcbdc-f70d-42c3-bc70-2b3a41a4d03b",
   "metadata": {},
   "outputs": [],
   "source": [
    "data = ([57067.5, 4.55, 4.132, 0.0203],#B\n",
    "[57067.5, 7.38, 2.786, 0.0128],\n",
    "[57067.5, 28.2, 0.819, 0.0575],\n",
    "[57067.5, 36.5, 0.675, 0.0834],\n",
    "\n",
    "        [57071.5, 13.5, 0.416, 0.0175], #B\n",
    "[57071.5, 17.4, 0.344, 0.0213],\n",
    "[57071.5, 28.2, 0.295, 0.0505],\n",
    "[57071.5, 36.5, 0.376, 0.0714],\n",
    "\n",
    "[57072.5, 1.26, 1.57, 0.0765], #B\n",
    "[57072.5, 1.74, 1.21, 0.0728],\n",
    "[57072.5, 4.55, 0.65, 0.0168],\n",
    "[57072.5, 7.38, 0.439, 0.0126],\n",
    "\n",
    "[57072.5, 4.87, 0.484, 0.0505], #VLBA\n",
    "\n",
    "[57077.6, 13.5, 0.385, 0.0163], #B\n",
    "[57077.6, 17.4, 0.456, 0.02],\n",
    "[57077.6, 28.2, 0.785, 0.0485],\n",
    "[57077.6, 36.5, 0.845, 0.0758],\n",
    "\n",
    "[57077.7, 4.87, 0.155, 0.0409], #VLBA\n",
    "\n",
    "[57082.5, 1.26, 0.0142, 0.101], #B\n",
    "[57082.5, 1.74, 0.12, 0.0655],\n",
    "[57082.5, 4.55, 0.221, 0.0181],\n",
    "[57082.5, 7.38, 0.192, 0.0157],\n",
    "\n",
    "[57088.5, 13.5, 0.585, 0.0166], #B\n",
    "[57088.5, 17.4, 0.755, 0.0207],\n",
    "[57088.5, 28.2, 1.15, 0.0462],\n",
    "[57088.5, 36.5, 1.68, 0.071],\n",
    "\n",
    "[57091.4, 1.26, 0.153, 0.0738], #B\n",
    "[57091.4, 1.74, 0.11, 0.0538],\n",
    "[57091.4, 4.55, 0.455, 0.0187],\n",
    "[57091.4, 7.38, 0.536, 0.0136],\n",
    "\n",
    "[57106.42, 13.5, 0.267, 0.0126], #B\n",
    "[57106.42, 17.4, 0.299, 0.0143],\n",
    "[57106.42, 28.2, 0.348, 0.0405],\n",
    "[57106.42, 36.5, 0.186, 0.0551],\n",
    "\n",
    "[57106.47, 1.26, 0.273, 0.112], #B\n",
    "[57106.47, 1.74, 0.163, 0.0597],\n",
    "[57106.47, 4.55, 0.222, 0.0161],\n",
    "[57106.47, 7.38, 0.253, 0.012],\n",
    "\n",
    "[57119.41, 13.5, 0.457, 0.0248], #B\n",
    "[57119.41, 17.4, 0.399, 0.0182],\n",
    "[57119.41, 28.2, 0.323, 0.0446],\n",
    "[57119.41, 36.5, 0.276, 0.0602],\n",
    "\n",
    "[57120.57, 1.26, 0.873, 0.1], #B\n",
    "[57120.57, 1.74, 0.661, 0.0562],\n",
    "[57120.57, 4.55, 0.483, 0.0191],\n",
    "[57120.57, 7.38, 0.374, 0.0138],\n",
    "\n",
    "[57130.35, 1.26, 0.444, 0.0813], #B\n",
    "[57130.35, 1.74, 0.258, 0.056],\n",
    "[57130.35, 4.55, 0.256, 0.0172],\n",
    "[57130.35, 7.38, 0.228, 0.0117],\n",
    "\n",
    "[57131.33, 13.5, 0.209, 0.0156], #B\n",
    "[57131.33, 17.4, 0.167, 0.0221],\n",
    "[57131.33, 28.2, 0.173, 0.0482],\n",
    "[57131.33, 36.5, 0.0395, 0.0833],\n",
    "\n",
    "[57143.3, 1.26, -0.0723, 0.106], #B\n",
    "[57143.3, 1.74, 0.165, 0.0711],\n",
    "[57143.3, 4.55, 0.17, 0.0183],\n",
    "[57143.3, 7.38, 0.139, 0.0144],\n",
    "\n",
    "[57143.34, 13.5, 0.129, 0.0168], #B\n",
    "[57143.34, 17.4, 0.164, 0.0216],\n",
    "[57143.34, 28.2, 0.174, 0.0523],\n",
    "[57143.34, 36.5, 0.0153, 0.0753],\n",
    "\n",
    "[57158.3, 1.26, -0.152, 0.177], #B_> BnA\n",
    "[57158.3, 1.74, 0.101, 0.0784],\n",
    "[57158.3, 4.55, 0.0727, 0.023],\n",
    "[57158.3, 7.38, 0.0708, 0.0171],\n",
    "[57158.3, 13.5, 0.0518, 0.0175],\n",
    "[57158.3, 16.5, 0.0217, 0.0214],\n",
    "[57158.3, 29.5, 0.0401, 0.0362],\n",
    "[57158.3, 35, -0.00361, 0.045],\n",
    "\n",
    "[57187.2, 1.26, 0.277, 0.116], #BnA _> A\n",
    "[57187.2, 1.74, -0.0505, 0.0776],\n",
    "[57187.2, 5, 0.0194, 0.0204],\n",
    "[57187.2, 7, 0.044, 0.0223],\n",
    "[57187.2, 13.5, 0.0587, 0.0157],\n",
    "[57187.2, 16.5, 0.0569, 0.021],\n",
    "[57187.2, 29.5, 0.13, 0.0446],\n",
    "[57187.2, 35, -0.0206, 0.0588],\n",
    "\n",
    "#57360.7\t1.26\tXX\tXX #D\n",
    "#57360.7\t1.74\tXX\tXX\n",
    "[57360.7, 5, 0.0795, 0.031],\n",
    "[57360.7, 7, 0.0561, 0.022],\n",
    "[57360.7, 13.5, -0.0000599, 0.0196],\n",
    "[57360.7, 16.5, -0.000577, 0.0199],\n",
    "[57360.7, 29.6, -0.0157, 0.051],\n",
    "[57360.7, 35, 0.0632, 0.0608],)\n",
    "\n",
    "\n",
    "\n",
    "df =  pd.DataFrame(data, columns = [\"MJD\", \"Freq (GHz)\", \"Flux Density (mJy)\", \"Uncertainty (mJy)\"])"
   ]
  },
  {
   "cell_type": "code",
   "execution_count": 4,
   "id": "d5326935-c713-4182-a1a4-5ff7c5c2eccb",
   "metadata": {},
   "outputs": [],
   "source": [
    "#splitting it up by day"
   ]
  },
  {
   "cell_type": "code",
   "execution_count": 6,
   "id": "db23f890-7381-40b4-9448-9e137ca6ef2e",
   "metadata": {},
   "outputs": [],
   "source": [
    "\n",
    "\n",
    "E1 = ([57067.5, 4.55, 4.132, 0.0203],#B\n",
    "[57067.5, 7.38, 2.786, 0.0128],\n",
    "[57067.5, 28.2, 0.819, 0.0575],\n",
    "[57067.5, 36.5, 0.675, 0.0834],)\n",
    "\n",
    "E2 = ( [57071.5, 13.5, 0.416, 0.0175], #B\n",
    "[57071.5, 17.4, 0.344, 0.0213],\n",
    "[57071.5, 28.2, 0.295, 0.0505],\n",
    "[57071.5, 36.5, 0.376, 0.0714],\t\t\t\t\n",
    "    )\n",
    "\n",
    "E3 = ([57072.5, 1.26, 1.57, 0.0765], #B\n",
    "[57072.5, 1.74, 1.21, 0.0728],\n",
    "[57072.5, 4.55, 0.65, 0.0168],\n",
    "[57072.5, 7.38, 0.439, 0.0126],\n",
    "\n",
    "[57072.5, 4.87, 0.484, 0.0505], #VLBA\n",
    "    )\n",
    "\n",
    "E4 = ([57077.6, 13.5, 0.385, 0.0163], #B\n",
    "[57077.6, 17.4, 0.456, 0.02],\n",
    "[57077.6, 28.2, 0.785, 0.0485],\n",
    "[57077.6, 36.5, 0.845, 0.0758],\n",
    "\n",
    "[57077.7, 4.87, 0.155, 0.0409], #VLBA\n",
    "    )\n",
    "\n",
    "E5 = ([57082.5, 1.26, 0.0142, 0.101], #B\n",
    "[57082.5, 1.74, 0.12, 0.0655],\n",
    "[57082.5, 4.55, 0.221, 0.0181],\n",
    "[57082.5, 7.38, 0.192, 0.0157],\t\t\t\t\n",
    "    )\n",
    "\n",
    "E6 = (\t[57088.5, 13.5, 0.585, 0.0166], #B\n",
    "[57088.5, 17.4, 0.755, 0.0207],\n",
    "[57088.5, 28.2, 1.15, 0.0462],\n",
    "[57088.5, 36.5, 1.68, 0.071],\t\t\t\n",
    "    )\n",
    "\n",
    "E7 = ([57091.4, 1.26, 0.153, 0.0738], #B\n",
    "[57091.4, 1.74, 0.11, 0.0538],\n",
    "[57091.4, 4.55, 0.455, 0.0187],\n",
    "[57091.4, 7.38, 0.536, 0.0136],\n",
    "    )\n",
    "\n",
    "E8 = ([57106.42, 13.5, 0.267, 0.0126], #B\n",
    "[57106.42, 17.4, 0.299, 0.0143],\n",
    "[57106.42, 28.2, 0.348, 0.0405],\n",
    "[57106.42, 36.5, 0.186, 0.0551],\n",
    "\n",
    "[57106.47, 1.26, 0.273, 0.112], #B\n",
    "[57106.47, 1.74, 0.163, 0.0597],\n",
    "[57106.47, 4.55, 0.222, 0.0161],\n",
    "[57106.47, 7.38, 0.253, 0.012],\n",
    "    )\n",
    "\n",
    "E9 = ([57119.41, 13.5, 0.457, 0.0248], #B\n",
    "[57119.41, 17.4, 0.399, 0.0182],\n",
    "[57119.41, 28.2, 0.323, 0.0446],\n",
    "[57119.41, 36.5, 0.276, 0.0602],\n",
    "    )\n",
    "\n",
    "E10 = ([57120.57, 1.26, 0.873, 0.1], #B\n",
    "[57120.57, 1.74, 0.661, 0.0562],\n",
    "[57120.57, 4.55, 0.483, 0.0191],\n",
    "[57120.57, 7.38, 0.374, 0.0138],\n",
    "    )\n",
    "\n",
    "E11 = ([57130.35, 1.26, 0.444, 0.0813], #B\n",
    "[57130.35, 1.74, 0.258, 0.056],\n",
    "[57130.35, 4.55, 0.256, 0.0172],\n",
    "[57130.35, 7.38, 0.228, 0.0117],\n",
    "\n",
    "\t\t\t\t\n",
    "    )\n",
    "\n",
    "E12 = (\t\t[57131.33, 13.5, 0.209, 0.0156], #B\n",
    "[57131.33, 17.4, 0.167, 0.0221],\n",
    "[57131.33, 28.2, 0.173, 0.0482],\n",
    "[57131.33, 36.5, 0.0395, 0.0833],\t\t\n",
    "    )\n",
    "\n",
    "\n",
    "E13 =([57143.3, 1.26, -0.0723, 0.106], #B\n",
    "[57143.3, 1.74, 0.165, 0.0711],\n",
    "[57143.3, 4.55, 0.17, 0.0183],\n",
    "[57143.3, 7.38, 0.139, 0.0144],\n",
    "\n",
    "[57143.34, 13.5, 0.129, 0.0168], #B\n",
    "[57143.34, 17.4, 0.164, 0.0216],\n",
    "[57143.34, 28.2, 0.174, 0.0523],\n",
    "[57143.34, 36.5, 0.0153, 0.0753],\n",
    "    )\n",
    "\n",
    "E14 = ([57158.3, 1.26, -0.152, 0.177], #B_> BnA\n",
    "[57158.3, 1.74, 0.101, 0.0784],\n",
    "[57158.3, 4.55, 0.0727, 0.023],\n",
    "[57158.3, 7.38, 0.0708, 0.0171],\n",
    "[57158.3, 13.5, 0.0518, 0.0175],\n",
    "[57158.3, 16.5, 0.0217, 0.0214],\n",
    "[57158.3, 29.5, 0.0401, 0.0362],\n",
    "[57158.3, 35, -0.00361, 0.045],\n",
    "    )\n",
    "\n",
    "E15 = ([57187.2, 1.26, 0.277, 0.116], #BnA _> A\n",
    "[57187.2, 1.74, -0.0505, 0.0776],\n",
    "[57187.2, 5, 0.0194, 0.0204],\n",
    "[57187.2, 7, 0.044, 0.0223],\n",
    "[57187.2, 13.5, 0.0587, 0.0157],\n",
    "[57187.2, 16.5, 0.0569, 0.021],\n",
    "[57187.2, 29.5, 0.13, 0.0446],\n",
    "[57187.2, 35, -0.0206, 0.0588],\n",
    "\t\t\t\t\n",
    "    )\n",
    "\n",
    "E16 = (#57360.7\t1.26\tXX\tXX #D\n",
    "#57360.7\t1.74\tXX\tXX\n",
    "[57360.7, 5, 0.0795, 0.031],\n",
    "[57360.7, 7, 0.0561, 0.022],\n",
    "[57360.7, 13.5, -0.0000599, 0.0196],\n",
    "[57360.7, 16.5, -0.000577, 0.0199],\n",
    "[57360.7, 29.6, -0.0157, 0.051],\n",
    "[57360.7, 35, 0.0632, 0.0608],)"
   ]
  },
  {
   "cell_type": "code",
   "execution_count": 7,
   "id": "950e6fcd-3d14-47b8-9ba6-640236c6ed2b",
   "metadata": {},
   "outputs": [],
   "source": [
    "df1 =  pd.DataFrame(E1, columns = [\"MJD\", \"Freq (GHz)\", \"Flux Density (mJy)\", \"Uncertainty (mJy)\"])\n",
    "\n",
    "df2 =  pd.DataFrame(E2, columns = [\"MJD\", \"Freq (GHz)\", \"Flux Density (mJy)\", \"Uncertainty (mJy)\"])\n",
    "\n",
    "df3 =  pd.DataFrame(E3, columns = [\"MJD\", \"Freq (GHz)\", \"Flux Density (mJy)\", \"Uncertainty (mJy)\"])\n",
    "\n",
    "df4 =  pd.DataFrame(E4, columns = [\"MJD\", \"Freq (GHz)\", \"Flux Density (mJy)\", \"Uncertainty (mJy)\"])\n",
    "\n",
    "df5 =  pd.DataFrame(E5, columns = [\"MJD\", \"Freq (GHz)\", \"Flux Density (mJy)\", \"Uncertainty (mJy)\"])\n",
    "\n",
    "df6 =  pd.DataFrame(E6, columns = [\"MJD\", \"Freq (GHz)\", \"Flux Density (mJy)\", \"Uncertainty (mJy)\"])\n",
    "\n",
    "df7 =  pd.DataFrame(E7, columns = [\"MJD\", \"Freq (GHz)\", \"Flux Density (mJy)\", \"Uncertainty (mJy)\"])\n",
    "\n",
    "df8 =  pd.DataFrame(E8, columns = [\"MJD\", \"Freq (GHz)\", \"Flux Density (mJy)\", \"Uncertainty (mJy)\"])\n",
    "\n",
    "df9 =  pd.DataFrame(E9, columns = [\"MJD\", \"Freq (GHz)\", \"Flux Density (mJy)\", \"Uncertainty (mJy)\"])\n",
    "\n",
    "df10 =  pd.DataFrame(E10, columns = [\"MJD\", \"Freq (GHz)\", \"Flux Density (mJy)\", \"Uncertainty (mJy)\"])\n",
    "\n",
    "df11 =  pd.DataFrame(E11, columns = [\"MJD\", \"Freq (GHz)\", \"Flux Density (mJy)\", \"Uncertainty (mJy)\"])\n",
    "\n",
    "df12 =  pd.DataFrame(E12, columns = [\"MJD\", \"Freq (GHz)\", \"Flux Density (mJy)\", \"Uncertainty (mJy)\"])\n",
    "\n",
    "df13 =  pd.DataFrame(E13, columns = [\"MJD\", \"Freq (GHz)\", \"Flux Density (mJy)\", \"Uncertainty (mJy)\"])\n",
    "\n",
    "df14 =  pd.DataFrame(E14, columns = [\"MJD\", \"Freq (GHz)\", \"Flux Density (mJy)\", \"Uncertainty (mJy)\"])\n",
    "\n",
    "df15 =  pd.DataFrame(E15, columns = [\"MJD\", \"Freq (GHz)\", \"Flux Density (mJy)\", \"Uncertainty (mJy)\"])\n",
    "\n",
    "df16 =  pd.DataFrame(E16, columns = [\"MJD\", \"Freq (GHz)\", \"Flux Density (mJy)\", \"Uncertainty (mJy)\"])"
   ]
  },
  {
   "cell_type": "code",
   "execution_count": 8,
   "id": "3ea9c6ae-f886-4cbb-8cc1-53251f567422",
   "metadata": {},
   "outputs": [
    {
     "data": {
      "image/png": "[encoded data removed]",
      "text/plain": [
       "<Figure size 1200x1200 with 16 Axes>"
      ]
     },
     "metadata": {},
     "output_type": "display_data"
    }
   ],
   "source": [
    "dfs = [df1, df2, df3, df4, df5, df6, df7, df8, df9, df10,\n",
    "       df11, df12, df13, df14, df15, df16]\n",
    "\n",
    "\n",
    "#the days by the list so they can all be defined\n",
    "annotations = ['Day 2.66', 'Day 6.66', 'Day 7.66', 'Day 12.76', 'Day 17.66', 'Day 23.66',\n",
    "               'Day 26.56', 'Day 41.58', 'Day 54.57', 'Day 55.73', 'Day 65.51', 'Day 66.49',\n",
    "               'Day 78.463', 'Day 93.46', 'Day 122.36', 'Day 295.86' ]\n",
    "\n",
    "#making the figure (4,4) is the (rows, columns)\n",
    "fig, ax = plt.subplots(4, 4, sharex='all', sharey='all')\n",
    "fig.set_size_inches(12, 12)\n",
    "fig.subplots_adjust(hspace=0, wspace=0)\n",
    "\n",
    "#loop for each of the datasets\n",
    "for idx, (df, label) in enumerate(zip(dfs, annotations)):\n",
    "    row, col = divmod(idx, 4)\n",
    "    mask = df['Flux Density (mJy)'] > 3 * df['Uncertainty (mJy)'] #don't show the non-detections\n",
    "    if mask.any():\n",
    "        ax[row, col].errorbar(df['Freq (GHz)'][mask], df['Flux Density (mJy)'][mask], yerr=df['Uncertainty (mJy)'][mask], fmt='^')\n",
    "        ax[row, col].set_xscale('log')\n",
    "        ax[row, col].set_yscale('log')\n",
    "        ax[row, col].set_xticks([1, 5, 10, 50], labels=['1', '5', '10', '50'])\n",
    "        ax[row, col].set_yticks([.1, 1, 5, 10, 20, 50], labels=['0.1','1.0', '5.0', '10.0', '20.0', '50.0'])\n",
    "        ax[row, col].annotate(label, xy=(50, 100), xycoords='axes points', size=9, ha='right', va='top', bbox=dict(boxstyle='round', fc='w', ec=\"w\"))\n",
    "        ax[row, col].tick_params(axis='both', which='both', direction='in', top=True, right=True)\n",
    "\n",
    "fig.supxlabel(\"Frequency (GHz)\")\n",
    "fig.supylabel(\"Flux Density (mJy)\")\n",
    "plt.show();"
   ]
  },
  {
   "cell_type": "markdown",
   "id": "9e4d4cee-868f-48a2-aefd-7ffaf3e845cb",
   "metadata": {},
   "source": [
    "### Finding the alpha for each day"
   ]
  },
  {
   "cell_type": "markdown",
   "id": "12c25556-db48-49d5-99e8-109620ca09f0",
   "metadata": {},
   "source": [
    "#### Day 2.7"
   ]
  },
  {
   "cell_type": "code",
   "execution_count": 229,
   "id": "0a59d0b4-35c5-448d-96fa-418170cfccb5",
   "metadata": {},
   "outputs": [],
   "source": [
    "mask = df1['Flux Density (mJy)'] > 3 * df1['Uncertainty (mJy)']  # apply detection threshold\n",
    "if mask.any():\n",
    "    x1 = df1['Freq (GHz)'][mask].values.tolist()\n",
    "    y1 = df1['Flux Density (mJy)'][mask].values.tolist()\n",
    "    yerr1 = df1['Uncertainty (mJy)'][mask].values.tolist()\n"
   ]
  },
  {
   "cell_type": "code",
   "execution_count": 230,
   "id": "e1dc34fa-47c4-4807-a861-e909389695d3",
   "metadata": {},
   "outputs": [
    {
     "data": {
      "text/plain": [
       "<PowerLaw1D(amplitude=3.70995769, x_0=5.26578684, alpha=0.88702056)>"
      ]
     },
     "execution_count": 230,
     "metadata": {},
     "output_type": "execute_result"
    }
   ],
   "source": [
    "PL1 =  PowerLaw1D(amplitude = y1[0], x_0= x1[0], alpha= 1,\n",
    "                     bounds={\n",
    "        'amplitude': (0, None),  # Amplitude should be positive\n",
    "        'x_0': (min(x1), max(x1)),  # Frequency must stay within data\n",
    "        'alpha': (-10, 10)  # Keep alpha within a realistic range\n",
    "    }) \n",
    "\n",
    "    #Initialize fitters\n",
    "    #setting calc_uncertainties=True to output errors on measurement \n",
    "\n",
    "fit1 = fitting.LevMarLSQFitter(calc_uncertainties=True)\n",
    "\n",
    "    #Fit the data w/o weights\n",
    "fit_model1 = fit1(PL1, x1, y1, maxiter=10000)\n",
    "\n",
    "    #weight is 1/error^2\n",
    "y_weight1 = 1/ (np.power(yerr1,2))  \n",
    "\n",
    "    # fit the data using the uncertainties as weights\n",
    "fit_model_weights1 = fit1(PL1, x1, y1, weights=y_weight1, maxiter=10000)\n",
    "\n",
    "fit_model_weights1"
   ]
  },
  {
   "cell_type": "code",
   "execution_count": 231,
   "id": "23ec5b8a-de88-453b-a3b7-8402389b76d2",
   "metadata": {},
   "outputs": [
    {
     "data": {
      "text/plain": [
       "'Both actual and predicted relative reductions in the sum of squares\\n  are at most 0.000000'"
      ]
     },
     "execution_count": 231,
     "metadata": {},
     "output_type": "execute_result"
    }
   ],
   "source": [
    "fit1.fit_info['message']"
   ]
  },
  {
   "cell_type": "code",
   "execution_count": 232,
   "id": "094e3421-b103-4956-9d9c-d61ded22781e",
   "metadata": {},
   "outputs": [
    {
     "name": "stdout",
     "output_type": "stream",
     "text": [
      "{'nfev': 14, 'fvec': array([ 5.52079343, -4.97815754,  3.64547399, -1.09944829]), 'fjac': array([[-3.47694328e+02,  7.68842161e+01,  4.80481375e+01,\n",
      "        -4.57906573e-01],\n",
      "       [ 7.68842161e+01, -1.07926622e+02, -6.74478251e+01,\n",
      "         1.68805445e-01],\n",
      "       [ 4.80481375e+01, -6.74478251e+01,  7.94410929e-15,\n",
      "         4.47213595e-01]]), 'ipvt': array([3, 1, 2], dtype=int32), 'qtf': array([-3.50971151e-05,  4.99129849e-05, -8.00938102e+00]), 'message': 'Both actual and predicted relative reductions in the sum of squares\\n  are at most 0.000000', 'ierr': 1, 'param_jac': None, 'param_cov': array([[ 6.18854158e+27, -9.90259338e+27,  2.48959179e+11],\n",
      "       [-9.90259338e+27,  1.58456325e+28, -3.98371973e+11],\n",
      "       [ 2.48959179e+11, -3.98371973e+11,  2.24850857e-05]]), 'njev': 6, 'cov_x': array([[ 6.18854158e+27, -9.90259338e+27,  2.48959179e+11],\n",
      "       [-9.90259338e+27,  1.58456325e+28, -3.98371973e+11],\n",
      "       [ 2.48959179e+11, -3.98371973e+11,  2.24850857e-05]])}\n"
     ]
    }
   ],
   "source": [
    "print(fit1.fit_info)"
   ]
  },
  {
   "cell_type": "code",
   "execution_count": 233,
   "id": "39c57e8e-e4a6-4d22-ad81-eeb777ff9f08",
   "metadata": {},
   "outputs": [
    {
     "name": "stdout",
     "output_type": "stream",
     "text": [
      "The standard deviation is 0.004741844124388738\n"
     ]
    }
   ],
   "source": [
    "param_cov1= np.array([[ 6.18854158e+27, -9.90259338e+27,  2.48959179e+11],\n",
    "       [-9.90259338e+27,  1.58456325e+28, -3.98371973e+11],\n",
    "       [ 2.48959179e+11, -3.98371973e+11,  2.24850857e-05]])\n",
    "\n",
    "def stand(cov):\n",
    "    diag = np.diagonal(cov)\n",
    "    sd1 = np.sqrt(diag[0])\n",
    "    sd2 = np.sqrt(diag[1])\n",
    "    sd3 = np.sqrt(diag[2])\n",
    "    return(sd1,sd2,sd3)\n",
    "\n",
    "diag1 = stand(param_cov1) \n",
    "\n",
    "#The last diagonal element corresponds to alpha\n",
    "#So here we are calculating the standard deviation on the slope\n",
    "\n",
    "#print(diag)  #prints standard deviations of all three variances\n",
    "\n",
    "print(\"The standard deviation is\", diag1[2]) #Just showing the standard devation on the slope\n"
   ]
  },
  {
   "cell_type": "code",
   "execution_count": 234,
   "id": "9447ef08-2c24-44e2-8f13-dc00f0a2bbc4",
   "metadata": {},
   "outputs": [
    {
     "data": {
      "image/png": "[encoded data removed]",
      "text/plain": [
       "<Figure size 640x480 with 1 Axes>"
      ]
     },
     "metadata": {},
     "output_type": "display_data"
    }
   ],
   "source": [
    "fig,ax = plt.subplots()\n",
    "mask = df1['Flux Density (mJy)'] > 3 * df1['Uncertainty (mJy)']  # apply detection threshold\n",
    "if mask.any():  # proceed only if at least one detection\n",
    "    ax.errorbar(df1['Freq (GHz)'][mask], df1['Flux Density (mJy)'][mask], yerr=df1['Uncertainty (mJy)'][mask], fmt='^')\n",
    "    ax.set_xscale('log')\n",
    "    ax.set_xticks([1, 5, 10, 50], labels=['1', '5', '10', '50'])\n",
    "    ax.set_yscale('log')\n",
    "    ax.set_yticks([1, 5, 10, 20, 50], labels=['1', '5', '10', '20', '50'])\n",
    "    ax.annotate('Day 2.7', xy=(60, 100), xycoords='axes points', size=9, ha='right', va='top', bbox=dict(boxstyle='round', fc='w', ec=\"w\"))\n",
    "    ax.tick_params(axis='both', which='both', direction='in', top=True, right=True)\n",
    "    ax.plot(df1['Freq (GHz)'][mask], fit_model_weights1(df1['Freq (GHz)'][mask]), 'r--')\n",
    "    ax.annotate('${\\u03B1 = -0.887 \\\\pm 0.005}$', xy=(90, 80), xycoords='axes points', size=9, ha='right', va='top', bbox=dict(boxstyle='round', fc='w', ec=\"w\"))\n",
    "    #ax.annotate('${\\u03B1 2 =  \\\\pm }$', xy=(90, 60), xycoords='axes points', size=9, ha='right', va='top', bbox=dict(boxstyle='round', fc='w', ec=\"w\"))\n",
    "plt.show();"
   ]
  },
  {
   "cell_type": "markdown",
   "id": "03cc0990-4fbd-4f86-b693-a05e2db6785d",
   "metadata": {},
   "source": [
    "#### Day 6.66"
   ]
  },
  {
   "cell_type": "code",
   "execution_count": 235,
   "id": "ecd029f9-8807-4504-bbd6-cbd0569377ac",
   "metadata": {},
   "outputs": [],
   "source": [
    "mask = df2['Flux Density (mJy)'] > 3 * df2['Uncertainty (mJy)']  # apply detection threshold\n",
    "if mask.any():\n",
    "    x2 = df2['Freq (GHz)'][mask].values.tolist()\n",
    "    y2 = df2['Flux Density (mJy)'][mask].values.tolist()\n",
    "    yerr2 = df2['Uncertainty (mJy)'][mask].values.tolist()\n"
   ]
  },
  {
   "cell_type": "code",
   "execution_count": 236,
   "id": "8b097fa2-a44b-4db4-b30e-253fdec94545",
   "metadata": {},
   "outputs": [
    {
     "data": {
      "text/plain": [
       "<PowerLaw1D(amplitude=0.35599365, x_0=17.05960692, alpha=0.63831379)>"
      ]
     },
     "execution_count": 236,
     "metadata": {},
     "output_type": "execute_result"
    }
   ],
   "source": [
    "PL2 =  PowerLaw1D(amplitude = y2[0], x_0= x2[0], alpha= 1,\n",
    "                     bounds={\n",
    "        'amplitude': (0, None),  # Amplitude should be positive\n",
    "        'x_0': (min(x2), max(x2)),  # Frequency must stay within data\n",
    "        'alpha': (-10, 10)  # Keep alpha within a realistic range\n",
    "    }) \n",
    "\n",
    "    #Initialize fitters\n",
    "    #setting calc_uncertainties=True to output errors on measurement \n",
    "\n",
    "fit2 = fitting.LevMarLSQFitter(calc_uncertainties=True)\n",
    "\n",
    "    #Fit the data w/o weights\n",
    "fit_model2 = fit2(PL2, x2, y2)\n",
    "\n",
    "    #weight is 1/error^2\n",
    "y_weight2 = 1/ (np.power(yerr2,2))  \n",
    "\n",
    "    # fit the data using the uncertainties as weights\n",
    "fit_model_weights2 = fit2(PL2, x2, y2, weights=y_weight2)\n",
    "\n",
    "fit_model_weights2"
   ]
  },
  {
   "cell_type": "code",
   "execution_count": 285,
   "id": "a10d798f-7b07-44d8-95c4-688d25a00692",
   "metadata": {},
   "outputs": [
    {
     "name": "stdout",
     "output_type": "stream",
     "text": [
      "[2267.57369615 1736.11111111  355.99857601  182.61504748]\n"
     ]
    }
   ],
   "source": [
    "print(y_weight2)"
   ]
  },
  {
   "cell_type": "code",
   "execution_count": 284,
   "id": "165d2359-5f24-428f-82e9-9a770a36f4d5",
   "metadata": {},
   "outputs": [
    {
     "name": "stdout",
     "output_type": "stream",
     "text": [
      "[0.416, 0.344, 0.295, 0.376] [0.021, 0.024, 0.053, 0.074]\n"
     ]
    }
   ],
   "source": [
    "print(y2, yerr2)"
   ]
  },
  {
   "cell_type": "code",
   "execution_count": 237,
   "id": "42dd43f5-6fde-4412-95fb-239c9042224c",
   "metadata": {},
   "outputs": [
    {
     "name": "stdout",
     "output_type": "stream",
     "text": [
      "{'nfev': 13, 'fvec': array([ -6.01016109,  13.07710678, -13.0679728 , -28.65694293]), 'fjac': array([[-3.15445570e+03, -1.71663073e+02, -4.20176630e+01,\n",
      "         3.56255734e-02],\n",
      "       [-1.71663073e+02,  1.47829873e+02,  3.66047052e-15,\n",
      "         2.57197464e-01],\n",
      "       [-4.20176630e+01, -3.37886581e-15,  1.26470186e-15,\n",
      "         4.04668937e-01]]), 'ipvt': array([1, 3, 2], dtype=int32), 'qtf': array([ 4.07198110e-04, -2.34594317e-07,  2.72207212e+01]), 'message': 'Both actual and predicted relative reductions in the sum of squares\\n  are at most 0.000000', 'ierr': 1, 'param_jac': None, 'param_cov': array([[ 1.10927343e+26, -8.32781655e+27, -1.90344306e+11],\n",
      "       [-8.32781655e+27,  6.25206794e+29,  1.42900066e+13],\n",
      "       [-1.90344306e+11,  1.42900066e+13,  3.72377695e-04]]), 'njev': 6, 'cov_x': array([[ 1.10927343e+26, -8.32781655e+27, -1.90344306e+11],\n",
      "       [-8.32781655e+27,  6.25206794e+29,  1.42900066e+13],\n",
      "       [-1.90344306e+11,  1.42900066e+13,  3.72377695e-04]])}\n"
     ]
    }
   ],
   "source": [
    "print(fit2.fit_info)"
   ]
  },
  {
   "cell_type": "code",
   "execution_count": 283,
   "id": "4834c360-dc08-479b-b171-3dfaa32c312f",
   "metadata": {},
   "outputs": [
    {
     "name": "stdout",
     "output_type": "stream",
     "text": [
      "The standard deviation is 0.019297090324709578\n",
      "790700192234705.4 10532205039781.555 0.019297090324709578\n"
     ]
    }
   ],
   "source": [
    "param_cov2 = np.array([[ 1.10927343e+26, -8.32781655e+27, -1.90344306e+11],\n",
    "       [-8.32781655e+27,  6.25206794e+29,  1.42900066e+13],\n",
    "       [-1.90344306e+11,  1.42900066e+13,  3.72377695e-04]])\n",
    "\n",
    "def stand(cov):\n",
    "    diag = np.diagonal(cov)\n",
    "    sd1 = np.sqrt(diag[0])\n",
    "    sd2 = np.sqrt(diag[1])\n",
    "    sd3 = np.sqrt(diag[2])\n",
    "    return(sd1,sd2,sd3)\n",
    "\n",
    "diag2 = stand(param_cov2) \n",
    "\n",
    "#The last diagonal element corresponds to alpha\n",
    "#So here we are calculating the standard deviation on the slope\n",
    "\n",
    "#print(diag)  #prints standard deviations of all three variances\n",
    "\n",
    "print(\"The standard deviation is\", diag2[2]) #Just showing the standard devation on the slope\n",
    "print(diag2[1], diag2[0], diag2[2])"
   ]
  },
  {
   "cell_type": "code",
   "execution_count": 239,
   "id": "20d08243-e878-43a1-b638-84b9860bace9",
   "metadata": {},
   "outputs": [
    {
     "data": {
      "image/png": "[encoded data removed]",
      "text/plain": [
       "<Figure size 640x480 with 1 Axes>"
      ]
     },
     "metadata": {},
     "output_type": "display_data"
    }
   ],
   "source": [
    "fig,ax = plt.subplots()\n",
    "mask = df2['Flux Density (mJy)'] > 3 * df2['Uncertainty (mJy)']  # apply detection threshold\n",
    "if mask.any():  # proceed only if at least one detection\n",
    "    ax.errorbar(df2['Freq (GHz)'][mask], df2['Flux Density (mJy)'][mask], yerr=df2['Uncertainty (mJy)'][mask], fmt='^')\n",
    "    ax.set_xscale('log')\n",
    "    ax.set_xticks([1, 5, 10, 50], labels=['1', '5', '10', '50'])\n",
    "    ax.set_yscale('log')\n",
    "    ax.set_yticks([1, 5, 10, 20, 50], labels=['1', '5', '10', '20', '50'])\n",
    "    ax.annotate('Day 6.66', xy=(60, 100), xycoords='axes points', size=9, ha='right', va='top', bbox=dict(boxstyle='round', fc='w', ec=\"w\"))\n",
    "    ax.tick_params(axis='both', which='both', direction='in', top=True, right=True)\n",
    "    ax.plot(df2['Freq (GHz)'][mask], fit_model_weights2(df2['Freq (GHz)'][mask]), 'r--')\n",
    "    ax.annotate('${\\u03B1 = -0.638 \\\\pm 0.019}$', xy=(90, 80), xycoords='axes points', size=9, ha='right', va='top', bbox=dict(boxstyle='round', fc='w', ec=\"w\"))\n",
    "\n",
    "plt.show();"
   ]
  },
  {
   "cell_type": "markdown",
   "id": "a86ca139-cea7-4546-a151-7a290c999aec",
   "metadata": {},
   "source": [
    "#### Day 7.66"
   ]
  },
  {
   "cell_type": "code",
   "execution_count": 240,
   "id": "b0dd1fb1-d37d-41ab-ba9c-25f22bcc23e7",
   "metadata": {},
   "outputs": [],
   "source": [
    "mask = df3['Flux Density (mJy)'] > 3 * df3['Uncertainty (mJy)']  # apply detection threshold\n",
    "if mask.any():\n",
    "    x3 = df3['Freq (GHz)'][mask].values.tolist()\n",
    "    y3 = df3['Flux Density (mJy)'][mask].values.tolist()\n",
    "    yerr3 = df3['Uncertainty (mJy)'][mask].values.tolist()\n"
   ]
  },
  {
   "cell_type": "code",
   "execution_count": 241,
   "id": "96176eed-fee8-4145-96af-f2d20de5db55",
   "metadata": {},
   "outputs": [
    {
     "data": {
      "text/plain": [
       "<PowerLaw1D(amplitude=1.65045454, x_0=1.2833599, alpha=0.75298386)>"
      ]
     },
     "execution_count": 241,
     "metadata": {},
     "output_type": "execute_result"
    }
   ],
   "source": [
    "PL3 =  PowerLaw1D(amplitude = y3[0], x_0= x3[0], alpha= 1,\n",
    "                     bounds={\n",
    "        'amplitude': (0, None),  # Amplitude should be positive\n",
    "        'x_0': (min(x3), max(x3)),  # Frequency must stay within data\n",
    "        'alpha': (-10, 10)  # Keep alpha within a realistic range\n",
    "    }) \n",
    "\n",
    "    #Initialize fitters\n",
    "    #setting calc_uncertainties=True to output errors on measurement \n",
    "\n",
    "fit3 = fitting.LevMarLSQFitter(calc_uncertainties=True)\n",
    "\n",
    "    #Fit the data w/o weights\n",
    "fit_model3 = fit3(PL3, x3, y3)\n",
    "\n",
    "    #weight is 1/error^2\n",
    "y_weight3 = 1/ (np.power(yerr3,2))  \n",
    "\n",
    "    # fit the data using the uncertainties as weights\n",
    "fit_model_weights3 = fit3(PL3, x3, y3, weights=y_weight3)\n",
    "fit_model_weights3"
   ]
  },
  {
   "cell_type": "code",
   "execution_count": 242,
   "id": "bf980594-5ef2-4a4a-aeaa-8c1a3fb1f0c7",
   "metadata": {},
   "outputs": [
    {
     "name": "stdout",
     "output_type": "stream",
     "text": [
      "{'nfev': 17, 'fvec': array([ 12.77068734,  15.60382519, -20.14852239,   9.67870147]), 'fjac': array([[-2.66863728e+03,  9.96835222e+02,  9.65304087e+02,\n",
      "        -8.94506598e-01],\n",
      "       [ 9.96835222e+02, -2.13617007e+02, -2.06860036e+02,\n",
      "         2.25709870e-01],\n",
      "       [ 9.65304087e+02, -2.06860036e+02, -9.23705556e-14,\n",
      "         1.00000000e+00]]), 'ipvt': array([3, 1, 2], dtype=int32), 'qtf': array([-1.82860512e-04,  3.77963859e-05, -1.86528054e+01]), 'message': 'Both actual and predicted relative reductions in the sum of squares\\n  are at most 0.000000', 'ierr': 1, 'param_jac': None, 'param_cov': array([[ 1.09904235e+26, -1.13494197e+26,  1.64614537e+10],\n",
      "       [-1.13494197e+26,  1.17201424e+26, -1.69991582e+10],\n",
      "       [ 1.64614537e+10, -1.69991582e+10,  5.66372148e-06]]), 'njev': 8, 'cov_x': array([[ 1.09904235e+26, -1.13494197e+26,  1.64614537e+10],\n",
      "       [-1.13494197e+26,  1.17201424e+26, -1.69991582e+10],\n",
      "       [ 1.64614537e+10, -1.69991582e+10,  5.66372148e-06]])}\n"
     ]
    }
   ],
   "source": [
    "print(fit3.fit_info)"
   ]
  },
  {
   "cell_type": "code",
   "execution_count": 243,
   "id": "43da7f62-5b79-4b81-a7a5-5b540a4421a1",
   "metadata": {},
   "outputs": [
    {
     "name": "stdout",
     "output_type": "stream",
     "text": [
      "The standard deviation is 0.00237985744951247\n"
     ]
    }
   ],
   "source": [
    "param_cov3= np.array([[ 1.09904235e+26, -1.13494197e+26,  1.64614537e+10],\n",
    "       [-1.13494197e+26,  1.17201424e+26, -1.69991582e+10],\n",
    "       [ 1.64614537e+10, -1.69991582e+10,  5.66372148e-06]])\n",
    "\n",
    "def stand(cov):\n",
    "    diag = np.diagonal(cov)\n",
    "    sd1 = np.sqrt(diag[0])\n",
    "    sd2 = np.sqrt(diag[1])\n",
    "    sd3 = np.sqrt(diag[2])\n",
    "    return(sd1,sd2,sd3)\n",
    "\n",
    "diag3 = stand(param_cov3) \n",
    "\n",
    "#The last diagonal element corresponds to alpha\n",
    "#So here we are calculating the standard deviation on the slope\n",
    "\n",
    "#print(diag)  #prints standard deviations of all three variances\n",
    "\n",
    "print(\"The standard deviation is\", diag3[2]) #Just showing the standard devation on the slope\n"
   ]
  },
  {
   "cell_type": "code",
   "execution_count": 244,
   "id": "5ae4be95-1ede-464f-9bdd-9b98fa6d6770",
   "metadata": {},
   "outputs": [
    {
     "data": {
      "image/png": "[encoded data removed]",
      "text/plain": [
       "<Figure size 640x480 with 1 Axes>"
      ]
     },
     "metadata": {},
     "output_type": "display_data"
    }
   ],
   "source": [
    "fig,ax = plt.subplots()\n",
    "mask = df3['Flux Density (mJy)'] > 3 * df3['Uncertainty (mJy)']  # apply detection threshold\n",
    "if mask.any():  # proceed only if at least one detection\n",
    "    ax.errorbar(df3['Freq (GHz)'][mask], df3['Flux Density (mJy)'][mask], yerr=df3['Uncertainty (mJy)'][mask], fmt='^')\n",
    "    ax.set_xscale('log')\n",
    "    ax.set_xticks([1, 5, 10, 50], labels=['1', '5', '10', '50'])\n",
    "    ax.set_yscale('log')\n",
    "    ax.set_yticks([1, 5, 10, 20, 50], labels=['1', '5', '10', '20', '50'])\n",
    "    ax.annotate('Day 7.66', xy=(60, 100), xycoords='axes points', size=9, ha='right', va='top', bbox=dict(boxstyle='round', fc='w', ec=\"w\"))\n",
    "    ax.tick_params(axis='both', which='both', direction='in', top=True, right=True)\n",
    "    ax.plot(df3['Freq (GHz)'][mask], fit_model_weights3(df3['Freq (GHz)'][mask]), 'r--')\n",
    "    ax.annotate('${\\u03B1 = -0.753 \\\\pm 0.002}$', xy=(90, 80), xycoords='axes points', size=9, ha='right', va='top', bbox=dict(boxstyle='round', fc='w', ec=\"w\"))\n",
    "\n",
    "plt.show();"
   ]
  },
  {
   "cell_type": "markdown",
   "id": "fbaec92f-c2d9-40fb-8be9-31f7f0d43c8b",
   "metadata": {},
   "source": [
    "#### Day 12.76"
   ]
  },
  {
   "cell_type": "code",
   "execution_count": 245,
   "id": "59a4188d-6ba4-49c4-97f2-d2c31d3bd411",
   "metadata": {},
   "outputs": [],
   "source": [
    "mask = df4['Flux Density (mJy)'] > 3 * df4['Uncertainty (mJy)']  # apply detection threshold\n",
    "if mask.any():\n",
    "    x4 = df4['Freq (GHz)'][mask].values.tolist()\n",
    "    y4 = df4['Flux Density (mJy)'][mask].values.tolist()\n",
    "    yerr4 = df4['Uncertainty (mJy)'][mask].values.tolist()\n"
   ]
  },
  {
   "cell_type": "code",
   "execution_count": 246,
   "id": "7cc0fe31-e672-4af2-9e0d-4bc8f4dc294a",
   "metadata": {},
   "outputs": [
    {
     "data": {
      "text/plain": [
       "<PowerLaw1D(amplitude=0.38111808, x_0=13.5, alpha=-0.79237029)>"
      ]
     },
     "execution_count": 246,
     "metadata": {},
     "output_type": "execute_result"
    }
   ],
   "source": [
    "PL4 =  PowerLaw1D(amplitude = y4[0], x_0= x4[0], alpha= 1,\n",
    "                     bounds={\n",
    "        'amplitude': (0, None),  # Amplitude should be positive\n",
    "        'x_0': (min(x4), max(x4)),  # Frequency must stay within data\n",
    "        'alpha': (-10, 10)  # Keep alpha within a realistic range\n",
    "    }) \n",
    "\n",
    "    #Initialize fitters\n",
    "    #setting calc_uncertainties=True to output errors on measurement \n",
    "\n",
    "fit4 = fitting.LevMarLSQFitter(calc_uncertainties=True)\n",
    "\n",
    "    #Fit the data w/o weights\n",
    "fit_model4 = fit4(PL4, x4, y4, maxiter=10000)\n",
    "\n",
    "    #weight is 1/error^2\n",
    "y_weight4 = 1/ (np.power(yerr4,2))  \n",
    "\n",
    "    # fit the data using the uncertainties as weights\n",
    "fit_model_weights4 = fit4(PL4, x4, y4, weights=y_weight4, maxiter=10000)\n",
    "\n",
    "fit_model_weights4"
   ]
  },
  {
   "cell_type": "code",
   "execution_count": 247,
   "id": "91898b1b-dce2-4bbd-a97a-d1966a4a4f3b",
   "metadata": {},
   "outputs": [
    {
     "name": "stdout",
     "output_type": "stream",
     "text": [
      "{'nfev': 31, 'fvec': array([ -9.70481082,  17.37061603, -26.48156138,  -0.90262243]), 'fjac': array([[-4.37594062e+03,  7.87131995e+02,  1.38419441e+02,\n",
      "         8.73757859e-02],\n",
      "       [ 7.87131995e+02,  2.82632600e+02,  1.32131734e-12,\n",
      "         4.75875380e-01],\n",
      "       [ 1.38419441e+02, -8.45324486e-16,  1.56232843e-15,\n",
      "        -9.84284871e-01]]), 'ipvt': array([1, 3, 2], dtype=int32), 'qtf': array([ 6.42633769e-04,  9.02300674e-05, -4.75903913e-01]), 'message': 'Both actual and predicted relative reductions in the sum of squares\\n  are at most 0.000000', 'ierr': 1, 'param_jac': None, 'param_cov': array([[4.09927138e+26, 1.29592837e+28, 3.87598594e+10],\n",
      "       [1.29592837e+28, 4.09689965e+29, 1.22533975e+12],\n",
      "       [3.87598594e+10, 1.22533975e+12, 1.61834549e-05]]), 'njev': 18, 'cov_x': array([[4.09927138e+26, 1.29592837e+28, 3.87598594e+10],\n",
      "       [1.29592837e+28, 4.09689965e+29, 1.22533975e+12],\n",
      "       [3.87598594e+10, 1.22533975e+12, 1.61834549e-05]])}\n"
     ]
    }
   ],
   "source": [
    "print(fit4.fit_info)"
   ]
  },
  {
   "cell_type": "code",
   "execution_count": 248,
   "id": "79cb1fc4-bf3d-4370-ba25-27e77b181e56",
   "metadata": {},
   "outputs": [
    {
     "name": "stdout",
     "output_type": "stream",
     "text": [
      "The standard deviation is 0.004022866502880751\n"
     ]
    }
   ],
   "source": [
    "param_cov4= np.array([[4.09927138e+26, 1.29592837e+28, 3.87598594e+10],\n",
    "       [1.29592837e+28, 4.09689965e+29, 1.22533975e+12],\n",
    "       [3.87598594e+10, 1.22533975e+12, 1.61834549e-05]])\n",
    "\n",
    "def stand(cov):\n",
    "    diag = np.diagonal(cov)\n",
    "    sd1 = np.sqrt(diag[0])\n",
    "    sd2 = np.sqrt(diag[1])\n",
    "    sd3 = np.sqrt(diag[2])\n",
    "    return(sd1,sd2,sd3)\n",
    "\n",
    "diag4 = stand(param_cov4) \n",
    "\n",
    "#The last diagonal element corresponds to alpha\n",
    "#So here we are calculating the standard deviation on the slope\n",
    "\n",
    "#print(diag)  #prints standard deviations of all three variances\n",
    "\n",
    "print(\"The standard deviation is\", diag4[2]) #Just showing the standard devation on the slope\n"
   ]
  },
  {
   "cell_type": "code",
   "execution_count": 249,
   "id": "858af49f-7f31-4263-b0f4-7ba1e9590e12",
   "metadata": {},
   "outputs": [
    {
     "data": {
      "image/png": "[encoded data removed]",
      "text/plain": [
       "<Figure size 640x480 with 1 Axes>"
      ]
     },
     "metadata": {},
     "output_type": "display_data"
    }
   ],
   "source": [
    "fig,ax = plt.subplots()\n",
    "mask = df4['Flux Density (mJy)'] > 3 * df4['Uncertainty (mJy)']  # apply detection threshold\n",
    "if mask.any():  # proceed only if at least one detection\n",
    "    ax.errorbar(df4['Freq (GHz)'][mask], df4['Flux Density (mJy)'][mask], yerr=df4['Uncertainty (mJy)'][mask], fmt='^')\n",
    "    ax.set_xscale('log')\n",
    "    ax.set_xticks([1, 5, 10, 50], labels=['1', '5', '10', '50'])\n",
    "    ax.set_yscale('log')\n",
    "    ax.set_yticks([1, 5, 10, 20, 50], labels=['1', '5', '10', '20', '50'])\n",
    "    ax.annotate('Day 12.67', xy=(60, 100), xycoords='axes points', size=9, ha='right', va='top', bbox=dict(boxstyle='round', fc='w', ec=\"w\"))\n",
    "    ax.tick_params(axis='both', which='both', direction='in', top=True, right=True)\n",
    "    ax.plot(df4['Freq (GHz)'][mask], fit_model_weights4(df4['Freq (GHz)'][mask]), 'r--')\n",
    "    ax.annotate('${\\u03B1 = 0.792 \\\\pm 0.004}$', xy=(90, 80), xycoords='axes points', size=9, ha='right', va='top', bbox=dict(boxstyle='round', fc='w', ec=\"w\"))\n",
    "\n",
    "plt.show();"
   ]
  },
  {
   "cell_type": "markdown",
   "id": "48ee84a2-6ea2-477a-bc93-d06a7ff5c709",
   "metadata": {},
   "source": [
    "#### Day 17.66"
   ]
  },
  {
   "cell_type": "code",
   "execution_count": 250,
   "id": "00a6fd2f-4779-4735-b29f-f8344321be06",
   "metadata": {},
   "outputs": [],
   "source": [
    "mask = df5['Flux Density (mJy)'] > 3 * df5['Uncertainty (mJy)']  # apply detection threshold\n",
    "if mask.any():\n",
    "    x5 = df5['Freq (GHz)'][mask].values.tolist()\n",
    "    y5 = df5['Flux Density (mJy)'][mask].values.tolist()\n",
    "    yerr5 = df5['Uncertainty (mJy)'][mask].values.tolist()\n"
   ]
  },
  {
   "cell_type": "code",
   "execution_count": 251,
   "id": "dc8348b8-4a15-4337-95a5-44b1de2050b5",
   "metadata": {},
   "outputs": [
    {
     "data": {
      "text/plain": [
       "<PowerLaw1D(amplitude=0.32510639, x_0=1.26, alpha=0.2987147)>"
      ]
     },
     "execution_count": 251,
     "metadata": {},
     "output_type": "execute_result"
    }
   ],
   "source": [
    "PL5 =  PowerLaw1D(amplitude = y5[0], x_0= x5[0], alpha= .2,\n",
    "                     bounds={\n",
    "        'amplitude': (0, None),  # Amplitude should be positive\n",
    "        'x_0': (min(x5), max(x5)),  # Frequency must stay within data\n",
    "        'alpha': (-10, 10)  # Keep alpha within a realistic range\n",
    "    }) \n",
    "\n",
    "    #Initialize fitters\n",
    "    #setting calc_uncertainties=True to output errors on measurement \n",
    "\n",
    "fit5 = fitting.LevMarLSQFitter(calc_uncertainties=True)\n",
    "\n",
    "    #Fit the data w/o weights\n",
    "fit_model5 = fit5(PL5, x5, y5, maxiter=10000)\n",
    "\n",
    "    #weight is 1/error^2\n",
    "y_weight5 = 1/ (np.power(yerr5,2))  \n",
    "\n",
    "    # fit the data using the uncertainties as weights\n",
    "fit_model_weights5 = fit5(PL5, x5, y5, weights=y_weight5, maxiter=10000)\n",
    "\n",
    "fit_model_weights5"
   ]
  },
  {
   "cell_type": "code",
   "execution_count": 252,
   "id": "5f3a6ae9-896d-4c16-919d-ef8523ca49e5",
   "metadata": {},
   "outputs": [
    {
     "name": "stdout",
     "output_type": "stream",
     "text": [
      "{'nfev': 17, 'fvec': array([ 0.81063873, -4.99901897,  1.49277736, -0.90922013]), 'fjac': array([[-2.76598413e+03,  1.39240564e+03, -2.17102813e+02,\n",
      "         7.31579199e-01],\n",
      "       [ 1.40654757e+03, -2.36300445e+02,  1.68516033e+01,\n",
      "        -7.93353612e-01],\n",
      "       [-2.19307812e+02, -3.05554285e-14,  5.57255204e-14,\n",
      "         6.92954823e-01]]), 'ipvt': array([1, 3, 2], dtype=int32), 'qtf': array([-5.01101852e-04, -1.24718169e-04,  1.02064719e+00]), 'message': 'Both actual and predicted relative reductions in the sum of squares\\n  are at most 0.000000', 'ierr': 1, 'param_jac': None, 'param_cov': array([[ 2.02441976e+24, -2.55326652e+25,  3.30156606e+09],\n",
      "       [-2.55326652e+25,  3.22026591e+26, -4.16404654e+10],\n",
      "       [ 3.30156606e+09, -4.16404654e+10,  2.32934090e-05]]), 'njev': 9, 'cov_x': array([[ 2.02441976e+24, -2.55326652e+25,  3.30156606e+09],\n",
      "       [-2.55326652e+25,  3.22026591e+26, -4.16404654e+10],\n",
      "       [ 3.30156606e+09, -4.16404654e+10,  2.32934090e-05]])}\n"
     ]
    }
   ],
   "source": [
    "print(fit5.fit_info)"
   ]
  },
  {
   "cell_type": "code",
   "execution_count": 253,
   "id": "3a4e8695-9ec5-4fa4-b093-16981699652a",
   "metadata": {},
   "outputs": [
    {
     "name": "stdout",
     "output_type": "stream",
     "text": [
      "The standard deviation is 0.004826324585023266\n"
     ]
    }
   ],
   "source": [
    "param_cov5= np.array([[ 2.02441976e+24, -2.55326652e+25,  3.30156606e+09],\n",
    "       [-2.55326652e+25,  3.22026591e+26, -4.16404654e+10],\n",
    "       [ 3.30156606e+09, -4.16404654e+10,  2.32934090e-05]])\n",
    "\n",
    "def stand(cov):\n",
    "    diag = np.diagonal(cov)\n",
    "    sd1 = np.sqrt(diag[0])\n",
    "    sd2 = np.sqrt(diag[1])\n",
    "    sd3 = np.sqrt(diag[2])\n",
    "    return(sd1,sd2,sd3)\n",
    "\n",
    "diag5 = stand(param_cov5) \n",
    "\n",
    "#The last diagonal element corresponds to alpha\n",
    "#So here we are calculating the standard deviation on the slope\n",
    "\n",
    "#print(diag)  #prints standard deviations of all three variances\n",
    "\n",
    "print(\"The standard deviation is\", diag5[2]) #Just showing the standard devation on the slope\n"
   ]
  },
  {
   "cell_type": "code",
   "execution_count": 254,
   "id": "c3aaec5f-eb98-451c-86a8-1d6f981f7e60",
   "metadata": {},
   "outputs": [
    {
     "data": {
      "image/png": "[encoded data removed]",
      "text/plain": [
       "<Figure size 640x480 with 1 Axes>"
      ]
     },
     "metadata": {},
     "output_type": "display_data"
    }
   ],
   "source": [
    "fig,ax = plt.subplots()\n",
    "mask = df5['Flux Density (mJy)'] > 3 * df5['Uncertainty (mJy)']  # apply detection threshold\n",
    "if mask.any():  # proceed only if at least one detection\n",
    "    ax.errorbar(df5['Freq (GHz)'][mask], df5['Flux Density (mJy)'][mask], yerr=df5['Uncertainty (mJy)'][mask], fmt='^')\n",
    "    ax.set_xscale('log')\n",
    "    ax.set_xticks([1, 5, 10, 50], labels=['1', '5', '10', '50'])\n",
    "    ax.set_yscale('log')\n",
    "    ax.set_yticks([1, 5, 10, 20, 50], labels=['1', '5', '10', '20', '50'])\n",
    "    ax.annotate('Day 17.66', xy=(60, 100), xycoords='axes points', size=9, ha='right', va='top', bbox=dict(boxstyle='round', fc='w', ec=\"w\"))\n",
    "    ax.tick_params(axis='both', which='both', direction='in', top=True, right=True)\n",
    "    ax.plot(df5['Freq (GHz)'][mask], fit_model_weights5(df5['Freq (GHz)'][mask]), 'r--')\n",
    "    ax.annotate('${\\u03B1 = -0.299 \\\\pm 0.005}$', xy=(90, 80), xycoords='axes points', size=9, ha='right', va='top', bbox=dict(boxstyle='round', fc='w', ec=\"w\"))\n",
    "\n",
    "plt.show();"
   ]
  },
  {
   "cell_type": "markdown",
   "id": "8ac767fa-2217-4575-aa14-864a3b8dae84",
   "metadata": {},
   "source": [
    "#### Day 23.66"
   ]
  },
  {
   "cell_type": "code",
   "execution_count": 255,
   "id": "318fb005-b97e-4124-a4ca-b9ea5a30d230",
   "metadata": {},
   "outputs": [],
   "source": [
    "mask = df6['Flux Density (mJy)'] > 3 * df6['Uncertainty (mJy)']  # apply detection threshold\n",
    "if mask.any():\n",
    "    x6 = df6['Freq (GHz)'][mask].values.tolist()\n",
    "    y6 = df6['Flux Density (mJy)'][mask].values.tolist()\n",
    "    yerr6 = df6['Uncertainty (mJy)'][mask].values.tolist()\n"
   ]
  },
  {
   "cell_type": "code",
   "execution_count": 256,
   "id": "785c5efd-fca7-4d19-9596-32686233b643",
   "metadata": {},
   "outputs": [
    {
     "data": {
      "text/plain": [
       "<PowerLaw1D(amplitude=0.58657606, x_0=13.52296302, alpha=-0.98666923)>"
      ]
     },
     "execution_count": 256,
     "metadata": {},
     "output_type": "execute_result"
    }
   ],
   "source": [
    "PL6 =  PowerLaw1D(amplitude = y6[0], x_0= x6[0], alpha= -1,\n",
    "                     bounds={\n",
    "        'amplitude': (0, None),  # Amplitude should be positive\n",
    "        'x_0': (min(x6), max(x6)),  # Frequency must stay within data\n",
    "        'alpha': (-10, 10)  # Keep alpha within a realistic range\n",
    "    }) \n",
    "\n",
    "    #Initialize fitters\n",
    "    #setting calc_uncertainties=True to output errors on measurement \n",
    "\n",
    "fit6 = fitting.LevMarLSQFitter(calc_uncertainties=True)\n",
    "\n",
    "    #Fit the data w/o weights\n",
    "fit_model6 = fit6(PL6, x6, y6, maxiter=10000)\n",
    "\n",
    "    #weight is 1/error^2\n",
    "y_weight6 = 1/ (np.power(yerr6,2))  \n",
    "\n",
    "    # fit the data using the uncertainties as weights\n",
    "fit_model_weights6 = fit6(PL6, x6, y6, weights=y_weight6, maxiter=10000)\n",
    "\n",
    "fit_model_weights6"
   ]
  },
  {
   "cell_type": "code",
   "execution_count": 257,
   "id": "508184b2-0c52-40dc-86d7-6b1282443199",
   "metadata": {},
   "outputs": [
    {
     "name": "stdout",
     "output_type": "stream",
     "text": [
      "{'nfev': 11, 'fvec': array([ 1.02999983, -2.89745038, 11.19175063, -9.71763945]), 'fjac': array([[-2.23242133e+03,  1.57950649e+02,  9.55443776e+01,\n",
      "         9.86905042e-02],\n",
      "       [ 1.57950649e+02,  2.39173324e+02,  6.80098942e-15,\n",
      "         5.00044054e-01],\n",
      "       [ 9.55443776e+01, -5.19879446e-15,  5.15898030e-15,\n",
      "         3.97971045e-01]]), 'ipvt': array([1, 3, 2], dtype=int32), 'qtf': array([ 4.54418926e-05, -2.74116363e-06, -7.83393259e+00]), 'message': 'Both actual and predicted relative reductions in the sum of squares\\n  are at most 0.000000', 'ierr': 1, 'param_jac': None, 'param_cov': array([[6.88224623e+25, 1.60805624e+27, 3.49535380e+10],\n",
      "       [1.60805624e+27, 3.75726875e+28, 8.16699272e+11],\n",
      "       [3.49535380e+10, 8.16699272e+11, 3.52335277e-05]]), 'njev': 4, 'cov_x': array([[6.88224623e+25, 1.60805624e+27, 3.49535380e+10],\n",
      "       [1.60805624e+27, 3.75726875e+28, 8.16699272e+11],\n",
      "       [3.49535380e+10, 8.16699272e+11, 3.52335277e-05]])}\n"
     ]
    }
   ],
   "source": [
    "print(fit6.fit_info)"
   ]
  },
  {
   "cell_type": "code",
   "execution_count": 258,
   "id": "9e3e06dc-4d7b-4517-9677-c6f30f5d36d7",
   "metadata": {},
   "outputs": [
    {
     "name": "stdout",
     "output_type": "stream",
     "text": [
      "The standard deviation is 0.005935783663510658\n"
     ]
    }
   ],
   "source": [
    "param_cov6= np.array([[6.88224623e+25, 1.60805624e+27, 3.49535380e+10],\n",
    "       [1.60805624e+27, 3.75726875e+28, 8.16699272e+11],\n",
    "       [3.49535380e+10, 8.16699272e+11, 3.52335277e-05]])\n",
    "\n",
    "def stand(cov):\n",
    "    diag = np.diagonal(cov)\n",
    "    sd1 = np.sqrt(diag[0])\n",
    "    sd2 = np.sqrt(diag[1])\n",
    "    sd3 = np.sqrt(diag[2])\n",
    "    return(sd1,sd2,sd3)\n",
    "\n",
    "diag6 = stand(param_cov6) \n",
    "\n",
    "#The last diagonal element corresponds to alpha\n",
    "#So here we are calculating the standard deviation on the slope\n",
    "\n",
    "#print(diag)  #prints standard deviations of all three variances\n",
    "\n",
    "print(\"The standard deviation is\", diag6[2]) #Just showing the standard devation on the slope\n"
   ]
  },
  {
   "cell_type": "code",
   "execution_count": 259,
   "id": "0e6df3ff-d423-4945-be69-d03bb6e174ac",
   "metadata": {},
   "outputs": [
    {
     "data": {
      "image/png": "[encoded data removed]",
      "text/plain": [
       "<Figure size 640x480 with 1 Axes>"
      ]
     },
     "metadata": {},
     "output_type": "display_data"
    }
   ],
   "source": [
    "fig,ax = plt.subplots()\n",
    "mask = df6['Flux Density (mJy)'] > 3 * df6['Uncertainty (mJy)']  # apply detection threshold\n",
    "if mask.any():  # proceed only if at least one detection\n",
    "    ax.errorbar(df6['Freq (GHz)'][mask], df6['Flux Density (mJy)'][mask], yerr=df6['Uncertainty (mJy)'][mask], fmt='^')\n",
    "    ax.set_xscale('log')\n",
    "    ax.set_xticks([1, 5, 10, 50], labels=['1', '5', '10', '50'])\n",
    "    ax.set_yscale('log')\n",
    "    ax.set_yticks([1, 5, 10, 20, 50], labels=['1', '5', '10', '20', '50'])\n",
    "    ax.annotate('Day 23.66', xy=(60, 100), xycoords='axes points', size=9, ha='right', va='top', bbox=dict(boxstyle='round', fc='w', ec=\"w\"))\n",
    "    ax.tick_params(axis='both', which='both', direction='in', top=True, right=True)\n",
    "    ax.plot(df6['Freq (GHz)'][mask], fit_model_weights6(df6['Freq (GHz)'][mask]), 'r--')\n",
    "    ax.annotate('${\\u03B1 = 0.987 \\\\pm 0.006}$', xy=(90, 80), xycoords='axes points', size=9, ha='right', va='top', bbox=dict(boxstyle='round', fc='w', ec=\"w\"))\n",
    "\n",
    "plt.show();"
   ]
  },
  {
   "cell_type": "markdown",
   "id": "13d78a7c-c522-48a0-a1bc-8c5554c00637",
   "metadata": {},
   "source": [
    "#### Day 26.56"
   ]
  },
  {
   "cell_type": "code",
   "execution_count": 260,
   "id": "fac63dbb-85d5-46ee-85ac-4e3fbd2f5dd1",
   "metadata": {},
   "outputs": [],
   "source": [
    "mask = df7['Flux Density (mJy)'] > 3 * df7['Uncertainty (mJy)']  # apply detection threshold\n",
    "if mask.any():\n",
    "    x7 = df7['Freq (GHz)'][mask].values.tolist()\n",
    "    y7 = df7['Flux Density (mJy)'][mask].values.tolist()\n",
    "    yerr7 = df7['Uncertainty (mJy)'][mask].values.tolist()\n"
   ]
  },
  {
   "cell_type": "code",
   "execution_count": 261,
   "id": "53655c3c-9430-4b56-a30b-bfac349ac74a",
   "metadata": {},
   "outputs": [
    {
     "data": {
      "text/plain": [
       "<PowerLaw1D(amplitude=0.32486307, x_0=1.75706039, alpha=-0.34976642)>"
      ]
     },
     "execution_count": 261,
     "metadata": {},
     "output_type": "execute_result"
    }
   ],
   "source": [
    "PL7 =  PowerLaw1D(amplitude = y7[0], x_0= x7[0], alpha= -.4,\n",
    "                     bounds={\n",
    "        'amplitude': (0, None),  # Amplitude should be positive\n",
    "        'x_0': (min(x7), max(x7)),  # Frequency must stay within data\n",
    "        'alpha': (-10, 10)  # Keep alpha within a realistic range\n",
    "    }) \n",
    "\n",
    "    #Initialize fitters\n",
    "    #setting calc_uncertainties=True to output errors on measurement \n",
    "\n",
    "fit7 = fitting.LevMarLSQFitter(calc_uncertainties=True)\n",
    "\n",
    "    #Fit the data w/o weights\n",
    "fit_model7 = fit7(PL7, x7, y7, maxiter=10000)\n",
    "\n",
    "    #weight is 1/error^2\n",
    "y_weight7 = 1/ (np.power(yerr7,2))  \n",
    "\n",
    "    # fit the data using the uncertainties as weights\n",
    "fit_model_weights7 = fit7(PL7, x7, y7, weights=y_weight7, maxiter=10000)\n",
    "\n",
    "fit_model_weights7"
   ]
  },
  {
   "cell_type": "code",
   "execution_count": 262,
   "id": "4a63ae10-b4f9-43d1-be7e-4b002149bd70",
   "metadata": {},
   "outputs": [
    {
     "name": "stdout",
     "output_type": "stream",
     "text": [
      "{'nfev': 16, 'fvec': array([-15.48695467,  18.09201113,  -3.51592429,   1.49637834]), 'fjac': array([[-4.59731710e+03,  1.89085149e+03,  2.97397569e+02,\n",
      "         8.14951065e-01],\n",
      "       [ 1.89085149e+03, -3.77007275e+02, -1.52110590e-12,\n",
      "        -7.22877577e-01],\n",
      "       [ 2.97397569e+02, -2.18228397e-14,  1.85520621e-14,\n",
      "         8.04738748e-01]]), 'ipvt': array([1, 3, 2], dtype=int32), 'qtf': array([-1.08841378e-03, -8.87399310e-09, -1.72898323e+01]), 'message': 'Both actual and predicted relative reductions in the sum of squares\\n  are at most 0.000000', 'ierr': 1, 'param_jac': None, 'param_cov': array([[ 1.21585428e+25,  1.87952703e+26, -1.08795294e+10],\n",
      "       [ 1.87952703e+26,  2.90546483e+27, -1.68181087e+11],\n",
      "       [-1.08795294e+10, -1.68181087e+11,  1.67706515e-05]]), 'njev': 7, 'cov_x': array([[ 1.21585428e+25,  1.87952703e+26, -1.08795294e+10],\n",
      "       [ 1.87952703e+26,  2.90546483e+27, -1.68181087e+11],\n",
      "       [-1.08795294e+10, -1.68181087e+11,  1.67706515e-05]])}\n"
     ]
    }
   ],
   "source": [
    "print(fit7.fit_info)"
   ]
  },
  {
   "cell_type": "code",
   "execution_count": 263,
   "id": "eb30f520-2f48-4e65-b541-ebfeff31ce91",
   "metadata": {},
   "outputs": [
    {
     "name": "stdout",
     "output_type": "stream",
     "text": [
      "The standard deviation is 0.004095198591033162\n"
     ]
    }
   ],
   "source": [
    "param_cov7 = np.array([[ 1.21585428e+25,  1.87952703e+26, -1.08795294e+10],\n",
    "       [ 1.87952703e+26,  2.90546483e+27, -1.68181087e+11],\n",
    "       [-1.08795294e+10, -1.68181087e+11,  1.67706515e-05]])\n",
    "\n",
    "def stand(cov):\n",
    "    diag = np.diagonal(cov)\n",
    "    sd1 = np.sqrt(diag[0])\n",
    "    sd2 = np.sqrt(diag[1])\n",
    "    sd3 = np.sqrt(diag[2])\n",
    "    return(sd1,sd2,sd3)\n",
    "\n",
    "diag7 = stand(param_cov7) \n",
    "\n",
    "#The last diagonal element corresponds to alpha\n",
    "#So here we are calculating the standard deviation on the slope\n",
    "\n",
    "#print(diag)  #prints standard deviations of all three variances\n",
    "\n",
    "print(\"The standard deviation is\", diag7[2]) #Just showing the standard devation on the slope\n"
   ]
  },
  {
   "cell_type": "code",
   "execution_count": 264,
   "id": "7dbd085c-60a9-43ba-9564-df78ef1dd70f",
   "metadata": {},
   "outputs": [
    {
     "data": {
      "image/png": "[encoded data removed]",
      "text/plain": [
       "<Figure size 640x480 with 1 Axes>"
      ]
     },
     "metadata": {},
     "output_type": "display_data"
    }
   ],
   "source": [
    "fig,ax = plt.subplots()\n",
    "mask = df7['Flux Density (mJy)'] > 3 * df7['Uncertainty (mJy)']  # apply detection threshold\n",
    "if mask.any():  # proceed only if at least one detection\n",
    "    ax.errorbar(df7['Freq (GHz)'][mask], df7['Flux Density (mJy)'][mask], yerr=df7['Uncertainty (mJy)'][mask], fmt='^')\n",
    "    ax.set_xscale('log')\n",
    "    ax.set_xticks([1, 5, 10, 50], labels=['1', '5', '10', '50'])\n",
    "    ax.set_yscale('log')\n",
    "    ax.set_yticks([1, 5, 10, 20, 50], labels=['1', '5', '10', '20', '50'])\n",
    "    ax.annotate('Day 26.56', xy=(60, 100), xycoords='axes points', size=9, ha='right', va='top', bbox=dict(boxstyle='round', fc='w', ec=\"w\"))\n",
    "    ax.tick_params(axis='both', which='both', direction='in', top=True, right=True)\n",
    "    ax.plot(df7['Freq (GHz)'][mask], fit_model_weights7(df7['Freq (GHz)'][mask]), 'r--')\n",
    "    ax.annotate('${\\u03B1 = 0.349 \\\\pm 0.004}$', xy=(90, 80), xycoords='axes points', size=9, ha='right', va='top', bbox=dict(boxstyle='round', fc='w', ec=\"w\"))\n",
    "\n",
    "plt.show();"
   ]
  },
  {
   "cell_type": "markdown",
   "id": "96c67082-8dea-4fab-b9e6-f9e65ebddb69",
   "metadata": {},
   "source": [
    "#### Day 41.58"
   ]
  },
  {
   "cell_type": "code",
   "execution_count": 265,
   "id": "e7d818f3-2629-413b-93dd-695b23c8b240",
   "metadata": {},
   "outputs": [],
   "source": [
    "mask = df8['Flux Density (mJy)'] > 3 * df8['Uncertainty (mJy)']  # apply detection threshold\n",
    "if mask.any():\n",
    "    x8 = df8['Freq (GHz)'][mask].values.tolist()\n",
    "    y8 = df8['Flux Density (mJy)'][mask].values.tolist()\n",
    "    yerr8 = df8['Uncertainty (mJy)'][mask].values.tolist()\n"
   ]
  },
  {
   "cell_type": "code",
   "execution_count": 279,
   "id": "9e32ab6b-aa4f-42bb-96df-8e253bcf7528",
   "metadata": {},
   "outputs": [
    {
     "name": "stdout",
     "output_type": "stream",
     "text": [
      "Model: BrokenPowerLaw1D\n",
      "Inputs: ('x',)\n",
      "Outputs: ('y',)\n",
      "Model set size: 1\n",
      "Parameters:\n",
      "    amplitude x_break alpha_1 alpha_2\n",
      "    --------- ------- ------- -------\n",
      "        0.609     2.1     0.0    -1.0\n",
      "Model: BrokenPowerLaw1D\n",
      "Inputs: ('x',)\n",
      "Outputs: ('y',)\n",
      "Model set size: 1\n",
      "Parameters:\n",
      "        amplitude           x_break            alpha_1             alpha_2      \n",
      "    ------------------ ------------------ ------------------ -------------------\n",
      "    0.1934373199516327 1.9903102286240966 2.5085693743807393 -0.1880676638704611\n"
     ]
    }
   ],
   "source": [
    "#Initialize fitters\n",
    "fitBPL = fitting.LevMarLSQFitter(calc_uncertainties=True)\n",
    "#print(fitBPL.fit_info)\n",
    "\n",
    "#A function that will produce a broken power law for given input values\n",
    "#Also fits the BPL using LevMarLSQFitter \n",
    "#Issue: not all BPL's work so I get an error when trying to fit it to the data \n",
    "\n",
    "def bpl_func(freq, flux, er, a1, a2):\n",
    "    wt = 1 / (np.power(er,2))\n",
    "    peak = np.max(flux)\n",
    "    BPL = []\n",
    "    \n",
    "    for i in range(0,len(freq)):\n",
    "        for j in range(0,len(a1)):\n",
    "            bro = BrokenPowerLaw1D(peak, freq[i], alpha_1 = a1[j], alpha_2 = a2[j])\n",
    "            BPL.append(bro)\n",
    "        \n",
    "        \n",
    "    return(BPL)\n",
    "\n",
    "#Input values for function above \n",
    "#Going through a range of x values (the point where the line breaks)\n",
    "#And different alpha 1 and alpha 2 values (the alpha values on either side of that break)\n",
    "\n",
    "x_val = np.arange(0.1,40,0.4)   #Going through a range of freq values from 0.1 to 40\n",
    "                                #because thats what my data ranges from, may be different for you\n",
    "    \n",
    "a1 = np.arange(0,1,0.2)\n",
    "a2 = np.arange(-1,0,0.2)\n",
    "\n",
    "BM8 = bpl_func(x_val, y8, yerr8, a1, a2)\n",
    "print(BM8[25])\n",
    "\n",
    "\n",
    "weight8 = 1/ (np.power(yerr8,2))\n",
    "\n",
    "\n",
    "fw_BPL8 = fitBPL(BM8[25], x8, y8, weights=weight8)    \n",
    "\n",
    "print(fw_BPL8)"
   ]
  },
  {
   "cell_type": "code",
   "execution_count": 280,
   "id": "dcc34720-b3b1-4447-9a8e-e5a555cdd637",
   "metadata": {},
   "outputs": [
    {
     "name": "stdout",
     "output_type": "stream",
     "text": [
      "{'nfev': 9, 'fvec': array([ 4.56424113e+01, -2.82909118e+01, -1.52533383e+01, -5.51981446e+00,\n",
      "       -3.95218332e-08, -5.11838874e-08,  1.37781017e+01, -2.80581324e+01]), 'fjac': array([[-1.13078650e+04,  4.60057615e-01,  7.52042659e-02,\n",
      "         5.05235964e-02,  2.21954297e-02,  3.44143200e-02,\n",
      "         3.57483244e-01,  5.77298100e-01],\n",
      "       [ 3.56837879e+03,  1.02119623e+03,  1.47823813e-01,\n",
      "         1.27230287e-01, -8.24069211e-02, -1.27773068e-01,\n",
      "        -6.94131384e-01, -5.22897639e-01],\n",
      "       [ 2.01719082e+02,  1.73671197e+01, -1.20015453e+02,\n",
      "         1.26356333e-02,  5.38466330e-01,  8.34899473e-01,\n",
      "        -8.57071680e-02, -7.27228991e-02],\n",
      "       [-8.40796732e-01,  2.93800655e+00, -2.03030897e+01,\n",
      "        -1.31691062e+01,  8.40378484e-01, -5.42000004e-01,\n",
      "         3.54081487e-16,  6.57579905e-16]]), 'ipvt': array([1, 4, 2, 3], dtype=int32), 'qtf': array([-7.70285836e-05, -1.36369070e-04,  9.42215348e-04, -9.30815764e-04]), 'message': 'Both actual and predicted relative reductions in the sum of squares\\n  are at most 0.000000', 'ierr': 1, 'param_jac': None, 'param_cov': array([[ 1.69244086e-07,  3.88219537e-06, -1.78299251e-05,\n",
      "         2.87876113e-07],\n",
      "       [ 3.88219537e-06,  2.34446845e-04, -9.75466512e-04,\n",
      "        -1.18071275e-06],\n",
      "       [-1.78299251e-05, -9.75466512e-04,  5.76616946e-03,\n",
      "        -2.69326356e-20],\n",
      "       [ 2.87876113e-07, -1.18071275e-06, -2.69326356e-20,\n",
      "         9.78998225e-07]]), 'njev': 8, 'cov_x': array([[ 1.69244086e-07,  3.88219537e-06, -1.78299251e-05,\n",
      "         2.87876113e-07],\n",
      "       [ 3.88219537e-06,  2.34446845e-04, -9.75466512e-04,\n",
      "        -1.18071275e-06],\n",
      "       [-1.78299251e-05, -9.75466512e-04,  5.76616946e-03,\n",
      "        -2.69326356e-20],\n",
      "       [ 2.87876113e-07, -1.18071275e-06, -2.69326356e-20,\n",
      "         9.78998225e-07]])}\n"
     ]
    }
   ],
   "source": [
    "print(fitBPL.fit_info)"
   ]
  },
  {
   "cell_type": "code",
   "execution_count": 281,
   "id": "6e9e460b-b102-4f07-ae9f-fde1c96e2af8",
   "metadata": {},
   "outputs": [
    {
     "name": "stdout",
     "output_type": "stream",
     "text": [
      "The standard deviation 1 is [nan] the second is [0.00053654]\n"
     ]
    },
    {
     "name": "stderr",
     "output_type": "stream",
     "text": [
      "C:\\Users\\wilhe\\AppData\\Local\\Temp\\ipykernel_1632\\1423196892.py:10: RuntimeWarning: invalid value encountered in sqrt\n",
      "  sd3 = np.sqrt(diag[2]) #error 1\n"
     ]
    }
   ],
   "source": [
    "param_cov8 = np.array([[ 1.69250454e-07,  3.88263060e-06, -1.78309749e-05, 2.87874216e-07],\n",
    "       [ 3.88263060e-06,  2.34473265e-04, -9.75532211e-04, -1.18075015e-06],\n",
    "       [-1.78309749e-05, -9.75532211e-04,  5.76615447e-03, -2.18665382e-20],\n",
    "       [ 2.87874216e-07, -1.18075015e-06, -2.18665382e-20, 9.78998109e-07]]), \n",
    "\n",
    "def stand(cov):\n",
    "    diag = np.diagonal(cov)\n",
    "    sd1 = np.sqrt(diag[0])\n",
    "    sd2 = np.sqrt(diag[1])\n",
    "    sd3 = np.sqrt(diag[2]) #error 1\n",
    "    sd4 = np.sqrt(diag[3]) #error 2\n",
    "    return(sd1,sd2,sd3, sd4)\n",
    "\n",
    "diag8 = stand(param_cov8) \n",
    "\n",
    "#The last diagonal element corresponds to alpha\n",
    "#So here we are calculating the standard deviation on the slope\n",
    "\n",
    "#print(diag)  #prints standard deviations of all three variances\n",
    "\n",
    "print(\"The standard deviation 1 is\", diag8[2], 'the second is', diag8[3]) #Just showing the standard devation on the slope\n"
   ]
  },
  {
   "cell_type": "code",
   "execution_count": 282,
   "id": "f6bbb43c-8cb1-4ec6-b4c1-540c17720978",
   "metadata": {},
   "outputs": [
    {
     "data": {
      "image/png": "[encoded data removed]",
      "text/plain": [
       "<Figure size 640x480 with 1 Axes>"
      ]
     },
     "metadata": {},
     "output_type": "display_data"
    }
   ],
   "source": [
    "fig,ax = plt.subplots()\n",
    "mask = df8['Flux Density (mJy)'] > 3 * df8['Uncertainty (mJy)']  # apply detection threshold\n",
    "if mask.any():  # proceed only if at least one detection\n",
    "    ax.errorbar(df8['Freq (GHz)'][mask], df8['Flux Density (mJy)'][mask], yerr=df8['Uncertainty (mJy)'][mask], fmt='^')\n",
    "    ax.set_xscale('log')\n",
    "    ax.set_xticks([1, 5, 10, 50], labels=['1', '5', '10', '50'])\n",
    "    ax.set_yscale('log')\n",
    "    ax.set_yticks([1, 5, 10, 20, 50], labels=['1', '5', '10', '20', '50'])\n",
    "    ax.annotate('Day 41.58', xy=(160, 170), xycoords='axes points', size=9, ha='right', va='top', bbox=dict(boxstyle='round', fc='w', ec=\"w\"))\n",
    "    ax.tick_params(axis='both', which='both', direction='in', top=True, right=True)\n",
    "    ax.plot(df8['Freq (GHz)'][mask], fw_BPL8(df8['Freq (GHz)'][mask]), 'r--')\n",
    "    ax.annotate('${\\u03B1 1= 0. \\\\pm }$', xy=(140, 150), xycoords='axes points', size=9, ha='right', va='top', bbox=dict(boxstyle='round', fc='w', ec=\"w\"))\n",
    "    ax.annotate('${\\u03B1 2= 0. \\\\pm }$', xy=(140, 130), xycoords='axes points', size=9, ha='right', va='top', bbox=dict(boxstyle='round', fc='w', ec=\"w\"))\n",
    "\n",
    "plt.show();"
   ]
  },
  {
   "cell_type": "code",
   "execution_count": null,
   "id": "1cc6c955-45b8-4cc5-9e5e-eae529a043a2",
   "metadata": {},
   "outputs": [],
   "source": []
  }
 ],
 "metadata": {
  "kernelspec": {
   "display_name": "Python [conda env:base] *",
   "language": "python",
   "name": "conda-base-py"
  },
  "language_info": {
   "codemirror_mode": {
    "name": "ipython",
    "version": 3
   },
   "file_extension": ".py",
   "mimetype": "text/x-python",
   "name": "python",
   "nbconvert_exporter": "python",
   "pygments_lexer": "ipython3",
   "version": "3.12.7"
  }
 },
 "nbformat": 4,
 "nbformat_minor": 5
}
