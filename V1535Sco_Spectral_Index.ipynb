{
 "cells": [
  {
   "cell_type": "markdown",
   "id": "09f50aad-dfdb-479c-91f0-f8e2a7e1b245",
   "metadata": {},
   "source": [
    "### V1535 Sco Spectral Index Work"
   ]
  },
  {
   "cell_type": "code",
   "execution_count": 1,
   "id": "23a84284-f8a3-43a6-9d5e-85b34efd9d17",
   "metadata": {},
   "outputs": [],
   "source": [
    "#imports imports imports\n",
    "import math\n",
    "import pandas as pd\n",
    "import numpy as np\n",
    "import matplotlib.pyplot as plt\n",
    "%matplotlib inline\n",
    "\n",
    "from sympy import diff as dif\n",
    "\n",
    "from astropy.io import ascii\n",
    "import astropy.units as u\n",
    "import astropy.constants as const\n",
    "from astropy.modeling.powerlaws import BrokenPowerLaw1D, SmoothlyBrokenPowerLaw1D, PowerLaw1D\n",
    "from astropy.modeling import fitting, models"
   ]
  },
  {
   "cell_type": "code",
   "execution_count": 2,
   "id": "d2876feb-bbd1-4456-b7d9-49df70a095e5",
   "metadata": {},
   "outputs": [],
   "source": [
    "#now to get all of the data"
   ]
  },
  {
   "cell_type": "code",
   "execution_count": 3,
   "id": "f83fcbdc-f70d-42c3-bc70-2b3a41a4d03b",
   "metadata": {},
   "outputs": [],
   "source": [
    "data = ([57067.5, 4.55, 4.132, 0.0203],#B\n",
    "[57067.5, 7.38, 2.786, 0.0128],\n",
    "[57067.5, 28.2, 0.819, 0.0575],\n",
    "[57067.5, 36.5, 0.675, 0.0834],\n",
    "\n",
    "        [57071.5, 13.5, 0.416, 0.0175], #B\n",
    "[57071.5, 17.4, 0.344, 0.0213],\n",
    "[57071.5, 28.2, 0.295, 0.0505],\n",
    "[57071.5, 36.5, 0.376, 0.0714],\n",
    "\n",
    "[57072.5, 1.26, 1.57, 0.0765], #B\n",
    "[57072.5, 1.74, 1.21, 0.0728],\n",
    "[57072.5, 4.55, 0.65, 0.0168],\n",
    "[57072.5, 7.38, 0.439, 0.0126],\n",
    "\n",
    "[57072.5, 4.87, 0.484, 0.0505], #VLBA\n",
    "\n",
    "[57077.6, 13.5, 0.385, 0.0163], #B\n",
    "[57077.6, 17.4, 0.456, 0.02],\n",
    "[57077.6, 28.2, 0.785, 0.0485],\n",
    "[57077.6, 36.5, 0.845, 0.0758],\n",
    "\n",
    "[57077.7, 4.87, 0.155, 0.0409], #VLBA\n",
    "\n",
    "[57082.5, 1.26, 0.0142, 0.101], #B\n",
    "[57082.5, 1.74, 0.12, 0.0655],\n",
    "[57082.5, 4.55, 0.221, 0.0181],\n",
    "[57082.5, 7.38, 0.192, 0.0157],\n",
    "\n",
    "[57088.5, 13.5, 0.585, 0.0166], #B\n",
    "[57088.5, 17.4, 0.755, 0.0207],\n",
    "[57088.5, 28.2, 1.15, 0.0462],\n",
    "[57088.5, 36.5, 1.68, 0.071],\n",
    "\n",
    "[57091.4, 1.26, 0.153, 0.0738], #B\n",
    "[57091.4, 1.74, 0.11, 0.0538],\n",
    "[57091.4, 4.55, 0.455, 0.0187],\n",
    "[57091.4, 7.38, 0.536, 0.0136],\n",
    "\n",
    "[57106.42, 13.5, 0.267, 0.0126], #B\n",
    "[57106.42, 17.4, 0.299, 0.0143],\n",
    "[57106.42, 28.2, 0.348, 0.0405],\n",
    "[57106.42, 36.5, 0.186, 0.0551],\n",
    "\n",
    "[57106.47, 1.26, 0.273, 0.112], #B\n",
    "[57106.47, 1.74, 0.163, 0.0597],\n",
    "[57106.47, 4.55, 0.222, 0.0161],\n",
    "[57106.47, 7.38, 0.253, 0.012],\n",
    "\n",
    "[57119.41, 13.5, 0.457, 0.0248], #B\n",
    "[57119.41, 17.4, 0.399, 0.0182],\n",
    "[57119.41, 28.2, 0.323, 0.0446],\n",
    "[57119.41, 36.5, 0.276, 0.0602],\n",
    "\n",
    "[57120.57, 1.26, 0.873, 0.1], #B\n",
    "[57120.57, 1.74, 0.661, 0.0562],\n",
    "[57120.57, 4.55, 0.483, 0.0191],\n",
    "[57120.57, 7.38, 0.374, 0.0138],\n",
    "\n",
    "[57130.35, 1.26, 0.444, 0.0813], #B\n",
    "[57130.35, 1.74, 0.258, 0.056],\n",
    "[57130.35, 4.55, 0.256, 0.0172],\n",
    "[57130.35, 7.38, 0.228, 0.0117],\n",
    "\n",
    "[57131.33, 13.5, 0.209, 0.0156], #B\n",
    "[57131.33, 17.4, 0.167, 0.0221],\n",
    "[57131.33, 28.2, 0.173, 0.0482],\n",
    "[57131.33, 36.5, 0.0395, 0.0833],\n",
    "\n",
    "[57143.3, 1.26, -0.0723, 0.106], #B\n",
    "[57143.3, 1.74, 0.165, 0.0711],\n",
    "[57143.3, 4.55, 0.17, 0.0183],\n",
    "[57143.3, 7.38, 0.139, 0.0144],\n",
    "\n",
    "[57143.34, 13.5, 0.129, 0.0168], #B\n",
    "[57143.34, 17.4, 0.164, 0.0216],\n",
    "[57143.34, 28.2, 0.174, 0.0523],\n",
    "[57143.34, 36.5, 0.0153, 0.0753],\n",
    "\n",
    "[57158.3, 1.26, -0.152, 0.177], #B_> BnA\n",
    "[57158.3, 1.74, 0.101, 0.0784],\n",
    "[57158.3, 4.55, 0.0727, 0.023],\n",
    "[57158.3, 7.38, 0.0708, 0.0171],\n",
    "[57158.3, 13.5, 0.0518, 0.0175],\n",
    "[57158.3, 16.5, 0.0217, 0.0214],\n",
    "[57158.3, 29.5, 0.0401, 0.0362],\n",
    "[57158.3, 35, -0.00361, 0.045],\n",
    "\n",
    "[57187.2, 1.26, 0.277, 0.116], #BnA _> A\n",
    "[57187.2, 1.74, -0.0505, 0.0776],\n",
    "[57187.2, 5, 0.0194, 0.0204],\n",
    "[57187.2, 7, 0.044, 0.0223],\n",
    "[57187.2, 13.5, 0.0587, 0.0157],\n",
    "[57187.2, 16.5, 0.0569, 0.021],\n",
    "[57187.2, 29.5, 0.13, 0.0446],\n",
    "[57187.2, 35, -0.0206, 0.0588],\n",
    "\n",
    "#57360.7\t1.26\tXX\tXX #D\n",
    "#57360.7\t1.74\tXX\tXX\n",
    "[57360.7, 5, 0.0795, 0.031],\n",
    "[57360.7, 7, 0.0561, 0.022],\n",
    "[57360.7, 13.5, -0.0000599, 0.0196],\n",
    "[57360.7, 16.5, -0.000577, 0.0199],\n",
    "[57360.7, 29.6, -0.0157, 0.051],\n",
    "[57360.7, 35, 0.0632, 0.0608],)\n",
    "\n",
    "\n",
    "\n",
    "df =  pd.DataFrame(data, columns = [\"MJD\", \"Freq (GHz)\", \"Flux Density (mJy)\", \"Uncertainty (mJy)\"])"
   ]
  },
  {
   "cell_type": "code",
   "execution_count": 4,
   "id": "d5326935-c713-4182-a1a4-5ff7c5c2eccb",
   "metadata": {},
   "outputs": [],
   "source": [
    "#splitting it up by day"
   ]
  },
  {
   "cell_type": "code",
   "execution_count": 6,
   "id": "db23f890-7381-40b4-9448-9e137ca6ef2e",
   "metadata": {},
   "outputs": [],
   "source": [
    "\n",
    "\n",
    "E1 = ([57067.5, 4.55, 4.132, 0.0203],#B\n",
    "[57067.5, 7.38, 2.786, 0.0128],\n",
    "[57067.5, 28.2, 0.819, 0.0575],\n",
    "[57067.5, 36.5, 0.675, 0.0834],)\n",
    "\n",
    "E2 = ( [57071.5, 13.5, 0.416, 0.0175], #B\n",
    "[57071.5, 17.4, 0.344, 0.0213],\n",
    "[57071.5, 28.2, 0.295, 0.0505],\n",
    "[57071.5, 36.5, 0.376, 0.0714],\t\t\t\t\n",
    "    )\n",
    "\n",
    "E3 = ([57072.5, 1.26, 1.57, 0.0765], #B\n",
    "[57072.5, 1.74, 1.21, 0.0728],\n",
    "[57072.5, 4.55, 0.65, 0.0168],\n",
    "[57072.5, 7.38, 0.439, 0.0126],\n",
    "\n",
    "[57072.5, 4.87, 0.484, 0.0505], #VLBA\n",
    "    )\n",
    "\n",
    "E4 = ([57077.6, 13.5, 0.385, 0.0163], #B\n",
    "[57077.6, 17.4, 0.456, 0.02],\n",
    "[57077.6, 28.2, 0.785, 0.0485],\n",
    "[57077.6, 36.5, 0.845, 0.0758],\n",
    "\n",
    "[57077.7, 4.87, 0.155, 0.0409], #VLBA\n",
    "    )\n",
    "\n",
    "E5 = ([57082.5, 1.26, 0.0142, 0.101], #B\n",
    "[57082.5, 1.74, 0.12, 0.0655],\n",
    "[57082.5, 4.55, 0.221, 0.0181],\n",
    "[57082.5, 7.38, 0.192, 0.0157],\t\t\t\t\n",
    "    )\n",
    "\n",
    "E6 = (\t[57088.5, 13.5, 0.585, 0.0166], #B\n",
    "[57088.5, 17.4, 0.755, 0.0207],\n",
    "[57088.5, 28.2, 1.15, 0.0462],\n",
    "[57088.5, 36.5, 1.68, 0.071],\t\t\t\n",
    "    )\n",
    "\n",
    "E7 = ([57091.4, 1.26, 0.153, 0.0738], #B\n",
    "[57091.4, 1.74, 0.11, 0.0538],\n",
    "[57091.4, 4.55, 0.455, 0.0187],\n",
    "[57091.4, 7.38, 0.536, 0.0136],\n",
    "    )\n",
    "\n",
    "E8 = ([57106.42, 13.5, 0.267, 0.0126], #B\n",
    "[57106.42, 17.4, 0.299, 0.0143],\n",
    "[57106.42, 28.2, 0.348, 0.0405],\n",
    "[57106.42, 36.5, 0.186, 0.0551],\n",
    "\n",
    "[57106.47, 1.26, 0.273, 0.112], #B\n",
    "[57106.47, 1.74, 0.163, 0.0597],\n",
    "[57106.47, 4.55, 0.222, 0.0161],\n",
    "[57106.47, 7.38, 0.253, 0.012],\n",
    "    )\n",
    "\n",
    "E9 = ([57119.41, 13.5, 0.457, 0.0248], #B\n",
    "[57119.41, 17.4, 0.399, 0.0182],\n",
    "[57119.41, 28.2, 0.323, 0.0446],\n",
    "[57119.41, 36.5, 0.276, 0.0602],\n",
    "    )\n",
    "\n",
    "E10 = ([57120.57, 1.26, 0.873, 0.1], #B\n",
    "[57120.57, 1.74, 0.661, 0.0562],\n",
    "[57120.57, 4.55, 0.483, 0.0191],\n",
    "[57120.57, 7.38, 0.374, 0.0138],\n",
    "    )\n",
    "\n",
    "E11 = ([57130.35, 1.26, 0.444, 0.0813], #B\n",
    "[57130.35, 1.74, 0.258, 0.056],\n",
    "[57130.35, 4.55, 0.256, 0.0172],\n",
    "[57130.35, 7.38, 0.228, 0.0117],\n",
    "\n",
    "\t\t\t\t\n",
    "    )\n",
    "\n",
    "E12 = (\t\t[57131.33, 13.5, 0.209, 0.0156], #B\n",
    "[57131.33, 17.4, 0.167, 0.0221],\n",
    "[57131.33, 28.2, 0.173, 0.0482],\n",
    "[57131.33, 36.5, 0.0395, 0.0833],\t\t\n",
    "    )\n",
    "\n",
    "\n",
    "E13 =([57143.3, 1.26, -0.0723, 0.106], #B\n",
    "[57143.3, 1.74, 0.165, 0.0711],\n",
    "[57143.3, 4.55, 0.17, 0.0183],\n",
    "[57143.3, 7.38, 0.139, 0.0144],\n",
    "\n",
    "[57143.34, 13.5, 0.129, 0.0168], #B\n",
    "[57143.34, 17.4, 0.164, 0.0216],\n",
    "[57143.34, 28.2, 0.174, 0.0523],\n",
    "[57143.34, 36.5, 0.0153, 0.0753],\n",
    "    )\n",
    "\n",
    "E14 = ([57158.3, 1.26, -0.152, 0.177], #B_> BnA\n",
    "[57158.3, 1.74, 0.101, 0.0784],\n",
    "[57158.3, 4.55, 0.0727, 0.023],\n",
    "[57158.3, 7.38, 0.0708, 0.0171],\n",
    "[57158.3, 13.5, 0.0518, 0.0175],\n",
    "[57158.3, 16.5, 0.0217, 0.0214],\n",
    "[57158.3, 29.5, 0.0401, 0.0362],\n",
    "[57158.3, 35, -0.00361, 0.045],\n",
    "    )\n",
    "\n",
    "E15 = ([57187.2, 1.26, 0.277, 0.116], #BnA _> A\n",
    "[57187.2, 1.74, -0.0505, 0.0776],\n",
    "[57187.2, 5, 0.0194, 0.0204],\n",
    "[57187.2, 7, 0.044, 0.0223],\n",
    "[57187.2, 13.5, 0.0587, 0.0157],\n",
    "[57187.2, 16.5, 0.0569, 0.021],\n",
    "[57187.2, 29.5, 0.13, 0.0446],\n",
    "[57187.2, 35, -0.0206, 0.0588],\n",
    "\t\t\t\t\n",
    "    )\n",
    "\n",
    "E16 = (#57360.7\t1.26\tXX\tXX #D\n",
    "#57360.7\t1.74\tXX\tXX\n",
    "[57360.7, 5, 0.0795, 0.031],\n",
    "[57360.7, 7, 0.0561, 0.022],\n",
    "[57360.7, 13.5, -0.0000599, 0.0196],\n",
    "[57360.7, 16.5, -0.000577, 0.0199],\n",
    "[57360.7, 29.6, -0.0157, 0.051],\n",
    "[57360.7, 35, 0.0632, 0.0608],)"
   ]
  },
  {
   "cell_type": "code",
   "execution_count": 7,
   "id": "950e6fcd-3d14-47b8-9ba6-640236c6ed2b",
   "metadata": {},
   "outputs": [],
   "source": [
    "df1 =  pd.DataFrame(E1, columns = [\"MJD\", \"Freq (GHz)\", \"Flux Density (mJy)\", \"Uncertainty (mJy)\"])\n",
    "\n",
    "df2 =  pd.DataFrame(E2, columns = [\"MJD\", \"Freq (GHz)\", \"Flux Density (mJy)\", \"Uncertainty (mJy)\"])\n",
    "\n",
    "df3 =  pd.DataFrame(E3, columns = [\"MJD\", \"Freq (GHz)\", \"Flux Density (mJy)\", \"Uncertainty (mJy)\"])\n",
    "\n",
    "df4 =  pd.DataFrame(E4, columns = [\"MJD\", \"Freq (GHz)\", \"Flux Density (mJy)\", \"Uncertainty (mJy)\"])\n",
    "\n",
    "df5 =  pd.DataFrame(E5, columns = [\"MJD\", \"Freq (GHz)\", \"Flux Density (mJy)\", \"Uncertainty (mJy)\"])\n",
    "\n",
    "df6 =  pd.DataFrame(E6, columns = [\"MJD\", \"Freq (GHz)\", \"Flux Density (mJy)\", \"Uncertainty (mJy)\"])\n",
    "\n",
    "df7 =  pd.DataFrame(E7, columns = [\"MJD\", \"Freq (GHz)\", \"Flux Density (mJy)\", \"Uncertainty (mJy)\"])\n",
    "\n",
    "df8 =  pd.DataFrame(E8, columns = [\"MJD\", \"Freq (GHz)\", \"Flux Density (mJy)\", \"Uncertainty (mJy)\"])\n",
    "\n",
    "df9 =  pd.DataFrame(E9, columns = [\"MJD\", \"Freq (GHz)\", \"Flux Density (mJy)\", \"Uncertainty (mJy)\"])\n",
    "\n",
    "df10 =  pd.DataFrame(E10, columns = [\"MJD\", \"Freq (GHz)\", \"Flux Density (mJy)\", \"Uncertainty (mJy)\"])\n",
    "\n",
    "df11 =  pd.DataFrame(E11, columns = [\"MJD\", \"Freq (GHz)\", \"Flux Density (mJy)\", \"Uncertainty (mJy)\"])\n",
    "\n",
    "df12 =  pd.DataFrame(E12, columns = [\"MJD\", \"Freq (GHz)\", \"Flux Density (mJy)\", \"Uncertainty (mJy)\"])\n",
    "\n",
    "df13 =  pd.DataFrame(E13, columns = [\"MJD\", \"Freq (GHz)\", \"Flux Density (mJy)\", \"Uncertainty (mJy)\"])\n",
    "\n",
    "df14 =  pd.DataFrame(E14, columns = [\"MJD\", \"Freq (GHz)\", \"Flux Density (mJy)\", \"Uncertainty (mJy)\"])\n",
    "\n",
    "df15 =  pd.DataFrame(E15, columns = [\"MJD\", \"Freq (GHz)\", \"Flux Density (mJy)\", \"Uncertainty (mJy)\"])\n",
    "\n",
    "df16 =  pd.DataFrame(E16, columns = [\"MJD\", \"Freq (GHz)\", \"Flux Density (mJy)\", \"Uncertainty (mJy)\"])"
   ]
  },
  {
   "cell_type": "code",
   "execution_count": 8,
   "id": "3ea9c6ae-f886-4cbb-8cc1-53251f567422",
   "metadata": {},
   "outputs": [
    {
     "data": {
      "image/png": "[encoded data removed]",
      "text/plain": [
       "<Figure size 1200x1200 with 16 Axes>"
      ]
     },
     "metadata": {},
     "output_type": "display_data"
    }
   ],
   "source": [
    "dfs = [df1, df2, df3, df4, df5, df6, df7, df8, df9, df10,\n",
    "       df11, df12, df13, df14, df15, df16]\n",
    "\n",
    "\n",
    "#the days by the list so they can all be defined\n",
    "annotations = ['Day 2.66', 'Day 6.66', 'Day 7.66', 'Day 12.76', 'Day 17.66', 'Day 23.66',\n",
    "               'Day 26.56', 'Day 41.58', 'Day 54.57', 'Day 55.73', 'Day 65.51', 'Day 66.49',\n",
    "               'Day 78.463', 'Day 93.46', 'Day 122.36', 'Day 295.86' ]\n",
    "\n",
    "#making the figure (4,4) is the (rows, columns)\n",
    "fig, ax = plt.subplots(4, 4, sharex='all', sharey='all')\n",
    "fig.set_size_inches(12, 12)\n",
    "fig.subplots_adjust(hspace=0, wspace=0)\n",
    "\n",
    "#loop for each of the datasets\n",
    "for idx, (df, label) in enumerate(zip(dfs, annotations)):\n",
    "    row, col = divmod(idx, 4)\n",
    "    mask = df['Flux Density (mJy)'] > 3 * df['Uncertainty (mJy)'] #don't show the non-detections\n",
    "    if mask.any():\n",
    "        ax[row, col].errorbar(df['Freq (GHz)'][mask], df['Flux Density (mJy)'][mask], yerr=df['Uncertainty (mJy)'][mask], fmt='^')\n",
    "        ax[row, col].set_xscale('log')\n",
    "        ax[row, col].set_yscale('log')\n",
    "        ax[row, col].set_xticks([1, 5, 10, 50], labels=['1', '5', '10', '50'])\n",
    "        ax[row, col].set_yticks([.1, 1, 5, 10, 20, 50], labels=['0.1','1.0', '5.0', '10.0', '20.0', '50.0'])\n",
    "        ax[row, col].annotate(label, xy=(50, 100), xycoords='axes points', size=9, ha='right', va='top', bbox=dict(boxstyle='round', fc='w', ec=\"w\"))\n",
    "        ax[row, col].tick_params(axis='both', which='both', direction='in', top=True, right=True)\n",
    "\n",
    "fig.supxlabel(\"Frequency (GHz)\")\n",
    "fig.supylabel(\"Flux Density (mJy)\")\n",
    "plt.show();"
   ]
  },
  {
   "cell_type": "markdown",
   "id": "9e4d4cee-868f-48a2-aefd-7ffaf3e845cb",
   "metadata": {},
   "source": [
    "### Finding the alpha for each day"
   ]
  },
  {
   "cell_type": "markdown",
   "id": "12c25556-db48-49d5-99e8-109620ca09f0",
   "metadata": {},
   "source": [
    "#### Day 2.7"
   ]
  },
  {
   "cell_type": "code",
   "execution_count": 9,
   "id": "0a59d0b4-35c5-448d-96fa-418170cfccb5",
   "metadata": {},
   "outputs": [],
   "source": [
    "mask = df1['Flux Density (mJy)'] > 3 * df1['Uncertainty (mJy)']  # apply detection threshold\n",
    "if mask.any():\n",
    "    x1 = df1['Freq (GHz)'][mask].values.tolist()\n",
    "    y1 = df1['Flux Density (mJy)'][mask].values.tolist()\n",
    "    yerr1 = df1['Uncertainty (mJy)'][mask].values.tolist()\n"
   ]
  },
  {
   "cell_type": "code",
   "execution_count": 10,
   "id": "e1dc34fa-47c4-4807-a861-e909389695d3",
   "metadata": {},
   "outputs": [
    {
     "data": {
      "text/plain": [
       "<PowerLaw1D(amplitude=4.03381685, x_0=4.68788498, alpha=0.81590664)>"
      ]
     },
     "execution_count": 10,
     "metadata": {},
     "output_type": "execute_result"
    }
   ],
   "source": [
    "PL1 =  PowerLaw1D(amplitude = y1[0], x_0= x1[0], alpha= 1,\n",
    "                     bounds={\n",
    "        'amplitude': (0, None),  # Amplitude should be positive\n",
    "        'x_0': (min(x1), max(x1)),  # Frequency must stay within data\n",
    "        'alpha': (-10, 10)  # Keep alpha within a realistic range\n",
    "    }) \n",
    "\n",
    "    #Initialize fitters\n",
    "    #setting calc_uncertainties=True to output errors on measurement \n",
    "\n",
    "fit1 = fitting.LevMarLSQFitter(calc_uncertainties=True)\n",
    "\n",
    "    #Fit the data w/o weights\n",
    "fit_model1 = fit1(PL1, x1, y1, maxiter=10000)\n",
    "\n",
    "    #weight is 1/error^2\n",
    "y_weight1 = 1/ (np.power(yerr1,2))  \n",
    "\n",
    "    # fit the data using the uncertainties as weights\n",
    "fit_model_weights1 = fit1(PL1, x1, y1, weights=y_weight1, maxiter=10000)\n",
    "\n",
    "fit_model_weights1"
   ]
  },
  {
   "cell_type": "code",
   "execution_count": 11,
   "id": "23ec5b8a-de88-453b-a3b7-8402389b76d2",
   "metadata": {},
   "outputs": [
    {
     "data": {
      "text/plain": [
       "'Both actual and predicted relative reductions in the sum of squares\\n  are at most 0.000000'"
      ]
     },
     "execution_count": 11,
     "metadata": {},
     "output_type": "execute_result"
    }
   ],
   "source": [
    "fit1.fit_info['message']"
   ]
  },
  {
   "cell_type": "code",
   "execution_count": 12,
   "id": "094e3421-b103-4956-9d9c-d61ded22781e",
   "metadata": {},
   "outputs": [
    {
     "name": "stdout",
     "output_type": "stream",
     "text": [
      "{'nfev': 16, 'fvec': array([ 3.10675893, -2.47979854, 34.49392875, 11.63630239]), 'fjac': array([[-7.73981532e+03,  4.11004804e+03,  2.88517969e+03,\n",
      "        -2.88174675e-02],\n",
      "       [ 4.11004804e+03, -2.65769418e+03, -1.86565344e+03,\n",
      "        -6.80761241e-03],\n",
      "       [ 2.88517969e+03, -1.86565344e+03, -3.74722886e-14,\n",
      "         5.21450009e-01]]), 'ipvt': array([3, 1, 2], dtype=int32), 'qtf': array([-1.42524104e-03,  9.21614178e-04, -3.57161813e+01]), 'message': 'Both actual and predicted relative reductions in the sum of squares\\n  are at most 0.000000', 'ierr': 1, 'param_jac': None, 'param_cov': array([[ 3.50938891e+26, -4.99925779e+26, -1.87401678e+10],\n",
      "       [-4.99925779e+26,  7.12163259e+26,  2.66960808e+10],\n",
      "       [-1.87401678e+10,  2.66960808e+10,  1.05734273e-06]]), 'njev': 6, 'cov_x': array([[ 3.50938891e+26, -4.99925779e+26, -1.87401678e+10],\n",
      "       [-4.99925779e+26,  7.12163259e+26,  2.66960808e+10],\n",
      "       [-1.87401678e+10,  2.66960808e+10,  1.05734273e-06]])}\n"
     ]
    }
   ],
   "source": [
    "print(fit1.fit_info)"
   ]
  },
  {
   "cell_type": "code",
   "execution_count": 233,
   "id": "39c57e8e-e4a6-4d22-ad81-eeb777ff9f08",
   "metadata": {},
   "outputs": [
    {
     "name": "stdout",
     "output_type": "stream",
     "text": [
      "The standard deviation is 0.004741844124388738\n"
     ]
    }
   ],
   "source": [
    "param_cov1= np.array()\n",
    "\n",
    "def stand(cov):\n",
    "    diag = np.diagonal(cov)\n",
    "    sd1 = np.sqrt(diag[0])\n",
    "    sd2 = np.sqrt(diag[1])\n",
    "    sd3 = np.sqrt(diag[2])\n",
    "    return(sd1,sd2,sd3)\n",
    "\n",
    "diag1 = stand(param_cov1) \n",
    "\n",
    "#The last diagonal element corresponds to alpha\n",
    "#So here we are calculating the standard deviation on the slope\n",
    "\n",
    "#print(diag)  #prints standard deviations of all three variances\n",
    "\n",
    "print(\"The standard deviation is\", diag1[2]) #Just showing the standard devation on the slope\n"
   ]
  },
  {
   "cell_type": "code",
   "execution_count": 14,
   "id": "9447ef08-2c24-44e2-8f13-dc00f0a2bbc4",
   "metadata": {},
   "outputs": [
    {
     "data": {
      "image/png": "[encoded data removed]",
      "text/plain": [
       "<Figure size 640x480 with 1 Axes>"
      ]
     },
     "metadata": {},
     "output_type": "display_data"
    }
   ],
   "source": [
    "fig,ax = plt.subplots()\n",
    "mask = df1['Flux Density (mJy)'] > 3 * df1['Uncertainty (mJy)']  # apply detection threshold\n",
    "if mask.any():  # proceed only if at least one detection\n",
    "    ax.errorbar(df1['Freq (GHz)'][mask], df1['Flux Density (mJy)'][mask], yerr=df1['Uncertainty (mJy)'][mask], fmt='^')\n",
    "    ax.set_xscale('log')\n",
    "    ax.set_xticks([1, 5, 10, 50], labels=['1', '5', '10', '50'])\n",
    "    ax.set_yscale('log')\n",
    "    ax.set_yticks([1, 5, 10, 20, 50], labels=['1', '5', '10', '20', '50'])\n",
    "    ax.annotate('Day 2.7', xy=(60, 100), xycoords='axes points', size=9, ha='right', va='top', bbox=dict(boxstyle='round', fc='w', ec=\"w\"))\n",
    "    ax.tick_params(axis='both', which='both', direction='in', top=True, right=True)\n",
    "    ax.plot(df1['Freq (GHz)'][mask], fit_model_weights1(df1['Freq (GHz)'][mask]), 'r--')\n",
    "    ax.annotate('${\\u03B1 = -0.816 \\\\pm }$', xy=(90, 80), xycoords='axes points', size=9, ha='right', va='top', bbox=dict(boxstyle='round', fc='w', ec=\"w\"))\n",
    "    #ax.annotate('${\\u03B1 2 =  \\\\pm }$', xy=(90, 60), xycoords='axes points', size=9, ha='right', va='top', bbox=dict(boxstyle='round', fc='w', ec=\"w\"))\n",
    "plt.show();"
   ]
  },
  {
   "cell_type": "markdown",
   "id": "03cc0990-4fbd-4f86-b693-a05e2db6785d",
   "metadata": {},
   "source": [
    "#### Day 6.66"
   ]
  },
  {
   "cell_type": "code",
   "execution_count": 15,
   "id": "ecd029f9-8807-4504-bbd6-cbd0569377ac",
   "metadata": {},
   "outputs": [],
   "source": [
    "mask = df2['Flux Density (mJy)'] > 3 * df2['Uncertainty (mJy)']  # apply detection threshold\n",
    "if mask.any():\n",
    "    x2 = df2['Freq (GHz)'][mask].values.tolist()\n",
    "    y2 = df2['Flux Density (mJy)'][mask].values.tolist()\n",
    "    yerr2 = df2['Uncertainty (mJy)'][mask].values.tolist()\n"
   ]
  },
  {
   "cell_type": "code",
   "execution_count": 16,
   "id": "8b097fa2-a44b-4db4-b30e-253fdec94545",
   "metadata": {},
   "outputs": [
    {
     "data": {
      "text/plain": [
       "<PowerLaw1D(amplitude=0.40868864, x_0=13.78465553, alpha=0.66748666)>"
      ]
     },
     "execution_count": 16,
     "metadata": {},
     "output_type": "execute_result"
    }
   ],
   "source": [
    "PL2 =  PowerLaw1D(amplitude = y2[0], x_0= x2[0], alpha= 1,\n",
    "                     bounds={\n",
    "        'amplitude': (0, None),  # Amplitude should be positive\n",
    "        'x_0': (min(x2), max(x2)),  # Frequency must stay within data\n",
    "        'alpha': (-10, 10)  # Keep alpha within a realistic range\n",
    "    }) \n",
    "\n",
    "    #Initialize fitters\n",
    "    #setting calc_uncertainties=True to output errors on measurement \n",
    "\n",
    "fit2 = fitting.LevMarLSQFitter(calc_uncertainties=True)\n",
    "\n",
    "    #Fit the data w/o weights\n",
    "fit_model2 = fit2(PL2, x2, y2)\n",
    "\n",
    "    #weight is 1/error^2\n",
    "y_weight2 = 1/ (np.power(yerr2,2))  \n",
    "\n",
    "    # fit the data using the uncertainties as weights\n",
    "fit_model_weights2 = fit2(PL2, x2, y2, weights=y_weight2)\n",
    "\n",
    "fit_model_weights2"
   ]
  },
  {
   "cell_type": "code",
   "execution_count": 17,
   "id": "a10d798f-7b07-44d8-95c4-688d25a00692",
   "metadata": {},
   "outputs": [
    {
     "name": "stdout",
     "output_type": "stream",
     "text": [
      "[3265.30612245 2204.14820693  392.11841976  196.15689413]\n"
     ]
    }
   ],
   "source": [
    "print(y_weight2)"
   ]
  },
  {
   "cell_type": "code",
   "execution_count": 18,
   "id": "165d2359-5f24-428f-82e9-9a770a36f4d5",
   "metadata": {},
   "outputs": [
    {
     "name": "stdout",
     "output_type": "stream",
     "text": [
      "[0.416, 0.344, 0.295, 0.376] [0.0175, 0.0213, 0.0505, 0.0714]\n"
     ]
    }
   ],
   "source": [
    "print(y2, yerr2)"
   ]
  },
  {
   "cell_type": "code",
   "execution_count": 19,
   "id": "42dd43f5-6fde-4412-95fb-239c9042224c",
   "metadata": {},
   "outputs": [
    {
     "name": "stdout",
     "output_type": "stream",
     "text": [
      "{'nfev': 13, 'fvec': array([ -5.15692272,  12.88040236, -16.29025139, -31.90281314]), 'fjac': array([[-3.82007668e+03,  6.98540817e+01, -7.55981765e+01,\n",
      "         2.68073217e-02],\n",
      "       [ 6.98540817e+01,  1.86804055e+02, -2.16108403e-15,\n",
      "         2.14964170e-01],\n",
      "       [-7.55981765e+01,  1.35837052e-14, -4.55894759e-15,\n",
      "         5.91458671e-01]]), 'ipvt': array([1, 3, 2], dtype=int32), 'qtf': array([2.76647146e-04, 5.66563207e-05, 3.50241704e+01]), 'message': 'Both actual and predicted relative reductions in the sum of squares\\n  are at most 0.000000', 'ierr': 1, 'param_jac': None, 'param_cov': array([[ 1.88429668e+25, -9.52160239e+26,  6.92375977e+10],\n",
      "       [-9.52160239e+26,  4.81139266e+28, -3.49866815e+12],\n",
      "       [ 6.92375977e+10, -3.49866815e+12,  2.83067087e-04]]), 'njev': 6, 'cov_x': array([[ 1.88429668e+25, -9.52160239e+26,  6.92375977e+10],\n",
      "       [-9.52160239e+26,  4.81139266e+28, -3.49866815e+12],\n",
      "       [ 6.92375977e+10, -3.49866815e+12,  2.83067087e-04]])}\n"
     ]
    }
   ],
   "source": [
    "print(fit2.fit_info)"
   ]
  },
  {
   "cell_type": "code",
   "execution_count": 20,
   "id": "4834c360-dc08-479b-b171-3dfaa32c312f",
   "metadata": {},
   "outputs": [
    {
     "name": "stdout",
     "output_type": "stream",
     "text": [
      "The standard deviation is 0.019297090324709578\n",
      "790700192234705.4 10532205039781.555 0.019297090324709578\n"
     ]
    }
   ],
   "source": [
    "param_cov2 = np.array()\n",
    "\n",
    "def stand(cov):\n",
    "    diag = np.diagonal(cov)\n",
    "    sd1 = np.sqrt(diag[0])\n",
    "    sd2 = np.sqrt(diag[1])\n",
    "    sd3 = np.sqrt(diag[2])\n",
    "    return(sd1,sd2,sd3)\n",
    "\n",
    "diag2 = stand(param_cov2) \n",
    "\n",
    "#The last diagonal element corresponds to alpha\n",
    "#So here we are calculating the standard deviation on the slope\n",
    "\n",
    "#print(diag)  #prints standard deviations of all three variances\n",
    "\n",
    "print(\"The standard deviation is\", diag2[2]) #Just showing the standard devation on the slope\n",
    "print(diag2[1], diag2[0], diag2[2])"
   ]
  },
  {
   "cell_type": "code",
   "execution_count": 22,
   "id": "20d08243-e878-43a1-b638-84b9860bace9",
   "metadata": {},
   "outputs": [
    {
     "data": {
      "image/png": "[encoded data removed]",
      "text/plain": [
       "<Figure size 640x480 with 1 Axes>"
      ]
     },
     "metadata": {},
     "output_type": "display_data"
    }
   ],
   "source": [
    "fig,ax = plt.subplots()\n",
    "mask = df2['Flux Density (mJy)'] > 3 * df2['Uncertainty (mJy)']  # apply detection threshold\n",
    "if mask.any():  # proceed only if at least one detection\n",
    "    ax.errorbar(df2['Freq (GHz)'][mask], df2['Flux Density (mJy)'][mask], yerr=df2['Uncertainty (mJy)'][mask], fmt='^')\n",
    "    ax.set_xscale('log')\n",
    "    ax.set_xticks([1, 5, 10, 50], labels=['1', '5', '10', '50'])\n",
    "    ax.set_yscale('log')\n",
    "    ax.set_yticks([1, 5, 10, 20, 50], labels=['1', '5', '10', '20', '50'])\n",
    "    ax.annotate('Day 6.66', xy=(60, 100), xycoords='axes points', size=9, ha='right', va='top', bbox=dict(boxstyle='round', fc='w', ec=\"w\"))\n",
    "    ax.tick_params(axis='both', which='both', direction='in', top=True, right=True)\n",
    "    ax.plot(df2['Freq (GHz)'][mask], fit_model_weights2(df2['Freq (GHz)'][mask]), 'r--')\n",
    "    ax.annotate('${\\u03B1 = -0.667 \\\\pm }$', xy=(90, 80), xycoords='axes points', size=9, ha='right', va='top', bbox=dict(boxstyle='round', fc='w', ec=\"w\"))\n",
    "\n",
    "plt.show();"
   ]
  },
  {
   "cell_type": "markdown",
   "id": "a86ca139-cea7-4546-a151-7a290c999aec",
   "metadata": {},
   "source": [
    "#### Day 7.66"
   ]
  },
  {
   "cell_type": "code",
   "execution_count": 23,
   "id": "b0dd1fb1-d37d-41ab-ba9c-25f22bcc23e7",
   "metadata": {},
   "outputs": [],
   "source": [
    "mask = df3['Flux Density (mJy)'] > 3 * df3['Uncertainty (mJy)']  # apply detection threshold\n",
    "if mask.any():\n",
    "    x3 = df3['Freq (GHz)'][mask].values.tolist()\n",
    "    y3 = df3['Flux Density (mJy)'][mask].values.tolist()\n",
    "    yerr3 = df3['Uncertainty (mJy)'][mask].values.tolist()\n"
   ]
  },
  {
   "cell_type": "code",
   "execution_count": 24,
   "id": "96176eed-fee8-4145-96af-f2d20de5db55",
   "metadata": {},
   "outputs": [
    {
     "data": {
      "text/plain": [
       "<PowerLaw1D(amplitude=1.74160665, x_0=1.26, alpha=0.77699218)>"
      ]
     },
     "execution_count": 24,
     "metadata": {},
     "output_type": "execute_result"
    }
   ],
   "source": [
    "PL3 =  PowerLaw1D(amplitude = y3[0], x_0= x3[0], alpha= 1,\n",
    "                     bounds={\n",
    "        'amplitude': (0, None),  # Amplitude should be positive\n",
    "        'x_0': (min(x3), max(x3)),  # Frequency must stay within data\n",
    "        'alpha': (-10, 10)  # Keep alpha within a realistic range\n",
    "    }) \n",
    "\n",
    "    #Initialize fitters\n",
    "    #setting calc_uncertainties=True to output errors on measurement \n",
    "\n",
    "fit3 = fitting.LevMarLSQFitter(calc_uncertainties=True)\n",
    "\n",
    "    #Fit the data w/o weights\n",
    "fit_model3 = fit3(PL3, x3, y3)\n",
    "\n",
    "    #weight is 1/error^2\n",
    "y_weight3 = 1/ (np.power(yerr3,2))  \n",
    "\n",
    "    # fit the data using the uncertainties as weights\n",
    "fit_model_weights3 = fit3(PL3, x3, y3, weights=y_weight3)\n",
    "fit_model_weights3"
   ]
  },
  {
   "cell_type": "code",
   "execution_count": 25,
   "id": "bf980594-5ef2-4a4a-aeaa-8c1a3fb1f0c7",
   "metadata": {},
   "outputs": [
    {
     "name": "stdout",
     "output_type": "stream",
     "text": [
      "{'nfev': 21, 'fvec': array([ 29.3231915 ,  27.4140847 , -27.65075709,  12.76144573,\n",
      "        49.07820155]), 'fjac': array([[ 5.72096618e+03, -2.19806797e+03, -2.04062021e+03,\n",
      "         8.57791470e-01,  5.64420577e-02],\n",
      "       [-2.19806797e+03, -3.98235571e+02, -3.69709930e+02,\n",
      "        -8.24929979e-01,  3.26116305e-02],\n",
      "       [-2.04062021e+03, -3.69709930e+02,  3.86642337e-13,\n",
      "         5.88072370e-01,  1.83772615e-02]]), 'ipvt': array([3, 2, 1], dtype=int32), 'qtf': array([-1.43274728e-03, -2.59593799e-04,  3.87560805e+01]), 'message': 'Both actual and predicted relative reductions in the sum of squares\\n  are at most 0.000000', 'ierr': 1, 'param_jac': None, 'param_cov': array([[ 6.68930788e+24, -6.21015230e+24, -1.74643093e+08],\n",
      "       [-6.21015230e+24,  5.76531866e+24,  1.62133397e+08],\n",
      "       [-1.74643093e+08,  1.62133397e+08,  9.65928077e-07]]), 'njev': 9, 'cov_x': array([[ 6.68930788e+24, -6.21015230e+24, -1.74643093e+08],\n",
      "       [-6.21015230e+24,  5.76531866e+24,  1.62133397e+08],\n",
      "       [-1.74643093e+08,  1.62133397e+08,  9.65928077e-07]])}\n"
     ]
    }
   ],
   "source": [
    "print(fit3.fit_info)"
   ]
  },
  {
   "cell_type": "code",
   "execution_count": 243,
   "id": "43da7f62-5b79-4b81-a7a5-5b540a4421a1",
   "metadata": {},
   "outputs": [
    {
     "name": "stdout",
     "output_type": "stream",
     "text": [
      "The standard deviation is 0.00237985744951247\n"
     ]
    }
   ],
   "source": [
    "param_cov3= np.array()\n",
    "\n",
    "def stand(cov):\n",
    "    diag = np.diagonal(cov)\n",
    "    sd1 = np.sqrt(diag[0])\n",
    "    sd2 = np.sqrt(diag[1])\n",
    "    sd3 = np.sqrt(diag[2])\n",
    "    return(sd1,sd2,sd3)\n",
    "\n",
    "diag3 = stand(param_cov3) \n",
    "\n",
    "#The last diagonal element corresponds to alpha\n",
    "#So here we are calculating the standard deviation on the slope\n",
    "\n",
    "#print(diag)  #prints standard deviations of all three variances\n",
    "\n",
    "print(\"The standard deviation is\", diag3[2]) #Just showing the standard devation on the slope\n"
   ]
  },
  {
   "cell_type": "code",
   "execution_count": 26,
   "id": "5ae4be95-1ede-464f-9bdd-9b98fa6d6770",
   "metadata": {},
   "outputs": [
    {
     "data": {
      "image/png": "[encoded data removed]",
      "text/plain": [
       "<Figure size 640x480 with 1 Axes>"
      ]
     },
     "metadata": {},
     "output_type": "display_data"
    }
   ],
   "source": [
    "fig,ax = plt.subplots()\n",
    "mask = df3['Flux Density (mJy)'] > 3 * df3['Uncertainty (mJy)']  # apply detection threshold\n",
    "if mask.any():  # proceed only if at least one detection\n",
    "    ax.errorbar(df3['Freq (GHz)'][mask], df3['Flux Density (mJy)'][mask], yerr=df3['Uncertainty (mJy)'][mask], fmt='^')\n",
    "    ax.set_xscale('log')\n",
    "    ax.set_xticks([1, 5, 10, 50], labels=['1', '5', '10', '50'])\n",
    "    ax.set_yscale('log')\n",
    "    ax.set_yticks([1, 5, 10, 20, 50], labels=['1', '5', '10', '20', '50'])\n",
    "    ax.annotate('Day 7.66', xy=(60, 100), xycoords='axes points', size=9, ha='right', va='top', bbox=dict(boxstyle='round', fc='w', ec=\"w\"))\n",
    "    ax.tick_params(axis='both', which='both', direction='in', top=True, right=True)\n",
    "    ax.plot(df3['Freq (GHz)'][mask], fit_model_weights3(df3['Freq (GHz)'][mask]), 'r--')\n",
    "    ax.annotate('${\\u03B1 = -0.777 \\\\pm }$', xy=(90, 80), xycoords='axes points', size=9, ha='right', va='top', bbox=dict(boxstyle='round', fc='w', ec=\"w\"))\n",
    "\n",
    "plt.show();"
   ]
  },
  {
   "cell_type": "markdown",
   "id": "fbaec92f-c2d9-40fb-8be9-31f7f0d43c8b",
   "metadata": {},
   "source": [
    "#### Day 12.76"
   ]
  },
  {
   "cell_type": "code",
   "execution_count": 27,
   "id": "59a4188d-6ba4-49c4-97f2-d2c31d3bd411",
   "metadata": {},
   "outputs": [],
   "source": [
    "mask = df4['Flux Density (mJy)'] > 3 * df4['Uncertainty (mJy)']  # apply detection threshold\n",
    "if mask.any():\n",
    "    x4 = df4['Freq (GHz)'][mask].values.tolist()\n",
    "    y4 = df4['Flux Density (mJy)'][mask].values.tolist()\n",
    "    yerr4 = df4['Uncertainty (mJy)'][mask].values.tolist()\n"
   ]
  },
  {
   "cell_type": "code",
   "execution_count": 28,
   "id": "7cc0fe31-e672-4af2-9e0d-4bc8f4dc294a",
   "metadata": {},
   "outputs": [
    {
     "data": {
      "text/plain": [
       "<PowerLaw1D(amplitude=0.36866547, x_0=12.98635748, alpha=-0.81473048)>"
      ]
     },
     "execution_count": 28,
     "metadata": {},
     "output_type": "execute_result"
    }
   ],
   "source": [
    "PL4 =  PowerLaw1D(amplitude = y4[0], x_0= x4[0], alpha= 1,\n",
    "                     bounds={\n",
    "        'amplitude': (0, None),  # Amplitude should be positive\n",
    "        'x_0': (min(x4), max(x4)),  # Frequency must stay within data\n",
    "        'alpha': (-10, 10)  # Keep alpha within a realistic range\n",
    "    }) \n",
    "\n",
    "    #Initialize fitters\n",
    "    #setting calc_uncertainties=True to output errors on measurement \n",
    "\n",
    "fit4 = fitting.LevMarLSQFitter(calc_uncertainties=True)\n",
    "\n",
    "    #Fit the data w/o weights\n",
    "fit_model4 = fit4(PL4, x4, y4, maxiter=10000)\n",
    "\n",
    "    #weight is 1/error^2\n",
    "y_weight4 = 1/ (np.power(yerr4,2))  \n",
    "\n",
    "    # fit the data using the uncertainties as weights\n",
    "fit_model_weights4 = fit4(PL4, x4, y4, weights=y_weight4, maxiter=10000)\n",
    "\n",
    "fit_model_weights4"
   ]
  },
  {
   "cell_type": "code",
   "execution_count": 29,
   "id": "91898b1b-dce2-4bbd-a97a-d1966a4a4f3b",
   "metadata": {},
   "outputs": [
    {
     "name": "stdout",
     "output_type": "stream",
     "text": [
      "{'nfev': 17, 'fvec': array([-16.92683963,  29.75166451, -38.92874974,   1.85078161,\n",
      "         6.45772023]), 'fjac': array([[-5.10678139e+03,  3.00067651e+02,  1.18139547e+02,\n",
      "         7.91693679e-02,  5.26928909e-02],\n",
      "       [ 3.00067651e+02,  3.41745572e+02,  1.33060553e-13,\n",
      "         4.03818227e-01, -3.15413079e-01],\n",
      "       [ 1.18139547e+02,  8.76028247e-15, -1.12247362e-14,\n",
      "         5.05086309e-01, -4.73638122e-01]]), 'ipvt': array([1, 3, 2], dtype=int32), 'qtf': array([-3.75591313e-03, -4.97740901e-05,  4.57835910e+01]), 'message': 'Both actual and predicted relative reductions in the sum of squares\\n  are at most 0.000000', 'ierr': 1, 'param_jac': None, 'param_cov': array([[ 4.24760163e+24,  1.83609752e+26, -4.70663975e+09],\n",
      "       [ 1.83609752e+26,  7.93684156e+27, -2.03452450e+11],\n",
      "       [-4.70663975e+09, -2.03452450e+11,  1.37776604e-05]]), 'njev': 8, 'cov_x': array([[ 4.24760163e+24,  1.83609752e+26, -4.70663975e+09],\n",
      "       [ 1.83609752e+26,  7.93684156e+27, -2.03452450e+11],\n",
      "       [-4.70663975e+09, -2.03452450e+11,  1.37776604e-05]])}\n"
     ]
    }
   ],
   "source": [
    "print(fit4.fit_info)"
   ]
  },
  {
   "cell_type": "code",
   "execution_count": 248,
   "id": "79cb1fc4-bf3d-4370-ba25-27e77b181e56",
   "metadata": {},
   "outputs": [
    {
     "name": "stdout",
     "output_type": "stream",
     "text": [
      "The standard deviation is 0.004022866502880751\n"
     ]
    }
   ],
   "source": [
    "param_cov4= np.array()\n",
    "\n",
    "def stand(cov):\n",
    "    diag = np.diagonal(cov)\n",
    "    sd1 = np.sqrt(diag[0])\n",
    "    sd2 = np.sqrt(diag[1])\n",
    "    sd3 = np.sqrt(diag[2])\n",
    "    return(sd1,sd2,sd3)\n",
    "\n",
    "diag4 = stand(param_cov4) \n",
    "\n",
    "#The last diagonal element corresponds to alpha\n",
    "#So here we are calculating the standard deviation on the slope\n",
    "\n",
    "#print(diag)  #prints standard deviations of all three variances\n",
    "\n",
    "print(\"The standard deviation is\", diag4[2]) #Just showing the standard devation on the slope\n"
   ]
  },
  {
   "cell_type": "code",
   "execution_count": 30,
   "id": "858af49f-7f31-4263-b0f4-7ba1e9590e12",
   "metadata": {},
   "outputs": [
    {
     "data": {
      "image/png": "[encoded data removed]",
      "text/plain": [
       "<Figure size 640x480 with 1 Axes>"
      ]
     },
     "metadata": {},
     "output_type": "display_data"
    }
   ],
   "source": [
    "fig,ax = plt.subplots()\n",
    "mask = df4['Flux Density (mJy)'] > 3 * df4['Uncertainty (mJy)']  # apply detection threshold\n",
    "if mask.any():  # proceed only if at least one detection\n",
    "    ax.errorbar(df4['Freq (GHz)'][mask], df4['Flux Density (mJy)'][mask], yerr=df4['Uncertainty (mJy)'][mask], fmt='^')\n",
    "    ax.set_xscale('log')\n",
    "    ax.set_xticks([1, 5, 10, 50], labels=['1', '5', '10', '50'])\n",
    "    ax.set_yscale('log')\n",
    "    ax.set_yticks([1, 5, 10, 20, 50], labels=['1', '5', '10', '20', '50'])\n",
    "    ax.annotate('Day 12.67', xy=(60, 100), xycoords='axes points', size=9, ha='right', va='top', bbox=dict(boxstyle='round', fc='w', ec=\"w\"))\n",
    "    ax.tick_params(axis='both', which='both', direction='in', top=True, right=True)\n",
    "    ax.plot(df4['Freq (GHz)'][mask], fit_model_weights4(df4['Freq (GHz)'][mask]), 'r--')\n",
    "    ax.annotate('${\\u03B1 = 0.815 \\\\pm }$', xy=(90, 80), xycoords='axes points', size=9, ha='right', va='top', bbox=dict(boxstyle='round', fc='w', ec=\"w\"))\n",
    "\n",
    "plt.show();"
   ]
  },
  {
   "cell_type": "markdown",
   "id": "48ee84a2-6ea2-477a-bc93-d06a7ff5c709",
   "metadata": {},
   "source": [
    "#### Day 17.66"
   ]
  },
  {
   "cell_type": "code",
   "execution_count": 33,
   "id": "00a6fd2f-4779-4735-b29f-f8344321be06",
   "metadata": {},
   "outputs": [],
   "source": [
    "#This one only has two points\n",
    "\n",
    "mask = df5['Flux Density (mJy)'] > 3 * df5['Uncertainty (mJy)']  # apply detection threshold\n",
    "if mask.any():\n",
    "    x5 = df5['Freq (GHz)'][mask].values.tolist()\n",
    "    y5 = df5['Flux Density (mJy)'][mask].values.tolist()\n",
    "    yerr5 = df5['Uncertainty (mJy)'][mask].values.tolist()\n"
   ]
  },
  {
   "cell_type": "code",
   "execution_count": 34,
   "id": "7518b32c-2579-4dea-829c-1aeca6f6a651",
   "metadata": {},
   "outputs": [],
   "source": [
    "def two_points(Flux, Freq, Err):\n",
    "    \n",
    "    alpha = (np.log10(Flux[0]/Flux[1])) / (np.log10(Freq[0]/Freq[1]))\n",
    "    \n",
    "    \n",
    "    der_s1 = 1 / (Flux[0] * np.log(Freq[0]/Freq[1]))\n",
    "    der_s2 = -1 / (Flux[1] * np.log(Freq[0]/Freq[1]))\n",
    "    \n",
    "    \n",
    "    err_alph_squared = (der_s1)**2 * (Err[0]**2) + (der_s2)**2 * (Err[1]**2) \n",
    "    err_alph = np.sqrt(err_alph_squared)\n",
    "    \n",
    "    return(alpha, err_alph)"
   ]
  },
  {
   "cell_type": "code",
   "execution_count": 37,
   "id": "dc8348b8-4a15-4337-95a5-44b1de2050b5",
   "metadata": {},
   "outputs": [
    {
     "data": {
      "text/plain": [
       "<PowerLaw1D(amplitude=0.221, x_0=4.55, alpha=0.29084746)>"
      ]
     },
     "execution_count": 37,
     "metadata": {},
     "output_type": "execute_result"
    }
   ],
   "source": [
    "fit5 = fitting.LevMarLSQFitter(calc_uncertainties=True)\n",
    "\n",
    "PL5 =  PowerLaw1D(amplitude = y5[0], x_0= x5[0], alpha= .3,\n",
    "                     bounds={\n",
    "        'amplitude': (0, None),  # Amplitude should be positive\n",
    "        #'x_0': (x3[0], x3[0]),  # Frequency must stay within data\n",
    "        'alpha': (-10, 10)  # Keep alpha within a realistic range\n",
    "    },\n",
    "                 fixed={'x_0': True}) \n",
    "\n",
    "    #Initialize fitters\n",
    "    #setting calc_uncertainties=True to output errors on measurement \n",
    "\n",
    "\n",
    "    #Fit the data w/o weights\n",
    "fit_model5 = fit5(PL5, x5, y5)\n",
    "\n",
    "    #weight is 1/error^2\n",
    "y_weight5 = 1/ (np.power(yerr5,2))  \n",
    "\n",
    "    # fit the data using the uncertainties as weights\n",
    "fit_model_weights5 = fit5(PL5, x5, y5, weights=y_weight5)\n",
    "\n",
    "fit_model_weights5"
   ]
  },
  {
   "cell_type": "code",
   "execution_count": 38,
   "id": "e6993ef6-7065-4cc7-bf4b-2ad5ce5e094d",
   "metadata": {},
   "outputs": [
    {
     "name": "stdout",
     "output_type": "stream",
     "text": [
      "(-0.29084746179610177, 0.23929282019097284)\n"
     ]
    }
   ],
   "source": [
    "#Same slope as PL3 \n",
    "alpha_err5 = two_points(y5,x5,yerr5)\n",
    "print(alpha_err5)"
   ]
  },
  {
   "cell_type": "code",
   "execution_count": 39,
   "id": "c3aaec5f-eb98-451c-86a8-1d6f981f7e60",
   "metadata": {},
   "outputs": [
    {
     "data": {
      "image/png": "[encoded data removed]",
      "text/plain": [
       "<Figure size 640x480 with 1 Axes>"
      ]
     },
     "metadata": {},
     "output_type": "display_data"
    }
   ],
   "source": [
    "fig,ax = plt.subplots()\n",
    "mask = df5['Flux Density (mJy)'] > 3 * df5['Uncertainty (mJy)']  # apply detection threshold\n",
    "if mask.any():  # proceed only if at least one detection\n",
    "    ax.errorbar(df5['Freq (GHz)'][mask], df5['Flux Density (mJy)'][mask], yerr=df5['Uncertainty (mJy)'][mask], fmt='^')\n",
    "    ax.set_xscale('log')\n",
    "    ax.set_xticks([1, 5, 10, 50], labels=['1', '5', '10', '50'])\n",
    "    ax.set_yscale('log')\n",
    "    ax.set_yticks([1, 5, 10, 20, 50], labels=['1', '5', '10', '20', '50'])\n",
    "    ax.annotate('Day 17.66', xy=(60, 100), xycoords='axes points', size=9, ha='right', va='top', bbox=dict(boxstyle='round', fc='w', ec=\"w\"))\n",
    "    ax.tick_params(axis='both', which='both', direction='in', top=True, right=True)\n",
    "    ax.plot(df5['Freq (GHz)'][mask], fit_model_weights5(df5['Freq (GHz)'][mask]), 'r--')\n",
    "    ax.annotate('${\\u03B1 = -0.291 \\\\pm 0.239}$', xy=(90, 80), xycoords='axes points', size=9, ha='right', va='top', bbox=dict(boxstyle='round', fc='w', ec=\"w\"))\n",
    "\n",
    "plt.show();"
   ]
  },
  {
   "cell_type": "markdown",
   "id": "8ac767fa-2217-4575-aa14-864a3b8dae84",
   "metadata": {},
   "source": [
    "#### Day 23.66"
   ]
  },
  {
   "cell_type": "code",
   "execution_count": 40,
   "id": "318fb005-b97e-4124-a4ca-b9ea5a30d230",
   "metadata": {},
   "outputs": [],
   "source": [
    "mask = df6['Flux Density (mJy)'] > 3 * df6['Uncertainty (mJy)']  # apply detection threshold\n",
    "if mask.any():\n",
    "    x6 = df6['Freq (GHz)'][mask].values.tolist()\n",
    "    y6 = df6['Flux Density (mJy)'][mask].values.tolist()\n",
    "    yerr6 = df6['Uncertainty (mJy)'][mask].values.tolist()\n"
   ]
  },
  {
   "cell_type": "code",
   "execution_count": 41,
   "id": "785c5efd-fca7-4d19-9596-32686233b643",
   "metadata": {},
   "outputs": [
    {
     "data": {
      "text/plain": [
       "<PowerLaw1D(amplitude=0.58584861, x_0=13.5, alpha=-0.98152856)>"
      ]
     },
     "execution_count": 41,
     "metadata": {},
     "output_type": "execute_result"
    }
   ],
   "source": [
    "PL6 =  PowerLaw1D(amplitude = y6[0], x_0= x6[0], alpha= -1,\n",
    "                     bounds={\n",
    "        'amplitude': (0, None),  # Amplitude should be positive\n",
    "        'x_0': (min(x6), max(x6)),  # Frequency must stay within data\n",
    "        'alpha': (-10, 10)  # Keep alpha within a realistic range\n",
    "    }) \n",
    "\n",
    "    #Initialize fitters\n",
    "    #setting calc_uncertainties=True to output errors on measurement \n",
    "\n",
    "fit6 = fitting.LevMarLSQFitter(calc_uncertainties=True)\n",
    "\n",
    "    #Fit the data w/o weights\n",
    "fit_model6 = fit6(PL6, x6, y6, maxiter=10000)\n",
    "\n",
    "    #weight is 1/error^2\n",
    "y_weight6 = 1/ (np.power(yerr6,2))  \n",
    "\n",
    "    # fit the data using the uncertainties as weights\n",
    "fit_model_weights6 = fit6(PL6, x6, y6, weights=y_weight6, maxiter=10000)\n",
    "\n",
    "fit_model_weights6"
   ]
  },
  {
   "cell_type": "code",
   "execution_count": 42,
   "id": "508184b2-0c52-40dc-86d7-6b1282443199",
   "metadata": {},
   "outputs": [
    {
     "name": "stdout",
     "output_type": "stream",
     "text": [
      "{'nfev': 22, 'fvec': array([  3.07959213,  -8.02258137,  26.81451544, -24.77166274]), 'fjac': array([[-4.84273034e+03,  4.00232366e+02,  2.06767595e+02,\n",
      "         1.08991254e-01],\n",
      "       [ 4.00232366e+02,  5.59693119e+02,  4.20629267e-11,\n",
      "         5.05756027e-01],\n",
      "       [ 2.06767595e+02,  9.05800092e-15, -2.80865637e-14,\n",
      "         5.62359388e-01]]), 'ipvt': array([1, 3, 2], dtype=int32), 'qtf': array([-4.96534648e-05,  9.73065362e-08, -1.27581879e+01]), 'message': 'Both actual and predicted relative reductions in the sum of squares\\n  are at most 0.000000', 'ierr': 1, 'param_jac': None, 'param_cov': array([[ 2.31093199e+24,  5.41246342e+25, -8.75946067e+08],\n",
      "       [ 5.41246342e+25,  1.26766000e+27, -2.05156451e+10],\n",
      "       [-8.75946067e+08, -2.05156451e+10,  3.52429584e-06]]), 'njev': 11, 'cov_x': array([[ 2.31093199e+24,  5.41246342e+25, -8.75946067e+08],\n",
      "       [ 5.41246342e+25,  1.26766000e+27, -2.05156451e+10],\n",
      "       [-8.75946067e+08, -2.05156451e+10,  3.52429584e-06]])}\n"
     ]
    }
   ],
   "source": [
    "print(fit6.fit_info)"
   ]
  },
  {
   "cell_type": "code",
   "execution_count": 258,
   "id": "9e3e06dc-4d7b-4517-9677-c6f30f5d36d7",
   "metadata": {},
   "outputs": [
    {
     "name": "stdout",
     "output_type": "stream",
     "text": [
      "The standard deviation is 0.005935783663510658\n"
     ]
    }
   ],
   "source": [
    "param_cov6= np.array()\n",
    "\n",
    "def stand(cov):\n",
    "    diag = np.diagonal(cov)\n",
    "    sd1 = np.sqrt(diag[0])\n",
    "    sd2 = np.sqrt(diag[1])\n",
    "    sd3 = np.sqrt(diag[2])\n",
    "    return(sd1,sd2,sd3)\n",
    "\n",
    "diag6 = stand(param_cov6) \n",
    "\n",
    "#The last diagonal element corresponds to alpha\n",
    "#So here we are calculating the standard deviation on the slope\n",
    "\n",
    "#print(diag)  #prints standard deviations of all three variances\n",
    "\n",
    "print(\"The standard deviation is\", diag6[2]) #Just showing the standard devation on the slope\n"
   ]
  },
  {
   "cell_type": "code",
   "execution_count": 43,
   "id": "0e6df3ff-d423-4945-be69-d03bb6e174ac",
   "metadata": {},
   "outputs": [
    {
     "data": {
      "image/png": "[encoded data removed]",
      "text/plain": [
       "<Figure size 640x480 with 1 Axes>"
      ]
     },
     "metadata": {},
     "output_type": "display_data"
    }
   ],
   "source": [
    "fig,ax = plt.subplots()\n",
    "mask = df6['Flux Density (mJy)'] > 3 * df6['Uncertainty (mJy)']  # apply detection threshold\n",
    "if mask.any():  # proceed only if at least one detection\n",
    "    ax.errorbar(df6['Freq (GHz)'][mask], df6['Flux Density (mJy)'][mask], yerr=df6['Uncertainty (mJy)'][mask], fmt='^')\n",
    "    ax.set_xscale('log')\n",
    "    ax.set_xticks([1, 5, 10, 50], labels=['1', '5', '10', '50'])\n",
    "    ax.set_yscale('log')\n",
    "    ax.set_yticks([1, 5, 10, 20, 50], labels=['1', '5', '10', '20', '50'])\n",
    "    ax.annotate('Day 23.66', xy=(60, 100), xycoords='axes points', size=9, ha='right', va='top', bbox=dict(boxstyle='round', fc='w', ec=\"w\"))\n",
    "    ax.tick_params(axis='both', which='both', direction='in', top=True, right=True)\n",
    "    ax.plot(df6['Freq (GHz)'][mask], fit_model_weights6(df6['Freq (GHz)'][mask]), 'r--')\n",
    "    ax.annotate('${\\u03B1 = 0.982 \\\\pm }$', xy=(90, 80), xycoords='axes points', size=9, ha='right', va='top', bbox=dict(boxstyle='round', fc='w', ec=\"w\"))\n",
    "\n",
    "plt.show();"
   ]
  },
  {
   "cell_type": "markdown",
   "id": "13d78a7c-c522-48a0-a1bc-8c5554c00637",
   "metadata": {},
   "source": [
    "#### Day 26.56"
   ]
  },
  {
   "cell_type": "code",
   "execution_count": 44,
   "id": "fac63dbb-85d5-46ee-85ac-4e3fbd2f5dd1",
   "metadata": {},
   "outputs": [],
   "source": [
    "mask = df7['Flux Density (mJy)'] > 3 * df7['Uncertainty (mJy)']  # apply detection threshold\n",
    "if mask.any():\n",
    "    x7 = df7['Freq (GHz)'][mask].values.tolist()\n",
    "    y7 = df7['Flux Density (mJy)'][mask].values.tolist()\n",
    "    yerr7 = df7['Uncertainty (mJy)'][mask].values.tolist()\n"
   ]
  },
  {
   "cell_type": "code",
   "execution_count": 46,
   "id": "53655c3c-9430-4b56-a30b-bfac349ac74a",
   "metadata": {},
   "outputs": [
    {
     "data": {
      "text/plain": [
       "<PowerLaw1D(amplitude=0.455, x_0=4.55, alpha=-0.33875315)>"
      ]
     },
     "execution_count": 46,
     "metadata": {},
     "output_type": "execute_result"
    }
   ],
   "source": [
    "fit7 = fitting.LevMarLSQFitter(calc_uncertainties=True)\n",
    "\n",
    "PL7 =  PowerLaw1D(amplitude = y7[0], x_0= x7[0], alpha= -.3,\n",
    "                     bounds={\n",
    "        'amplitude': (0, None),  # Amplitude should be positive\n",
    "        #'x_0': (x3[0], x3[0]),  # Frequency must stay within data\n",
    "        'alpha': (-10, 10)  # Keep alpha within a realistic range\n",
    "    },\n",
    "                 fixed={'x_0': True}) \n",
    "\n",
    "    #Initialize fitters\n",
    "    #setting calc_uncertainties=True to output errors on measurement \n",
    "\n",
    "\n",
    "    #Fit the data w/o weights\n",
    "fit_model7 = fit7(PL7, x7, y7)\n",
    "\n",
    "    #weight is 1/error^2\n",
    "y_weight7 = 1/ (np.power(yerr7,2))  \n",
    "\n",
    "    # fit the data using the uncertainties as weights\n",
    "fit_model_weights7 = fit7(PL7, x7, y7, weights=y_weight7)\n",
    "\n",
    "fit_model_weights7"
   ]
  },
  {
   "cell_type": "code",
   "execution_count": 48,
   "id": "5f07030c-b2d5-4b96-a770-7c013a7dbdaa",
   "metadata": {},
   "outputs": [
    {
     "name": "stdout",
     "output_type": "stream",
     "text": [
      "(0.33875314735322787, 0.09986689578024961)\n"
     ]
    }
   ],
   "source": [
    "#Same slope as PL7\n",
    "alpha_err7 = two_points(y7,x7,yerr7)\n",
    "print(alpha_err7)"
   ]
  },
  {
   "cell_type": "code",
   "execution_count": 49,
   "id": "7dbd085c-60a9-43ba-9564-df78ef1dd70f",
   "metadata": {},
   "outputs": [
    {
     "data": {
      "image/png": "[encoded data removed]",
      "text/plain": [
       "<Figure size 640x480 with 1 Axes>"
      ]
     },
     "metadata": {},
     "output_type": "display_data"
    }
   ],
   "source": [
    "fig,ax = plt.subplots()\n",
    "mask = df7['Flux Density (mJy)'] > 3 * df7['Uncertainty (mJy)']  # apply detection threshold\n",
    "if mask.any():  # proceed only if at least one detection\n",
    "    ax.errorbar(df7['Freq (GHz)'][mask], df7['Flux Density (mJy)'][mask], yerr=df7['Uncertainty (mJy)'][mask], fmt='^')\n",
    "    ax.set_xscale('log')\n",
    "    ax.set_xticks([1, 5, 10, 50], labels=['1', '5', '10', '50'])\n",
    "    ax.set_yscale('log')\n",
    "    ax.set_yticks([1, 5, 10, 20, 50], labels=['1', '5', '10', '20', '50'])\n",
    "    ax.annotate('Day 26.56', xy=(60, 100), xycoords='axes points', size=9, ha='right', va='top', bbox=dict(boxstyle='round', fc='w', ec=\"w\"))\n",
    "    ax.tick_params(axis='both', which='both', direction='in', top=True, right=True)\n",
    "    ax.plot(df7['Freq (GHz)'][mask], fit_model_weights7(df7['Freq (GHz)'][mask]), 'r--')\n",
    "    ax.annotate('${\\u03B1 = 0.339 \\\\pm 0.099}$', xy=(90, 80), xycoords='axes points', size=9, ha='right', va='top', bbox=dict(boxstyle='round', fc='w', ec=\"w\"))\n",
    "\n",
    "plt.show();"
   ]
  },
  {
   "cell_type": "markdown",
   "id": "96c67082-8dea-4fab-b9e6-f9e65ebddb69",
   "metadata": {},
   "source": [
    "#### Day 41.58"
   ]
  },
  {
   "cell_type": "code",
   "execution_count": 50,
   "id": "e7d818f3-2629-413b-93dd-695b23c8b240",
   "metadata": {},
   "outputs": [],
   "source": [
    "mask = df8['Flux Density (mJy)'] > 3 * df8['Uncertainty (mJy)']  # apply detection threshold\n",
    "if mask.any():\n",
    "    x8 = df8['Freq (GHz)'][mask].values.tolist()\n",
    "    y8 = df8['Flux Density (mJy)'][mask].values.tolist()\n",
    "    yerr8 = df8['Uncertainty (mJy)'][mask].values.tolist()\n"
   ]
  },
  {
   "cell_type": "code",
   "execution_count": null,
   "id": "1cc6c955-45b8-4cc5-9e5e-eae529a043a2",
   "metadata": {},
   "outputs": [],
   "source": []
  }
 ],
 "metadata": {
  "kernelspec": {
   "display_name": "Python [conda env:base] *",
   "language": "python",
   "name": "conda-base-py"
  },
  "language_info": {
   "codemirror_mode": {
    "name": "ipython",
    "version": 3
   },
   "file_extension": ".py",
   "mimetype": "text/x-python",
   "name": "python",
   "nbconvert_exporter": "python",
   "pygments_lexer": "ipython3",
   "version": "3.12.7"
  }
 },
 "nbformat": 4,
 "nbformat_minor": 5
}
