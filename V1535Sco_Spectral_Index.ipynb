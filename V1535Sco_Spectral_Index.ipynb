{
 "cells": [
  {
   "cell_type": "markdown",
   "id": "09f50aad-dfdb-479c-91f0-f8e2a7e1b245",
   "metadata": {},
   "source": [
    "### V1535 Sco Spectral Index Work"
   ]
  },
  {
   "cell_type": "code",
   "execution_count": 1,
   "id": "23a84284-f8a3-43a6-9d5e-85b34efd9d17",
   "metadata": {},
   "outputs": [],
   "source": [
    "#imports imports imports\n",
    "import math\n",
    "import pandas as pd\n",
    "import numpy as np\n",
    "import matplotlib.pyplot as plt\n",
    "%matplotlib inline\n",
    "\n",
    "from sympy import diff as dif\n",
    "\n",
    "from astropy.io import ascii\n",
    "import astropy.units as u\n",
    "import astropy.constants as const\n",
    "from astropy.modeling.powerlaws import BrokenPowerLaw1D, SmoothlyBrokenPowerLaw1D, PowerLaw1D\n",
    "from astropy.modeling import fitting, models"
   ]
  },
  {
   "cell_type": "code",
   "execution_count": 2,
   "id": "d2876feb-bbd1-4456-b7d9-49df70a095e5",
   "metadata": {},
   "outputs": [],
   "source": [
    "#now to get all of the data"
   ]
  },
  {
   "cell_type": "code",
   "execution_count": 3,
   "id": "f83fcbdc-f70d-42c3-bc70-2b3a41a4d03b",
   "metadata": {},
   "outputs": [],
   "source": [
    "data = ([57067.5, 4.55, 4.132, 0.0203],#B\n",
    "[57067.5, 7.38, 2.786, 0.0128],\n",
    "[57067.5, 28.2, 0.819, 0.0575],\n",
    "[57067.5, 36.5, 0.675, 0.0834],\n",
    "\n",
    "        [57071.5, 13.5, 0.416, 0.0175], #B\n",
    "[57071.5, 17.4, 0.344, 0.0213],\n",
    "[57071.5, 28.2, 0.295, 0.0505],\n",
    "[57071.5, 36.5, 0.376, 0.0714],\n",
    "\n",
    "[57072.5, 1.26, 1.57, 0.0765], #B\n",
    "[57072.5, 1.74, 1.21, 0.0728],\n",
    "[57072.5, 4.55, 0.65, 0.0168],\n",
    "[57072.5, 7.38, 0.439, 0.0126],\n",
    "\n",
    "[57072.5, 4.87, 0.484, 0.0505], #VLBA\n",
    "\n",
    "[57077.6, 13.5, 0.385, 0.0163], #B\n",
    "[57077.6, 17.4, 0.456, 0.02],\n",
    "[57077.6, 28.2, 0.785, 0.0485],\n",
    "[57077.6, 36.5, 0.845, 0.0758],\n",
    "\n",
    "[57077.7, 4.87, 0.155, 0.0409], #VLBA\n",
    "\n",
    "[57082.5, 1.26, 0.0142, 0.101], #B\n",
    "[57082.5, 1.74, 0.12, 0.0655],\n",
    "[57082.5, 4.55, 0.221, 0.0181],\n",
    "[57082.5, 7.38, 0.192, 0.0157],\n",
    "\n",
    "[57088.5, 13.5, 0.585, 0.0166], #B\n",
    "[57088.5, 17.4, 0.755, 0.0207],\n",
    "[57088.5, 28.2, 1.15, 0.0462],\n",
    "[57088.5, 36.5, 1.68, 0.071],\n",
    "\n",
    "[57091.4, 1.26, 0.153, 0.0738], #B\n",
    "[57091.4, 1.74, 0.11, 0.0538],\n",
    "[57091.4, 4.55, 0.455, 0.0187],\n",
    "[57091.4, 7.38, 0.536, 0.0136],\n",
    "\n",
    "[57106.42, 13.5, 0.267, 0.0126], #B\n",
    "[57106.42, 17.4, 0.299, 0.0143],\n",
    "[57106.42, 28.2, 0.348, 0.0405],\n",
    "[57106.42, 36.5, 0.186, 0.0551],\n",
    "\n",
    "[57106.47, 1.26, 0.273, 0.112], #B\n",
    "[57106.47, 1.74, 0.163, 0.0597],\n",
    "[57106.47, 4.55, 0.222, 0.0161],\n",
    "[57106.47, 7.38, 0.253, 0.012],\n",
    "\n",
    "[57119.41, 13.5, 0.457, 0.0248], #B\n",
    "[57119.41, 17.4, 0.399, 0.0182],\n",
    "[57119.41, 28.2, 0.323, 0.0446],\n",
    "[57119.41, 36.5, 0.276, 0.0602],\n",
    "\n",
    "[57120.57, 1.26, 0.873, 0.1], #B\n",
    "[57120.57, 1.74, 0.661, 0.0562],\n",
    "[57120.57, 4.55, 0.483, 0.0191],\n",
    "[57120.57, 7.38, 0.374, 0.0138],\n",
    "\n",
    "[57130.35, 1.26, 0.444, 0.0813], #B\n",
    "[57130.35, 1.74, 0.258, 0.056],\n",
    "[57130.35, 4.55, 0.256, 0.0172],\n",
    "[57130.35, 7.38, 0.228, 0.0117],\n",
    "\n",
    "[57131.33, 13.5, 0.209, 0.0156], #B\n",
    "[57131.33, 17.4, 0.167, 0.0221],\n",
    "[57131.33, 28.2, 0.173, 0.0482],\n",
    "[57131.33, 36.5, 0.0395, 0.0833],\n",
    "\n",
    "[57143.3, 1.26, -0.0723, 0.106], #B\n",
    "[57143.3, 1.74, 0.165, 0.0711],\n",
    "[57143.3, 4.55, 0.17, 0.0183],\n",
    "[57143.3, 7.38, 0.139, 0.0144],\n",
    "\n",
    "[57143.34, 13.5, 0.129, 0.0168], #B\n",
    "[57143.34, 17.4, 0.164, 0.0216],\n",
    "[57143.34, 28.2, 0.174, 0.0523],\n",
    "[57143.34, 36.5, 0.0153, 0.0753],\n",
    "\n",
    "[57158.3, 1.26, -0.152, 0.177], #B_> BnA\n",
    "[57158.3, 1.74, 0.101, 0.0784],\n",
    "[57158.3, 4.55, 0.0727, 0.023],\n",
    "[57158.3, 7.38, 0.0708, 0.0171],\n",
    "[57158.3, 13.5, 0.0518, 0.0175],\n",
    "[57158.3, 16.5, 0.0217, 0.0214],\n",
    "[57158.3, 29.5, 0.0401, 0.0362],\n",
    "[57158.3, 35, -0.00361, 0.045],\n",
    "\n",
    "[57187.2, 1.26, 0.277, 0.116], #BnA _> A\n",
    "[57187.2, 1.74, -0.0505, 0.0776],\n",
    "[57187.2, 5, 0.0194, 0.0204],\n",
    "[57187.2, 7, 0.044, 0.0223],\n",
    "[57187.2, 13.5, 0.0587, 0.0157],\n",
    "[57187.2, 16.5, 0.0569, 0.021],\n",
    "[57187.2, 29.5, 0.13, 0.0446],\n",
    "[57187.2, 35, -0.0206, 0.0588],\n",
    "\n",
    "#57360.7\t1.26\tXX\tXX #D\n",
    "#57360.7\t1.74\tXX\tXX\n",
    "[57360.7, 5, 0.0795, 0.031],\n",
    "[57360.7, 7, 0.0561, 0.022],\n",
    "[57360.7, 13.5, -0.0000599, 0.0196],\n",
    "[57360.7, 16.5, -0.000577, 0.0199],\n",
    "[57360.7, 29.6, -0.0157, 0.051],\n",
    "[57360.7, 35, 0.0632, 0.0608],)\n",
    "\n",
    "\n",
    "\n",
    "df =  pd.DataFrame(data, columns = [\"MJD\", \"Freq (GHz)\", \"Flux Density (mJy)\", \"Uncertainty (mJy)\"])"
   ]
  },
  {
   "cell_type": "code",
   "execution_count": 4,
   "id": "d5326935-c713-4182-a1a4-5ff7c5c2eccb",
   "metadata": {},
   "outputs": [],
   "source": [
    "#splitting it up by day"
   ]
  },
  {
   "cell_type": "code",
   "execution_count": 5,
   "id": "db23f890-7381-40b4-9448-9e137ca6ef2e",
   "metadata": {},
   "outputs": [],
   "source": [
    "\n",
    "\n",
    "E1 = ([57067.5, 4.55, 4.132, 0.0203],#B\n",
    "[57067.5, 7.38, 2.786, 0.0128],\n",
    "[57067.5, 28.2, 0.819, 0.0575],\n",
    "[57067.5, 36.5, 0.675, 0.0834],)\n",
    "\n",
    "E2 = ( [57071.5, 13.5, 0.416, 0.0175], #B\n",
    "[57071.5, 17.4, 0.344, 0.0213],\n",
    "[57071.5, 28.2, 0.295, 0.0505],\n",
    "[57071.5, 36.5, 0.376, 0.0714],\t\t\t\t\n",
    "    )\n",
    "\n",
    "E3 = ([57072.5, 1.26, 1.57, 0.0765], #B\n",
    "[57072.5, 1.74, 1.21, 0.0728],\n",
    "[57072.5, 4.55, 0.65, 0.0168],\n",
    "[57072.5, 7.38, 0.439, 0.0126],\n",
    "\n",
    "[57072.5, 4.87, 0.484, 0.0505], #VLBA\n",
    "    )\n",
    "\n",
    "E4 = ([57077.6, 13.5, 0.385, 0.0163], #B\n",
    "[57077.6, 17.4, 0.456, 0.02],\n",
    "[57077.6, 28.2, 0.785, 0.0485],\n",
    "[57077.6, 36.5, 0.845, 0.0758],\n",
    "\n",
    "[57077.7, 4.87, 0.155, 0.0409], #VLBA\n",
    "    )\n",
    "\n",
    "E5 = ([57082.5, 1.26, 0.0142, 0.101], #B\n",
    "[57082.5, 1.74, 0.12, 0.0655],\n",
    "[57082.5, 4.55, 0.221, 0.0181],\n",
    "[57082.5, 7.38, 0.192, 0.0157],\t\t\t\t\n",
    "    )\n",
    "\n",
    "E6 = (\t[57088.5, 13.5, 0.585, 0.0166], #B\n",
    "[57088.5, 17.4, 0.755, 0.0207],\n",
    "[57088.5, 28.2, 1.15, 0.0462],\n",
    "[57088.5, 36.5, 1.68, 0.071],\t\t\t\n",
    "    )\n",
    "\n",
    "E7 = ([57091.4, 1.26, 0.153, 0.0738], #B\n",
    "[57091.4, 1.74, 0.11, 0.0538],\n",
    "[57091.4, 4.55, 0.455, 0.0187],\n",
    "[57091.4, 7.38, 0.536, 0.0136],\n",
    "    )\n",
    "\n",
    "E8 = ([57106.42, 13.5, 0.267, 0.0126], #B\n",
    "[57106.42, 17.4, 0.299, 0.0143],\n",
    "[57106.42, 28.2, 0.348, 0.0405],\n",
    "[57106.42, 36.5, 0.186, 0.0551],\n",
    "\n",
    "[57106.47, 1.26, 0.273, 0.112], #B\n",
    "[57106.47, 1.74, 0.163, 0.0597],\n",
    "[57106.47, 4.55, 0.222, 0.0161],\n",
    "[57106.47, 7.38, 0.253, 0.012],\n",
    "    )\n",
    "\n",
    "E9 = ([57119.41, 13.5, 0.457, 0.0248], #B\n",
    "[57119.41, 17.4, 0.399, 0.0182],\n",
    "[57119.41, 28.2, 0.323, 0.0446],\n",
    "[57119.41, 36.5, 0.276, 0.0602],\n",
    "    )\n",
    "\n",
    "E10 = ([57120.57, 1.26, 0.873, 0.1], #B\n",
    "[57120.57, 1.74, 0.661, 0.0562],\n",
    "[57120.57, 4.55, 0.483, 0.0191],\n",
    "[57120.57, 7.38, 0.374, 0.0138],\n",
    "    )\n",
    "\n",
    "E11 = ([57130.35, 1.26, 0.444, 0.0813], #B\n",
    "[57130.35, 1.74, 0.258, 0.056],\n",
    "[57130.35, 4.55, 0.256, 0.0172],\n",
    "[57130.35, 7.38, 0.228, 0.0117],\n",
    "\n",
    "\t\t\t\t\n",
    "    )\n",
    "\n",
    "E12 = (\t\t[57131.33, 13.5, 0.209, 0.0156], #B\n",
    "[57131.33, 17.4, 0.167, 0.0221],\n",
    "[57131.33, 28.2, 0.173, 0.0482],\n",
    "[57131.33, 36.5, 0.0395, 0.0833],\t\t\n",
    "    )\n",
    "\n",
    "\n",
    "E13 =([57143.3, 1.26, -0.0723, 0.106], #B\n",
    "[57143.3, 1.74, 0.165, 0.0711],\n",
    "[57143.3, 4.55, 0.17, 0.0183],\n",
    "[57143.3, 7.38, 0.139, 0.0144],\n",
    "\n",
    "[57143.34, 13.5, 0.129, 0.0168], #B\n",
    "[57143.34, 17.4, 0.164, 0.0216],\n",
    "[57143.34, 28.2, 0.174, 0.0523],\n",
    "[57143.34, 36.5, 0.0153, 0.0753],\n",
    "    )\n",
    "\n",
    "E14 = ([57158.3, 1.26, -0.152, 0.177], #B_> BnA\n",
    "[57158.3, 1.74, 0.101, 0.0784],\n",
    "[57158.3, 4.55, 0.0727, 0.023],\n",
    "[57158.3, 7.38, 0.0708, 0.0171],\n",
    "[57158.3, 13.5, 0.0518, 0.0175],\n",
    "[57158.3, 16.5, 0.0217, 0.0214],\n",
    "[57158.3, 29.5, 0.0401, 0.0362],\n",
    "[57158.3, 35, -0.00361, 0.045],\n",
    "    )\n",
    "\n",
    "E15 = ([57187.2, 1.26, 0.277, 0.116], #BnA _> A\n",
    "[57187.2, 1.74, -0.0505, 0.0776],\n",
    "[57187.2, 5, 0.0194, 0.0204],\n",
    "[57187.2, 7, 0.044, 0.0223],\n",
    "[57187.2, 13.5, 0.0587, 0.0157],\n",
    "[57187.2, 16.5, 0.0569, 0.021],\n",
    "[57187.2, 29.5, 0.13, 0.0446],\n",
    "[57187.2, 35, -0.0206, 0.0588],\n",
    "\t\t\t\t\n",
    "    )\n",
    "\n",
    "E16 = (#57360.7\t1.26\tXX\tXX #D\n",
    "#57360.7\t1.74\tXX\tXX\n",
    "[57360.7, 5, 0.0795, 0.031],\n",
    "[57360.7, 7, 0.0561, 0.022],\n",
    "[57360.7, 13.5, -0.0000599, 0.0196],\n",
    "[57360.7, 16.5, -0.000577, 0.0199],\n",
    "[57360.7, 29.6, -0.0157, 0.051],\n",
    "[57360.7, 35, 0.0632, 0.0608],)"
   ]
  },
  {
   "cell_type": "code",
   "execution_count": 6,
   "id": "950e6fcd-3d14-47b8-9ba6-640236c6ed2b",
   "metadata": {},
   "outputs": [],
   "source": [
    "df1 =  pd.DataFrame(E1, columns = [\"MJD\", \"Freq (GHz)\", \"Flux Density (mJy)\", \"Uncertainty (mJy)\"])\n",
    "\n",
    "df2 =  pd.DataFrame(E2, columns = [\"MJD\", \"Freq (GHz)\", \"Flux Density (mJy)\", \"Uncertainty (mJy)\"])\n",
    "\n",
    "df3 =  pd.DataFrame(E3, columns = [\"MJD\", \"Freq (GHz)\", \"Flux Density (mJy)\", \"Uncertainty (mJy)\"])\n",
    "\n",
    "df4 =  pd.DataFrame(E4, columns = [\"MJD\", \"Freq (GHz)\", \"Flux Density (mJy)\", \"Uncertainty (mJy)\"])\n",
    "\n",
    "df5 =  pd.DataFrame(E5, columns = [\"MJD\", \"Freq (GHz)\", \"Flux Density (mJy)\", \"Uncertainty (mJy)\"])\n",
    "\n",
    "df6 =  pd.DataFrame(E6, columns = [\"MJD\", \"Freq (GHz)\", \"Flux Density (mJy)\", \"Uncertainty (mJy)\"])\n",
    "\n",
    "df7 =  pd.DataFrame(E7, columns = [\"MJD\", \"Freq (GHz)\", \"Flux Density (mJy)\", \"Uncertainty (mJy)\"])\n",
    "\n",
    "df8 =  pd.DataFrame(E8, columns = [\"MJD\", \"Freq (GHz)\", \"Flux Density (mJy)\", \"Uncertainty (mJy)\"])\n",
    "\n",
    "df9 =  pd.DataFrame(E9, columns = [\"MJD\", \"Freq (GHz)\", \"Flux Density (mJy)\", \"Uncertainty (mJy)\"])\n",
    "\n",
    "df10 =  pd.DataFrame(E10, columns = [\"MJD\", \"Freq (GHz)\", \"Flux Density (mJy)\", \"Uncertainty (mJy)\"])\n",
    "\n",
    "df11 =  pd.DataFrame(E11, columns = [\"MJD\", \"Freq (GHz)\", \"Flux Density (mJy)\", \"Uncertainty (mJy)\"])\n",
    "\n",
    "df12 =  pd.DataFrame(E12, columns = [\"MJD\", \"Freq (GHz)\", \"Flux Density (mJy)\", \"Uncertainty (mJy)\"])\n",
    "\n",
    "df13 =  pd.DataFrame(E13, columns = [\"MJD\", \"Freq (GHz)\", \"Flux Density (mJy)\", \"Uncertainty (mJy)\"])\n",
    "\n",
    "df14 =  pd.DataFrame(E14, columns = [\"MJD\", \"Freq (GHz)\", \"Flux Density (mJy)\", \"Uncertainty (mJy)\"])\n",
    "\n",
    "df15 =  pd.DataFrame(E15, columns = [\"MJD\", \"Freq (GHz)\", \"Flux Density (mJy)\", \"Uncertainty (mJy)\"])\n",
    "\n",
    "df16 =  pd.DataFrame(E16, columns = [\"MJD\", \"Freq (GHz)\", \"Flux Density (mJy)\", \"Uncertainty (mJy)\"])"
   ]
  },
  {
   "cell_type": "code",
   "execution_count": 7,
   "id": "3ea9c6ae-f886-4cbb-8cc1-53251f567422",
   "metadata": {},
   "outputs": [
    {
     "data": {
      "image/png": "[encoded data removed]",
      "text/plain": [
       "<Figure size 1200x1200 with 16 Axes>"
      ]
     },
     "metadata": {},
     "output_type": "display_data"
    }
   ],
   "source": [
    "dfs = [df1, df2, df3, df4, df5, df6, df7, df8, df9, df10,\n",
    "       df11, df12, df13, df14, df15, df16]\n",
    "\n",
    "\n",
    "#the days by the list so they can all be defined\n",
    "annotations = ['Day 2.66', 'Day 6.66', 'Day 7.66', 'Day 12.76', 'Day 17.66', 'Day 23.66',\n",
    "               'Day 26.56', 'Day 41.58', 'Day 54.57', 'Day 55.73', 'Day 65.51', 'Day 66.49',\n",
    "               'Day 78.463', 'Day 93.46', 'Day 122.36', 'Day 295.86' ]\n",
    "\n",
    "#making the figure (4,4) is the (rows, columns)\n",
    "fig, ax = plt.subplots(4, 4, sharex='all', sharey='all')\n",
    "fig.set_size_inches(12, 12)\n",
    "fig.subplots_adjust(hspace=0, wspace=0)\n",
    "\n",
    "#loop for each of the datasets\n",
    "for idx, (df, label) in enumerate(zip(dfs, annotations)):\n",
    "    row, col = divmod(idx, 4)\n",
    "    mask = df['Flux Density (mJy)'] > 3 * df['Uncertainty (mJy)'] #don't show the non-detections\n",
    "    if mask.any():\n",
    "        ax[row, col].errorbar(df['Freq (GHz)'][mask], df['Flux Density (mJy)'][mask], yerr=df['Uncertainty (mJy)'][mask], fmt='^')\n",
    "        ax[row, col].set_xscale('log')\n",
    "        ax[row, col].set_yscale('log')\n",
    "        ax[row, col].set_xticks([1, 5, 10, 50], labels=['1', '5', '10', '50'])\n",
    "        ax[row, col].set_yticks([.1, 1, 5, 10, 20, 50], labels=['0.1','1.0', '5.0', '10.0', '20.0', '50.0'])\n",
    "        ax[row, col].annotate(label, xy=(50, 100), xycoords='axes points', size=9, ha='right', va='top', bbox=dict(boxstyle='round', fc='w', ec=\"w\"))\n",
    "        ax[row, col].tick_params(axis='both', which='both', direction='in', top=True, right=True)\n",
    "\n",
    "fig.supxlabel(\"Frequency (GHz)\")\n",
    "fig.supylabel(\"Flux Density (mJy)\")\n",
    "plt.show();"
   ]
  },
  {
   "cell_type": "markdown",
   "id": "9e4d4cee-868f-48a2-aefd-7ffaf3e845cb",
   "metadata": {},
   "source": [
    "# Finding the alpha for each day"
   ]
  },
  {
   "cell_type": "code",
   "execution_count": 8,
   "id": "dbaf313e-1eec-4c7c-ae50-6f1578f0c01d",
   "metadata": {},
   "outputs": [],
   "source": [
    "def error(err, freq, flux):\n",
    "    yerr = []\n",
    "    for i in range(len(freq)):\n",
    "        if freq[i] < 10:\n",
    "            pl = np.sqrt(err[i]**2 + (flux[i]*0.05)**2)\n",
    "            yerr.append(pl)\n",
    "        else:\n",
    "            pl =np.sqrt(err[i]**2 + (flux[i]*0.1)**2)\n",
    "            yerr.append(pl)\n",
    "\n",
    "    return(yerr)\n",
    "\n"
   ]
  },
  {
   "cell_type": "markdown",
   "id": "12c25556-db48-49d5-99e8-109620ca09f0",
   "metadata": {},
   "source": [
    "#### Day 2.7"
   ]
  },
  {
   "cell_type": "code",
   "execution_count": 9,
   "id": "0a59d0b4-35c5-448d-96fa-418170cfccb5",
   "metadata": {},
   "outputs": [],
   "source": [
    "mask = df1['Flux Density (mJy)'] > 3 * df1['Uncertainty (mJy)']  # apply detection threshold\n",
    "if mask.any():\n",
    "    x1 = df1['Freq (GHz)'][mask].values.tolist()\n",
    "    y1 = df1['Flux Density (mJy)'][mask].values.tolist()\n",
    "    yerr1 = df1['Uncertainty (mJy)'][mask].values.tolist()\n"
   ]
  },
  {
   "cell_type": "code",
   "execution_count": 10,
   "id": "fdf63f57-8d09-4d95-8937-c6614799fcfd",
   "metadata": {},
   "outputs": [],
   "source": [
    "yerr1 = error(yerr1, x1, y1)"
   ]
  },
  {
   "cell_type": "code",
   "execution_count": 11,
   "id": "e1dc34fa-47c4-4807-a861-e909389695d3",
   "metadata": {},
   "outputs": [
    {
     "data": {
      "text/plain": [
       "<PowerLaw1D(amplitude=4.21995798, x_0=4.55, alpha=0.88792945)>"
      ]
     },
     "execution_count": 11,
     "metadata": {},
     "output_type": "execute_result"
    }
   ],
   "source": [
    "PL1 =  PowerLaw1D(amplitude = y1[0], x_0= x1[0], alpha= 1,\n",
    "                     bounds={\n",
    "        'amplitude': (0, None),  # Amplitude should be positive\n",
    "        'x_0': (min(x1), max(x1)),  # Frequency must stay within data\n",
    "        'alpha': (-10, 10)  # Keep alpha within a realistic range\n",
    "    }) \n",
    "\n",
    "    #Initialize fitters\n",
    "    #setting calc_uncertainties=True to output errors on measurement \n",
    "\n",
    "fit1 = fitting.LevMarLSQFitter(calc_uncertainties=True)\n",
    "\n",
    "    #Fit the data w/o weights\n",
    "fit_model1 = fit1(PL1, x1, y1, maxiter=10000)\n",
    "\n",
    "    #weight is 1/error^2\n",
    "y_weight1 = 1/ (np.power(yerr1,2))  \n",
    "\n",
    "    # fit the data using the uncertainties as weights\n",
    "fit_model_weights1 = fit1(PL1, x1, y1, weights=y_weight1, maxiter=10000)\n",
    "\n",
    "fit_model_weights1"
   ]
  },
  {
   "cell_type": "code",
   "execution_count": 12,
   "id": "094e3421-b103-4956-9d9c-d61ded22781e",
   "metadata": {},
   "outputs": [
    {
     "data": {
      "text/plain": [
       "{'nfev': 32,\n",
       " 'fvec': array([ 2.04099435, -2.01100142,  1.63051861, -0.92871972]),\n",
       " 'fjac': array([[ 2.02307922e+02, -3.28997400e+01, -2.92625432e+01,\n",
       "          5.75186082e-01],\n",
       "        [-3.28997400e+01, -2.92580314e+01, -2.60234400e+01,\n",
       "         -6.00221168e-01],\n",
       "        [-2.92625432e+01, -2.60234400e+01,  7.94410929e-15,\n",
       "          4.47213595e-01]]),\n",
       " 'ipvt': array([3, 1, 2], dtype=int32),\n",
       " 'qtf': array([6.97239678e-05, 7.86847261e-05, 2.47018316e+00]),\n",
       " 'message': 'Both actual and predicted relative reductions in the sum of squares\\n  are at most 0.000000',\n",
       " 'ierr': 1,\n",
       " 'param_jac': None,\n",
       " 'param_cov': array([[ 1.25357056e+28, -1.40938350e+28, -1.45799099e+12],\n",
       "        [-1.40938350e+28,  1.58456325e+28,  1.63921242e+12],\n",
       "        [-1.45799099e+12,  1.63921242e+12,  2.24901122e-04]]),\n",
       " 'njev': 19,\n",
       " 'cov_x': array([[ 1.25357056e+28, -1.40938350e+28, -1.45799099e+12],\n",
       "        [-1.40938350e+28,  1.58456325e+28,  1.63921242e+12],\n",
       "        [-1.45799099e+12,  1.63921242e+12,  2.24901122e-04]])}"
      ]
     },
     "execution_count": 12,
     "metadata": {},
     "output_type": "execute_result"
    }
   ],
   "source": [
    "fit1.fit_info"
   ]
  },
  {
   "cell_type": "code",
   "execution_count": 13,
   "id": "39c57e8e-e4a6-4d22-ad81-eeb777ff9f08",
   "metadata": {},
   "outputs": [
    {
     "name": "stdout",
     "output_type": "stream",
     "text": [
      "The standard deviation is 0.025535181269153717\n"
     ]
    }
   ],
   "source": [
    "fvec1 = np.array([ 2.04099435, -2.01100142,  1.63051861, -0.92871972])\n",
    "var1 = np.var(fvec1)\n",
    "\n",
    "param_cov1= np.array([[ 1.25357056e+28, -1.40938350e+28, -1.45799099e+12],\n",
    "        [-1.40938350e+28,  1.58456325e+28,  1.63921242e+12],\n",
    "        [-1.45799099e+12,  1.63921242e+12,  2.24901122e-04]])\n",
    "\n",
    "def stand(cov):\n",
    "    diag = np.diagonal(cov)\n",
    "    sd1 = np.sqrt(diag[0])\n",
    "    sd2 = np.sqrt(diag[1])\n",
    "    sd3 = np.sqrt(diag[2])\n",
    "    return(sd1,sd2,sd3)\n",
    "\n",
    "diag1 = stand(param_cov1*var1) \n",
    "\n",
    "#The last diagonal element corresponds to alpha\n",
    "#So here we are calculating the standard deviation on the slope\n",
    "\n",
    "#print(diag)  #prints standard deviations of all three variances\n",
    "\n",
    "print(\"The standard deviation is\", diag1[2]) #Just showing the standard devation on the slope\n"
   ]
  },
  {
   "cell_type": "code",
   "execution_count": 14,
   "id": "9447ef08-2c24-44e2-8f13-dc00f0a2bbc4",
   "metadata": {},
   "outputs": [
    {
     "data": {
      "image/png": "[encoded data removed]",
      "text/plain": [
       "<Figure size 640x480 with 1 Axes>"
      ]
     },
     "metadata": {},
     "output_type": "display_data"
    }
   ],
   "source": [
    "fig,ax = plt.subplots()\n",
    "mask = df1['Flux Density (mJy)'] > 3 * df1['Uncertainty (mJy)']  # apply detection threshold\n",
    "if mask.any():  # proceed only if at least one detection\n",
    "    ax.errorbar(df1['Freq (GHz)'][mask], df1['Flux Density (mJy)'][mask], yerr=df1['Uncertainty (mJy)'][mask], fmt='^')\n",
    "    ax.set_xscale('log')\n",
    "    ax.set_xticks([1, 5, 10, 50], labels=['1', '5', '10', '50'])\n",
    "    ax.set_yscale('log')\n",
    "    ax.set_yticks([1, 5, 10, 20, 50], labels=['1', '5', '10', '20', '50'])\n",
    "    ax.annotate('Day 2.7', xy=(60, 100), xycoords='axes points', size=9, ha='right', va='top', bbox=dict(boxstyle='round', fc='w', ec=\"w\"))\n",
    "    ax.tick_params(axis='both', which='both', direction='in', top=True, right=True)\n",
    "    ax.plot(df1['Freq (GHz)'][mask], fit_model_weights1(df1['Freq (GHz)'][mask]), 'r--')\n",
    "    ax.annotate('${\\u03B1 = -0.888 \\\\pm 0.026}$', xy=(90, 80), xycoords='axes points', size=9, ha='right', va='top', bbox=dict(boxstyle='round', fc='w', ec=\"w\"))\n",
    "    #ax.annotate('${\\u03B1 2 =  \\\\pm }$', xy=(90, 60), xycoords='axes points', size=9, ha='right', va='top', bbox=dict(boxstyle='round', fc='w', ec=\"w\"))\n",
    "plt.show();"
   ]
  },
  {
   "cell_type": "markdown",
   "id": "03cc0990-4fbd-4f86-b693-a05e2db6785d",
   "metadata": {},
   "source": [
    "#### Day 6.66"
   ]
  },
  {
   "cell_type": "code",
   "execution_count": 15,
   "id": "ecd029f9-8807-4504-bbd6-cbd0569377ac",
   "metadata": {},
   "outputs": [],
   "source": [
    "mask = df2['Flux Density (mJy)'] > 3 * df2['Uncertainty (mJy)']  # apply detection threshold\n",
    "if mask.any():\n",
    "    x2 = df2['Freq (GHz)'][mask].values.tolist()\n",
    "    y2 = df2['Flux Density (mJy)'][mask].values.tolist()\n",
    "    yerr2 = df2['Uncertainty (mJy)'][mask].values.tolist()\n"
   ]
  },
  {
   "cell_type": "code",
   "execution_count": 16,
   "id": "f15b1a42-a805-4d3c-910d-be72ca62047b",
   "metadata": {},
   "outputs": [],
   "source": [
    "yerr2 = error(yerr2, x2, y2)"
   ]
  },
  {
   "cell_type": "code",
   "execution_count": 17,
   "id": "8b097fa2-a44b-4db4-b30e-253fdec94545",
   "metadata": {},
   "outputs": [
    {
     "data": {
      "text/plain": [
       "<PowerLaw1D(amplitude=0.39798374, x_0=13.5, alpha=0.38520096)>"
      ]
     },
     "execution_count": 17,
     "metadata": {},
     "output_type": "execute_result"
    }
   ],
   "source": [
    "PL2 =  PowerLaw1D(amplitude = y2[0], x_0= x2[0], alpha= 1,\n",
    "                     bounds={\n",
    "        'amplitude': (0, None),  # Amplitude should be positive\n",
    "        'x_0': (min(x2), max(x2)),  # Frequency must stay within data\n",
    "        'alpha': (-10, 10)  # Keep alpha within a realistic range\n",
    "    }) \n",
    "\n",
    "    #Initialize fitters\n",
    "    #setting calc_uncertainties=True to output errors on measurement \n",
    "\n",
    "fit2 = fitting.LevMarLSQFitter(calc_uncertainties=True)\n",
    "\n",
    "    #Fit the data w/o weights\n",
    "fit_model2 = fit2(PL2, x2, y2)\n",
    "\n",
    "    #weight is 1/error^2\n",
    "y_weight2 = 1/ (np.power(yerr2,2))  \n",
    "\n",
    "    # fit the data using the uncertainties as weights\n",
    "fit_model_weights2 = fit2(PL2, x2, y2, weights=y_weight2)\n",
    "\n",
    "fit_model_weights2"
   ]
  },
  {
   "cell_type": "code",
   "execution_count": 18,
   "id": "42dd43f5-6fde-4412-95fb-239c9042224c",
   "metadata": {},
   "outputs": [
    {
     "data": {
      "text/plain": [
       "{'nfev': 21,\n",
       " 'fvec': array([ -8.84533374,  10.3352929 ,   1.36335319, -16.07635324]),\n",
       " 'fjac': array([[-7.71410719e+02,  6.14553021e+01, -7.77978154e+00,\n",
       "          1.34338068e-01],\n",
       "        [ 7.10545665e+01,  6.97954665e+01, -1.63975968e+00,\n",
       "          5.13432308e-01],\n",
       "        [-8.99497662e+00, -1.14372973e-15,  5.64719327e-16,\n",
       "          9.26027979e-01]]),\n",
       " 'ipvt': array([1, 3, 2], dtype=int32),\n",
       " 'qtf': array([ 8.12322803e-04, -1.05494541e-03,  2.08416894e+01]),\n",
       " 'message': 'Both actual and predicted relative reductions in the sum of squares\\n  are at most 0.000000',\n",
       " 'ierr': 1,\n",
       " 'param_jac': None,\n",
       " 'param_cov': array([[ 4.26347221e+26, -3.65636099e+28, -5.99163382e+11],\n",
       "        [-3.65636099e+28,  3.13570138e+30,  5.13843532e+13],\n",
       "        [-5.99163382e+11,  5.13843532e+13,  1.04730858e-03]]),\n",
       " 'njev': 9,\n",
       " 'cov_x': array([[ 4.26347221e+26, -3.65636099e+28, -5.99163382e+11],\n",
       "        [-3.65636099e+28,  3.13570138e+30,  5.13843532e+13],\n",
       "        [-5.99163382e+11,  5.13843532e+13,  1.04730858e-03]])}"
      ]
     },
     "execution_count": 18,
     "metadata": {},
     "output_type": "execute_result"
    }
   ],
   "source": [
    "fit2.fit_info"
   ]
  },
  {
   "cell_type": "code",
   "execution_count": 19,
   "id": "4834c360-dc08-479b-b171-3dfaa32c312f",
   "metadata": {},
   "outputs": [
    {
     "name": "stdout",
     "output_type": "stream",
     "text": [
      "The standard deviation is 0.3242898184565944\n"
     ]
    }
   ],
   "source": [
    "fvec2 = np.array([ -8.84533374,  10.3352929 ,   1.36335319, -16.07635324])\n",
    "var2 = np.var(fvec2)\n",
    "\n",
    "\n",
    "param_cov2 = np.array([[ 4.26347221e+26, -3.65636099e+28, -5.99163382e+11],\n",
    "        [-3.65636099e+28,  3.13570138e+30,  5.13843532e+13],\n",
    "        [-5.99163382e+11,  5.13843532e+13,  1.04730858e-03]])\n",
    "\n",
    "def stand(cov):\n",
    "    diag = np.diagonal(cov)\n",
    "    sd1 = np.sqrt(diag[0])\n",
    "    sd2 = np.sqrt(diag[1])\n",
    "    sd3 = np.sqrt(diag[2])\n",
    "    return(sd1,sd2,sd3)\n",
    "\n",
    "diag2 = stand(param_cov2*var2) \n",
    "\n",
    "#The last diagonal element corresponds to alpha\n",
    "#So here we are calculating the standard deviation on the slope\n",
    "\n",
    "#print(diag)  #prints standard deviations of all three variances\n",
    "\n",
    "print(\"The standard deviation is\", diag2[2]) #Just showing the standard devation on the slope\n"
   ]
  },
  {
   "cell_type": "code",
   "execution_count": 20,
   "id": "20d08243-e878-43a1-b638-84b9860bace9",
   "metadata": {},
   "outputs": [
    {
     "data": {
      "image/png": "[encoded data removed]",
      "text/plain": [
       "<Figure size 640x480 with 1 Axes>"
      ]
     },
     "metadata": {},
     "output_type": "display_data"
    }
   ],
   "source": [
    "fig,ax = plt.subplots()\n",
    "mask = df2['Flux Density (mJy)'] > 3 * df2['Uncertainty (mJy)']  # apply detection threshold\n",
    "if mask.any():  # proceed only if at least one detection\n",
    "    ax.errorbar(df2['Freq (GHz)'][mask], df2['Flux Density (mJy)'][mask], yerr=yerr2, fmt='^')\n",
    "    ax.set_xscale('log')\n",
    "    ax.set_xticks([1, 5, 10, 50], labels=['1', '5', '10', '50'])\n",
    "    ax.set_yscale('log')\n",
    "    ax.set_yticks([1, 5, 10, 20, 50], labels=['1', '5', '10', '20', '50'])\n",
    "    ax.annotate('Day 6.66', xy=(60, 100), xycoords='axes points', size=9, ha='right', va='top', bbox=dict(boxstyle='round', fc='w', ec=\"w\"))\n",
    "    ax.tick_params(axis='both', which='both', direction='in', top=True, right=True)\n",
    "    ax.plot(df2['Freq (GHz)'][mask], fit_model_weights2(df2['Freq (GHz)'][mask]), 'r--')\n",
    "    ax.annotate('${\\u03B1 = -0.385 \\\\pm 0.324}$', xy=(90, 80), xycoords='axes points', size=9, ha='right', va='top', bbox=dict(boxstyle='round', fc='w', ec=\"w\"))\n",
    "\n",
    "plt.show();"
   ]
  },
  {
   "cell_type": "markdown",
   "id": "a86ca139-cea7-4546-a151-7a290c999aec",
   "metadata": {},
   "source": [
    "#### Day 7.66"
   ]
  },
  {
   "cell_type": "code",
   "execution_count": 21,
   "id": "b0dd1fb1-d37d-41ab-ba9c-25f22bcc23e7",
   "metadata": {},
   "outputs": [],
   "source": [
    "mask = df3['Flux Density (mJy)'] > 3 * df3['Uncertainty (mJy)']  # apply detection threshold\n",
    "if mask.any():\n",
    "    x3 = df3['Freq (GHz)'][mask].values.tolist()\n",
    "    y3 = df3['Flux Density (mJy)'][mask].values.tolist()\n",
    "    yerr3 = df3['Uncertainty (mJy)'][mask].values.tolist()\n"
   ]
  },
  {
   "cell_type": "raw",
   "id": "ea2adb7e-d90d-4ad3-b148-388036f0466c",
   "metadata": {},
   "source": [
    "yerr3 = error(yerr3, x3, y3)"
   ]
  },
  {
   "cell_type": "code",
   "execution_count": 22,
   "id": "96176eed-fee8-4145-96af-f2d20de5db55",
   "metadata": {},
   "outputs": [
    {
     "data": {
      "text/plain": [
       "<PowerLaw1D(amplitude=1.74160665, x_0=1.26, alpha=0.77699218)>"
      ]
     },
     "execution_count": 22,
     "metadata": {},
     "output_type": "execute_result"
    }
   ],
   "source": [
    "PL3 =  PowerLaw1D(amplitude = y3[0], x_0= x3[0], alpha= 1,\n",
    "                     bounds={\n",
    "        'amplitude': (0, None),  # Amplitude should be positive\n",
    "        'x_0': (min(x3), max(x3)),  # Frequency must stay within data\n",
    "        'alpha': (-10, 10)  # Keep alpha within a realistic range\n",
    "    }) \n",
    "\n",
    "    #Initialize fitters\n",
    "    #setting calc_uncertainties=True to output errors on measurement \n",
    "\n",
    "fit3 = fitting.LevMarLSQFitter(calc_uncertainties=True)\n",
    "\n",
    "    #Fit the data w/o weights\n",
    "fit_model3 = fit3(PL3, x3, y3)\n",
    "\n",
    "    #weight is 1/error^2\n",
    "y_weight3 = 1/ (np.power(yerr3,2))  \n",
    "\n",
    "    # fit the data using the uncertainties as weights\n",
    "fit_model_weights3 = fit3(PL3, x3, y3, weights=y_weight3)\n",
    "fit_model_weights3"
   ]
  },
  {
   "cell_type": "code",
   "execution_count": 23,
   "id": "bf980594-5ef2-4a4a-aeaa-8c1a3fb1f0c7",
   "metadata": {},
   "outputs": [
    {
     "data": {
      "text/plain": [
       "{'nfev': 21,\n",
       " 'fvec': array([ 29.3231915 ,  27.4140847 , -27.65075709,  12.76144573,\n",
       "         49.07820155]),\n",
       " 'fjac': array([[ 5.72096618e+03, -2.19806797e+03, -2.04062021e+03,\n",
       "          8.57791470e-01,  5.64420577e-02],\n",
       "        [-2.19806797e+03, -3.98235571e+02, -3.69709930e+02,\n",
       "         -8.24929979e-01,  3.26116305e-02],\n",
       "        [-2.04062021e+03, -3.69709930e+02,  3.86642337e-13,\n",
       "          5.88072370e-01,  1.83772615e-02]]),\n",
       " 'ipvt': array([3, 2, 1], dtype=int32),\n",
       " 'qtf': array([-1.43274728e-03, -2.59593799e-04,  3.87560805e+01]),\n",
       " 'message': 'Both actual and predicted relative reductions in the sum of squares\\n  are at most 0.000000',\n",
       " 'ierr': 1,\n",
       " 'param_jac': None,\n",
       " 'param_cov': array([[ 6.68930788e+24, -6.21015230e+24, -1.74643093e+08],\n",
       "        [-6.21015230e+24,  5.76531866e+24,  1.62133397e+08],\n",
       "        [-1.74643093e+08,  1.62133397e+08,  9.65928077e-07]]),\n",
       " 'njev': 9,\n",
       " 'cov_x': array([[ 6.68930788e+24, -6.21015230e+24, -1.74643093e+08],\n",
       "        [-6.21015230e+24,  5.76531866e+24,  1.62133397e+08],\n",
       "        [-1.74643093e+08,  1.62133397e+08,  9.65928077e-07]])}"
      ]
     },
     "execution_count": 23,
     "metadata": {},
     "output_type": "execute_result"
    }
   ],
   "source": [
    "fit3.fit_info"
   ]
  },
  {
   "cell_type": "code",
   "execution_count": 24,
   "id": "43da7f62-5b79-4b81-a7a5-5b540a4421a1",
   "metadata": {},
   "outputs": [
    {
     "name": "stdout",
     "output_type": "stream",
     "text": [
      "The standard deviation is 0.02522588092819713\n"
     ]
    }
   ],
   "source": [
    "fvec3 = np.array([ 29.3231915 ,  27.4140847 , -27.65075709,  12.76144573,\n",
    "         49.07820155])\n",
    "var3 = np.var(fvec3)\n",
    "\n",
    "\n",
    "param_cov3= np.array([[ 6.68930788e+24, -6.21015230e+24, -1.74643093e+08],\n",
    "        [-6.21015230e+24,  5.76531866e+24,  1.62133397e+08],\n",
    "        [-1.74643093e+08,  1.62133397e+08,  9.65928077e-07]])\n",
    "\n",
    "def stand(cov):\n",
    "    diag = np.diagonal(cov)\n",
    "    sd1 = np.sqrt(diag[0])\n",
    "    sd2 = np.sqrt(diag[1])\n",
    "    sd3 = np.sqrt(diag[2])\n",
    "    return(sd1,sd2,sd3)\n",
    "\n",
    "diag3 = stand(param_cov3*var3) \n",
    "\n",
    "#The last diagonal element corresponds to alpha\n",
    "#So here we are calculating the standard deviation on the slope\n",
    "\n",
    "#print(diag)  #prints standard deviations of all three variances\n",
    "\n",
    "print(\"The standard deviation is\", diag3[2]) #Just showing the standard devation on the slope\n"
   ]
  },
  {
   "cell_type": "code",
   "execution_count": 25,
   "id": "5ae4be95-1ede-464f-9bdd-9b98fa6d6770",
   "metadata": {},
   "outputs": [
    {
     "data": {
      "image/png": "[encoded data removed]",
      "text/plain": [
       "<Figure size 640x480 with 1 Axes>"
      ]
     },
     "metadata": {},
     "output_type": "display_data"
    }
   ],
   "source": [
    "fig,ax = plt.subplots()\n",
    "mask = df3['Flux Density (mJy)'] > 3 * df3['Uncertainty (mJy)']  # apply detection threshold\n",
    "if mask.any():  # proceed only if at least one detection\n",
    "    ax.errorbar(df3['Freq (GHz)'][mask], df3['Flux Density (mJy)'][mask], yerr=yerr3, fmt='^')\n",
    "    ax.set_xscale('log')\n",
    "    ax.set_xticks([1, 5, 10, 50], labels=['1', '5', '10', '50'])\n",
    "    ax.set_yscale('log')\n",
    "    ax.set_yticks([1, 5, 10, 20, 50], labels=['1', '5', '10', '20', '50'])\n",
    "    ax.annotate('Day 7.66', xy=(60, 100), xycoords='axes points', size=9, ha='right', va='top', bbox=dict(boxstyle='round', fc='w', ec=\"w\"))\n",
    "    ax.tick_params(axis='both', which='both', direction='in', top=True, right=True)\n",
    "    ax.plot(df3['Freq (GHz)'][mask], fit_model_weights3(df3['Freq (GHz)'][mask]), 'r--')\n",
    "    ax.annotate('${\\u03B1 = -0.777 \\\\pm 0.025}$', xy=(90, 80), xycoords='axes points', size=9, ha='right', va='top', bbox=dict(boxstyle='round', fc='w', ec=\"w\"))\n",
    "\n",
    "plt.show();"
   ]
  },
  {
   "cell_type": "markdown",
   "id": "fbaec92f-c2d9-40fb-8be9-31f7f0d43c8b",
   "metadata": {},
   "source": [
    "#### Day 12.76"
   ]
  },
  {
   "cell_type": "code",
   "execution_count": 26,
   "id": "59a4188d-6ba4-49c4-97f2-d2c31d3bd411",
   "metadata": {},
   "outputs": [],
   "source": [
    "mask = df4['Flux Density (mJy)'] > 3 * df4['Uncertainty (mJy)']  # apply detection threshold\n",
    "if mask.any():\n",
    "    x4 = df4['Freq (GHz)'][mask].values.tolist()\n",
    "    y4 = df4['Flux Density (mJy)'][mask].values.tolist()\n",
    "    yerr4 = df4['Uncertainty (mJy)'][mask].values.tolist()\n"
   ]
  },
  {
   "cell_type": "code",
   "execution_count": 27,
   "id": "b6eda19e-1e5f-4df6-837d-3ef772b6066c",
   "metadata": {},
   "outputs": [],
   "source": [
    "yerr4 = error(yerr4, x4, y4)"
   ]
  },
  {
   "cell_type": "code",
   "execution_count": 28,
   "id": "7cc0fe31-e672-4af2-9e0d-4bc8f4dc294a",
   "metadata": {},
   "outputs": [
    {
     "data": {
      "text/plain": [
       "<PowerLaw1D(amplitude=0.74036931, x_0=29.29905622, alpha=-0.86672977)>"
      ]
     },
     "execution_count": 28,
     "metadata": {},
     "output_type": "execute_result"
    }
   ],
   "source": [
    "PL4 =  PowerLaw1D(amplitude = y4[0], x_0= x4[0], alpha= .5,\n",
    "                     bounds={\n",
    "        'amplitude': (0, None),  # Amplitude should be positive\n",
    "        'x_0': (min(x4), max(x4)),  # Frequency must stay within data\n",
    "        'alpha': (-10, 10)  # Keep alpha within a realistic range\n",
    "    }) \n",
    "\n",
    "    #Initialize fitters\n",
    "    #setting calc_uncertainties=True to output errors on measurement \n",
    "\n",
    "fit4 = fitting.LevMarLSQFitter(calc_uncertainties=True)\n",
    "\n",
    "    #Fit the data w/o weights\n",
    "fit_model4 = fit4(PL4, x4, y4, maxiter=10000)\n",
    "\n",
    "    #weight is 1/error^2\n",
    "y_weight4 = 1/ (np.power(yerr4,2))  \n",
    "\n",
    "    # fit the data using the uncertainties as weights\n",
    "fit_model_weights4 = fit4(PL4, x4, y4, weights=y_weight4, maxiter=10000)\n",
    "\n",
    "fit_model_weights4"
   ]
  },
  {
   "cell_type": "code",
   "execution_count": 29,
   "id": "91898b1b-dce2-4bbd-a97a-d1966a4a4f3b",
   "metadata": {},
   "outputs": [
    {
     "data": {
      "text/plain": [
       "{'nfev': 20,\n",
       " 'fvec': array([-3.8628409 ,  6.17367066, -8.07598399,  3.93547376,  0.75550331]),\n",
       " 'fjac': array([[-4.33495449e+02, -2.14751116e+02,  9.49430180e+00,\n",
       "          2.16581353e-01,  2.81050884e-01],\n",
       "        [-2.14751116e+02,  1.35105520e+02, -3.91995050e-15,\n",
       "          4.79231737e-01, -7.22896234e-01],\n",
       "        [ 9.49430180e+00, -7.45453330e-16,  7.92206217e-16,\n",
       "          7.79245194e-01, -6.14878243e-01]]),\n",
       " 'ipvt': array([1, 3, 2], dtype=int32),\n",
       " 'qtf': array([-5.92516211e-05,  1.66190617e-10,  3.47843554e+00]),\n",
       " 'message': 'Both actual and predicted relative reductions in the sum of squares\\n  are at most 0.000000',\n",
       " 'ierr': 1,\n",
       " 'param_jac': None,\n",
       " 'param_cov': array([[7.64329264e+26, 3.48981173e+28, 1.92552589e+11],\n",
       "        [3.48981173e+28, 1.59339521e+30, 8.79165977e+12],\n",
       "        [1.92552589e+11, 8.79165977e+12, 1.03292553e-04]]),\n",
       " 'njev': 8,\n",
       " 'cov_x': array([[7.64329264e+26, 3.48981173e+28, 1.92552589e+11],\n",
       "        [3.48981173e+28, 1.59339521e+30, 8.79165977e+12],\n",
       "        [1.92552589e+11, 8.79165977e+12, 1.03292553e-04]])}"
      ]
     },
     "execution_count": 29,
     "metadata": {},
     "output_type": "execute_result"
    }
   ],
   "source": [
    "fit4.fit_info"
   ]
  },
  {
   "cell_type": "code",
   "execution_count": 30,
   "id": "79cb1fc4-bf3d-4370-ba25-27e77b181e56",
   "metadata": {},
   "outputs": [
    {
     "name": "stdout",
     "output_type": "stream",
     "text": [
      "The standard deviation is 0.05263080119109629\n"
     ]
    }
   ],
   "source": [
    "fvec4 = np.array([-3.8628409 ,  6.17367066, -8.07598399,  3.93547376,  0.75550331])\n",
    "var4 = np.var(fvec4)\n",
    "\n",
    "\n",
    "param_cov4= np.array([[7.64329264e+26, 3.48981173e+28, 1.92552589e+11],\n",
    "        [3.48981173e+28, 1.59339521e+30, 8.79165977e+12],\n",
    "        [1.92552589e+11, 8.79165977e+12, 1.03292553e-04]])\n",
    "\n",
    "def stand(cov):\n",
    "    diag = np.diagonal(cov)\n",
    "    sd1 = np.sqrt(diag[0])\n",
    "    sd2 = np.sqrt(diag[1])\n",
    "    sd3 = np.sqrt(diag[2])\n",
    "    return(sd1,sd2,sd3)\n",
    "\n",
    "diag4 = stand(param_cov4*var4) \n",
    "\n",
    "#The last diagonal element corresponds to alpha\n",
    "#So here we are calculating the standard deviation on the slope\n",
    "\n",
    "#print(diag)  #prints standard deviations of all three variances\n",
    "\n",
    "print(\"The standard deviation is\", diag4[2]) #Just showing the standard devation on the slope\n"
   ]
  },
  {
   "cell_type": "code",
   "execution_count": 31,
   "id": "858af49f-7f31-4263-b0f4-7ba1e9590e12",
   "metadata": {},
   "outputs": [
    {
     "data": {
      "image/png": "[encoded data removed]",
      "text/plain": [
       "<Figure size 640x480 with 1 Axes>"
      ]
     },
     "metadata": {},
     "output_type": "display_data"
    }
   ],
   "source": [
    "fig,ax = plt.subplots()\n",
    "mask = df4['Flux Density (mJy)'] > 3 * df4['Uncertainty (mJy)']  # apply detection threshold\n",
    "if mask.any():  # proceed only if at least one detection\n",
    "    ax.errorbar(df4['Freq (GHz)'][mask], df4['Flux Density (mJy)'][mask], yerr=df4['Uncertainty (mJy)'][mask], fmt='^')\n",
    "    ax.set_xscale('log')\n",
    "    ax.set_xticks([1, 5, 10, 50], labels=['1', '5', '10', '50'])\n",
    "    ax.set_yscale('log')\n",
    "    ax.set_yticks([1, 5, 10, 20, 50], labels=['1', '5', '10', '20', '50'])\n",
    "    ax.annotate('Day 12.67', xy=(60, 100), xycoords='axes points', size=9, ha='right', va='top', bbox=dict(boxstyle='round', fc='w', ec=\"w\"))\n",
    "    ax.tick_params(axis='both', which='both', direction='in', top=True, right=True)\n",
    "    ax.plot(df4['Freq (GHz)'][mask], fit_model_weights4(df4['Freq (GHz)'][mask]), 'r--')\n",
    "    ax.annotate('${\\u03B1 = 0.867 \\\\pm 0.053}$', xy=(90, 80), xycoords='axes points', size=9, ha='right', va='top', bbox=dict(boxstyle='round', fc='w', ec=\"w\"))\n",
    "\n",
    "plt.show();"
   ]
  },
  {
   "cell_type": "markdown",
   "id": "48ee84a2-6ea2-477a-bc93-d06a7ff5c709",
   "metadata": {},
   "source": [
    "#### Day 17.66"
   ]
  },
  {
   "cell_type": "code",
   "execution_count": 32,
   "id": "00a6fd2f-4779-4735-b29f-f8344321be06",
   "metadata": {},
   "outputs": [],
   "source": [
    "#This one only has two points\n",
    "\n",
    "mask = df5['Flux Density (mJy)'] > 3 * df5['Uncertainty (mJy)']  # apply detection threshold\n",
    "if mask.any():\n",
    "    x5 = df5['Freq (GHz)'][mask].values.tolist()\n",
    "    y5 = df5['Flux Density (mJy)'][mask].values.tolist()\n",
    "    yerr5 = df5['Uncertainty (mJy)'][mask].values.tolist()\n"
   ]
  },
  {
   "cell_type": "code",
   "execution_count": 33,
   "id": "c99ff8a4-8f22-4596-9adf-f21e700d21dc",
   "metadata": {},
   "outputs": [],
   "source": [
    "yerr5 = error(yerr5, x5, y5)"
   ]
  },
  {
   "cell_type": "code",
   "execution_count": 34,
   "id": "dc8348b8-4a15-4337-95a5-44b1de2050b5",
   "metadata": {},
   "outputs": [
    {
     "data": {
      "text/plain": [
       "<PowerLaw1D(amplitude=0.221, x_0=4.55, alpha=0.29084746)>"
      ]
     },
     "execution_count": 34,
     "metadata": {},
     "output_type": "execute_result"
    }
   ],
   "source": [
    "fit5 = fitting.LevMarLSQFitter(calc_uncertainties=True)\n",
    "\n",
    "PL5 =  PowerLaw1D(amplitude = y5[0], x_0= x5[0], alpha= 0,\n",
    "                     bounds={\n",
    "        'amplitude': (0, None),  # Amplitude should be positive\n",
    "        #'x_0': (x3[0], x3[0]),  # Frequency must stay within data\n",
    "        'alpha': (-10, 10)  # Keep alpha within a realistic range\n",
    "    },\n",
    "                 fixed={'x_0': True}) \n",
    "\n",
    "    #Initialize fitters\n",
    "    #setting calc_uncertainties=True to output errors on measurement \n",
    "\n",
    "\n",
    "    #Fit the data w/o weights\n",
    "fit_model5 = fit5(PL5, x5, y5)\n",
    "\n",
    "    #weight is 1/error^2#y_weight5 = 1/ (np.power(yerr5,2))  \n",
    "\n",
    "    # fit the data using the uncertainties as weights\n",
    "fit_model_weights5 = fit5(PL5, x5, y5)#, weights=y_weight5)\n",
    "\n",
    "fit_model_weights5"
   ]
  },
  {
   "cell_type": "code",
   "execution_count": 35,
   "id": "3bdc0c5b-6366-4681-b5bd-e6b2a15c130e",
   "metadata": {},
   "outputs": [
    {
     "data": {
      "text/plain": [
       "{'nfev': 5,\n",
       " 'fvec': array([0., 0.]),\n",
       " 'fjac': array([[-1.32467947,  0.65584038],\n",
       "        [ 0.06090141,  0.07010006]]),\n",
       " 'ipvt': array([1, 2], dtype=int32),\n",
       " 'qtf': array([-1.24506014e-10, -1.43311610e-10]),\n",
       " 'message': 'The relative error between two consecutive iterates is at most 0.000000',\n",
       " 'ierr': 2,\n",
       " 'param_jac': None,\n",
       " 'param_cov': None,\n",
       " 'njev': 4,\n",
       " 'cov_x': array([[  1.        ,   9.35577485],\n",
       "        [  9.35577485, 203.49944302]])}"
      ]
     },
     "execution_count": 35,
     "metadata": {},
     "output_type": "execute_result"
    }
   ],
   "source": [
    "fit5.fit_info"
   ]
  },
  {
   "cell_type": "code",
   "execution_count": 36,
   "id": "1f2d6768-1f8b-4b29-aad8-1b6fb90d37c6",
   "metadata": {},
   "outputs": [
    {
     "name": "stdout",
     "output_type": "stream",
     "text": [
      "The error/standard deviation is 0.004054684217050694\n"
     ]
    }
   ],
   "source": [
    "#taking fvec\n",
    "fvec5 = np.array([0., 0.])\n",
    "var5 = np.var(fvec5)\n",
    "\n",
    "#taking cov_x\n",
    "cov_x5 = np.array([[1.07328312e-07, 1.00413952e-06],\n",
    "        [1.00413952e-06, 1.64404641e-05]])\n",
    "\n",
    "def stand(cov):\n",
    "    diag = np.diagonal(cov)\n",
    "    sd1 = np.sqrt(diag[0])\n",
    "    sd2 = np.sqrt(diag[1])\n",
    "    #sd3 = np.sqrt(diag[2])\n",
    "    return(sd1,sd2)#,sd3)\n",
    "\n",
    "diag5 = stand(cov_x5)#*var5) \n",
    "\n",
    "#The last diagonal element corresponds to alpha\n",
    "#So here we are calculating the standard deviation on the slope\n",
    "\n",
    "#print(diag)  #prints standard deviations of all three variances\n",
    "\n",
    "print('The error/standard deviation is', diag5[1]) #Just showing the standard deviation on the slope\n"
   ]
  },
  {
   "cell_type": "code",
   "execution_count": 37,
   "id": "4d35f4de-5597-4ad6-9129-904da70182d1",
   "metadata": {},
   "outputs": [],
   "source": [
    "#Error on alpha for only two data points\n",
    "def two_points(Flux, Freq, Err):\n",
    "    \n",
    "    alpha = (np.log10(Flux[0]/Flux[1])) / (np.log10(Freq[0]/Freq[1]))\n",
    "    \n",
    "    \n",
    "    der_s1 = 1 / (Flux[0] * np.log(Freq[0]/Freq[1]))\n",
    "    der_s2 = -1 / (Flux[1] * np.log(Freq[0]/Freq[1]))\n",
    "    \n",
    "    \n",
    "    err_alph_squared = (der_s1)**2 * (Err[0]**2) + (der_s2)**2 * (Err[1]**2) \n",
    "    err_alph = np.sqrt(err_alph_squared)\n",
    "    \n",
    "    return(alpha, err_alph)"
   ]
  },
  {
   "cell_type": "code",
   "execution_count": 38,
   "id": "2ee8b35a-b638-4872-8315-4792c3843881",
   "metadata": {},
   "outputs": [
    {
     "name": "stdout",
     "output_type": "stream",
     "text": [
      "(-0.29084746179610177, 0.2804219056541765)\n"
     ]
    }
   ],
   "source": [
    "alpha_err5 = two_points(y5,x5,yerr5)\n",
    "print(alpha_err5)"
   ]
  },
  {
   "cell_type": "code",
   "execution_count": 39,
   "id": "c3aaec5f-eb98-451c-86a8-1d6f981f7e60",
   "metadata": {},
   "outputs": [
    {
     "data": {
      "image/png": "[encoded data removed]",
      "text/plain": [
       "<Figure size 640x480 with 1 Axes>"
      ]
     },
     "metadata": {},
     "output_type": "display_data"
    }
   ],
   "source": [
    "fig,ax = plt.subplots()\n",
    "mask = df5['Flux Density (mJy)'] > 3 * df5['Uncertainty (mJy)']  # apply detection threshold\n",
    "if mask.any():  # proceed only if at least one detection\n",
    "    ax.errorbar(df5['Freq (GHz)'][mask], df5['Flux Density (mJy)'][mask], yerr=yerr5, fmt='^')\n",
    "    ax.set_xscale('log')\n",
    "    ax.set_xticks([1, 5, 10, 50], labels=['1', '5', '10', '50'])\n",
    "    ax.set_yscale('log')\n",
    "    ax.set_yticks([1, 5, 10, 20, 50], labels=['1', '5', '10', '20', '50'])\n",
    "    ax.annotate('Day 17.66', xy=(60, 100), xycoords='axes points', size=9, ha='right', va='top', bbox=dict(boxstyle='round', fc='w', ec=\"w\"))\n",
    "    ax.tick_params(axis='both', which='both', direction='in', top=True, right=True)\n",
    "    ax.plot(df5['Freq (GHz)'][mask], fit_model_weights5(df5['Freq (GHz)'][mask]), 'r--')\n",
    "    ax.annotate('${\\u03B1 = -0.291 \\\\pm 0.004}$', xy=(90, 80), xycoords='axes points', size=9, ha='right', va='top', bbox=dict(boxstyle='round', fc='w', ec=\"w\"))\n",
    "\n",
    "plt.show();"
   ]
  },
  {
   "cell_type": "markdown",
   "id": "8ac767fa-2217-4575-aa14-864a3b8dae84",
   "metadata": {},
   "source": [
    "#### Day 23.66"
   ]
  },
  {
   "cell_type": "code",
   "execution_count": 40,
   "id": "318fb005-b97e-4124-a4ca-b9ea5a30d230",
   "metadata": {},
   "outputs": [],
   "source": [
    "mask = df6['Flux Density (mJy)'] > 3 * df6['Uncertainty (mJy)']  # apply detection threshold\n",
    "if mask.any():\n",
    "    x6 = df6['Freq (GHz)'][mask].values.tolist()\n",
    "    y6 = df6['Flux Density (mJy)'][mask].values.tolist()\n",
    "    yerr6 = df6['Uncertainty (mJy)'][mask].values.tolist()\n"
   ]
  },
  {
   "cell_type": "code",
   "execution_count": 41,
   "id": "64402997-7e53-4446-b0c0-7000dcef15d2",
   "metadata": {},
   "outputs": [],
   "source": [
    "yerr6 = error(yerr6, x6, y6)"
   ]
  },
  {
   "cell_type": "code",
   "execution_count": 42,
   "id": "785c5efd-fca7-4d19-9596-32686233b643",
   "metadata": {},
   "outputs": [
    {
     "data": {
      "text/plain": [
       "<PowerLaw1D(amplitude=0.59542468, x_0=13.74584328, alpha=-0.98025691)>"
      ]
     },
     "execution_count": 42,
     "metadata": {},
     "output_type": "execute_result"
    }
   ],
   "source": [
    "PL6 =  PowerLaw1D(amplitude = y6[0], x_0= x6[0], alpha= -1,\n",
    "                     bounds={\n",
    "        'amplitude': (0, None),  # Amplitude should be positive\n",
    "        'x_0': (min(x6), max(x6)),  # Frequency must stay within data\n",
    "        'alpha': (-10, 10)  # Keep alpha within a realistic range\n",
    "    }) \n",
    "\n",
    "    #Initialize fitters\n",
    "    #setting calc_uncertainties=True to output errors on measurement \n",
    "\n",
    "fit6 = fitting.LevMarLSQFitter(calc_uncertainties=True)\n",
    "\n",
    "    #Fit the data w/o weights\n",
    "fit_model6 = fit6(PL6, x6, y6, maxiter=10000)\n",
    "\n",
    "    #weight is 1/error^2\n",
    "y_weight6 = 1/ (np.power(yerr6,2))  \n",
    "\n",
    "    # fit the data using the uncertainties as weights\n",
    "fit_model_weights6 = fit6(PL6, x6, y6, weights=y_weight6, maxiter=10000)\n",
    "\n",
    "fit_model_weights6"
   ]
  },
  {
   "cell_type": "code",
   "execution_count": 43,
   "id": "508184b2-0c52-40dc-86d7-6b1282443199",
   "metadata": {},
   "outputs": [
    {
     "data": {
      "text/plain": [
       "{'nfev': 7,\n",
       " 'fvec': array([-0.00434037, -0.78139801,  3.5368173 , -3.88191752]),\n",
       " 'fjac': array([[-3.68515505e+02,  4.33322537e+01,  1.56471317e+01,\n",
       "          2.12065666e-01],\n",
       "        [ 4.33322537e+01,  6.46001264e+01,  4.58024169e-15,\n",
       "          6.26695947e-01],\n",
       "        [ 1.56471317e+01,  1.92217490e-15, -1.42284406e-15,\n",
       "          3.75656779e-01]]),\n",
       " 'ipvt': array([1, 3, 2], dtype=int32),\n",
       " 'qtf': array([-2.18072198e-04, -1.45284424e-06, -2.39974853e+00]),\n",
       " 'message': 'Both actual and predicted relative reductions in the sum of squares\\n  are at most 0.000000',\n",
       " 'ierr': 1,\n",
       " 'param_jac': None,\n",
       " 'param_cov': array([[ 8.90519302e+26,  2.09731838e+28, -6.24056480e+11],\n",
       "        [ 2.09731838e+28,  4.93952729e+29, -1.46975492e+13],\n",
       "        [-6.24056480e+11, -1.46975492e+13,  6.76950781e-04]]),\n",
       " 'njev': 4,\n",
       " 'cov_x': array([[ 8.90519302e+26,  2.09731838e+28, -6.24056480e+11],\n",
       "        [ 2.09731838e+28,  4.93952729e+29, -1.46975492e+13],\n",
       "        [-6.24056480e+11, -1.46975492e+13,  6.76950781e-04]])}"
      ]
     },
     "execution_count": 43,
     "metadata": {},
     "output_type": "execute_result"
    }
   ],
   "source": [
    "fit6.fit_info"
   ]
  },
  {
   "cell_type": "code",
   "execution_count": 44,
   "id": "9e3e06dc-4d7b-4517-9677-c6f30f5d36d7",
   "metadata": {},
   "outputs": [
    {
     "name": "stdout",
     "output_type": "stream",
     "text": [
      "The standard deviation is 0.06867699636648604\n"
     ]
    }
   ],
   "source": [
    "#taking fvec\n",
    "fvec6 = np.array([-0.00434037, -0.78139801,  3.5368173 , -3.88191752])\n",
    "var6 = np.var(fvec6)\n",
    "\n",
    "\n",
    "\n",
    "param_cov6= np.array([[ 8.90519302e+26,  2.09731838e+28, -6.24056480e+11],\n",
    "        [ 2.09731838e+28,  4.93952729e+29, -1.46975492e+13],\n",
    "        [-6.24056480e+11, -1.46975492e+13,  6.76950781e-04]])\n",
    "\n",
    "def stand(cov):\n",
    "    diag = np.diagonal(cov)\n",
    "    sd1 = np.sqrt(diag[0])\n",
    "    sd2 = np.sqrt(diag[1])\n",
    "    sd3 = np.sqrt(diag[2])\n",
    "    return(sd1,sd2,sd3)\n",
    "\n",
    "diag6 = stand(param_cov6*var6) \n",
    "\n",
    "#The last diagonal element corresponds to alpha\n",
    "#So here we are calculating the standard deviation on the slope\n",
    "\n",
    "#print(diag)  #prints standard deviations of all three variances\n",
    "\n",
    "print(\"The standard deviation is\", diag6[2]) #Just showing the standard devation on the slope\n"
   ]
  },
  {
   "cell_type": "code",
   "execution_count": 45,
   "id": "0e6df3ff-d423-4945-be69-d03bb6e174ac",
   "metadata": {},
   "outputs": [
    {
     "data": {
      "image/png": "[encoded data removed]",
      "text/plain": [
       "<Figure size 640x480 with 1 Axes>"
      ]
     },
     "metadata": {},
     "output_type": "display_data"
    }
   ],
   "source": [
    "fig,ax = plt.subplots()\n",
    "mask = df6['Flux Density (mJy)'] > 3 * df6['Uncertainty (mJy)']  # apply detection threshold\n",
    "if mask.any():  # proceed only if at least one detection\n",
    "    ax.errorbar(df6['Freq (GHz)'][mask], df6['Flux Density (mJy)'][mask], yerr=yerr6, fmt='^')\n",
    "    ax.set_xscale('log')\n",
    "    ax.set_xticks([1, 5, 10, 50], labels=['1', '5', '10', '50'])\n",
    "    ax.set_yscale('log')\n",
    "    ax.set_yticks([1, 5, 10, 20, 50], labels=['1', '5', '10', '20', '50'])\n",
    "    ax.annotate('Day 23.66', xy=(60, 100), xycoords='axes points', size=9, ha='right', va='top', bbox=dict(boxstyle='round', fc='w', ec=\"w\"))\n",
    "    ax.tick_params(axis='both', which='both', direction='in', top=True, right=True)\n",
    "    ax.plot(df6['Freq (GHz)'][mask], fit_model_weights6(df6['Freq (GHz)'][mask]), 'r--')\n",
    "    ax.annotate('${\\u03B1 = 0.980 \\\\pm 0.069}$', xy=(90, 80), xycoords='axes points', size=9, ha='right', va='top', bbox=dict(boxstyle='round', fc='w', ec=\"w\"))\n",
    "\n",
    "plt.show();"
   ]
  },
  {
   "cell_type": "markdown",
   "id": "13d78a7c-c522-48a0-a1bc-8c5554c00637",
   "metadata": {},
   "source": [
    "#### Day 26.56"
   ]
  },
  {
   "cell_type": "code",
   "execution_count": 46,
   "id": "fac63dbb-85d5-46ee-85ac-4e3fbd2f5dd1",
   "metadata": {},
   "outputs": [],
   "source": [
    "mask = df7['Flux Density (mJy)'] > 3 * df7['Uncertainty (mJy)']  # apply detection threshold\n",
    "if mask.any():\n",
    "    x7 = df7['Freq (GHz)'][mask].values.tolist()\n",
    "    y7 = df7['Flux Density (mJy)'][mask].values.tolist()\n",
    "    yerr7 = df7['Uncertainty (mJy)'][mask].values.tolist()\n"
   ]
  },
  {
   "cell_type": "code",
   "execution_count": 47,
   "id": "2e2dee9e-84c9-4a2c-803c-5726d9131c66",
   "metadata": {},
   "outputs": [],
   "source": [
    "yerr7 = error(yerr7, x7,y7)"
   ]
  },
  {
   "cell_type": "code",
   "execution_count": 48,
   "id": "53655c3c-9430-4b56-a30b-bfac349ac74a",
   "metadata": {},
   "outputs": [
    {
     "data": {
      "text/plain": [
       "<PowerLaw1D(amplitude=0.455, x_0=4.55, alpha=-0.33875315)>"
      ]
     },
     "execution_count": 48,
     "metadata": {},
     "output_type": "execute_result"
    }
   ],
   "source": [
    "fit7 = fitting.LevMarLSQFitter(calc_uncertainties=True)\n",
    "\n",
    "PL7 =  PowerLaw1D(amplitude = y7[0], x_0= x7[0], alpha= -.3,\n",
    "                     bounds={\n",
    "        'amplitude': (0, None),  # Amplitude should be positive\n",
    "        #'x_0': (x3[0], x3[0]),  # Frequency must stay within data\n",
    "        'alpha': (-10, 10)  # Keep alpha within a realistic range\n",
    "    },\n",
    "                 fixed={'x_0': True}) \n",
    "\n",
    "    #Initialize fitters\n",
    "    #setting calc_uncertainties=True to output errors on measurement \n",
    "\n",
    "\n",
    "    #Fit the data w/o weights\n",
    "fit_model7 = fit7(PL7, x7, y7)\n",
    "\n",
    "    #weight is 1/error^2\n",
    "y_weight7 = 1/ (np.power(yerr7,2))  \n",
    "\n",
    "    # fit the data using the uncertainties as weights\n",
    "fit_model_weights7 = fit7(PL7, x7, y7, weights=y_weight7)\n",
    "\n",
    "fit_model_weights7"
   ]
  },
  {
   "cell_type": "code",
   "execution_count": 49,
   "id": "9103dfc0-8cf5-413b-9d38-d1972bec0ccb",
   "metadata": {},
   "outputs": [
    {
     "data": {
      "text/plain": [
       "{'nfev': 4,\n",
       " 'fvec': array([0.00000000e+00, 1.22921061e-13]),\n",
       " 'fjac': array([[-1.74089015e+03,  7.49200577e-01],\n",
       "        [ 2.15033902e+02,  1.90104284e+02]]),\n",
       " 'ipvt': array([1, 2], dtype=int32),\n",
       " 'qtf': array([-6.94445641e-06, -6.13936176e-06]),\n",
       " 'message': 'The relative error between two consecutive iterates is at most 0.000000',\n",
       " 'ierr': 2,\n",
       " 'param_jac': None,\n",
       " 'param_cov': None,\n",
       " 'njev': 3,\n",
       " 'cov_x': array([[7.52126899e-07, 3.41784025e-06],\n",
       "        [3.41784025e-06, 2.76704481e-05]])}"
      ]
     },
     "execution_count": 49,
     "metadata": {},
     "output_type": "execute_result"
    }
   ],
   "source": [
    "fit7.fit_info"
   ]
  },
  {
   "cell_type": "code",
   "execution_count": 50,
   "id": "4fa4c896-f693-4dea-beed-6e56366a02c2",
   "metadata": {},
   "outputs": [
    {
     "name": "stdout",
     "output_type": "stream",
     "text": [
      "The standard deviation is (1.0495077030469695e-16, 5.227879250565843e-16)\n"
     ]
    }
   ],
   "source": [
    "#taking fvec\n",
    "fvec6 = np.array([0.00000000e+00, 6.00250338e-13])\n",
    "var6 = np.var(fvec6)\n",
    "\n",
    "\n",
    "\n",
    "param_cov6= np.array([[1.22283096e-07, 5.55682942e-07],\n",
    "        [5.55682942e-07, 3.03421437e-06]])\n",
    "\n",
    "def stand(cov):\n",
    "    diag = np.diagonal(cov)\n",
    "    sd1 = np.sqrt(diag[0])\n",
    "    sd2 = np.sqrt(diag[1])\n",
    "    #sd3 = np.sqrt(diag[2])\n",
    "    return(sd1,sd2)#,sd3)\n",
    "\n",
    "diag6 = stand(param_cov6*var6) \n",
    "\n",
    "#The last diagonal element corresponds to alpha\n",
    "#So here we are calculating the standard deviation on the slope\n",
    "\n",
    "#print(diag)  #prints standard deviations of all three variances\n",
    "\n",
    "print(\"The standard deviation is\", diag6) #Just showing the standard devation on the slope\n"
   ]
  },
  {
   "cell_type": "code",
   "execution_count": 51,
   "id": "5f07030c-b2d5-4b96-a770-7c013a7dbdaa",
   "metadata": {},
   "outputs": [
    {
     "name": "stdout",
     "output_type": "stream",
     "text": [
      "(0.33875314735322787, 0.17705589018316745)\n"
     ]
    }
   ],
   "source": [
    "#Same slope as PL7\n",
    "alpha_err7 = two_points(y7,x7,yerr7)\n",
    "print(alpha_err7)"
   ]
  },
  {
   "cell_type": "code",
   "execution_count": 52,
   "id": "7dbd085c-60a9-43ba-9564-df78ef1dd70f",
   "metadata": {},
   "outputs": [
    {
     "data": {
      "image/png": "[encoded data removed]",
      "text/plain": [
       "<Figure size 640x480 with 1 Axes>"
      ]
     },
     "metadata": {},
     "output_type": "display_data"
    }
   ],
   "source": [
    "fig,ax = plt.subplots()\n",
    "mask = df7['Flux Density (mJy)'] > 3 * df7['Uncertainty (mJy)']  # apply detection threshold\n",
    "if mask.any():  # proceed only if at least one detection\n",
    "    ax.errorbar(df7['Freq (GHz)'][mask], df7['Flux Density (mJy)'][mask], yerr=df7['Uncertainty (mJy)'][mask], fmt='^')\n",
    "    ax.set_xscale('log')\n",
    "    ax.set_xticks([1, 5, 10, 50], labels=['1', '5', '10', '50'])\n",
    "    ax.set_yscale('log')\n",
    "    ax.set_yticks([1, 5, 10, 20, 50], labels=['1', '5', '10', '20', '50'])\n",
    "    ax.annotate('Day 26.56', xy=(60, 100), xycoords='axes points', size=9, ha='right', va='top', bbox=dict(boxstyle='round', fc='w', ec=\"w\"))\n",
    "    ax.tick_params(axis='both', which='both', direction='in', top=True, right=True)\n",
    "    ax.plot(df7['Freq (GHz)'][mask], fit_model_weights7(df7['Freq (GHz)'][mask]), 'r--')\n",
    "    ax.annotate('${\\u03B1 = 0.339 \\\\pm 0.177}$', xy=(90, 80), xycoords='axes points', size=9, ha='right', va='top', bbox=dict(boxstyle='round', fc='w', ec=\"w\"))\n",
    "\n",
    "plt.show();"
   ]
  },
  {
   "cell_type": "markdown",
   "id": "96c67082-8dea-4fab-b9e6-f9e65ebddb69",
   "metadata": {},
   "source": [
    "#### Day 41.58"
   ]
  },
  {
   "cell_type": "code",
   "execution_count": 53,
   "id": "e7d818f3-2629-413b-93dd-695b23c8b240",
   "metadata": {},
   "outputs": [],
   "source": [
    "mask = df8['Flux Density (mJy)'] > 3 * df8['Uncertainty (mJy)']  # apply detection threshold\n",
    "if mask.any():\n",
    "    x8 = df8['Freq (GHz)'][mask].values.tolist()\n",
    "    y8 = df8['Flux Density (mJy)'][mask].values.tolist()\n",
    "    yerr8 = df8['Uncertainty (mJy)'][mask].values.tolist()\n"
   ]
  },
  {
   "cell_type": "code",
   "execution_count": 54,
   "id": "7e1e06c1-857d-4d60-942a-0fddf0e14473",
   "metadata": {},
   "outputs": [],
   "source": [
    "yerr8 = error(yerr8, x8, y8)"
   ]
  },
  {
   "cell_type": "code",
   "execution_count": 55,
   "id": "1cc6c955-45b8-4cc5-9e5e-eae529a043a2",
   "metadata": {},
   "outputs": [
    {
     "data": {
      "text/plain": [
       "<PowerLaw1D(amplitude=0.27589296, x_0=13.5, alpha=-0.17515934)>"
      ]
     },
     "execution_count": 55,
     "metadata": {},
     "output_type": "execute_result"
    }
   ],
   "source": [
    "fit8 = fitting.LevMarLSQFitter(calc_uncertainties=True)\n",
    "\n",
    "PL8 =  PowerLaw1D(amplitude = y8[0], x_0= x8[0], alpha= -.3,\n",
    "                     bounds={\n",
    "        'amplitude': (0, None),  # Amplitude should be positive\n",
    "        #'x_0': (x3[0], x3[0]),  # Frequency must stay within data\n",
    "        'alpha': (-10, 10)  # Keep alpha within a realistic range\n",
    "    },\n",
    "                 fixed={'x_0': True}) \n",
    "\n",
    "    #Initialize fitters\n",
    "    #setting calc_uncertainties=True to output errors on measurement \n",
    "\n",
    "\n",
    "    #Fit the data w/o weights\n",
    "fit_model8 = fit8(PL8, x8, y8)\n",
    "\n",
    "    #weight is 1/error^2\n",
    "y_weight8 = 1/ (np.power(yerr8,2))  \n",
    "\n",
    "    # fit the data using the uncertainties as weights\n",
    "fit_model_weights8 = fit8(PL8, x8, y8, weights=y_weight8)\n",
    "\n",
    "fit_model_weights8"
   ]
  },
  {
   "cell_type": "code",
   "execution_count": 56,
   "id": "70ff2354-14a6-4fa7-8363-078baa72618a",
   "metadata": {},
   "outputs": [
    {
     "data": {
      "text/plain": [
       "{'nfev': 6,\n",
       " 'fvec': array([ 10.20244476,  -9.61891071, -11.96318393,  42.10544448,\n",
       "         15.79128952, -15.79111272]),\n",
       " 'fjac': array([[-3.99155797e+03,  2.38431105e-01,  9.99660990e-02,\n",
       "          8.81759285e-02,  5.41482806e-01,  7.41329280e-01],\n",
       "        [-6.84146593e+02,  4.64693427e+02,  2.88828253e-01,\n",
       "          3.08673478e-01, -7.76359822e-01, -2.13211783e-01]]),\n",
       " 'ipvt': array([1, 2], dtype=int32),\n",
       " 'qtf': array([ 9.64756346e-08, -6.07667987e-04]),\n",
       " 'message': 'Both actual and predicted relative reductions in the sum of squares\\n  are at most 0.000000',\n",
       " 'ierr': 1,\n",
       " 'param_jac': None,\n",
       " 'param_cov': array([[ 1.98808965e-07, -7.93731596e-07],\n",
       "        [-7.93731596e-07,  4.63091640e-06]]),\n",
       " 'njev': 5,\n",
       " 'cov_x': array([[ 1.98808965e-07, -7.93731596e-07],\n",
       "        [-7.93731596e-07,  4.63091640e-06]])}"
      ]
     },
     "execution_count": 56,
     "metadata": {},
     "output_type": "execute_result"
    }
   ],
   "source": [
    "fit8.fit_info"
   ]
  },
  {
   "cell_type": "code",
   "execution_count": 57,
   "id": "54de3dc1-dbad-4acb-ad8f-873e4e14eeb3",
   "metadata": {},
   "outputs": [
    {
     "name": "stdout",
     "output_type": "stream",
     "text": [
      "The standard deviation is 0.043520412795035414\n"
     ]
    }
   ],
   "source": [
    "#taking fvec\n",
    "fvec8 = np.array([ 10.20244476,  -9.61891071, -11.96318393,  42.10544448,\n",
    "         15.79128952, -15.79111272])\n",
    "var8 = np.var(fvec8)\n",
    "\n",
    "\n",
    "\n",
    "param_cov8= np.array([[ 1.98808965e-07, -7.93731596e-07],\n",
    "        [-7.93731596e-07,  4.63091640e-06]])\n",
    "\n",
    "def stand(cov):\n",
    "    diag = np.diagonal(cov)\n",
    "    sd1 = np.sqrt(diag[0])\n",
    "    sd2 = np.sqrt(diag[1])\n",
    "    #sd3 = np.sqrt(diag[2])\n",
    "    return(sd1,sd2)#,sd3)\n",
    "\n",
    "diag8 = stand(param_cov8*var8) \n",
    "\n",
    "#The last diagonal element corresponds to alpha\n",
    "#So here we are calculating the standard deviation on the slope\n",
    "\n",
    "#print(diag)  #prints standard deviations of all three variances\n",
    "\n",
    "print(\"The standard deviation is\", diag8[1]) #Just showing the standard devation on the slope\n"
   ]
  },
  {
   "cell_type": "code",
   "execution_count": 58,
   "id": "b0bab27a-cb03-4c1f-8543-7a860195c69c",
   "metadata": {},
   "outputs": [
    {
     "data": {
      "image/png": "[encoded data removed]",
      "text/plain": [
       "<Figure size 640x480 with 1 Axes>"
      ]
     },
     "metadata": {},
     "output_type": "display_data"
    }
   ],
   "source": [
    "fig,ax = plt.subplots()\n",
    "mask = df8['Flux Density (mJy)'] > 3 * df8['Uncertainty (mJy)']  # apply detection threshold\n",
    "if mask.any():  # proceed only if at least one detection\n",
    "    ax.errorbar(df8['Freq (GHz)'][mask], df8['Flux Density (mJy)'][mask], yerr=yerr8, fmt='^')\n",
    "    ax.set_xscale('log')\n",
    "    ax.set_xticks([1, 5, 10, 50], labels=['1', '5', '10', '50'])\n",
    "    ax.set_yscale('log')\n",
    "    ax.set_yticks([1, 5, 10, 20, 50], labels=['1', '5', '10', '20', '50'])\n",
    "    ax.annotate('Day 41.58', xy=(60, 100), xycoords='axes points', size=9, ha='right', va='top', bbox=dict(boxstyle='round', fc='w', ec=\"w\"))\n",
    "    ax.tick_params(axis='both', which='both', direction='in', top=True, right=True)\n",
    "    ax.plot(df8['Freq (GHz)'][mask], fit_model_weights8(df8['Freq (GHz)'][mask]), 'r--')\n",
    "    ax.annotate('${\\u03B1 = 0.175 \\\\pm 0.044}$', xy=(90, 80), xycoords='axes points', size=9, ha='right', va='top', bbox=dict(boxstyle='round', fc='w', ec=\"w\"))\n",
    "\n",
    "plt.show();"
   ]
  },
  {
   "cell_type": "markdown",
   "id": "62f519e3-6f5e-4d2f-bf7e-b1725a7781d7",
   "metadata": {},
   "source": [
    "## Day 54.57 (df9)"
   ]
  },
  {
   "cell_type": "code",
   "execution_count": 59,
   "id": "b03f3a14-d73c-43fa-b034-9f7e66c01b1d",
   "metadata": {},
   "outputs": [],
   "source": [
    "mask = df9['Flux Density (mJy)'] > 3 * df9['Uncertainty (mJy)']  # apply detection threshold\n",
    "if mask.any():\n",
    "    x9 = df9['Freq (GHz)'][mask].values.tolist()\n",
    "    y9 = df9['Flux Density (mJy)'][mask].values.tolist()\n",
    "    yerr9 = df9['Uncertainty (mJy)'][mask].values.tolist()"
   ]
  },
  {
   "cell_type": "code",
   "execution_count": 60,
   "id": "58aef213-94d4-4438-bc69-6367d333108c",
   "metadata": {},
   "outputs": [],
   "source": [
    "yerr9 = error(yerr9, x9, y9)"
   ]
  },
  {
   "cell_type": "code",
   "execution_count": 61,
   "id": "fc28a7cc-4125-452d-b9bd-a71e51e2e645",
   "metadata": {},
   "outputs": [
    {
     "data": {
      "text/plain": [
       "<PowerLaw1D(amplitude=0.45432276, x_0=13.5, alpha=0.48561018)>"
      ]
     },
     "execution_count": 61,
     "metadata": {},
     "output_type": "execute_result"
    }
   ],
   "source": [
    "fit9 = fitting.LevMarLSQFitter(calc_uncertainties=True)\n",
    "\n",
    "PL9 =  PowerLaw1D(amplitude = y9[0], x_0= x9[0], alpha= -.3,\n",
    "                     bounds={\n",
    "        'amplitude': (0, None),  # Amplitude should be positive\n",
    "        #'x_0': (x3[0], x3[0]),  # Frequency must stay within data\n",
    "        'alpha': (-10, 10)  # Keep alpha within a realistic range\n",
    "    },\n",
    "                 fixed={'x_0': True}) \n",
    "\n",
    "    #Initialize fitters\n",
    "    #setting calc_uncertainties=True to output errors on measurement \n",
    "\n",
    "\n",
    "    #Fit the data w/o weights\n",
    "fit_model9 = fit9(PL9, x9, y9)\n",
    "\n",
    "    #weight is 1/error^2\n",
    "y_weight9 = 1/ (np.power(yerr9,2))  \n",
    "\n",
    "    # fit the data using the uncertainties as weights\n",
    "fit_model_weights9 = fit9(PL9, x9, y9, weights=y_weight9)\n",
    "\n",
    "fit_model_weights9"
   ]
  },
  {
   "cell_type": "code",
   "execution_count": 62,
   "id": "10a0472f-df0f-4c15-9112-813a65b9cde4",
   "metadata": {},
   "outputs": [
    {
     "data": {
      "text/plain": [
       "{'nfev': 6,\n",
       " 'fvec': array([-0.99027739,  1.37545225, -1.74941899,  0.97714921]),\n",
       " 'fjac': array([[-6.48899589e+02,  7.08377984e-01,  3.55365174e-01,\n",
       "          2.16775480e-01],\n",
       "        [ 7.87469409e+01,  8.12642628e+01,  7.30326898e-01,\n",
       "          6.48392761e-01]]),\n",
       " 'ipvt': array([1, 2], dtype=int32),\n",
       " 'qtf': array([-1.95571073e-07, -3.98003911e-05]),\n",
       " 'message': 'Both actual and predicted relative reductions in the sum of squares\\n  are at most 0.000000',\n",
       " 'ierr': 1,\n",
       " 'param_jac': None,\n",
       " 'param_cov': array([[4.60494095e-06, 1.83762543e-05],\n",
       "        [1.83762543e-05, 1.51426122e-04]]),\n",
       " 'njev': 5,\n",
       " 'cov_x': array([[4.60494095e-06, 1.83762543e-05],\n",
       "        [1.83762543e-05, 1.51426122e-04]])}"
      ]
     },
     "execution_count": 62,
     "metadata": {},
     "output_type": "execute_result"
    }
   ],
   "source": [
    "fit9.fit_info"
   ]
  },
  {
   "cell_type": "code",
   "execution_count": 63,
   "id": "62263ef8-cb8d-4a81-bc45-76b432e0d13a",
   "metadata": {},
   "outputs": [
    {
     "name": "stdout",
     "output_type": "stream",
     "text": [
      "The standard deviation is 0.01610373537507134\n"
     ]
    }
   ],
   "source": [
    "#taking fvec\n",
    "fvec9 = np.array([-0.99027739,  1.37545225, -1.74941899,  0.97714921])\n",
    "var9 = np.var(fvec9)\n",
    "\n",
    "\n",
    "\n",
    "param_cov9= np.array([[4.60494095e-06, 1.83762543e-05],\n",
    "        [1.83762543e-05, 1.51426122e-04]])\n",
    "\n",
    "def stand(cov):\n",
    "    diag = np.diagonal(cov)\n",
    "    sd1 = np.sqrt(diag[0])\n",
    "    sd2 = np.sqrt(diag[1])\n",
    "    #sd3 = np.sqrt(diag[2])\n",
    "    return(sd1,sd2)#,sd3)\n",
    "\n",
    "diag9 = stand(param_cov9*var9) \n",
    "\n",
    "#The last diagonal element corresponds to alpha\n",
    "#So here we are calculating the standard deviation on the slope\n",
    "\n",
    "#print(diag)  #prints standard deviations of all three variances\n",
    "\n",
    "print(\"The standard deviation is\", diag9[1]) #Just showing the standard devation on the slope\n"
   ]
  },
  {
   "cell_type": "code",
   "execution_count": 64,
   "id": "a7e81834-7491-452d-a85e-d69103d255d8",
   "metadata": {},
   "outputs": [
    {
     "data": {
      "image/png": "[encoded data removed]",
      "text/plain": [
       "<Figure size 640x480 with 1 Axes>"
      ]
     },
     "metadata": {},
     "output_type": "display_data"
    }
   ],
   "source": [
    "fig,ax = plt.subplots()\n",
    "mask = df9['Flux Density (mJy)'] > 3 * df9['Uncertainty (mJy)']  # apply detection threshold\n",
    "if mask.any():  # proceed only if at least one detection\n",
    "    ax.errorbar(df9['Freq (GHz)'][mask], df9['Flux Density (mJy)'][mask], yerr=yerr9, fmt='^')\n",
    "    ax.set_xscale('log')\n",
    "    ax.set_xticks([1, 5, 10, 50], labels=['1', '5', '10', '50'])\n",
    "    ax.set_yscale('log')\n",
    "    ax.set_yticks([1, 5, 10, 20, 50], labels=['1', '5', '10', '20', '50'])\n",
    "    ax.annotate('Day 54.57', xy=(60, 100), xycoords='axes points', size=9, ha='right', va='top', bbox=dict(boxstyle='round', fc='w', ec=\"w\"))\n",
    "    ax.tick_params(axis='both', which='both', direction='in', top=True, right=True)\n",
    "    ax.plot(df9['Freq (GHz)'][mask], fit_model_weights9(df9['Freq (GHz)'][mask]), 'r--')\n",
    "    ax.annotate('${\\u03B1 = -0.486 \\\\pm 0.016}$', xy=(90, 80), xycoords='axes points', size=9, ha='right', va='top', bbox=dict(boxstyle='round', fc='w', ec=\"w\"))\n",
    "\n",
    "plt.show();"
   ]
  },
  {
   "cell_type": "markdown",
   "id": "1bb285f7-fef9-469e-97bc-77d154a00b86",
   "metadata": {},
   "source": [
    "## Day 55.73 (df10)"
   ]
  },
  {
   "cell_type": "code",
   "execution_count": 65,
   "id": "6aaae4ed-3e12-456a-b4d8-b50536a5d945",
   "metadata": {},
   "outputs": [],
   "source": [
    "mask = df10['Flux Density (mJy)'] > 3 * df10['Uncertainty (mJy)']  # apply detection threshold\n",
    "if mask.any():\n",
    "    x10 = df10['Freq (GHz)'][mask].values.tolist()\n",
    "    y10 = df10['Flux Density (mJy)'][mask].values.tolist()\n",
    "    yerr10 = df10['Uncertainty (mJy)'][mask].values.tolist()"
   ]
  },
  {
   "cell_type": "code",
   "execution_count": 66,
   "id": "1571f0c6-1769-46b6-bf90-89ffaa187d4f",
   "metadata": {},
   "outputs": [],
   "source": [
    "yerr10 = error(yerr10, x10, y10)"
   ]
  },
  {
   "cell_type": "code",
   "execution_count": 67,
   "id": "86c0c561-8e66-4e56-be5c-77b1b5254e89",
   "metadata": {},
   "outputs": [
    {
     "data": {
      "text/plain": [
       "<PowerLaw1D(amplitude=0.83889036, x_0=1.26, alpha=0.45167875)>"
      ]
     },
     "execution_count": 67,
     "metadata": {},
     "output_type": "execute_result"
    }
   ],
   "source": [
    "fit10 = fitting.LevMarLSQFitter(calc_uncertainties=True)\n",
    "\n",
    "PL10 =  PowerLaw1D(amplitude = y10[0], x_0= x10[0], alpha= -.3,\n",
    "                     bounds={\n",
    "        'amplitude': (0, None),  # Amplitude should be positive\n",
    "        #'x_0': (x3[0], x3[0]),  # Frequency must stay within data\n",
    "        'alpha': (-10, 10)  # Keep alpha within a realistic range\n",
    "    },\n",
    "                 fixed={'x_0': True}) \n",
    "\n",
    "    #Initialize fitters\n",
    "    #setting calc_uncertainties=True to output errors on measurement \n",
    "\n",
    "\n",
    "    #Fit the data w/o weights\n",
    "fit_model10 = fit10(PL10, x10, y10)\n",
    "\n",
    "    #weight is 1/error^2\n",
    "y_weight10 = 1/ (np.power(yerr10,2))  \n",
    "\n",
    "    # fit the data using the uncertainties as weights\n",
    "fit_model_weights10 = fit10(PL10, x10, y10, weights=y_weight10)\n",
    "\n",
    "fit_model_weights10"
   ]
  },
  {
   "cell_type": "code",
   "execution_count": 68,
   "id": "606ef3b0-d7f6-4904-b664-5ac0d5fe9138",
   "metadata": {},
   "outputs": [
    {
     "data": {
      "text/plain": [
       "{'nfev': 7,\n",
       " 'fvec': array([ -2.86507464,  15.07640284, -14.01750704,   6.54571147]),\n",
       " 'fjac': array([[-1.39080037e+03, -3.95873617e-02, -4.57417425e-01,\n",
       "         -8.88370497e-01],\n",
       "        [ 1.01840800e+03, -2.33054739e+02,  7.00252406e-01,\n",
       "          1.33383775e-02]]),\n",
       " 'ipvt': array([2, 1], dtype=int32),\n",
       " 'qtf': array([0.00013147, 0.00058873]),\n",
       " 'message': 'Both actual and predicted relative reductions in the sum of squares\\n  are at most 0.000000',\n",
       " 'ierr': 1,\n",
       " 'param_jac': None,\n",
       " 'param_cov': array([[1.84112860e-05, 1.34815904e-05],\n",
       "        [1.34815904e-05, 1.03888166e-05]]),\n",
       " 'njev': 6,\n",
       " 'cov_x': array([[1.84112860e-05, 1.34815904e-05],\n",
       "        [1.34815904e-05, 1.03888166e-05]])}"
      ]
     },
     "execution_count": 68,
     "metadata": {},
     "output_type": "execute_result"
    }
   ],
   "source": [
    "fit10.fit_info"
   ]
  },
  {
   "cell_type": "code",
   "execution_count": 69,
   "id": "24d776d7-49cd-4cf7-a86a-69f27ae9b8b9",
   "metadata": {},
   "outputs": [
    {
     "name": "stdout",
     "output_type": "stream",
     "text": [
      "The standard deviation is 0.03490959660853281\n"
     ]
    }
   ],
   "source": [
    "#taking fvec\n",
    "fvec10 = np.array([ -2.86507464,  15.07640284, -14.01750704,   6.54571147])\n",
    "var10 = np.var(fvec10)\n",
    "\n",
    "\n",
    "\n",
    "param_cov10= np.array([[1.84112860e-05, 1.34815904e-05],\n",
    "        [1.34815904e-05, 1.03888166e-05]])\n",
    "\n",
    "def stand(cov):\n",
    "    diag = np.diagonal(cov)\n",
    "    sd1 = np.sqrt(diag[0])\n",
    "    sd2 = np.sqrt(diag[1])\n",
    "    #sd3 = np.sqrt(diag[2])\n",
    "    return(sd1,sd2)#,sd3)\n",
    "\n",
    "diag10 = stand(param_cov10*var10) \n",
    "\n",
    "#The last diagonal element corresponds to alpha\n",
    "#So here we are calculating the standard deviation on the slope\n",
    "\n",
    "#print(diag)  #prints standard deviations of all three variances\n",
    "\n",
    "print(\"The standard deviation is\", diag10[1]) #Just showing the standard devation on the slope\n"
   ]
  },
  {
   "cell_type": "code",
   "execution_count": 70,
   "id": "98c2bc6c-80d7-4cb6-a40c-6a4dd5e63e51",
   "metadata": {},
   "outputs": [
    {
     "data": {
      "image/png": "[encoded data removed]",
      "text/plain": [
       "<Figure size 640x480 with 1 Axes>"
      ]
     },
     "metadata": {},
     "output_type": "display_data"
    }
   ],
   "source": [
    "fig,ax = plt.subplots()\n",
    "mask = df10['Flux Density (mJy)'] > 3 * df10['Uncertainty (mJy)']  # apply detection threshold\n",
    "if mask.any():  # proceed only if at least one detection\n",
    "    ax.errorbar(df10['Freq (GHz)'][mask], df10['Flux Density (mJy)'][mask], yerr=yerr10, fmt='^')\n",
    "    ax.set_xscale('log')\n",
    "    ax.set_xticks([1, 5, 10, 50], labels=['1', '5', '10', '50'])\n",
    "    ax.set_yscale('log')\n",
    "    ax.set_yticks([1, 5, 10, 20, 50], labels=['1', '5', '10', '20', '50'])\n",
    "    ax.annotate('Day 55.73', xy=(60, 100), xycoords='axes points', size=9, ha='right', va='top', bbox=dict(boxstyle='round', fc='w', ec=\"w\"))\n",
    "    ax.tick_params(axis='both', which='both', direction='in', top=True, right=True)\n",
    "    ax.plot(df10['Freq (GHz)'][mask], fit_model_weights10(df10['Freq (GHz)'][mask]), 'r--')\n",
    "    ax.annotate('${\\u03B1 = -0.452 \\\\pm 0.035}$', xy=(90, 80), xycoords='axes points', size=9, ha='right', va='top', bbox=dict(boxstyle='round', fc='w', ec=\"w\"))\n",
    "\n",
    "plt.show();"
   ]
  },
  {
   "cell_type": "markdown",
   "id": "0373bbf1-10b8-4aec-a408-b59157a53505",
   "metadata": {},
   "source": [
    "## Day 65.51 (df11)"
   ]
  },
  {
   "cell_type": "code",
   "execution_count": 71,
   "id": "d524d2cb-4730-43bc-a1e5-ff1058142b24",
   "metadata": {},
   "outputs": [],
   "source": [
    "mask = df11['Flux Density (mJy)'] > 3 * df11['Uncertainty (mJy)']  # apply detection threshold\n",
    "if mask.any():\n",
    "    x11 = df11['Freq (GHz)'][mask].values.tolist()\n",
    "    y11 = df11['Flux Density (mJy)'][mask].values.tolist()\n",
    "    yerr11 = df11['Uncertainty (mJy)'][mask].values.tolist()"
   ]
  },
  {
   "cell_type": "code",
   "execution_count": 72,
   "id": "ac7a7071-024a-4986-998b-8bc3be61ae57",
   "metadata": {},
   "outputs": [],
   "source": [
    "yerr11 = error(yerr11, x11, y11)"
   ]
  },
  {
   "cell_type": "code",
   "execution_count": 73,
   "id": "39a7d820-a36e-4eac-ab13-9b688def6d56",
   "metadata": {},
   "outputs": [
    {
     "data": {
      "text/plain": [
       "<PowerLaw1D(amplitude=0.33740812, x_0=1.26, alpha=0.22070763)>"
      ]
     },
     "execution_count": 73,
     "metadata": {},
     "output_type": "execute_result"
    }
   ],
   "source": [
    "fit11 = fitting.LevMarLSQFitter(calc_uncertainties=True)\n",
    "\n",
    "PL11 =  PowerLaw1D(amplitude = y11[0], x_0= x11[0], alpha= -.3,\n",
    "                     bounds={\n",
    "        'amplitude': (0, None),  # Amplitude should be positive\n",
    "        #'x_0': (x3[0], x3[0]),  # Frequency must stay within data\n",
    "        'alpha': (-10, 10)  # Keep alpha within a realistic range\n",
    "    },\n",
    "                 fixed={'x_0': True}) \n",
    "\n",
    "    #Initialize fitters\n",
    "    #setting calc_uncertainties=True to output errors on measurement \n",
    "\n",
    "\n",
    "    #Fit the data w/o weights\n",
    "fit_model11 = fit11(PL11, x11, y11)\n",
    "\n",
    "    #weight is 1/error^2\n",
    "y_weight11 = 1/ (np.power(yerr11,2))  \n",
    "\n",
    "    # fit the data using the uncertainties as weights\n",
    "fit_model_weights11 = fit11(PL11, x11, y11, weights=y_weight11)\n",
    "\n",
    "fit_model_weights11"
   ]
  },
  {
   "cell_type": "code",
   "execution_count": 74,
   "id": "94cdde2b-57aa-4df1-ac6a-59265e72843e",
   "metadata": {},
   "outputs": [
    {
     "data": {
      "text/plain": [
       "{'nfev': 7,\n",
       " 'fvec': array([-15.00759268,  17.02025024,  -4.03749061,   1.54885836]),\n",
       " 'fjac': array([[-3.03644984e+03,  9.28676411e-02,  5.39638333e-01,\n",
       "          8.35473551e-01],\n",
       "        [ 1.65005263e+03, -2.67475701e+02,  5.27441329e-01,\n",
       "         -7.31149412e-01]]),\n",
       " 'ipvt': array([1, 2], dtype=int32),\n",
       " 'qtf': array([2.82383377e-07, 5.07840440e-05]),\n",
       " 'message': 'Both actual and predicted relative reductions in the sum of squares\\n  are at most 0.000000',\n",
       " 'ierr': 1,\n",
       " 'param_jac': None,\n",
       " 'param_cov': array([[4.23603194e-06, 7.59561626e-06],\n",
       "        [7.59561626e-06, 1.39775589e-05]]),\n",
       " 'njev': 6,\n",
       " 'cov_x': array([[4.23603194e-06, 7.59561626e-06],\n",
       "        [7.59561626e-06, 1.39775589e-05]])}"
      ]
     },
     "execution_count": 74,
     "metadata": {},
     "output_type": "execute_result"
    }
   ],
   "source": [
    "fit11.fit_info"
   ]
  },
  {
   "cell_type": "code",
   "execution_count": 75,
   "id": "79f40748-3c3c-4bb1-aafb-c26e0a4dd2bb",
   "metadata": {},
   "outputs": [
    {
     "name": "stdout",
     "output_type": "stream",
     "text": [
      "The standard deviation is 0.043179486074868836\n"
     ]
    }
   ],
   "source": [
    "#taking fvec\n",
    "fvec11 = np.array([-15.00759268,  17.02025024,  -4.03749061,   1.54885836])\n",
    "var11 = np.var(fvec11)\n",
    "\n",
    "\n",
    "\n",
    "param_cov11= np.array([[4.23603194e-06, 7.59561626e-06],\n",
    "        [7.59561626e-06, 1.39775589e-05]])\n",
    "\n",
    "def stand(cov):\n",
    "    diag = np.diagonal(cov)\n",
    "    sd1 = np.sqrt(diag[0])\n",
    "    sd2 = np.sqrt(diag[1])\n",
    "    #sd3 = np.sqrt(diag[2])\n",
    "    return(sd1,sd2)#,sd3)\n",
    "\n",
    "diag11 = stand(param_cov11*var11) \n",
    "\n",
    "#The last diagonal element corresponds to alpha\n",
    "#So here we are calculating the standard deviation on the slope\n",
    "\n",
    "#print(diag)  #prints standard deviations of all three variances\n",
    "\n",
    "print(\"The standard deviation is\", diag11[1]) #Just showing the standard devation on the slope\n"
   ]
  },
  {
   "cell_type": "code",
   "execution_count": 76,
   "id": "0440f370-cac4-4028-aff0-b6b975b21a5c",
   "metadata": {},
   "outputs": [
    {
     "data": {
      "image/png": "[encoded data removed]",
      "text/plain": [
       "<Figure size 640x480 with 1 Axes>"
      ]
     },
     "metadata": {},
     "output_type": "display_data"
    }
   ],
   "source": [
    "fig,ax = plt.subplots()\n",
    "mask = df11['Flux Density (mJy)'] > 3 * df11['Uncertainty (mJy)']  # apply detection threshold\n",
    "if mask.any():  # proceed only if at least one detection\n",
    "    ax.errorbar(df11['Freq (GHz)'][mask], df11['Flux Density (mJy)'][mask], yerr=yerr11, fmt='^')\n",
    "    ax.set_xscale('log')\n",
    "    ax.set_xticks([1, 5, 10, 50], labels=['1', '5', '10', '50'])\n",
    "    ax.set_yscale('log')\n",
    "    ax.set_yticks([1, 5, 10, 20, 50], labels=['1', '5', '10', '20', '50'])\n",
    "    ax.annotate('Day 65.51', xy=(60, 100), xycoords='axes points', size=9, ha='right', va='top', bbox=dict(boxstyle='round', fc='w', ec=\"w\"))\n",
    "    ax.tick_params(axis='both', which='both', direction='in', top=True, right=True)\n",
    "    ax.plot(df11['Freq (GHz)'][mask], fit_model_weights11(df11['Freq (GHz)'][mask]), 'r--')\n",
    "    ax.annotate('${\\u03B1 = -0.221 \\\\pm 0.043}$', xy=(90, 80), xycoords='axes points', size=9, ha='right', va='top', bbox=dict(boxstyle='round', fc='w', ec=\"w\"))\n",
    "\n",
    "plt.show();"
   ]
  },
  {
   "cell_type": "markdown",
   "id": "7b653210-ef5a-4c5f-ba39-36c723bef0cf",
   "metadata": {},
   "source": [
    "## Day 66.49 (df12)"
   ]
  },
  {
   "cell_type": "code",
   "execution_count": 77,
   "id": "4c403672-afec-4ed8-84a3-db46339a11c4",
   "metadata": {},
   "outputs": [],
   "source": [
    "mask = df12['Flux Density (mJy)'] > 3 * df12['Uncertainty (mJy)']  # apply detection threshold\n",
    "if mask.any():\n",
    "    x12 = df12['Freq (GHz)'][mask].values.tolist()\n",
    "    y12 = df12['Flux Density (mJy)'][mask].values.tolist()\n",
    "    yerr12 = df12['Uncertainty (mJy)'][mask].values.tolist()"
   ]
  },
  {
   "cell_type": "code",
   "execution_count": 78,
   "id": "2a65dfec-e282-402e-a172-a20139a51b6b",
   "metadata": {},
   "outputs": [],
   "source": [
    "yerr12 = error(yerr12, x12, y12)"
   ]
  },
  {
   "cell_type": "code",
   "execution_count": 79,
   "id": "e9af7cfc-3dbd-4525-8ce2-74b0472364c9",
   "metadata": {},
   "outputs": [
    {
     "data": {
      "text/plain": [
       "<PowerLaw1D(amplitude=0.20546738, x_0=13.5, alpha=0.63131141)>"
      ]
     },
     "execution_count": 79,
     "metadata": {},
     "output_type": "execute_result"
    }
   ],
   "source": [
    "fit12 = fitting.LevMarLSQFitter(calc_uncertainties=True)\n",
    "\n",
    "PL12 =  PowerLaw1D(amplitude = y12[0], x_0= x12[0], alpha= -.3,\n",
    "                     bounds={\n",
    "        'amplitude': (0, None),  # Amplitude should be positive\n",
    "        #'x_0': (x3[0], x3[0]),  # Frequency must stay within data\n",
    "        'alpha': (-10, 10)  # Keep alpha within a realistic range\n",
    "    },\n",
    "                 fixed={'x_0': True}) \n",
    "\n",
    "    #Initialize fitters\n",
    "    #setting calc_uncertainties=True to output errors on measurement \n",
    "\n",
    "\n",
    "    #Fit the data w/o weights\n",
    "fit_model12 = fit12(PL12, x12, y12)\n",
    "\n",
    "    #weight is 1/error^2\n",
    "y_weight12 = 1/ (np.power(yerr12,2))  \n",
    "\n",
    "    # fit the data using the uncertainties as weights\n",
    "fit_model_weights12 = fit12(PL12, x12, y12, weights=y_weight12)\n",
    "\n",
    "fit_model_weights12"
   ]
  },
  {
   "cell_type": "code",
   "execution_count": 80,
   "id": "7efd0c0f-9866-41a5-8a13-dcce4bc5060d",
   "metadata": {},
   "outputs": [
    {
     "data": {
      "text/plain": [
       "{'nfev': 7,\n",
       " 'fvec': array([ -5.19373065,  10.49158477, -16.7565106 ]),\n",
       " 'fjac': array([[-1.85789633e+03,  5.97635386e-01,  1.28914374e-01],\n",
       "        [ 3.92746431e+01,  5.58900236e+01,  5.98034741e-01]]),\n",
       " 'ipvt': array([1, 2], dtype=int32),\n",
       " 'qtf': array([-1.68779951e-07, -1.65762952e-03]),\n",
       " 'message': 'Both actual and predicted relative reductions in the sum of squares\\n  are at most 0.000000',\n",
       " 'ierr': 1,\n",
       " 'param_jac': None,\n",
       " 'param_cov': array([[4.32763969e-07, 6.76740525e-06],\n",
       "        [6.76740525e-06, 3.20133715e-04]]),\n",
       " 'njev': 6,\n",
       " 'cov_x': array([[4.32763969e-07, 6.76740525e-06],\n",
       "        [6.76740525e-06, 3.20133715e-04]])}"
      ]
     },
     "execution_count": 80,
     "metadata": {},
     "output_type": "execute_result"
    }
   ],
   "source": [
    "fit12.fit_info"
   ]
  },
  {
   "cell_type": "code",
   "execution_count": 81,
   "id": "7aa74270-4b1d-4a13-acbb-7118d3d8bf04",
   "metadata": {},
   "outputs": [
    {
     "name": "stdout",
     "output_type": "stream",
     "text": [
      "The standard deviation is 0.19979141274887682\n"
     ]
    }
   ],
   "source": [
    "#taking fvec\n",
    "fvec12 = np.array([ -5.19373065,  10.49158477, -16.7565106 ])\n",
    "var12 = np.var(fvec12)\n",
    "\n",
    "\n",
    "\n",
    "param_cov12= np.array([[4.32763969e-07, 6.76740525e-06],\n",
    "        [6.76740525e-06, 3.20133715e-04]])\n",
    "\n",
    "def stand(cov):\n",
    "    diag = np.diagonal(cov)\n",
    "    sd1 = np.sqrt(diag[0])\n",
    "    sd2 = np.sqrt(diag[1])\n",
    "   #sd3 = np.sqrt(diag[2])\n",
    "    return(sd1,sd2)#,sd3)\n",
    "\n",
    "diag12 = stand(param_cov12*var12) \n",
    "\n",
    "#The last diagonal element corresponds to alpha\n",
    "#So here we are calculating the standard deviation on the slope\n",
    "\n",
    "#print(diag)  #prints standard deviations of all three variances\n",
    "\n",
    "print(\"The standard deviation is\", diag12[1]) #Just showing the standard devation on the slope\n"
   ]
  },
  {
   "cell_type": "code",
   "execution_count": 82,
   "id": "be9ed803-d0fd-4ae5-8e57-1852f3917ead",
   "metadata": {},
   "outputs": [
    {
     "data": {
      "image/png": "[encoded data removed]",
      "text/plain": [
       "<Figure size 640x480 with 1 Axes>"
      ]
     },
     "metadata": {},
     "output_type": "display_data"
    }
   ],
   "source": [
    "fig,ax = plt.subplots()\n",
    "mask = df12['Flux Density (mJy)'] > 3 * df12['Uncertainty (mJy)']  # apply detection threshold\n",
    "if mask.any():  # proceed only if at least one detection\n",
    "    ax.errorbar(df12['Freq (GHz)'][mask], df12['Flux Density (mJy)'][mask], yerr=yerr12, fmt='^')\n",
    "    ax.set_xscale('log')\n",
    "    ax.set_xticks([1, 5, 10, 50], labels=['1', '5', '10', '50'])\n",
    "    ax.set_yscale('log')\n",
    "    ax.set_yticks([1, 5, 10, 20, 50], labels=['1', '5', '10', '20', '50'])\n",
    "    ax.annotate('Day 66.49', xy=(60, 100), xycoords='axes points', size=9, ha='right', va='top', bbox=dict(boxstyle='round', fc='w', ec=\"w\"))\n",
    "    ax.tick_params(axis='both', which='both', direction='in', top=True, right=True)\n",
    "    ax.plot(df12['Freq (GHz)'][mask], fit_model_weights12(df12['Freq (GHz)'][mask]), 'r--')\n",
    "    ax.annotate('${\\u03B1 = -0.631 \\\\pm 0.200}$', xy=(90, 80), xycoords='axes points', size=9, ha='right', va='top', bbox=dict(boxstyle='round', fc='w', ec=\"w\"))\n",
    "\n",
    "plt.show();"
   ]
  },
  {
   "cell_type": "markdown",
   "id": "a4f5f53f-9558-46b7-aa1e-89b486611232",
   "metadata": {},
   "source": [
    "## Day 78.463 (df13)"
   ]
  },
  {
   "cell_type": "code",
   "execution_count": 83,
   "id": "685a7077-e98f-4148-85a3-0adab4521c68",
   "metadata": {},
   "outputs": [],
   "source": [
    "mask = df13['Flux Density (mJy)'] > 3 * df13['Uncertainty (mJy)']  # apply detection threshold\n",
    "if mask.any():\n",
    "    x13 = df13['Freq (GHz)'][mask].values.tolist()\n",
    "    y13 = df13['Flux Density (mJy)'][mask].values.tolist()\n",
    "    yerr13 = df13['Uncertainty (mJy)'][mask].values.tolist()"
   ]
  },
  {
   "cell_type": "code",
   "execution_count": 84,
   "id": "935d70d3-5360-4630-88e0-4d0b94368d1f",
   "metadata": {},
   "outputs": [],
   "source": [
    "yerr13 = error(yerr13, x13, y13)"
   ]
  },
  {
   "cell_type": "code",
   "execution_count": 85,
   "id": "2dac1568-0432-4b69-b85e-6c36e3753e84",
   "metadata": {},
   "outputs": [
    {
     "data": {
      "text/plain": [
       "<PowerLaw1D(amplitude=0.15734792, x_0=4.55, alpha=0.1446789)>"
      ]
     },
     "execution_count": 85,
     "metadata": {},
     "output_type": "execute_result"
    }
   ],
   "source": [
    "fit13 = fitting.LevMarLSQFitter(calc_uncertainties=True)\n",
    "\n",
    "PL13 =  PowerLaw1D(amplitude = y13[0], x_0= x13[0], alpha= -.3,\n",
    "                     bounds={\n",
    "        'amplitude': (0, None),  # Amplitude should be positive\n",
    "        #'x_0': (x3[0], x3[0]),  # Frequency must stay within data\n",
    "        'alpha': (-10, 10)  # Keep alpha within a realistic range\n",
    "    },\n",
    "                 fixed={'x_0': True}) \n",
    "\n",
    "    #Initialize fitters\n",
    "    #setting calc_uncertainties=True to output errors on measurement \n",
    "\n",
    "\n",
    "    #Fit the data w/o weights\n",
    "fit_model13 = fit13(PL13, x13, y13)\n",
    "\n",
    "    #weight is 1/error^2\n",
    "y_weight13 = 1/ (np.power(yerr13,2))  \n",
    "\n",
    "    # fit the data using the uncertainties as weights\n",
    "fit_model_weights13 = fit13(PL13, x13, y13, weights=y_weight13)\n",
    "\n",
    "fit_model_weights13"
   ]
  },
  {
   "cell_type": "code",
   "execution_count": 86,
   "id": "a8ce3fca-aa08-4f85-b1eb-ecef31dbeaf3",
   "metadata": {},
   "outputs": [
    {
     "data": {
      "text/plain": [
       "{'nfev': 7,\n",
       " 'fvec': array([-31.07549812,  30.17309246,  12.12349022, -46.77974398,\n",
       "        -17.49529858]),\n",
       " 'fjac': array([[-4.92735222e+03,  7.40175147e-01,  3.86503215e-01,\n",
       "          2.27259817e-01,  5.13082595e-02],\n",
       "        [ 3.88824238e+02,  3.05246356e+02,  7.39091555e-01,\n",
       "          5.81065589e-01,  1.94111353e-01]]),\n",
       " 'ipvt': array([1, 2], dtype=int32),\n",
       " 'qtf': array([ 1.96602416e-06, -6.11998395e-03]),\n",
       " 'message': 'Both actual and predicted relative reductions in the sum of squares\\n  are at most 0.000000',\n",
       " 'ierr': 1,\n",
       " 'param_jac': None,\n",
       " 'param_cov': array([[1.08019276e-07, 8.46912896e-07],\n",
       "        [8.46912896e-07, 1.07324537e-05]]),\n",
       " 'njev': 6,\n",
       " 'cov_x': array([[1.08019276e-07, 8.46912896e-07],\n",
       "        [8.46912896e-07, 1.07324537e-05]])}"
      ]
     },
     "execution_count": 86,
     "metadata": {},
     "output_type": "execute_result"
    }
   ],
   "source": [
    "fit13.fit_info"
   ]
  },
  {
   "cell_type": "code",
   "execution_count": 87,
   "id": "d0b8de62-e469-4403-a499-ff396a97949a",
   "metadata": {},
   "outputs": [
    {
     "name": "stdout",
     "output_type": "stream",
     "text": [
      "The standard deviation is 0.09213273276606208\n"
     ]
    }
   ],
   "source": [
    "#taking fvec\n",
    "fvec13 = np.array([-31.07549812,  30.17309246,  12.12349022, -46.77974398,\n",
    "        -17.49529858])\n",
    "var13 = np.var(fvec13)\n",
    "\n",
    "\n",
    "\n",
    "param_cov13= np.array([[1.08019276e-07, 8.46912896e-07],\n",
    "        [8.46912896e-07, 1.07324537e-05]])\n",
    "\n",
    "def stand(cov):\n",
    "    diag = np.diagonal(cov)\n",
    "    sd1 = np.sqrt(diag[0])\n",
    "    sd2 = np.sqrt(diag[1])\n",
    "    #sd3 = np.sqrt(diag[2])\n",
    "    return(sd1,sd2)#,sd3)\n",
    "\n",
    "diag13 = stand(param_cov13*var13) \n",
    "\n",
    "#The last diagonal element corresponds to alpha\n",
    "#So here we are calculating the standard deviation on the slope\n",
    "\n",
    "#print(diag)  #prints standard deviations of all three variances\n",
    "\n",
    "print(\"The standard deviation is\", diag13[1]) #Just showing the standard devation on the slope\n"
   ]
  },
  {
   "cell_type": "code",
   "execution_count": 88,
   "id": "7a8eae2f-38cf-4ab3-9a84-33eab500c1f2",
   "metadata": {},
   "outputs": [
    {
     "data": {
      "image/png": "[encoded data removed]",
      "text/plain": [
       "<Figure size 640x480 with 1 Axes>"
      ]
     },
     "metadata": {},
     "output_type": "display_data"
    }
   ],
   "source": [
    "fig,ax = plt.subplots()\n",
    "mask = df13['Flux Density (mJy)'] > 3 * df13['Uncertainty (mJy)']  # apply detection threshold\n",
    "if mask.any():  # proceed only if at least one detection\n",
    "    ax.errorbar(df13['Freq (GHz)'][mask], df13['Flux Density (mJy)'][mask], yerr=yerr13, fmt='^')\n",
    "    ax.set_xscale('log')\n",
    "    ax.set_xticks([1, 5, 10, 50], labels=['1', '5', '10', '50'])\n",
    "    ax.set_yscale('log')\n",
    "    ax.set_yticks([1, 5, 10, 20, 50], labels=['1', '5', '10', '20', '50'])\n",
    "    ax.annotate('Day 78.463', xy=(60, 100), xycoords='axes points', size=9, ha='right', va='top', bbox=dict(boxstyle='round', fc='w', ec=\"w\"))\n",
    "    ax.tick_params(axis='both', which='both', direction='in', top=True, right=True)\n",
    "    ax.plot(df13['Freq (GHz)'][mask], fit_model_weights13(df13['Freq (GHz)'][mask]), 'r--')\n",
    "    ax.annotate('${\\u03B1 = -0.145 \\\\pm 0.092}$', xy=(90, 80), xycoords='axes points', size=9, ha='right', va='top', bbox=dict(boxstyle='round', fc='w', ec=\"w\"))\n",
    "\n",
    "plt.show();"
   ]
  },
  {
   "cell_type": "markdown",
   "id": "7c21aa8d-a1ab-40b6-ac40-9865093f0c64",
   "metadata": {},
   "source": [
    "## Day 93.46 (df14)"
   ]
  },
  {
   "cell_type": "code",
   "execution_count": 89,
   "id": "c42e6029-8791-4c72-abef-0217a584eb72",
   "metadata": {},
   "outputs": [],
   "source": [
    "mask = df14['Flux Density (mJy)'] > 3 * df14['Uncertainty (mJy)']  # apply detection threshold\n",
    "if mask.any():\n",
    "    x14 = df14['Freq (GHz)'][mask].values.tolist()\n",
    "    y14 = df14['Flux Density (mJy)'][mask].values.tolist()\n",
    "    yerr14 = df14['Uncertainty (mJy)'][mask].values.tolist()"
   ]
  },
  {
   "cell_type": "code",
   "execution_count": 90,
   "id": "07586cbb-3489-42de-af1e-9247ecfbcd8d",
   "metadata": {},
   "outputs": [],
   "source": [
    "yerr14 = error(yerr14, x14, y14)"
   ]
  },
  {
   "cell_type": "code",
   "execution_count": 91,
   "id": "15131d22-f1fe-48d2-8838-c03a4dd33023",
   "metadata": {},
   "outputs": [
    {
     "data": {
      "text/plain": [
       "<PowerLaw1D(amplitude=0.0727, x_0=4.55, alpha=0.05475567)>"
      ]
     },
     "execution_count": 91,
     "metadata": {},
     "output_type": "execute_result"
    }
   ],
   "source": [
    "fit14= fitting.LevMarLSQFitter(calc_uncertainties=True)\n",
    "\n",
    "PL14 =  PowerLaw1D(amplitude = y14[0], x_0= x14[0], alpha= -5.5,\n",
    "                  bounds={\n",
    "        'amplitude': (0, None),  # Amplitude should be positive\n",
    "        #'x_0': (x3[0], x3[0]),  # Frequency must stay within data\n",
    "        'alpha': (-10, 10)  # Keep alpha within a realistic range\n",
    "    },\n",
    "                 fixed={'x_0': True}) \n",
    "\n",
    "    #Initialize fitters\n",
    "    #setting calc_uncertainties=True to output errors on measurement \n",
    "\n",
    "\n",
    "    #Fit the data w/o weights\n",
    "fit_model14 = fit14(PL14, x14, y14)\n",
    "\n",
    "    #weight is 1/error^2\n",
    "y_weight14 = 1/ (np.power(yerr14,2))  \n",
    "\n",
    "    # fit the data using the uncertainties as weights\n",
    "fit_model_weights14 = fit14(PL14, x14, y14, weights=y_weight14)\n",
    "\n",
    "fit_model_weights14"
   ]
  },
  {
   "cell_type": "code",
   "execution_count": 92,
   "id": "7fa821dc-bbad-445c-aead-ccf8cfacca11",
   "metadata": {},
   "outputs": [
    {
     "data": {
      "text/plain": [
       "{'nfev': 9,\n",
       " 'fvec': array([0., 0.]),\n",
       " 'fjac': array([[-3.68789572e+03,  8.65971381e-01],\n",
       "        [ 9.72407023e+01,  5.61559539e+01]]),\n",
       " 'ipvt': array([1, 2], dtype=int32),\n",
       " 'qtf': array([-3.51143644e-11, -2.02783462e-11]),\n",
       " 'message': 'The relative error between two consecutive iterates is at most 0.000000',\n",
       " 'ierr': 2,\n",
       " 'param_jac': None,\n",
       " 'param_cov': None,\n",
       " 'njev': 8,\n",
       " 'cov_x': array([[2.93995181e-07, 8.36137761e-06],\n",
       "        [8.36137761e-06, 3.17108865e-04]])}"
      ]
     },
     "execution_count": 92,
     "metadata": {},
     "output_type": "execute_result"
    }
   ],
   "source": [
    "fit14.fit_info"
   ]
  },
  {
   "cell_type": "code",
   "execution_count": 93,
   "id": "d9e4992a-9e4f-436d-9347-f8924617161d",
   "metadata": {},
   "outputs": [
    {
     "name": "stdout",
     "output_type": "stream",
     "text": [
      "The standard deviation is 0.017807550786113176\n"
     ]
    }
   ],
   "source": [
    "#taking fvec\n",
    "fvec14 = np.array([0.0000000e+00, 9.4920063e-14])\n",
    "var14 = np.var(fvec14)\n",
    "\n",
    "\n",
    "\n",
    "param_cov14= np.array([[2.93995181e-07, 8.36137761e-06],\n",
    "        [8.36137761e-06, 3.17108865e-04]])\n",
    "\n",
    "def stand(cov):\n",
    "    diag = np.diagonal(cov)\n",
    "    sd1 = np.sqrt(diag[0])\n",
    "    sd2 = np.sqrt(diag[1])\n",
    "    #sd3 = np.sqrt(diag[2])\n",
    "    return(sd1,sd2)#,sd3)\n",
    "\n",
    "diag14 = stand(param_cov14)#*var14) \n",
    "\n",
    "#The last diagonal element corresponds to alpha\n",
    "#So here we are calculating the standard deviation on the slope\n",
    "\n",
    "#print(diag)  #prints standard deviations of all three variances\n",
    "\n",
    "print(\"The standard deviation is\", diag14[1]) #Just showing the standard devation on the slope\n"
   ]
  },
  {
   "cell_type": "code",
   "execution_count": 94,
   "id": "4e963b55-2e72-4784-9bd5-2a215d122af1",
   "metadata": {},
   "outputs": [
    {
     "name": "stdout",
     "output_type": "stream",
     "text": [
      "(-0.054755671768581815, 0.8358521859860462)\n"
     ]
    }
   ],
   "source": [
    "alpha_err14 = two_points(y14,x14,yerr14)\n",
    "print(alpha_err14)"
   ]
  },
  {
   "cell_type": "code",
   "execution_count": 95,
   "id": "d3ac3dc5-ce77-41b3-bd3b-22080067af85",
   "metadata": {},
   "outputs": [
    {
     "data": {
      "image/png": "[encoded data removed]",
      "text/plain": [
       "<Figure size 640x480 with 1 Axes>"
      ]
     },
     "metadata": {},
     "output_type": "display_data"
    }
   ],
   "source": [
    "fig,ax = plt.subplots()\n",
    "mask = df14['Flux Density (mJy)'] > 3 * df14['Uncertainty (mJy)']  # apply detection threshold\n",
    "if mask.any():  # proceed only if at least one detection\n",
    "    ax.errorbar(df14['Freq (GHz)'][mask], df14['Flux Density (mJy)'][mask], yerr=yerr14, fmt='^')\n",
    "    ax.set_xscale('log')\n",
    "    ax.set_xticks([1, 5, 10, 50], labels=['1', '5', '10', '50'])\n",
    "    ax.set_yscale('log')\n",
    "    ax.set_yticks([1, 5, 10, 20, 50], labels=['1', '5', '10', '20', '50'])\n",
    "    ax.annotate('Day 93.46', xy=(60, 100), xycoords='axes points', size=9, ha='right', va='top', bbox=dict(boxstyle='round', fc='w', ec=\"w\"))\n",
    "    ax.tick_params(axis='both', which='both', direction='in', top=True, right=True)\n",
    "    ax.plot(df14['Freq (GHz)'][mask], fit_model_weights14(df14['Freq (GHz)'][mask]), 'r--')\n",
    "    ax.annotate('${\\u03B1 = 0.054 \\\\pm 0.018}$', xy=(90, 80), xycoords='axes points', size=9, ha='right', va='top', bbox=dict(boxstyle='round', fc='w', ec=\"w\"))\n",
    "\n",
    "plt.show();"
   ]
  },
  {
   "cell_type": "code",
   "execution_count": 96,
   "id": "183a7f8a-9255-4165-801f-de6636a3fa4f",
   "metadata": {},
   "outputs": [],
   "source": [
    "mask = df15['Flux Density (mJy)'] > 3 * df15['Uncertainty (mJy)']\n",
    "\n",
    "yerr15 = (df15['Uncertainty (mJy)'][mask].values.tolist(), df15['Freq (GHz)'][mask].values.tolist(), df15['Flux Density (mJy)'][mask].values.tolist())"
   ]
  },
  {
   "cell_type": "code",
   "execution_count": 97,
   "id": "1a7b9f74-923b-47aa-9a0a-ec65c2798ea4",
   "metadata": {},
   "outputs": [
    {
     "data": {
      "text/plain": [
       "([0.0157], [13.5], [0.0587])"
      ]
     },
     "execution_count": 97,
     "metadata": {},
     "output_type": "execute_result"
    }
   ],
   "source": [
    "yerr15"
   ]
  },
  {
   "cell_type": "markdown",
   "id": "48d96804-c346-4556-bbe5-685db353cd3e",
   "metadata": {},
   "source": [
    "# All together now"
   ]
  },
  {
   "cell_type": "code",
   "execution_count": 105,
   "id": "4ea50375-60a4-4e8d-a2b6-6e2055993df2",
   "metadata": {},
   "outputs": [
    {
     "data": {
      "image/png": "[encoded data removed]",
      "text/plain": [
       "<Figure size 1200x1200 with 16 Axes>"
      ]
     },
     "metadata": {},
     "output_type": "display_data"
    }
   ],
   "source": [
    "#four by four\n",
    "\n",
    "fig, ax = plt.subplots(4, 4, sharex='all', sharey='all',squeeze=True, width_ratios=None, height_ratios=None)\n",
    "fig.set_size_inches(12,12)\n",
    "fig.subplots_adjust(hspace=0, wspace=0)\n",
    "\n",
    "\n",
    "mask = df1['Flux Density (mJy)'] > 3 * df1['Uncertainty (mJy)']  # apply detection threshold\n",
    "if mask.any():  # proceed only if at least one detection\n",
    "    ax[0,0].errorbar(df1['Freq (GHz)'][mask], df1['Flux Density (mJy)'][mask], yerr=yerr1, fmt='^')\n",
    "    ax[0,0].set_xscale('log')\n",
    "    ax[0,0].set_xticks([1, 5, 10, 50], labels=['1', '5', '10', '50'], fontsize = 20)\n",
    "    ax[0,0].set_yscale('log')\n",
    "    ax[0,0].set_yticks([0.1,1, 5, 10, 20], labels=['0.1','1', '5', '10', '20'], fontsize = 20)\n",
    "    ax[0,0].annotate('Day 2.7', xy=(85, 85), xycoords='axes points', size=11, ha='right', va='top', bbox=dict(boxstyle='round', fc='w', ec=\"w\"))\n",
    "    ax[0,0].tick_params(which='minor', length =4, direction = 'in', top=True, labeltop=False, bottom=True, labelbottom=False, right = True,labelright = False)\n",
    "    ax[0,0].tick_params(which='major', length=7, direction = 'in', width =1, top=True, labeltop=False, bottom=True, labelbottom=True, right = True, labelright = False)\n",
    "\n",
    "    ax[0,0].plot(df1['Freq (GHz)'][mask], fit_model_weights1(df1['Freq (GHz)'][mask]), 'r--')\n",
    "    ax[0,0].annotate('${\\u03B1 = -0.888 \\\\pm 0.026}$', xy=(155, 70), xycoords='axes points', size=11, ha='right', va='top', bbox=dict(boxstyle='round', fc='w', ec=\"w\"))\n",
    "\n",
    "mask = df2['Flux Density (mJy)'] > 3 * df2['Uncertainty (mJy)']  # apply detection threshold\n",
    "if mask.any():  # proceed only if at least one detection\n",
    "    ax[0,1].errorbar(df2['Freq (GHz)'][mask], df2['Flux Density (mJy)'][mask], yerr=yerr2, fmt='^')\n",
    "    ax[0,1].set_xscale('log')\n",
    "    ax[0,1].set_xticks([1, 5, 10, 50], labels=['1', '5', '10', '50'])\n",
    "    ax[0,1].set_yscale('log')\n",
    "    ax[0,1].set_yticks([1, 5, 10, 20], labels=['1', '5', '10', '20'])\n",
    "    ax[0,1].annotate('Day 6.66', xy=(75, 150), xycoords='axes points', size=11, ha='right', va='top', bbox=dict(boxstyle='round', fc='w', ec=\"w\"))\n",
    "    ax[0,1].tick_params(which='minor', length =4, direction = 'in', top=True, labeltop=False, bottom=True, labelbottom=False, right = True,labelright = False)\n",
    "    ax[0,1].tick_params(which='major', length=7, direction = 'in', width =1, top=True, labeltop=False, bottom=True, labelbottom=True, right = True, labelright = False)\n",
    "\n",
    "    ax[0,1].plot(df2['Freq (GHz)'][mask], fit_model_weights2(df2['Freq (GHz)'][mask]), 'r--')\n",
    "    ax[0,1].annotate('${\\u03B1 = -0.385 \\\\pm 0.324}$', xy=(135, 130), xycoords='axes points', size=11, ha='right', va='top', bbox=dict(boxstyle='round', fc='w', ec=\"w\"))\n",
    "\n",
    "mask = df3['Flux Density (mJy)'] > 3 * df3['Uncertainty (mJy)']  # apply detection threshold\n",
    "if mask.any():  # proceed only if at least one detection\n",
    "    ax[0,2].errorbar(df3['Freq (GHz)'][mask], df3['Flux Density (mJy)'][mask], yerr=yerr3, fmt='^')\n",
    "    ax[0,2].set_xscale('log')\n",
    "    ax[0,2].set_xticks([1, 5, 10, 50], labels=['1', '5', '10', '50'])\n",
    "    ax[0,2].set_yscale('log')\n",
    "    ax[0,2].set_yticks([1, 5, 10, 20], labels=['1', '5', '10', '20'])\n",
    "    ax[0,2].annotate('Day 7.66', xy=(85, 80), xycoords='axes points', size=11, ha='right', va='top', bbox=dict(boxstyle='round', fc='w', ec=\"w\"))\n",
    "    ax[0,2].tick_params(which='minor', length =4, direction = 'in', top=True, labeltop=False, bottom=True, labelbottom=False, right = True,labelright = False)\n",
    "    ax[0,2].tick_params(which='major', length=7, direction = 'in', width =1, top=True, labeltop=False, bottom=True, labelbottom=True, right = True, labelright = False)\n",
    "\n",
    "    ax[0,2].plot(df3['Freq (GHz)'][mask], fit_model_weights3(df3['Freq (GHz)'][mask]), 'r--')\n",
    "    ax[0,2].annotate('${\\u03B1 = -0.777 \\\\pm 0.025}$', xy=(145, 60), xycoords='axes points', size=11, ha='right', va='top', bbox=dict(boxstyle='round', fc='w', ec=\"w\"))\n",
    "\n",
    "mask = df4['Flux Density (mJy)'] > 3 * df4['Uncertainty (mJy)']  # apply detection threshold\n",
    "if mask.any():  # proceed only if at least one detection\n",
    "    ax[0,3].errorbar(df4['Freq (GHz)'][mask], df4['Flux Density (mJy)'][mask], yerr=yerr4, fmt='^')\n",
    "    ax[0,3].set_xscale('log')\n",
    "    ax[0,3].set_xticks([1, 5, 10, 50], labels=['1', '5', '10', '50'])\n",
    "    ax[0,3].set_yscale('log')\n",
    "    ax[0,3].set_yticks([1, 5, 10, 20], labels=['1', '5', '10', '20'])\n",
    "    ax[0,3].annotate('Day 12.67', xy=(85, 150), xycoords='axes points', size=11, ha='right', va='top', bbox=dict(boxstyle='round', fc='w', ec=\"w\"))\n",
    "    ax[0,3].tick_params(which='minor', length =4, direction = 'in', top=True, labeltop=False, bottom=True, labelbottom=False, right = True,labelright = False)\n",
    "    ax[0,3].tick_params(which='major', length=7, direction = 'in', width =1, top=True, labeltop=False, bottom=True, labelbottom=True, right = True, labelright = False)\n",
    "\n",
    "    ax[0,3].plot(df4['Freq (GHz)'][mask], fit_model_weights4(df4['Freq (GHz)'][mask]), 'r--')\n",
    "    ax[0,3].annotate('${\\u03B1 = 0.867 \\\\pm 0.053}$', xy=(125, 130), xycoords='axes points', size=11, ha='right', va='top', bbox=dict(boxstyle='round', fc='w', ec=\"w\"))\n",
    "\n",
    "\n",
    "#next row\n",
    "mask = df5['Flux Density (mJy)'] > 3 * df5['Uncertainty (mJy)']  # apply detection threshold\n",
    "if mask.any():  # proceed only if at least one detection\n",
    "    ax[1,0].errorbar(df5['Freq (GHz)'][mask], df5['Flux Density (mJy)'][mask], yerr=yerr5, fmt='^')\n",
    "    ax[1,0].set_xscale('log')\n",
    "    ax[1,0].set_xticks([1, 5, 10, 50], labels=['1', '5', '10', '50'], fontsize = 20)\n",
    "    ax[1,0].set_yscale('log')\n",
    "    ax[1,0].set_yticks([1, 5, 10, 20], labels=['1', '5', '10', '20'], fontsize = 20)\n",
    "    ax[1,0].annotate('Day 17.66', xy=(85, 150), xycoords='axes points', size=11, ha='right', va='top', bbox=dict(boxstyle='round', fc='w', ec=\"w\"))\n",
    "    ax[1,0].tick_params(which='minor', length =4, direction = 'in', top=True, labeltop=False, bottom=True, labelbottom=False, right = True,labelright = False)\n",
    "    ax[1,0].tick_params(which='major', length=7, direction = 'in', width =1, top=True, labeltop=False, bottom=True, labelbottom=True, right = True, labelright = False)\n",
    "\n",
    "    ax[1,0].plot(df5['Freq (GHz)'][mask], fit_model_weights5(df5['Freq (GHz)'][mask]), 'r--')\n",
    "    ax[1,0].annotate('${\\u03B1 = -0.291 \\\\pm 0.004}$', xy=(135, 130), xycoords='axes points', size=11, ha='right', va='top', bbox=dict(boxstyle='round', fc='w', ec=\"w\"))\n",
    "\n",
    "mask = df6['Flux Density (mJy)'] > 3 * df6['Uncertainty (mJy)']  # apply detection threshold\n",
    "if mask.any():  # proceed only if at least one detection\n",
    "    ax[1,1].errorbar(df6['Freq (GHz)'][mask], df6['Flux Density (mJy)'][mask], yerr=yerr6, fmt='^')\n",
    "    ax[1,1].set_xscale('log')\n",
    "    ax[1,1].set_xticks([1, 5, 10, 50], labels=['1', '5', '10', '50'])\n",
    "    ax[1,1].set_yscale('log')\n",
    "    ax[1,1].set_yticks([1, 5, 10, 20], labels=['1', '5', '10', '20'])\n",
    "    ax[1,1].annotate('Day 23.66', xy=(85, 150), xycoords='axes points', size=11, ha='right', va='top', bbox=dict(boxstyle='round', fc='w', ec=\"w\"))\n",
    "    ax[1,1].tick_params(which='minor', length =4, direction = 'in', top=True, labeltop=False, bottom=True, labelbottom=False, right = True,labelright = False)\n",
    "    ax[1,1].tick_params(which='major', length=7, direction = 'in', width =1, top=True, labeltop=False, bottom=True, labelbottom=True, right = True, labelright = False)\n",
    "\n",
    "    ax[1,1].plot(df6['Freq (GHz)'][mask], fit_model_weights6(df6['Freq (GHz)'][mask]), 'r--')\n",
    "    ax[1,1].annotate('${\\u03B1 = 0.980 \\\\pm 0.069}$', xy=(125, 130), xycoords='axes points', size=11, ha='right', va='top', bbox=dict(boxstyle='round', fc='w', ec=\"w\"))\n",
    "\n",
    "mask = df7['Flux Density (mJy)'] > 3 * df7['Uncertainty (mJy)']  # apply detection threshold\n",
    "if mask.any():  # proceed only if at least one detection\n",
    "    ax[1,2].errorbar(df7['Freq (GHz)'][mask], df7['Flux Density (mJy)'][mask], yerr=yerr7, fmt='^')\n",
    "    ax[1,2].set_xscale('log')\n",
    "    ax[1,2].set_xticks([1, 5, 10, 50], labels=['1', '5', '10', '50'])\n",
    "    ax[1,2].set_yscale('log')\n",
    "    ax[1,2].set_yticks([1, 5, 10, 20], labels=['1', '5', '10', '20'])\n",
    "    ax[1,2].annotate('Day 26.56', xy=(85, 150), xycoords='axes points', size=11, ha='right', va='top', bbox=dict(boxstyle='round', fc='w', ec=\"w\"))\n",
    "    ax[1,2].tick_params(which='minor', length =4, direction = 'in', top=True, labeltop=False, bottom=True, labelbottom=False, right = True,labelright = False)\n",
    "    ax[1,2].tick_params(which='major', length=7, direction = 'in', width =1, top=True, labeltop=False, bottom=True, labelbottom=True, right = True, labelright = False)\n",
    "    ax[1,2].plot(df7['Freq (GHz)'][mask], fit_model_weights7(df7['Freq (GHz)'][mask]), 'r--')\n",
    "    ax[1,2].annotate('${\\u03B1 = 0.339 \\\\pm 0.177}$', xy=(125, 130), xycoords='axes points', size=11, ha='right', va='top', bbox=dict(boxstyle='round', fc='w', ec=\"w\"))\n",
    "\n",
    "mask = df8['Flux Density (mJy)'] > 3 * df8['Uncertainty (mJy)']  # apply detection threshold\n",
    "if mask.any():  # proceed only if at least one detection\n",
    "    ax[1,3].errorbar(df8['Freq (GHz)'][mask], df8['Flux Density (mJy)'][mask], yerr=yerr8, fmt='^')\n",
    "    ax[1,3].set_xscale('log')\n",
    "    ax[1,3].set_xticks([1, 5, 10, 50], labels=['1', '5', '10', '50'])\n",
    "    ax[1,3].set_yscale('log')\n",
    "    ax[1,3].set_yticks([1, 5, 10, 20], labels=['1', '5', '10', '20'])\n",
    "    ax[1,3].annotate('Day 41.58', xy=(85, 150), xycoords='axes points', size=11, ha='right', va='top', bbox=dict(boxstyle='round', fc='w', ec=\"w\"))\n",
    "    ax[1,3].tick_params(which='minor', length =4, direction = 'in', top=True, labeltop=False, bottom=True, labelbottom=False, right = True,labelright = False)\n",
    "    ax[1,3].tick_params(which='major', length=7, direction = 'in', width =1, top=True, labeltop=False, bottom=True, labelbottom=True, right = True, labelright = False)\n",
    "\n",
    "    ax[1,3].plot(df8['Freq (GHz)'][mask], fit_model_weights8(df8['Freq (GHz)'][mask]), 'r--')\n",
    "    ax[1,3].annotate('${\\u03B1 = 0.175 \\\\pm 0.044}$', xy=(125, 130), xycoords='axes points', size=11, ha='right', va='top', bbox=dict(boxstyle='round', fc='w', ec=\"w\"))\n",
    "\n",
    "\n",
    "#third row\n",
    "mask = df9['Flux Density (mJy)'] > 3 * df9['Uncertainty (mJy)']  # apply detection threshold\n",
    "if mask.any():  # proceed only if at least one detection\n",
    "    ax[2,0].errorbar(df9['Freq (GHz)'][mask], df9['Flux Density (mJy)'][mask], yerr=yerr9, fmt='^')\n",
    "    ax[2,0].set_xscale('log')\n",
    "    ax[2,0].set_xticks([1, 5, 10, 50], labels=['1', '5', '10', '50'], fontsize = 20)\n",
    "    ax[2,0].set_yscale('log')\n",
    "    ax[2,0].set_yticks([1, 5, 10, 20], labels=['1', '5', '10', '20'], fontsize = 20)\n",
    "    ax[2,0].annotate('Day 54.57', xy=(85, 150), xycoords='axes points', size=11, ha='right', va='top', bbox=dict(boxstyle='round', fc='w', ec=\"w\"))\n",
    "    ax[2,0].tick_params(which='minor', length =4, direction = 'in', top=True, labeltop=False, bottom=True, labelbottom=False, right = True,labelright = False)\n",
    "    ax[2,0].tick_params(which='major', length=7, direction = 'in', width =1, top=True, labeltop=False, bottom=True, labelbottom=True, right = True, labelright = False)\n",
    "\n",
    "    ax[2,0].plot(df9['Freq (GHz)'][mask], fit_model_weights9(df9['Freq (GHz)'][mask]), 'r--')\n",
    "    ax[2,0].annotate('${\\u03B1 = -0.486 \\\\pm 0.016}$', xy=(135, 130), xycoords='axes points', size=11, ha='right', va='top', bbox=dict(boxstyle='round', fc='w', ec=\"w\"))\n",
    "\n",
    "mask = df10['Flux Density (mJy)'] > 3 * df10['Uncertainty (mJy)']  # apply detection threshold\n",
    "if mask.any():  # proceed only if at least one detection\n",
    "    ax[2,1].errorbar(df10['Freq (GHz)'][mask], df10['Flux Density (mJy)'][mask], yerr=yerr10, fmt='^')\n",
    "    ax[2,1].set_xscale('log')\n",
    "    ax[2,1].set_xticks([1, 5, 10, 50], labels=['1', '5', '10', '50'])\n",
    "    ax[2,1].set_yscale('log')\n",
    "    ax[2,1].set_yticks([1, 5, 10, 20], labels=['1', '5', '10', '20'])\n",
    "    ax[2,1].annotate('Day 55.73', xy=(85, 150), xycoords='axes points', size=11, ha='right', va='top', bbox=dict(boxstyle='round', fc='w', ec=\"w\"))\n",
    "    ax[2,1].tick_params(which='minor', length =4, direction = 'in', top=True, labeltop=False, bottom=True, labelbottom=False, right = True,labelright = False)\n",
    "    ax[2,1].tick_params(which='major', length=7, direction = 'in', width =1, top=True, labeltop=False, bottom=True, labelbottom=True, right = True, labelright = False)\n",
    "\n",
    "    ax[2,1].plot(df10['Freq (GHz)'][mask], fit_model_weights10(df10['Freq (GHz)'][mask]), 'r--')\n",
    "    ax[2,1].annotate('${\\u03B1 = -0.452 \\\\pm 0.035}$', xy=(135, 130), xycoords='axes points', size=11, ha='right', va='top', bbox=dict(boxstyle='round', fc='w', ec=\"w\"))\n",
    "\n",
    "mask = df11['Flux Density (mJy)'] > 3 * df11['Uncertainty (mJy)']  # apply detection threshold\n",
    "if mask.any():  # proceed only if at least one detection\n",
    "    ax[2,2].errorbar(df11['Freq (GHz)'][mask], df11['Flux Density (mJy)'][mask], yerr=yerr11, fmt='^')\n",
    "    ax[2,2].set_xscale('log')\n",
    "    ax[2,2].set_xticks([1, 5, 10, 50], labels=['1', '5', '10', '50'])\n",
    "    ax[2,2].set_yscale('log')\n",
    "    ax[2,2].set_yticks([1, 5, 10, 20], labels=['1', '5', '10', '20'])\n",
    "    ax[2,2].annotate('Day 65.51', xy=(85, 150), xycoords='axes points', size=11, ha='right', va='top', bbox=dict(boxstyle='round', fc='w', ec=\"w\"))\n",
    "    ax[2,2].tick_params(which='minor', length =4, direction = 'in', top=True, labeltop=False, bottom=True, labelbottom=False, right = True,labelright = False)\n",
    "    ax[2,2].tick_params(which='major', length=7, direction = 'in', width =1, top=True, labeltop=False, bottom=True, labelbottom=True, right = True, labelright = False)\n",
    "\n",
    "    ax[2,2].plot(df11['Freq (GHz)'][mask], fit_model_weights11(df11['Freq (GHz)'][mask]), 'r--')\n",
    "    ax[2,2].annotate('${\\u03B1 = -0.221 \\\\pm 0.043}$', xy=(135, 130), xycoords='axes points', size=11, ha='right', va='top', bbox=dict(boxstyle='round', fc='w', ec=\"w\"))\n",
    "\n",
    "mask = df12['Flux Density (mJy)'] > 3 * df12['Uncertainty (mJy)']  # apply detection threshold\n",
    "if mask.any():  # proceed only if at least one detection\n",
    "    ax[2,3].errorbar(df12['Freq (GHz)'][mask], df12['Flux Density (mJy)'][mask], yerr=yerr12, fmt='^')\n",
    "    ax[2,3].set_xscale('log')\n",
    "    ax[2,3].set_xticks([1, 5, 10, 50], labels=['1', '5', '10', '50'], fontsize = 20)\n",
    "    ax[2,3].set_yscale('log')\n",
    "    ax[2,3].set_yticks([1, 5, 10, 20], labels=['1', '5', '10', '20'], fontsize = 20)\n",
    "    ax[2,3].annotate('Day 66.49', xy=(85, 150), xycoords='axes points', size=11, ha='right', va='top', bbox=dict(boxstyle='round', fc='w', ec=\"w\"))\n",
    "    ax[2,3].tick_params(which='minor', length =4, direction = 'in', top=True, labeltop=False, bottom=True, labelbottom=False, right = True,labelright = False)\n",
    "    ax[2,3].tick_params(which='major', length=7, direction = 'in', width =1, top=True, labeltop=False, bottom=True, labelbottom=True, right = True, labelright = False)\n",
    "\n",
    "    ax[2,3].plot(df12['Freq (GHz)'][mask], fit_model_weights12(df12['Freq (GHz)'][mask]), 'r--')\n",
    "    ax[2,3].annotate('${\\u03B1 = -0.631 \\\\pm 0.200}$', xy=(135, 130), xycoords='axes points', size=11, ha='right', va='top', bbox=dict(boxstyle='round', fc='w', ec=\"w\"))\n",
    "\n",
    "\n",
    "#fourth one\n",
    "mask = df13['Flux Density (mJy)'] > 3 * df13['Uncertainty (mJy)']  # apply detection threshold\n",
    "if mask.any():  # proceed only if at least one detection\n",
    "    ax[3,0].errorbar(df13['Freq (GHz)'][mask], df13['Flux Density (mJy)'][mask], yerr=yerr13, fmt='^')\n",
    "    ax[3,0].set_xscale('log')\n",
    "    ax[3,0].set_xticks([1,  10], labels=['1',  '10'], fontsize = 20)\n",
    "    ax[3,0].set_yscale('log')\n",
    "    ax[3,0].set_yticks([1,  10], labels=['1',  '10'], fontsize = 20)\n",
    "    ax[3,0].annotate('Day 78.463', xy=(85, 150), xycoords='axes points', size=11, ha='right', va='top', bbox=dict(boxstyle='round', fc='w', ec=\"w\"))\n",
    "    ax[3,0].tick_params(which='minor', length =4, direction = 'in', top=True, labeltop=False, bottom=True, labelbottom=False, right = True,labelright = False)\n",
    "    ax[3,0].tick_params(which='major', length=7, direction = 'in', width =1, top=True, labeltop=False, bottom=True, labelbottom=True, right = True, labelright = False)\n",
    "\n",
    "    ax[3,0].plot(df13['Freq (GHz)'][mask], fit_model_weights13(df13['Freq (GHz)'][mask]), 'r--')\n",
    "    ax[3,0].annotate('${\\u03B1 = -0.145 \\\\pm 0.092}$', xy=(135, 130), xycoords='axes points', size=11, ha='right', va='top', bbox=dict(boxstyle='round', fc='w', ec=\"w\"))\n",
    "\n",
    "mask = df14['Flux Density (mJy)'] > 3 * df14['Uncertainty (mJy)']  # apply detection threshold\n",
    "if mask.any():  # proceed only if at least one detection\n",
    "    ax[3,1].errorbar(df14['Freq (GHz)'][mask], df14['Flux Density (mJy)'][mask], yerr=yerr14, fmt='^')\n",
    "    ax[3,1].set_xscale('log')\n",
    "    ax[3,1].set_xticks([1, 5, 10, 50], labels=['1', '5', '10', '50'], fontsize = 20)\n",
    "    ax[3,1].set_yscale('log')\n",
    "    ax[3,1].set_yticks([1, 5, 10, 20], labels=['1', '5', '10', '20'], fontsize = 20)\n",
    "    ax[3,1].annotate('Day 93.46', xy=(85, 150), xycoords='axes points', size=11, ha='right', va='top', bbox=dict(boxstyle='round', fc='w', ec=\"w\"))\n",
    "    ax[3,1].tick_params(which='minor', length =4, direction = 'in', top=True, labeltop=False, bottom=True, labelbottom=False, right = True,labelright = False)\n",
    "    ax[3,1].tick_params(which='major', length=7, direction = 'in', width =1, top=True, labeltop=False, bottom=True, labelbottom=True, right = True, labelright = False)\n",
    "\n",
    "    ax[3,1].plot(df14['Freq (GHz)'][mask], fit_model_weights14(df14['Freq (GHz)'][mask]), 'r--')\n",
    "    ax[3,1].annotate('${\\u03B1 = 0.054 \\\\pm 0.018}$', xy=(130, 130), xycoords='axes points', size=11, ha='right', va='top', bbox=dict(boxstyle='round', fc='w', ec=\"w\"))\n",
    "\n",
    "mask = df15['Flux Density (mJy)'] > 3 * df15['Uncertainty (mJy)']\n",
    "if mask.any():\n",
    "    ax[3,2].errorbar(df15['Freq (GHz)'][mask], df15['Flux Density (mJy)'][mask], yerr=df15['Uncertainty (mJy)'][mask], fmt='^')\n",
    "    ax[3,2].set_xscale('log')\n",
    "    ax[3,2].set_xticks([1, 5, 10, 50], labels=['1', '5', '10', '50'], fontsize = 20)\n",
    "    ax[3,2].set_yscale('log')\n",
    "    ax[3,2].set_yticks([0.1,1, 5, 10, 20], labels=['0.1','1', '5', '10', '20'], fontsize = 20)\n",
    "    ax[3,2].annotate('Day 122.36', xy=(85, 150), xycoords='axes points', size=11, ha='right', va='top', bbox=dict(boxstyle='round', fc='w', ec=\"w\"))\n",
    "    ax[3,2].tick_params(which='minor', length =4, direction = 'in', top=True, labeltop=False, bottom=True, labelbottom=False, right = True,labelright = False)\n",
    "    ax[3,2].tick_params(which='major', length=7, direction = 'in', width =1, top=True, labeltop=False, bottom=True, labelbottom=True, right = True, labelright = False)\n",
    "\n",
    "\n",
    "ax[3,3].set_xscale('log')\n",
    "ax[3,3].set_xticks([1, 10], labels=['1', '10'], fontsize = 20)\n",
    "ax[3,3].set_yscale('log')\n",
    "ax[3,3].set_yticks([0.1,1], labels=['0.1','1'], fontsize = 20)\n",
    "ax[3,3].tick_params(which='minor', length =4, direction = 'in', top=True, labeltop=False, bottom=True, labelbottom=False, right = True,labelright = False)\n",
    "ax[3,3].tick_params(which='major', length=7, direction = 'in', width =1, top=True, labeltop=False, bottom=True, labelbottom=True, right = True, labelright = False)\n",
    "\n",
    "\n",
    "fig.supxlabel(\"Frequency (GHz)\", fontsize = 25)\n",
    "fig.supylabel(\"Flux Density (mJy)\", fontsize = 25)\n",
    "plt.savefig(\"V1535Sco_SI.png\")\n",
    "#plt.legend()\n",
    "plt.show();"
   ]
  },
  {
   "cell_type": "code",
   "execution_count": null,
   "id": "6617ae1e-084f-434a-9521-de7522f0a5d7",
   "metadata": {},
   "outputs": [],
   "source": []
  },
  {
   "cell_type": "code",
   "execution_count": null,
   "id": "83d21288-a975-42c2-ba19-2c88fc7641eb",
   "metadata": {},
   "outputs": [],
   "source": []
  },
  {
   "cell_type": "code",
   "execution_count": null,
   "id": "777c161f-bc9d-4b2f-8818-c96f5e2f5e5f",
   "metadata": {},
   "outputs": [],
   "source": []
  },
  {
   "cell_type": "code",
   "execution_count": null,
   "id": "fb4f3b3a-bff7-460a-95a0-39bd4fcd5079",
   "metadata": {},
   "outputs": [],
   "source": []
  },
  {
   "cell_type": "code",
   "execution_count": null,
   "id": "05d4f95f-bf35-4d28-8277-7357300d3cac",
   "metadata": {},
   "outputs": [],
   "source": []
  },
  {
   "cell_type": "code",
   "execution_count": null,
   "id": "8199316e-abc5-470b-93bf-4bd12678b49b",
   "metadata": {},
   "outputs": [],
   "source": []
  }
 ],
 "metadata": {
  "kernelspec": {
   "display_name": "Python [conda env:base] *",
   "language": "python",
   "name": "conda-base-py"
  },
  "language_info": {
   "codemirror_mode": {
    "name": "ipython",
    "version": 3
   },
   "file_extension": ".py",
   "mimetype": "text/x-python",
   "name": "python",
   "nbconvert_exporter": "python",
   "pygments_lexer": "ipython3",
   "version": "3.12.7"
  }
 },
 "nbformat": 4,
 "nbformat_minor": 5
}
