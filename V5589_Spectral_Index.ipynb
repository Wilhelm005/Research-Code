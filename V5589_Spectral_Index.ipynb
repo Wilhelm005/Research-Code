{
 "cells": [
  {
   "cell_type": "markdown",
   "id": "76da132b-9ab3-48a9-9b4b-d3a41a0087e0",
   "metadata": {},
   "source": [
    "## V5589 Sgr Spectral Index"
   ]
  },
  {
   "cell_type": "code",
   "execution_count": 1,
   "id": "9c6eea01-76bf-4216-bfa4-cca0a37e9875",
   "metadata": {},
   "outputs": [],
   "source": [
    "#imports\n",
    "import math\n",
    "import pandas as pd\n",
    "import numpy as np\n",
    "import matplotlib.pyplot as plt\n",
    "%matplotlib inline\n",
    "\n",
    "import scipy\n",
    "import platform\n",
    "\n",
    "\n",
    "from sympy import diff as dif\n",
    "\n",
    "import astropy\n",
    "from astropy.io import ascii\n",
    "import astropy.units as u\n",
    "import astropy.constants as const\n",
    "from astropy.modeling.powerlaws import BrokenPowerLaw1D, SmoothlyBrokenPowerLaw1D, PowerLaw1D\n",
    "from astropy.modeling import fitting, models"
   ]
  },
  {
   "cell_type": "code",
   "execution_count": 2,
   "id": "15ef772b-172e-4e09-99ca-9908d8848201",
   "metadata": {},
   "outputs": [
    {
     "name": "stdout",
     "output_type": "stream",
     "text": [
      "Astropy: 7.0.0\n",
      "NumPy: 2.1.3\n",
      "SciPy: 1.15.2\n",
      "Python: 3.11.11\n"
     ]
    }
   ],
   "source": [
    "print(\"Astropy:\", astropy.__version__)\n",
    "print(\"NumPy:\", np.__version__)\n",
    "print(\"SciPy:\", scipy.__version__)\n",
    "print(\"Python:\", platform.python_version())"
   ]
  },
  {
   "cell_type": "markdown",
   "id": "d0af1cf7-9a70-41a5-a763-f0638c89a226",
   "metadata": {},
   "source": [
    "### Importing the data and putting it in a large dataframe"
   ]
  },
  {
   "cell_type": "code",
   "execution_count": 3,
   "id": "a88e73e8-1c57-401b-a028-828f7ad8aa40",
   "metadata": {},
   "outputs": [],
   "source": [
    "data = ([56040.4,\t1,\t33,\t0.032,\t0.025,\t1.00E-10,\t0.05],\n",
    "    [56069.0,\t'A',\t225.3,\t13.80,\t2.000,\t1.00E-10,\t0.05],\n",
    "    [56084.4,\t2,\t5,\t1.089,\t0.028,\t1.00E-10,\t0.05],\n",
    "    [56084.4,\t2,\t6.8,\t1.381,\t0.025,\t1.00E-10,\t0.05],\n",
    "    [56092.2,\t3,\t13.3,\t3.523,\t0.042,\t1.00E-10,\t0.05],\n",
    "    [56092.2,\t3,\t16,\t3.98,\t0.049,\t1.00E-10,\t0.05],\n",
    "    [56092.2,\t3,\t28.2,\t5.727,\t0.098,\t1.00E-10,\t0.05],\n",
    "    [56092.2,\t3,\t36.5,\t5.961,\t0.139,\t1.00E-10,\t0.05],\n",
    "    [56100.3,\t4,\t2.5,\t3.094,\t0.037,\t1.00E-10,\t0.05],\n",
    "    [56100.3,\t4,\t3.5,\t3.201,\t0.030,\t1.00E-10,\t0.05],\n",
    "    [56100.3,\t4,\t5,\t3.423,\t0.023,\t1.00E-10,\t0.05],\n",
    "    [56100.3,\t4,\t6.8,\t3.629,\t0.025,\t1.00E-10,\t0.05],\n",
    "    [56100.3,\t4,\t8.5,\t3.683,\t0.052,\t1.00E-10,\t0.05],\n",
    "    [56100.3,\t4,\t11.4,\t3.779,\t0.071,\t1.00E-10,\t0.05],\n",
    "    [56117.9,\t'B',\t225.5,\t0.000,\t0.068,\t1.00E-10,\t0.05],\n",
    "    [56119.1,\t5,\t1.35,\t1.68,\t0.120,\t1.00E-10,\t0.05],\n",
    "    [56119.1,\t5,\t1.84,\t1.391,\t0.066,\t1.00E-10,\t0.05],\n",
    "    [56119.1,\t5,\t4.74,\t1.907,\t0.027,\t1.00E-10,\t0.05],\n",
    "    [56119.1,\t5,\t7.59,\t1.921,\t0.023,\t1.00E-10,\t0.05],\n",
    "    [56128.3,\t6,\t17.5,\t1.374,\t0.091,\t1.00E-10,\t0.05],\n",
    "    [56128.3,\t6,\t27.5,\t1.438,\t0.143,\t1.00E-10,\t0.05],\n",
    "    [56128.3,\t6,\t36.5,\t1.136,\t0.194,\t1.00E-10,\t0.05],\n",
    "    [56148.0,\t7,\t1.2555,\t0.340,\t0.071,\t1.00E-10,\t0.05],\n",
    "    [56148.0,\t7,\t1.7715,\t0.560,\t0.072,\t1.00E-10,\t0.05],\n",
    "    [56148.0,\t7,\t4.74,\t0.521,\t0.033,\t1.00E-10,\t0.05],\n",
    "    [56148.0,\t7,\t7.59,\t0.528,\t0.025,\t1.00E-10,\t0.05],\n",
    "    [56148.0,\t7,\t8.53,\t0.556,\t0.031,\t1.00E-10,\t0.05],\n",
    "    [56148.0,\t7,\t11.38,\t0.571,\t0.060,\t1.00E-10,\t0.05],\n",
    "    [56150.2,\t8,\t13.3,\t0.495,\t0.042,\t1.00E-10,\t0.05],\n",
    "    [56150.2,\t8,\t17.45,\t0.38,\t0.049,\t1.00E-10,\t0.05],\n",
    "    [56150.2,\t8,\t27.5,\t0.469,\t0.078,\t1.00E-10,\t0.05],\n",
    "    [56150.2,\t8,\t36.5,\t0.39,\t0.086,\t1.00E-10,\t0.05],\n",
    "    [56151.3,\t8,\t1.25,\t0,\t0.091,\t1.00E-10,\t0.05],\n",
    "    [56151.3,\t8,\t1.80,\t0.497,\t0.088,\t1.00E-10,\t0.05],\n",
    "    [56151.3,\t8,\t4.549,\t0.502,\t0.034,\t1.00E-10,\t0.05],\n",
    "    [56151.3,\t8,\t7.399,\t0.469,\t0.025,\t1.00E-10,\t0.05],\n",
    "    [56151.3,\t8,\t8.51,\t0.443,\t0.021,\t1.00E-10,\t0.05],\n",
    "    [56151.3,\t8,\t11.34,\t0.418,\t0.035,\t1.00E-10,\t0.05],\n",
    "    \n",
    "#S4322\n",
    "    [56167.0,\t9,\t1.36,\t0.244,\t0.049,\t1.00E-10,\t0.05],\n",
    "    [56167.0,\t9,\t1.78,\t0.431,\t0.048,\t1.00E-10,\t0.05],\n",
    "\n",
    "#12A-479\n",
    "#56167.0\t9\t1.3835\t0\t0.075\t1.00E-10\t0.05\n",
    "#56167.0\t9\t1.8035\t0\t0.029\t1.00E-10\t0.05\n",
    "    [56167.0,\t9,\t4.608,\t0.347,\t0.028,\t1.00E-10,\t0.05],\n",
    "    [56167.0,\t9,\t7.458,\t0.292,\t0.016,\t1.00E-10,\t0.05],\n",
    "    [56167.0,\t9,\t8.5,\t0.289,\t0.018,\t1.00E-10,\t0.05],\n",
    "    [56167.0,\t9,\t11.4,\t0.368,\t0.031,\t1.00E-10,\t0.05],\n",
    "\n",
    "#12A-483\n",
    "#56167.0\t9\t1.2555\t0\t0.086\t1.00E-10\t0.05\n",
    "#56167.0\t9\t1.7395\t0.346\t0.093\t1.00E-10\t0.05\n",
    "#56167.0\t9\t4.5490\t0.282\t0.036\t1.00E-10\t0.05\n",
    "#56167.0\t9\t7.399\t0.286\t0.024\t1.00E-10\t0.05\n",
    "\n",
    "    [56174.2,\t10,\t13.3,\t0.188,\t0.019,\t1.00E-10,\t0.05],\n",
    "    [56174.2,\t10,\t17.45,\t0.110,\t0.029,\t1.00E-10,\t0.05],\n",
    "    [56174.2,\t10,\t27.5,\t0.106,\t0.027,\t1.00E-10,\t0.05],\n",
    "    [56174.2,\t10,\t36.5,\t0.365,\t0.131,\t1.00E-10,\t0.05],\n",
    "    [56177.9,\t11,\t1.33,\t0.225,\t0.044,\t1.00E-10,\t0.05],\n",
    "    [56177.9,\t11,\t1.77,\t0.201,\t0.042,\t1.00E-10,\t0.05],\n",
    "    [56231.0,\t12,\t13.3,\t0.035,\t0.021,\t1.00E-10,\t0.05],\n",
    "    [56231.0,\t12,\t17.4,\t0.043,\t0.027,\t1.00E-10,\t0.05],\n",
    "    [56231.0,\t12,\t27.5,\t0.060,\t0.044,\t1.00E-10,\t0.05],\n",
    "    [56231.0,\t12,\t36.5,\t0.044,\t0.052,\t1.00E-10,\t0.05],\n",
    "    [56270.8,\t13,\t1.2555,\t0,\t0.083,\t1.00E-10,\t0.05],\n",
    "    [56270.8,\t13,\t1.7395,\t0,\t0.084,\t1.00E-10,\t0.05],\n",
    "    [56270.8,\t13,\t4.549,\t0,\t0.021,\t1.00E-10,\t0.05],\n",
    "    [56270.8,\t13,\t7.399,\t0,\t0.016,\t1.00E-10,\t0.05],\n",
    "    [56270.8,\t13,\t8.519,\t0,\t0.025,\t1.00E-10,\t0.05],\n",
    "    [56270.8,\t13,\t11.399,\t0,\t0.030,\t1.00E-10,\t0.05],\n",
    "    [56284.6,\t14,\t13.299,\t0,\t0.029,\t1.00E-10,\t0.05],\n",
    "    [56284.6,\t14,\t17.449,\t0,\t0.035,\t1.00E-10,\t0.05],\n",
    "    [56284.6,\t14,\t13.30,\t0.047,\t0.022,\t1.00E-10,\t0.05],\n",
    "    [56284.6,\t14,\t17.45,\t0.049,\t0.026,\t1.00E-10,\t0.05],\n",
    "    [56284.6,\t14,\t27.50,\t0.036,\t0.050,\t1.00E-10,\t0.05],\n",
    "    [56284.6,\t14,\t36.50,\t0.020,\t0.068,\t1.00E-10,\t0.05],\n",
    "    [56297.7,\t15,\t1.26,\t0.0504,\t0.102,\t1.00E-10,\t0.05],\n",
    "    [56297.7,\t15,\t1.74,\t-0.00249,\t0.068,\t1.00E-10,\t0.05],\n",
    "    [56297.7,\t15,\t4.55,\t0.0328,\t0.033,\t1.00E-10,\t0.05],\n",
    "    [56297.7,\t15,\t7.399,\t0.0288,\t0.023,\t1.00E-10,\t0.05],\n",
    "    [56297.7,\t15,\t8.52,\t0.0286,\t0.018,\t1.00E-10,\t0.05],\n",
    "    [56297.7,\t15,\t11.4,\t0.0413,\t0.023,\t1.00E-10,\t0.05],\n",
    "    [56347.7,\t16,\t1.26,\t0.346,\t0.503,\t1.00E-10,\t0.05],\n",
    "    [56347.7,\t16,\t1.74,\t-0.0272,\t0.368,\t1.00E-10,\t0.05],\n",
    "    [56347.7,\t16,\t4.55,\t-0.232,\t0.114,\t1.00E-10,\t0.05],\n",
    "    [56347.7,\t16,\t7.399,\t-0.00948,\t0.160,\t1.00E-10,\t0.05],\n",
    "    [56347.7,\t16,\t8.52,\t0.465,\t0.201,\t1.00E-10,\t0.05],\n",
    "    [56347.7,\t16,\t11.4,\t-0.0358,\t0.301,\t1.00E-10,\t0.05],\n",
    "    [56358.6,\t17,\t13.22,\t0.025,\t0.027,\t1.00E-10,\t0.05],\n",
    "    [56358.6,\t17,\t17.45,\t0.009,\t0.025,\t1.00E-10,\t0.05],\n",
    "    [56358.6,\t17,\t27.50,\t0.046,\t0.049,\t1.00E-10,\t0.05],\n",
    "    [56358.6,\t17,\t36.50,\t0.120,\t0.062,\t1.00E-10,\t0.05],\n",
    "    [56369.6,\t17,\t13.3,\t-0.0319,\t0.023,\t1.00E-10,\t0.05],\n",
    "    [56369.6,\t17,\t17.4,\t0.0240,\t0.029,\t1.00E-10,\t0.05],\n",
    "    [56369.6,\t17,\t27.5,\t0.113,\t0.065,\t1.00E-10,\t0.05],\n",
    "    [56369.6,\t17,\t36.5,\t0.0109,\t0.083,\t1.00E-10,\t0.05],\n",
    "    [56441.4,\t18,\t1.26,\t0.0811,\t0.396,\t1.00E-10,\t0.05],\n",
    "    [56441.4,\t18,\t1.74,\t-0.202,\t0.326,\t1.00E-10,\t0.05],\n",
    "    [56441.4,\t18,\t4.55,\t0.0437,\t0.033,\t1.00E-10,\t0.05],\n",
    "    [56441.4,\t18,\t7.399,\t-0.0098,\t0.021,\t1.00E-10,\t0.05],\n",
    "    [56441.4,\t18,\t8.52,\t-0.00263,\t0.018,\t1.00E-10,\t0.05],\n",
    "    [56441.4,\t18,\t11.4,\t-0.0266,\t0.019,\t1.00E-10,\t0.05],\n",
    "    [56446.2,\t18,\t13.3,\t-0.0169,\t0.024,\t1.00E-10,\t0.05],\n",
    "    [56446.2,\t18,\t17.4,\t0.0260,\t0.029,\t1.00E-10,\t0.05],\n",
    "    [56446.2,\t18,\t27.5,\t0.112,\t0.077,\t1.00E-10,\t0.05],\n",
    "    [56446.2,\t18,\t36.5,\t-0.0663,\t0.095,\t1.00E-10,\t0.05],\n",
    "    [56526.7,\t19,\t1.26,\t-0.571,\t0.276,\t1.00E-10,\t0.05],\n",
    "    [56526.7,\t19,\t1.74,\t-0.348,\t0.169,\t1.00E-10,\t0.05],\n",
    "    [56526.7,\t19,\t4.55,\t-0.00306,\t0.028,\t1.00E-10,\t0.05],\n",
    "    [56526.7,\t19,\t7.40,\t-0.0045,\t0.019,\t1.00E-10,\t0.05],\n",
    "    [56526.7,\t19,\t8.52,\t0.00449,\t0.022,\t1.00E-10,\t0.05],\n",
    "    [56526.7,\t19,\t11.4,\t-0.0051,\t0.024,\t1.00E-10,\t0.05],\n",
    "    [56530.7,\t19,\t13.3,\t-0.00734,\t0.031,\t1.00E-10,\t0.05],\n",
    "    [56530.7,\t19,\t17.4,\t-0.00912,\t0.053,\t1.00E-10,\t0.05],\n",
    "    [56530.7,\t19,\t27.5,\t0.0271,\t0.011,\t1.00E-10,\t0.05],\n",
    "    [56530.7,\t19,\t36.5,\t0.110,\t0.110,\t1.00E-10,\t0.05],\n",
    "       )\n",
    "\n",
    "df =  pd.DataFrame(data, columns = [\"MJD\",\t\"Epoch\",\t\"Freq\",\t\"Flux\",\t\"error\",\"RM\", \"systematics\"])"
   ]
  },
  {
   "cell_type": "markdown",
   "id": "35371399-a66c-4cd4-8034-b1741c4e66e6",
   "metadata": {},
   "source": [
    "### now to seperate it into dataframe based on days"
   ]
  },
  {
   "cell_type": "code",
   "execution_count": 4,
   "id": "4595cf37-f4ec-4ce3-9d20-e98639c29f0e",
   "metadata": {},
   "outputs": [],
   "source": [
    "E1=(    [56040.4,\t1,\t33,\t0.032,\t0.025,\t1.00E-10,\t0.05],)\n",
    "\n",
    "E2=(    [56069.0,\t'A',\t225.3,\t13.80,\t2.000,\t1.00E-10,\t0.05],)\n",
    "\n",
    "E3=(    [56084.4,\t2,\t5,\t1.089,\t0.028,\t1.00E-10,\t0.05],\n",
    "    [56084.4,\t2,\t6.8,\t1.381,\t0.025,\t1.00E-10,\t0.05],)\n",
    "\n",
    "E4=(    [56092.2,\t3,\t13.3,\t3.523,\t0.042,\t1.00E-10,\t0.05],\n",
    "    [56092.2,\t3,\t16,\t3.98,\t0.049,\t1.00E-10,\t0.05],\n",
    "    [56092.2,\t3,\t28.2,\t5.727,\t0.098,\t1.00E-10,\t0.05],\n",
    "    [56092.2,\t3,\t36.5,\t5.961,\t0.139,\t1.00E-10,\t0.05],)\n",
    "\n",
    "E5=(\n",
    "    [56100.3,\t4,\t2.5,\t3.094,\t0.037,\t1.00E-10,\t0.05],\n",
    "    [56100.3,\t4,\t3.5,\t3.201,\t0.030,\t1.00E-10,\t0.05],\n",
    "    [56100.3,\t4,\t5,\t3.423,\t0.023,\t1.00E-10,\t0.05],\n",
    "    [56100.3,\t4,\t6.8,\t3.629,\t0.025,\t1.00E-10,\t0.05],\n",
    "    [56100.3,\t4,\t8.5,\t3.683,\t0.052,\t1.00E-10,\t0.05],\n",
    "    [56100.3,\t4,\t11.4,\t3.779,\t0.071,\t1.00E-10,\t0.05],)\n",
    "\n",
    "E6 =(\n",
    "    [56117.9,\t'B',\t225.5,\t0.000,\t0.068,\t1.00E-10,\t0.05],)\n",
    "\n",
    "E7 =(\n",
    "    [56119.1,\t5,\t1.35,\t1.68,\t0.120,\t1.00E-10,\t0.05],\n",
    "    [56119.1,\t5,\t1.84,\t1.391,\t0.066,\t1.00E-10,\t0.05],\n",
    "    [56119.1,\t5,\t4.74,\t1.907,\t0.027,\t1.00E-10,\t0.05],\n",
    "    [56119.1,\t5,\t7.59,\t1.921,\t0.023,\t1.00E-10,\t0.05],)\n",
    "\n",
    "E8 =(\n",
    "    [56128.3,\t6,\t17.5,\t1.374,\t0.091,\t1.00E-10,\t0.05],\n",
    "    [56128.3,\t6,\t27.5,\t1.438,\t0.143,\t1.00E-10,\t0.05],\n",
    "    [56128.3,\t6,\t36.5,\t1.136,\t0.194,\t1.00E-10,\t0.05],)\n",
    "\n",
    "E9 = (\n",
    "    [56148.0,\t7,\t1.2555,\t0.340,\t0.071,\t1.00E-10,\t0.05],\n",
    "    [56148.0,\t7,\t1.7715,\t0.560,\t0.072,\t1.00E-10,\t0.05],\n",
    "    [56148.0,\t7,\t4.74,\t0.521,\t0.033,\t1.00E-10,\t0.05],\n",
    "    [56148.0,\t7,\t7.59,\t0.528,\t0.025,\t1.00E-10,\t0.05],\n",
    "    [56148.0,\t7,\t8.53,\t0.556,\t0.031,\t1.00E-10,\t0.05],\n",
    "    [56148.0,\t7,\t11.38,\t0.571,\t0.060,\t1.00E-10,\t0.05],)\n",
    "\n",
    "E10=(\n",
    "    [56150.2,\t8,\t13.3,\t0.495,\t0.042,\t1.00E-10,\t0.05],\n",
    "    [56150.2,\t8,\t17.45,\t0.38,\t0.049,\t1.00E-10,\t0.05],\n",
    "    [56150.2,\t8,\t27.5,\t0.469,\t0.078,\t1.00E-10,\t0.05],\n",
    "    [56150.2,\t8,\t36.5,\t0.39,\t0.086,\t1.00E-10,\t0.05],\n",
    "    [56151.3,\t8,\t1.25,\t0,\t0.091,\t1.00E-10,\t0.05],\n",
    "    [56151.3,\t8,\t1.80,\t0.497,\t0.088,\t1.00E-10,\t0.05],\n",
    "    [56151.3,\t8,\t4.549,\t0.502,\t0.034,\t1.00E-10,\t0.05],\n",
    "    [56151.3,\t8,\t7.399,\t0.469,\t0.025,\t1.00E-10,\t0.05],\n",
    "    [56151.3,\t8,\t8.51,\t0.443,\t0.021,\t1.00E-10,\t0.05],\n",
    "    [56151.3,\t8,\t11.34,\t0.418,\t0.035,\t1.00E-10,\t0.05],)\n",
    "\n",
    "E11 = (\n",
    "#S4322\n",
    "    [56167.0,\t9,\t1.36,\t0.244,\t0.049,\t1.00E-10,\t0.05],\n",
    "    [56167.0,\t9,\t1.78,\t0.431,\t0.048,\t1.00E-10,\t0.05],\n",
    "#12A-479\n",
    "#56167.0\t9\t1.3835\t0\t0.075\t1.00E-10\t0.05\n",
    "#56167.0\t9\t1.8035\t0\t0.029\t1.00E-10\t0.05\n",
    "    [56167.0,\t9,\t4.608,\t0.347,\t0.028,\t1.00E-10,\t0.05],\n",
    "    [56167.0,\t9,\t7.458,\t0.292,\t0.016,\t1.00E-10,\t0.05],\n",
    "    [56167.0,\t9,\t8.5,\t0.289,\t0.018,\t1.00E-10,\t0.05],\n",
    "    [56167.0,\t9,\t11.4,\t0.368,\t0.031,\t1.00E-10,\t0.05],\n",
    "#12A-483\n",
    "#56167.0\t9\t1.2555\t0\t0.086\t1.00E-10\t0.05\n",
    "#56167.0\t9\t1.7395\t0.346\t0.093\t1.00E-10\t0.05\n",
    "#56167.0\t9\t4.5490\t0.282\t0.036\t1.00E-10\t0.05\n",
    "#56167.0\t9\t7.399\t0.286\t0.024\t1.00E-10\t0.05\n",
    ")\n",
    "\n",
    "E12 = (\n",
    "    [56174.2,\t10,\t13.3,\t0.188,\t0.019,\t1.00E-10,\t0.05],\n",
    "    [56174.2,\t10,\t17.45,\t0.110,\t0.029,\t1.00E-10,\t0.05],\n",
    "    [56174.2,\t10,\t27.5,\t0.106,\t0.027,\t1.00E-10,\t0.05],\n",
    "    [56174.2,\t10,\t36.5,\t0.365,\t0.131,\t1.00E-10,\t0.05],)\n",
    "\n",
    "E13= (\n",
    "    [56177.9,\t11,\t1.33,\t0.225,\t0.044,\t1.00E-10,\t0.05],\n",
    "    [56177.9,\t11,\t1.77,\t0.201,\t0.042,\t1.00E-10,\t0.05],)\n",
    "\n",
    "E14 = (\n",
    "    [56231.0,\t12,\t13.3,\t0.035,\t0.021,\t1.00E-10,\t0.05],\n",
    "    [56231.0,\t12,\t17.4,\t0.043,\t0.027,\t1.00E-10,\t0.05],\n",
    "    [56231.0,\t12,\t27.5,\t0.060,\t0.044,\t1.00E-10,\t0.05],\n",
    "    [56231.0,\t12,\t36.5,\t0.044,\t0.052,\t1.00E-10,\t0.05],)\n",
    "\n",
    "E15 = (\n",
    "    [56270.8,\t13,\t1.2555,\t0,\t0.083,\t1.00E-10,\t0.05],\n",
    "    [56270.8,\t13,\t1.7395,\t0,\t0.084,\t1.00E-10,\t0.05],\n",
    "    [56270.8,\t13,\t4.549,\t0,\t0.021,\t1.00E-10,\t0.05],\n",
    "    [56270.8,\t13,\t7.399,\t0,\t0.016,\t1.00E-10,\t0.05],\n",
    "    [56270.8,\t13,\t8.519,\t0,\t0.025,\t1.00E-10,\t0.05],\n",
    "    [56270.8,\t13,\t11.399,\t0,\t0.030,\t1.00E-10,\t0.05],)\n",
    "\n",
    "E16 = (\n",
    "    [56284.6,\t14,\t13.299,\t0,\t0.029,\t1.00E-10,\t0.05],\n",
    "    [56284.6,\t14,\t17.449,\t0,\t0.035,\t1.00E-10,\t0.05],\n",
    "    [56284.6,\t14,\t13.30,\t0.047,\t0.022,\t1.00E-10,\t0.05],\n",
    "    [56284.6,\t14,\t17.45,\t0.049,\t0.026,\t1.00E-10,\t0.05],\n",
    "    [56284.6,\t14,\t27.50,\t0.036,\t0.050,\t1.00E-10,\t0.05],\n",
    "    [56284.6,\t14,\t36.50,\t0.020,\t0.068,\t1.00E-10,\t0.05],)\n",
    "\n",
    "E17 = (\n",
    "    [56297.7,\t15,\t1.26,\t0.0504,\t0.102,\t1.00E-10,\t0.05],\n",
    "    [56297.7,\t15,\t1.74,\t-0.00249,\t0.068,\t1.00E-10,\t0.05],\n",
    "    [56297.7,\t15,\t4.55,\t0.0328,\t0.033,\t1.00E-10,\t0.05],\n",
    "    [56297.7,\t15,\t7.399,\t0.0288,\t0.023,\t1.00E-10,\t0.05],\n",
    "    [56297.7,\t15,\t8.52,\t0.0286,\t0.018,\t1.00E-10,\t0.05],\n",
    "    [56297.7,\t15,\t11.4,\t0.0413,\t0.023,\t1.00E-10,\t0.05],)\n",
    "\n",
    "E18 = (\n",
    "    [56347.7,\t16,\t1.26,\t0.346,\t0.503,\t1.00E-10,\t0.05],\n",
    "    [56347.7,\t16,\t1.74,\t-0.0272,\t0.368,\t1.00E-10,\t0.05],\n",
    "    [56347.7,\t16,\t4.55,\t-0.232,\t0.114,\t1.00E-10,\t0.05],\n",
    "    [56347.7,\t16,\t7.399,\t-0.00948,\t0.160,\t1.00E-10,\t0.05],\n",
    "    [56347.7,\t16,\t8.52,\t0.465,\t0.201,\t1.00E-10,\t0.05],\n",
    "    [56347.7,\t16,\t11.4,\t-0.0358,\t0.301,\t1.00E-10,\t0.05],)\n",
    "\n",
    "E19 = (\n",
    "    [56358.6,\t17,\t13.22,\t0.025,\t0.027,\t1.00E-10,\t0.05],\n",
    "    [56358.6,\t17,\t17.45,\t0.009,\t0.025,\t1.00E-10,\t0.05],\n",
    "    [56358.6,\t17,\t27.50,\t0.046,\t0.049,\t1.00E-10,\t0.05],\n",
    "    [56358.6,\t17,\t36.50,\t0.120,\t0.062,\t1.00E-10,\t0.05],)\n",
    "\n",
    "E20 = (\n",
    "    [56369.6,\t17,\t13.3,\t-0.0319,\t0.023,\t1.00E-10,\t0.05],\n",
    "    [56369.6,\t17,\t17.4,\t0.0240,\t0.029,\t1.00E-10,\t0.05],\n",
    "    [56369.6,\t17,\t27.5,\t0.113,\t0.065,\t1.00E-10,\t0.05],\n",
    "    [56369.6,\t17,\t36.5,\t0.0109,\t0.083,\t1.00E-10,\t0.05],)\n",
    "\n",
    "E21 = (\n",
    "    [56441.4,\t18,\t1.26,\t0.0811,\t0.396,\t1.00E-10,\t0.05],\n",
    "    [56441.4,\t18,\t1.74,\t-0.202,\t0.326,\t1.00E-10,\t0.05],\n",
    "    [56441.4,\t18,\t4.55,\t0.0437,\t0.033,\t1.00E-10,\t0.05],\n",
    "    [56441.4,\t18,\t7.399,\t-0.0098,\t0.021,\t1.00E-10,\t0.05],\n",
    "    [56441.4,\t18,\t8.52,\t-0.00263,\t0.018,\t1.00E-10,\t0.05],\n",
    "    [56441.4,\t18,\t11.4,\t-0.0266,\t0.019,\t1.00E-10,\t0.05],)\n",
    "\n",
    "E22 = (\n",
    "    [56446.2,\t18,\t13.3,\t-0.0169,\t0.024,\t1.00E-10,\t0.05],\n",
    "    [56446.2,\t18,\t17.4,\t0.0260,\t0.029,\t1.00E-10,\t0.05],\n",
    "    [56446.2,\t18,\t27.5,\t0.112,\t0.077,\t1.00E-10,\t0.05],\n",
    "    [56446.2,\t18,\t36.5,\t-0.0663,\t0.095,\t1.00E-10,\t0.05],)\n",
    "\n",
    "E23 = (\n",
    "    [56526.7,\t19,\t1.26,\t-0.571,\t0.276,\t1.00E-10,\t0.05],\n",
    "    [56526.7,\t19,\t1.74,\t-0.348,\t0.169,\t1.00E-10,\t0.05],\n",
    "    [56526.7,\t19,\t4.55,\t-0.00306,\t0.028,\t1.00E-10,\t0.05],\n",
    "    [56526.7,\t19,\t7.40,\t-0.0045,\t0.019,\t1.00E-10,\t0.05],\n",
    "    [56526.7,\t19,\t8.52,\t0.00449,\t0.022,\t1.00E-10,\t0.05],\n",
    "    [56526.7,\t19,\t11.4,\t-0.0051,\t0.024,\t1.00E-10,\t0.05],)\n",
    "\n",
    "E24 = (\n",
    "    [56530.7,\t19,\t13.3,\t-0.00734,\t0.031,\t1.00E-10,\t0.05],\n",
    "    [56530.7,\t19,\t17.4,\t-0.00912,\t0.053,\t1.00E-10,\t0.05],\n",
    "    [56530.7,\t19,\t27.5,\t0.0271,\t0.011,\t1.00E-10,\t0.05],\n",
    "    [56530.7,\t19,\t36.5,\t0.110,\t0.110,\t1.00E-10,\t0.05],)"
   ]
  },
  {
   "cell_type": "markdown",
   "id": "a940fb78-a97d-4a45-a27c-9be9985e1f2a",
   "metadata": {},
   "source": [
    "### Creating the dataframes"
   ]
  },
  {
   "cell_type": "code",
   "execution_count": 5,
   "id": "d3848616-8bb4-451d-817c-913fa637f7fe",
   "metadata": {},
   "outputs": [],
   "source": [
    "df1 =  pd.DataFrame(E1, columns = [\"MJD\",\t\"Epoch\",\t\"Freq\",\t\"Flux\",\t\"error\",\"RM\", \"systematics\"])\n",
    "\n",
    "df2 =  pd.DataFrame(E2, columns = [\"MJD\",\t\"Epoch\",\t\"Freq\",\t\"Flux\",\t\"error\",\"RM\", \"systematics\"])\n",
    "\n",
    "df3 =  pd.DataFrame(E3, columns = [\"MJD\",\t\"Epoch\",\t\"Freq\",\t\"Flux\",\t\"error\",\"RM\", \"systematics\"])\n",
    "\n",
    "df4 =  pd.DataFrame(E4, columns = [\"MJD\",\t\"Epoch\",\t\"Freq\",\t\"Flux\",\t\"error\",\"RM\", \"systematics\"])\n",
    "\n",
    "df5 =  pd.DataFrame(E5, columns = [\"MJD\",\t\"Epoch\",\t\"Freq\",\t\"Flux\",\t\"error\",\"RM\", \"systematics\"])\n",
    "\n",
    "df6 =  pd.DataFrame(E6, columns = [\"MJD\",\t\"Epoch\",\t\"Freq\",\t\"Flux\",\t\"error\",\"RM\", \"systematics\"])\n",
    "\n",
    "df7 =  pd.DataFrame(E7, columns = [\"MJD\",\t\"Epoch\",\t\"Freq\",\t\"Flux\",\t\"error\",\"RM\", \"systematics\"])\n",
    "\n",
    "df8 =  pd.DataFrame(E8, columns = [\"MJD\",\t\"Epoch\",\t\"Freq\",\t\"Flux\",\t\"error\",\"RM\", \"systematics\"])\n",
    "\n",
    "df9 =  pd.DataFrame(E9, columns = [\"MJD\",\t\"Epoch\",\t\"Freq\",\t\"Flux\",\t\"error\",\"RM\", \"systematics\"])\n",
    "\n",
    "df10 =  pd.DataFrame(E10, columns = [\"MJD\",\t\"Epoch\",\t\"Freq\",\t\"Flux\",\t\"error\",\"RM\", \"systematics\"])\n",
    "\n",
    "df11 =  pd.DataFrame(E11, columns = [\"MJD\",\t\"Epoch\",\t\"Freq\",\t\"Flux\",\t\"error\",\"RM\", \"systematics\"])\n",
    "\n",
    "df12 =  pd.DataFrame(E12, columns = [\"MJD\",\t\"Epoch\",\t\"Freq\",\t\"Flux\",\t\"error\",\"RM\", \"systematics\"])\n",
    "\n",
    "df13 =  pd.DataFrame(E13, columns = [\"MJD\",\t\"Epoch\",\t\"Freq\",\t\"Flux\",\t\"error\",\"RM\", \"systematics\"])\n",
    "\n",
    "df14 =  pd.DataFrame(E14, columns = [\"MJD\",\t\"Epoch\",\t\"Freq\",\t\"Flux\",\t\"error\",\"RM\", \"systematics\"])\n",
    "\n",
    "df15 =  pd.DataFrame(E15, columns = [\"MJD\",\t\"Epoch\",\t\"Freq\",\t\"Flux\",\t\"error\",\"RM\", \"systematics\"])\n",
    "\n",
    "df16 =  pd.DataFrame(E16, columns = [\"MJD\",\t\"Epoch\",\t\"Freq\",\t\"Flux\",\t\"error\",\"RM\", \"systematics\"])\n",
    "\n",
    "df17 =  pd.DataFrame(E17, columns = [\"MJD\",\t\"Epoch\",\t\"Freq\",\t\"Flux\",\t\"error\",\"RM\", \"systematics\"])\n",
    "\n",
    "df18 =  pd.DataFrame(E18, columns = [\"MJD\",\t\"Epoch\",\t\"Freq\",\t\"Flux\",\t\"error\",\"RM\", \"systematics\"])\n",
    "\n",
    "df19 =  pd.DataFrame(E19, columns = [\"MJD\",\t\"Epoch\",\t\"Freq\",\t\"Flux\",\t\"error\",\"RM\", \"systematics\"])\n",
    "\n",
    "df20 =  pd.DataFrame(E20, columns = [\"MJD\",\t\"Epoch\",\t\"Freq\",\t\"Flux\",\t\"error\",\"RM\", \"systematics\"])\n",
    "\n",
    "df21 =  pd.DataFrame(E21, columns = [\"MJD\",\t\"Epoch\",\t\"Freq\",\t\"Flux\",\t\"error\",\"RM\", \"systematics\"])\n",
    "\n",
    "df22 =  pd.DataFrame(E22, columns = [\"MJD\",\t\"Epoch\",\t\"Freq\",\t\"Flux\",\t\"error\",\"RM\", \"systematics\"])\n",
    "\n",
    "df23 =  pd.DataFrame(E23, columns = [\"MJD\",\t\"Epoch\",\t\"Freq\",\t\"Flux\",\t\"error\",\"RM\", \"systematics\"])\n",
    "\n",
    "df24 =  pd.DataFrame(E24, columns = [\"MJD\",\t\"Epoch\",\t\"Freq\",\t\"Flux\",\t\"error\",\"RM\", \"systematics\"])\n"
   ]
  },
  {
   "cell_type": "markdown",
   "id": "426887fd-f5e9-4245-ab48-c76dd04ca9dd",
   "metadata": {},
   "source": [
    "### making a loop to plot the spectral index"
   ]
  },
  {
   "cell_type": "code",
   "execution_count": 6,
   "id": "a36cf60f-b8f1-4541-b14a-556f58f0b5b1",
   "metadata": {},
   "outputs": [
    {
     "data": {
      "image/png": "[encoded data removed]",
      "text/plain": [
       "<Figure size 1200x1200 with 24 Axes>"
      ]
     },
     "metadata": {},
     "output_type": "display_data"
    }
   ],
   "source": [
    "\n",
    "#putting them all in a list\n",
    "dfs = [df1, df2, df3, df4, df5, df6, df7, df8, df9, df10,\n",
    "       df11, df12, df13, df14, df15, df16, df17, df18, df19, df20,\n",
    "       df21, df22, df23, df24]\n",
    "\n",
    "\n",
    "#the days by the list so they can all be defined\n",
    "annotations = ['Day 2.4', 'Day 31', 'Day 46.4', 'Day 54.2', 'Day 62.3', 'Day 79.9',\n",
    "               'Day 81.1', 'Day 90.3', 'Day 110', 'Day 113.3', 'Day 129', 'Day 136.2',\n",
    "               'Day 139.9', 'Day 193', 'Day 232.8', 'Day 246.6', 'Day 259.7',\n",
    "               'Day 309.7', 'Day 320.6', 'Day 331.6', 'Day 403.4', 'Day 408.2',\n",
    "               'Day 488.7', 'Day 492.7']\n",
    "\n",
    "#making the figure (6,4) is the (rows, columns)\n",
    "fig, ax = plt.subplots(6, 4, sharex='all', sharey='all')\n",
    "fig.set_size_inches(12, 12)\n",
    "fig.subplots_adjust(hspace=0, wspace=0)\n",
    "\n",
    "#loop for each of the datasets\n",
    "for idx, (df, label) in enumerate(zip(dfs, annotations)):\n",
    "    row, col = divmod(idx, 4)\n",
    "    mask = df['Flux'] > 3 * df['error'] #don't show the non-detections\n",
    "    if mask.any():\n",
    "        ax[row, col].errorbar(df['Freq'][mask], df['Flux'][mask], yerr=df['error'][mask], fmt='^')\n",
    "        ax[row, col].set_xscale('log')\n",
    "        ax[row, col].set_yscale('log')\n",
    "        ax[row, col].set_xticks([1, 5, 10, 50], labels=['1', '5', '10', '50'])\n",
    "        ax[row, col].set_yticks([1, 5, 10, 20, 50, 100], labels=['1', '5', '10', '20', '50', '100'])\n",
    "        ax[row, col].annotate(label, xy=(50, 100), xycoords='axes points', size=9, ha='right', va='top', bbox=dict(boxstyle='round', fc='w', ec=\"w\"))\n",
    "        ax[row, col].tick_params(axis='both', which='both', direction='in', top=True, right=True)\n",
    "\n",
    "fig.supxlabel(\"Frequency (GHz)\")\n",
    "fig.supylabel(\"Flux Density (mJy)\")\n",
    "plt.show();"
   ]
  },
  {
   "cell_type": "markdown",
   "id": "f3fa9f37-7c14-4482-a4a8-c00f45fd15de",
   "metadata": {},
   "source": [
    "### Now cleaning it up so it's not using all of those empty plots (the empty plots are due to non-detections)"
   ]
  },
  {
   "cell_type": "code",
   "execution_count": 7,
   "id": "ce261c2d-17d8-4cea-96c1-7766a12faa9b",
   "metadata": {},
   "outputs": [
    {
     "data": {
      "image/png": "[encoded data removed]",
      "text/plain": [
       "<Figure size 1200x1200 with 12 Axes>"
      ]
     },
     "metadata": {},
     "output_type": "display_data"
    }
   ],
   "source": [
    "dfs = [df1, df2, df3, df4, df5, df6, df7, df8, df9, df10,\n",
    "       df11, df12, df13, df14, df15, df16, df17, df18, df19, df20,\n",
    "       df21, df22, df23, df24]\n",
    "\n",
    "\n",
    "#the days by the list so they can all be defined\n",
    "annotations = ['Day 2.4', 'Day 31', 'Day 46.4', 'Day 54.2', 'Day 62.3', 'Day 79.9',\n",
    "               'Day 81.1', 'Day 90.3', 'Day 110', 'Day 113.3', 'Day 129', 'Day 136.2',\n",
    "               'Day 139.9', 'Day 193', 'Day 232.8', 'Day 246.6', 'Day 259.7',\n",
    "               'Day 309.7', 'Day 320.6', 'Day 331.6', 'Day 403.4', 'Day 408.2',\n",
    "               'Day 488.7', 'Day 492.7']\n",
    "\n",
    "#making the figure (6,4) is the (rows, columns)\n",
    "fig, ax = plt.subplots(4, 3, sharex='all', sharey='all')\n",
    "fig.set_size_inches(12, 12)\n",
    "fig.subplots_adjust(hspace=0, wspace=0)\n",
    "\n",
    "mask = df2['Flux'] > 3 * df2['error']  # apply detection threshold\n",
    "if mask.any():  # proceed only if at least one detection\n",
    "    ax[0, 0].errorbar(df2['Freq'][mask], df2['Flux'][mask], yerr=df2['error'][mask], fmt='^')\n",
    "    ax[0, 0].set_xscale('log')\n",
    "    ax[0, 0].set_xticks([1, 5, 10, 50], labels=['1', '5', '10', '50'])\n",
    "    ax[0, 0].set_yscale('log')\n",
    "    ax[0, 0].set_yticks([1, 5, 10, 20, 50, 100], labels=['1', '5', '10', '20', '50', '100'])\n",
    "    ax[0, 0].annotate('Day 31', xy=(60, 145), xycoords='axes points', size=9, ha='right', va='top', bbox=dict(boxstyle='round', fc='w', ec=\"w\"))\n",
    "    ax[0, 0].tick_params(axis='both', which='both', direction='in', top=True, right=True)\n",
    "\n",
    "mask = df3['Flux'] > 3 * df3['error']  # apply detection threshold\n",
    "if mask.any():  # proceed only if at least one detection\n",
    "    ax[0, 1].errorbar(df3['Freq'][mask], df3['Flux'][mask], yerr=df3['error'][mask], fmt='^')\n",
    "    ax[0, 1].set_xscale('log')\n",
    "    ax[0, 1].set_xticks([1, 5, 10, 50], labels=['1', '5', '10', '50'])\n",
    "    ax[0, 1].set_yscale('log')\n",
    "    ax[0, 1].set_yticks([1, 5, 10, 20, 50, 100], labels=['1', '5', '10', '20', '50', '100'])\n",
    "    ax[0, 1].annotate('Day 46.4', xy=(60, 145), xycoords='axes points', size=9, ha='right', va='top', bbox=dict(boxstyle='round', fc='w', ec=\"w\"))\n",
    "    ax[0, 1].tick_params(axis='both', which='both', direction='in', top=True, right=True)\n",
    "\n",
    "mask = df4['Flux'] > 3 * df4['error']  # apply detection threshold\n",
    "if mask.any():  # proceed only if at least one detection\n",
    "    ax[0, 2].errorbar(df4['Freq'][mask], df4['Flux'][mask], yerr=df4['error'][mask], fmt='^')\n",
    "    ax[0, 2].set_xscale('log')\n",
    "    ax[0, 2].set_xticks([1, 5, 10, 50], labels=['1', '5', '10', '50'])\n",
    "    ax[0, 2].set_yscale('log')\n",
    "    ax[0, 2].set_yticks([1, 5, 10, 20, 50, 100], labels=['1', '5', '10', '20', '50', '100'])\n",
    "    ax[0, 2].annotate('Day 54.2', xy=(60, 145), xycoords='axes points', size=9, ha='right', va='top', bbox=dict(boxstyle='round', fc='w', ec=\"w\"))\n",
    "    ax[0, 2].tick_params(axis='both', which='both', direction='in', top=True, right=True)\n",
    "\n",
    "\n",
    "\n",
    "mask = df5['Flux'] > 3 * df5['error']  # apply detection threshold\n",
    "if mask.any():  # proceed only if at least one detection\n",
    "    ax[1, 0].errorbar(df5['Freq'][mask], df5['Flux'][mask], yerr=df5['error'][mask], fmt='^')\n",
    "    ax[1, 0].set_xscale('log')\n",
    "    ax[1, 0].set_xticks([1, 5, 10, 50], labels=['1', '5', '10', '50'])\n",
    "    ax[1, 0].set_yscale('log')\n",
    "    ax[1, 0].set_yticks([1, 5, 10, 20, 50, 100], labels=['1', '5', '10', '20', '50', '100'])\n",
    "    ax[1, 0].annotate('Day 62.3', xy=(60, 145), xycoords='axes points', size=9, ha='right', va='top', bbox=dict(boxstyle='round', fc='w', ec=\"w\"))\n",
    "    ax[1, 0].tick_params(axis='both', which='both', direction='in', top=True, right=True)\n",
    "\n",
    "mask = df7['Flux'] > 3 * df7['error']  # apply detection threshold\n",
    "if mask.any():  # proceed only if at least one detection\n",
    "    ax[1, 1].errorbar(df7['Freq'][mask], df7['Flux'][mask], yerr=df7['error'][mask], fmt='^')\n",
    "    ax[1, 1].set_xscale('log')\n",
    "    ax[1, 1].set_xticks([1, 5, 10, 50], labels=['1', '5', '10', '50'])\n",
    "    ax[1, 1].set_yscale('log')\n",
    "    ax[1, 1].set_yticks([1, 5, 10, 20, 50, 100], labels=['1', '5', '10', '20', '50', '100'])\n",
    "    ax[1, 1].annotate('Day 81.1', xy=(60, 145), xycoords='axes points', size=9, ha='right', va='top', bbox=dict(boxstyle='round', fc='w', ec=\"w\"))\n",
    "    ax[1, 1].tick_params(axis='both', which='both', direction='in', top=True, right=True)\n",
    "\n",
    "mask = df8['Flux'] > 3 * df8['error']  # apply detection threshold\n",
    "if mask.any():  # proceed only if at least one detection\n",
    "    ax[1, 2].errorbar(df8['Freq'][mask], df8['Flux'][mask], yerr=df8['error'][mask], fmt='^')\n",
    "    ax[1, 2].set_xscale('log')\n",
    "    ax[1, 2].set_xticks([1, 5, 10, 50], labels=['1', '5', '10', '50'])\n",
    "    ax[1, 2].set_yscale('log')\n",
    "    ax[1, 2].set_yticks([1, 5, 10, 20, 50, 100], labels=['1', '5', '10', '20', '50', '100'])\n",
    "    ax[1, 2].annotate('Day 90.3', xy=(60, 145), xycoords='axes points', size=9, ha='right', va='top', bbox=dict(boxstyle='round', fc='w', ec=\"w\"))\n",
    "    ax[1, 2].tick_params(axis='both', which='both', direction='in', top=True, right=True)\n",
    "\n",
    "\n",
    "\n",
    "\n",
    "mask = df9['Flux'] > 3 * df9['error']  # apply detection threshold\n",
    "if mask.any():  # proceed only if at least one detection\n",
    "    ax[2, 0].errorbar(df9['Freq'][mask], df9['Flux'][mask], yerr=df9['error'][mask], fmt='^')\n",
    "    ax[2, 0].set_xscale('log')\n",
    "    ax[2, 0].set_xticks([1, 5, 10, 50], labels=['1', '5', '10', '50'])\n",
    "    ax[2, 0].set_yscale('log')\n",
    "    ax[2, 0].set_yticks([1, 5, 10, 20, 50, 100], labels=['1', '5', '10', '20', '50', '100'])\n",
    "    ax[2, 0].annotate('Day 110', xy=(60, 145), xycoords='axes points', size=9, ha='right', va='top', bbox=dict(boxstyle='round', fc='w', ec=\"w\"))\n",
    "    ax[2, 0].tick_params(axis='both', which='both', direction='in', top=True, right=True)\n",
    "\n",
    "mask = df10['Flux'] > 3 * df10['error']  # apply detection threshold\n",
    "if mask.any():  # proceed only if at least one detection\n",
    "    ax[2, 1].errorbar(df10['Freq'][mask], df10['Flux'][mask], yerr=df10['error'][mask], fmt='^')\n",
    "    ax[2, 1].set_xscale('log')\n",
    "    ax[2, 1].set_xticks([1, 5, 10, 50], labels=['1', '5', '10', '50'])\n",
    "    ax[2, 1].set_yscale('log')\n",
    "    ax[2, 1].set_yticks([1, 5, 10, 20, 50, 100], labels=['1', '5', '10', '20', '50', '100'])\n",
    "    ax[2, 1].annotate('Day 113.3', xy=(60, 145), xycoords='axes points', size=9, ha='right', va='top', bbox=dict(boxstyle='round', fc='w', ec=\"w\"))\n",
    "    ax[2, 1].tick_params(axis='both', which='both', direction='in', top=True, right=True)\n",
    "\n",
    "mask = df11['Flux'] > 3 * df11['error']  # apply detection threshold\n",
    "if mask.any():  # proceed only if at least one detection\n",
    "    ax[2, 2].errorbar(df11['Freq'][mask], df11['Flux'][mask], yerr=df11['error'][mask], fmt='^')\n",
    "    ax[2, 2].set_xscale('log')\n",
    "    ax[2, 2].set_xticks([1, 5, 10, 50], labels=['1', '5', '10', '50'])\n",
    "    ax[2, 2].set_yscale('log')\n",
    "    ax[2, 2].set_yticks([1, 5, 10, 20, 50, 100], labels=['1', '5', '10', '20', '50', '100'])\n",
    "    ax[2, 2].annotate('Day 129', xy=(60, 145), xycoords='axes points', size=9, ha='right', va='top', bbox=dict(boxstyle='round', fc='w', ec=\"w\"))\n",
    "    ax[2, 2].tick_params(axis='both', which='both', direction='in', top=True, right=True)\n",
    "\n",
    "\n",
    "\n",
    "mask = df12['Flux'] > 3 * df12['error']  # apply detection threshold\n",
    "if mask.any():  # proceed only if at least one detection\n",
    "    ax[3, 0].errorbar(df12['Freq'][mask], df12['Flux'][mask], yerr=df12['error'][mask], fmt='^')\n",
    "    ax[3, 0].set_xscale('log')\n",
    "    ax[3, 0].set_xticks([1, 5, 10, 50], labels=['1', '5', '10', '50'])\n",
    "    ax[3, 0].set_yscale('log')\n",
    "    ax[3, 0].set_yticks([1, 5, 10, 20, 50, 100], labels=['1', '5', '10', '20', '50', '100'])\n",
    "    ax[3, 0].annotate('Day 136.2', xy=(60, 145), xycoords='axes points', size=9, ha='right', va='top', bbox=dict(boxstyle='round', fc='w', ec=\"w\"))\n",
    "    ax[3, 0].tick_params(axis='both', which='both', direction='in', top=True, right=True)\n",
    "\n",
    "mask = df13['Flux'] > 3 * df13['error']  # apply detection threshold\n",
    "if mask.any():  # proceed only if at least one detection\n",
    "    ax[3, 1].errorbar(df13['Freq'][mask], df13['Flux'][mask], yerr=df13['error'][mask], fmt='^')\n",
    "    ax[3, 1].set_xscale('log')\n",
    "    ax[3, 1].set_xticks([1, 5, 10, 50], labels=['1', '5', '10', '50'])\n",
    "    ax[3, 1].set_yscale('log')\n",
    "    ax[3, 1].set_yticks([1, 5, 10, 20, 50, 100], labels=['1', '5', '10', '20', '50', '100'])\n",
    "    ax[3, 1].annotate('Day 139.9', xy=(60, 145), xycoords='axes points', size=9, ha='right', va='top', bbox=dict(boxstyle='round', fc='w', ec=\"w\"))\n",
    "    ax[3, 1].tick_params(axis='both', which='both', direction='in', top=True, right=True)\n",
    "\n",
    "\n",
    "    \n",
    "fig.supxlabel(\"Frequency (GHz)\")\n",
    "fig.supylabel(\"Flux Density (mJy)\")\n",
    "plt.show();"
   ]
  },
  {
   "cell_type": "markdown",
   "id": "5fa742eb-8fb2-4d62-ba5c-f4047ae6a2b2",
   "metadata": {},
   "source": [
    "### Making it more defined (getting rid of day 31, and the last empty plot)"
   ]
  },
  {
   "cell_type": "code",
   "execution_count": 8,
   "id": "7d98ca64-2676-4bc3-9944-276f8344b3bd",
   "metadata": {},
   "outputs": [
    {
     "data": {
      "image/png": "[encoded data removed]",
      "text/plain": [
       "<Figure size 600x1200 with 10 Axes>"
      ]
     },
     "metadata": {},
     "output_type": "display_data"
    }
   ],
   "source": [
    "#making the figure (6,4) is the (rows, columns)\n",
    "fig, ax = plt.subplots(5, 2, sharex='all', sharey='all')\n",
    "fig.set_size_inches(6, 12)\n",
    "fig.subplots_adjust(hspace=0, wspace=0)\n",
    "\n",
    "\n",
    "mask = df3['Flux'] > 3 * df3['error']  # apply detection threshold\n",
    "if mask.any():  # proceed only if at least one detection\n",
    "    ax[0, 0].errorbar(df3['Freq'][mask], df3['Flux'][mask], yerr=df3['error'][mask], fmt='^')\n",
    "    ax[0, 0].set_xscale('log')\n",
    "    ax[0, 0].set_xticks([1, 5, 10, 50], labels=['1', '5', '10', '50'])\n",
    "    ax[0, 0].set_yscale('log')\n",
    "    ax[0, 0].set_yticks([1, 5, 10, 20, 50], labels=['1', '5', '10', '20', '50'])\n",
    "    ax[0, 0].annotate('Day 46.4', xy=(60, 100), xycoords='axes points', size=9, ha='right', va='top', bbox=dict(boxstyle='round', fc='w', ec=\"w\"))\n",
    "    ax[0, 0].tick_params(axis='both', which='both', direction='in', top=True, right=True)\n",
    "\n",
    "mask = df4['Flux'] > 3 * df4['error']  # apply detection threshold\n",
    "if mask.any():  # proceed only if at least one detection\n",
    "    ax[0, 1].errorbar(df4['Freq'][mask], df4['Flux'][mask], yerr=df4['error'][mask], fmt='^')\n",
    "    ax[0, 1].set_xscale('log')\n",
    "    ax[0, 1].set_xticks([1, 5, 10, 50], labels=['1', '5', '10', '50'])\n",
    "    ax[0, 1].set_yscale('log')\n",
    "    ax[0, 1].set_yticks([1, 5, 10, 20, 50], labels=['1', '5', '10', '20', '50'])\n",
    "    ax[0, 1].annotate('Day 54.2', xy=(60, 100), xycoords='axes points', size=9, ha='right', va='top', bbox=dict(boxstyle='round', fc='w', ec=\"w\"))\n",
    "    ax[0, 1].tick_params(axis='both', which='both', direction='in', top=True, right=True)\n",
    "\n",
    "\n",
    "\n",
    "mask = df5['Flux'] > 3 * df5['error']  # apply detection threshold\n",
    "if mask.any():  # proceed only if at least one detection\n",
    "    ax[1, 0].errorbar(df5['Freq'][mask], df5['Flux'][mask], yerr=df5['error'][mask], fmt='^')\n",
    "    ax[1, 0].set_xscale('log')\n",
    "    ax[1, 0].set_xticks([1, 5, 10, 50], labels=['1', '5', '10', '50'])\n",
    "    ax[1, 0].set_yscale('log')\n",
    "    ax[1, 0].set_yticks([1, 5, 10, 20, 50], labels=['1', '5', '10', '20', '50'])\n",
    "    ax[1, 0].annotate('Day 62.3', xy=(60, 100), xycoords='axes points', size=9, ha='right', va='top', bbox=dict(boxstyle='round', fc='w', ec=\"w\"))\n",
    "    ax[1, 0].tick_params(axis='both', which='both', direction='in', top=True, right=True)\n",
    "\n",
    "mask = df7['Flux'] > 3 * df7['error']  # apply detection threshold\n",
    "if mask.any():  # proceed only if at least one detection\n",
    "    ax[1, 1].errorbar(df7['Freq'][mask], df7['Flux'][mask], yerr=df7['error'][mask], fmt='^')\n",
    "    ax[1, 1].set_xscale('log')\n",
    "    ax[1, 1].set_xticks([1, 5, 10, 50], labels=['1', '5', '10', '50'])\n",
    "    ax[1, 1].set_yscale('log')\n",
    "    ax[1, 1].set_yticks([1, 5, 10, 20, 50], labels=['1', '5', '10', '20', '50'])\n",
    "    ax[1, 1].annotate('Day 81.1', xy=(60, 100), xycoords='axes points', size=9, ha='right', va='top', bbox=dict(boxstyle='round', fc='w', ec=\"w\"))\n",
    "    ax[1, 1].tick_params(axis='both', which='both', direction='in', top=True, right=True)\n",
    "\n",
    "\n",
    "\n",
    "mask = df8['Flux'] > 3 * df8['error']  # apply detection threshold\n",
    "if mask.any():  # proceed only if at least one detection\n",
    "    ax[2, 0].errorbar(df8['Freq'][mask], df8['Flux'][mask], yerr=df8['error'][mask], fmt='^')\n",
    "    ax[2, 0].set_xscale('log')\n",
    "    ax[2, 0].set_xticks([1, 5, 10, 50], labels=['1', '5', '10', '50'])\n",
    "    ax[2, 0].set_yscale('log')\n",
    "    ax[2, 0].set_yticks([1, 5, 10, 20, 50], labels=['1', '5', '10', '20', '50'])\n",
    "    ax[2, 0].annotate('Day 90.3', xy=(60, 100), xycoords='axes points', size=9, ha='right', va='top', bbox=dict(boxstyle='round', fc='w', ec=\"w\"))\n",
    "    ax[2, 0].tick_params(axis='both', which='both', direction='in', top=True, right=True)\n",
    "\n",
    "mask = df9['Flux'] > 3 * df9['error']  # apply detection threshold\n",
    "if mask.any():  # proceed only if at least one detection\n",
    "    ax[2, 1].errorbar(df9['Freq'][mask], df9['Flux'][mask], yerr=df9['error'][mask], fmt='^')\n",
    "    ax[2, 1].set_xscale('log')\n",
    "    ax[2, 1].set_xticks([1, 5, 10, 50], labels=['1', '5', '10', '50'])\n",
    "    ax[2, 1].set_yscale('log')\n",
    "    ax[2, 1].set_yticks([1, 5, 10, 20, 50], labels=['1', '5', '10', '20', '50'])\n",
    "    ax[2, 1].annotate('Day 110', xy=(60, 100), xycoords='axes points', size=9, ha='right', va='top', bbox=dict(boxstyle='round', fc='w', ec=\"w\"))\n",
    "    ax[2, 1].tick_params(axis='both', which='both', direction='in', top=True, right=True)\n",
    "\n",
    "\n",
    "\n",
    "mask = df10['Flux'] > 3 * df10['error']  # apply detection threshold\n",
    "if mask.any():  # proceed only if at least one detection\n",
    "    ax[3, 0].errorbar(df10['Freq'][mask], df10['Flux'][mask], yerr=df10['error'][mask], fmt='^')\n",
    "    ax[3, 0].set_xscale('log')\n",
    "    ax[3, 0].set_xticks([1, 5, 10, 50], labels=['1', '5', '10', '50'])\n",
    "    ax[3, 0].set_yscale('log')\n",
    "    ax[3, 0].set_yticks([1, 5, 10, 20, 50], labels=['1', '5', '10', '20', '50'])\n",
    "    ax[3, 0].annotate('Day 113.3', xy=(60, 100), xycoords='axes points', size=9, ha='right', va='top', bbox=dict(boxstyle='round', fc='w', ec=\"w\"))\n",
    "    ax[3, 0].tick_params(axis='both', which='both', direction='in', top=True, right=True)\n",
    "\n",
    "mask = df11['Flux'] > 3 * df11['error']  # apply detection threshold\n",
    "if mask.any():  # proceed only if at least one detection\n",
    "    ax[3, 1].errorbar(df11['Freq'][mask], df11['Flux'][mask], yerr=df11['error'][mask], fmt='^')\n",
    "    ax[3, 1].set_xscale('log')\n",
    "    ax[3, 1].set_xticks([1, 5, 10, 50], labels=['1', '5', '10', '50'])\n",
    "    ax[3, 1].set_yscale('log')\n",
    "    ax[3, 1].set_yticks([1, 5, 10, 20, 50], labels=['1', '5', '10', '20', '50'])\n",
    "    ax[3, 1].annotate('Day 129', xy=(60, 100), xycoords='axes points', size=9, ha='right', va='top', bbox=dict(boxstyle='round', fc='w', ec=\"w\"))\n",
    "    ax[3, 1].tick_params(axis='both', which='both', direction='in', top=True, right=True)\n",
    "\n",
    "\n",
    "\n",
    "mask = df12['Flux'] > 3 * df12['error']  # apply detection threshold\n",
    "if mask.any():  # proceed only if at least one detection\n",
    "    ax[4, 0].errorbar(df12['Freq'][mask], df12['Flux'][mask], yerr=df12['error'][mask], fmt='^')\n",
    "    ax[4, 0].set_xscale('log')\n",
    "    ax[4, 0].set_xticks([1, 5, 10, 50], labels=['1', '5', '10', '50'])\n",
    "    ax[4, 0].set_yscale('log')\n",
    "    ax[4, 0].set_yticks([.1, 1, 5, 10, 20, 50], labels=['0.1','1.0', '5.0', '10.0', '20.0', '50.0'])\n",
    "    \n",
    "    ax[4, 0].annotate('Day 136.2', xy=(60, 100), xycoords='axes points', size=9, ha='right', va='top', bbox=dict(boxstyle='round', fc='w', ec=\"w\"))\n",
    "    ax[4, 0].tick_params(axis='both', which='both', direction='in', top=True, right=True)\n",
    "\n",
    "mask = df13['Flux'] > 3 * df13['error']  # apply detection threshold\n",
    "if mask.any():  # proceed only if at least one detection\n",
    "    ax[4, 1].errorbar(df13['Freq'][mask], df13['Flux'][mask], yerr=df13['error'][mask], fmt='^')\n",
    "    ax[4, 1].set_xscale('log')\n",
    "    ax[4, 1].set_xticks([1, 5, 10, 50], labels=['1', '5', '10', '50'])\n",
    "    ax[4, 1].set_yscale('log')\n",
    "    ax[4, 1].set_yticks([.1, 1, 5, 10], labels=['0.1','1.0', '5.0', '10.0'], fontsize=0.01)\n",
    "    ax[4,1].margins(y=.4)\n",
    "    ax[4, 1].annotate('Day 139.9', xy=(60, 100), xycoords='axes points', size=9, ha='right', va='top', bbox=dict(boxstyle='round', fc='w', ec=\"w\"))\n",
    "    ax[4, 1].tick_params(axis='both', which='both', direction='in', top=True, right=True)\n",
    "\n",
    "\n",
    "plt.rcParams['ytick.labelsize']= 10\n",
    "fig.supxlabel(\"Frequency (GHz)\")\n",
    "fig.supylabel(\"Flux Density (mJy)\")\n",
    "#fig.tight_layout()\n",
    "plt.show();"
   ]
  },
  {
   "cell_type": "markdown",
   "id": "966ba662-00fd-402d-b461-d798e8e180ec",
   "metadata": {},
   "source": [
    "### Now plotting the alpha lines using power laws"
   ]
  },
  {
   "cell_type": "code",
   "execution_count": 9,
   "id": "c0ebb1ba-b683-4344-8001-f1060d050bbe",
   "metadata": {},
   "outputs": [],
   "source": [
    "def error(err, freq, flux):\n",
    "    yerr = []\n",
    "    for i in range(len(freq)):\n",
    "        if freq[i] < 10:\n",
    "            pl = np.sqrt(err[i]**2 + (flux[i]*0.05)**2)\n",
    "            yerr.append(pl)\n",
    "        else:\n",
    "            pl =np.sqrt(err[i]**2 + (flux[i]*0.1)**2)\n",
    "            yerr.append(pl)\n",
    "\n",
    "    return(yerr)\n",
    "\n"
   ]
  },
  {
   "cell_type": "code",
   "execution_count": 10,
   "id": "ea85d6f2-6599-4d51-93b0-553cb9f44f6b",
   "metadata": {},
   "outputs": [],
   "source": [
    "def onedlineneg(x_data, y_data, y_err):\n",
    "\n",
    "    #LevMarLSQFitter calc uncertainties=True to get covariance matrix and find error on slope\n",
    "    #Inputting the first point in the x and y data and an estimate on alpha\n",
    "    PL =  PowerLaw1D(amplitude = y_data[0], x_0= x_data[0], alpha= -1.4,\n",
    "                     bounds={\n",
    "        'amplitude': (0, None),  # Amplitude should be positive\n",
    "        'x_0': (min(x_data), max(x_data)),  # Frequency must stay within data\n",
    "        'alpha': (-10, 10)  # Keep alpha within a realistic range\n",
    "    }) \n",
    "\n",
    "    #Initialize fitters\n",
    "    #setting calc_uncertainties=True to output errors on measurement \n",
    "\n",
    "    fit = fitting.LevMarLSQFitter(calc_uncertainties=True)\n",
    "\n",
    "    #Fit the data w/o weights\n",
    "    fit_model = fit(PL, x_data, y_data)\n",
    "\n",
    "    #weight is 1/error^2\n",
    "    y_weight = 1/ (np.power(y_err,2))  \n",
    "\n",
    "    # fit the data using the uncertainties as weights\n",
    "    fit_model_weights = fit(PL, x_data, y_data, weights=y_weight)\n",
    "\n",
    "    return fit_model_weights\n",
    "\n"
   ]
  },
  {
   "cell_type": "code",
   "execution_count": 11,
   "id": "b581810b-8b80-4885-b5dc-0475a30e7017",
   "metadata": {},
   "outputs": [],
   "source": [
    "#Error on alpha for only two data points\n",
    "def two_points(Flux, Freq, Err):\n",
    "    \n",
    "    alpha = (np.log10(Flux[0]/Flux[1])) / (np.log10(Freq[0]/Freq[1]))\n",
    "    \n",
    "    \n",
    "    der_s1 = 1 / (Flux[0] * np.log(Freq[0]/Freq[1]))\n",
    "    der_s2 = -1 / (Flux[1] * np.log(Freq[0]/Freq[1]))\n",
    "    \n",
    "    \n",
    "    err_alph_squared = (der_s1)**2 * (Err[0]**2) + (der_s2)**2 * (Err[1]**2) \n",
    "    err_alph = np.sqrt(err_alph_squared)\n",
    "    \n",
    "    return(alpha, err_alph)"
   ]
  },
  {
   "cell_type": "markdown",
   "id": "ee3f9c76-f70e-4313-9f32-16bd88bc4a2b",
   "metadata": {},
   "source": [
    "#### Day 46.4"
   ]
  },
  {
   "cell_type": "code",
   "execution_count": 12,
   "id": "0ee20b1a-b437-4901-aada-3db982f6821e",
   "metadata": {},
   "outputs": [],
   "source": [
    "\n",
    "mask = df3['Flux'] > 3 * df3['error']  # apply detection threshold\n",
    "if mask.any():\n",
    "    x3 = df3['Freq'][mask].values.tolist()\n",
    "    y3 = df3['Flux'][mask].values.tolist()\n",
    "    yerr3 = df3['error'][mask].values.tolist()"
   ]
  },
  {
   "cell_type": "code",
   "execution_count": 13,
   "id": "f4e8f0e4-c7ff-418f-8b22-171fa89572e1",
   "metadata": {},
   "outputs": [],
   "source": [
    "yerr3 = error(yerr3, x3, y3)"
   ]
  },
  {
   "cell_type": "code",
   "execution_count": 14,
   "id": "82dc1a89-354d-42b5-92fd-cfd8cf5e3bc2",
   "metadata": {},
   "outputs": [
    {
     "data": {
      "text/plain": [
       "<PowerLaw1D(amplitude=1.089, x_0=5., alpha=-0.77255236)>"
      ]
     },
     "execution_count": 14,
     "metadata": {},
     "output_type": "execute_result"
    }
   ],
   "source": [
    "#Since this day has only two data points, I have to make x_0 fixed in order to run the powerlaw1d. \n",
    "#this is done in the code below so I can use the function for the rest of the points\n",
    "\n",
    "\n",
    "\n",
    "PL3 =  PowerLaw1D(amplitude = y3[0], x_0= x3[0], alpha= -1.4,\n",
    "                     bounds={\n",
    "        'amplitude': (0, None),  # Amplitude should be positive\n",
    "        #'x_0': (x3[0], x3[0]),  # Frequency must stay within data\n",
    "        'alpha': (-10, 10)  # Keep alpha within a realistic range\n",
    "    },\n",
    "                 fixed={'x_0': True}) \n",
    "\n",
    "    #Initialize fitters\n",
    "    #setting calc_uncertainties=True to output errors on measurement \n",
    "\n",
    "fit = fitting.LevMarLSQFitter(calc_uncertainties=True)\n",
    "\n",
    "    #Fit the data w/o weights\n",
    "fit_model3 = fit(PL3, x3, y3)\n",
    "\n",
    "    #weight is 1/error^2\n",
    "y_weight3 = 1/ (np.power(yerr3,2))  \n",
    "\n",
    "    # fit the data using the uncertainties as weights\n",
    "fit_model_weights3 = fit(PL3, x3, y3, weights=y_weight3)\n",
    "\n",
    "fit_model_weights3\n"
   ]
  },
  {
   "cell_type": "code",
   "execution_count": 15,
   "id": "dba0fc58-6fef-4363-a214-87c04d73cd2f",
   "metadata": {},
   "outputs": [
    {
     "name": "stdout",
     "output_type": "stream",
     "text": [
      "(np.float64(0.772552360072047), np.float64(0.2516786987792198))\n"
     ]
    }
   ],
   "source": [
    "#Same slope as PL3 \n",
    "alpha_err3 = two_points(y3,x3,yerr3)\n",
    "print(alpha_err3)"
   ]
  },
  {
   "cell_type": "code",
   "execution_count": 16,
   "id": "e5b80d35-e6bf-40d1-83fc-d7b8e86bff3a",
   "metadata": {},
   "outputs": [
    {
     "data": {
      "text/plain": [
       "{'nfev': 5,\n",
       " 'fvec': array([0.00000000e+00, 4.11734877e-14]),\n",
       " 'fjac': array([[-355.60037484,    0.66127336],\n",
       "        [  52.06857   ,   59.06631191]]),\n",
       " 'ipvt': array([0, 1], dtype=int32),\n",
       " 'qtf': array([-1.94867713e-06, -2.21056908e-06]),\n",
       " 'message': 'The relative error between two consecutive iterates is at most 0.000000',\n",
       " 'ierr': 2,\n",
       " 'param_jac': None,\n",
       " 'param_cov': None,\n",
       " 'njev': 4,\n",
       " 'cov_x': array([[1.40535202e-05, 4.19694938e-05],\n",
       "        [4.19694938e-05, 2.86629107e-04]])}"
      ]
     },
     "execution_count": 16,
     "metadata": {},
     "output_type": "execute_result"
    }
   ],
   "source": [
    "fit.fit_info"
   ]
  },
  {
   "cell_type": "code",
   "execution_count": 17,
   "id": "ba21e249-6ebd-4484-87cb-8a7387c75ed9",
   "metadata": {},
   "outputs": [
    {
     "data": {
      "image/png": "[encoded data removed]",
      "text/plain": [
       "<Figure size 640x480 with 1 Axes>"
      ]
     },
     "metadata": {},
     "output_type": "display_data"
    }
   ],
   "source": [
    "fig,ax = plt.subplots()\n",
    "mask = df3['Flux'] > 3 * df3['error']  # apply detection threshold\n",
    "if mask.any():  # proceed only if at least one detection\n",
    "    ax.errorbar(df3['Freq'][mask], df3['Flux'][mask], yerr=yerr3, fmt='^')\n",
    "    ax.set_xscale('log')\n",
    "    ax.set_xticks([1, 5, 10, 50], labels=['1', '5', '10', '50'])\n",
    "    ax.set_yscale('log')\n",
    "    ax.set_yticks([1, 5, 10, 20, 50], labels=['1', '5', '10', '20', '50'])\n",
    "    ax.annotate('Day 46.4', xy=(60, 100), xycoords='axes points', size=9, ha='right', va='top', bbox=dict(boxstyle='round', fc='w', ec=\"w\"))\n",
    "    ax.tick_params(axis='both', which='both', direction='in', top=True, right=True)\n",
    "    ax.plot(df3['Freq'][mask], fit_model_weights3(df3['Freq'][mask]), 'r--')\n",
    "    ax.annotate('${\\u03B1 = 0.773 \\\\pm 0.252}$', xy=(90, 80), xycoords='axes points', size=9, ha='right', va='top', bbox=dict(boxstyle='round', fc='w', ec=\"w\"))\n",
    "\n",
    "plt.show();"
   ]
  },
  {
   "cell_type": "markdown",
   "id": "618dd31d-b436-4798-9f55-11208866935f",
   "metadata": {},
   "source": [
    "#### Day 54.2"
   ]
  },
  {
   "cell_type": "code",
   "execution_count": 18,
   "id": "fb5c45c8-8c80-467b-8b91-c1d804087320",
   "metadata": {},
   "outputs": [],
   "source": [
    "mask = df4['Flux'] > 3 * df4['error']  # apply detection threshold\n",
    "if mask.any():\n",
    "    x4 = df4['Freq'][mask].values.tolist()\n",
    "    y4 = df4['Flux'][mask].values.tolist()\n",
    "    yerr4 = df4['error'][mask].values.tolist()\n"
   ]
  },
  {
   "cell_type": "code",
   "execution_count": 19,
   "id": "4b86bbfa-49e0-453e-bc8b-e69e3f384f66",
   "metadata": {},
   "outputs": [],
   "source": [
    "yerr4 = error(yerr4, x4, y4)"
   ]
  },
  {
   "cell_type": "code",
   "execution_count": 20,
   "id": "2a75b053-8ebd-4390-a077-cba8affd0ad8",
   "metadata": {},
   "outputs": [
    {
     "data": {
      "text/plain": [
       "<PowerLaw1D(amplitude=5.20744706, x_0=26.36976019, alpha=-0.55574057)>"
      ]
     },
     "execution_count": 20,
     "metadata": {},
     "output_type": "execute_result"
    }
   ],
   "source": [
    "    #weight is 1/error^2\n",
    "y_weight4 = 1/ (np.power(yerr4,2))  \n",
    "\n",
    "PL4 =  PowerLaw1D(amplitude = y4[0], x_0= x4[0], alpha= -1.4,\n",
    "                     bounds={\n",
    "        'amplitude': (0, None),  # Amplitude should be positive\n",
    "        'x_0': (min(x4), max(x4)),  # Frequency must stay within data\n",
    "        'alpha': (-10, 10)  # Keep alpha within a realistic range\n",
    "    }) \n",
    "\n",
    "    #Initialize fitters\n",
    "    #setting calc_uncertainties=True to output errors on measurement \n",
    "\n",
    "fit4 = fitting.LevMarLSQFitter(calc_uncertainties=True)\n",
    "\n",
    "    #Fit the data w/o weights\n",
    "fit_model4 = fit4(PL4, x4, y4)\n",
    "\n",
    "\n",
    "\n",
    "    # fit the data using the uncertainties as weights\n",
    "fit_model_weights4 = fit4(PL4, x4, y4, weights=y_weight4)\n",
    "\n",
    "fit_model_weights4"
   ]
  },
  {
   "cell_type": "code",
   "execution_count": 21,
   "id": "8ce5e4d3-6f70-4889-a1dc-8ec6e2903731",
   "metadata": {},
   "outputs": [
    {
     "data": {
      "text/plain": [
       "{'nfev': 17,\n",
       " 'fvec': array([ 0.29252968, -0.21822979, -0.9528974 ,  0.74098008]),\n",
       " 'fjac': array([[-2.35894765e+01, -6.03929791e+00,  6.62572819e-01,\n",
       "         -2.28953183e-01],\n",
       "        [-6.03929791e+00, -5.90182729e+00,  6.47490885e-01,\n",
       "          7.85822871e-01],\n",
       "        [ 6.62572819e-01,  6.47490885e-01,  5.55111512e-17,\n",
       "         -0.00000000e+00]]),\n",
       " 'ipvt': array([2, 0, 1], dtype=int32),\n",
       " 'qtf': array([-5.06118746e-05, -4.94617007e-05,  8.07529965e-01]),\n",
       " 'message': 'Both actual and predicted relative reductions in the sum of squares\\n  are at most 0.000000',\n",
       " 'ierr': 1,\n",
       " 'param_jac': None,\n",
       " 'param_cov': array([[ 3.90601455e+30,  3.56030082e+31, -2.65892098e+14],\n",
       "        [ 3.56030082e+31,  3.24518554e+32, -2.42358507e+15],\n",
       "        [-2.65892098e+14, -2.42358507e+15,  2.17787540e-02]]),\n",
       " 'njev': 9,\n",
       " 'cov_x': array([[ 3.90601455e+30,  3.56030082e+31, -2.65892098e+14],\n",
       "        [ 3.56030082e+31,  3.24518554e+32, -2.42358507e+15],\n",
       "        [-2.65892098e+14, -2.42358507e+15,  2.17787540e-02]])}"
      ]
     },
     "execution_count": 21,
     "metadata": {},
     "output_type": "execute_result"
    }
   ],
   "source": [
    "fit4.fit_info"
   ]
  },
  {
   "cell_type": "code",
   "execution_count": 22,
   "id": "c69f469b-930a-4ea2-8647-637707eafef1",
   "metadata": {},
   "outputs": [
    {
     "name": "stdout",
     "output_type": "stream",
     "text": [
      "0.0929123612996143\n"
     ]
    }
   ],
   "source": [
    "#taking fvec\n",
    "fvec4 = np.array([ 0.29252968, -0.21822979, -0.9528974 ,  0.74098008])\n",
    "var4 = np.var(fvec4)\n",
    "\n",
    "\n",
    "param_cov4 = np.array([[ 3.90601455e+30,  3.56030082e+31, -2.65892098e+14],\n",
    "        [ 3.56030082e+31,  3.24518554e+32, -2.42358507e+15],\n",
    "        [-2.65892098e+14, -2.42358507e+15,  2.17787540e-02]])\n",
    "\n",
    "#This function takes the square root of the diagonal of the matrix \n",
    "\n",
    "#The diagonal elements of a covariance matrix are the variances: https://stackoverflow.com/questions/52275542/how-to-calculate-the-standard-error-from-a-variance-covariance-matrix \n",
    "#The square root of them are the standard deviations\n",
    "\n",
    "def stand(cov):\n",
    "    diag = np.diagonal(cov)\n",
    "    sd1 = np.sqrt(diag[0])\n",
    "    sd2 = np.sqrt(diag[1])\n",
    "    sd3 = np.sqrt(diag[2])\n",
    "    return(sd1,sd2,sd3)\n",
    "\n",
    "diag4 = stand(param_cov4*var4) \n",
    "\n",
    "#The last diagonal element corresponds to alpha\n",
    "#So here we are calculating the standard deviation on the slope\n",
    "\n",
    "#print(diag)  #prints standard deviations of all three variances\n",
    "\n",
    "print(diag4[2]) #Just showing the standard devation on the slope\n"
   ]
  },
  {
   "cell_type": "code",
   "execution_count": 23,
   "id": "24dbfd56-bd0a-4581-be35-4e414a05557a",
   "metadata": {},
   "outputs": [
    {
     "data": {
      "image/png": "[encoded data removed]",
      "text/plain": [
       "<Figure size 640x480 with 1 Axes>"
      ]
     },
     "metadata": {},
     "output_type": "display_data"
    }
   ],
   "source": [
    "\n",
    "\n",
    "fig,ax = plt.subplots()\n",
    "mask = df4['Flux'] > 3 * df4['error']  # apply detection threshold\n",
    "if mask.any():  # proceed only if at least one detection\n",
    "    ax.errorbar(df4['Freq'][mask], df4['Flux'][mask], yerr=yerr4, fmt='^')\n",
    "    ax.set_xscale('log')\n",
    "    ax.set_xticks([1, 5, 10, 50], labels=['1', '5', '10', '50'])\n",
    "    ax.set_yscale('log')\n",
    "    ax.set_yticks([1, 5, 10, 20, 50], labels=['1', '5', '10', '20', '50'])\n",
    "    ax.annotate('Day 54.2', xy=(60, 100), xycoords='axes points', size=9, ha='right', va='top', bbox=dict(boxstyle='round', fc='w', ec=\"w\"))\n",
    "    ax.tick_params(axis='both', which='both', direction='in', top=True, right=True)\n",
    "    ax.plot(df4['Freq'][mask], fit_model_weights4(df4['Freq'][mask]), 'r--')\n",
    "    ax.annotate('${\\u03B1 = 0.556 \\\\pm .093}$', xy=(90, 80), xycoords='axes points', size=9, ha='right', va='top', bbox=dict(boxstyle='round', fc='w', ec=\"w\"))\n",
    "\n",
    "plt.show();"
   ]
  },
  {
   "cell_type": "markdown",
   "id": "c29564c6-3741-48c8-b767-ca87f93efd1f",
   "metadata": {},
   "source": [
    "#### Day 62.3"
   ]
  },
  {
   "cell_type": "code",
   "execution_count": 24,
   "id": "e18a0444-aaea-49d8-b9cc-dd3e96959b29",
   "metadata": {},
   "outputs": [],
   "source": [
    "mask = df5['Flux'] > 3 * df5['error']  # apply detection threshold\n",
    "if mask.any():\n",
    "    x5 = df5['Freq'][mask].values.tolist()\n",
    "    y5 = df5['Flux'][mask].values.tolist()\n",
    "    yerr5 = df5['error'][mask].values.tolist()\n"
   ]
  },
  {
   "cell_type": "code",
   "execution_count": 25,
   "id": "43fc9dd1-6d5e-4e4f-a02c-e75d6063ecc3",
   "metadata": {},
   "outputs": [],
   "source": [
    "yerr5 = error(yerr5, x5, y5)"
   ]
  },
  {
   "cell_type": "code",
   "execution_count": 26,
   "id": "bf401227-c5c9-4ad0-8ae5-467cb975a4c8",
   "metadata": {},
   "outputs": [
    {
     "data": {
      "text/plain": [
       "<PowerLaw1D(amplitude=3.07636957, x_0=2.5, alpha=-0.15214467)>"
      ]
     },
     "execution_count": 26,
     "metadata": {},
     "output_type": "execute_result"
    }
   ],
   "source": [
    "PL5 =  PowerLaw1D(amplitude = y5[0], x_0= x5[0], alpha= -1.4,\n",
    "                     bounds={\n",
    "        'amplitude': (0, None),  # Amplitude should be positive\n",
    "        'x_0': (min(x5), max(x5)),  # Frequency must stay within data\n",
    "        'alpha': (-10, 10)  # Keep alpha within a realistic range\n",
    "    }) \n",
    "\n",
    "    #Initialize fitters\n",
    "    #setting calc_uncertainties=True to output errors on measurement \n",
    "\n",
    "fit5 = fitting.LevMarLSQFitter(calc_uncertainties=True)\n",
    "\n",
    "    #Fit the data w/o weights\n",
    "fit_model5 = fit5(PL5, x5, y5)\n",
    "\n",
    "    #weight is 1/error^2\n",
    "y_weight5 = 1/ (np.power(yerr5,2))  \n",
    "\n",
    "    # fit the data using the uncertainties as weights\n",
    "fit_model_weights5 = fit5(PL5, x5, y5, weights=y_weight5)\n",
    "\n",
    "fit_model_weights5"
   ]
  },
  {
   "cell_type": "code",
   "execution_count": 27,
   "id": "e7884f61-6bf9-419d-b514-33aa81353828",
   "metadata": {},
   "outputs": [
    {
     "data": {
      "text/plain": [
       "{'nfev': 38,\n",
       " 'fvec': array([-0.69682489,  1.393771  , -0.15009848, -1.39349029,  0.62693656,\n",
       "         0.65080529]),\n",
       " 'fjac': array([[ 6.81040699e+02, -1.01682926e+02,  8.38094930e+01,\n",
       "          4.87724517e-01,  5.03866405e-01,  1.44638148e-01],\n",
       "        [-1.01682926e+02, -2.16968980e+01,  1.78831008e+01,\n",
       "         -5.48257279e-01, -7.37160939e-01, -2.64981726e-01],\n",
       "        [ 8.38094930e+01,  1.78831008e+01, -6.28036983e-15,\n",
       "          8.48528137e-01,  2.82842712e-01,  1.41421356e-01]]),\n",
       " 'ipvt': array([2, 0, 1], dtype=int32),\n",
       " 'qtf': array([ 5.68505345e-05,  1.21306803e-05, -5.65113293e-01]),\n",
       " 'message': 'Both actual and predicted relative reductions in the sum of squares\\n  are at most 0.000000',\n",
       " 'ierr': 1,\n",
       " 'param_jac': None,\n",
       " 'param_cov': array([[1.72234409e+28, 2.08965572e+28, 1.27424168e+12],\n",
       "        [2.08965572e+28, 2.53530120e+28, 1.54598981e+12],\n",
       "        [1.27424168e+12, 1.54598981e+12, 1.43782015e-04]]),\n",
       " 'njev': 23,\n",
       " 'cov_x': array([[1.72234409e+28, 2.08965572e+28, 1.27424168e+12],\n",
       "        [2.08965572e+28, 2.53530120e+28, 1.54598981e+12],\n",
       "        [1.27424168e+12, 1.54598981e+12, 1.43782015e-04]])}"
      ]
     },
     "execution_count": 27,
     "metadata": {},
     "output_type": "execute_result"
    }
   ],
   "source": [
    "fit5.fit_info"
   ]
  },
  {
   "cell_type": "code",
   "execution_count": 28,
   "id": "d80d05b7-8775-41d2-bd6d-5dab7f3ea743",
   "metadata": {},
   "outputs": [
    {
     "name": "stdout",
     "output_type": "stream",
     "text": [
      "The error/standard deviation is 0.011139434010525572\n"
     ]
    }
   ],
   "source": [
    "#taking fvec\n",
    "fvec5 = np.array([-0.69682489,  1.393771  , -0.15009848, -1.39349029,  0.62693656,\n",
    "         0.65080529])\n",
    "var5 = np.var(fvec5)\n",
    "\n",
    "#taking cov_x\n",
    "cov_x5 = np.array([[1.72234409e+28, 2.08965572e+28, 1.27424168e+12],\n",
    "        [2.08965572e+28, 2.53530120e+28, 1.54598981e+12],\n",
    "        [1.27424168e+12, 1.54598981e+12, 1.43782015e-04]])\n",
    "\n",
    "def stand(cov):\n",
    "    diag = np.diagonal(cov)\n",
    "    sd1 = np.sqrt(diag[0])\n",
    "    sd2 = np.sqrt(diag[1])\n",
    "    sd3 = np.sqrt(diag[2])\n",
    "    return(sd1,sd2,sd3)\n",
    "\n",
    "diag5 = stand(cov_x5*var5) \n",
    "\n",
    "#The last diagonal element corresponds to alpha\n",
    "#So here we are calculating the standard deviation on the slope\n",
    "\n",
    "#print(diag)  #prints standard deviations of all three variances\n",
    "\n",
    "print('The error/standard deviation is', diag5[2]) #Just showing the standard deviation on the slope\n",
    "\n"
   ]
  },
  {
   "cell_type": "code",
   "execution_count": 29,
   "id": "eb2b3000-f798-4e7e-a3f3-4bc7ea095dc6",
   "metadata": {},
   "outputs": [
    {
     "data": {
      "image/png": "[encoded data removed]",
      "text/plain": [
       "<Figure size 640x480 with 1 Axes>"
      ]
     },
     "metadata": {},
     "output_type": "display_data"
    }
   ],
   "source": [
    "\n",
    "\n",
    "\n",
    "fig,ax = plt.subplots()\n",
    "mask = df5['Flux'] > 3 * df5['error']  # apply detection threshold\n",
    "if mask.any():  # proceed only if at least one detection\n",
    "    ax.errorbar(df5['Freq'][mask], df5['Flux'][mask], yerr=yerr5, fmt='^')\n",
    "    ax.set_xscale('log')\n",
    "    ax.set_xticks([1, 5, 10, 50], labels=['1', '5', '10', '50'])\n",
    "    ax.set_yscale('log')\n",
    "    ax.set_yticks([1, 5, 10, 20, 50], labels=['1', '5', '10', '20', '50'])\n",
    "    ax.annotate('Day 62.3', xy=(60, 100), xycoords='axes points', size=9, ha='right', va='top', bbox=dict(boxstyle='round', fc='w', ec=\"w\"))\n",
    "    ax.tick_params(axis='both', which='both', direction='in', top=True, right=True)\n",
    "    ax.plot(df5['Freq'][mask], fit_model_weights5(df5['Freq'][mask]), 'r--')\n",
    "    ax.annotate('${\\u03B1 = 0.152 \\\\pm 0.011}$', xy=(90, 80), xycoords='axes points', size=9, ha='right', va='top', bbox=dict(boxstyle='round', fc='w', ec=\"w\"))\n",
    "\n",
    "plt.show();"
   ]
  },
  {
   "cell_type": "markdown",
   "id": "86eb2aa7-4d5f-4c85-b6a5-7d8b652fef7b",
   "metadata": {},
   "source": [
    "#### Day 81.1"
   ]
  },
  {
   "cell_type": "code",
   "execution_count": 30,
   "id": "aa4d4c5b-de94-4000-a097-563a0445bf96",
   "metadata": {},
   "outputs": [],
   "source": [
    "mask = df7['Flux'] > 3 * df7['error']  # apply detection threshold\n",
    "if mask.any():\n",
    "    x7 = df7['Freq'][mask].values.tolist()\n",
    "    y7 = df7['Flux'][mask].values.tolist()\n",
    "    yerr7 = df7['error'][mask].values.tolist()\n"
   ]
  },
  {
   "cell_type": "code",
   "execution_count": 31,
   "id": "171c24ba-c313-4123-b9e2-d8997c635259",
   "metadata": {},
   "outputs": [],
   "source": [
    "yerr7 = error(yerr7, x7, y7)"
   ]
  },
  {
   "cell_type": "code",
   "execution_count": 32,
   "id": "80f1716f-3cda-45eb-a832-1c61f8b3a929",
   "metadata": {},
   "outputs": [
    {
     "data": {
      "text/plain": [
       "<PowerLaw1D(amplitude=1.59299266, x_0=2.58413552, alpha=-0.20036365)>"
      ]
     },
     "execution_count": 32,
     "metadata": {},
     "output_type": "execute_result"
    }
   ],
   "source": [
    "PL7 =  PowerLaw1D(amplitude = y7[0], x_0= x7[0], alpha= -.1,\n",
    "                     bounds={\n",
    "        'amplitude': (0, None),  # Amplitude should be positive\n",
    "        'x_0': (min(x7), max(x7)),  # Frequency must stay within data\n",
    "        'alpha': (-10, 10)  # Keep alpha within a realistic range\n",
    "    }) \n",
    "\n",
    "    #Initialize fitters\n",
    "    #setting calc_uncertainties=True to output errors on measurement \n",
    "\n",
    "fit7 = fitting.LevMarLSQFitter(calc_uncertainties=True)\n",
    "\n",
    "    #Fit the data w/o weights\n",
    "fit_model7 = fit7(PL7, x7, y7)\n",
    "\n",
    "    #weight is 1/error^2\n",
    "y_weight7 = 1/ (np.power(yerr7,2))  \n",
    "\n",
    "    # fit the data using the uncertainties as weights\n",
    "fit_model_weights7 = fit7(PL7, x7, y7, weights=y_weight7)\n",
    "\n",
    "fit_model_weights7"
   ]
  },
  {
   "cell_type": "code",
   "execution_count": 33,
   "id": "53aad62d-0a73-4c56-ab5f-e95658d30340",
   "metadata": {},
   "outputs": [
    {
     "data": {
      "text/plain": [
       "{'nfev': 16,\n",
       " 'fvec': array([-13.11199981,  10.57278495, -11.00948483,   5.72341089]),\n",
       " 'fjac': array([[-2.54942960e+02,  1.30789575e+02, -1.61735413e+01,\n",
       "         -8.57642980e-01],\n",
       "        [ 1.30789575e+02, -1.55968315e+02,  1.92871640e+01,\n",
       "          3.92013927e-01],\n",
       "        [-1.61735413e+01,  1.92871640e+01, -3.20237283e-15,\n",
       "         -8.32050294e-01]]),\n",
       " 'ipvt': array([2, 0, 1], dtype=int32),\n",
       " 'qtf': array([ 7.96608676e-04, -9.49562444e-04,  5.29572584e+00]),\n",
       " 'message': 'Both actual and predicted relative reductions in the sum of squares\\n  are at most 0.000000',\n",
       " 'ierr': 1,\n",
       " 'param_jac': None,\n",
       " 'param_cov': array([[1.49114610e+27, 1.20583589e+28, 4.36862893e+11],\n",
       "        [1.20583589e+28, 9.75115846e+28, 3.53275212e+12],\n",
       "        [4.36862893e+11, 3.53275212e+12, 1.54192846e-04]]),\n",
       " 'njev': 7,\n",
       " 'cov_x': array([[1.49114610e+27, 1.20583589e+28, 4.36862893e+11],\n",
       "        [1.20583589e+28, 9.75115846e+28, 3.53275212e+12],\n",
       "        [4.36862893e+11, 3.53275212e+12, 1.54192846e-04]])}"
      ]
     },
     "execution_count": 33,
     "metadata": {},
     "output_type": "execute_result"
    }
   ],
   "source": [
    "fit7.fit_info"
   ]
  },
  {
   "cell_type": "code",
   "execution_count": 34,
   "id": "1ced157a-0bfd-4768-8391-69785458475d",
   "metadata": {},
   "outputs": [
    {
     "name": "stdout",
     "output_type": "stream",
     "text": [
      "The standard deviation is 0.12759875867303577\n"
     ]
    }
   ],
   "source": [
    "#taking fvec\n",
    "fvec7 = np.array([-13.11199981,  10.57278495, -11.00948483,   5.72341089])\n",
    "var7 = np.var(fvec7)\n",
    "\n",
    "param_cov7= np.array([[1.49114610e+27, 1.20583589e+28, 4.36862893e+11],\n",
    "        [1.20583589e+28, 9.75115846e+28, 3.53275212e+12],\n",
    "        [4.36862893e+11, 3.53275212e+12, 1.54192846e-04]])\n",
    "\n",
    "def stand(cov):\n",
    "    diag = np.diagonal(cov)\n",
    "    sd1 = np.sqrt(diag[0])\n",
    "    sd2 = np.sqrt(diag[1])\n",
    "    sd3 = np.sqrt(diag[2])\n",
    "    return(sd1,sd2,sd3)\n",
    "\n",
    "diag7 = stand(param_cov7*var7) \n",
    "\n",
    "#The last diagonal element corresponds to alpha\n",
    "#So here we are calculating the standard deviation on the slope\n",
    "\n",
    "#print(diag)  #prints standard deviations of all three variances\n",
    "\n",
    "print(\"The standard deviation is\", diag7[2]) #Just showing the standard devation on the slope"
   ]
  },
  {
   "cell_type": "code",
   "execution_count": 35,
   "id": "c16bacd3-be05-4cf6-8118-cffab6f958fc",
   "metadata": {},
   "outputs": [
    {
     "data": {
      "image/png": "[encoded data removed]",
      "text/plain": [
       "<Figure size 640x480 with 1 Axes>"
      ]
     },
     "metadata": {},
     "output_type": "display_data"
    }
   ],
   "source": [
    "fig,ax = plt.subplots()\n",
    "mask = df7['Flux'] > 3 * df7['error']  # apply detection threshold\n",
    "if mask.any():  # proceed only if at least one detection\n",
    "    ax.errorbar(df7['Freq'][mask], df7['Flux'][mask], yerr=df7['error'][mask], fmt='^')\n",
    "    ax.set_xscale('log')\n",
    "    ax.set_xticks([1, 5, 10, 50], labels=['1', '5', '10', '50'])\n",
    "    ax.set_yscale('log')\n",
    "    ax.set_yticks([1, 5, 10, 20, 50], labels=['1', '5', '10', '20', '50'])\n",
    "    ax.annotate('Day 81.1', xy=(60, 100), xycoords='axes points', size=9, ha='right', va='top', bbox=dict(boxstyle='round', fc='w', ec=\"w\"))\n",
    "    ax.tick_params(axis='both', which='both', direction='in', top=True, right=True)\n",
    "    ax.plot(df7['Freq'][mask], fit_model_weights7(df7['Freq'][mask]), 'r--')\n",
    "    ax.annotate('${\\u03B1  = 0.200 \\\\pm 0.128}$', xy=(90, 80), xycoords='axes points', size=9, ha='right', va='top', bbox=dict(boxstyle='round', fc='w', ec=\"w\"))\n",
    "    #ax.annotate('${\\u03B1 2 = 0.02 \\\\pm 0}$', xy=(90, 60), xycoords='axes points', size=9, ha='right', va='top', bbox=dict(boxstyle='round', fc='w', ec=\"w\"))\n",
    "plt.show();"
   ]
  },
  {
   "cell_type": "markdown",
   "id": "84c17955-3f11-4b7a-bbd4-41c1e9acc72b",
   "metadata": {},
   "source": [
    "### Day 90.3"
   ]
  },
  {
   "cell_type": "code",
   "execution_count": 36,
   "id": "0e3a4fa1-b76f-4415-9821-0b9103201975",
   "metadata": {},
   "outputs": [],
   "source": [
    "mask = df8['Flux'] > 3 * df8['error']  # apply detection threshold\n",
    "if mask.any():\n",
    "    x8 = df8['Freq'][mask].values.tolist()\n",
    "    y8 = df8['Flux'][mask].values.tolist()\n",
    "    yerr8 = df8['error'][mask].values.tolist()\n"
   ]
  },
  {
   "cell_type": "code",
   "execution_count": 37,
   "id": "f7130b61-c0f2-4220-a876-3bbdfd72822b",
   "metadata": {},
   "outputs": [],
   "source": [
    "yerr8 = error(yerr8, x8, y8)"
   ]
  },
  {
   "cell_type": "code",
   "execution_count": 38,
   "id": "f0043dd0-d8a4-4f76-b215-c26a8ea0e07d",
   "metadata": {},
   "outputs": [
    {
     "data": {
      "text/plain": [
       "<PowerLaw1D(amplitude=1.36238442, x_0=20.68737228, alpha=0.13802844)>"
      ]
     },
     "execution_count": 38,
     "metadata": {},
     "output_type": "execute_result"
    }
   ],
   "source": [
    "PL8 =  PowerLaw1D(amplitude = y8[0], x_0= x8[0], alpha= .1,\n",
    "                     bounds={\n",
    "        'amplitude': (0, None),  # Amplitude should be positive\n",
    "        'x_0': (min(x8), max(x8)),  # Frequency must stay within data\n",
    "        'alpha': (-10, 10)  # Keep alpha within a realistic range\n",
    "    }) \n",
    "\n",
    "    #Initialize fitters\n",
    "    #setting calc_uncertainties=True to output errors on measurement \n",
    "\n",
    "fit8 = fitting.LevMarLSQFitter(calc_uncertainties=True)\n",
    "\n",
    "    #Fit the data w/o weights\n",
    "fit_model8 = fit8(PL8, x8, y8)\n",
    "\n",
    "    #weight is 1/error^2\n",
    "y_weight8 = 1/ (np.power(yerr8,2))  \n",
    "\n",
    "    # fit the data using the uncertainties as weights\n",
    "fit_model_weights8 = fit8(PL8, x8, y8, weights=y_weight8)\n",
    "\n",
    "fit_model_weights8"
   ]
  },
  {
   "cell_type": "code",
   "execution_count": 39,
   "id": "1ca8f527-cbe1-453e-abfc-ee052c30027c",
   "metadata": {},
   "outputs": [
    {
     "data": {
      "text/plain": [
       "{'nfev': 10,\n",
       " 'fvec': array([ 0.74430799, -3.1148969 ,  2.44731592]),\n",
       " 'fjac': array([[-4.79864026e+01,  2.89017318e+00, -4.34768964e-01],\n",
       "        [ 2.89017318e+00,  1.86233822e+01, -1.70611910e-16],\n",
       "        [-4.34768964e-01, -6.14551948e-17, -8.66711738e-18]]),\n",
       " 'ipvt': array([0, 2, 1], dtype=int32),\n",
       " 'qtf': array([ 9.53978401e-07, -4.08675693e-04, -4.03062430e+00]),\n",
       " 'message': 'Both actual and predicted relative reductions in the sum of squares\\n  are at most 0.000000',\n",
       " 'ierr': 1,\n",
       " 'param_jac': None,\n",
       " 'param_cov': None,\n",
       " 'njev': 4,\n",
       " 'cov_x': array([[ 1.09277645e+30, -1.20612129e+32, -3.98007291e+14],\n",
       "        [-1.20612129e+32,  1.33122248e+34,  4.39289362e+16],\n",
       "        [-3.98007291e+14,  4.39289362e+16,  1.47844105e-01]])}"
      ]
     },
     "execution_count": 39,
     "metadata": {},
     "output_type": "execute_result"
    }
   ],
   "source": [
    "fit8.fit_info"
   ]
  },
  {
   "cell_type": "code",
   "execution_count": 40,
   "id": "693f0c2e-930b-47ee-9be2-32bf2d6ae47b",
   "metadata": {},
   "outputs": [
    {
     "name": "stdout",
     "output_type": "stream",
     "text": [
      "The standard deviation is 0.3845050129712225\n"
     ]
    }
   ],
   "source": [
    "#taking fvec\n",
    "fvec8 = np.array([ 0.74430799, -3.1148969 ,  2.44731592])\n",
    "var8 = np.var(fvec8)\n",
    "\n",
    "\n",
    "param_cov8 = np.array([[ 1.09277645e+30, -1.20612129e+32, -3.98007291e+14],\n",
    "        [-1.20612129e+32,  1.33122248e+34,  4.39289362e+16],\n",
    "        [-3.98007291e+14,  4.39289362e+16,  1.47844105e-01]])\n",
    "\n",
    "def stand(cov):\n",
    "    diag = np.diagonal(cov)\n",
    "    sd1 = np.sqrt(diag[0])\n",
    "    sd2 = np.sqrt(diag[1])\n",
    "    sd3 = np.sqrt(diag[2])\n",
    "    return(sd1,sd2,sd3)\n",
    "\n",
    "diag8 = stand(param_cov8) \n",
    "\n",
    "#The last diagonal element corresponds to alpha\n",
    "#So here we are calculating the standard deviation on the slope\n",
    "\n",
    "#print(diag)  #prints standard deviations of all three variances\n",
    "\n",
    "print(\"The standard deviation is\", diag8[2]) #Just showing the standard devation on the slope"
   ]
  },
  {
   "cell_type": "code",
   "execution_count": 41,
   "id": "66d3c287-b2c5-4120-a845-b7e1da289eb6",
   "metadata": {},
   "outputs": [
    {
     "data": {
      "image/png": "[encoded data removed]",
      "text/plain": [
       "<Figure size 640x480 with 1 Axes>"
      ]
     },
     "metadata": {},
     "output_type": "display_data"
    }
   ],
   "source": [
    "\n",
    "\n",
    "fig,ax = plt.subplots()\n",
    "mask = df8['Flux'] > 3 * df8['error']  # apply detection threshold\n",
    "if mask.any():  # proceed only if at least one detection\n",
    "    ax.errorbar(df8['Freq'][mask], df8['Flux'][mask], yerr=yerr8, fmt='^')\n",
    "    ax.set_xscale('log')\n",
    "    ax.set_xticks([1, 5, 10, 50], labels=['1', '5', '10', '50'])\n",
    "    ax.set_yscale('log')\n",
    "    ax.set_yticks([1, 5, 10, 20, 50], labels=['1', '5', '10', '20', '50'])\n",
    "    ax.annotate('Day 90.3', xy=(60, 100), xycoords='axes points', size=9, ha='right', va='top', bbox=dict(boxstyle='round', fc='w', ec=\"w\"))\n",
    "    ax.tick_params(axis='both', which='both', direction='in', top=True, right=True)\n",
    "    ax.plot(df8['Freq'][mask], fit_model_weights8(df8['Freq'][mask]), 'r--')\n",
    "    ax.annotate('${\\u03B1 = -0.138 \\\\pm 0.385}$', xy=(90, 80), xycoords='axes points', size=9, ha='right', va='top', bbox=dict(boxstyle='round', fc='w', ec=\"w\"))\n",
    "\n",
    "plt.show();"
   ]
  },
  {
   "cell_type": "markdown",
   "id": "9ee8907d-30dc-42f3-9f00-612720e9a65a",
   "metadata": {},
   "source": [
    "#### Day 110"
   ]
  },
  {
   "cell_type": "code",
   "execution_count": 42,
   "id": "99b6f06d-04b2-42ab-8534-58601785c709",
   "metadata": {},
   "outputs": [
    {
     "name": "stdout",
     "output_type": "stream",
     "text": [
      "[1.2555, 1.7715, 4.74, 7.59, 8.53, 11.38]\n",
      "[0.34, 0.56, 0.521, 0.528, 0.556, 0.571]\n",
      "[0.071, 0.072, 0.033, 0.025, 0.031, 0.06]\n"
     ]
    }
   ],
   "source": [
    "mask = df9['Flux'] > 3 * df9['error']  # apply detection threshold\n",
    "if mask.any():\n",
    "    x9 = df9['Freq'][mask].values.tolist()\n",
    "    y9 = df9['Flux'][mask].values.tolist()\n",
    "    yerr9 = df9['error'][mask].values.tolist()\n",
    "\n",
    "#need two for this one?\n",
    "print(x9)\n",
    "\n",
    "print(y9)\n",
    "\n",
    "print(yerr9)"
   ]
  },
  {
   "cell_type": "code",
   "execution_count": 43,
   "id": "56614881-2277-4e4f-89df-0ef2aad3e645",
   "metadata": {},
   "outputs": [],
   "source": [
    "yerr9 = error(yerr9, x9, y9)"
   ]
  },
  {
   "cell_type": "code",
   "execution_count": 44,
   "id": "8d77f2dc-4b09-488b-a795-f66d365b9dc8",
   "metadata": {},
   "outputs": [
    {
     "data": {
      "text/plain": [
       "<PowerLaw1D(amplitude=0.84486011, x_0=326.7591545, alpha=-0.11934235)>"
      ]
     },
     "execution_count": 44,
     "metadata": {},
     "output_type": "execute_result"
    }
   ],
   "source": [
    "\n",
    "\n",
    "PL9 =  PowerLaw1D(amplitude = y9[0], x_0= x9[0], alpha= -1.5) \n",
    "\n",
    "#Initialize fitters\n",
    "#setting calc_uncertainties=True to output errors on measurement \n",
    "\n",
    "fit9 = fitting.LevMarLSQFitter(calc_uncertainties=True)\n",
    "\n",
    "#Fit the data w/o weights\n",
    "fit_model9 = fit9(PL9, x9, y9)\n",
    "\n",
    "\n",
    "#weight is 1/error^2\n",
    "y_weight9 = 1/ (np.power(yerr9, 2))  \n",
    "\n",
    "# fit the data using the uncertainties as weights\n",
    "fit_model_weights9 = fit9(PL9, x9, y9, weights=y_weight9)\n",
    "\n",
    "fit_model_weights9\n"
   ]
  },
  {
   "cell_type": "code",
   "execution_count": 45,
   "id": "ff424599-094b-4286-9153-e59004bd8d92",
   "metadata": {},
   "outputs": [
    {
     "data": {
      "text/plain": [
       "{'nfev': 32,\n",
       " 'fvec': array([ 17.83016487, -17.88168451,  -6.34947989,   8.50156847,\n",
       "         -5.30316615,  -0.73698273]),\n",
       " 'fjac': array([[-2.36801767e+03, -7.15122711e+02,  2.20664360e-01,\n",
       "          6.48099736e-01,  4.85525131e-01,  1.16959938e-01],\n",
       "        [-7.15122711e+02,  6.72446827e+01, -2.07495925e-02,\n",
       "         -6.15007743e-01, -6.33001407e-01, -2.67302487e-01],\n",
       "        [ 2.20664360e-01, -2.07495925e-02, -2.70694691e-17,\n",
       "          8.33093737e-01,  2.56336534e-01, -9.61262004e-02]]),\n",
       " 'ipvt': array([2, 0, 1], dtype=int32),\n",
       " 'qtf': array([-9.51631712e-04, -4.31971036e-04,  1.94247861e+01]),\n",
       " 'message': 'Both actual and predicted relative reductions in the sum of squares\\n  are at most 0.000000',\n",
       " 'ierr': 1,\n",
       " 'param_jac': None,\n",
       " 'param_cov': array([[1.29940272e+26, 4.21106696e+29, 6.41238877e+10],\n",
       "        [4.21106696e+29, 1.36471047e+33, 2.07810851e+14],\n",
       "        [6.41238877e+10, 2.07810851e+14, 5.19912455e-05]]),\n",
       " 'njev': 23,\n",
       " 'cov_x': array([[1.29940272e+26, 4.21106696e+29, 6.41238877e+10],\n",
       "        [4.21106696e+29, 1.36471047e+33, 2.07810851e+14],\n",
       "        [6.41238877e+10, 2.07810851e+14, 5.19912455e-05]])}"
      ]
     },
     "execution_count": 45,
     "metadata": {},
     "output_type": "execute_result"
    }
   ],
   "source": [
    "fit9.fit_info"
   ]
  },
  {
   "cell_type": "code",
   "execution_count": 46,
   "id": "04a59c74-6384-4038-a8c2-4cd3192e6bc3",
   "metadata": {},
   "outputs": [
    {
     "name": "stdout",
     "output_type": "stream",
     "text": [
      "The standard deviation 1 is 0.08201929299485404\n"
     ]
    }
   ],
   "source": [
    "#taking fvec\n",
    "fvec9 = np.array([ 17.83016487, -17.88168451,  -6.34947989,   8.50156847,\n",
    "         -5.30316615,  -0.73698273])\n",
    "var9 = np.var(fvec9)\n",
    "\n",
    "\n",
    "param_cov9 = np.array([[1.29940272e+26, 4.21106696e+29, 6.41238877e+10],\n",
    "        [4.21106696e+29, 1.36471047e+33, 2.07810851e+14],\n",
    "        [6.41238877e+10, 2.07810851e+14, 5.19912455e-05]])\n",
    "\n",
    "def stand(cov):\n",
    "    diag = np.diagonal(cov)\n",
    "    sd1 = np.sqrt(diag[0])\n",
    "    sd2 = np.sqrt(diag[1])\n",
    "    sd3 = np.sqrt(diag[2]) #error 1\n",
    "    #sd4 = np.sqrt(diag[3]) #error 2\n",
    "    return(sd1,sd2,sd3)\n",
    "\n",
    "diag9 = stand(param_cov9*var9) \n",
    "\n",
    "#The last diagonal element corresponds to alpha\n",
    "#So here we are calculating the standard deviation on the slope\n",
    "\n",
    "#print(diag)  #prints standard deviations of all three variances\n",
    "\n",
    "print(\"The standard deviation 1 is\", diag9[2])#, 'the second is', diag9[3]) #Just showing the standard devation on the slope\n"
   ]
  },
  {
   "cell_type": "code",
   "execution_count": 47,
   "id": "557967c7-34a4-41b0-a8d9-49793cc5eccb",
   "metadata": {},
   "outputs": [
    {
     "data": {
      "image/png": "[encoded data removed]",
      "text/plain": [
       "<Figure size 640x480 with 1 Axes>"
      ]
     },
     "metadata": {},
     "output_type": "display_data"
    }
   ],
   "source": [
    "fig,ax = plt.subplots()\n",
    "mask = df9['Flux'] > 3 * df9['error']  # apply detection threshold\n",
    "if mask.any():  # proceed only if at least one detection\n",
    "    ax.errorbar(df9['Freq'][mask], df9['Flux'][mask], yerr=yerr9, fmt='^')\n",
    "    ax.set_xscale('log')\n",
    "    ax.set_xticks([1, 5, 10, 50], labels=['1', '5', '10', '50'])\n",
    "    ax.set_yscale('log')\n",
    "    ax.set_yticks([1, 5, 10, 20, 50], labels=['1', '5', '10', '20', '50'])\n",
    "    ax.annotate('Day 110.0', xy=(60, 100), xycoords='axes points', size=9, ha='right', va='top', bbox=dict(boxstyle='round', fc='w', ec=\"w\"))\n",
    "    ax.tick_params(axis='both', which='both', direction='in', top=True, right=True)\n",
    "    ax.plot(df9['Freq'][mask], fit_model_weights9(df9['Freq'][mask]), 'r--')\n",
    "    #ax.annotate('${\\u03B1 1 = 1.22 \\\\pm 0}$', xy=(90, 80), xycoords='axes points', size=9, ha='right', va='top', bbox=dict(boxstyle='round', fc='w', ec=\"w\"))\n",
    "    ax.annotate('${\\u03B1  = 0.119 \\\\pm 0.082}$', xy=(90, 60), xycoords='axes points', size=9, ha='right', va='top', bbox=dict(boxstyle='round', fc='w', ec=\"w\"))\n",
    "plt.show();"
   ]
  },
  {
   "cell_type": "markdown",
   "id": "d3bf5408-ab64-46c0-9569-2bb7efebbf01",
   "metadata": {},
   "source": [
    "#### Day 113.3"
   ]
  },
  {
   "cell_type": "code",
   "execution_count": 48,
   "id": "bfb686a5-2e88-4fa1-b89a-3002786fe9b9",
   "metadata": {},
   "outputs": [],
   "source": [
    "mask = df10['Flux'] > 3 * df10['error']  # apply detection threshold\n",
    "if mask.any():\n",
    "    x10 = df10['Freq'][mask].values.tolist()\n",
    "    y10 = df10['Flux'][mask].values.tolist()\n",
    "    yerr10 = df10['error'][mask].values.tolist()\n"
   ]
  },
  {
   "cell_type": "code",
   "execution_count": 49,
   "id": "2f612c91-b950-498b-8f38-a0864193f7d5",
   "metadata": {},
   "outputs": [],
   "source": [
    "yerr10 = error(yerr10, x10, y10)"
   ]
  },
  {
   "cell_type": "code",
   "execution_count": 50,
   "id": "65e601f9-c37d-425c-9035-06be575a1d64",
   "metadata": {},
   "outputs": [
    {
     "data": {
      "text/plain": [
       "<PowerLaw1D(amplitude=0.41609816, x_0=15.55049262, alpha=0.13623982)>"
      ]
     },
     "execution_count": 50,
     "metadata": {},
     "output_type": "execute_result"
    }
   ],
   "source": [
    "PL10 =  PowerLaw1D(amplitude = y10[0], x_0= x10[0], alpha= -.2,\n",
    "                     bounds={\n",
    "        'amplitude': (0, None),  # Amplitude should be positive\n",
    "        'x_0': (min(x10), max(x10)),  # Frequency must stay within data\n",
    "        'alpha': (-10, 10)  # Keep alpha within a realistic range\n",
    "    }) \n",
    "\n",
    "    #Initialize fitters\n",
    "    #setting calc_uncertainties=True to output errors on measurement \n",
    "\n",
    "fit10 = fitting.LevMarLSQFitter(calc_uncertainties=True)\n",
    "\n",
    "    #Fit the data w/o weights\n",
    "fit_model10 = fit10(PL10, x10, y10)\n",
    "\n",
    "    #weight is 1/error^2\n",
    "y_weight10 = 1/ (np.power(yerr10,2))  \n",
    "\n",
    "    # fit the data using the uncertainties as weights\n",
    "fit_model_weights10 = fit10(PL10, x10, y10, weights=y_weight10)\n",
    "\n",
    "fit_model_weights10"
   ]
  },
  {
   "cell_type": "code",
   "execution_count": 51,
   "id": "50e898ae-250b-440e-8ebb-2cd40e2d9b71",
   "metadata": {},
   "outputs": [
    {
     "data": {
      "text/plain": [
       "{'nfev': 17,\n",
       " 'fvec': array([-16.59718272,   7.70244769, -10.14011599,  -2.19409562,\n",
       "          7.31781032,  -5.62485455,  -7.31297795,   9.35560296,\n",
       "          5.51391956]),\n",
       " 'fjac': array([[-1.72594306e+03, -5.05428965e+02, -6.29190515e+00,\n",
       "          5.78457265e-02,  9.29550312e-02,  3.83546752e-01,\n",
       "          5.45655755e-01,  6.75154458e-01,  2.03503732e-01],\n",
       "        [-5.05428965e+02,  2.33542203e+02,  1.84311059e-14,\n",
       "          2.64967743e-01, -4.34467050e-01, -6.99196192e-01,\n",
       "         -1.78505560e-01,  6.95785025e-02,  2.00633260e-01],\n",
       "        [-6.29190515e+00, -2.07486001e-16,  1.00386101e-15,\n",
       "         -2.86161126e-03,  1.15287470e-01,  4.49932382e-01,\n",
       "          1.92783285e-03,  8.84010902e-01, -2.16680864e-03]]),\n",
       " 'ipvt': array([0, 2, 1], dtype=int32),\n",
       " 'qtf': array([ 5.11041540e-04,  3.69222288e-08, -1.95837481e+01]),\n",
       " 'message': 'Both actual and predicted relative reductions in the sum of squares\\n  are at most 0.000000',\n",
       " 'ierr': 1,\n",
       " 'param_jac': None,\n",
       " 'param_cov': array([[ 1.31875533e+25, -3.61749988e+27, -3.21389699e+09],\n",
       "        [-3.61749988e+27,  9.92322463e+29,  8.81609478e+11],\n",
       "        [-3.21389699e+09,  8.81609478e+11,  1.91177565e-05]]),\n",
       " 'njev': 8,\n",
       " 'cov_x': array([[ 1.31875533e+25, -3.61749988e+27, -3.21389699e+09],\n",
       "        [-3.61749988e+27,  9.92322463e+29,  8.81609478e+11],\n",
       "        [-3.21389699e+09,  8.81609478e+11,  1.91177565e-05]])}"
      ]
     },
     "execution_count": 51,
     "metadata": {},
     "output_type": "execute_result"
    }
   ],
   "source": [
    "fit10.fit_info"
   ]
  },
  {
   "cell_type": "code",
   "execution_count": 52,
   "id": "b12bf856-afa1-40bb-a175-c20609ed6145",
   "metadata": {},
   "outputs": [
    {
     "name": "stdout",
     "output_type": "stream",
     "text": [
      "The standard deviation is 0.038092058059872674\n"
     ]
    }
   ],
   "source": [
    "#taking fvec\n",
    "fvec10 = np.array([-16.59718272,   7.70244769, -10.14011599,  -2.19409562,\n",
    "          7.31781032,  -5.62485455,  -7.31297795,   9.35560296,\n",
    "          5.51391956])\n",
    "var10 = np.var(fvec10)\n",
    "\n",
    "\n",
    "param_cov10= np.array([[ 1.31875533e+25, -3.61749988e+27, -3.21389699e+09],\n",
    "        [-3.61749988e+27,  9.92322463e+29,  8.81609478e+11],\n",
    "        [-3.21389699e+09,  8.81609478e+11,  1.91177565e-05]])\n",
    "\n",
    "def stand(cov):\n",
    "    diag = np.diagonal(cov)\n",
    "    sd1 = np.sqrt(diag[0])\n",
    "    sd2 = np.sqrt(diag[1])\n",
    "    sd3 = np.sqrt(diag[2])\n",
    "    return(sd1,sd2,sd3)\n",
    "\n",
    "diag10 = stand(param_cov10*var10) \n",
    "\n",
    "#The last diagonal element corresponds to alpha\n",
    "#So here we are calculating the standard deviation on the slope\n",
    "\n",
    "#print(diag)  #prints standard deviations of all three variances\n",
    "\n",
    "print(\"The standard deviation is\", diag10[2]) #Just showing the standard devation on the slope\n"
   ]
  },
  {
   "cell_type": "code",
   "execution_count": 53,
   "id": "b793be59-a137-4249-a15e-b0281efa5b0b",
   "metadata": {},
   "outputs": [
    {
     "data": {
      "image/png": "[encoded data removed]",
      "text/plain": [
       "<Figure size 640x480 with 1 Axes>"
      ]
     },
     "metadata": {},
     "output_type": "display_data"
    }
   ],
   "source": [
    "\n",
    "fig,ax = plt.subplots()\n",
    "mask = df10['Flux'] > 3 * df10['error']  # apply detection threshold\n",
    "if mask.any():  # proceed only if at least one detection\n",
    "    ax.errorbar(df10['Freq'][mask], df10['Flux'][mask], yerr=yerr10, fmt='^')\n",
    "    ax.set_xscale('log')\n",
    "    ax.set_xticks([1, 5, 10, 50], labels=['1', '5', '10', '50'])\n",
    "    ax.set_yscale('log')\n",
    "    ax.set_yticks([1, 5, 10, 20, 50], labels=['1', '5', '10', '20', '50'])\n",
    "    ax.annotate('Day 113.3', xy=(60, 100), xycoords='axes points', size=9, ha='right', va='top', bbox=dict(boxstyle='round', fc='w', ec=\"w\"))\n",
    "    ax.tick_params(axis='both', which='both', direction='in', top=True, right=True)\n",
    "    ax.plot(df10['Freq'][mask], fit_model_weights10(df10['Freq'][mask]), 'r--')\n",
    "    ax.annotate('${\\u03B1 = -0.136 \\\\pm 0.038}$', xy=(90, 80), xycoords='axes points', size=9, ha='right', va='top', bbox=dict(boxstyle='round', fc='w', ec=\"w\"))\n",
    "\n",
    "plt.show();"
   ]
  },
  {
   "cell_type": "markdown",
   "id": "0ad5efc2-0d65-4e89-bea4-c0f1f5469dce",
   "metadata": {},
   "source": [
    "### Day 129"
   ]
  },
  {
   "cell_type": "code",
   "execution_count": 54,
   "id": "4bca4c95-ca44-4a5a-92ed-84f85c0f71ad",
   "metadata": {},
   "outputs": [
    {
     "name": "stdout",
     "output_type": "stream",
     "text": [
      "[1.36, 1.78, 4.608, 7.458, 8.5, 11.4]\n",
      "[0.244, 0.431, 0.347, 0.292, 0.289, 0.368]\n",
      "[0.049, 0.048, 0.028, 0.016, 0.018, 0.031]\n"
     ]
    }
   ],
   "source": [
    "mask = df11['Flux'] > 3 * df11['error']  # apply detection threshold\n",
    "if mask.any():\n",
    "    x11 = df11['Freq'][mask].values.tolist()\n",
    "    y11 = df11['Flux'][mask].values.tolist()\n",
    "    yerr11 = df11['error'][mask].values.tolist()\n",
    "\n",
    "#need two for this one?\n",
    "print(x11)\n",
    "\n",
    "print(y11)\n",
    "\n",
    "print(yerr11)"
   ]
  },
  {
   "cell_type": "code",
   "execution_count": 55,
   "id": "97b483c2-00f1-4214-bc14-081d871976cd",
   "metadata": {},
   "outputs": [],
   "source": [
    "yerr11 = error(yerr11, x11, y11)"
   ]
  },
  {
   "cell_type": "code",
   "execution_count": 56,
   "id": "697bad8d-0a15-4721-9e75-6af0ea930e2a",
   "metadata": {},
   "outputs": [
    {
     "data": {
      "text/plain": [
       "<PowerLaw1D(amplitude=0.34160598, x_0=1.59882625, alpha=0.08982225)>"
      ]
     },
     "execution_count": 56,
     "metadata": {},
     "output_type": "execute_result"
    }
   ],
   "source": [
    "\n",
    "PL11 =  PowerLaw1D(amplitude = y11[0], x_0= x11[0], alpha= 1.4,\n",
    "                     bounds={\n",
    "        'amplitude': (0, None),  # Amplitude should be positive\n",
    "        'x_0': (min(x11), max(x11)),  # Frequency must stay within data\n",
    "        'alpha': (-10, 10)  # Keep alpha within a realistic range\n",
    "    }) \n",
    "\n",
    "    #Initialize fitters\n",
    "    #setting calc_uncertainties=True to output errors on measurement \n",
    "\n",
    "fit11 = fitting.LevMarLSQFitter(calc_uncertainties=True)\n",
    "\n",
    "    #Fit the data w/o weights\n",
    "fit_model11 = fit11(PL11, x11, y11)\n",
    "\n",
    "    #weight is 1/error^2\n",
    "y_weight11 = 1/ (np.power(yerr11,2))  \n",
    "\n",
    "    # fit the data using the uncertainties as weights\n",
    "fit_model_weights11 = fit11(PL11, x11, y11, weights=y_weight11)\n",
    "\n",
    "fit_model_weights11"
   ]
  },
  {
   "cell_type": "code",
   "execution_count": 57,
   "id": "582e6bbd-09af-4e1a-ad69-5349bee30c1b",
   "metadata": {},
   "outputs": [
    {
     "data": {
      "text/plain": [
       "{'nfev': 21,\n",
       " 'fvec': array([ 40.24033202, -33.47486624, -33.52678226,  11.66975944,\n",
       "          9.38627989, -35.26615219]),\n",
       " 'fjac': array([[-2.67845654e+03,  1.35881238e+03, -5.14035023e+01,\n",
       "          6.92977930e-01,  6.03076678e-01,  1.35173543e-01],\n",
       "        [ 1.35881238e+03, -3.29553154e+02,  1.29203449e-13,\n",
       "         -5.15547668e-01, -6.67639866e-01, -2.59812415e-01],\n",
       "        [-5.14035023e+01, -9.81423682e-15,  9.31109476e-15,\n",
       "          4.52307133e-01,  7.42172723e-01,  3.41460567e-02]]),\n",
       " 'ipvt': array([0, 2, 1], dtype=int32),\n",
       " 'qtf': array([2.40500347e-03, 2.79178538e-04, 5.49465917e+01]),\n",
       " 'message': 'Both actual and predicted relative reductions in the sum of squares\\n  are at most 0.000000',\n",
       " 'ierr': 1,\n",
       " 'param_jac': None,\n",
       " 'param_cov': array([[ 4.24829550e+24, -2.21363806e+26,  6.59231078e+09],\n",
       "        [-2.21363806e+26,  1.15344929e+28, -3.43502236e+11],\n",
       "        [ 6.59231078e+09, -3.43502236e+11,  1.94373019e-05]]),\n",
       " 'njev': 12,\n",
       " 'cov_x': array([[ 4.24829550e+24, -2.21363806e+26,  6.59231078e+09],\n",
       "        [-2.21363806e+26,  1.15344929e+28, -3.43502236e+11],\n",
       "        [ 6.59231078e+09, -3.43502236e+11,  1.94373019e-05]])}"
      ]
     },
     "execution_count": 57,
     "metadata": {},
     "output_type": "execute_result"
    }
   ],
   "source": [
    "fit11.fit_info"
   ]
  },
  {
   "cell_type": "code",
   "execution_count": 58,
   "id": "4226b22c-42ff-45f4-8bf3-411889ba5296",
   "metadata": {},
   "outputs": [
    {
     "name": "stdout",
     "output_type": "stream",
     "text": [
      "The standard deviation is 0.12793183423595939\n"
     ]
    }
   ],
   "source": [
    "#taking fvec\n",
    "fvec11 = np.array([ 40.24033202, -33.47486624, -33.52678226,  11.66975944,\n",
    "          9.38627989, -35.26615219])\n",
    "var11 = np.var(fvec11)\n",
    "\n",
    "\n",
    "param_cov11= np.array([[ 4.24829550e+24, -2.21363806e+26,  6.59231078e+09],\n",
    "        [-2.21363806e+26,  1.15344929e+28, -3.43502236e+11],\n",
    "        [ 6.59231078e+09, -3.43502236e+11,  1.94373019e-05]])\n",
    "\n",
    "def stand(cov):\n",
    "    diag = np.diagonal(cov)\n",
    "    sd1 = np.sqrt(diag[0])\n",
    "    sd2 = np.sqrt(diag[1])\n",
    "    sd3 = np.sqrt(diag[2])\n",
    "    return(sd1,sd2,sd3)\n",
    "\n",
    "diag11 = stand(param_cov11*var11) \n",
    "\n",
    "#The last diagonal element corresponds to alpha\n",
    "#So here we are calculating the standard deviation on the slope\n",
    "\n",
    "#print(diag)  #prints standard deviations of all three variances\n",
    "\n",
    "print(\"The standard deviation is\", diag11[2]) #Just showing the standard devation on the slope\n"
   ]
  },
  {
   "cell_type": "code",
   "execution_count": 59,
   "id": "7f190fb6-ea82-4f41-bdc9-899b7f48e609",
   "metadata": {},
   "outputs": [
    {
     "data": {
      "image/png": "[encoded data removed]",
      "text/plain": [
       "<Figure size 640x480 with 1 Axes>"
      ]
     },
     "metadata": {},
     "output_type": "display_data"
    }
   ],
   "source": [
    "\n",
    "\n",
    "fig,ax = plt.subplots()\n",
    "mask = df11['Flux'] > 3 * df11['error']  # apply detection threshold\n",
    "if mask.any():  # proceed only if at least one detection\n",
    "    ax.errorbar(df11['Freq'][mask], df11['Flux'][mask], yerr=yerr11, fmt='^')\n",
    "    ax.set_xscale('log')\n",
    "    ax.set_xticks([1, 5, 10, 50], labels=['1', '5', '10', '50'])\n",
    "    ax.set_yscale('log')\n",
    "    ax.set_yticks([1, 5, 10, 20, 50], labels=['1', '5', '10', '20', '50'])\n",
    "    ax.annotate('Day 129', xy=(60, 100), xycoords='axes points', size=9, ha='right', va='top', bbox=dict(boxstyle='round', fc='w', ec=\"w\"))\n",
    "    ax.tick_params(axis='both', which='both', direction='in', top=True, right=True)\n",
    "    ax.plot(df11['Freq'][mask], fit_model_weights11(df11['Freq'][mask]), 'r--')\n",
    "    ax.annotate('${\\u03B1 = -.090 \\\\pm 0.128}$', xy=(90, 80), xycoords='axes points', size=9, ha='right', va='top', bbox=dict(boxstyle='round', fc='w', ec=\"w\"))\n",
    "\n",
    "plt.show();"
   ]
  },
  {
   "cell_type": "markdown",
   "id": "3f0591cc-e0e2-486a-a0f6-dd503f178e57",
   "metadata": {},
   "source": [
    "### Day 136.2"
   ]
  },
  {
   "cell_type": "code",
   "execution_count": 60,
   "id": "2f6c1820-3924-4d10-a6e3-9ca79837a9c0",
   "metadata": {},
   "outputs": [
    {
     "name": "stdout",
     "output_type": "stream",
     "text": [
      "[13.3, 17.45, 27.5]\n",
      "[0.188, 0.11, 0.106]\n",
      "[0.019, 0.029, 0.027]\n"
     ]
    }
   ],
   "source": [
    "mask = df12['Flux'] > 3 * df12['error']  # apply detection threshold\n",
    "if mask.any():\n",
    "    x12 = df12['Freq'][mask].values.tolist()\n",
    "    y12 = df12['Flux'][mask].values.tolist()\n",
    "    yerr12 = df12['error'][mask].values.tolist()\n",
    "\n",
    "print(x12)\n",
    "\n",
    "print(y12)\n",
    "\n",
    "print(yerr12)\n"
   ]
  },
  {
   "cell_type": "code",
   "execution_count": 61,
   "id": "83162429-9b79-45c9-9ac2-6ddfac33107e",
   "metadata": {},
   "outputs": [],
   "source": [
    "yerr12 = error(yerr12, x12, y12)"
   ]
  },
  {
   "cell_type": "code",
   "execution_count": 62,
   "id": "c708a41e-9429-4bf0-87f0-20087685f58f",
   "metadata": {},
   "outputs": [
    {
     "data": {
      "text/plain": [
       "<PowerLaw1D(amplitude=0.17979278, x_0=13.3, alpha=0.90988234)>"
      ]
     },
     "execution_count": 62,
     "metadata": {},
     "output_type": "execute_result"
    }
   ],
   "source": [
    "PL12 =  PowerLaw1D(amplitude = y12[0], x_0= x12[0], alpha= 2,\n",
    "                     bounds={\n",
    "        'amplitude': (0, None),  # Amplitude should be positive\n",
    "        'x_0': (min(x12), max(x12)),  # Frequency must stay within data\n",
    "        'alpha': (-10, 10)  # Keep alpha within a realistic range\n",
    "    }) \n",
    "\n",
    "    #Initialize fitters\n",
    "    #setting calc_uncertainties=True to output errors on measurement \n",
    "\n",
    "fit12 = fitting.LevMarLSQFitter(calc_uncertainties=True)\n",
    "\n",
    "    #Fit the data w/o weights\n",
    "fit_model12 = fit12(PL12, x12, y12)\n",
    "\n",
    "    #weight is 1/error^2\n",
    "y_weight12 = 1/ (np.power(yerr12,2))  \n",
    "\n",
    "    # fit the data using the uncertainties as weights\n",
    "fit_model_weights12 = fit12(PL12, x12, y12, weights=y_weight12)\n",
    "\n",
    "fit_model_weights12"
   ]
  },
  {
   "cell_type": "code",
   "execution_count": 63,
   "id": "0303f42a-e73f-4941-81c0-7c699ebe8aea",
   "metadata": {},
   "outputs": [
    {
     "data": {
      "text/plain": [
       "{'nfev': 13,\n",
       " 'fvec': array([-11.48763362,  31.63113194, -15.64478137]),\n",
       " 'fjac': array([[-1.70935968e+03,  5.06190513e+01, -2.13125793e+01],\n",
       "        [ 5.06190513e+01,  7.51263997e+01, -5.37915963e-12],\n",
       "        [-2.13125793e+01,  1.28202658e-15, -3.31333402e-15]]),\n",
       " 'ipvt': array([0, 2, 1], dtype=int32),\n",
       " 'qtf': array([-6.27907526e-04,  7.87192648e-04,  3.71113651e+01]),\n",
       " 'message': 'Both actual and predicted relative reductions in the sum of squares\\n  are at most 0.000000',\n",
       " 'ierr': 1,\n",
       " 'param_jac': None,\n",
       " 'param_cov': None,\n",
       " 'njev': 6,\n",
       " 'cov_x': array([[ 1.41603723e+25, -1.13572220e+27,  1.93810172e+10],\n",
       "        [-1.13572220e+27,  9.10897605e+28, -1.55444017e+12],\n",
       "        [ 1.93810172e+10, -1.55444017e+12,  2.03706470e-04]])}"
      ]
     },
     "execution_count": 63,
     "metadata": {},
     "output_type": "execute_result"
    }
   ],
   "source": [
    "fit12.fit_info"
   ]
  },
  {
   "cell_type": "code",
   "execution_count": 64,
   "id": "e1ea9c8c-22b0-49c4-8f86-4ac3f9faf84c",
   "metadata": {},
   "outputs": [
    {
     "name": "stdout",
     "output_type": "stream",
     "text": [
      "The error/standard deviation is 0.30505802585230724\n"
     ]
    }
   ],
   "source": [
    "#taking fvec\n",
    "fvec12 = np.array([-11.48763362,  31.63113194, -15.64478137])\n",
    "var12 = np.var(fvec12)\n",
    "\n",
    "#taking cov_x\n",
    "cov_x12 = np.array([[ 1.41603723e+25, -1.13572220e+27,  1.93810172e+10],\n",
    "        [-1.13572220e+27,  9.10897605e+28, -1.55444017e+12],\n",
    "        [ 1.93810172e+10, -1.55444017e+12,  2.03706470e-04]])\n",
    "\n",
    "def stand(cov):\n",
    "    diag = np.diagonal(cov)\n",
    "    sd1 = np.sqrt(diag[0])\n",
    "    sd2 = np.sqrt(diag[1])\n",
    "    sd3 = np.sqrt(diag[2])\n",
    "    return(sd1,sd2,sd3)\n",
    "\n",
    "diag12 = stand(cov_x12*var12) \n",
    "\n",
    "#The last diagonal element corresponds to alpha\n",
    "#So here we are calculating the standard deviation on the slope\n",
    "\n",
    "#print(diag)  #prints standard deviations of all three variances\n",
    "print('The error/standard deviation is', diag12[2]) #Just showing the standard deviation on the slope"
   ]
  },
  {
   "cell_type": "code",
   "execution_count": 65,
   "id": "46934bd0-7a97-4f26-bb53-3239b5fae497",
   "metadata": {},
   "outputs": [
    {
     "data": {
      "image/png": "[encoded data removed]",
      "text/plain": [
       "<Figure size 640x480 with 1 Axes>"
      ]
     },
     "metadata": {},
     "output_type": "display_data"
    }
   ],
   "source": [
    "\n",
    "\n",
    "fig,ax = plt.subplots()\n",
    "mask = df12['Flux'] > 3 * df12['error']  # apply detection threshold\n",
    "if mask.any():  # proceed only if at least one detection\n",
    "    ax.errorbar(df12['Freq'][mask], df12['Flux'][mask], yerr=yerr12, fmt='^')\n",
    "    ax.set_xscale('log')\n",
    "    ax.set_xticks([1, 5, 10, 50], labels=['1', '5', '10', '50'])\n",
    "    ax.set_yscale('log')\n",
    "    ax.set_yticks([1, 5, 10, 20, 50], labels=['1', '5', '10', '20', '50'])\n",
    "    ax.annotate('Day 136.2', xy=(60, 100), xycoords='axes points', size=9, ha='right', va='top', bbox=dict(boxstyle='round', fc='w', ec=\"w\"))\n",
    "    ax.tick_params(axis='both', which='both', direction='in', top=True, right=True)\n",
    "    ax.plot(df12['Freq'][mask], fit_model_weights12(df12['Freq'][mask]), 'r--')\n",
    "    ax.annotate('${\\u03B1 = -.910 \\\\pm .305}$', xy=(90, 80), xycoords='axes points', size=9, ha='right', va='top', bbox=dict(boxstyle='round', fc='w', ec=\"w\"))\n",
    "\n",
    "plt.show();"
   ]
  },
  {
   "cell_type": "markdown",
   "id": "2de5659b-6c31-4f95-bdc2-1ddd548b039d",
   "metadata": {},
   "source": [
    "### Day 139.9"
   ]
  },
  {
   "cell_type": "code",
   "execution_count": 66,
   "id": "336c72af-f669-4788-80cd-5a2478c85d4e",
   "metadata": {},
   "outputs": [],
   "source": [
    "mask = df13['Flux'] > 3 * df13['error']  # apply detection threshold\n",
    "if mask.any():\n",
    "    x13 = df13['Freq'][mask].values.tolist()\n",
    "    y13 = df13['Flux'][mask].values.tolist()\n",
    "    yerr13 = df13['error'][mask].values.tolist()"
   ]
  },
  {
   "cell_type": "code",
   "execution_count": 67,
   "id": "d2677ec5-1f40-4ad1-8baf-63a8d988dd8b",
   "metadata": {},
   "outputs": [],
   "source": [
    "yerr13 = error(yerr13, x13, y13)"
   ]
  },
  {
   "cell_type": "code",
   "execution_count": 68,
   "id": "77749ee3-f12e-4167-9557-0ed8c12b2520",
   "metadata": {},
   "outputs": [
    {
     "data": {
      "text/plain": [
       "<PowerLaw1D(amplitude=0.225, x_0=1.33, alpha=0.394665)>"
      ]
     },
     "execution_count": 68,
     "metadata": {},
     "output_type": "execute_result"
    }
   ],
   "source": [
    "#Since this day has only two data points, I have to make x_0 fixed in order to run the powerlaw1d. \n",
    "#this is done in the code below so I can use the function for the rest of the points\n",
    "\n",
    "\n",
    "\n",
    "PL13 =  PowerLaw1D(amplitude = y13[0], x_0= x13[0], alpha= -1.4,\n",
    "                     bounds={\n",
    "        'amplitude': (0, None),  # Amplitude should be positive\n",
    "        #'x_0': (x3[0], x3[0]),  # Frequency must stay within data\n",
    "        'alpha': (-10, 10)  # Keep alpha within a realistic range\n",
    "    },\n",
    "                 fixed={'x_0': True}) \n",
    "\n",
    "    #Initialize fitters\n",
    "    #setting calc_uncertainties=True to output errors on measurement \n",
    "\n",
    "fit = fitting.LevMarLSQFitter(calc_uncertainties=True)\n",
    "\n",
    "    #Fit the data w/o weights\n",
    "fit_model13 = fit(PL13, x13, y13)\n",
    "\n",
    "    #weight is 1/error^2\n",
    "y_weight13 = 1/ (np.power(yerr13,2))  \n",
    "\n",
    "    # fit the data using the uncertainties as weights\n",
    "fit_model_weights13 = fit(PL13, x13, y13, weights=y_weight13)\n",
    "\n",
    "fit_model_weights13\n"
   ]
  },
  {
   "cell_type": "code",
   "execution_count": 69,
   "id": "905d369b-e3a8-4f61-a372-2b0b69f96c0c",
   "metadata": {},
   "outputs": [
    {
     "data": {
      "text/plain": [
       "{'nfev': 13,\n",
       " 'fvec': array([-11.48763362,  31.63113194, -15.64478137]),\n",
       " 'fjac': array([[-1.70935968e+03,  5.06190513e+01, -2.13125793e+01],\n",
       "        [ 5.06190513e+01,  7.51263997e+01, -5.37915963e-12],\n",
       "        [-2.13125793e+01,  1.28202658e-15, -3.31333402e-15]]),\n",
       " 'ipvt': array([0, 2, 1], dtype=int32),\n",
       " 'qtf': array([-6.27907526e-04,  7.87192648e-04,  3.71113651e+01]),\n",
       " 'message': 'Both actual and predicted relative reductions in the sum of squares\\n  are at most 0.000000',\n",
       " 'ierr': 1,\n",
       " 'param_jac': None,\n",
       " 'param_cov': None,\n",
       " 'njev': 6,\n",
       " 'cov_x': array([[ 1.41603723e+25, -1.13572220e+27,  1.93810172e+10],\n",
       "        [-1.13572220e+27,  9.10897605e+28, -1.55444017e+12],\n",
       "        [ 1.93810172e+10, -1.55444017e+12,  2.03706470e-04]])}"
      ]
     },
     "execution_count": 69,
     "metadata": {},
     "output_type": "execute_result"
    }
   ],
   "source": [
    "fit12.fit_info"
   ]
  },
  {
   "cell_type": "code",
   "execution_count": 70,
   "id": "4973828d-8a41-413f-a04e-ac2cb6d2f19d",
   "metadata": {},
   "outputs": [
    {
     "name": "stdout",
     "output_type": "stream",
     "text": [
      "The error/standard deviation is 0.30505802585230724\n"
     ]
    }
   ],
   "source": [
    "#taking fvec\n",
    "fvec12 = np.array([-11.48763362,  31.63113194, -15.64478137])\n",
    "var12 = np.var(fvec12)\n",
    "\n",
    "#taking cov_x\n",
    "cov_x12 = np.array([[ 1.41603723e+25, -1.13572220e+27,  1.93810172e+10],\n",
    "        [-1.13572220e+27,  9.10897605e+28, -1.55444017e+12],\n",
    "        [ 1.93810172e+10, -1.55444017e+12,  2.03706470e-04]])\n",
    "\n",
    "def stand(cov):\n",
    "    diag = np.diagonal(cov)\n",
    "    sd1 = np.sqrt(diag[0])\n",
    "    sd2 = np.sqrt(diag[1])\n",
    "    sd3 = np.sqrt(diag[2])\n",
    "    return(sd1,sd2,sd3)\n",
    "\n",
    "diag12 = stand(cov_x12*var12) \n",
    "\n",
    "#The last diagonal element corresponds to alpha\n",
    "#So here we are calculating the standard deviation on the slope\n",
    "\n",
    "#print(diag)  #prints standard deviations of all three variances\n",
    "\n",
    "print('The error/standard deviation is', diag12[2]) #Just showing the standard deviation on the slope\n",
    "\n"
   ]
  },
  {
   "cell_type": "code",
   "execution_count": 71,
   "id": "c5f62d20-f7ad-483c-a098-3b942c63e333",
   "metadata": {},
   "outputs": [
    {
     "data": {
      "text/plain": [
       "(np.float64(-0.3946649952020133), np.float64(1.0314718791047546))"
      ]
     },
     "execution_count": 71,
     "metadata": {},
     "output_type": "execute_result"
    }
   ],
   "source": [
    "two_points(y13, x13, yerr13)"
   ]
  },
  {
   "cell_type": "code",
   "execution_count": 72,
   "id": "8b251036-483a-475b-b6e7-09cda086f168",
   "metadata": {},
   "outputs": [
    {
     "data": {
      "image/png": "[encoded data removed]",
      "text/plain": [
       "<Figure size 640x480 with 1 Axes>"
      ]
     },
     "metadata": {},
     "output_type": "display_data"
    }
   ],
   "source": [
    "fig,ax = plt.subplots()\n",
    "mask = df13['Flux'] > 3 * df13['error']  # apply detection threshold\n",
    "if mask.any():  # proceed only if at least one detection\n",
    "    ax.errorbar(df13['Freq'][mask], df13['Flux'][mask], yerr=df13['error'][mask], fmt='^')\n",
    "    ax.set_xscale('log')\n",
    "    ax.set_xticks([1, 5, 10, 50], labels=['1', '5', '10', '50'])\n",
    "    ax.set_yscale('log')\n",
    "    ax.set_yticks([1, 5, 10, 20, 50], labels=['1', '5', '10', '20', '50'])\n",
    "    ax.annotate('Day 139.9', xy=(60, 100), xycoords='axes points', size=9, ha='right', va='top', bbox=dict(boxstyle='round', fc='w', ec=\"w\"))\n",
    "    ax.tick_params(axis='both', which='both', direction='in', top=True, right=True)\n",
    "    ax.plot(df13['Freq'][mask], fit_model_weights13(df13['Freq'][mask]), 'r--')\n",
    "    ax.annotate('${\\u03B1 = -0.395 \\\\pm .305}$', xy=(90, 80), xycoords='axes points', size=9, ha='right', va='top', bbox=dict(boxstyle='round', fc='w', ec=\"w\"))\n",
    "\n",
    "plt.show();"
   ]
  },
  {
   "cell_type": "markdown",
   "id": "28f21c2e-cfa6-4bc7-b129-1f946aba55d9",
   "metadata": {},
   "source": [
    "## Now to put all of them together into one big plot"
   ]
  },
  {
   "cell_type": "code",
   "execution_count": 77,
   "id": "5415eeec-aa9e-4701-be98-4296a8a84c80",
   "metadata": {},
   "outputs": [
    {
     "data": {
      "image/png": "[encoded data removed]",
      "text/plain": [
       "<Figure size 600x1200 with 10 Axes>"
      ]
     },
     "metadata": {},
     "output_type": "display_data"
    }
   ],
   "source": [
    "#making the figure (5,2) is the (rows, columns)\n",
    "fig, ax = plt.subplots(5, 2, sharex='all', sharey='all')\n",
    "fig.set_size_inches(6, 12)\n",
    "fig.subplots_adjust(hspace=0, wspace=0)\n",
    "\n",
    "mask = df3['Flux'] > 3 * df3['error']  # apply detection threshold\n",
    "if mask.any():  # proceed only if at least one detection\n",
    "    ax[0,0].errorbar(df3['Freq'][mask], df3['Flux'][mask], yerr=yerr3, fmt='^')\n",
    "    ax[0,0].set_xscale('log')\n",
    "    ax[0,0].set_xticks([1, 5, 10, 50], labels=['1', '5', '10', '50'], fontsize = 20)\n",
    "    ax[0,0].set_yscale('log')\n",
    "    ax[0,0].set_yticks([1, 5, 10, 20, 50], labels=['1', '5', '10', '20', '50'], fontsize = 20)\n",
    "    ax[0,0].annotate('Day 46.4', xy=(65, 120), xycoords='axes points', size=11, ha='right', va='top', bbox=dict(boxstyle='round', fc='w', ec=\"w\"))\n",
    "    ax[0,0].tick_params(which='minor', length =4, direction = 'in', top=True, labeltop=False, bottom=True, labelbottom=False, right = True,labelright = False)\n",
    "    ax[0,0].tick_params(which='major', length=7, direction = 'in', width =1, top=True, labeltop=False, bottom=True, labelbottom=True, right = True, labelright = False)\n",
    "\n",
    "    ax[0,0].plot(df3['Freq'][mask], fit_model_weights3(df3['Freq'][mask]), 'r--')\n",
    "    ax[0,0].annotate('${\\u03B1 = 0.773 \\\\pm 0.252}$', xy=(114, 100), xycoords='axes points', size=11, ha='right', va='top', bbox=dict(boxstyle='round', fc='w', ec=\"w\"))\n",
    "\n",
    "mask = df4['Flux'] > 3 * df4['error']  # apply detection threshold\n",
    "if mask.any():  # proceed only if at least one detection\n",
    "    ax[0,1].errorbar(df4['Freq'][mask], df4['Flux'][mask], yerr=yerr4, fmt='^')\n",
    "    ax[0,1].set_xscale('log')\n",
    "    ax[0,1].set_xticks([1, 5, 10, 50], labels=['1', '5', '10', '50'], fontsize = 20)\n",
    "    ax[0,1].set_yscale('log')\n",
    "    ax[0,1].set_yticks([1, 5, 10, 20, 50], labels=['1', '5', '10', '20', '50'], fontsize = 20)\n",
    "    ax[0,1].annotate('Day 54.2', xy=(65, 120), xycoords='axes points', size=11, ha='right', va='top', bbox=dict(boxstyle='round', fc='w', ec=\"w\"))\n",
    "    ax[0,1].tick_params(which='minor', length =4, direction = 'in', top=True, labeltop=False, bottom=True, labelbottom=False, right = True,labelright = False)\n",
    "    ax[0,1].tick_params(which='major', length=7, direction = 'in', width =1, top=True, labeltop=False, bottom=True, labelbottom=True, right = True, labelright = False)\n",
    "\n",
    "    ax[0,1].plot(df4['Freq'][mask], fit_model_weights4(df4['Freq'][mask]), 'r--')\n",
    "    ax[0,1].annotate('${\\u03B1 = 0.556 \\\\pm 0.093}$', xy=(114, 100), xycoords='axes points', size=11, ha='right', va='top', bbox=dict(boxstyle='round', fc='w', ec=\"w\"))\n",
    "\n",
    "mask = df5['Flux'] > 3 * df5['error']  # apply detection threshold\n",
    "if mask.any():  # proceed only if at least one detection\n",
    "    ax[1,0].errorbar(df5['Freq'][mask], df5['Flux'][mask], yerr=yerr5, fmt='^')\n",
    "    ax[1,0].set_xscale('log')\n",
    "    ax[1,0].set_xticks([1, 5, 10, 50], labels=['1', '5', '10', '50'], fontsize = 20)\n",
    "    ax[1,0].set_yscale('log')\n",
    "    ax[1,0].set_yticks([1, 5, 10, 20, 50], labels=['1', '5', '10', '20', '50'], fontsize = 20)\n",
    "    ax[1,0].annotate('Day 62.3', xy=(65, 120), xycoords='axes points', size=11, ha='right', va='top', bbox=dict(boxstyle='round', fc='w', ec=\"w\"))\n",
    "    ax[1,0].tick_params(which='minor', length =4, direction = 'in', top=True, labeltop=False, bottom=True, labelbottom=False, right = True,labelright = False)\n",
    "    ax[1,0].tick_params(which='major', length=7, direction = 'in', width =1, top=True, labeltop=False, bottom=True, labelbottom=True, right = True, labelright = False)\n",
    "\n",
    "    ax[1,0].plot(df5['Freq'][mask], fit_model_weights5(df5['Freq'][mask]), 'r--')\n",
    "    ax[1,0].annotate('${\\u03B1 = 0.152 \\\\pm 0.011}$', xy=(114, 60), xycoords='axes points', size=11, ha='right', va='top', bbox=dict(boxstyle='round', fc='w', ec=\"w\"))\n",
    "\n",
    "mask = df7['Flux'] > 3 * df7['error']  # apply detection threshold\n",
    "if mask.any():  # proceed only if at least one detection\n",
    "    ax[1,1].errorbar(df7['Freq'][mask], df7['Flux'][mask], yerr=yerr7, fmt='^')\n",
    "    ax[1,1].set_xscale('log')\n",
    "    ax[1,1].set_xticks([1, 5, 10, 50], labels=['1', '5', '10', '50'], fontsize = 20)\n",
    "    ax[1,1].set_yscale('log')\n",
    "    ax[1,1].set_yticks([1, 5, 10, 20, 50], labels=['1', '5', '10', '20', '50'], fontsize = 20)\n",
    "    ax[1,1].annotate('Day 81.1', xy=(65, 120), xycoords='axes points', size=11, ha='right', va='top', bbox=dict(boxstyle='round', fc='w', ec=\"w\"))\n",
    "    ax[1,1].tick_params(which='minor', length =4, direction = 'in', top=True, labeltop=False, bottom=True, labelbottom=False, right = True,labelright = False)\n",
    "    ax[1,1].tick_params(which='major', length=7, direction = 'in', width =1, top=True, labeltop=False, bottom=True, labelbottom=True, right = True, labelright = False)\n",
    "\n",
    "    ax[1,1].plot(df7['Freq'][mask], fit_model_weights7(df7['Freq'][mask]), 'r--')\n",
    "    ax[1,1].annotate('${\\u03B1 = 0.200 \\\\pm 0.128}$', xy=(114, 60), xycoords='axes points', size=11, ha='right', va='top', bbox=dict(boxstyle='round', fc='w', ec=\"w\"))\n",
    "    #ax[1,1].annotate('${\\u03B1 2 = 0.02 \\\\pm 0}$', xy=(90, 40), xycoords='axes points', size=9, ha='right', va='top', bbox=dict(boxstyle='round', fc='w', ec=\"w\"))\n",
    "\n",
    "mask = df8['Flux'] > 3 * df8['error']  # apply detection threshold\n",
    "if mask.any():  # proceed only if at least one detection\n",
    "    ax[2,0].errorbar(df8['Freq'][mask], df8['Flux'][mask], yerr=yerr8, fmt='^')\n",
    "    ax[2,0].set_xscale('log')\n",
    "    ax[2,0].set_xticks([1, 5, 10, 50], labels=['1', '5', '10', '50'], fontsize = 20)\n",
    "    ax[2,0].set_yscale('log')\n",
    "    ax[2,0].set_yticks([1, 5, 10, 20, 50], labels=['1', '5', '10', '20', '50'], fontsize = 20)\n",
    "    ax[2,0].annotate('Day 90.3', xy=(65, 120), xycoords='axes points', size=11, ha='right', va='top', bbox=dict(boxstyle='round', fc='w', ec=\"w\"))\n",
    "    ax[2,0].tick_params(which='minor', length =4, direction = 'in', top=True, labeltop=False, bottom=True, labelbottom=False, right = True,labelright = False)\n",
    "    ax[2,0].tick_params(which='major', length=7, direction = 'in', width =1, top=True, labeltop=False, bottom=True, labelbottom=True, right = True, labelright = False)\n",
    "\n",
    "    ax[2,0].plot(df8['Freq'][mask], fit_model_weights8(df8['Freq'][mask]), 'r--')\n",
    "    ax[2,0].annotate('${\\u03B1 = -0.138 \\\\pm 0.385}$', xy=(124, 100), xycoords='axes points', size=11, ha='right', va='top', bbox=dict(boxstyle='round', fc='w', ec=\"w\"))\n",
    "\n",
    "mask = df9['Flux'] > 3 * df9['error']  # apply detection threshold\n",
    "if mask.any():  # proceed only if at least one detection\n",
    "    ax[2,1].errorbar(df9['Freq'][mask], df9['Flux'][mask], yerr=yerr9, fmt='^')\n",
    "    ax[2,1].set_xscale('log')\n",
    "    ax[2,1].set_xticks([1, 5, 10, 50], labels=['1', '5', '10', '50'], fontsize = 20)\n",
    "    ax[2,1].set_yscale('log')\n",
    "    ax[2,1].set_yticks([1, 5, 10, 20, 50], labels=['1', '5', '10', '20', '50'], fontsize = 20)\n",
    "    ax[2,1].annotate('Day 110.0', xy=(65, 120), xycoords='axes points', size=11, ha='right', va='top', bbox=dict(boxstyle='round', fc='w', ec=\"w\"))\n",
    "    ax[2,1].tick_params(which='minor', length =4, direction = 'in', top=True, labeltop=False, bottom=True, labelbottom=False, right = True,labelright = False)\n",
    "    ax[2,1].tick_params(which='major', length=7, direction = 'in', width =1, top=True, labeltop=False, bottom=True, labelbottom=True, right = True, labelright = False)\n",
    "\n",
    "    ax[2,1].plot(df9['Freq'][mask], fit_model_weights9(df9['Freq'][mask]), 'r--')\n",
    "    ax[2,1].annotate('${\\u03B1 = 0.119 \\\\pm 0.082}$', xy=(104, 100), xycoords='axes points', size=11, ha='right', va='top', bbox=dict(boxstyle='round', fc='w', ec=\"w\"))\n",
    "    #ax[2,1].annotate('${\\u03B1 2 = 0.06 \\\\pm 0}$', xy=(84, 80), xycoords='axes points', size=9, ha='right', va='top', bbox=dict(boxstyle='round', fc='w', ec=\"w\"))\n",
    "\n",
    "mask = df10['Flux'] > 3 * df10['error']  # apply detection threshold\n",
    "if mask.any():  # proceed only if at least one detection\n",
    "    ax[3,0].errorbar(df10['Freq'][mask], df10['Flux'][mask], yerr=yerr10, fmt='^')\n",
    "    ax[3,0].set_xscale('log')\n",
    "    ax[3,0].set_xticks([1, 5, 10, 50], labels=['1', '5', '10', '50'], fontsize = 20)\n",
    "    ax[3,0].set_yscale('log')\n",
    "    ax[3,0].set_yticks([1, 5, 10, 20, 50], labels=['1', '5', '10', '20', '50'], fontsize = 20)\n",
    "    ax[3,0].annotate('Day 113.3', xy=(65, 120), xycoords='axes points', size=11, ha='right', va='top', bbox=dict(boxstyle='round', fc='w', ec=\"w\"))\n",
    "    ax[3,0].tick_params(which='minor', length =4, direction = 'in', top=True, labeltop=False, bottom=True, labelbottom=False, right = True,labelright = False)\n",
    "    ax[3,0].tick_params(which='major', length=7, direction = 'in', width =1, top=True, labeltop=False, bottom=True, labelbottom=True, right = True, labelright = False)\n",
    "\n",
    "    ax[3,0].plot(df10['Freq'][mask], fit_model_weights10(df10['Freq'][mask]), 'r--')\n",
    "    #ax[3,0].annotate('${\\u03B1 1 = 0.07 \\\\pm 0}$', xy=(90, 80), xycoords='axes points', size=9, ha='right', va='top', bbox=dict(boxstyle='round', fc='w', ec=\"w\"))\n",
    "    ax[3,0].annotate('${\\u03B1 = -0.136 \\\\pm 0.038}$', xy=(114, 100), xycoords='axes points', size=11, ha='right', va='top', bbox=dict(boxstyle='round', fc='w', ec=\"w\"))\n",
    "\n",
    "mask = df11['Flux'] > 3 * df11['error']  # apply detection threshold\n",
    "if mask.any():  # proceed only if at least one detection\n",
    "    ax[3,1].errorbar(df11['Freq'][mask], df11['Flux'][mask], yerr=yerr11, fmt='^')\n",
    "    ax[3,1].set_xscale('log')\n",
    "    ax[3,1].set_xticks([1, 5, 10, 50], labels=['1', '5', '10', '50'], fontsize = 20)\n",
    "    ax[3,1].set_yscale('log')\n",
    "    ax[3,1].set_yticks([1, 5, 10, 20, 50], labels=['1', '5', '10', '20', '50'], fontsize = 20)\n",
    "    ax[3,1].annotate('Day 129', xy=(65, 120), xycoords='axes points', size=11, ha='right', va='top', bbox=dict(boxstyle='round', fc='w', ec=\"w\"))\n",
    "    ax[3,1].tick_params(which='minor', length =4, direction = 'in', top=True, labeltop=False, bottom=True, labelbottom=False, right = True,labelright = False)\n",
    "    ax[3,1].tick_params(which='major', length=7, direction = 'in', width =1, top=True, labeltop=False, bottom=True, labelbottom=True, right = True, labelright = False)\n",
    "\n",
    "    ax[3,1].plot(df11['Freq'][mask], fit_model_weights11(df11['Freq'][mask]), 'r--')\n",
    "    ax[3,1].annotate('${\\u03B1 = -0.090 \\\\pm 0.128}$', xy=(124, 100), xycoords='axes points', size=11, ha='right', va='top', bbox=dict(boxstyle='round', fc='w', ec=\"w\"))\n",
    "\n",
    "mask = df12['Flux'] > 3 * df12['error']  # apply detection threshold\n",
    "if mask.any():  # proceed only if at least one detection\n",
    "    ax[4,0].errorbar(df12['Freq'][mask], df12['Flux'][mask], yerr=yerr12, fmt='^')\n",
    "    ax[4,0].set_xscale('log')\n",
    "    ax[4,0].set_xticks([1, 5, 10, 50], labels=['1', '5', '10', '50'], fontsize = 20)\n",
    "    ax[4,0].set_yscale('log')\n",
    "    ax[4,0].set_yticks([1, 5, 10, 20, 50], labels=['1', '5', '10', '20', '50'], fontsize = 20)\n",
    "    ax[4,0].annotate('Day 136.2', xy=(65, 120), xycoords='axes points', size=11, ha='right', va='top', bbox=dict(boxstyle='round', fc='w', ec=\"w\"))\n",
    "    ax[4,0].tick_params(which='minor', length =4, direction = 'in', top=True, labeltop=False, bottom=True, labelbottom=False, right = True,labelright = False)\n",
    "    ax[4,0].tick_params(which='major', length=7, direction = 'in', width =1, top=True, labeltop=False, bottom=True, labelbottom=True, right = True, labelright = False)\n",
    "\n",
    "    ax[4,0].plot(df12['Freq'][mask], fit_model_weights12(df12['Freq'][mask]), 'r--')\n",
    "    ax[4,0].annotate('${\\u03B1 = -0.910 \\\\pm 0.305}$', xy=(114, 100), xycoords='axes points', size=11, ha='right', va='top', bbox=dict(boxstyle='round', fc='w', ec=\"w\"))\n",
    "\n",
    "mask = df13['Flux'] > 3 * df13['error']  # apply detection threshold\n",
    "if mask.any():  # proceed only if at least one detection\n",
    "    ax[4,1].errorbar(df13['Freq'][mask], df13['Flux'][mask], yerr=yerr13, fmt='^')\n",
    "    ax[4,1].set_xscale('log')\n",
    "    ax[4,1].set_xticks([1, 10, 50], labels=['1', '10', '50'], fontsize = 20)\n",
    "    ax[4,1].set_yscale('log')\n",
    "    ax[4,1].set_yticks([1, 5, 10, 20, 50], labels=['1', '5', '10', '20', '50'], fontsize = 20)\n",
    "    ax[4,1].annotate('Day 139.9', xy=(65, 120), xycoords='axes points', size=11, ha='right', va='top', bbox=dict(boxstyle='round', fc='w', ec=\"w\"))\n",
    "    ax[4,1].tick_params(which='minor', length =4, direction = 'in', top=True, labeltop=False, bottom=True, labelbottom=False, right = True,labelright = False)\n",
    "    ax[4,1].tick_params(which='major', length=7, direction = 'in', width =1, top=True, labeltop=False, bottom=True, labelbottom=True, right = True, labelright = False)\n",
    "\n",
    "    ax[4,1].plot(df13['Freq'][mask], fit_model_weights13(df13['Freq'][mask]), 'r--')\n",
    "    ax[4,1].annotate('${\\u03B1 = -0.395 \\\\pm 0.305}$', xy=(114, 100), xycoords='axes points', size=11, ha='right', va='top', bbox=dict(boxstyle='round', fc='w', ec=\"w\"))\n",
    "\n",
    "\n",
    "plt.rcParams['ytick.labelsize']= 20\n",
    "fig.supxlabel(\"Frequency (GHz)\", fontsize = 25)\n",
    "fig.supylabel(\"Flux Density (mJy)\", fontsize =25)\n",
    "plt.savefig(\"V5589_SI.png\")\n",
    "#fig.tight_layout()\n",
    "plt.show();"
   ]
  },
  {
   "cell_type": "code",
   "execution_count": null,
   "id": "4ea28030-c88c-478c-9c15-f16f44471c2b",
   "metadata": {},
   "outputs": [],
   "source": []
  },
  {
   "cell_type": "code",
   "execution_count": null,
   "id": "1c8033ec-085c-4fb4-9274-39876f97b6da",
   "metadata": {},
   "outputs": [],
   "source": []
  },
  {
   "cell_type": "code",
   "execution_count": null,
   "id": "11657eae-0053-44e1-80bd-f1bee4e8c567",
   "metadata": {},
   "outputs": [],
   "source": []
  },
  {
   "cell_type": "code",
   "execution_count": null,
   "id": "68a945c3-c5e9-4424-b5e3-a436b1e1a401",
   "metadata": {},
   "outputs": [],
   "source": []
  }
 ],
 "metadata": {
  "kernelspec": {
   "display_name": "anaconda-2025.04-py3.11",
   "language": "python",
   "name": "conda-env-anaconda-2025.04-py3.11"
  },
  "language_info": {
   "codemirror_mode": {
    "name": "ipython",
    "version": 3
   },
   "file_extension": ".py",
   "mimetype": "text/x-python",
   "name": "python",
   "nbconvert_exporter": "python",
   "pygments_lexer": "ipython3",
   "version": "3.11.11"
  }
 },
 "nbformat": 4,
 "nbformat_minor": 5
}
