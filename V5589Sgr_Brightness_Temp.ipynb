{
 "cells": [
  {
   "cell_type": "markdown",
   "id": "905e877f-36a3-4d65-8579-cfdddbadf305",
   "metadata": {},
   "source": [
    "## V5589 Sgr Brightness Temperature Work"
   ]
  },
  {
   "cell_type": "code",
   "execution_count": 1,
   "id": "adb3507d-67b8-48ac-be70-a142ba61094e",
   "metadata": {},
   "outputs": [],
   "source": [
    "#imports\n",
    "import numpy as np\n",
    "import pandas as pd\n",
    "import astropy.units as u\n",
    "import astropy.constants as const\n",
    "import matplotlib.pyplot as plt\n",
    "%matplotlib inline"
   ]
  },
  {
   "cell_type": "code",
   "execution_count": 2,
   "id": "6df22175-f3a2-42eb-88f5-1b5866c36bf1",
   "metadata": {},
   "outputs": [],
   "source": [
    "#data split up by frequencies/\n",
    "f1_35 = ([56526.7,\t19,\t1.26,\t-0.571,\t0.276,\t1.00E-10,\t0.05],\n",
    "          [56441.4,\t18,\t1.26,\t0.0811,\t0.396,\t1.00E-10,\t0.05],\n",
    "          [56347.7,\t16,\t1.26,\t0.346,\t0.503,\t1.00E-10,\t0.05],\n",
    "         [56297.7,\t15,\t1.26,\t0.0504,\t0.102,\t1.00E-10,\t0.05],\n",
    "         [56270.8,\t13,\t1.2555,\t0,\t0.083,\t1.00E-10,\t0.05],\n",
    "         [56177.9,\t11,\t1.33,\t0.225,\t0.044,\t1.00E-10,\t0.05],\n",
    "         [56167.0,\t9,\t1.36,\t0.244,\t0.049,\t1.00E-10,\t0.05],\n",
    "          [56151.3,\t8,\t1.25,\t0,\t0.091,\t1.00E-10,\t0.05],\n",
    "         [56148.0,\t7,\t1.2555,\t0.340,\t0.071,\t1.00E-10,\t0.05],\n",
    "         [56119.1,\t5,\t1.35,\t1.68,\t0.120,\t1.00E-10,\t0.05],\n",
    "        )\n",
    "\n",
    "f1_78 = ([56526.7,\t19,\t1.74,\t-0.348,\t0.169,\t1.00E-10,\t0.05],\n",
    "         [56441.4,\t18,\t1.74,\t-0.202,\t0.326,\t1.00E-10,\t0.05],\n",
    "         [56347.7,\t16,\t1.74,\t-0.0272,\t0.368,\t1.00E-10,\t0.05],\n",
    "         [56297.7,\t15,\t1.74,\t-0.00249,\t0.068,\t1.00E-10,\t0.05],\n",
    "         [56270.8,\t13,\t1.7395,\t0,\t0.084,\t1.00E-10,\t0.05],\n",
    "         [56177.9,\t11,\t1.77,\t0.201,\t0.042,\t1.00E-10,\t0.05],\n",
    "         [56167.0,\t9,\t1.78,\t0.431,\t0.048,\t1.00E-10,\t0.05],\n",
    "         [56151.3,\t8,\t1.80,\t0.497,\t0.088,\t1.00E-10,\t0.05],\n",
    "         [56148.0,\t7,\t1.7715,\t0.560,\t0.072,\t1.00E-10,\t0.05],\n",
    "         [56119.1,\t5,\t1.84,\t1.391,\t0.066,\t1.00E-10,\t0.05],\n",
    "        )\n",
    "\n",
    "f3 = ([56100.3,\t4,\t2.5,\t3.094,\t0.037,\t1.00E-10,\t0.05],\n",
    "        [56100.3,\t4,\t3.5,\t3.201,\t0.030,\t1.00E-10,\t0.05],)\n",
    "\n",
    "f4_74 = ( [56526.7,\t19,\t4.55,\t-0.00306,\t0.028,\t1.00E-10,\t0.05],\n",
    "         [56347.7,\t16,\t4.55,\t-0.232,\t0.114,\t1.00E-10,\t0.05],\n",
    "         [56297.7,\t15,\t4.55,\t0.0328,\t0.033,\t1.00E-10,\t0.05],\n",
    "         [56270.8,\t13,\t4.549,\t0,\t0.021,\t1.00E-10,\t0.05],\n",
    "         [56167.0,\t9,\t4.608,\t0.347,\t0.028,\t1.00E-10,\t0.05],\n",
    "         [56151.3,\t8,\t4.549,\t0.502,\t0.034,\t1.00E-10,\t0.05],\n",
    "         [56148.0,\t7,\t4.74,\t0.521,\t0.033,\t1.00E-10,\t0.05],\n",
    "         [56119.1,\t5,\t4.74,\t1.907,\t0.027,\t1.00E-10,\t0.05],\n",
    "         [56100.3,\t4,\t5,\t3.423,\t0.023,\t1.00E-10,\t0.05],\n",
    "         [56084.4,\t2,\t5,\t1.089,\t0.028,\t1.00E-10,\t0.05],\n",
    "        )\n",
    "\n",
    "f7_46 = ([56526.7,\t19,\t7.40,\t-0.0045,\t0.019,\t1.00E-10,\t0.05],\n",
    "          [56441.4,\t18,\t7.399,\t-0.0098,\t0.021,\t1.00E-10,\t0.05],\n",
    "         [56441.4,\t18,\t4.55,\t0.0437,\t0.033,\t1.00E-10,\t0.05],\n",
    "          [56347.7,\t16,\t7.399,\t-0.00948,\t0.160,\t1.00E-10,\t0.05],\n",
    "         [56297.7,\t15,\t7.399,\t0.0288,\t0.023,\t1.00E-10,\t0.05],\n",
    "         [56270.8,\t13,\t7.399,\t0,\t0.016,\t1.00E-10,\t0.05],\n",
    "         [56167.0,\t9,\t7.458,\t0.292,\t0.016,\t1.00E-10,\t0.05],\n",
    "         [56151.3,\t8,\t7.399,\t0.469,\t0.025,\t1.00E-10,\t0.05],\n",
    "        [56148.0,\t7,\t7.59,\t0.528,\t0.025,\t1.00E-10,\t0.05],\n",
    "         [56119.1,\t5,\t7.59,\t1.921,\t0.023,\t1.00E-10,\t0.05],\n",
    "         [56100.3,\t4,\t6.8,\t3.629,\t0.025,\t1.00E-10,\t0.05],\n",
    "         [56084.4,\t2,\t6.8,\t1.381,\t0.025,\t1.00E-10,\t0.05],\n",
    "        )\n",
    "\n",
    "f8_51 = ([56526.7,\t19,\t8.52,\t0.00449,\t0.022,\t1.00E-10,\t0.05],\n",
    "         [56441.4,\t18,\t8.52,\t-0.00263,\t0.018,\t1.00E-10,\t0.05],\n",
    "         [56347.7,\t16,\t8.52,\t0.465,\t0.201,\t1.00E-10,\t0.05],\n",
    "         [56297.7,\t15,\t8.52,\t0.0286,\t0.018,\t1.00E-10,\t0.05],\n",
    "         [56270.8,\t13,\t8.519,\t0,\t0.025,\t1.00E-10,\t0.05],\n",
    "         [56167.0,\t9,\t8.5,\t0.289,\t0.018,\t1.00E-10,\t0.05],\n",
    "         [56151.3,\t8,\t8.51,\t0.443,\t0.021,\t1.00E-10,\t0.05],\n",
    "         [56148.0,\t7,\t8.53,\t0.556,\t0.031,\t1.00E-10,\t0.05],\n",
    "         [56100.3,\t4,\t8.5,\t3.683,\t0.052,\t1.00E-10,\t0.05],\n",
    "        )\n",
    "\n",
    "f11_38 = ( [56526.7,\t19,\t11.4,\t-0.0051,\t0.024,\t1.00E-10,\t0.05],\n",
    "          [56441.4,\t18,\t11.4,\t-0.0266,\t0.019,\t1.00E-10,\t0.05],\n",
    "          [56347.7,\t16,\t11.4,\t-0.0358,\t0.301,\t1.00E-10,\t0.05],\n",
    "           [56297.7,\t15,\t11.4,\t0.0413,\t0.023,\t1.00E-10,\t0.05],\n",
    "          [56270.8,\t13,\t11.399,\t0,\t0.030,\t1.00E-10,\t0.05],\n",
    "          [56167.0,\t9,\t11.4,\t0.368,\t0.031,\t1.00E-10,\t0.05],\n",
    "          [56151.3,\t8,\t11.34,\t0.418,\t0.035,\t1.00E-10,\t0.05],\n",
    "          [56148.0,\t7,\t11.38,\t0.571,\t0.060,\t1.00E-10,\t0.05],\n",
    "          [56100.3,\t4,\t11.4,\t3.779,\t0.071,\t1.00E-10,\t0.05],\n",
    "         )\n",
    "\n",
    "f13_3 = ([56530.7,\t19,\t13.3,\t-0.00734,\t0.031,\t1.00E-10,\t0.05],\n",
    "         [56446.2,\t18,\t13.3,\t-0.0169,\t0.024,\t1.00E-10,\t0.05],\n",
    "         [56369.6,\t17,\t13.3,\t-0.0319,\t0.023,\t1.00E-10,\t0.05],\n",
    "         [56358.6,\t17,\t13.22,\t0.025,\t0.027,\t1.00E-10,\t0.05],\n",
    "         [56284.6,\t14,\t13.30,\t0.047,\t0.022,\t1.00E-10,\t0.05],\n",
    "         [56284.6,\t14,\t13.299,\t0,\t0.029,\t1.00E-10,\t0.05],\n",
    "         [56231.0,\t12,\t13.3,\t0.035,\t0.021,\t1.00E-10,\t0.05],\n",
    "         [56174.2,\t10,\t13.3,\t0.188,\t0.019,\t1.00E-10,\t0.05],\n",
    "         [56150.2,\t8,\t13.3,\t0.495,\t0.042,\t1.00E-10,\t0.05],\n",
    "         [56092.2,\t3,\t13.3,\t3.523,\t0.042,\t1.00E-10,\t0.05],\n",
    "        )\n",
    "\n",
    "f17_45 = ([56530.7,\t19,\t17.4,\t-0.00912,\t0.053,\t1.00E-10,\t0.05],\n",
    "          [56446.2,\t18,\t17.4,\t0.0260,\t0.029,\t1.00E-10,\t0.05],\n",
    "          [56369.6,\t17,\t17.4,\t0.0240,\t0.029,\t1.00E-10,\t0.05],\n",
    "          [56358.6,\t17,\t17.45,\t0.009,\t0.025,\t1.00E-10,\t0.05],\n",
    "          [56284.6,\t14,\t17.45,\t0.049,\t0.026,\t1.00E-10,\t0.05],\n",
    "          [56284.6,\t14,\t17.449,\t0,\t0.035,\t1.00E-10,\t0.05],\n",
    "          [56231.0,\t12,\t17.4,\t0.043,\t0.027,\t1.00E-10,\t0.05],\n",
    "          [56174.2,\t10,\t17.45,\t0.110,\t0.029,\t1.00E-10,\t0.05],\n",
    "          [56150.2,\t8,\t17.45,\t0.38,\t0.049,\t1.00E-10,\t0.05],\n",
    "          [56128.3,\t6,\t17.5,\t1.374,\t0.091,\t1.00E-10,\t0.05],\n",
    "          [56092.2,\t3,\t16,\t3.98,\t0.049,\t1.00E-10,\t0.05],\n",
    "         )\n",
    "\n",
    "f28_2 = ([56530.7,\t19,\t27.5,\t0.0271,\t0.011,\t1.00E-10,\t0.05],\n",
    "         [56446.2,\t18,\t27.5,\t0.112,\t0.077,\t1.00E-10,\t0.05],\n",
    "         [56369.6,\t17,\t27.5,\t0.113,\t0.065,\t1.00E-10,\t0.05],\n",
    "         [56358.6,\t17,\t27.50,\t0.046,\t0.049,\t1.00E-10,\t0.05],\n",
    "         [56284.6,\t14,\t27.50,\t0.036,\t0.050,\t1.00E-10,\t0.05],\n",
    "         [56231.0,\t12,\t27.5,\t0.060,\t0.044,\t1.00E-10,\t0.05],\n",
    "         [56174.2,\t10,\t27.5,\t0.106,\t0.027,\t1.00E-10,\t0.05],\n",
    "         [56150.2,\t8,\t27.5,\t0.469,\t0.078,\t1.00E-10,\t0.05],\n",
    "         [56128.3,\t6,\t27.5,\t1.438,\t0.143,\t1.00E-10,\t0.05],\n",
    "         [56092.2,\t3,\t28.2,\t5.727,\t0.098,\t1.00E-10,\t0.05],\n",
    "        )\n",
    "\n",
    "f36_5 = ([56530.7,\t19,\t36.5,\t0.110,\t0.110,\t1.00E-10,\t0.05],\n",
    "         [56446.2,\t18,\t36.5,\t-0.0663,\t0.095,\t1.00E-10,\t0.05],\n",
    "         [56369.6,\t17,\t36.5,\t0.0109,\t0.083,\t1.00E-10,\t0.05],\n",
    "         [56358.6,\t17,\t36.50,\t0.120,\t0.062,\t1.00E-10,\t0.05],\n",
    "         [56284.6,\t14,\t36.50,\t0.020,\t0.068,\t1.00E-10,\t0.05],\n",
    "         [56231.0,\t12,\t36.5,\t0.044,\t0.052,\t1.00E-10,\t0.05],\n",
    "         [56174.2,\t10,\t36.5,\t0.365,\t0.131,\t1.00E-10,\t0.05],\n",
    "         [56150.2,\t8,\t36.5,\t0.39,\t0.086,\t1.00E-10,\t0.05],\n",
    "         [56128.3,\t6,\t36.5,\t1.136,\t0.194,\t1.00E-10,\t0.05],\n",
    "         [56092.2,\t3,\t36.5,\t5.961,\t0.139,\t1.00E-10,\t0.05],\n",
    "         [56040.4,\t1,\t33,\t0.032,\t0.025,\t1.00E-10,\t0.05],\n",
    "        )"
   ]
  },
  {
   "cell_type": "code",
   "execution_count": 3,
   "id": "ac216494-3073-490d-8318-da1806f33ed0",
   "metadata": {},
   "outputs": [],
   "source": [
    "df1_35 =  pd.DataFrame(f1_35, columns = [\"MJD\",\t\"Epoch\", \"Freq\", \"Flux\", \"error\",\"RM\", \"systematics\"])\n",
    "\n",
    "df1_78 =  pd.DataFrame(f1_78, columns = [\"MJD\",\t\"Epoch\", \"Freq\", \"Flux\", \"error\",\"RM\", \"systematics\"])\n",
    "\n",
    "df3 =  pd.DataFrame(f3, columns = [\"MJD\",\t\"Epoch\", \"Freq\", \"Flux\", \"error\",\"RM\", \"systematics\"])\n",
    "\n",
    "df4_74 =  pd.DataFrame(f4_74, columns = [\"MJD\",\t\"Epoch\", \"Freq\", \"Flux\", \"error\",\"RM\", \"systematics\"])\n",
    "\n",
    "df7_46 =  pd.DataFrame(f7_46, columns = [\"MJD\",\t\"Epoch\", \"Freq\", \"Flux\", \"error\",\"RM\", \"systematics\"])\n",
    "\n",
    "df8_51 =  pd.DataFrame(f8_51, columns = [\"MJD\",\t\"Epoch\", \"Freq\", \"Flux\", \"error\",\"RM\", \"systematics\"])\n",
    "\n",
    "df11_38 =  pd.DataFrame(f11_38, columns = [\"MJD\",\t\"Epoch\", \"Freq\", \"Flux\", \"error\",\"RM\", \"systematics\"])\n",
    "\n",
    "df13_3 =  pd.DataFrame(f13_3, columns = [\"MJD\",\t\"Epoch\", \"Freq\", \"Flux\", \"error\",\"RM\", \"systematics\"])\n",
    "\n",
    "df17_45 =  pd.DataFrame(f17_45, columns = [\"MJD\",\t\"Epoch\", \"Freq\", \"Flux\", \"error\",\"RM\", \"systematics\"])\n",
    "\n",
    "df28_2 =  pd.DataFrame(f28_2, columns = [\"MJD\",\t\"Epoch\", \"Freq\", \"Flux\", \"error\",\"RM\", \"systematics\"])\n",
    "\n",
    "df36_5 =  pd.DataFrame(f36_5, columns = [\"MJD\",\t\"Epoch\", \"Freq\", \"Flux\", \"error\",\"RM\", \"systematics\"])"
   ]
  },
  {
   "cell_type": "code",
   "execution_count": 4,
   "id": "c3d80d21-8400-426e-aba0-65fd843a9c1e",
   "metadata": {},
   "outputs": [],
   "source": [
    "mask1 = df1_78['Flux'] > 3 * df1_78['error'] #don't show the non-detections\n",
    "if mask1.any():\n",
    "        days1_78 = (df1_78['MJD'] - 56038)\n",
    "        flux1_78 = df1_78[\"Flux\"]\n",
    "        flux_err1_78 = np.sqrt(df1_78[\"error\"]**2 + (df1_78[\"Flux\"]*0.05)**2)\n",
    "\n",
    "mask2 = df7_46['Flux'] > 3 * df7_46['error'] #don't show the non-detections\n",
    "if mask2.any():\n",
    "        days7_46 = (df7_46['MJD'] - 56038)\n",
    "        flux7_46 = df7_46[\"Flux\"]\n",
    "        flux_err7_46 = np.sqrt(df7_46[\"error\"]**2 + (df7_46[\"Flux\"]*0.05)**2)\n",
    "\n",
    "mask3 = df11_38['Flux'] > 3 * df11_38['error'] #don't show the non-detections\n",
    "if mask3.any():\n",
    "        days11_38 = (df11_38['MJD'] - 56038)\n",
    "        flux11_38 = df11_38[\"Flux\"]\n",
    "        flux_err11_38 = np.sqrt(df11_38[\"error\"]**2 + (df11_38[\"Flux\"]*0.1)**2)\n",
    "\n",
    "mask4 = df17_45['Flux'] > 3 * df17_45['error'] #don't show the non-detections\n",
    "if mask4.any():\n",
    "        days17_45 = (df17_45['MJD'] - 56038)\n",
    "        flux17_45 = df17_45[\"Flux\"]\n",
    "        flux_err17_45 = np.sqrt(df17_45[\"error\"]**2 + (df17_45[\"Flux\"]*0.1)**2)\n",
    "\n",
    "mask5 = df28_2['Flux'] > 3 * df28_2['error'] #don't show the non-detections\n",
    "if mask5.any():\n",
    "        days28_2 = (df28_2['MJD'] - 56038)\n",
    "        flux28_2 = df28_2[\"Flux\"]\n",
    "        flux_err28_2 = np.sqrt(df28_2[\"error\"]**2 + (df28_2[\"Flux\"]*0.1)**2)"
   ]
  },
  {
   "cell_type": "code",
   "execution_count": 5,
   "id": "c1c32cd6-a2a4-44d5-999d-9cf0d89ea0d3",
   "metadata": {},
   "outputs": [],
   "source": [
    "\n",
    "Dist =  8.04 * 3.086*10**21                 #distance in cm\n",
    "V_const =  4000* 100000        #velocity in cm/s\n",
    "\n",
    "\n",
    "def Con_TB(S,T,E,nu): #flux denisty, time, error of flux density, frequency in order those are the plug ins\n",
    "    R = []\n",
    "    CTB = []\n",
    "    CTBE = []\n",
    "    \n",
    "    for i in range(len(S)):\n",
    "        R.append(V_const * T[i])  #velocity over time                  #R in cm\n",
    "        angular_diam = 206265 * ((2*R[i])/ Dist)                       #unitless\n",
    "        CTB.append(1765.8 * (nu**(-2)) * S[i]*(angular_diam**(-2)))    #mJy / (Ghz^2)\n",
    "        CTBE.append(1765.8 * (nu**(-2)) * E[i]*(angular_diam**(-2)))\n",
    "    \n",
    "    return(CTB, CTBE)\n",
    "        "
   ]
  },
  {
   "cell_type": "code",
   "execution_count": 6,
   "id": "aef9b85e-6680-4d0b-9586-91620c2f7da4",
   "metadata": {},
   "outputs": [],
   "source": [
    "nu0 = 1.78 #FREQUENCY 1\n",
    "nu1 = 7.46 #frequency 2\n",
    "nu2 = 11.38 #frequency 3\n",
    "nu3 = 17.45\n",
    "nu4 = 28.2 #frequency 5\n",
    "\n",
    "date_CAC_sec_n0 = days1_78 * 86400    #time in seconds  (date_CAC is going to be a list of times (from t0))\n",
    "date_CAC_sec_n1 = days7_46 * 86400    #time in seconds \n",
    "date_CAC_sec_n2 = days11_38 * 86400    #time in seconds \n",
    "date_CAC_sec_n3 = days17_45 * 86400\n",
    "date_CAC_sec_n4 = days28_2 * 86400"
   ]
  },
  {
   "cell_type": "code",
   "execution_count": 7,
   "id": "511a982a-458e-42aa-9395-050c335e272a",
   "metadata": {},
   "outputs": [
    {
     "data": {
      "text/plain": [
       "[-2459.4696828620895,\n",
       " -2095.204843184916,\n",
       " -478.6669044661977,\n",
       " -62.31639987563991,\n",
       " 0.0,\n",
       " 17334.348996108925,\n",
       " 43716.436855112675,\n",
       " 65349.681704990006,\n",
       " 78117.72092487603,\n",
       " 356970.5013487938]"
      ]
     },
     "execution_count": 7,
     "metadata": {},
     "output_type": "execute_result"
    }
   ],
   "source": [
    "CTB_nu0, CTBError_nu0 = Con_TB(flux1_78, date_CAC_sec_n0, flux_err1_78, nu0)\n",
    "\n",
    "CTB_nu0"
   ]
  },
  {
   "cell_type": "code",
   "execution_count": 8,
   "id": "049f737e-ca4c-4a0c-96ae-beb4032f613c",
   "metadata": {},
   "outputs": [
    {
     "data": {
      "text/plain": [
       "[-1.8106607733263371,\n",
       " -5.787134089892059,\n",
       " 25.805893849824795,\n",
       " -9.498066018455896,\n",
       " 41.03532201486805,\n",
       " 0.0,\n",
       " 1686.2139898270557,\n",
       " 3510.930885867511,\n",
       " 4193.318107802547,\n",
       " 28066.930144639216,\n",
       " 89850.42427117993,\n",
       " 61640.61665453655]"
      ]
     },
     "execution_count": 8,
     "metadata": {},
     "output_type": "execute_result"
    }
   ],
   "source": [
    "CTB_nu1, CTBError_nu1 = Con_TB(flux7_46, date_CAC_sec_n1, flux_err7_46, nu1)\n",
    "\n",
    "CTB_nu1"
   ]
  },
  {
   "cell_type": "code",
   "execution_count": 9,
   "id": "f9b2a43c-21cb-4058-895d-37daac8cbd27",
   "metadata": {},
   "outputs": [
    {
     "data": {
      "text/plain": [
       "[-0.8818361252994317,\n",
       " -6.750131555181248,\n",
       " -15.413561658217075,\n",
       " 25.28765399475184,\n",
       " 0.0,\n",
       " 913.2102684378949,\n",
       " 1344.679704906055,\n",
       " 1948.7365289278277,\n",
       " 40207.140425788726]"
      ]
     },
     "execution_count": 9,
     "metadata": {},
     "output_type": "execute_result"
    }
   ],
   "source": [
    "CTB_nu2, CTBError_nu2 = Con_TB(flux11_38, date_CAC_sec_n2, flux_err11_38, nu2)\n",
    "\n",
    "CTB_nu2"
   ]
  },
  {
   "cell_type": "code",
   "execution_count": 10,
   "id": "3e264d7f-3284-4c58-9db9-d11beb3a8f0a",
   "metadata": {},
   "outputs": [
    {
     "data": {
      "text/plain": [
       "[-0.6598204375404644,\n",
       " 2.7404595545443806,\n",
       " 3.8333480028674054,\n",
       " 1.53784131058768,\n",
       " 14.151614356118223,\n",
       " 0.0,\n",
       " 20.274487608268448,\n",
       " 104.1440636564436,\n",
       " 530.1440999269779,\n",
       " 2959.4246151219563,\n",
       " 23794.717258431152]"
      ]
     },
     "execution_count": 10,
     "metadata": {},
     "output_type": "execute_result"
    }
   ],
   "source": [
    "CTB_nu3, CTBError_nu3 = Con_TB(flux17_45, date_CAC_sec_n3, flux_err17_45, nu3)\n",
    "\n",
    "CTB_nu3"
   ]
  },
  {
   "cell_type": "code",
   "execution_count": 11,
   "id": "01b3f4d1-c032-4691-96ca-a4d41340c405",
   "metadata": {},
   "outputs": [
    {
     "data": {
      "text/plain": [
       "[0.7507457147434965,\n",
       " 4.520231917256561,\n",
       " 6.910955480812601,\n",
       " 3.009674240781588,\n",
       " 3.9811180148685694,\n",
       " 10.832415949790958,\n",
       " 38.42734201242734,\n",
       " 250.53927968974216,\n",
       " 1185.9655697209505,\n",
       " 13110.441157045403]"
      ]
     },
     "execution_count": 11,
     "metadata": {},
     "output_type": "execute_result"
    }
   ],
   "source": [
    "CTB_nu4, CTBError_nu4 = Con_TB(flux28_2, date_CAC_sec_n4, flux_err28_2, nu4)\n",
    "\n",
    "CTB_nu4"
   ]
  },
  {
   "cell_type": "code",
   "execution_count": 15,
   "id": "3c37f7b5-ccb8-44f9-9612-3a7f00b21197",
   "metadata": {},
   "outputs": [
    {
     "data": {
      "image/png": "[encoded data removed]",
      "text/plain": [
       "<Figure size 1200x1000 with 1 Axes>"
      ]
     },
     "metadata": {},
     "output_type": "display_data"
    }
   ],
   "source": [
    "fig, ax = plt.subplots()\n",
    "fig.set_size_inches(12,10)\n",
    "\n",
    "ax.axhline(y=5*10**4, color='black', linestyle='-', linewidth=1.5)\n",
    "\n",
    "used_labels = set()\n",
    "\n",
    "def plot(days, CTBs, CTBerrors, fluxes, errors, color, label_name):\n",
    "    for day, CTB, CTBerr, flux, err in zip(days, CTBs, CTBerrors, fluxes, errors):\n",
    "        if flux < 3 * err:\n",
    "            fmt = 'x'  # square for non-detection\n",
    "            \n",
    "            \n",
    "            label = None  # no label for non-detections\n",
    "            #ax.errorbar(day, CTB, fmt=fmt, color=color, label=label)\n",
    "            \n",
    "        else:\n",
    "            fmt = '^'  # triangle for detection\n",
    "            label = label_name if label_name not in used_labels else None\n",
    "        \n",
    "            ax.errorbar(day, CTB, yerr=CTBerr, fmt=fmt, color=color, label=label)\n",
    "        \n",
    "        if label:\n",
    "            used_labels.add(label)\n",
    "\n",
    "\n",
    "plot(days1_78, CTB_nu0, CTBError_nu0, flux1_78, flux_err1_78, 'green', '1.78')\n",
    "ax.plot(days1_78[5:10], CTB_nu0[5:10], color='green', linestyle = '--', alpha=.50)\n",
    "\n",
    "plot(days7_46, CTB_nu1, CTBError_nu1, flux7_46, flux_err7_46, 'blue', '7.46')\n",
    "ax.plot(days7_46[6:12], CTB_nu1[6:12], color='blue', linestyle = '--', alpha=.50)\n",
    "\n",
    "plot(days11_38, CTB_nu2, CTBError_nu2, flux11_38, flux_err11_38, 'orange', '11.38')\n",
    "ax.plot(days11_38[5:10], CTB_nu2[5:10], color='orange', linestyle = '--', alpha=.50)\n",
    "\n",
    "plot(days17_45, CTB_nu3, CTBError_nu3, flux17_45, flux_err17_45, 'red', '17.45')\n",
    "ax.plot(days17_45[7:11], CTB_nu3[7:11], color='red', linestyle = '--', alpha=.50)\n",
    "\n",
    "plot(days28_2, CTB_nu4, CTBError_nu4, flux28_2, flux_err28_2, 'purple', '28.20')\n",
    "ax.plot(days28_2[6:11], CTB_nu4[6:11], color='purple', linestyle = '--', alpha=.50)\n",
    "\n",
    "\"\"\"\n",
    "ax.errorbar(days1_78, CTB_nu0, yerr=CTBError_nu0, fmt='^', color='green', label='1.78')\n",
    "ax.plot(days1_78, CTB_nu0, color='green', linestyle = '--', alpha=.50)\n",
    "\n",
    "ax.errorbar(days7_46, CTB_nu1, yerr=CTBError_nu1, fmt='^', color='blue', label='7.46')\n",
    "ax.plot(days7_46, CTB_nu1, color='blue', linestyle = '--', alpha=.50)\n",
    "\n",
    "ax.errorbar(days11_38, CTB_nu2, yerr=CTBError_nu2, fmt='^', color='orange', label='11.38')\n",
    "ax.plot(days11_38, CTB_nu2, color='orange', linestyle = '--', alpha=.50)\n",
    "\n",
    "\n",
    "ax.errorbar(days17_45, CTB_nu3, yerr=CTBError_nu3, fmt='^', color='hotpink', label='17.45')\n",
    "ax.plot(days17_45, CTB_nu3, color='hotpink', linestyle = '--', alpha=.50)\n",
    "\n",
    "\n",
    "ax.errorbar(days28_2, CTB_nu4, yerr=CTBError_nu4, fmt='^', color='red', label='28.2')\n",
    "ax.plot(days28_2, CTB_nu4, color='red', linestyle = '--', alpha=.50)\n",
    "\n",
    "\"\"\"\n",
    "\n",
    "\n",
    "ax.set_xscale('log')\n",
    "ax.set_xticks([50,100,200], labels = ['50','100','200'])\n",
    "ax.set_yscale('log')\n",
    "#ax.set_yticks([.1,1,10], labels = ['0.1','1.0','10.0'])\n",
    "ax.set_xlabel(\"Time since eruption (days)\")\n",
    "ax.set_ylabel(\"Brightness Temperature (K)\")\n",
    "\n",
    "\n",
    "ax.tick_params(axis='both', which='both', direction='in', top=True, right=True)\n",
    "\n",
    "ax.set_title(\"\")\n",
    "plt.legend(title='Frequency (GHz)')\n",
    "plt.show();"
   ]
  },
  {
   "cell_type": "code",
   "execution_count": null,
   "id": "34933e40-2460-4ff0-953e-81c00082abe5",
   "metadata": {},
   "outputs": [],
   "source": []
  }
 ],
 "metadata": {
  "kernelspec": {
   "display_name": "Python [conda env:base] *",
   "language": "python",
   "name": "conda-base-py"
  },
  "language_info": {
   "codemirror_mode": {
    "name": "ipython",
    "version": 3
   },
   "file_extension": ".py",
   "mimetype": "text/x-python",
   "name": "python",
   "nbconvert_exporter": "python",
   "pygments_lexer": "ipython3",
   "version": "3.12.7"
  }
 },
 "nbformat": 4,
 "nbformat_minor": 5
}
