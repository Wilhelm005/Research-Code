{
 "cells": [
  {
   "cell_type": "markdown",
   "id": "38f17222-4bc7-49a5-aed4-1065f328a3ae",
   "metadata": {},
   "source": [
    "## Brightness Temperature Plot (comparison between multiple novae)\n",
    "### Including : V1535 Sco, V1534 Sco, V407 Cyg, RS Oph, V392 Per, V5589 Sgr, V723 Cas"
   ]
  },
  {
   "cell_type": "code",
   "execution_count": 6,
   "id": "f7d3eee2-f6eb-4c55-be02-6b03f348be96",
   "metadata": {},
   "outputs": [],
   "source": [
    "#imports\n",
    "import numpy as np\n",
    "import pandas as pd\n",
    "import astropy.units as u\n",
    "import astropy.constants as const\n",
    "import matplotlib.pyplot as plt\n",
    "%matplotlib inline"
   ]
  },
  {
   "cell_type": "code",
   "execution_count": 7,
   "id": "1c382a92-3b29-4c76-9b46-acdaefce0497",
   "metadata": {},
   "outputs": [
    {
     "data": {
      "text/html": [
       "<div>\n",
       "<style scoped>\n",
       "    .dataframe tbody tr th:only-of-type {\n",
       "        vertical-align: middle;\n",
       "    }\n",
       "\n",
       "    .dataframe tbody tr th {\n",
       "        vertical-align: top;\n",
       "    }\n",
       "\n",
       "    .dataframe thead th {\n",
       "        text-align: right;\n",
       "    }\n",
       "</style>\n",
       "<table border=\"1\" class=\"dataframe\">\n",
       "  <thead>\n",
       "    <tr style=\"text-align: right;\">\n",
       "      <th></th>\n",
       "      <th>Nova</th>\n",
       "      <th>Distance</th>\n",
       "      <th>Distance Error (+)</th>\n",
       "      <th>Distance Error (-)</th>\n",
       "      <th>V1(km/s)</th>\n",
       "      <th>V2(km/s)</th>\n",
       "    </tr>\n",
       "  </thead>\n",
       "  <tbody>\n",
       "    <tr>\n",
       "      <th>0</th>\n",
       "      <td>V392 Per</td>\n",
       "      <td>3.40</td>\n",
       "      <td>0.78</td>\n",
       "      <td>0.33</td>\n",
       "      <td>2800</td>\n",
       "      <td>4100</td>\n",
       "    </tr>\n",
       "    <tr>\n",
       "      <th>1</th>\n",
       "      <td>V5589 Sgr</td>\n",
       "      <td>8.04</td>\n",
       "      <td>1.78</td>\n",
       "      <td>1.35</td>\n",
       "      <td>N/A</td>\n",
       "      <td>4800</td>\n",
       "    </tr>\n",
       "    <tr>\n",
       "      <th>2</th>\n",
       "      <td>V1535 Sco</td>\n",
       "      <td>7.79</td>\n",
       "      <td>0.75</td>\n",
       "      <td>0.69</td>\n",
       "      <td>N/A</td>\n",
       "      <td>1659 or 4782</td>\n",
       "    </tr>\n",
       "    <tr>\n",
       "      <th>3</th>\n",
       "      <td>RS Oph</td>\n",
       "      <td>2.71</td>\n",
       "      <td>0.20</td>\n",
       "      <td>0.13</td>\n",
       "      <td>2700</td>\n",
       "      <td>3700</td>\n",
       "    </tr>\n",
       "    <tr>\n",
       "      <th>4</th>\n",
       "      <td>V1534 Sco</td>\n",
       "      <td>9.11</td>\n",
       "      <td>2.14</td>\n",
       "      <td>1.55</td>\n",
       "      <td>N/A</td>\n",
       "      <td>4100 +/- 100</td>\n",
       "    </tr>\n",
       "    <tr>\n",
       "      <th>5</th>\n",
       "      <td>V407 Cyg</td>\n",
       "      <td>4.80</td>\n",
       "      <td>1.50</td>\n",
       "      <td>1.50</td>\n",
       "      <td>N/A</td>\n",
       "      <td>3200 +/- 345</td>\n",
       "    </tr>\n",
       "    <tr>\n",
       "      <th>6</th>\n",
       "      <td>V723 Cas</td>\n",
       "      <td>4.60</td>\n",
       "      <td>0.80</td>\n",
       "      <td>0.60</td>\n",
       "      <td>N/A</td>\n",
       "      <td>1750</td>\n",
       "    </tr>\n",
       "    <tr>\n",
       "      <th>7</th>\n",
       "      <td>U Sco</td>\n",
       "      <td>6.56</td>\n",
       "      <td>3.17</td>\n",
       "      <td>4.02</td>\n",
       "      <td>N/A</td>\n",
       "      <td>5000</td>\n",
       "    </tr>\n",
       "  </tbody>\n",
       "</table>\n",
       "</div>"
      ],
      "text/plain": [
       "        Nova  Distance  Distance Error (+)  Distance Error (-) V1(km/s)  \\\n",
       "0   V392 Per      3.40                0.78                0.33     2800   \n",
       "1  V5589 Sgr      8.04                1.78                1.35      N/A   \n",
       "2  V1535 Sco      7.79                0.75                0.69      N/A   \n",
       "3     RS Oph      2.71                0.20                0.13     2700   \n",
       "4  V1534 Sco      9.11                2.14                1.55      N/A   \n",
       "5   V407 Cyg      4.80                1.50                1.50      N/A   \n",
       "6   V723 Cas      4.60                0.80                0.60      N/A   \n",
       "7      U Sco      6.56                3.17                4.02      N/A   \n",
       "\n",
       "       V2(km/s)  \n",
       "0          4100  \n",
       "1          4800  \n",
       "2  1659 or 4782  \n",
       "3          3700  \n",
       "4  4100 +/- 100  \n",
       "5  3200 +/- 345  \n",
       "6          1750  \n",
       "7          5000  "
      ]
     },
     "execution_count": 7,
     "metadata": {},
     "output_type": "execute_result"
    }
   ],
   "source": [
    "data_novas = (\n",
    "\n",
    "[\"V392 Per\", 3.40, 0.78, 0.33,\t \"2800\", \"4100\"],\n",
    "[\"V5589 Sgr\", 8.04, 1.78, 1.35,\t 'N/A',\t \"4800\"],\n",
    "[\"V1535 Sco\", 7.79, 0.75, 0.69,'N/A', \"1659 or 4782\"],\n",
    "[\"RS Oph\", 2.71, 0.2, 0.13,\t '2700', \"3700\"],\t\t\t\n",
    "[\"V1534 Sco\", 9.11, 2.14, 1.55,\t 'N/A', '4100 +/- 100'],\n",
    "['V407 Cyg', 4.8, 1.5, 1.5, \"N/A\", \"3200 +/- 345\"],\n",
    "['V723 Cas', 4.6, 0.8, 0.6,  'N/A', \"1750\"],\n",
    "['U Sco', 6.56, 3.17, 4.02,\"N/A\", '5000']\n",
    ")\n",
    "\n",
    "df_novas = pd.DataFrame(data_novas, columns = ['Nova', 'Distance', 'Distance Error (+)', \n",
    "                                               'Distance Error (-)', \"V1(km/s)\",\t\t\"V2(km/s)\"])\n",
    "\n",
    "df_novas"
   ]
  },
  {
   "cell_type": "markdown",
   "id": "91407dbe-349c-4dbc-bd91-671e16d18286",
   "metadata": {},
   "source": [
    "### going in order of how it's listed\n",
    "### V392Per first --> all the items have a 0 at the end of it"
   ]
  },
  {
   "cell_type": "code",
   "execution_count": 8,
   "id": "4a8e6d8f-e012-4554-8098-8f125512c110",
   "metadata": {},
   "outputs": [],
   "source": [
    "#frequency of 1.26 (also has some of 1.4)\n",
    "f1_26_0 = ([58712.62,\t1.26,\t0.38,\t0.09,\t475],\n",
    "         [58652.58,\t1.26,\t0.104,\t0.0989,\t415],\n",
    "         [58627.98,\t1.26,\t0.0193,\t0.086,\t390],\n",
    "         [58519.04,\t1.26,\t0.111,\t0.109,\t282],\n",
    "         [58493.11,\t1.26,\t0.178,\t0.151,\t256],\n",
    "         [58460.18,\t1.26,\t0.105,\t0.111,\t223],\n",
    "         [58423.58,\t1.26,\t-0.108,\t0.241,\t186],\n",
    "         [58379.44,\t1.26,\t1.033,\t0.223,\t142],\n",
    "         [58368.43,\t1.26,\t0.971,\t0.272,\t131],\n",
    "         [58347.5,\t1.4,\t0.22,\t0.035,\t110],\n",
    "         [58278.58,\t1.26,\t3.704,\t0.0571,\t41],\n",
    "         [58269.61,\t1.26,\t3.471,\t0.0551,\t32],\n",
    "         [58260.96,\t1.26,\t1.576,\t0.0616,\t23],\n",
    "         [58256.62,\t1.26,\t0.626,\t0.0562,\t19],\n",
    "         [58250.64,\t1.26,\t0.114,\t0.0474,\t13],\n",
    "         [58238.93,\t1.26,\t-0.0122,\t0.0531,\t1],\n",
    "        )\n",
    "\n",
    "df1_26_0 =  pd.DataFrame(f1_26_0, columns = [\"MJD\",\t\"Freq (GHz)\",\t\"Flux (mJy)\",\t\"eFlux (mJy)\",\t\"Days\"])"
   ]
  },
  {
   "cell_type": "code",
   "execution_count": 9,
   "id": "dbbe8629-642e-4a25-819b-9eea7d45f40c",
   "metadata": {},
   "outputs": [],
   "source": [
    "mask_0 = df1_26_0['Flux (mJy)'] > 3 * np.sqrt(df1_26_0[\"eFlux (mJy)\"]**2 + (df1_26_0[\"Flux (mJy)\"]*0.05)**2) #don't show the non-detections\n",
    "if mask_0.any():\n",
    "        days1_26_0 = (df1_26_0['Days'][mask_0])\n",
    "        flux1_26_0 = df1_26_0[\"Flux (mJy)\"][mask_0]\n",
    "        flux_err1_26_0 = np.sqrt(df1_26_0[\"eFlux (mJy)\"][mask_0]**2 + (df1_26_0[\"Flux (mJy)\"][mask_0]*0.05)**2)\n",
    "\n",
    "nu1_26_0 = 1.26\n",
    "date_CAC_sec_n1_26_0 = days1_26_0 * 86400    #time in seconds  (date_CAC is going to be a list of times (from t0))"
   ]
  },
  {
   "cell_type": "code",
   "execution_count": 10,
   "id": "9e177f55-340d-4b82-9fe3-a619b297c50b",
   "metadata": {},
   "outputs": [],
   "source": [
    "Vlow0 = 2800 * 100000\n",
    "Vhigh0 = 4100 * 100000\n",
    "Distlow0 = (3.4-.33) *  3.086*10**21 \n",
    "Disthigh0 = (3.4+.78) *  3.086*10**21 "
   ]
  },
  {
   "cell_type": "code",
   "execution_count": 11,
   "id": "a9e1d724-4fcb-449a-83a0-556b2fb934bc",
   "metadata": {},
   "outputs": [],
   "source": [
    "def Con_TBlow(S,T,E,nu): #flux denisty, time, error of flux density, frequency in order those are the plug ins\n",
    "    R = []\n",
    "    CTB = []\n",
    "    CTBE = []\n",
    "\n",
    "    S = np.array(S)\n",
    "    T = np.array(T)\n",
    "    E = np.array(E)\n",
    "    \n",
    "    for i in range(len(S)):\n",
    "        R.append(Vhigh0 * T[i])  #velocity over time                  #R in cm\n",
    "        angular_diam = 206265 * ((2*R[i])/ Distlow0)                       #unitless\n",
    "        CTB.append(1765.8 * (nu**(-2)) * S[i]*(angular_diam**(-2)))    #mJy / (Ghz^2)\n",
    "        CTBE.append(1765.8 * (nu**(-2)) * E[i]*(angular_diam**(-2)))\n",
    "    \n",
    "    return(CTB, CTBE)\n",
    "\n",
    "\n",
    "\n",
    "def Con_TBhigh(S,T,E,nu): #flux denisty, time, error of flux density, frequency in order those are the plug ins\n",
    "    R = []\n",
    "    CTB = []\n",
    "    CTBE = []\n",
    "\n",
    "    S = np.array(S)\n",
    "    T = np.array(T)\n",
    "    E = np.array(E)\n",
    "    \n",
    "    for i in range(len(S)):\n",
    "        R.append(Vlow0 * T[i])  #velocity over time                  #R in cm\n",
    "        angular_diam = 206265 * ((2*R[i])/ Disthigh0)                       #unitless\n",
    "        CTB.append(1765.8 * (nu**(-2)) * S[i]*(angular_diam**(-2)))    #mJy / (Ghz^2)\n",
    "        CTBE.append(1765.8 * (nu**(-2)) * E[i]*(angular_diam**(-2)))\n",
    "    \n",
    "    return(CTB, CTBE)"
   ]
  },
  {
   "cell_type": "code",
   "execution_count": 12,
   "id": "849b711c-d97e-4019-9c25-6953ba4ef7c2",
   "metadata": {},
   "outputs": [
    {
     "name": "stdout",
     "output_type": "stream",
     "text": [
      "[np.float64(3129.583802649609), np.float64(95194.9348073979), np.float64(105139.72738892442), np.float64(33785.279687694645), np.float64(4094430.207006039), np.float64(6298612.127714206), np.float64(5535932.02897802), np.float64(3222235.9547017356)]\n"
     ]
    }
   ],
   "source": [
    "CTB_nuhigh0, CTBError_nuhigh0 = Con_TBhigh(flux1_26_0, date_CAC_sec_n1_26_0, flux_err1_26_0, nu1_26_0)\n",
    "print(CTB_nuhigh0)"
   ]
  },
  {
   "cell_type": "code",
   "execution_count": 13,
   "id": "dd23a9f4-5a2a-4aad-8619-2d35d1c910c7",
   "metadata": {},
   "outputs": [
    {
     "name": "stdout",
     "output_type": "stream",
     "text": [
      "[np.float64(787.334209849064), np.float64(23948.94449375679), np.float64(26450.834809862077), np.float64(8499.630674506941), np.float64(1030068.2694887294), np.float64(1584591.7909343238), np.float64(1392718.3116564492), np.float64(810643.4463248587)]\n"
     ]
    }
   ],
   "source": [
    "CTB_nulow0, CTBError_nulow0 = Con_TBlow(flux1_26_0, date_CAC_sec_n1_26_0, flux_err1_26_0, nu1_26_0)\n",
    "print(CTB_nulow0)"
   ]
  },
  {
   "cell_type": "markdown",
   "id": "8c8d665b-d3f4-4d79-9c7d-9f0751dbb31b",
   "metadata": {},
   "source": [
    "### Now V5589 Sgr, denoted by a 1 at the end of everything"
   ]
  },
  {
   "cell_type": "code",
   "execution_count": 14,
   "id": "4982591e-2e36-4f6e-84fd-11286f304079",
   "metadata": {},
   "outputs": [],
   "source": [
    "f1_35_1 = ([56526.7,\t19,\t1.26,\t-0.571,\t0.276,\t1.00E-10,\t0.05],\n",
    "          [56441.4,\t18,\t1.26,\t0.0811,\t0.396,\t1.00E-10,\t0.05],\n",
    "          [56347.7,\t16,\t1.26,\t0.346,\t0.503,\t1.00E-10,\t0.05],\n",
    "         [56297.7,\t15,\t1.26,\t0.0504,\t0.102,\t1.00E-10,\t0.05],\n",
    "         [56270.8,\t13,\t1.2555,\t0,\t0.083,\t1.00E-10,\t0.05],\n",
    "         [56177.9,\t11,\t1.33,\t0.225,\t0.044,\t1.00E-10,\t0.05],\n",
    "         [56167.0,\t9,\t1.36,\t0.244,\t0.049,\t1.00E-10,\t0.05],\n",
    "          [56151.3,\t8,\t1.25,\t0,\t0.091,\t1.00E-10,\t0.05],\n",
    "         [56148.0,\t7,\t1.2555,\t0.340,\t0.071,\t1.00E-10,\t0.05],\n",
    "         [56119.1,\t5,\t1.35,\t1.68,\t0.120,\t1.00E-10,\t0.05],\n",
    "        )\n",
    "\n",
    "df1_35_1 =  pd.DataFrame(f1_35_1, columns = [\"MJD\",\t\"Epoch\", \"Freq\", \"Flux\", \"error\",\"RM\", \"systematics\"])"
   ]
  },
  {
   "cell_type": "code",
   "execution_count": 15,
   "id": "168d9274-ab66-4461-be5d-7f384e3d0b37",
   "metadata": {},
   "outputs": [],
   "source": [
    "mask1 = df1_35_1['Flux'] > 3 * np.sqrt(df1_35_1[\"error\"]**2 + (df1_35_1[\"Flux\"]*0.05)**2) #don't show the non-detections\n",
    "if mask1.any():\n",
    "        days1_35_1 = (df1_35_1['MJD'][mask1] - 56038)\n",
    "        flux1_35_1 = df1_35_1[\"Flux\"][mask1]\n",
    "        flux_err1_35_1 = np.sqrt(df1_35_1[\"error\"][mask1]**2 + (df1_35_1[\"Flux\"][mask1]*0.05)**2)\n",
    "\n",
    "\n",
    "nu1_35_1 = 1.35\n",
    "date_CAC_sec_n1_35_1 = days1_35_1 * 86400    #time in seconds  (date_CAC is going to be a list of times (from t0))"
   ]
  },
  {
   "cell_type": "code",
   "execution_count": 16,
   "id": "6e8f8249-ccd4-4006-921b-8ce6b4ad7e27",
   "metadata": {},
   "outputs": [],
   "source": [
    "Vlow1 = 4800 * 100000\n",
    "Vhigh1 = 4800 * 100000\n",
    "Distlow1 = (8.04-1.35) *  3.086*10**21 \n",
    "Disthigh1 = (8.04+1.78) *  3.086*10**21 "
   ]
  },
  {
   "cell_type": "code",
   "execution_count": 17,
   "id": "ac41c889-4f7b-45b9-b157-e0b884a7dffa",
   "metadata": {},
   "outputs": [],
   "source": [
    "def Con_TBlow(S,T,E,nu): #flux denisty, time, error of flux density, frequency in order those are the plug ins\n",
    "    R = []\n",
    "    CTB = []\n",
    "    CTBE = []\n",
    "\n",
    "    S = np.array(S)\n",
    "    T = np.array(T)\n",
    "    E = np.array(E)\n",
    "    \n",
    "    for i in range(len(S)):\n",
    "        R.append(Vhigh1 * T[i])  #velocity over time                  #R in cm\n",
    "        angular_diam = 206265 * ((2*R[i])/ Distlow1)                       #unitless\n",
    "        CTB.append(1765.8 * (nu**(-2)) * S[i]*(angular_diam**(-2)))    #mJy / (Ghz^2)\n",
    "        CTBE.append(1765.8 * (nu**(-2)) * E[i]*(angular_diam**(-2)))\n",
    "    \n",
    "    return(CTB, CTBE)\n",
    "\n",
    "\n",
    "\n",
    "def Con_TBhigh(S,T,E,nu): #flux denisty, time, error of flux density, frequency in order those are the plug ins\n",
    "    R = []\n",
    "    CTB = []\n",
    "    CTBE = []\n",
    "\n",
    "    S = np.array(S)\n",
    "    T = np.array(T)\n",
    "    E = np.array(E)\n",
    "    \n",
    "    for i in range(len(S)):\n",
    "        R.append(Vlow1 * T[i])  #velocity over time                  #R in cm\n",
    "        angular_diam = 206265 * ((2*R[i])/ Disthigh1)                       #unitless\n",
    "        CTB.append(1765.8 * (nu**(-2)) * S[i]*(angular_diam**(-2)))    #mJy / (Ghz^2)\n",
    "        CTBE.append(1765.8 * (nu**(-2)) * E[i]*(angular_diam**(-2)))\n",
    "    \n",
    "    return(CTB, CTBE)"
   ]
  },
  {
   "cell_type": "code",
   "execution_count": 18,
   "id": "eb10a1f0-4a80-474b-9b15-38780fda5166",
   "metadata": {},
   "outputs": [
    {
     "name": "stdout",
     "output_type": "stream",
     "text": [
      "[np.float64(34947.398351101554), np.float64(44573.646754783396), np.float64(85420.34240609648), np.float64(776489.0478911231)]\n"
     ]
    }
   ],
   "source": [
    "CTB_nuhigh1, CTBError_nuhigh1 = Con_TBhigh(flux1_35_1, date_CAC_sec_n1_35_1, flux_err1_35_1, nu1_35_1)\n",
    "print(CTB_nuhigh1)"
   ]
  },
  {
   "cell_type": "code",
   "execution_count": 19,
   "id": "0fc6a36e-68ef-4955-8ee4-9ed3585a2e9c",
   "metadata": {},
   "outputs": [
    {
     "name": "stdout",
     "output_type": "stream",
     "text": [
      "[np.float64(16219.748293537617), np.float64(20687.472172441645), np.float64(39645.195875675556), np.float64(360383.24750104645)]\n"
     ]
    }
   ],
   "source": [
    "CTB_nulow1, CTBError_nulow1 = Con_TBlow(flux1_35_1, date_CAC_sec_n1_35_1, flux_err1_35_1, nu1_35_1)\n",
    "print(CTB_nulow1)"
   ]
  },
  {
   "cell_type": "markdown",
   "id": "6488c9b2-b05e-4d0c-bf57-b5c816697409",
   "metadata": {},
   "source": [
    "## Now V1535 Sco, ending everything with 2"
   ]
  },
  {
   "cell_type": "code",
   "execution_count": 20,
   "id": "1993352a-35dd-4200-a492-7881e1da9548",
   "metadata": {},
   "outputs": [],
   "source": [
    "f1_26_2 = ([57187.2, 1.26, 0.277, 0.116], #BnA _> A\n",
    "         [57158.3, 1.26, -0.152, 0.177], #B_> BnA\n",
    "         [57143.3, 1.26, -0.0723, 0.106], #B\n",
    "         [57130.35, 1.26, 0.444, 0.0813],\n",
    "         [57120.57, 1.26, 0.873, 0.1], #B\n",
    "         [57106.47, 1.26, 0.273, 0.112], #B\n",
    "         [57091.4, 1.26, 0.153, 0.0738], #B\n",
    "         [57082.5, 1.26, 0.0142, 0.101], #B\n",
    "         [57072.5, 1.26, 1.57, 0.0765], #B\n",
    "        )\n",
    "\n",
    "df1_26_2 =  pd.DataFrame(f1_26_2, columns = [\"MJD\", \"Freq (GHz)\", \"Flux Density (mJy)\", \"Uncertainty (mJy)\"])"
   ]
  },
  {
   "cell_type": "code",
   "execution_count": 21,
   "id": "3ebdbdfa-c81d-44e4-b3e9-29b930f990c6",
   "metadata": {},
   "outputs": [],
   "source": [
    "mask2 = df1_26_2['Flux Density (mJy)'] > 3 * np.sqrt(df1_26_2[\"Uncertainty (mJy)\"]**2 + (df1_26_2[\"Flux Density (mJy)\"]*0.05)**2) #don't show the non-detections\n",
    "if mask2.any():\n",
    "        days1_26_2 = df1_26_2['MJD'][mask2] - 57064.837\n",
    "        flux1_26_2 = df1_26_2[\"Flux Density (mJy)\"][mask2]\n",
    "        flux_err1_26_2 = np.sqrt(df1_26_2[\"Uncertainty (mJy)\"][mask2]**2 + (df1_26_2[\"Flux Density (mJy)\"][mask2]*0.05)**2)"
   ]
  },
  {
   "cell_type": "code",
   "execution_count": 22,
   "id": "d5f82b01-93ac-47f5-b66a-29598fa2f3dd",
   "metadata": {},
   "outputs": [],
   "source": [
    "nu1_26_2 = 1.26\n",
    "date_CAC_sec_n1_26_2 = days1_26_2 * 86400    #time in seconds  (date_CAC is going to be a list of times (from t0))\n",
    "\n",
    "Vlow2 =  1659* 100000\n",
    "Vhigh2 =  4782* 100000\n",
    "Distlow2 = (7.79-.69) *  3.086*10**21 \n",
    "Disthigh2 = (7.79+.75) *  3.086*10**21 "
   ]
  },
  {
   "cell_type": "code",
   "execution_count": 23,
   "id": "7859dfdd-43ce-450c-b425-2dfa14a6dc15",
   "metadata": {},
   "outputs": [],
   "source": [
    "def Con_TBlow(S,T,E,nu): #flux denisty, time, error of flux density, frequency in order those are the plug ins\n",
    "    R = []\n",
    "    CTB = []\n",
    "    CTBE = []\n",
    "\n",
    "    S = np.array(S)\n",
    "    T = np.array(T)\n",
    "    E = np.array(E)\n",
    "    \n",
    "    for i in range(len(S)):\n",
    "        R.append(Vhigh2 * T[i])  #velocity over time                  #R in cm\n",
    "        angular_diam = 206265 * ((2*R[i])/ Distlow2)                       #unitless\n",
    "        CTB.append(1765.8 * (nu**(-2)) * S[i]*(angular_diam**(-2)))    #mJy / (Ghz^2)\n",
    "        CTBE.append(1765.8 * (nu**(-2)) * E[i]*(angular_diam**(-2)))\n",
    "    \n",
    "    return(CTB, CTBE)\n",
    "\n",
    "\n",
    "\n",
    "def Con_TBhigh(S,T,E,nu): #flux denisty, time, error of flux density, frequency in order those are the plug ins\n",
    "    R = []\n",
    "    CTB = []\n",
    "    CTBE = []\n",
    "\n",
    "    S = np.array(S)\n",
    "    T = np.array(T)\n",
    "    E = np.array(E)\n",
    "    \n",
    "    for i in range(len(S)):\n",
    "        R.append(Vlow2 * T[i])  #velocity over time                  #R in cm\n",
    "        angular_diam = 206265 * ((2*R[i])/ Disthigh2)                       #unitless\n",
    "        CTB.append(1765.8 * (nu**(-2)) * S[i]*(angular_diam**(-2)))    #mJy / (Ghz^2)\n",
    "        CTBE.append(1765.8 * (nu**(-2)) * E[i]*(angular_diam**(-2)))\n",
    "    \n",
    "    return(CTB, CTBE)"
   ]
  },
  {
   "cell_type": "code",
   "execution_count": 24,
   "id": "8ceb798a-4b73-4b80-897c-6100f42ffe04",
   "metadata": {},
   "outputs": [
    {
     "name": "stdout",
     "output_type": "stream",
     "text": [
      "[np.float64(2285623.391380324), np.float64(6209635.072861461), np.float64(590715923.2441869)]\n"
     ]
    }
   ],
   "source": [
    "CTB_nuhigh2, CTBError_nuhigh2 = Con_TBhigh(flux1_26_2, date_CAC_sec_n1_26_2, flux_err1_26_2, nu1_26_2)\n",
    "print(CTB_nuhigh2)"
   ]
  },
  {
   "cell_type": "code",
   "execution_count": 25,
   "id": "323a8425-bfe4-49a7-8b9a-78bdae656a13",
   "metadata": {},
   "outputs": [
    {
     "name": "stdout",
     "output_type": "stream",
     "text": [
      "[np.float64(190142.52488807615), np.float64(516583.65758777875), np.float64(49142049.19359383)]\n"
     ]
    }
   ],
   "source": [
    "CTB_nulow2, CTBError_nulow2 = Con_TBlow(flux1_26_2, date_CAC_sec_n1_26_2, flux_err1_26_2, nu1_26_2)\n",
    "print(CTB_nulow2)"
   ]
  },
  {
   "cell_type": "markdown",
   "id": "1093dc3e-d7a6-4c1b-95df-859d0ba4c84f",
   "metadata": {},
   "source": [
    "## Now RS Oph, dentoed with ending of 3"
   ]
  },
  {
   "cell_type": "code",
   "execution_count": 26,
   "id": "68e293aa-876f-4ff2-8803-2bff331fd62a",
   "metadata": {},
   "outputs": [],
   "source": [
    "f2_6_3 = (\n",
    "    [59439.04,\t2.6,\t4.71,\t0.14],\n",
    "    [59440.08,\t2.6,\t18.206,\t0.11],\n",
    "    [59443.99,\t2.6,\t68.929,\t0.37],\n",
    "    [59446.01,\t2.6,\t88.695,\t0.21],\n",
    "    [59446.99,\t2.6,\t84.443,\t0.34],\n",
    "    [59451.01,\t2.6,\t92.534,\t0.24],\t\n",
    "    [59461.01,\t2.6,\t94.467,\t0.22],\n",
    "    [59463.02,\t2.6,\t88.638,\t0.2],\t\t\n",
    "    [59466.04,\t2.6,\t58.862,\t0.17],\t\t\t\n",
    "    [59467.99,\t2.6,\t81.96,\t0.23],\n",
    "    [59470.01,\t2.6,\t74.216,\t0.24],\n",
    "    [59487.96,\t2.6,\t65.358,\t0.18],\n",
    "    [59510.94,\t2.6,\t27.414,\t0.13],\n",
    "    [59511.92,\t2.6,\t36.139,\t0.13],\n",
    "    [59523.82,\t2.6,\t32.964,\t0.13],\t\t\n",
    "    [59574.76,\t2.6,\t17.902,\t0.2],\n",
    "    [59588.66,\t2.6,\t24.59,\t0.16],\n",
    "    [59590.61,\t2.6,\t24.388,\t0.21],\n",
    "    [59595.61,\t2.6,\t23.163,\t0.16],\n",
    "    [60034.47,\t2.6,\t3.295,\t0.17],\n",
    "    [60049.34,\t2.6,\t2.777,\t0.17],\n",
    "    [60131.12,\t2.6,\t1.808,\t0.017],\n",
    ")\n",
    "\n",
    "df2_6_3 =  pd.DataFrame(f2_6_3, columns = [\"MJD\", \"Freq (GHz)\", \"Flux Density (mJy)\", \"Uncertainty (mJy)\"])"
   ]
  },
  {
   "cell_type": "code",
   "execution_count": 27,
   "id": "3963ce2b-8a5b-453b-97cf-b65dc8d1b841",
   "metadata": {},
   "outputs": [],
   "source": [
    "mask3 = df2_6_3['Flux Density (mJy)'] > 3 * np.sqrt(df2_6_3[\"Uncertainty (mJy)\"]**2 + (df2_6_3[\"Flux Density (mJy)\"]*0.05)**2) #don't show the non-detections\n",
    "days2_6_3 = df2_6_3['MJD'][mask3] - 59434\n",
    "flux2_6_3 = df2_6_3[\"Flux Density (mJy)\"][mask3]\n",
    "flux_err2_6_3 = np.sqrt(df2_6_3[\"Uncertainty (mJy)\"][mask3]**2 + (df2_6_3[\"Flux Density (mJy)\"][mask3]*0.05)**2)"
   ]
  },
  {
   "cell_type": "code",
   "execution_count": 28,
   "id": "e6fa2284-4520-459b-93b9-aad020262718",
   "metadata": {},
   "outputs": [],
   "source": [
    "nu2_6_3 = 2.6\n",
    "date_CAC_sec_n2_6_3 = days2_6_3 * 86400    #time in seconds  (date_CAC is going to be a list of times (from t0))\n",
    "\n",
    "Vlow3 = 2700 * 100000\n",
    "Vhigh3 = 3700 * 100000\n",
    "Distlow3 = (2.71-.13) *  3.086*10**21    \n",
    "Disthigh3 = (2.71+.2) *  3.086*10**21    "
   ]
  },
  {
   "cell_type": "code",
   "execution_count": 29,
   "id": "5ca9b4f8-af24-4853-aa75-71b53e6d84be",
   "metadata": {},
   "outputs": [],
   "source": [
    "def Con_TBlow(S,T,E,nu): #flux denisty, time, error of flux density, frequency in order those are the plug ins\n",
    "    R = []\n",
    "    CTB = []\n",
    "    CTBE = []\n",
    "\n",
    "    S = np.array(S)\n",
    "    T = np.array(T)\n",
    "    E = np.array(E)\n",
    "    \n",
    "    for i in range(len(S)):\n",
    "        R.append(Vhigh3 * T[i])  #velocity over time                  #R in cm\n",
    "        angular_diam = 206265 * ((2*R[i])/ Distlow3)                       #unitless\n",
    "        CTB.append(1765.8 * (nu**(-2)) * S[i]*(angular_diam**(-2)))    #mJy / (Ghz^2)\n",
    "        CTBE.append(1765.8 * (nu**(-2)) * E[i]*(angular_diam**(-2)))\n",
    "    \n",
    "    return(CTB, CTBE)\n",
    "\n",
    "\n",
    "\n",
    "def Con_TBhigh(S,T,E,nu): #flux denisty, time, error of flux density, frequency in order those are the plug ins\n",
    "    R = []\n",
    "    CTB = []\n",
    "    CTBE = []\n",
    "\n",
    "    S = np.array(S)\n",
    "    T = np.array(T)\n",
    "    E = np.array(E)\n",
    "    \n",
    "    for i in range(len(S)):\n",
    "        R.append(Vlow3 * T[i])  #velocity over time                  #R in cm\n",
    "        angular_diam = 206265 * ((2*R[i])/ Disthigh3)                       #unitless\n",
    "        CTB.append(1765.8 * (nu**(-2)) * S[i]*(angular_diam**(-2)))    #mJy / (Ghz^2)\n",
    "        CTBE.append(1765.8 * (nu**(-2)) * E[i]*(angular_diam**(-2)))\n",
    "    \n",
    "    return(CTB, CTBE)"
   ]
  },
  {
   "cell_type": "code",
   "execution_count": 30,
   "id": "84ba6953-f516-4f9f-a569-ab98044fc8be",
   "metadata": {},
   "outputs": [
    {
     "name": "stdout",
     "output_type": "stream",
     "text": [
      "[np.float64(42176096.80029783), np.float64(112024736.47509353), np.float64(157100494.6939254), np.float64(139868421.7343949), np.float64(113828733.30681664), np.float64(72744348.69755195), np.float64(29453540.445128653), np.float64(23940415.474956546), np.float64(13042371.023531782), np.float64(16136382.193271099), np.float64(13018407.21001142), np.float64(5105772.068127274), np.float64(1053354.598659835), np.float64(1353894.4078487197), np.float64(929395.0501035245), np.float64(205517.86874597374), np.float64(233834.75881869806), np.float64(226174.5621994498), np.float64(201727.40310139046), np.float64(2078.6402901510223), np.float64(1668.2154401036762), np.float64(846.2328730352525)]\n"
     ]
    }
   ],
   "source": [
    "CTB_nuhigh3, CTBError_nuhigh3 = Con_TBhigh(flux2_6_3, date_CAC_sec_n2_6_3, flux_err2_6_3, nu2_6_3)\n",
    "print(CTB_nuhigh3)"
   ]
  },
  {
   "cell_type": "code",
   "execution_count": 31,
   "id": "6c6ede24-2268-45f8-a704-a7760c64d8cc",
   "metadata": {},
   "outputs": [
    {
     "name": "stdout",
     "output_type": "stream",
     "text": [
      "[np.float64(17654031.594527833), np.float64(46891210.59410104), np.float64(65758979.7836135), np.float64(58545994.620306216), np.float64(47646325.91960082), np.float64(30449262.2043883), np.float64(12328635.72110667), np.float64(10020956.969589027), np.float64(5459263.601542153), np.float64(6754351.935653105), np.float64(5449232.850640356), np.float64(2137169.3504966563), np.float64(440912.19377253024), np.float64(566711.8691658321), np.float64(389025.3205746991), np.float64(86025.47943829227), np.float64(97878.33709768372), np.float64(94671.93908089167), np.float64(84438.869834177), np.float64(870.0753303403246), np.float64(698.2800761653576), np.float64(354.21537340522485)]\n"
     ]
    }
   ],
   "source": [
    "CTB_nulow3, CTBError_nulow3 = Con_TBlow(flux2_6_3, date_CAC_sec_n2_6_3, flux_err2_6_3, nu2_6_3)\n",
    "print(CTB_nulow3)"
   ]
  },
  {
   "cell_type": "markdown",
   "id": "010abe1b-fdb4-4cc6-869e-0e7d90cec3c8",
   "metadata": {},
   "source": [
    "## Now V1534 Sco, denoted with an ending of 4"
   ]
  },
  {
   "cell_type": "code",
   "execution_count": 32,
   "id": "c96d7dca-f0a4-429d-816b-1e1f3cf38f63",
   "metadata": {},
   "outputs": [],
   "source": [
    "f1_26_4 = ([56757.5,\t1.26,\t14.9,\t0.0489],#13B-057\tJustin\t4/10/2014\tA\tJMFIT, dowidth -1)\n",
    "         [56768.4,\t1.26,\t10.998,\t0.056],#13B-057\tJustin\t4/21/2014\tA\tJMFIT, dowidth -1\n",
    "         [56774.4,\t1.26,\t9.64,\t0.0464],#13B-057\tJustin\t4/27/2014\tA\tJMFIT, dowidth -1\n",
    "         [56788.3,\t1.26,\t7.29,\t0.0473],#13B-057\tJustin\t5/11/2014\tA\tJMFIT, dowidth -1\n",
    "         [56821.3,\t1.26,\t2.75,\t0.0824],#13B-057\tJustin\t6/13/2014\tA->D (move)\tJMFIT, dowidth -1\n",
    "         [56841.2,\t1.26,\t3.53,\t0.0426],#13B-057\tJustin\t7/3/2014\tD\tJMFIT, dowidth -1\n",
    "         [56881,\t1.26,\t1.24,\t0.491],#13B-057\tJustin\t8/12/2014\tD\tJMFIT, dowidth -1\n",
    "         [56908.1,\t1.26,\t1.19,\t0.313],#13B-057\tJustin\t9/8/2014\tD\tJMFIT had problems this time, used peak flux and off-source rms from difmap\n",
    "         [56950.9,\t1.26,\t0.88,\t0.176],#13B-057\tJustin\t10/20/2014\tC\tJMFIT, dowidth -1\n",
    "         [56969.9,\t1.26,\t0.461,\t0.178],#13B-057\tJustin\t11/8/2014\tC\tNON-DETECTION, very noisy, flux and rms from Difmap\n",
    "         [56997.8,\t1.35,\t0.398,\t0.156],#13B-057\tJustin\t12/6/2014\tC\tNON-DETECTION, flux and rms from difmap, very messy, cut out short baselines to get rid of the worst of it; NOTE: observed in same block as Sgr 2014, calibrated with CASA pipeline\n",
    "         [57039.7,\t1.26,\t0.272,\t0.136],#13B-057\tJustin\t1/17/2015\tCnB\tnon-detection, flux and rms from difmap; NOTE: observed in same block as Sgr 2014, calibrated with CASA pipeline\n",
    "         [57082.6,\t1.26,\t0.192,\t0.116],#13B-057\tJustin\t3/1/2015\tB\tnon-detection, flux and rms from difmap; NOTE: observed in same block as Sgr 2014, calibrated with CASA pipeline\n",
    "         [57136.4,\t1.26,\t0.115,\t0.0965],#13B-057\tJustin\t4/24/2015\tB\tnon-detection, flux and rms from difmap; NOTE: observed in same block as Sgr 2014, calibrated with CASA pipeline\n",
    "         \n",
    "        )\n",
    "\n",
    "df1_26_4 =  pd.DataFrame(f1_26_4, columns = [\"MJD\", \"Freq (GHz)\", \"Flux Density (mJy)\", \"Uncertainty (mJy)\"])"
   ]
  },
  {
   "cell_type": "code",
   "execution_count": 33,
   "id": "759f40b0-1b7e-4a1a-a348-7e8f1eefbcb7",
   "metadata": {},
   "outputs": [],
   "source": [
    "mask4 = df1_26_4['Flux Density (mJy)'] > 3 * np.sqrt(df1_26_4[\"Uncertainty (mJy)\"]**2 + (df1_26_4[\"Flux Density (mJy)\"]*0.05)**2) #don't show the non-detections\n",
    "if mask4.any():\n",
    "        days1_26_4 = df1_26_4['MJD'][mask4] - 56742.85\n",
    "        flux1_26_4 = df1_26_4[\"Flux Density (mJy)\"][mask4]\n",
    "        flux_err1_26_4 = np.sqrt(df1_26_4[\"Uncertainty (mJy)\"][mask4]**2 + (df1_26_4[\"Flux Density (mJy)\"][mask4]*0.05)**2)\n"
   ]
  },
  {
   "cell_type": "code",
   "execution_count": 34,
   "id": "a481f210-fd23-4308-bb15-347c0eecdfcf",
   "metadata": {},
   "outputs": [],
   "source": [
    "nu1_26_4 = 1.26\n",
    "date_CAC_sec_n1_26_4 = days1_26_4 * 86400    #time in seconds  (date_CAC is going to be a list of times (from t0))\n",
    "\n",
    "Vlow4 =  4000* 100000\n",
    "Vhigh4 =  4200* 100000\n",
    "Distlow4 = (9.11-1.55) *  3.086*10**21    \n",
    "Disthigh4 = (9.11+2.14) *  3.086*10**21    "
   ]
  },
  {
   "cell_type": "code",
   "execution_count": 35,
   "id": "98815f8d-045d-4414-bbe9-d0c58d847906",
   "metadata": {},
   "outputs": [],
   "source": [
    "def Con_TBlow(S,T,E,nu): #flux denisty, time, error of flux density, frequency in order those are the plug ins\n",
    "    R = []\n",
    "    CTB = []\n",
    "    CTBE = []\n",
    "\n",
    "    S = np.array(S)\n",
    "    T = np.array(T)\n",
    "    E = np.array(E)\n",
    "    \n",
    "    for i in range(len(S)):\n",
    "        R.append(Vhigh4 * T[i])  #velocity over time                  #R in cm\n",
    "        angular_diam = 206265 * ((2*R[i])/ Distlow4)                       #unitless\n",
    "        CTB.append(1765.8 * (nu**(-2)) * S[i]*(angular_diam**(-2)))    #mJy / (Ghz^2)\n",
    "        CTBE.append(1765.8 * (nu**(-2)) * E[i]*(angular_diam**(-2)))\n",
    "    \n",
    "    return(CTB, CTBE)\n",
    "\n",
    "\n",
    "\n",
    "def Con_TBhigh(S,T,E,nu): #flux denisty, time, error of flux density, frequency in order those are the plug ins\n",
    "    R = []\n",
    "    CTB = []\n",
    "    CTBE = []\n",
    "\n",
    "    S = np.array(S)\n",
    "    T = np.array(T)\n",
    "    E = np.array(E)\n",
    "    \n",
    "    for i in range(len(S)):\n",
    "        R.append(Vlow4 * T[i])  #velocity over time                  #R in cm\n",
    "        angular_diam = 206265 * ((2*R[i])/ Disthigh4)                       #unitless\n",
    "        CTB.append(1765.8 * (nu**(-2)) * S[i]*(angular_diam**(-2)))    #mJy / (Ghz^2)\n",
    "        CTBE.append(1765.8 * (nu**(-2)) * E[i]*(angular_diam**(-2)))\n",
    "    \n",
    "    return(CTB, CTBE)"
   ]
  },
  {
   "cell_type": "code",
   "execution_count": 36,
   "id": "a094339a-17cd-4c7c-acfb-3b83cd17c3fb",
   "metadata": {},
   "outputs": [
    {
     "name": "stdout",
     "output_type": "stream",
     "text": [
      "[np.float64(457878011.882456), np.float64(111114484.51234087), np.float64(63872964.91961055), np.float64(23275473.38620408), np.float64(2947036.8571066237), np.float64(2406937.128739847), np.float64(287410.60870666313), np.float64(134086.7922479399)]\n"
     ]
    }
   ],
   "source": [
    "CTB_nuhigh4, CTBError_nuhigh4 = Con_TBhigh(flux1_26_4, date_CAC_sec_n1_26_4, flux_err1_26_4, nu1_26_4)\n",
    "print(CTB_nuhigh4)"
   ]
  },
  {
   "cell_type": "code",
   "execution_count": 37,
   "id": "1823e25b-de4e-4cea-900c-4069807ea317",
   "metadata": {},
   "outputs": [
    {
     "name": "stdout",
     "output_type": "stream",
     "text": [
      "[np.float64(187546833.66705394), np.float64(45512492.85625482), np.float64(26162366.431072477), np.float64(9533633.898989188), np.float64(1207106.2966708723), np.float64(985881.4479318409), np.float64(117723.38532624919), np.float64(54921.95010475616)]\n"
     ]
    }
   ],
   "source": [
    "CTB_nulow4, CTBError_nulow4 = Con_TBlow(flux1_26_4, date_CAC_sec_n1_26_4, flux_err1_26_4, nu1_26_4)\n",
    "print(CTB_nulow4)"
   ]
  },
  {
   "cell_type": "markdown",
   "id": "2d2e3732-533a-4803-a7de-c0e010a2fdb9",
   "metadata": {},
   "source": [
    "## Now V407 Cyg, denoted with an ending of 5"
   ]
  },
  {
   "cell_type": "code",
   "execution_count": 38,
   "id": "b7b9deb4-0fe0-4399-82a8-d42205945e86",
   "metadata": {},
   "outputs": [],
   "source": [
    "f1_4_5 = (\n",
    "    [55289.7,    3.0,  1.4,  2.980,  0.500,  0.000,  0.050], #'AS1039',\t'D']\n",
    "    [55298.7,    5.0,  1.4,  4.040,  0.300,  0.000,  0.050], #'AS1039',\t'D']\n",
    "    [55301.7,    6.0,  1.4,  3.597,  0.330,  0.000,  0.050], #'AS1039',\t'D']\n",
    "    [55304.7 ,   7.0 , 1.4,  4.780,  0.300,  0.000,  0.050], #'AS1039',\t'D]\n",
    "    [55308.7  ,  8.0  ,1.4,  5.482,  0.300,  0.000,  0.050], #'AS1039',\t'D']\n",
    "    [55311.7  ,  9.0 , 1.4,  5.780,  0.320,  0.000,  0.050], #'AS1039',\t'D']\n",
    "    [55315.6,   10.0  ,1.4,  5.944, 0.260,  0.000,  0.050], #'AS1039',\t'D']\n",
    "    [55318.6,   11.0  ,1.4,  5.760, 0.280,  0.000,  0.050], #'AS1039',\t'D']\n",
    "    [55323.6,   12.0  ,1.4,  6.441,  0.300,  0.000,  0.050], #'AS1039',\t'D']\n",
    "    [55330.5 ,  13.0  ,1.4,  5.355,  0.280,  0.000,  0.050], #'AS1039',\t'D']\n",
    "    [55332.6 ,  14.0  ,1.4,  5.803,  0.280,  0.000,  0.050], #'AS1039',\t'D']\t\n",
    "    [55341.6 ,  15.0  ,1.4,  5.853,  0.300,  0.000,  0.050], #'AS1039',\t'D']\n",
    "    [55345.6 ,  16.0  ,1.4,  5.828,  0.290,  0.000,  0.050], #'AS1039',\t'D']\n",
    "    [55362.5 ,  17.0,\t1.4,  5.606,  0.260,  0.000,  0.050], #'AS1039',\t'D']\n",
    "    [55367.6,\t  18.0,\t1.4,  5.763,  0.330,  0.000,  0.050], #'AS1039',\t'D']\n",
    "    [55368.5,\t  19.0,\t1.4,  5.905,  0.290,  0.000,  0.050], #'AS1039',\t'D']\n",
    "    [55404.4 ,  20.0,  1.4,  6.917,  0.280,  0.000,  0.050], #'10B-233', 'D']\n",
    "    [55419.4,\t  21.0,\t1.4,  7.924,  0.330,  0.000,  0.050],\t#'10B-233', 'D']\n",
    "    [55434.3,\t  22.0,\t1.4,  5.489,  0.260,  0.000,  0.050], #'10B-233', 'D']\n",
    "    [55449.2,\t  23.0, \t1.4,  5.608,  0.240,  0.000,  0.050], #'10B-233', 'D']\n",
    "    [55469.2,\t  24.0,\t1.4,  5.582,  0.145,  0.000,  0.050],#'10B-233', 'DnC']\n",
    "\n",
    "#and the 1.3 frequency as well\n",
    "    [55625.4 ,  25.0 , 1.3,  4.220,  0.163,  0.000,  0.050], #'11A-254', 'B']\n",
    "    [55735.4 ,  26.0,  1.3,  3.596,  0.081,  0.000,  0.050], #'11A-254', 'A']\n",
    "    [55869.1 ,  27.0,  1.3,  3.642,  0.534,  0.000,  0.050], #'11B-170', 'D']\n",
    "    [55934.8 ,  28.0,  1.3,  4.688,  1.020,  0.000,  0.050], #'11B-170', 'DnC *held width constant']\n",
    "    [56035.4 ,  29.0,  1.3,  2.940,  0.301,  0.000,  0.050], #'11B-170', 'C']\n",
    "# the 1.5 frequency \n",
    "    [55284.8,    2.0,  1.5, -0.124,  0.720,  0.000,  0.050]) #'AL733',   'D *non detection']\n",
    "\n",
    "\n",
    "df_1_4_5 = pd.DataFrame(f1_4_5, columns = [\"MJD\",\"Epoch\",\"Freq\",\"Flux\",\"Error1 (gaussfit)\",\"Error2 (image)\",\"Error3 (calibration) (%)\",])"
   ]
  },
  {
   "cell_type": "code",
   "execution_count": 39,
   "id": "f94ad9e0-8825-4c20-a89b-b79e92395e1c",
   "metadata": {},
   "outputs": [],
   "source": [
    "mask5 = df_1_4_5['Flux'] > 3 * np.sqrt(df_1_4_5[\"Error1 (gaussfit)\"]**2 + (df_1_4_5[\"Flux\"]*0.05)**2) #don't show the non-detections\n",
    "if mask5.any():\n",
    "        days1_4_5 = (df_1_4_5['MJD'][mask5] - 55265.8)\n",
    "        flux1_4_5 = df_1_4_5[\"Flux\"][mask5]\n",
    "        flux_err1_4_5 = np.sqrt(df_1_4_5[\"Error1 (gaussfit)\"][mask5]**2 + (df_1_4_5[\"Flux\"][mask5]*0.05)**2)\n"
   ]
  },
  {
   "cell_type": "code",
   "execution_count": 40,
   "id": "d0307ae8-0b01-443c-bd22-9d4508de4e4a",
   "metadata": {},
   "outputs": [],
   "source": [
    "nu1_4_5 = 1.4\n",
    "date_CAC_sec_n1_4_5 = days1_4_5 * 86400    #time in seconds  (date_CAC is going to be a list of times (from t0))\n",
    "\n",
    "Vlow5 =  (3200-345)* 100000\n",
    "Vhigh5 =  (3200+345)* 100000\n",
    "Distlow5 = (4.8-1.5) *  3.086*10**21    \n",
    "Disthigh5 =  (4.8-1.5)*  3.086*10**21    "
   ]
  },
  {
   "cell_type": "code",
   "execution_count": 41,
   "id": "272653ad-af4e-4ccd-b1eb-b0bdccad75cf",
   "metadata": {},
   "outputs": [],
   "source": [
    "def Con_TBlow(S,T,E,nu): #flux denisty, time, error of flux density, frequency in order those are the plug ins\n",
    "    R = []\n",
    "    CTB = []\n",
    "    CTBE = []\n",
    "\n",
    "    S = np.array(S)\n",
    "    T = np.array(T)\n",
    "    E = np.array(E)\n",
    "    \n",
    "    for i in range(len(S)):\n",
    "        R.append(Vhigh5 * T[i])  #velocity over time                  #R in cm\n",
    "        angular_diam = 206265 * ((2*R[i])/ Distlow5)                       #unitless\n",
    "        CTB.append(1765.8 * (nu**(-2)) * S[i]*(angular_diam**(-2)))    #mJy / (Ghz^2)\n",
    "        CTBE.append(1765.8 * (nu**(-2)) * E[i]*(angular_diam**(-2)))\n",
    "    \n",
    "    return(CTB, CTBE)\n",
    "\n",
    "\n",
    "\n",
    "def Con_TBhigh(S,T,E,nu): #flux denisty, time, error of flux density, frequency in order those are the plug ins\n",
    "    R = []\n",
    "    CTB = []\n",
    "    CTBE = []\n",
    "\n",
    "    S = np.array(S)\n",
    "    T = np.array(T)\n",
    "    E = np.array(E)\n",
    "    \n",
    "    for i in range(len(S)):\n",
    "        R.append(Vlow5 * T[i])  #velocity over time                  #R in cm\n",
    "        angular_diam = 206265 * ((2*R[i])/ Disthigh5)                       #unitless\n",
    "        CTB.append(1765.8 * (nu**(-2)) * S[i]*(angular_diam**(-2)))    #mJy / (Ghz^2)\n",
    "        CTBE.append(1765.8 * (nu**(-2)) * E[i]*(angular_diam**(-2)))\n",
    "    \n",
    "    return(CTB, CTBE)"
   ]
  },
  {
   "cell_type": "code",
   "execution_count": 42,
   "id": "92fe4780-e7b1-4354-89ff-c00741a0bbfb",
   "metadata": {},
   "outputs": [
    {
     "name": "stdout",
     "output_type": "stream",
     "text": [
      "[np.float64(4707332.145104452), np.float64(3367781.832785395), np.float64(2518291.0459133335), np.float64(2850250.7891930235), np.float64(2687687.846478558), np.float64(2475465.328623825), np.float64(2162591.5208674134), np.float64(1864270.8931473247), np.float64(1739610.430375799), np.float64(1154264.3818639196), np.float64(1173421.4593073968), np.float64(919167.1472967187), np.float64(825787.1888974956), np.float64(540946.7624428986), np.float64(501773.17982486874), np.float64(505165.16546262946), np.float64(324896.995915802), np.float64(303051.4847535817), np.float64(174440.69206639988), np.float64(150440.13792796253), np.float64(121742.52797730772), np.float64(29446.078495904396), np.float64(14713.564154468371), np.float64(9028.750906247755), np.float64(9451.260816700818), np.float64(4478.902339904697)]\n"
     ]
    }
   ],
   "source": [
    "CTB_nuhigh5, CTBError_nuhigh5 = Con_TBhigh(flux1_4_5, date_CAC_sec_n1_4_5, flux_err1_4_5, nu1_4_5)\n",
    "print(CTB_nuhigh5)"
   ]
  },
  {
   "cell_type": "code",
   "execution_count": 43,
   "id": "7b5a54de-b675-47ba-929b-a61f36656918",
   "metadata": {},
   "outputs": [
    {
     "name": "stdout",
     "output_type": "stream",
     "text": [
      "[np.float64(3053195.3265032894), np.float64(2184357.388767793), np.float64(1633374.10982438), np.float64(1848684.588355801), np.float64(1743245.583488764), np.float64(1605597.17039204), np.float64(1402665.909503507), np.float64(1209173.9020823285), np.float64(1128318.6043040336), np.float64(748660.7079386213), np.float64(761086.0685286353), np.float64(596175.6578660611), np.float64(535609.0261126405), np.float64(350860.33363832143), np.float64(325452.18403576023), np.float64(327652.24011371256), np.float64(210729.55103810172), np.float64(196560.46108872734), np.float64(113142.96279752185), np.float64(97576.10295628998), np.float64(78962.71306106531), np.float64(19098.84972553799), np.float64(9543.279277488156), np.float64(5856.085617367524), np.float64(6130.127313222404), np.float64(2905.0347990174037)]\n"
     ]
    }
   ],
   "source": [
    "CTB_nulow5, CTBError_nulow5 = Con_TBlow(flux1_4_5, date_CAC_sec_n1_4_5, flux_err1_4_5, nu1_4_5)\n",
    "print(CTB_nulow5)"
   ]
  },
  {
   "cell_type": "markdown",
   "id": "c461fe68-b5fc-4a7a-834a-1df5e5e30b0c",
   "metadata": {},
   "source": [
    "## NowV723 Cas, denoted with an ending of 6"
   ]
  },
  {
   "cell_type": "code",
   "execution_count": 44,
   "id": "02904335-3a45-4a7c-aaf4-a9fc1e258fef",
   "metadata": {},
   "outputs": [],
   "source": [
    "\n",
    "f5_6 = (\t \n",
    "[50430, \t5.0,\t2.3,\t0.5],\t\n",
    "\n",
    "[50473, \t5.0,\t2.4,\t0.4],\t\n",
    "\n",
    "[50876, \t5.0,\t7.0,\t0.2],\t\t\n",
    "\n",
    "[51154, \t5.0,\t8.2,\t0.5],\t\n",
    "\n",
    "[51601,\t5.0,\t7.9,\t0.4],\n",
    "\n",
    "[51650,\t5.0,\t13.5,\t0.9],\n",
    "\n",
    "[51938,\t5.0,\t6.3,\t1.1],\n",
    "     \n",
    "[52063,\t5.0,\t4.0,\t0.7],\n",
    "\n",
    "[52208,\t5.0,\t5.4,\t0.3],\n",
    ")\n",
    "\n",
    "df5_6 =  pd.DataFrame(f5_6, columns = [\"MJD\",\t\"Freq (GHz)\",\t\"Flux (mJy)\",\t\"eFlux (mJy)\"])"
   ]
  },
  {
   "cell_type": "code",
   "execution_count": 45,
   "id": "69d27ac0-956b-43b9-9649-6dbde6b8f078",
   "metadata": {},
   "outputs": [],
   "source": [
    "mask6 = df5_6['Flux (mJy)'] > 3 * np.sqrt(df5_6[\"eFlux (mJy)\"]**2 + (df5_6[\"Flux (mJy)\"]*0.05)**2) #don't show the non-detections\n",
    "\n",
    "days5_6 = df5_6['MJD'][mask6]-49953\n",
    "flux5_6 = df5_6[\"Flux (mJy)\"][mask6]\n",
    "flux_err5_6 = np.sqrt(df5_6[\"eFlux (mJy)\"][mask6]**2 + (df5_6[\"Flux (mJy)\"][mask6]*0.05)**2)"
   ]
  },
  {
   "cell_type": "code",
   "execution_count": 46,
   "id": "fd400689-28c3-4930-b3f4-6fcaf943b0e4",
   "metadata": {},
   "outputs": [],
   "source": [
    "nu5_6 = 5\n",
    "date_CAC_sec_n5_6 = days5_6 * 86400    #time in seconds  (date_CAC is going to be a list of times (from t0))\n",
    "\n",
    "Vlow6 = 1750 * 100000\n",
    "Vhigh6 =  1750 * 100000\n",
    "Distlow6 =  (4.6-0.6) *  3.086*10**21    \n",
    "Disthigh6 =  (4.6+.8) *  3.086*10**21    "
   ]
  },
  {
   "cell_type": "code",
   "execution_count": 47,
   "id": "783c6cce-9f8e-4a86-b022-49bdf37003d0",
   "metadata": {},
   "outputs": [],
   "source": [
    "def Con_TBlow(S,T,E,nu): #flux denisty, time, error of flux density, frequency in order those are the plug ins\n",
    "    R = []\n",
    "    CTB = []\n",
    "    CTBE = []\n",
    "\n",
    "    S = np.array(S)\n",
    "    T = np.array(T)\n",
    "    E = np.array(E)\n",
    "    \n",
    "    for i in range(len(S)):\n",
    "        R.append(Vhigh6 * T[i])  #velocity over time                  #R in cm\n",
    "        angular_diam = 206265 * ((2*R[i])/ Distlow6)                       #unitless\n",
    "        CTB.append(1765.8 * (nu**(-2)) * S[i]*(angular_diam**(-2)))    #mJy / (Ghz^2)\n",
    "        CTBE.append(1765.8 * (nu**(-2)) * E[i]*(angular_diam**(-2)))\n",
    "    \n",
    "    return(CTB, CTBE)\n",
    "\n",
    "\n",
    "\n",
    "def Con_TBhigh(S,T,E,nu): #flux denisty, time, error of flux density, frequency in order those are the plug ins\n",
    "    R = []\n",
    "    CTB = []\n",
    "    CTBE = []\n",
    "\n",
    "    S = np.array(S)\n",
    "    T = np.array(T)\n",
    "    E = np.array(E)\n",
    "    \n",
    "    for i in range(len(S)):\n",
    "        R.append(Vlow6 * T[i])  #velocity over time                  #R in cm\n",
    "        angular_diam = 206265 * ((2*R[i])/ Disthigh6)                       #unitless\n",
    "        CTB.append(1765.8 * (nu**(-2)) * S[i]*(angular_diam**(-2)))    #mJy / (Ghz^2)\n",
    "        CTBE.append(1765.8 * (nu**(-2)) * E[i]*(angular_diam**(-2)))\n",
    "    \n",
    "    return(CTB, CTBE)"
   ]
  },
  {
   "cell_type": "code",
   "execution_count": 48,
   "id": "effa8d7c-77c2-4e53-b519-2a72f7034177",
   "metadata": {},
   "outputs": [
    {
     "name": "stdout",
     "output_type": "stream",
     "text": [
      "[np.float64(5096.327031758992), np.float64(4474.770490902077), np.float64(4142.484088648356), np.float64(2866.1178809000166), np.float64(1466.4892628515502), np.float64(2363.3949045447325), np.float64(806.0940922009007), np.float64(452.9615015909802), np.float64(535.3858371718574)]\n"
     ]
    }
   ],
   "source": [
    "CTB_nuhigh6, CTBError_nuhigh6 = Con_TBhigh(flux5_6, date_CAC_sec_n5_6, flux_err5_6, nu5_6)\n",
    "print(CTB_nuhigh6)"
   ]
  },
  {
   "cell_type": "code",
   "execution_count": 49,
   "id": "e94d4315-78cd-475f-9f9b-c7ef07169d25",
   "metadata": {},
   "outputs": [
    {
     "name": "stdout",
     "output_type": "stream",
     "text": [
      "[np.float64(2796.3385633794187), np.float64(2455.2924504263806), np.float64(2272.9679498756404), np.float64(1572.6298386282676), np.float64(804.658031742963), np.float64(1296.7873275965605), np.float64(442.30128515824464), np.float64(248.5385468263266), np.float64(293.76451971020987)]\n"
     ]
    }
   ],
   "source": [
    "CTB_nulow6, CTBError_nulow6 = Con_TBlow(flux5_6, date_CAC_sec_n5_6, flux_err5_6, nu5_6)\n",
    "print(CTB_nulow6)"
   ]
  },
  {
   "cell_type": "markdown",
   "id": "b39c1c9c-947e-4acd-9efb-13392de8c145",
   "metadata": {},
   "source": [
    "# Now U Sco, denoted with an ending of 7"
   ]
  },
  {
   "cell_type": "code",
   "execution_count": 50,
   "id": "75e35a31-a57c-4bef-86b7-55ebe02f048d",
   "metadata": {},
   "outputs": [],
   "source": [
    "f7_7 = (\n",
    "[59755.22,\t7.0,\t0.061,\t0.019],\n",
    "    [59769.25,\t7.0,\t0.115,\t0.029],\n",
    "    [59776.14,\t7.0,\t0.057,\t0.026],\n",
    "    [59796.03,\t7.0,\t0.030,\t0.020],\n",
    "    [59815.03,\t7.0,\t0.020,\t0.023],\n",
    ")\n",
    "\n",
    "df7_7 = pd.DataFrame(f7_7, columns = [\"MJD\",\t\"Frequency(GHz)\",\t\"Fluxdensity(mJy)\",\t\"error(mJy)\"])"
   ]
  },
  {
   "cell_type": "code",
   "execution_count": 51,
   "id": "6487b67d-56c6-45ff-8a38-932cd37b4ed9",
   "metadata": {},
   "outputs": [],
   "source": [
    "mask7 = df7_7['Fluxdensity(mJy)'] > 3 * np.sqrt(df7_7[\"error(mJy)\"]**2 + (df7_7[\"Fluxdensity(mJy)\"]*0.05)**2) #don't show the non-detections\n",
    "days7_7 = df7_7['MJD'][mask7] - 59736.72\n",
    "flux7_7 = df7_7[\"Fluxdensity(mJy)\"][mask7]\n",
    "flux_err7_7 = np.sqrt(df7_7[\"error(mJy)\"][mask7]**2 + (df7_7[\"Fluxdensity(mJy)\"][mask7]*0.05)**2)\n"
   ]
  },
  {
   "cell_type": "code",
   "execution_count": 52,
   "id": "1c05c720-9483-4bc1-9458-8e289409cc09",
   "metadata": {},
   "outputs": [],
   "source": [
    "Vlow7 =  5000* 100000\n",
    "Vhigh7 =  5000* 100000\n",
    "Distlow7 = (6.56-4.02) *  3.086*10**21    \n",
    "Disthigh7 =   (6.56+3.17)*  3.086*10**21    \n"
   ]
  },
  {
   "cell_type": "code",
   "execution_count": 53,
   "id": "40b79a28-bcc1-4e35-9faf-25747db324aa",
   "metadata": {},
   "outputs": [],
   "source": [
    "def Con_TBlow(S,T,E,nu): #flux denisty, time, error of flux density, frequency in order those are the plug ins\n",
    "    R = []\n",
    "    CTB = []\n",
    "    CTBE = []\n",
    "\n",
    "    S = np.array(S)\n",
    "    T = np.array(T)\n",
    "    E = np.array(E)\n",
    "    \n",
    "    for i in range(len(S)):\n",
    "        R.append(Vhigh7 * T[i])  #velocity over time                  #R in cm\n",
    "        angular_diam = 206265 * ((2*R[i])/ Distlow7)                       #unitless\n",
    "        CTB.append(1765.8 * (nu**(-2)) * S[i]*(angular_diam**(-2)))    #mJy / (Ghz^2)\n",
    "        CTBE.append(1765.8 * (nu**(-2)) * E[i]*(angular_diam**(-2)))\n",
    "    \n",
    "    return(CTB, CTBE)\n",
    "\n",
    "\n",
    "\n",
    "def Con_TBhigh(S,T,E,nu): #flux denisty, time, error of flux density, frequency in order those are the plug ins\n",
    "    R = []\n",
    "    CTB = []\n",
    "    CTBE = []\n",
    "\n",
    "    S = np.array(S)\n",
    "    T = np.array(T)\n",
    "    E = np.array(E)\n",
    "    \n",
    "    for i in range(len(S)):\n",
    "        R.append(Vlow7 * T[i])  #velocity over time                  #R in cm\n",
    "        angular_diam = 206265 * ((2*R[i])/ Disthigh7)                       #unitless\n",
    "        CTB.append(1765.8 * (nu**(-2)) * S[i]*(angular_diam**(-2)))    #mJy / (Ghz^2)\n",
    "        CTBE.append(1765.8 * (nu**(-2)) * E[i]*(angular_diam**(-2)))\n",
    "    \n",
    "    return(CTB, CTBE)\n",
    "        "
   ]
  },
  {
   "cell_type": "code",
   "execution_count": 54,
   "id": "82c533d8-a74f-4382-8d6c-99f96722cc24",
   "metadata": {},
   "outputs": [],
   "source": [
    "nu7_7 = 7\n",
    "date_CAC_sec_n7_7 = days7_7 * 86400    #time in seconds  (date_CAC is going to be a list of times (from t0))"
   ]
  },
  {
   "cell_type": "code",
   "execution_count": 55,
   "id": "e9015b57-d4c6-45ba-901a-7575df717e08",
   "metadata": {},
   "outputs": [
    {
     "name": "stdout",
     "output_type": "stream",
     "text": [
      "[np.float64(18233.53048300446), np.float64(11117.678295922626)]\n"
     ]
    }
   ],
   "source": [
    "CTB_nuhigh7, CTBError_nuhigh7 = Con_TBhigh(flux7_7, date_CAC_sec_n7_7, flux_err7_7, nu7_7)\n",
    "print(CTB_nuhigh7)"
   ]
  },
  {
   "cell_type": "code",
   "execution_count": 56,
   "id": "bdc7c89a-376d-4880-bf21-64a0414f1ca4",
   "metadata": {},
   "outputs": [
    {
     "name": "stdout",
     "output_type": "stream",
     "text": [
      "[np.float64(1242.546127393917), np.float64(757.6277191675168)]\n"
     ]
    }
   ],
   "source": [
    "CTB_nulow7, CTBError_nulow7 = Con_TBlow(flux7_7, date_CAC_sec_n7_7, flux_err7_7, nu7_7)\n",
    "print(CTB_nulow7)"
   ]
  },
  {
   "cell_type": "markdown",
   "id": "2e0efb8f",
   "metadata": {},
   "source": [
    "## V745 Sco with Distance 1 and 2"
   ]
  },
  {
   "cell_type": "code",
   "execution_count": 57,
   "id": "a7008594",
   "metadata": {},
   "outputs": [],
   "source": [
    "V745Sco_Dist = 2.4068e22 #cm \n",
    "V745Sco_DistER = 5.554219646e21 #cm \n",
    "#V_const =  4454.63 * 100000        #velocity in cm/s\n",
    "#nu0 = 0.61\n",
    "\n",
    "Day = [12,27,28,35,40,47,56,71,86,101,123,154,187,217]\n",
    "\n",
    "#Brightness Temp with Distance 1: \n",
    "TB_D1 = [81025421.71693124, 103209952.2043292, 94578596.39664678, 52429923.08482351, \n",
    "         34825786.39964176, 18906148.841113847,11752781.463995079, 5451096.343189586, \n",
    "         3037178.6085571, 1250671.1409884295,800041.9697291326, 455191.10565231094, \n",
    "         224517.03481057673, 111153.15240347793]\n",
    "\n",
    "\n",
    "#Brightness Temp error with Distance 1: \n",
    "TB_D1_ER = [11349171.288336212, 5514703.368274481, 5287104.268985473, 3072380.162983962, \n",
    "            1953726.4715131368, 1297346.8456933757, 636053.1656809354, 493156.47988032893, \n",
    "            183609.4416851284, 233026.74255865774, 108545.97158635214, 50891.91274959281, \n",
    "            33142.03283848339, 28338.604655134335]\n",
    "\n",
    "TB_D2 = [4315065.525712978, 5496518.218976727, 5036849.326218467, 2792192.2382519315, \n",
    "         1854671.621752709, 1006860.1848602456, 625902.6000962653, 290301.9498005561, \n",
    "         161747.07186348492, 66605.36668771913, 42606.79487435855, 24241.5208213723, \n",
    "         11956.811779777217, 5919.538903311168]\n",
    "\n",
    "TB_D2_ER = [604408.0577920368, 293689.3864262595, 281568.4371462127, 163621.75527444607, \n",
    "            104047.07023126235, 69091.11400001713, 33873.45637445649, 26263.393389644047, \n",
    "            9778.249285499822, 12410.002220006221, 5780.691664692863, 2710.284421728251, \n",
    "            1765.0021477580713, 1509.1922189727638]\n",
    "\n",
    "        "
   ]
  },
  {
   "cell_type": "markdown",
   "id": "b6e981a9-8296-40c1-8008-7fca2ee24df9",
   "metadata": {},
   "source": [
    "## Now to plot them all together"
   ]
  },
  {
   "cell_type": "code",
   "execution_count": 59,
   "id": "56b1873d-e15d-425a-8bf2-b69442d34f86",
   "metadata": {},
   "outputs": [
    {
     "data": {
      "image/png": "[encoded data removed]",
      "text/plain": [
       "<Figure size 1500x1000 with 1 Axes>"
      ]
     },
     "metadata": {},
     "output_type": "display_data"
    }
   ],
   "source": [
    "fig, ax = plt.subplots()\n",
    "fig.set_size_inches(15,10)\n",
    "\n",
    "ax.axhline(y=5*10**4, color='black', linestyle='--', linewidth=1.5)\n",
    "\n",
    "#using a function to plot the detections only\n",
    "# Store which labels have already been used\n",
    "used_labels = set()\n",
    "\n",
    "def plot(days, CTBs, CTBerrors, fluxes, errors, color, label_name):\n",
    "    for day, CTB, CTBerr, flux, err in zip(days, CTBs, CTBerrors, fluxes, errors):\n",
    "        if flux < 3 * err:\n",
    "            fmt = 'x'  # square for non-detection\n",
    "            label = None  # no label for non-detections\n",
    "            ax.errorbar(day, CTB, fmt=fmt, color=color, label=label)\n",
    "            \n",
    "        else:\n",
    "            fmt = '^'  # triangle for detection\n",
    "            label = label_name if label_name not in used_labels else None\n",
    "        \n",
    "            ax.errorbar(day, CTB, yerr=CTBerr, fmt=fmt, color=color, label=label)\n",
    "        \n",
    "        if label:\n",
    "            used_labels.add(label)\n",
    "\n",
    "## V392 Per ploting\n",
    "#plot(days1_26_0, CTB_nuhigh0, CTBError_nuhigh0, flux1_26_0, flux_err1_26_0,'green', 'V392 Per')\n",
    "ax.plot(days1_26_0[0:27], CTB_nuhigh0[0:27], color='green', linestyle = '-', alpha=.50)\n",
    "\n",
    "#plot(days1_26_0, CTB_nulow0, CTBError_nulow0, flux1_26_0, flux_err1_26_0,'green', 'V392 Per')\n",
    "ax.plot(days1_26_0[0:27], CTB_nulow0[0:27], color='green', linestyle = '-', alpha=.50)\n",
    "\n",
    "ax.fill_between(days1_26_0, CTB_nulow0, CTB_nuhigh0, alpha=.25, color='green', label=\"V392 Per\")\n",
    "\n",
    "## V5589 Sgr plotting\n",
    "#plot(days1_35_1, CTB_nuhigh1, CTBError_nuhigh1, flux1_35_1, flux_err1_35_1,'blue', 'V5589 Sgr')\n",
    "ax.plot(days1_35_1[0:27], CTB_nuhigh1[0:27], color='mediumblue', linestyle = '-', alpha=.50)\n",
    "\n",
    "#plot(days1_35_1, CTB_nulow1, CTBError_nulow1, flux1_35_1, flux_err1_35_1,'blue', 'V5589 Sgr')\n",
    "ax.plot(days1_35_1[0:27], CTB_nulow1[0:27], color='mediumblue', linestyle = '-', alpha=.50)\n",
    "\n",
    "ax.fill_between(days1_35_1, CTB_nulow1, CTB_nuhigh1, alpha=.25, color='mediumblue', label=\"V5589 Sgr\")\n",
    "\n",
    "## V1535 Sco Plotting\n",
    "\n",
    "#plot(days1_26_2, CTB_nuhigh2, CTBError_nuhigh2, flux1_26_2, flux_err1_26_2,'gold', 'V1535 Sco')\n",
    "ax.plot(days1_26_2[0:27], CTB_nuhigh2[0:27], color='aqua', linestyle = '-', alpha=.50)\n",
    "\n",
    "#plot(days1_26_2, CTB_nulow2, CTBError_nulow2, flux1_26_2, flux_err1_26_2,'gold', 'V1535 Sco')\n",
    "ax.plot(days1_26_2[0:27], CTB_nulow2[0:27], color='aqua', linestyle = '-', alpha=.50)\n",
    "\n",
    "ax.fill_between(days1_26_2, CTB_nulow2, CTB_nuhigh2, alpha=.25, color='aqua', label=\"V1535 Sco\")\n",
    "\n",
    "## RS Oph Plotting\n",
    "\n",
    "#plot(days2_6_3, CTB_nuhigh3, CTBError_nuhigh3, flux2_6_3, flux_err2_6_3,'orange', 'RS Oph')\n",
    "ax.plot(days2_6_3[0:27], CTB_nuhigh3[0:27], color='orange', linestyle = '-', alpha=.60)\n",
    "\n",
    "#plot(days2_6_3, CTB_nulow3, CTBError_nulow3, flux2_6_3, flux_err2_6_3,'orange', 'RS Oph')\n",
    "ax.plot(days2_6_3[0:27], CTB_nulow3[0:27], color='orange', linestyle = '-', alpha=.60)\n",
    "\n",
    "ax.fill_between(days2_6_3, CTB_nulow3, CTB_nuhigh3, alpha=.3, color='orange', label = \"RS Oph\")\n",
    "\n",
    "## V1534 Sco Plotting\n",
    "\n",
    "#plot(days1_26_4, CTB_nuhigh4, CTBError_nuhigh4, flux1_26_4, flux_err1_26_4,'red', 'V1534 Sco')\n",
    "ax.plot(days1_26_4[0:27], CTB_nuhigh4[0:27], color='red', linestyle = '-', alpha=.50)\n",
    "\n",
    "#plot(days1_26_4, CTB_nulow4, CTBError_nulow4, flux1_26_4, flux_err1_26_4,'red', 'V1534 Sco')\n",
    "ax.plot(days1_26_4[0:27], CTB_nulow4[0:27], color='red', linestyle = '-', alpha=.50)\n",
    "\n",
    "ax.fill_between(days1_26_4, CTB_nulow4, CTB_nuhigh4, alpha=.25, color='red', label=\"V1534 Sco\")\n",
    "\n",
    "## V407 Cyg Plotting\n",
    "\n",
    "#plot(days1_4_5, CTB_nuhigh5, CTBError_nuhigh5, flux1_4_5, flux_err1_4_5,'purple', 'V407 Cyg')\n",
    "ax.plot(days1_4_5[0:27], CTB_nuhigh5[0:27], color='purple', linestyle = '-', alpha=.50)\n",
    "\n",
    "#plot(days1_4_5, CTB_nulow5, CTBError_nulow5, flux1_4_5, flux_err1_4_5,'purple', 'V407 Cyg')\n",
    "ax.plot(days1_4_5[0:27], CTB_nulow5[0:27], color='purple', linestyle = '-', alpha=.50)\n",
    "\n",
    "ax.fill_between(days1_4_5, CTB_nulow5, CTB_nuhigh5, alpha=.25, color='purple', label=\"V407 Cyg\")\n",
    "\n",
    "## V723 Cas plotting\n",
    "\n",
    "#plot(days5_6, CTB_nuhigh6, CTBError_nuhigh6, flux5_6, flux_err5_6,'pink', 'V723 Cas')\n",
    "ax.plot(days5_6[0:27], CTB_nuhigh6[0:27], color='deeppink', linestyle = '-', alpha=.50)\n",
    "\n",
    "#plot(days5_6, CTB_nulow6, CTBError_nulow6, flux5_6, flux_err5_6,'pink', 'V723 Cas')\n",
    "ax.plot(days5_6[0:27], CTB_nulow6[0:27], color='deeppink', linestyle = '-', alpha=.50)\n",
    "\n",
    "ax.fill_between(days5_6, CTB_nulow6, CTB_nuhigh6, alpha=.25, color='deeppink', label=\"V723 Cas\")\n",
    "\n",
    "\n",
    "#plot(days5_6, CTB_nuhigh6, CTBError_nuhigh6, flux5_6, flux_err5_6,'pink', 'V723 Cas')\n",
    "ax.plot(days7_7[0:27], CTB_nuhigh7[0:27], color='yellow', linestyle = '-', alpha=.50)\n",
    "\n",
    "#plot(days5_6, CTB_nulow6, CTBError_nulow6, flux5_6, flux_err5_6,'pink', 'V723 Cas')\n",
    "ax.plot(days7_7[0:27], CTB_nulow7[0:27], color='yellow', linestyle = '-', alpha=.50)\n",
    "\n",
    "ax.fill_between(days7_7, CTB_nulow7, CTB_nuhigh7, alpha=.25, color='yellow', label=\"U Sco\")\n",
    "\n",
    "#Added V745 Sco here, feel free to change the color \n",
    "ax.plot(Day, TB_D1,  linestyle='-',color = 'pink', alpha=.5)\n",
    "ax.plot(Day, TB_D2, linestyle='-',color = 'pink', alpha=.5)\n",
    "ax.fill_between(Day, TB_D2, TB_D1, alpha=.5, color='pink', label = 'V745 Sco')\n",
    "\n",
    "\n",
    "ax.set_xscale('log')\n",
    "ax.set_xticks([10,20,50,100,500,1000], labels = ['10','20','50','100','500', '1000'], fontsize = 20)\n",
    "plt.yticks(fontsize=20)\n",
    "ax.set_yscale('log')\n",
    "ax.set_xlabel(\"Time since eruption (days)\", fontsize=25)\n",
    "ax.set_ylabel(\"Brightness Temperature (K)\", fontsize=25)\n",
    "\n",
    "\n",
    "ax.tick_params(axis='both', which='both', direction='in', top=True, right=True)\n",
    "\n",
    "#ax.set_title(\"Brightness Temperature\", fontsize=20)\n",
    "plt.legend(title='', fontsize=15)\n",
    "plt.savefig(\"All_Bright_Temp.png\")\n",
    "plt.show();"
   ]
  },
  {
   "cell_type": "code",
   "execution_count": null,
   "id": "9f6c04d2-81a7-446c-8945-63673d00d1ef",
   "metadata": {},
   "outputs": [],
   "source": []
  },
  {
   "cell_type": "code",
   "execution_count": null,
   "id": "f1967ab0-3f37-4559-8372-5fbff552fa5c",
   "metadata": {},
   "outputs": [],
   "source": []
  },
  {
   "cell_type": "code",
   "execution_count": null,
   "id": "eecd5b76-fc13-4691-ac1b-1428bf5b7a98",
   "metadata": {},
   "outputs": [],
   "source": []
  }
 ],
 "metadata": {
  "kernelspec": {
   "display_name": "anaconda-2025.04-py3.11",
   "language": "python",
   "name": "conda-env-anaconda-2025.04-py3.11"
  },
  "language_info": {
   "codemirror_mode": {
    "name": "ipython",
    "version": 3
   },
   "file_extension": ".py",
   "mimetype": "text/x-python",
   "name": "python",
   "nbconvert_exporter": "python",
   "pygments_lexer": "ipython3",
   "version": "3.11.11"
  }
 },
 "nbformat": 4,
 "nbformat_minor": 5
}
