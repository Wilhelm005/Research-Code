{
 "cells": [
  {
   "cell_type": "markdown",
   "id": "6742a77a-8c6e-4cf8-afeb-b0791a431a8d",
   "metadata": {},
   "source": [
    "## V1535 Sco Brightness Temperature Work"
   ]
  },
  {
   "cell_type": "code",
   "execution_count": 1,
   "id": "934d2c53-f2ee-4f34-9461-b0ab16a8cea7",
   "metadata": {},
   "outputs": [],
   "source": [
    "#imports\n",
    "\n",
    "import numpy as np\n",
    "import pandas as pd\n",
    "import astropy.units as u\n",
    "import astropy.constants as const\n",
    "import matplotlib.pyplot as plt\n",
    "%matplotlib inline"
   ]
  },
  {
   "cell_type": "code",
   "execution_count": 2,
   "id": "f75da23c-a487-4357-a3cd-9e58185734b4",
   "metadata": {},
   "outputs": [
    {
     "data": {
      "text/html": [
       "<div>\n",
       "<style scoped>\n",
       "    .dataframe tbody tr th:only-of-type {\n",
       "        vertical-align: middle;\n",
       "    }\n",
       "\n",
       "    .dataframe tbody tr th {\n",
       "        vertical-align: top;\n",
       "    }\n",
       "\n",
       "    .dataframe thead th {\n",
       "        text-align: right;\n",
       "    }\n",
       "</style>\n",
       "<table border=\"1\" class=\"dataframe\">\n",
       "  <thead>\n",
       "    <tr style=\"text-align: right;\">\n",
       "      <th></th>\n",
       "      <th>Nova</th>\n",
       "      <th>Distance</th>\n",
       "      <th>Distance Error (+)</th>\n",
       "      <th>Distance Error (-)</th>\n",
       "      <th>Distance Source</th>\n",
       "      <th>V1(km/s)</th>\n",
       "      <th>V2(km/s)</th>\n",
       "    </tr>\n",
       "  </thead>\n",
       "  <tbody>\n",
       "    <tr>\n",
       "      <th>0</th>\n",
       "      <td>V392 Per</td>\n",
       "      <td>3.40</td>\n",
       "      <td>0.78</td>\n",
       "      <td>0.33</td>\n",
       "      <td>Gaia DR3 Parallax</td>\n",
       "      <td>2500 +/- 200</td>\n",
       "      <td>5500 +/- 300</td>\n",
       "    </tr>\n",
       "    <tr>\n",
       "      <th>1</th>\n",
       "      <td>V1535 Sco</td>\n",
       "      <td>7.79</td>\n",
       "      <td>0.75</td>\n",
       "      <td>0.69</td>\n",
       "      <td>Gaia DR3 Parallax</td>\n",
       "      <td>None</td>\n",
       "      <td>None</td>\n",
       "    </tr>\n",
       "    <tr>\n",
       "      <th>2</th>\n",
       "      <td>V5589 Sgr</td>\n",
       "      <td>8.04</td>\n",
       "      <td>1.78</td>\n",
       "      <td>1.35</td>\n",
       "      <td>Extinctions / Mass Model</td>\n",
       "      <td>4500 +/- 500</td>\n",
       "      <td>None</td>\n",
       "    </tr>\n",
       "    <tr>\n",
       "      <th>3</th>\n",
       "      <td>RS Oph</td>\n",
       "      <td>2.71</td>\n",
       "      <td>0.20</td>\n",
       "      <td>0.13</td>\n",
       "      <td>Gaia DR3 Parallax</td>\n",
       "      <td>None</td>\n",
       "      <td>None</td>\n",
       "    </tr>\n",
       "    <tr>\n",
       "      <th>4</th>\n",
       "      <td>V1534 Sco</td>\n",
       "      <td>9.11</td>\n",
       "      <td>2.14</td>\n",
       "      <td>1.55</td>\n",
       "      <td>Extinctions/Colors/Mass Model</td>\n",
       "      <td>None</td>\n",
       "      <td>None</td>\n",
       "    </tr>\n",
       "  </tbody>\n",
       "</table>\n",
       "</div>"
      ],
      "text/plain": [
       "        Nova  Distance  Distance Error (+)  Distance Error (-)  \\\n",
       "0   V392 Per      3.40                0.78                0.33   \n",
       "1  V1535 Sco      7.79                0.75                0.69   \n",
       "2  V5589 Sgr      8.04                1.78                1.35   \n",
       "3     RS Oph      2.71                0.20                0.13   \n",
       "4  V1534 Sco      9.11                2.14                1.55   \n",
       "\n",
       "                 Distance Source      V1(km/s)      V2(km/s)  \n",
       "0              Gaia DR3 Parallax  2500 +/- 200  5500 +/- 300  \n",
       "1              Gaia DR3 Parallax          None          None  \n",
       "2       Extinctions / Mass Model  4500 +/- 500          None  \n",
       "3              Gaia DR3 Parallax          None          None  \n",
       "4  Extinctions/Colors/Mass Model          None          None  "
      ]
     },
     "execution_count": 2,
     "metadata": {},
     "output_type": "execute_result"
    }
   ],
   "source": [
    "data_novas = (\n",
    "\n",
    "[\"V392 Per\",\t3.40,    \t0.78,\t\t\t0.33,\t\t\t\"Gaia DR3 Parallax\",\t\t\t\"2500 +/- 200\",\t\t\"5500 +/- 300\"],\n",
    "[\"V1535 Sco\",\t7.79,\t  \t0.75,\t        \t0.69,\t\t\t\"Gaia DR3 Parallax\",],\n",
    "[\"V5589 Sgr\",\t8.04,\t\t1.78,\t\t\t1.35,\t\t\t\"Extinctions / Mass Model\",\t\t\t\t\t\"4500 +/- 500\"],\n",
    "[\"RS Oph\",\t\t2.71,\t\t0.2,\t\t\t0.13,\t\t\t\"Gaia DR3 Parallax\",],\t\t\t\n",
    "[\"V1534 Sco\",\t9.11,\t\t2.14,\t\t\t1.55,\t\t\t\"Extinctions/Colors/Mass Model\",],\n",
    ")\n",
    "\n",
    "df_novas = pd.DataFrame(data_novas, columns = ['Nova', 'Distance', 'Distance Error (+)', \n",
    "                                               'Distance Error (-)', 'Distance Source', \"V1(km/s)\",\t\t\"V2(km/s)\"])\n",
    "\n",
    "df_novas"
   ]
  },
  {
   "cell_type": "code",
   "execution_count": 3,
   "id": "0777df3f-1575-474c-b2c5-eb85ac22dee6",
   "metadata": {},
   "outputs": [],
   "source": [
    "#data from V1535 Sco split into frequency"
   ]
  },
  {
   "cell_type": "code",
   "execution_count": 4,
   "id": "d56e66a4-d4e9-4731-8aaf-8ba666e1d160",
   "metadata": {},
   "outputs": [],
   "source": [
    "\n",
    "#57360.7\t1.26\tXX\tXX #D\n",
    "#57360.7\t1.74\tXX\tXX #D\n",
    "\n",
    "f1_26 = ([57187.2, 1.26, 0.277, 0.116], #BnA _> A\n",
    "         [57158.3, 1.26, -0.152, 0.177], #B_> BnA\n",
    "         [57143.3, 1.26, -0.0723, 0.106], #B\n",
    "         [57130.35, 1.26, 0.444, 0.0813],\n",
    "         [57120.57, 1.26, 0.873, 0.1], #B\n",
    "         [57106.47, 1.26, 0.273, 0.112], #B\n",
    "         [57091.4, 1.26, 0.153, 0.0738], #B\n",
    "         [57082.5, 1.26, 0.0142, 0.101], #B\n",
    "         [57072.5, 1.26, 1.57, 0.0765], #B\n",
    "        )\n",
    "\n",
    "f1_74 = ([57187.2, 1.74, -0.0505, 0.0776],#BnA _> A\n",
    "         [57158.3, 1.74, 0.101, 0.0784],#B_> BnA\n",
    "         [57143.3, 1.74, 0.165, 0.0711],\n",
    "         [57130.35, 1.74, 0.258, 0.056],\n",
    "         [57120.57, 1.74, 0.661, 0.0562],\n",
    "         [57106.47, 1.74, 0.163, 0.0597],\n",
    "         [57091.4, 1.74, 0.11, 0.0538],\n",
    "         [57082.5, 1.74, 0.12, 0.0655],\n",
    "         [57072.5, 1.74, 1.21, 0.0728],\n",
    "        )\n",
    "\n",
    "f4_55 = ([57360.7, 5, 0.0795, 0.031],#D\n",
    "         [57187.2, 5, 0.0194, 0.0204],#BnA _> A\n",
    "         [57158.3, 4.55, 0.0727, 0.023],#B_> BnA\n",
    "         [57143.3, 4.55, 0.17, 0.0183],\n",
    "         [57130.35, 4.55, 0.256, 0.0172],\n",
    "         [57120.57, 4.55, 0.483, 0.0191],\n",
    "         [57106.47, 4.55, 0.222, 0.0161],\n",
    "         [57091.4, 4.55, 0.455, 0.0187],\n",
    "         [57082.5, 4.55, 0.221, 0.0181],\n",
    "         [57077.7, 4.87, 0.155, 0.0409], #VLBA\n",
    "         [57072.5, 4.87, 0.484, 0.0505], #VLBA\n",
    "         [57072.5, 4.55, 0.65, 0.0168],\n",
    "         [57067.5, 4.55, 4.132, 0.0203],#B\n",
    "        )\n",
    "\n",
    "f7_38 = ([57360.7, 7, 0.0561, 0.022],#D\n",
    "         [57187.2, 7, 0.044, 0.0223],#BnA _> A\n",
    "         [57158.3, 7.38, 0.0708, 0.0171],#B_> BnA\n",
    "         [57143.3, 7.38, 0.139, 0.0144],\n",
    "         [57130.35, 7.38, 0.228, 0.0117],\n",
    "         [57120.57, 7.38, 0.374, 0.0138],\n",
    "         [57106.47, 7.38, 0.253, 0.012],\n",
    "         [57091.4, 7.38, 0.536, 0.0136],\n",
    "         [57082.5, 7.38, 0.192, 0.0157],\n",
    "         [57072.5, 7.38, 0.439, 0.0126],\n",
    "         [57067.5, 7.38, 2.786, 0.0128],\n",
    "        )\n",
    "\n",
    "f13_5 = ([57360.7, 13.5, -0.0000599, 0.0196],#D\n",
    "         [57187.2, 13.5, 0.0587, 0.0157],#BnA _> A\n",
    "         [57158.3, 13.5, 0.0518, 0.0175],#B_> BnA\n",
    "         [57143.34, 13.5, 0.129, 0.0168], #B\n",
    "         [57131.33, 13.5, 0.209, 0.0156], #B\n",
    "         [57119.41, 13.5, 0.457, 0.0248], #B\n",
    "         [57106.42, 13.5, 0.267, 0.0126], #B\n",
    "         [57088.5, 13.5, 0.585, 0.0166], #B\n",
    "         [57077.6, 13.5, 0.385, 0.0163], #B\n",
    "         [57071.5, 13.5, 0.416, 0.0175], #B\n",
    "        )\n",
    "\n",
    "f17_4 = ([57360.7, 16.5, -0.000577, 0.0199],#D\n",
    "         [57187.2, 16.5, 0.0569, 0.021],#BnA _> A\n",
    "         [57158.3, 16.5, 0.0217, 0.0214],#B_> BnA\n",
    "         [57143.34, 17.4, 0.164, 0.0216],\n",
    "         [57131.33, 17.4, 0.167, 0.0221],\n",
    "         [57119.41, 17.4, 0.399, 0.0182],\n",
    "         [57106.42, 17.4, 0.299, 0.0143],\n",
    "         [57088.5, 17.4, 0.755, 0.0207],\n",
    "         [57077.6, 17.4, 0.456, 0.02],\n",
    "         [57071.5, 17.4, 0.344, 0.0213],\n",
    "        )\n",
    "\n",
    "f28_2 = ([57360.7, 29.6, -0.0157, 0.051],#D\n",
    "         [57187.2, 29.5, 0.13, 0.0446],#BnA _> A\n",
    "         [57158.3, 29.5, 0.0401, 0.0362],#B_> BnA\n",
    "         [57143.34, 28.2, 0.174, 0.0523],\n",
    "         [57131.33, 28.2, 0.173, 0.0482],\n",
    "         [57119.41, 28.2, 0.323, 0.0446],\n",
    "         [57106.42, 28.2, 0.348, 0.0405],\n",
    "         [57088.5, 28.2, 1.15, 0.0462],\n",
    "         [57077.6, 28.2, 0.785, 0.0485],\n",
    "         [57071.5, 28.2, 0.295, 0.0505],\n",
    "         [57067.5, 28.2, 0.819, 0.0575],\n",
    "        )\n",
    "\n",
    "f36_5 = ([57360.7, 35, 0.0632, 0.0608],#D\n",
    "         [57187.2, 35, -0.0206, 0.0588],#BnA _> A\n",
    "         [57158.3, 35, -0.00361, 0.045],#B_> BnA\n",
    "         [57143.34, 36.5, 0.0153, 0.0753],\n",
    "         [57131.33, 36.5, 0.0395, 0.0833],\n",
    "         [57119.41, 36.5, 0.276, 0.0602],\n",
    "         [57106.42, 36.5, 0.186, 0.0551],\n",
    "         [57088.5, 36.5, 1.68, 0.071],\n",
    "         [57077.6, 36.5, 0.845, 0.0758],\n",
    "         [57071.5, 36.5, 0.376, 0.0714],\n",
    "         [57067.5, 36.5, 0.675, 0.0834],\n",
    "        )\n"
   ]
  },
  {
   "cell_type": "code",
   "execution_count": 5,
   "id": "8250b5a4-36b3-4bc4-abfe-9aa7b038d3c0",
   "metadata": {},
   "outputs": [],
   "source": [
    "df1_26 =  pd.DataFrame(f1_26, columns = [\"MJD\", \"Freq (GHz)\", \"Flux Density (mJy)\", \"Uncertainty (mJy)\"])\n",
    "\n",
    "df1_74 =  pd.DataFrame(f1_74, columns = [\"MJD\", \"Freq (GHz)\", \"Flux Density (mJy)\", \"Uncertainty (mJy)\"])\n",
    "\n",
    "df4_55 =  pd.DataFrame(f4_55, columns = [\"MJD\", \"Freq (GHz)\", \"Flux Density (mJy)\", \"Uncertainty (mJy)\"])\n",
    "\n",
    "df7_38 =  pd.DataFrame(f7_38, columns = [\"MJD\", \"Freq (GHz)\", \"Flux Density (mJy)\", \"Uncertainty (mJy)\"])\n",
    "\n",
    "df13_5 =  pd.DataFrame(f13_5, columns = [\"MJD\", \"Freq (GHz)\", \"Flux Density (mJy)\", \"Uncertainty (mJy)\"])\n",
    "\n",
    "df17_4 =  pd.DataFrame(f17_4, columns = [\"MJD\", \"Freq (GHz)\", \"Flux Density (mJy)\", \"Uncertainty (mJy)\"])\n",
    "\n",
    "df28_2 =  pd.DataFrame(f28_2, columns = [\"MJD\", \"Freq (GHz)\", \"Flux Density (mJy)\", \"Uncertainty (mJy)\"])\n",
    "\n",
    "df36_5 =  pd.DataFrame(f36_5, columns = [\"MJD\", \"Freq (GHz)\", \"Flux Density (mJy)\", \"Uncertainty (mJy)\"])"
   ]
  },
  {
   "cell_type": "code",
   "execution_count": null,
   "id": "6b2da1db-c323-4351-a0c7-2da42da6cc4c",
   "metadata": {},
   "outputs": [],
   "source": []
  },
  {
   "cell_type": "code",
   "execution_count": 6,
   "id": "4a7279ea-d30d-4b13-a2dc-bc1b3eeaa4be",
   "metadata": {},
   "outputs": [],
   "source": [
    "mask1 = df1_26['Flux Density (mJy)'] > 3 * np.sqrt(df1_26[\"Uncertainty (mJy)\"]**2 + (df1_26[\"Flux Density (mJy)\"]*0.05)**2) #don't show the non-detections\n",
    "if mask1.any():\n",
    "        days1_26 = df1_26['MJD'][mask1] - 57064.837\n",
    "        flux1_26 = df1_26[\"Flux Density (mJy)\"][mask1]\n",
    "        flux_err1_26 = np.sqrt(df1_26[\"Uncertainty (mJy)\"][mask1]**2 + (df1_26[\"Flux Density (mJy)\"][mask1]*0.05)**2)\n",
    "\n",
    "\n",
    "mask1_1 = df1_74['Flux Density (mJy)'] > 3 * np.sqrt(df1_74[\"Uncertainty (mJy)\"]**2 + (df1_74[\"Flux Density (mJy)\"]*0.05)**2) #don't show the non-detections\n",
    "if mask1_1.any():\n",
    "        days1_74 = df1_74['MJD'] - 57064.837\n",
    "        flux1_74 = df1_74[\"Flux Density (mJy)\"]\n",
    "        flux_err1_74 = np.sqrt(df1_74[\"Uncertainty (mJy)\"]**2 + (df1_74[\"Flux Density (mJy)\"]*0.05)**2)\n",
    "\n",
    "\n",
    "mask1_2 = df4_55['Flux Density (mJy)'] > 3 * np.sqrt(df4_55[\"Uncertainty (mJy)\"]**2 + (df4_55[\"Flux Density (mJy)\"]*0.05)**2) #don't show the non-detections\n",
    "if mask1_2.any():\n",
    "        days4_55 = df4_55['MJD'] - 57064.837\n",
    "        flux4_55 = df4_55[\"Flux Density (mJy)\"]\n",
    "        flux_err4_55 = np.sqrt(df4_55[\"Uncertainty (mJy)\"]**2 + (df4_55[\"Flux Density (mJy)\"]*0.05)**2)\n",
    "\n",
    "\n",
    "mask2 = df7_38['Flux Density (mJy)'] > 3 * np.sqrt(df7_38[\"Uncertainty (mJy)\"]**2 + (df7_38[\"Flux Density (mJy)\"]*0.05)**2) #don't show the non-detections\n",
    "if mask2.any():\n",
    "        days7_38 = df7_38['MJD'][mask2] - 57064.837\n",
    "        flux7_38 = df7_38[\"Flux Density (mJy)\"][mask2]\n",
    "        flux_err7_38 = np.sqrt(df7_38[\"Uncertainty (mJy)\"][mask2]**2 + (df7_38[\"Flux Density (mJy)\"][mask2]*0.05)**2)\n",
    "\n",
    "mask2_1 = df13_5['Flux Density (mJy)'] > 3 * np.sqrt(df13_5[\"Uncertainty (mJy)\"]**2 + (df13_5[\"Flux Density (mJy)\"]*0.1)**2) #don't show the non-detections\n",
    "if mask2_1.any():\n",
    "    days13_5 = df13_5['MJD'] - 57064.837\n",
    "    flux13_5 = df13_5[\"Flux Density (mJy)\"]\n",
    "    flux_err13_5 = np.sqrt(df13_5[\"Uncertainty (mJy)\"]**2 + (df13_5[\"Flux Density (mJy)\"]*0.1)**2)\n",
    "\n",
    "\n",
    "mask3 = df17_4['Flux Density (mJy)'] > 3 * np.sqrt(df17_4[\"Uncertainty (mJy)\"]**2 + (df17_4[\"Flux Density (mJy)\"]*0.1)**2) #don't show the non-detections\n",
    "if mask3.any():\n",
    "        days17_4 = df17_4['MJD'][mask3] - 57064.837\n",
    "        flux17_4 = df17_4[\"Flux Density (mJy)\"][mask3]\n",
    "        flux_err17_4 = np.sqrt(df17_4[\"Uncertainty (mJy)\"][mask3]**2 + (df17_4[\"Flux Density (mJy)\"][mask3]*0.1)**2)\n",
    "\n",
    "mask4 = df28_2['Flux Density (mJy)'] > 3 * np.sqrt(df28_2[\"Uncertainty (mJy)\"]**2 + (df28_2[\"Flux Density (mJy)\"]*0.1)**2) #don't show the non-detections\n",
    "if mask4.any():\n",
    "        days28_2 = df28_2['MJD'][mask4] - 57064.837\n",
    "        flux28_2 = df28_2[\"Flux Density (mJy)\"][mask4]\n",
    "        flux_err28_2 = np.sqrt(df28_2[\"Uncertainty (mJy)\"][mask4]**2 + (df28_2[\"Flux Density (mJy)\"][mask4]*0.1)**2)\n",
    "\n",
    "mask4_1 = df36_5['Flux Density (mJy)'] > 3 * np.sqrt(df36_5[\"Uncertainty (mJy)\"]**2 + (df36_5[\"Flux Density (mJy)\"]*0.1)**2) #don't show the non-detections\n",
    "if mask4_1.any():\n",
    "    days36_5 = df36_5['MJD'] - 57064.837\n",
    "    flux36_5 = df36_5[\"Flux Density (mJy)\"]\n",
    "    flux_err36_5 = np.sqrt(df36_5[\"Uncertainty (mJy)\"]**2 + (df36_5[\"Flux Density (mJy)\"]*0.1)**2)"
   ]
  },
  {
   "cell_type": "code",
   "execution_count": 7,
   "id": "0c0fcac9-cb4d-4e36-b40d-cb7b9fd36710",
   "metadata": {},
   "outputs": [],
   "source": [
    "\n",
    "Dist =  7.79 * 3.086*10**21                 #distance in cm\n",
    "V_const =  4782 * 100000        #velocity in cm/s\n",
    "\n",
    "\n",
    "def Con_TB(S,T,E,nu): #flux denisty, time, error of flux density, frequency in order those are the plug ins\n",
    "    R = []\n",
    "    CTB = []\n",
    "    CTBE = []\n",
    "\n",
    "    S = np.array(S)\n",
    "    T = np.array(T)\n",
    "    E = np.array(E)\n",
    "    \n",
    "    for i in range(len(S)):\n",
    "        R.append(V_const * T[i])  #velocity over time                  #R in cm\n",
    "        angular_diam = 206265 * ((2*R[i])/ Dist)                       #unitless\n",
    "        CTB.append(1765.8 * (nu**(-2)) * S[i]*(angular_diam**(-2)))    #mJy / (Ghz^2)\n",
    "        CTBE.append(1765.8 * (nu**(-2)) * E[i]*(angular_diam**(-2)))\n",
    "    \n",
    "    return(CTB, CTBE)\n",
    "        "
   ]
  },
  {
   "cell_type": "code",
   "execution_count": 8,
   "id": "d128ade7-78b6-48b7-b0e2-fb36c0ee2c73",
   "metadata": {},
   "outputs": [],
   "source": [
    "nu0 = 1.26 #FREQUENCY 1\n",
    "nu1 = 7.38 #frequency 2\n",
    "nu2 = 17.4 #frequency 3\n",
    "nu3 = 28.2 #frequency 4\n",
    "\n",
    "date_CAC_sec_n0 = days1_26 * 86400    #time in seconds  (date_CAC is going to be a list of times (from t0))\n",
    "date_CAC_sec_n1 = days7_38 * 86400    #time in seconds \n",
    "date_CAC_sec_n2 = days17_4 * 86400    #time in seconds \n",
    "date_CAC_sec_n3 = days28_2 * 86400    #time in seconds "
   ]
  },
  {
   "cell_type": "code",
   "execution_count": 9,
   "id": "2072695f-5534-4a0e-a97d-348505f681a9",
   "metadata": {},
   "outputs": [
    {
     "data": {
      "text/plain": [
       "[228895.6158413113, 621868.961226394, 59157727.186450444]"
      ]
     },
     "execution_count": 9,
     "metadata": {},
     "output_type": "execute_result"
    }
   ],
   "source": [
    "CTB_nu0, CTBError_nu0 = Con_TB(flux1_26, date_CAC_sec_n0, flux_err1_26, nu0)\n",
    "\n",
    "CTB_nu0"
   ]
  },
  {
   "cell_type": "code",
   "execution_count": 10,
   "id": "b840dc46-a2ba-4c56-9079-cd5f4783af88",
   "metadata": {},
   "outputs": [
    {
     "data": {
      "text/plain": [
       "[522.7471445461825,\n",
       " 1456.2060378658102,\n",
       " 3426.2395026811714,\n",
       " 7765.771467397494,\n",
       " 9414.189882672681,\n",
       " 48994.619665698076,\n",
       " 39692.65381094686,\n",
       " 482175.02832622966,\n",
       " 25338250.463768322]"
      ]
     },
     "execution_count": 10,
     "metadata": {},
     "output_type": "execute_result"
    }
   ],
   "source": [
    "CTB_nu1, CTBError_nu1 = Con_TB(flux7_38, date_CAC_sec_n1, flux_err7_38, nu1)\n",
    "\n",
    "CTB_nu1"
   ]
  },
  {
   "cell_type": "code",
   "execution_count": 11,
   "id": "e7332c2f-93e1-4c97-9f59-5f50149ef001",
   "metadata": {},
   "outputs": [
    {
     "data": {
      "text/plain": [
       "[308.76169281697264,\n",
       " 438.24471596337924,\n",
       " 1554.4233488801997,\n",
       " 2006.2803724952078,\n",
       " 15644.418199398946,\n",
       " 32479.652704515815,\n",
       " 89902.31781934485]"
      ]
     },
     "execution_count": 11,
     "metadata": {},
     "output_type": "execute_result"
    }
   ],
   "source": [
    "CTB_nu2, CTBError_nu2 = Con_TB(flux17_4, date_CAC_sec_n2, flux_err17_4, nu2)\n",
    "\n",
    "CTB_nu2"
   ]
  },
  {
   "cell_type": "code",
   "execution_count": 12,
   "id": "11678d01-19de-49f5-90fa-c6def2e0103a",
   "metadata": {},
   "outputs": [
    {
     "data": {
      "text/plain": [
       "[124.7179872712486,\n",
       " 172.84093233088348,\n",
       " 479.0702670663349,\n",
       " 888.9963134356522,\n",
       " 9072.157586243326,\n",
       " 21287.098552900385,\n",
       " 29351.800166589055,\n",
       " 510145.3371220413]"
      ]
     },
     "execution_count": 12,
     "metadata": {},
     "output_type": "execute_result"
    }
   ],
   "source": [
    "CTB_nu3, CTBError_nu3 = Con_TB(flux28_2, date_CAC_sec_n3, flux_err28_2, nu3)\n",
    "\n",
    "CTB_nu3"
   ]
  },
  {
   "cell_type": "code",
   "execution_count": 13,
   "id": "d4f26625-eeac-442a-b7fa-8d5d0d4399f3",
   "metadata": {},
   "outputs": [
    {
     "data": {
      "image/png": "[encoded data removed]",
      "text/plain": [
       "<Figure size 1200x1000 with 1 Axes>"
      ]
     },
     "metadata": {},
     "output_type": "display_data"
    }
   ],
   "source": [
    "fig, ax = plt.subplots()\n",
    "fig.set_size_inches(12,10)\n",
    "\n",
    "ax.axhline(y=5*10**4, color='black', linestyle='-', linewidth=1.5)\n",
    "\n",
    "ax.errorbar(days1_26, CTB_nu0, yerr=CTBError_nu0, fmt='^', color='green', label='1.26')\n",
    "ax.plot(days1_26, CTB_nu0, color='green', linestyle = '--', alpha=.50)\n",
    "\n",
    "ax.errorbar(days7_38, CTB_nu1, yerr=CTBError_nu1, fmt='^', color='blue', label='7.38')\n",
    "ax.plot(days7_38, CTB_nu1, color='blue', linestyle = '--', alpha=.50)\n",
    "\n",
    "ax.errorbar(days17_4, CTB_nu2, yerr=CTBError_nu2, fmt='^', color='orange', label='17.40')\n",
    "ax.plot(days17_4, CTB_nu2, color='orange', linestyle = '--', alpha=.50)\n",
    "\n",
    "ax.errorbar(days28_2, CTB_nu3, yerr=CTBError_nu3, fmt='^', color='red', label='28.20')\n",
    "ax.plot(days28_2, CTB_nu3, color='red', linestyle = '--', alpha=.50)\n",
    "\n",
    "ax.set_xscale('log')\n",
    "ax.set_xticks([10,20,50,100,200], labels = ['10','20','50','100','200'])\n",
    "ax.set_yscale('log')\n",
    "#ax.set_yticks([.1,1,10], labels = ['0.1','1.0','10.0'])\n",
    "ax.set_xlabel(\"Time since eruption (days)\")\n",
    "ax.set_ylabel(\"Brightness Temperature (K)\")\n",
    "\n",
    "\n",
    "ax.tick_params(axis='both', which='both', direction='in', top=True, right=True)\n",
    "\n",
    "ax.set_title(\"Brightness Temperature of Second Outburst (4782 km/s)\")\n",
    "plt.legend(title='Frequency (GHz)')\n",
    "plt.show();"
   ]
  },
  {
   "cell_type": "code",
   "execution_count": null,
   "id": "2d2226a0-e7da-4cf4-94ed-343262c0f367",
   "metadata": {},
   "outputs": [],
   "source": []
  }
 ],
 "metadata": {
  "kernelspec": {
   "display_name": "Python [conda env:base] *",
   "language": "python",
   "name": "conda-base-py"
  },
  "language_info": {
   "codemirror_mode": {
    "name": "ipython",
    "version": 3
   },
   "file_extension": ".py",
   "mimetype": "text/x-python",
   "name": "python",
   "nbconvert_exporter": "python",
   "pygments_lexer": "ipython3",
   "version": "3.12.7"
  }
 },
 "nbformat": 4,
 "nbformat_minor": 5
}
