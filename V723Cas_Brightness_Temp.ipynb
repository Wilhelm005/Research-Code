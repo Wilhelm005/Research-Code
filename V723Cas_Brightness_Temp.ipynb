{
 "cells": [
  {
   "cell_type": "markdown",
   "id": "438e7d2a-27e2-479c-b644-a26dd0198ef4",
   "metadata": {},
   "source": [
    "## V723 Cas Brightness Temperature Work"
   ]
  },
  {
   "cell_type": "code",
   "execution_count": 2,
   "id": "368041d4-1463-4f7c-9271-eba4559163fa",
   "metadata": {},
   "outputs": [],
   "source": [
    "#imports\n",
    "import numpy as np\n",
    "import pandas as pd\n",
    "import astropy.units as u\n",
    "import astropy.constants as const\n",
    "import matplotlib.pyplot as plt\n",
    "%matplotlib inline"
   ]
  },
  {
   "cell_type": "code",
   "execution_count": 3,
   "id": "aca0978b-78ff-4c1c-8f42-e743a4f17c12",
   "metadata": {},
   "outputs": [
    {
     "data": {
      "text/html": [
       "<div>\n",
       "<style scoped>\n",
       "    .dataframe tbody tr th:only-of-type {\n",
       "        vertical-align: middle;\n",
       "    }\n",
       "\n",
       "    .dataframe tbody tr th {\n",
       "        vertical-align: top;\n",
       "    }\n",
       "\n",
       "    .dataframe thead th {\n",
       "        text-align: right;\n",
       "    }\n",
       "</style>\n",
       "<table border=\"1\" class=\"dataframe\">\n",
       "  <thead>\n",
       "    <tr style=\"text-align: right;\">\n",
       "      <th></th>\n",
       "      <th>Nova</th>\n",
       "      <th>Distance</th>\n",
       "      <th>Distance Error (+)</th>\n",
       "      <th>Distance Error (-)</th>\n",
       "      <th>Distance Source</th>\n",
       "      <th>V1(km/s)</th>\n",
       "      <th>V2(km/s)</th>\n",
       "    </tr>\n",
       "  </thead>\n",
       "  <tbody>\n",
       "    <tr>\n",
       "      <th>0</th>\n",
       "      <td>V392 Per</td>\n",
       "      <td>3.40</td>\n",
       "      <td>0.78</td>\n",
       "      <td>0.33</td>\n",
       "      <td>Gaia DR3 Parallax</td>\n",
       "      <td>2500 +/- 200</td>\n",
       "      <td>5500 +/- 300</td>\n",
       "    </tr>\n",
       "    <tr>\n",
       "      <th>1</th>\n",
       "      <td>V1535 Sco</td>\n",
       "      <td>7.79</td>\n",
       "      <td>0.75</td>\n",
       "      <td>0.69</td>\n",
       "      <td>Gaia DR3 Parallax</td>\n",
       "      <td>None</td>\n",
       "      <td>None</td>\n",
       "    </tr>\n",
       "    <tr>\n",
       "      <th>2</th>\n",
       "      <td>V5589 Sgr</td>\n",
       "      <td>8.04</td>\n",
       "      <td>1.78</td>\n",
       "      <td>1.35</td>\n",
       "      <td>Extinctions / Mass Model</td>\n",
       "      <td>4500 +/- 500</td>\n",
       "      <td>None</td>\n",
       "    </tr>\n",
       "    <tr>\n",
       "      <th>3</th>\n",
       "      <td>RS Oph</td>\n",
       "      <td>2.71</td>\n",
       "      <td>0.20</td>\n",
       "      <td>0.13</td>\n",
       "      <td>Gaia DR3 Parallax</td>\n",
       "      <td>None</td>\n",
       "      <td>None</td>\n",
       "    </tr>\n",
       "    <tr>\n",
       "      <th>4</th>\n",
       "      <td>V1534 Sco</td>\n",
       "      <td>9.11</td>\n",
       "      <td>2.14</td>\n",
       "      <td>1.55</td>\n",
       "      <td>Extinctions/Colors/Mass Model</td>\n",
       "      <td>None</td>\n",
       "      <td>None</td>\n",
       "    </tr>\n",
       "  </tbody>\n",
       "</table>\n",
       "</div>"
      ],
      "text/plain": [
       "        Nova  Distance  Distance Error (+)  Distance Error (-)  \\\n",
       "0   V392 Per      3.40                0.78                0.33   \n",
       "1  V1535 Sco      7.79                0.75                0.69   \n",
       "2  V5589 Sgr      8.04                1.78                1.35   \n",
       "3     RS Oph      2.71                0.20                0.13   \n",
       "4  V1534 Sco      9.11                2.14                1.55   \n",
       "\n",
       "                 Distance Source      V1(km/s)      V2(km/s)  \n",
       "0              Gaia DR3 Parallax  2500 +/- 200  5500 +/- 300  \n",
       "1              Gaia DR3 Parallax          None          None  \n",
       "2       Extinctions / Mass Model  4500 +/- 500          None  \n",
       "3              Gaia DR3 Parallax          None          None  \n",
       "4  Extinctions/Colors/Mass Model          None          None  "
      ]
     },
     "execution_count": 3,
     "metadata": {},
     "output_type": "execute_result"
    }
   ],
   "source": [
    "data_novas = (\n",
    "\n",
    "[\"V392 Per\",\t3.40,    \t0.78,\t\t\t0.33,\t\t\t\"Gaia DR3 Parallax\",\t\t\t\"2500 +/- 200\",\t\t\"5500 +/- 300\"],\n",
    "[\"V1535 Sco\",\t7.79,\t  \t0.75,\t        \t0.69,\t\t\t\"Gaia DR3 Parallax\",],\n",
    "[\"V5589 Sgr\",\t8.04,\t\t1.78,\t\t\t1.35,\t\t\t\"Extinctions / Mass Model\",\t\t\t\t\t\"4500 +/- 500\"],\n",
    "[\"RS Oph\",\t\t2.71,\t\t0.2,\t\t\t0.13,\t\t\t\"Gaia DR3 Parallax\",],\t\t\t\n",
    "[\"V1534 Sco\",\t9.11,\t\t2.14,\t\t\t1.55,\t\t\t\"Extinctions/Colors/Mass Model\",],\n",
    ")\n",
    "\n",
    "df_novas = pd.DataFrame(data_novas, columns = ['Nova', 'Distance', 'Distance Error (+)', \n",
    "                                               'Distance Error (-)', 'Distance Source', \"V1(km/s)\",\t\t\"V2(km/s)\"])\n",
    "\n",
    "df_novas"
   ]
  },
  {
   "cell_type": "code",
   "execution_count": 2,
   "id": "bc53cc9b-91c1-4b39-bd09-1e18d9b21fa4",
   "metadata": {},
   "outputs": [],
   "source": [
    "#the frequency \n",
    "\n",
    "f5 = (\t \n",
    "[50430, \t5.0,\t2.3,\t0.5],\t\n",
    "\n",
    "[50473, \t5.0,\t2.4,\t0.4],\t\n",
    "\n",
    "[50876, \t5.0,\t7.0,\t0.2],\t\t\n",
    "\n",
    "[51154, \t5.0,\t8.2,\t0.5],\t\n",
    "\n",
    "[51601,\t5.0,\t7.9,\t0.4],\n",
    "\n",
    "[51650,\t5.0,\t13.5,\t0.9],\n",
    "\n",
    "[51938,\t5.0,\t6.3,\t1.1],\n",
    "     \n",
    "[52063,\t5.0,\t4.0,\t0.7],\n",
    "\n",
    "[52208,\t5.0,\t5.4,\t0.3],\n",
    ")\n"
   ]
  },
  {
   "cell_type": "code",
   "execution_count": 3,
   "id": "e98521f2-95b2-4272-9bb7-4fe350c62a2e",
   "metadata": {},
   "outputs": [],
   "source": [
    "#putting it in a dataframne\n",
    "df5 =  pd.DataFrame(f5, columns = [\"MJD\",\t\"Freq (GHz)\",\t\"Flux (mJy)\",\t\"eFlux (mJy)\"])\n"
   ]
  },
  {
   "cell_type": "code",
   "execution_count": 4,
   "id": "9b773c16-e0ab-4a9c-8f1c-eb4b12f9a9d1",
   "metadata": {},
   "outputs": [],
   "source": [
    "#putting them in easy to call format\n",
    "#there is no non-detections so I don't need to filter this one\n",
    "days5 = df5['MJD']-49953\n",
    "flux5 = df5[\"Flux (mJy)\"]\n",
    "flux_err5 = np.sqrt(df5[\"eFlux (mJy)\"]**2 + (df5[\"Flux (mJy)\"]*0.05)**2)"
   ]
  },
  {
   "cell_type": "markdown",
   "id": "1de3582d-9125-4f17-bfb4-5aa1bc0e631e",
   "metadata": {},
   "source": [
    "### Distance and velocity of the outburst are being taken from the paper \"V723 Cas (Nova Cassiopeiae 1995): MERLIN observations from 1996 to 2001\"\n",
    "\n",
    "#### Velocity = 414 km/s (+- 0.1)\n",
    "#### Distance = 2.39 kpc (+- 0.38)"
   ]
  },
  {
   "cell_type": "code",
   "execution_count": 5,
   "id": "53bf6740-083a-4299-91d6-e817d3b709a9",
   "metadata": {},
   "outputs": [],
   "source": [
    "Dist =   2.39 * 3.086*10**21                 #distance in cm\n",
    "V_const =  414 * 100000        #velocity in cm/s\n",
    "\n",
    "\n",
    "def Con_TB(S,T,E,nu): #flux denisty, time, error of flux density, frequency in order those are the plug ins\n",
    "    R = []\n",
    "    CTB = []\n",
    "    CTBE = []\n",
    "\n",
    "    S = np.array(S)\n",
    "    T = np.array(T)\n",
    "    E = np.array(E)\n",
    "    \n",
    "    for i in range(len(S)):\n",
    "        R.append(V_const * T[i])  #velocity over time                  #R in cm\n",
    "        angular_diam = 206265 * ((2*R[i])/ Dist)                       #unitless\n",
    "        CTB.append(1765.8 * (nu**(-2)) * S[i]*(angular_diam**(-2)))    #mJy / (Ghz^2)\n",
    "        CTBE.append(1765.8 * (nu**(-2)) * E[i]*(angular_diam**(-2)))\n",
    "    \n",
    "    return(CTB, CTBE)\n",
    "        "
   ]
  },
  {
   "cell_type": "code",
   "execution_count": 6,
   "id": "4751169e-ad79-442a-9b38-ce078bd3fac2",
   "metadata": {},
   "outputs": [],
   "source": [
    "nu0 = 5 #FREQUENCY 1\n",
    "\n",
    "date_CAC_sec_n0 = days5 * 86400    #time in seconds  (date_CAC is going to be a list of times (from t0))"
   ]
  },
  {
   "cell_type": "code",
   "execution_count": 7,
   "id": "03bf75a0-4193-4beb-9ad4-4875c96730aa",
   "metadata": {},
   "outputs": [
    {
     "data": {
      "text/plain": [
       "[17837.78751687657,\n",
       " 15662.261214023962,\n",
       " 14499.21688794125,\n",
       " 10031.774146206872,\n",
       " 5132.897418770666,\n",
       " 8272.180310058913,\n",
       " 2821.431012115858,\n",
       " 1585.4223970231574,\n",
       " 1873.9179694519069]"
      ]
     },
     "execution_count": 7,
     "metadata": {},
     "output_type": "execute_result"
    }
   ],
   "source": [
    "CTB_nu0, CTBError_nu0 = Con_TB(flux5, date_CAC_sec_n0, flux_err5, nu0)\n",
    "\n",
    "CTB_nu0"
   ]
  },
  {
   "cell_type": "markdown",
   "id": "ca35db67-5fc7-41bf-84d7-ea18de0a883d",
   "metadata": {},
   "source": [
    "### Now to plot it"
   ]
  },
  {
   "cell_type": "code",
   "execution_count": 8,
   "id": "e377e64c-b69f-4fb2-9067-9dae70a16374",
   "metadata": {},
   "outputs": [
    {
     "data": {
      "image/png": "[encoded data removed]",
      "text/plain": [
       "<Figure size 1200x1000 with 1 Axes>"
      ]
     },
     "metadata": {},
     "output_type": "display_data"
    }
   ],
   "source": [
    "fig, ax = plt.subplots()\n",
    "fig.set_size_inches(12,10)\n",
    "\n",
    "ax.axhline(y=5*10**4, color='black', linestyle='-', linewidth=1.5)\n",
    "\n",
    "ax.errorbar(days5, CTB_nu0, yerr=CTBError_nu0, fmt='^', color='green', label='5.0')\n",
    "ax.plot(days5, CTB_nu0, color='green', linestyle = '--', alpha=.50)\n",
    "\n",
    "ax.set_xscale('log')\n",
    "ax.set_xticks([500,600,1000,2000,3000], labels = ['500','600','1000','2000','3000'])\n",
    "ax.set_yscale('log')\n",
    "ax.set_yticks([1000,2000, 5000, 10000, 20000, 50000])#, labels = ['1,000', '2,000','5,000','10,000', '20,000', '50,000'])\n",
    "ax.set_xlabel(\"Time since eruption (days)\")\n",
    "ax.set_ylabel(\"Brightness Temperature (K)\")\n",
    "\n",
    "\n",
    "ax.tick_params(axis='both', which='both', direction='in', top=True, right=True)\n",
    "\n",
    "ax.set_title(\"\")\n",
    "plt.legend(title='Frequency (GHz)', loc='upper right', borderaxespad = 4)\n",
    "plt.show();"
   ]
  },
  {
   "cell_type": "code",
   "execution_count": null,
   "id": "b2153685-c09a-4a7a-9d3f-2e662d831b27",
   "metadata": {},
   "outputs": [],
   "source": []
  }
 ],
 "metadata": {
  "kernelspec": {
   "display_name": "Python [conda env:base] *",
   "language": "python",
   "name": "conda-base-py"
  },
  "language_info": {
   "codemirror_mode": {
    "name": "ipython",
    "version": 3
   },
   "file_extension": ".py",
   "mimetype": "text/x-python",
   "name": "python",
   "nbconvert_exporter": "python",
   "pygments_lexer": "ipython3",
   "version": "3.12.7"
  }
 },
 "nbformat": 4,
 "nbformat_minor": 5
}
