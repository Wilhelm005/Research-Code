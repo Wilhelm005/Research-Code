{
 "cells": [
  {
   "cell_type": "markdown",
   "id": "38f17222-4bc7-49a5-aed4-1065f328a3ae",
   "metadata": {},
   "source": [
    "## Brightness Temperature Plot (comparison between multiple novae)\n",
    "### Including : V1535 Sco, V1534 Sco, V407 Cyg, RS Oph, V392 Per, V5589 Sgr, V723 Cas"
   ]
  },
  {
   "cell_type": "code",
   "execution_count": 1,
   "id": "f7d3eee2-f6eb-4c55-be02-6b03f348be96",
   "metadata": {},
   "outputs": [],
   "source": [
    "#imports\n",
    "import numpy as np\n",
    "import pandas as pd\n",
    "import astropy.units as u\n",
    "import astropy.constants as const\n",
    "import matplotlib.pyplot as plt\n",
    "%matplotlib inline"
   ]
  },
  {
   "cell_type": "code",
   "execution_count": 2,
   "id": "1c382a92-3b29-4c76-9b46-acdaefce0497",
   "metadata": {},
   "outputs": [
    {
     "data": {
      "text/html": [
       "<div>\n",
       "<style scoped>\n",
       "    .dataframe tbody tr th:only-of-type {\n",
       "        vertical-align: middle;\n",
       "    }\n",
       "\n",
       "    .dataframe tbody tr th {\n",
       "        vertical-align: top;\n",
       "    }\n",
       "\n",
       "    .dataframe thead th {\n",
       "        text-align: right;\n",
       "    }\n",
       "</style>\n",
       "<table border=\"1\" class=\"dataframe\">\n",
       "  <thead>\n",
       "    <tr style=\"text-align: right;\">\n",
       "      <th></th>\n",
       "      <th>Nova</th>\n",
       "      <th>Distance</th>\n",
       "      <th>Distance Error (+)</th>\n",
       "      <th>Distance Error (-)</th>\n",
       "      <th>Sources</th>\n",
       "      <th>V1(km/s)</th>\n",
       "      <th>V2(km/s)</th>\n",
       "    </tr>\n",
       "  </thead>\n",
       "  <tbody>\n",
       "    <tr>\n",
       "      <th>0</th>\n",
       "      <td>V392 Per</td>\n",
       "      <td>3.40</td>\n",
       "      <td>0.78</td>\n",
       "      <td>0.33</td>\n",
       "      <td>Gaia DR3 Parallax</td>\n",
       "      <td>2500 +/- 200</td>\n",
       "      <td>5500 +/- 300</td>\n",
       "    </tr>\n",
       "    <tr>\n",
       "      <th>1</th>\n",
       "      <td>V5589 Sgr</td>\n",
       "      <td>8.04</td>\n",
       "      <td>1.78</td>\n",
       "      <td>1.35</td>\n",
       "      <td>Extinctions / Mass Model</td>\n",
       "      <td>4500 +/- 500</td>\n",
       "      <td>None</td>\n",
       "    </tr>\n",
       "    <tr>\n",
       "      <th>2</th>\n",
       "      <td>V1535 Sco</td>\n",
       "      <td>7.79</td>\n",
       "      <td>0.75</td>\n",
       "      <td>0.69</td>\n",
       "      <td>Gaia DR3 Parallax, velocity from https://iopsc...</td>\n",
       "      <td>1659 or 4782</td>\n",
       "      <td>None</td>\n",
       "    </tr>\n",
       "    <tr>\n",
       "      <th>3</th>\n",
       "      <td>RS Oph</td>\n",
       "      <td>2.71</td>\n",
       "      <td>0.20</td>\n",
       "      <td>0.13</td>\n",
       "      <td>Gaia DR3 Parallax, velocity from https://iopsc...</td>\n",
       "      <td>3200 +- 500</td>\n",
       "      <td>None</td>\n",
       "    </tr>\n",
       "    <tr>\n",
       "      <th>4</th>\n",
       "      <td>V1534 Sco</td>\n",
       "      <td>9.11</td>\n",
       "      <td>2.14</td>\n",
       "      <td>1.55</td>\n",
       "      <td>Extinctions/Colors/Mass Model, velocity from h...</td>\n",
       "      <td>4200, min 4000</td>\n",
       "      <td>None</td>\n",
       "    </tr>\n",
       "    <tr>\n",
       "      <th>5</th>\n",
       "      <td>V407 Cyg</td>\n",
       "      <td>4.80</td>\n",
       "      <td>1.50</td>\n",
       "      <td>1.50</td>\n",
       "      <td>https://iopscience.iop.org/article/10.1088/000...</td>\n",
       "      <td>3200, min 2760</td>\n",
       "      <td>None</td>\n",
       "    </tr>\n",
       "    <tr>\n",
       "      <th>6</th>\n",
       "      <td>V723 Cas</td>\n",
       "      <td>2.70</td>\n",
       "      <td>0.40</td>\n",
       "      <td>0.30</td>\n",
       "      <td>https://arxiv.org/pdf/0801.3288, velocity from...</td>\n",
       "      <td>1750, min 600</td>\n",
       "      <td>None</td>\n",
       "    </tr>\n",
       "    <tr>\n",
       "      <th>7</th>\n",
       "      <td>U Sco</td>\n",
       "      <td>6.56</td>\n",
       "      <td>3.17</td>\n",
       "      <td>4.02</td>\n",
       "      <td>Peter</td>\n",
       "      <td>N/A yet</td>\n",
       "      <td>None</td>\n",
       "    </tr>\n",
       "  </tbody>\n",
       "</table>\n",
       "</div>"
      ],
      "text/plain": [
       "        Nova  Distance  Distance Error (+)  Distance Error (-)  \\\n",
       "0   V392 Per      3.40                0.78                0.33   \n",
       "1  V5589 Sgr      8.04                1.78                1.35   \n",
       "2  V1535 Sco      7.79                0.75                0.69   \n",
       "3     RS Oph      2.71                0.20                0.13   \n",
       "4  V1534 Sco      9.11                2.14                1.55   \n",
       "5   V407 Cyg      4.80                1.50                1.50   \n",
       "6   V723 Cas      2.70                0.40                0.30   \n",
       "7      U Sco      6.56                3.17                4.02   \n",
       "\n",
       "                                             Sources        V1(km/s)  \\\n",
       "0                                  Gaia DR3 Parallax    2500 +/- 200   \n",
       "1                           Extinctions / Mass Model    4500 +/- 500   \n",
       "2  Gaia DR3 Parallax, velocity from https://iopsc...    1659 or 4782   \n",
       "3  Gaia DR3 Parallax, velocity from https://iopsc...     3200 +- 500   \n",
       "4  Extinctions/Colors/Mass Model, velocity from h...  4200, min 4000   \n",
       "5  https://iopscience.iop.org/article/10.1088/000...  3200, min 2760   \n",
       "6  https://arxiv.org/pdf/0801.3288, velocity from...   1750, min 600   \n",
       "7                                              Peter         N/A yet   \n",
       "\n",
       "       V2(km/s)  \n",
       "0  5500 +/- 300  \n",
       "1          None  \n",
       "2          None  \n",
       "3          None  \n",
       "4          None  \n",
       "5          None  \n",
       "6          None  \n",
       "7          None  "
      ]
     },
     "execution_count": 2,
     "metadata": {},
     "output_type": "execute_result"
    }
   ],
   "source": [
    "data_novas = (\n",
    "\n",
    "[\"V392 Per\", 3.40, 0.78, 0.33,\t\"Gaia DR3 Parallax\", \"2500 +/- 200\", \"5500 +/- 300\"],\n",
    "[\"V5589 Sgr\", 8.04, 1.78, 1.35,\t\"Extinctions / Mass Model\",\t \"4500 +/- 500\"],\n",
    "[\"V1535 Sco\", 7.79, 0.75, 0.69,\t\"Gaia DR3 Parallax, velocity from https://iopscience.iop.org/article/10.3847/1538-4357/aa7512/pdf\", \"1659 or 4782\"],\n",
    "[\"RS Oph\", 2.71, 0.2, 0.13,\t\"Gaia DR3 Parallax, velocity from https://iopscience.iop.org/article/10.3847/1538-4357/acc105/pdf\", \"3200 +- 500\"],\t\t\t\n",
    "[\"V1534 Sco\", 9.11, 2.14, 1.55,\t\"Extinctions/Colors/Mass Model, velocity from https://arxiv.org/pdf/1712.02530\", '4200, min 4000'],\n",
    "['V407 Cyg', 4.8, 1.5, 1.5, \"https://iopscience.iop.org/article/10.1088/0004-637X/761/2/173/pdf\", \"3200, min 2760\"],\n",
    "['V723 Cas', 2.7, 0.4, 0.3, \"https://arxiv.org/pdf/0801.3288, velocity from https://www.aanda.org/articles/aa/pdf/2006/20/aa3984-05.pdf\", \"1750, min 600\"],\n",
    "['U Sco', 6.56, 3.17, 4.02, 'Peter', 'N/A yet']\n",
    ")\n",
    "\n",
    "df_novas = pd.DataFrame(data_novas, columns = ['Nova', 'Distance', 'Distance Error (+)', \n",
    "                                               'Distance Error (-)', 'Sources', \"V1(km/s)\",\t\t\"V2(km/s)\"])\n",
    "\n",
    "df_novas"
   ]
  },
  {
   "cell_type": "markdown",
   "id": "91407dbe-349c-4dbc-bd91-671e16d18286",
   "metadata": {},
   "source": [
    "### going in order of how it's listed\n",
    "### V392Per first --> all the items have a 0 at the end of it"
   ]
  },
  {
   "cell_type": "code",
   "execution_count": 3,
   "id": "4a8e6d8f-e012-4554-8098-8f125512c110",
   "metadata": {},
   "outputs": [],
   "source": [
    "#frequency of 1.26 (also has some of 1.4)\n",
    "f1_26_0 = ([58712.62,\t1.26,\t0.38,\t0.09,\t475],\n",
    "         [58652.58,\t1.26,\t0.104,\t0.0989,\t415],\n",
    "         [58627.98,\t1.26,\t0.0193,\t0.086,\t390],\n",
    "         [58519.04,\t1.26,\t0.111,\t0.109,\t282],\n",
    "         [58493.11,\t1.26,\t0.178,\t0.151,\t256],\n",
    "         [58460.18,\t1.26,\t0.105,\t0.111,\t223],\n",
    "         [58423.58,\t1.26,\t-0.108,\t0.241,\t186],\n",
    "         [58379.44,\t1.26,\t1.033,\t0.223,\t142],\n",
    "         [58368.43,\t1.26,\t0.971,\t0.272,\t131],\n",
    "         [58347.5,\t1.4,\t0.22,\t0.035,\t110],\n",
    "         [58278.58,\t1.26,\t3.704,\t0.0571,\t41],\n",
    "         [58269.61,\t1.26,\t3.471,\t0.0551,\t32],\n",
    "         [58260.96,\t1.26,\t1.576,\t0.0616,\t23],\n",
    "         [58256.62,\t1.26,\t0.626,\t0.0562,\t19],\n",
    "         [58250.64,\t1.26,\t0.114,\t0.0474,\t13],\n",
    "         [58238.93,\t1.26,\t-0.0122,\t0.0531,\t1],\n",
    "        )\n",
    "\n",
    "df1_26_0 =  pd.DataFrame(f1_26_0, columns = [\"MJD\",\t\"Freq (GHz)\",\t\"Flux (mJy)\",\t\"eFlux (mJy)\",\t\"Days\"])"
   ]
  },
  {
   "cell_type": "code",
   "execution_count": 4,
   "id": "dbbe8629-642e-4a25-819b-9eea7d45f40c",
   "metadata": {},
   "outputs": [],
   "source": [
    "mask_0 = df1_26_0['Flux (mJy)'] > 3 * np.sqrt(df1_26_0[\"eFlux (mJy)\"]**2 + (df1_26_0[\"Flux (mJy)\"]*0.05)**2) #don't show the non-detections\n",
    "if mask_0.any():\n",
    "        days1_26_0 = (df1_26_0['Days'][mask_0])\n",
    "        flux1_26_0 = df1_26_0[\"Flux (mJy)\"][mask_0]\n",
    "        flux_err1_26_0 = np.sqrt(df1_26_0[\"eFlux (mJy)\"][mask_0]**2 + (df1_26_0[\"Flux (mJy)\"][mask_0]*0.05)**2)\n",
    "\n",
    "nu1_26_0 = 1.26\n",
    "date_CAC_sec_n1_26_0 = days1_26_0 * 86400    #time in seconds  (date_CAC is going to be a list of times (from t0))"
   ]
  },
  {
   "cell_type": "code",
   "execution_count": 5,
   "id": "9e177f55-340d-4b82-9fe3-a619b297c50b",
   "metadata": {},
   "outputs": [],
   "source": [
    "Vlow0 = 2500 * 100000\n",
    "Vhigh0 = 5800 * 100000\n",
    "Distlow0 = 3.07 *  3.086*10**21 \n",
    "Disthigh0 = 4.18 *  3.086*10**21 "
   ]
  },
  {
   "cell_type": "code",
   "execution_count": 6,
   "id": "a9e1d724-4fcb-449a-83a0-556b2fb934bc",
   "metadata": {},
   "outputs": [],
   "source": [
    "def Con_TBlow(S,T,E,nu): #flux denisty, time, error of flux density, frequency in order those are the plug ins\n",
    "    R = []\n",
    "    CTB = []\n",
    "    CTBE = []\n",
    "\n",
    "    S = np.array(S)\n",
    "    T = np.array(T)\n",
    "    E = np.array(E)\n",
    "    \n",
    "    for i in range(len(S)):\n",
    "        R.append(Vhigh0 * T[i])  #velocity over time                  #R in cm\n",
    "        angular_diam = 206265 * ((2*R[i])/ Distlow0)                       #unitless\n",
    "        CTB.append(1765.8 * (nu**(-2)) * S[i]*(angular_diam**(-2)))    #mJy / (Ghz^2)\n",
    "        CTBE.append(1765.8 * (nu**(-2)) * E[i]*(angular_diam**(-2)))\n",
    "    \n",
    "    return(CTB, CTBE)\n",
    "\n",
    "\n",
    "\n",
    "def Con_TBhigh(S,T,E,nu): #flux denisty, time, error of flux density, frequency in order those are the plug ins\n",
    "    R = []\n",
    "    CTB = []\n",
    "    CTBE = []\n",
    "\n",
    "    S = np.array(S)\n",
    "    T = np.array(T)\n",
    "    E = np.array(E)\n",
    "    \n",
    "    for i in range(len(S)):\n",
    "        R.append(Vlow0 * T[i])  #velocity over time                  #R in cm\n",
    "        angular_diam = 206265 * ((2*R[i])/ Disthigh0)                       #unitless\n",
    "        CTB.append(1765.8 * (nu**(-2)) * S[i]*(angular_diam**(-2)))    #mJy / (Ghz^2)\n",
    "        CTBE.append(1765.8 * (nu**(-2)) * E[i]*(angular_diam**(-2)))\n",
    "    \n",
    "    return(CTB, CTBE)"
   ]
  },
  {
   "cell_type": "code",
   "execution_count": 7,
   "id": "849b711c-d97e-4019-9c25-6953ba4ef7c2",
   "metadata": {},
   "outputs": [
    {
     "name": "stdout",
     "output_type": "stream",
     "text": [
      "[3925.7499220436694, 119412.5262223999, 131887.2740366668, 42380.25484024416, 5136053.251668377, 7900979.053004699, 6944273.137150027, 4041972.7815778567]\n"
     ]
    }
   ],
   "source": [
    "CTB_nuhigh0, CTBError_nuhigh0 = Con_TBhigh(flux1_26_0, date_CAC_sec_n1_26_0, flux_err1_26_0, nu1_26_0)\n",
    "print(CTB_nuhigh0)"
   ]
  },
  {
   "cell_type": "code",
   "execution_count": 8,
   "id": "dd23a9f4-5a2a-4aad-8619-2d35d1c910c7",
   "metadata": {},
   "outputs": [
    {
     "name": "stdout",
     "output_type": "stream",
     "text": [
      "[393.4330578942558, 11967.353060049098, 13217.554493275315, 4247.288693176625, 514727.93133488536, 791824.8515340659, 695945.1491957466, 405080.7471082305]\n"
     ]
    }
   ],
   "source": [
    "CTB_nulow0, CTBError_nulow0 = Con_TBlow(flux1_26_0, date_CAC_sec_n1_26_0, flux_err1_26_0, nu1_26_0)\n",
    "print(CTB_nulow0)"
   ]
  },
  {
   "cell_type": "markdown",
   "id": "8c8d665b-d3f4-4d79-9c7d-9f0751dbb31b",
   "metadata": {},
   "source": [
    "### Now V5589 Sgr, denoted by a 1 at the end of everything"
   ]
  },
  {
   "cell_type": "code",
   "execution_count": 9,
   "id": "4982591e-2e36-4f6e-84fd-11286f304079",
   "metadata": {},
   "outputs": [],
   "source": [
    "f1_35_1 = ([56526.7,\t19,\t1.26,\t-0.571,\t0.276,\t1.00E-10,\t0.05],\n",
    "          [56441.4,\t18,\t1.26,\t0.0811,\t0.396,\t1.00E-10,\t0.05],\n",
    "          [56347.7,\t16,\t1.26,\t0.346,\t0.503,\t1.00E-10,\t0.05],\n",
    "         [56297.7,\t15,\t1.26,\t0.0504,\t0.102,\t1.00E-10,\t0.05],\n",
    "         [56270.8,\t13,\t1.2555,\t0,\t0.083,\t1.00E-10,\t0.05],\n",
    "         [56177.9,\t11,\t1.33,\t0.225,\t0.044,\t1.00E-10,\t0.05],\n",
    "         [56167.0,\t9,\t1.36,\t0.244,\t0.049,\t1.00E-10,\t0.05],\n",
    "          [56151.3,\t8,\t1.25,\t0,\t0.091,\t1.00E-10,\t0.05],\n",
    "         [56148.0,\t7,\t1.2555,\t0.340,\t0.071,\t1.00E-10,\t0.05],\n",
    "         [56119.1,\t5,\t1.35,\t1.68,\t0.120,\t1.00E-10,\t0.05],\n",
    "        )\n",
    "\n",
    "df1_35_1 =  pd.DataFrame(f1_35_1, columns = [\"MJD\",\t\"Epoch\", \"Freq\", \"Flux\", \"error\",\"RM\", \"systematics\"])"
   ]
  },
  {
   "cell_type": "code",
   "execution_count": 10,
   "id": "168d9274-ab66-4461-be5d-7f384e3d0b37",
   "metadata": {},
   "outputs": [],
   "source": [
    "mask1 = df1_35_1['Flux'] > 3 * np.sqrt(df1_35_1[\"error\"]**2 + (df1_35_1[\"Flux\"]*0.05)**2) #don't show the non-detections\n",
    "if mask1.any():\n",
    "        days1_35_1 = (df1_35_1['MJD'][mask1] - 56038)\n",
    "        flux1_35_1 = df1_35_1[\"Flux\"][mask1]\n",
    "        flux_err1_35_1 = np.sqrt(df1_35_1[\"error\"][mask1]**2 + (df1_35_1[\"Flux\"][mask1]*0.05)**2)\n",
    "\n",
    "\n",
    "nu1_35_1 = 1.35\n",
    "date_CAC_sec_n1_35_1 = days1_35_1 * 86400    #time in seconds  (date_CAC is going to be a list of times (from t0))"
   ]
  },
  {
   "cell_type": "code",
   "execution_count": 11,
   "id": "6e8f8249-ccd4-4006-921b-8ce6b4ad7e27",
   "metadata": {},
   "outputs": [],
   "source": [
    "Vlow1 = 4000 * 100000\n",
    "Vhigh1 = 5000 * 100000\n",
    "Distlow1 = 6.69 *  3.086*10**21 \n",
    "Disthigh1 = 9.82 *  3.086*10**21 "
   ]
  },
  {
   "cell_type": "code",
   "execution_count": 12,
   "id": "ac41c889-4f7b-45b9-b157-e0b884a7dffa",
   "metadata": {},
   "outputs": [],
   "source": [
    "def Con_TBlow(S,T,E,nu): #flux denisty, time, error of flux density, frequency in order those are the plug ins\n",
    "    R = []\n",
    "    CTB = []\n",
    "    CTBE = []\n",
    "\n",
    "    S = np.array(S)\n",
    "    T = np.array(T)\n",
    "    E = np.array(E)\n",
    "    \n",
    "    for i in range(len(S)):\n",
    "        R.append(Vhigh1 * T[i])  #velocity over time                  #R in cm\n",
    "        angular_diam = 206265 * ((2*R[i])/ Distlow1)                       #unitless\n",
    "        CTB.append(1765.8 * (nu**(-2)) * S[i]*(angular_diam**(-2)))    #mJy / (Ghz^2)\n",
    "        CTBE.append(1765.8 * (nu**(-2)) * E[i]*(angular_diam**(-2)))\n",
    "    \n",
    "    return(CTB, CTBE)\n",
    "\n",
    "\n",
    "\n",
    "def Con_TBhigh(S,T,E,nu): #flux denisty, time, error of flux density, frequency in order those are the plug ins\n",
    "    R = []\n",
    "    CTB = []\n",
    "    CTBE = []\n",
    "\n",
    "    S = np.array(S)\n",
    "    T = np.array(T)\n",
    "    E = np.array(E)\n",
    "    \n",
    "    for i in range(len(S)):\n",
    "        R.append(Vlow1 * T[i])  #velocity over time                  #R in cm\n",
    "        angular_diam = 206265 * ((2*R[i])/ Disthigh1)                       #unitless\n",
    "        CTB.append(1765.8 * (nu**(-2)) * S[i]*(angular_diam**(-2)))    #mJy / (Ghz^2)\n",
    "        CTBE.append(1765.8 * (nu**(-2)) * E[i]*(angular_diam**(-2)))\n",
    "    \n",
    "    return(CTB, CTBE)"
   ]
  },
  {
   "cell_type": "code",
   "execution_count": 13,
   "id": "eb10a1f0-4a80-474b-9b15-38780fda5166",
   "metadata": {},
   "outputs": [
    {
     "name": "stdout",
     "output_type": "stream",
     "text": [
      "[50324.25362558629, 64186.05132688815, 123005.29306477895, 1118144.228963218]\n"
     ]
    }
   ],
   "source": [
    "CTB_nuhigh1, CTBError_nuhigh1 = Con_TBhigh(flux1_35_1, date_CAC_sec_n1_35_1, flux_err1_35_1, nu1_35_1)\n",
    "print(CTB_nuhigh1)"
   ]
  },
  {
   "cell_type": "code",
   "execution_count": 14,
   "id": "0fc6a36e-68ef-4955-8ee4-9ed3585a2e9c",
   "metadata": {},
   "outputs": [
    {
     "name": "stdout",
     "output_type": "stream",
     "text": [
      "[14948.120027324276, 19065.574354122225, 36537.0125190226, 332129.20089696447]\n"
     ]
    }
   ],
   "source": [
    "CTB_nulow1, CTBError_nulow1 = Con_TBlow(flux1_35_1, date_CAC_sec_n1_35_1, flux_err1_35_1, nu1_35_1)\n",
    "print(CTB_nulow1)"
   ]
  },
  {
   "cell_type": "markdown",
   "id": "6488c9b2-b05e-4d0c-bf57-b5c816697409",
   "metadata": {},
   "source": [
    "## Now V1535 Sco, ending everything with 2"
   ]
  },
  {
   "cell_type": "code",
   "execution_count": 15,
   "id": "1993352a-35dd-4200-a492-7881e1da9548",
   "metadata": {},
   "outputs": [],
   "source": [
    "f1_26_2 = ([57187.2, 1.26, 0.277, 0.116], #BnA _> A\n",
    "         [57158.3, 1.26, -0.152, 0.177], #B_> BnA\n",
    "         [57143.3, 1.26, -0.0723, 0.106], #B\n",
    "         [57130.35, 1.26, 0.444, 0.0813],\n",
    "         [57120.57, 1.26, 0.873, 0.1], #B\n",
    "         [57106.47, 1.26, 0.273, 0.112], #B\n",
    "         [57091.4, 1.26, 0.153, 0.0738], #B\n",
    "         [57082.5, 1.26, 0.0142, 0.101], #B\n",
    "         [57072.5, 1.26, 1.57, 0.0765], #B\n",
    "        )\n",
    "\n",
    "df1_26_2 =  pd.DataFrame(f1_26_2, columns = [\"MJD\", \"Freq (GHz)\", \"Flux Density (mJy)\", \"Uncertainty (mJy)\"])"
   ]
  },
  {
   "cell_type": "code",
   "execution_count": 16,
   "id": "3ebdbdfa-c81d-44e4-b3e9-29b930f990c6",
   "metadata": {},
   "outputs": [],
   "source": [
    "mask2 = df1_26_2['Flux Density (mJy)'] > 3 * np.sqrt(df1_26_2[\"Uncertainty (mJy)\"]**2 + (df1_26_2[\"Flux Density (mJy)\"]*0.05)**2) #don't show the non-detections\n",
    "if mask2.any():\n",
    "        days1_26_2 = df1_26_2['MJD'][mask2] - 57064.837\n",
    "        flux1_26_2 = df1_26_2[\"Flux Density (mJy)\"][mask2]\n",
    "        flux_err1_26_2 = np.sqrt(df1_26_2[\"Uncertainty (mJy)\"][mask2]**2 + (df1_26_2[\"Flux Density (mJy)\"][mask2]*0.05)**2)"
   ]
  },
  {
   "cell_type": "code",
   "execution_count": 17,
   "id": "d5f82b01-93ac-47f5-b66a-29598fa2f3dd",
   "metadata": {},
   "outputs": [],
   "source": [
    "nu1_26_2 = 1.26\n",
    "date_CAC_sec_n1_26_2 = days1_26_2 * 86400    #time in seconds  (date_CAC is going to be a list of times (from t0))\n",
    "\n",
    "Vlow2 =  1659* 100000\n",
    "Vhigh2 =  4782* 100000\n",
    "Distlow2 = 7.1 *  3.086*10**21 \n",
    "Disthigh2 = 8.54 *  3.086*10**21 "
   ]
  },
  {
   "cell_type": "code",
   "execution_count": 18,
   "id": "7859dfdd-43ce-450c-b425-2dfa14a6dc15",
   "metadata": {},
   "outputs": [],
   "source": [
    "def Con_TBlow(S,T,E,nu): #flux denisty, time, error of flux density, frequency in order those are the plug ins\n",
    "    R = []\n",
    "    CTB = []\n",
    "    CTBE = []\n",
    "\n",
    "    S = np.array(S)\n",
    "    T = np.array(T)\n",
    "    E = np.array(E)\n",
    "    \n",
    "    for i in range(len(S)):\n",
    "        R.append(Vhigh2 * T[i])  #velocity over time                  #R in cm\n",
    "        angular_diam = 206265 * ((2*R[i])/ Distlow2)                       #unitless\n",
    "        CTB.append(1765.8 * (nu**(-2)) * S[i]*(angular_diam**(-2)))    #mJy / (Ghz^2)\n",
    "        CTBE.append(1765.8 * (nu**(-2)) * E[i]*(angular_diam**(-2)))\n",
    "    \n",
    "    return(CTB, CTBE)\n",
    "\n",
    "\n",
    "\n",
    "def Con_TBhigh(S,T,E,nu): #flux denisty, time, error of flux density, frequency in order those are the plug ins\n",
    "    R = []\n",
    "    CTB = []\n",
    "    CTBE = []\n",
    "\n",
    "    S = np.array(S)\n",
    "    T = np.array(T)\n",
    "    E = np.array(E)\n",
    "    \n",
    "    for i in range(len(S)):\n",
    "        R.append(Vlow2 * T[i])  #velocity over time                  #R in cm\n",
    "        angular_diam = 206265 * ((2*R[i])/ Disthigh2)                       #unitless\n",
    "        CTB.append(1765.8 * (nu**(-2)) * S[i]*(angular_diam**(-2)))    #mJy / (Ghz^2)\n",
    "        CTBE.append(1765.8 * (nu**(-2)) * E[i]*(angular_diam**(-2)))\n",
    "    \n",
    "    return(CTB, CTBE)"
   ]
  },
  {
   "cell_type": "code",
   "execution_count": 19,
   "id": "8ceb798a-4b73-4b80-897c-6100f42ffe04",
   "metadata": {},
   "outputs": [
    {
     "name": "stdout",
     "output_type": "stream",
     "text": [
      "[2285623.391380324, 6209635.072861461, 590715923.2441869]\n"
     ]
    }
   ],
   "source": [
    "CTB_nuhigh2, CTBError_nuhigh2 = Con_TBhigh(flux1_26_2, date_CAC_sec_n1_26_2, flux_err1_26_2, nu1_26_2)\n",
    "print(CTB_nuhigh2)"
   ]
  },
  {
   "cell_type": "code",
   "execution_count": 20,
   "id": "323a8425-bfe4-49a7-8b9a-78bdae656a13",
   "metadata": {},
   "outputs": [
    {
     "name": "stdout",
     "output_type": "stream",
     "text": [
      "[190142.52488807615, 516583.65758777875, 49142049.19359383]\n"
     ]
    }
   ],
   "source": [
    "CTB_nulow2, CTBError_nulow2 = Con_TBlow(flux1_26_2, date_CAC_sec_n1_26_2, flux_err1_26_2, nu1_26_2)\n",
    "print(CTB_nulow2)"
   ]
  },
  {
   "cell_type": "markdown",
   "id": "1093dc3e-d7a6-4c1b-95df-859d0ba4c84f",
   "metadata": {},
   "source": [
    "## Now RS Oph, dentoed with ending of 3"
   ]
  },
  {
   "cell_type": "code",
   "execution_count": 21,
   "id": "68e293aa-876f-4ff2-8803-2bff331fd62a",
   "metadata": {},
   "outputs": [],
   "source": [
    "f2_6_3 = (\n",
    "    [59439.04,\t2.6,\t4.71,\t0.14],\n",
    "    [59440.08,\t2.6,\t18.206,\t0.11],\n",
    "    [59443.99,\t2.6,\t68.929,\t0.37],\n",
    "    [59446.01,\t2.6,\t88.695,\t0.21],\n",
    "    [59446.99,\t2.6,\t84.443,\t0.34],\n",
    "    [59451.01,\t2.6,\t92.534,\t0.24],\t\n",
    "    [59461.01,\t2.6,\t94.467,\t0.22],\n",
    "    [59463.02,\t2.6,\t88.638,\t0.2],\t\t\n",
    "    [59466.04,\t2.6,\t58.862,\t0.17],\t\t\t\n",
    "    [59467.99,\t2.6,\t81.96,\t0.23],\n",
    "    [59470.01,\t2.6,\t74.216,\t0.24],\n",
    "    [59487.96,\t2.6,\t65.358,\t0.18],\n",
    "    [59510.94,\t2.6,\t27.414,\t0.13],\n",
    "    [59511.92,\t2.6,\t36.139,\t0.13],\n",
    "    [59523.82,\t2.6,\t32.964,\t0.13],\t\t\n",
    "    [59574.76,\t2.6,\t17.902,\t0.2],\n",
    "    [59588.66,\t2.6,\t24.59,\t0.16],\n",
    "    [59590.61,\t2.6,\t24.388,\t0.21],\n",
    "    [59595.61,\t2.6,\t23.163,\t0.16],\n",
    "    [60034.47,\t2.6,\t3.295,\t0.17],\n",
    "    [60049.34,\t2.6,\t2.777,\t0.17],\n",
    "    [60131.12,\t2.6,\t1.808,\t0.017],\n",
    ")\n",
    "\n",
    "df2_6_3 =  pd.DataFrame(f2_6_3, columns = [\"MJD\", \"Freq (GHz)\", \"Flux Density (mJy)\", \"Uncertainty (mJy)\"])"
   ]
  },
  {
   "cell_type": "code",
   "execution_count": 22,
   "id": "3963ce2b-8a5b-453b-97cf-b65dc8d1b841",
   "metadata": {},
   "outputs": [],
   "source": [
    "mask3 = df2_6_3['Flux Density (mJy)'] > 3 * np.sqrt(df2_6_3[\"Uncertainty (mJy)\"]**2 + (df2_6_3[\"Flux Density (mJy)\"]*0.05)**2) #don't show the non-detections\n",
    "days2_6_3 = df2_6_3['MJD'][mask3] - 59434\n",
    "flux2_6_3 = df2_6_3[\"Flux Density (mJy)\"][mask3]\n",
    "flux_err2_6_3 = np.sqrt(df2_6_3[\"Uncertainty (mJy)\"][mask3]**2 + (df2_6_3[\"Flux Density (mJy)\"][mask3]*0.05)**2)"
   ]
  },
  {
   "cell_type": "code",
   "execution_count": 23,
   "id": "e6fa2284-4520-459b-93b9-aad020262718",
   "metadata": {},
   "outputs": [],
   "source": [
    "nu2_6_3 = 2.6\n",
    "date_CAC_sec_n2_6_3 = days2_6_3 * 86400    #time in seconds  (date_CAC is going to be a list of times (from t0))\n",
    "\n",
    "Vlow3 = 2700 * 100000\n",
    "Vhigh3 = 3700 * 100000\n",
    "Distlow3 = 2.58 *  3.086*10**21    \n",
    "Disthigh3 = 2.91 *  3.086*10**21    "
   ]
  },
  {
   "cell_type": "code",
   "execution_count": 24,
   "id": "5ca9b4f8-af24-4853-aa75-71b53e6d84be",
   "metadata": {},
   "outputs": [],
   "source": [
    "def Con_TBlow(S,T,E,nu): #flux denisty, time, error of flux density, frequency in order those are the plug ins\n",
    "    R = []\n",
    "    CTB = []\n",
    "    CTBE = []\n",
    "\n",
    "    S = np.array(S)\n",
    "    T = np.array(T)\n",
    "    E = np.array(E)\n",
    "    \n",
    "    for i in range(len(S)):\n",
    "        R.append(Vhigh3 * T[i])  #velocity over time                  #R in cm\n",
    "        angular_diam = 206265 * ((2*R[i])/ Distlow3)                       #unitless\n",
    "        CTB.append(1765.8 * (nu**(-2)) * S[i]*(angular_diam**(-2)))    #mJy / (Ghz^2)\n",
    "        CTBE.append(1765.8 * (nu**(-2)) * E[i]*(angular_diam**(-2)))\n",
    "    \n",
    "    return(CTB, CTBE)\n",
    "\n",
    "\n",
    "\n",
    "def Con_TBhigh(S,T,E,nu): #flux denisty, time, error of flux density, frequency in order those are the plug ins\n",
    "    R = []\n",
    "    CTB = []\n",
    "    CTBE = []\n",
    "\n",
    "    S = np.array(S)\n",
    "    T = np.array(T)\n",
    "    E = np.array(E)\n",
    "    \n",
    "    for i in range(len(S)):\n",
    "        R.append(Vlow3 * T[i])  #velocity over time                  #R in cm\n",
    "        angular_diam = 206265 * ((2*R[i])/ Disthigh3)                       #unitless\n",
    "        CTB.append(1765.8 * (nu**(-2)) * S[i]*(angular_diam**(-2)))    #mJy / (Ghz^2)\n",
    "        CTBE.append(1765.8 * (nu**(-2)) * E[i]*(angular_diam**(-2)))\n",
    "    \n",
    "    return(CTB, CTBE)"
   ]
  },
  {
   "cell_type": "code",
   "execution_count": 25,
   "id": "84ba6953-f516-4f9f-a569-ab98044fc8be",
   "metadata": {},
   "outputs": [
    {
     "name": "stdout",
     "output_type": "stream",
     "text": [
      "[42176096.80029783, 112024736.47509353, 157100494.6939254, 139868421.7343949, 113828733.30681664, 72744348.69755195, 29453540.445128653, 23940415.474956546, 13042371.023531782, 16136382.193271099, 13018407.21001142, 5105772.068127274, 1053354.598659835, 1353894.4078487197, 929395.0501035245, 205517.86874597374, 233834.75881869806, 226174.5621994498, 201727.40310139046, 2078.6402901510223, 1668.2154401036762, 846.2328730352525]\n"
     ]
    }
   ],
   "source": [
    "CTB_nuhigh3, CTBError_nuhigh3 = Con_TBhigh(flux2_6_3, date_CAC_sec_n2_6_3, flux_err2_6_3, nu2_6_3)\n",
    "print(CTB_nuhigh3)"
   ]
  },
  {
   "cell_type": "code",
   "execution_count": 26,
   "id": "6c6ede24-2268-45f8-a704-a7760c64d8cc",
   "metadata": {},
   "outputs": [
    {
     "name": "stdout",
     "output_type": "stream",
     "text": [
      "[17654031.594527833, 46891210.59410104, 65758979.7836135, 58545994.620306216, 47646325.91960082, 30449262.2043883, 12328635.72110667, 10020956.969589027, 5459263.601542153, 6754351.935653105, 5449232.850640356, 2137169.3504966563, 440912.19377253024, 566711.8691658321, 389025.3205746991, 86025.47943829227, 97878.33709768372, 94671.93908089167, 84438.869834177, 870.0753303403246, 698.2800761653576, 354.21537340522485]\n"
     ]
    }
   ],
   "source": [
    "CTB_nulow3, CTBError_nulow3 = Con_TBlow(flux2_6_3, date_CAC_sec_n2_6_3, flux_err2_6_3, nu2_6_3)\n",
    "print(CTB_nulow3)"
   ]
  },
  {
   "cell_type": "markdown",
   "id": "010abe1b-fdb4-4cc6-869e-0e7d90cec3c8",
   "metadata": {},
   "source": [
    "## Now V1534 Sco, denoted with an ending of 4"
   ]
  },
  {
   "cell_type": "code",
   "execution_count": 27,
   "id": "c96d7dca-f0a4-429d-816b-1e1f3cf38f63",
   "metadata": {},
   "outputs": [],
   "source": [
    "f1_26_4 = ([56757.5,\t1.26,\t14.9,\t0.0489],#13B-057\tJustin\t4/10/2014\tA\tJMFIT, dowidth -1)\n",
    "         [56768.4,\t1.26,\t10.998,\t0.056],#13B-057\tJustin\t4/21/2014\tA\tJMFIT, dowidth -1\n",
    "         [56774.4,\t1.26,\t9.64,\t0.0464],#13B-057\tJustin\t4/27/2014\tA\tJMFIT, dowidth -1\n",
    "         [56788.3,\t1.26,\t7.29,\t0.0473],#13B-057\tJustin\t5/11/2014\tA\tJMFIT, dowidth -1\n",
    "         [56821.3,\t1.26,\t2.75,\t0.0824],#13B-057\tJustin\t6/13/2014\tA->D (move)\tJMFIT, dowidth -1\n",
    "         [56841.2,\t1.26,\t3.53,\t0.0426],#13B-057\tJustin\t7/3/2014\tD\tJMFIT, dowidth -1\n",
    "         [56881,\t1.26,\t1.24,\t0.491],#13B-057\tJustin\t8/12/2014\tD\tJMFIT, dowidth -1\n",
    "         [56908.1,\t1.26,\t1.19,\t0.313],#13B-057\tJustin\t9/8/2014\tD\tJMFIT had problems this time, used peak flux and off-source rms from difmap\n",
    "         [56950.9,\t1.26,\t0.88,\t0.176],#13B-057\tJustin\t10/20/2014\tC\tJMFIT, dowidth -1\n",
    "         [56969.9,\t1.26,\t0.461,\t0.178],#13B-057\tJustin\t11/8/2014\tC\tNON-DETECTION, very noisy, flux and rms from Difmap\n",
    "         [56997.8,\t1.35,\t0.398,\t0.156],#13B-057\tJustin\t12/6/2014\tC\tNON-DETECTION, flux and rms from difmap, very messy, cut out short baselines to get rid of the worst of it; NOTE: observed in same block as Sgr 2014, calibrated with CASA pipeline\n",
    "         [57039.7,\t1.26,\t0.272,\t0.136],#13B-057\tJustin\t1/17/2015\tCnB\tnon-detection, flux and rms from difmap; NOTE: observed in same block as Sgr 2014, calibrated with CASA pipeline\n",
    "         [57082.6,\t1.26,\t0.192,\t0.116],#13B-057\tJustin\t3/1/2015\tB\tnon-detection, flux and rms from difmap; NOTE: observed in same block as Sgr 2014, calibrated with CASA pipeline\n",
    "         [57136.4,\t1.26,\t0.115,\t0.0965],#13B-057\tJustin\t4/24/2015\tB\tnon-detection, flux and rms from difmap; NOTE: observed in same block as Sgr 2014, calibrated with CASA pipeline\n",
    "         \n",
    "        )\n",
    "\n",
    "df1_26_4 =  pd.DataFrame(f1_26_4, columns = [\"MJD\", \"Freq (GHz)\", \"Flux Density (mJy)\", \"Uncertainty (mJy)\"])"
   ]
  },
  {
   "cell_type": "code",
   "execution_count": 28,
   "id": "759f40b0-1b7e-4a1a-a348-7e8f1eefbcb7",
   "metadata": {},
   "outputs": [],
   "source": [
    "mask4 = df1_26_4['Flux Density (mJy)'] > 3 * np.sqrt(df1_26_4[\"Uncertainty (mJy)\"]**2 + (df1_26_4[\"Flux Density (mJy)\"]*0.05)**2) #don't show the non-detections\n",
    "if mask4.any():\n",
    "        days1_26_4 = df1_26_4['MJD'][mask4] - 56742.85\n",
    "        flux1_26_4 = df1_26_4[\"Flux Density (mJy)\"][mask4]\n",
    "        flux_err1_26_4 = np.sqrt(df1_26_4[\"Uncertainty (mJy)\"][mask4]**2 + (df1_26_4[\"Flux Density (mJy)\"][mask4]*0.05)**2)\n"
   ]
  },
  {
   "cell_type": "code",
   "execution_count": 29,
   "id": "a481f210-fd23-4308-bb15-347c0eecdfcf",
   "metadata": {},
   "outputs": [],
   "source": [
    "nu1_26_4 = 1.26\n",
    "date_CAC_sec_n1_26_4 = days1_26_4 * 86400    #time in seconds  (date_CAC is going to be a list of times (from t0))\n",
    "\n",
    "Vlow4 =  4000* 100000\n",
    "Vhigh4 =  4200* 100000\n",
    "Distlow4 = 7.56 *  3.086*10**21    \n",
    "Disthigh4 = 11.25 *  3.086*10**21    "
   ]
  },
  {
   "cell_type": "code",
   "execution_count": 30,
   "id": "98815f8d-045d-4414-bbe9-d0c58d847906",
   "metadata": {},
   "outputs": [],
   "source": [
    "def Con_TBlow(S,T,E,nu): #flux denisty, time, error of flux density, frequency in order those are the plug ins\n",
    "    R = []\n",
    "    CTB = []\n",
    "    CTBE = []\n",
    "\n",
    "    S = np.array(S)\n",
    "    T = np.array(T)\n",
    "    E = np.array(E)\n",
    "    \n",
    "    for i in range(len(S)):\n",
    "        R.append(Vhigh4 * T[i])  #velocity over time                  #R in cm\n",
    "        angular_diam = 206265 * ((2*R[i])/ Distlow4)                       #unitless\n",
    "        CTB.append(1765.8 * (nu**(-2)) * S[i]*(angular_diam**(-2)))    #mJy / (Ghz^2)\n",
    "        CTBE.append(1765.8 * (nu**(-2)) * E[i]*(angular_diam**(-2)))\n",
    "    \n",
    "    return(CTB, CTBE)\n",
    "\n",
    "\n",
    "\n",
    "def Con_TBhigh(S,T,E,nu): #flux denisty, time, error of flux density, frequency in order those are the plug ins\n",
    "    R = []\n",
    "    CTB = []\n",
    "    CTBE = []\n",
    "\n",
    "    S = np.array(S)\n",
    "    T = np.array(T)\n",
    "    E = np.array(E)\n",
    "    \n",
    "    for i in range(len(S)):\n",
    "        R.append(Vlow4 * T[i])  #velocity over time                  #R in cm\n",
    "        angular_diam = 206265 * ((2*R[i])/ Disthigh4)                       #unitless\n",
    "        CTB.append(1765.8 * (nu**(-2)) * S[i]*(angular_diam**(-2)))    #mJy / (Ghz^2)\n",
    "        CTBE.append(1765.8 * (nu**(-2)) * E[i]*(angular_diam**(-2)))\n",
    "    \n",
    "    return(CTB, CTBE)"
   ]
  },
  {
   "cell_type": "code",
   "execution_count": 31,
   "id": "a094339a-17cd-4c7c-acfb-3b83cd17c3fb",
   "metadata": {},
   "outputs": [
    {
     "name": "stdout",
     "output_type": "stream",
     "text": [
      "[457878011.882456, 111114484.51234087, 63872964.91961055, 23275473.38620408, 2947036.8571066237, 2406937.128739847, 287410.60870666313, 134086.7922479399]\n"
     ]
    }
   ],
   "source": [
    "CTB_nuhigh4, CTBError_nuhigh4 = Con_TBhigh(flux1_26_4, date_CAC_sec_n1_26_4, flux_err1_26_4, nu1_26_4)\n",
    "print(CTB_nuhigh4)"
   ]
  },
  {
   "cell_type": "code",
   "execution_count": 32,
   "id": "1823e25b-de4e-4cea-900c-4069807ea317",
   "metadata": {},
   "outputs": [
    {
     "name": "stdout",
     "output_type": "stream",
     "text": [
      "[187546833.66705394, 45512492.85625482, 26162366.431072477, 9533633.898989188, 1207106.2966708723, 985881.4479318409, 117723.38532624919, 54921.95010475616]\n"
     ]
    }
   ],
   "source": [
    "CTB_nulow4, CTBError_nulow4 = Con_TBlow(flux1_26_4, date_CAC_sec_n1_26_4, flux_err1_26_4, nu1_26_4)\n",
    "print(CTB_nulow4)"
   ]
  },
  {
   "cell_type": "markdown",
   "id": "2d2e3732-533a-4803-a7de-c0e010a2fdb9",
   "metadata": {},
   "source": [
    "## Now V407 Cyg, denoted with an ending of 5"
   ]
  },
  {
   "cell_type": "code",
   "execution_count": 33,
   "id": "b7b9deb4-0fe0-4399-82a8-d42205945e86",
   "metadata": {},
   "outputs": [],
   "source": [
    "f1_4_5 = (\n",
    "    [55289.7,    3.0,  1.4,  2.980,  0.500,  0.000,  0.050], #'AS1039',\t'D']\n",
    "    [55298.7,    5.0,  1.4,  4.040,  0.300,  0.000,  0.050], #'AS1039',\t'D']\n",
    "    [55301.7,    6.0,  1.4,  3.597,  0.330,  0.000,  0.050], #'AS1039',\t'D']\n",
    "    [55304.7 ,   7.0 , 1.4,  4.780,  0.300,  0.000,  0.050], #'AS1039',\t'D]\n",
    "    [55308.7  ,  8.0  ,1.4,  5.482,  0.300,  0.000,  0.050], #'AS1039',\t'D']\n",
    "    [55311.7  ,  9.0 , 1.4,  5.780,  0.320,  0.000,  0.050], #'AS1039',\t'D']\n",
    "    [55315.6,   10.0  ,1.4,  5.944, 0.260,  0.000,  0.050], #'AS1039',\t'D']\n",
    "    [55318.6,   11.0  ,1.4,  5.760, 0.280,  0.000,  0.050], #'AS1039',\t'D']\n",
    "    [55323.6,   12.0  ,1.4,  6.441,  0.300,  0.000,  0.050], #'AS1039',\t'D']\n",
    "    [55330.5 ,  13.0  ,1.4,  5.355,  0.280,  0.000,  0.050], #'AS1039',\t'D']\n",
    "    [55332.6 ,  14.0  ,1.4,  5.803,  0.280,  0.000,  0.050], #'AS1039',\t'D']\t\n",
    "    [55341.6 ,  15.0  ,1.4,  5.853,  0.300,  0.000,  0.050], #'AS1039',\t'D']\n",
    "    [55345.6 ,  16.0  ,1.4,  5.828,  0.290,  0.000,  0.050], #'AS1039',\t'D']\n",
    "    [55362.5 ,  17.0,\t1.4,  5.606,  0.260,  0.000,  0.050], #'AS1039',\t'D']\n",
    "    [55367.6,\t  18.0,\t1.4,  5.763,  0.330,  0.000,  0.050], #'AS1039',\t'D']\n",
    "    [55368.5,\t  19.0,\t1.4,  5.905,  0.290,  0.000,  0.050], #'AS1039',\t'D']\n",
    "    [55404.4 ,  20.0,  1.4,  6.917,  0.280,  0.000,  0.050], #'10B-233', 'D']\n",
    "    [55419.4,\t  21.0,\t1.4,  7.924,  0.330,  0.000,  0.050],\t#'10B-233', 'D']\n",
    "    [55434.3,\t  22.0,\t1.4,  5.489,  0.260,  0.000,  0.050], #'10B-233', 'D']\n",
    "    [55449.2,\t  23.0, \t1.4,  5.608,  0.240,  0.000,  0.050], #'10B-233', 'D']\n",
    "    [55469.2,\t  24.0,\t1.4,  5.582,  0.145,  0.000,  0.050],#'10B-233', 'DnC']\n",
    "\n",
    "#and the 1.3 frequency as well\n",
    "    [55625.4 ,  25.0 , 1.3,  4.220,  0.163,  0.000,  0.050], #'11A-254', 'B']\n",
    "    [55735.4 ,  26.0,  1.3,  3.596,  0.081,  0.000,  0.050], #'11A-254', 'A']\n",
    "    [55869.1 ,  27.0,  1.3,  3.642,  0.534,  0.000,  0.050], #'11B-170', 'D']\n",
    "    [55934.8 ,  28.0,  1.3,  4.688,  1.020,  0.000,  0.050], #'11B-170', 'DnC *held width constant']\n",
    "    [56035.4 ,  29.0,  1.3,  2.940,  0.301,  0.000,  0.050], #'11B-170', 'C']\n",
    "# the 1.5 frequency \n",
    "    [55284.8,    2.0,  1.5, -0.124,  0.720,  0.000,  0.050]) #'AL733',   'D *non detection']\n",
    "\n",
    "\n",
    "df_1_4_5 = pd.DataFrame(f1_4_5, columns = [\"MJD\",\"Epoch\",\"Freq\",\"Flux\",\"Error1 (gaussfit)\",\"Error2 (image)\",\"Error3 (calibration) (%)\",])"
   ]
  },
  {
   "cell_type": "code",
   "execution_count": 34,
   "id": "f94ad9e0-8825-4c20-a89b-b79e92395e1c",
   "metadata": {},
   "outputs": [],
   "source": [
    "mask5 = df_1_4_5['Flux'] > 3 * np.sqrt(df_1_4_5[\"Error1 (gaussfit)\"]**2 + (df_1_4_5[\"Flux\"]*0.05)**2) #don't show the non-detections\n",
    "if mask5.any():\n",
    "        days1_4_5 = (df_1_4_5['MJD'][mask5] - 55265.8)\n",
    "        flux1_4_5 = df_1_4_5[\"Flux\"][mask5]\n",
    "        flux_err1_4_5 = np.sqrt(df_1_4_5[\"Error1 (gaussfit)\"][mask5]**2 + (df_1_4_5[\"Flux\"][mask5]*0.05)**2)\n"
   ]
  },
  {
   "cell_type": "code",
   "execution_count": 35,
   "id": "d0307ae8-0b01-443c-bd22-9d4508de4e4a",
   "metadata": {},
   "outputs": [],
   "source": [
    "nu1_4_5 = 1.4\n",
    "date_CAC_sec_n1_4_5 = days1_4_5 * 86400    #time in seconds  (date_CAC is going to be a list of times (from t0))\n",
    "\n",
    "Vlow5 =  2760* 100000\n",
    "Vhigh5 =  3200* 100000\n",
    "Distlow5 = 3.3 *  3.086*10**21    \n",
    "Disthigh5 =  6.3*  3.086*10**21    "
   ]
  },
  {
   "cell_type": "code",
   "execution_count": 36,
   "id": "272653ad-af4e-4ccd-b1eb-b0bdccad75cf",
   "metadata": {},
   "outputs": [],
   "source": [
    "def Con_TBlow(S,T,E,nu): #flux denisty, time, error of flux density, frequency in order those are the plug ins\n",
    "    R = []\n",
    "    CTB = []\n",
    "    CTBE = []\n",
    "\n",
    "    S = np.array(S)\n",
    "    T = np.array(T)\n",
    "    E = np.array(E)\n",
    "    \n",
    "    for i in range(len(S)):\n",
    "        R.append(Vhigh5 * T[i])  #velocity over time                  #R in cm\n",
    "        angular_diam = 206265 * ((2*R[i])/ Distlow5)                       #unitless\n",
    "        CTB.append(1765.8 * (nu**(-2)) * S[i]*(angular_diam**(-2)))    #mJy / (Ghz^2)\n",
    "        CTBE.append(1765.8 * (nu**(-2)) * E[i]*(angular_diam**(-2)))\n",
    "    \n",
    "    return(CTB, CTBE)\n",
    "\n",
    "\n",
    "\n",
    "def Con_TBhigh(S,T,E,nu): #flux denisty, time, error of flux density, frequency in order those are the plug ins\n",
    "    R = []\n",
    "    CTB = []\n",
    "    CTBE = []\n",
    "\n",
    "    S = np.array(S)\n",
    "    T = np.array(T)\n",
    "    E = np.array(E)\n",
    "    \n",
    "    for i in range(len(S)):\n",
    "        R.append(Vlow5 * T[i])  #velocity over time                  #R in cm\n",
    "        angular_diam = 206265 * ((2*R[i])/ Disthigh5)                       #unitless\n",
    "        CTB.append(1765.8 * (nu**(-2)) * S[i]*(angular_diam**(-2)))    #mJy / (Ghz^2)\n",
    "        CTBE.append(1765.8 * (nu**(-2)) * E[i]*(angular_diam**(-2)))\n",
    "    \n",
    "    return(CTB, CTBE)"
   ]
  },
  {
   "cell_type": "code",
   "execution_count": 37,
   "id": "92fe4780-e7b1-4354-89ff-c00741a0bbfb",
   "metadata": {},
   "outputs": [
    {
     "name": "stdout",
     "output_type": "stream",
     "text": [
      "[18357862.936310224, 13133825.143391931, 9820943.249711664, 11115534.597772589, 10481564.414899671, 9653929.61567958, 8433770.446514715, 7270366.415113422, 6784210.006643995, 4501451.4934026385, 4576161.114718266, 3584608.8581578135, 3220441.5497017712, 2109608.205806168, 1956837.328744962, 1970065.5449618066, 1267047.7322583096, 1181853.637742003, 680291.5572465964, 586693.1304334084, 474776.91678324033, 114835.12451991, 57380.610869629694, 35210.72372072975, 36858.44663176262, 17467.02223819074]\n"
     ]
    }
   ],
   "source": [
    "CTB_nuhigh5, CTBError_nuhigh5 = Con_TBhigh(flux1_4_5, date_CAC_sec_n1_4_5, flux_err1_4_5, nu1_4_5)\n",
    "print(CTB_nuhigh5)"
   ]
  },
  {
   "cell_type": "code",
   "execution_count": 38,
   "id": "7b5a54de-b675-47ba-929b-a61f36656918",
   "metadata": {},
   "outputs": [
    {
     "name": "stdout",
     "output_type": "stream",
     "text": [
      "[3747029.4919970706, 2680749.405623005, 2004555.9836441139, 2268795.453025593, 2139395.588754188, 1970466.7754146513, 1721419.6827517876, 1483956.9000797041, 1384727.3543216696, 918792.7571467143, 934041.7627295973, 731655.7028119373, 657325.3927132041, 430592.83050206327, 399410.7161212892, 402110.7317202177, 258617.53282564456, 241228.53794077772, 138854.5353564968, 119750.12941936235, 96906.87393615571, 23439.035348835852, 11711.975513884332, 7186.872495663877, 7523.189765473513, 3565.1997016720393]\n"
     ]
    }
   ],
   "source": [
    "CTB_nulow5, CTBError_nulow5 = Con_TBlow(flux1_4_5, date_CAC_sec_n1_4_5, flux_err1_4_5, nu1_4_5)\n",
    "print(CTB_nulow5)"
   ]
  },
  {
   "cell_type": "markdown",
   "id": "c461fe68-b5fc-4a7a-834a-1df5e5e30b0c",
   "metadata": {},
   "source": [
    "## NowV723 Cas, denoted with an ending of 6"
   ]
  },
  {
   "cell_type": "code",
   "execution_count": 39,
   "id": "02904335-3a45-4a7c-aaf4-a9fc1e258fef",
   "metadata": {},
   "outputs": [],
   "source": [
    "\n",
    "f5_6 = (\t \n",
    "[50430, \t5.0,\t2.3,\t0.5],\t\n",
    "\n",
    "[50473, \t5.0,\t2.4,\t0.4],\t\n",
    "\n",
    "[50876, \t5.0,\t7.0,\t0.2],\t\t\n",
    "\n",
    "[51154, \t5.0,\t8.2,\t0.5],\t\n",
    "\n",
    "[51601,\t5.0,\t7.9,\t0.4],\n",
    "\n",
    "[51650,\t5.0,\t13.5,\t0.9],\n",
    "\n",
    "[51938,\t5.0,\t6.3,\t1.1],\n",
    "     \n",
    "[52063,\t5.0,\t4.0,\t0.7],\n",
    "\n",
    "[52208,\t5.0,\t5.4,\t0.3],\n",
    ")\n",
    "\n",
    "df5_6 =  pd.DataFrame(f5_6, columns = [\"MJD\",\t\"Freq (GHz)\",\t\"Flux (mJy)\",\t\"eFlux (mJy)\"])"
   ]
  },
  {
   "cell_type": "code",
   "execution_count": 40,
   "id": "69d27ac0-956b-43b9-9649-6dbde6b8f078",
   "metadata": {},
   "outputs": [],
   "source": [
    "mask6 = df5_6['Flux (mJy)'] > 3 * np.sqrt(df5_6[\"eFlux (mJy)\"]**2 + (df5_6[\"Flux (mJy)\"]*0.05)**2) #don't show the non-detections\n",
    "\n",
    "days5_6 = df5_6['MJD'][mask6]-49953\n",
    "flux5_6 = df5_6[\"Flux (mJy)\"][mask6]\n",
    "flux_err5_6 = np.sqrt(df5_6[\"eFlux (mJy)\"][mask6]**2 + (df5_6[\"Flux (mJy)\"][mask6]*0.05)**2)"
   ]
  },
  {
   "cell_type": "code",
   "execution_count": 41,
   "id": "fd400689-28c3-4930-b3f4-6fcaf943b0e4",
   "metadata": {},
   "outputs": [],
   "source": [
    "nu5_6 = 5\n",
    "date_CAC_sec_n5_6 = days5_6 * 86400    #time in seconds  (date_CAC is going to be a list of times (from t0))\n",
    "\n",
    "Vlow6 = 600 * 100000\n",
    "Vhigh6 =  1750 * 100000\n",
    "Distlow6 =  2.4 *  3.086*10**21    \n",
    "Disthigh6 =  3.1 *  3.086*10**21    "
   ]
  },
  {
   "cell_type": "code",
   "execution_count": 42,
   "id": "783c6cce-9f8e-4a86-b022-49bdf37003d0",
   "metadata": {},
   "outputs": [],
   "source": [
    "def Con_TBlow(S,T,E,nu): #flux denisty, time, error of flux density, frequency in order those are the plug ins\n",
    "    R = []\n",
    "    CTB = []\n",
    "    CTBE = []\n",
    "\n",
    "    S = np.array(S)\n",
    "    T = np.array(T)\n",
    "    E = np.array(E)\n",
    "    \n",
    "    for i in range(len(S)):\n",
    "        R.append(Vhigh6 * T[i])  #velocity over time                  #R in cm\n",
    "        angular_diam = 206265 * ((2*R[i])/ Distlow6)                       #unitless\n",
    "        CTB.append(1765.8 * (nu**(-2)) * S[i]*(angular_diam**(-2)))    #mJy / (Ghz^2)\n",
    "        CTBE.append(1765.8 * (nu**(-2)) * E[i]*(angular_diam**(-2)))\n",
    "    \n",
    "    return(CTB, CTBE)\n",
    "\n",
    "\n",
    "\n",
    "def Con_TBhigh(S,T,E,nu): #flux denisty, time, error of flux density, frequency in order those are the plug ins\n",
    "    R = []\n",
    "    CTB = []\n",
    "    CTBE = []\n",
    "\n",
    "    S = np.array(S)\n",
    "    T = np.array(T)\n",
    "    E = np.array(E)\n",
    "    \n",
    "    for i in range(len(S)):\n",
    "        R.append(Vlow6 * T[i])  #velocity over time                  #R in cm\n",
    "        angular_diam = 206265 * ((2*R[i])/ Disthigh6)                       #unitless\n",
    "        CTB.append(1765.8 * (nu**(-2)) * S[i]*(angular_diam**(-2)))    #mJy / (Ghz^2)\n",
    "        CTBE.append(1765.8 * (nu**(-2)) * E[i]*(angular_diam**(-2)))\n",
    "    \n",
    "    return(CTB, CTBE)"
   ]
  },
  {
   "cell_type": "code",
   "execution_count": 43,
   "id": "effa8d7c-77c2-4e53-b519-2a72f7034177",
   "metadata": {},
   "outputs": [
    {
     "name": "stdout",
     "output_type": "stream",
     "text": [
      "[14287.845769419862, 12545.2762801788, 11613.692251702912, 8035.326222999835, 4111.386941921048, 6625.91346236919, 2259.931121616383, 1269.903605849055, 1500.9849683847733]\n"
     ]
    }
   ],
   "source": [
    "CTB_nuhigh6, CTBError_nuhigh6 = Con_TBhigh(flux5_6, date_CAC_sec_n5_6, flux_err5_6, nu5_6)\n",
    "print(CTB_nuhigh6)"
   ]
  },
  {
   "cell_type": "code",
   "execution_count": 44,
   "id": "e94d4315-78cd-475f-9f9b-c7ef07169d25",
   "metadata": {},
   "outputs": [
    {
     "name": "stdout",
     "output_type": "stream",
     "text": [
      "[1006.6818828165913, 883.9052821534971, 818.2684619552309, 566.1467419061763, 289.6768914274667, 466.843437934762, 159.2284626569681, 89.4738768574776, 105.75522709567556]\n"
     ]
    }
   ],
   "source": [
    "CTB_nulow6, CTBError_nulow6 = Con_TBlow(flux5_6, date_CAC_sec_n5_6, flux_err5_6, nu5_6)\n",
    "print(CTB_nulow6)"
   ]
  },
  {
   "cell_type": "markdown",
   "id": "b39c1c9c-947e-4acd-9efb-13392de8c145",
   "metadata": {},
   "source": [
    "# Now U Sco, denoted with an ending of 7"
   ]
  },
  {
   "cell_type": "code",
   "execution_count": 46,
   "id": "75e35a31-a57c-4bef-86b7-55ebe02f048d",
   "metadata": {},
   "outputs": [],
   "source": [
    "f7_7 = (\n",
    "[59755.22,\t7.0,\t0.061,\t0.019],\n",
    "    [59769.25,\t7.0,\t0.115,\t0.029],\n",
    "    [59776.14,\t7.0,\t0.057,\t0.026],\n",
    "    [59796.03,\t7.0,\t0.030,\t0.020],\n",
    "    [59815.03,\t7.0,\t0.020,\t0.023],\n",
    ")\n",
    "\n",
    "df7_7 = pd.DataFrame(f7_7, columns = [\"MJD\",\t\"Frequency(GHz)\",\t\"Fluxdensity(mJy)\",\t\"error(mJy)\"])"
   ]
  },
  {
   "cell_type": "code",
   "execution_count": 47,
   "id": "6487b67d-56c6-45ff-8a38-932cd37b4ed9",
   "metadata": {},
   "outputs": [],
   "source": [
    "mask7 = df7_7['Fluxdensity(mJy)'] > 3 * np.sqrt(df7_7[\"error(mJy)\"]**2 + (df7_7[\"Fluxdensity(mJy)\"]*0.05)**2) #don't show the non-detections\n",
    "days7_7 = df7_7['MJD'][mask7] - 59736.72\n",
    "flux7_7 = df7_7[\"Fluxdensity(mJy)\"][mask7]\n",
    "flux_err7_7 = np.sqrt(df7_7[\"error(mJy)\"][mask7]**2 + (df7_7[\"Fluxdensity(mJy)\"][mask7]*0.05)**2)\n"
   ]
  },
  {
   "cell_type": "code",
   "execution_count": 48,
   "id": "1c05c720-9483-4bc1-9458-8e289409cc09",
   "metadata": {},
   "outputs": [],
   "source": [
    "Vlow7 =  4800* 100000\n",
    "Vhigh7 =  5200* 100000\n",
    "Distlow7 = 2.54 *  3.086*10**21    \n",
    "Disthigh7 =   9.73*  3.086*10**21    \n"
   ]
  },
  {
   "cell_type": "code",
   "execution_count": 49,
   "id": "40b79a28-bcc1-4e35-9faf-25747db324aa",
   "metadata": {},
   "outputs": [],
   "source": [
    "def Con_TBlow(S,T,E,nu): #flux denisty, time, error of flux density, frequency in order those are the plug ins\n",
    "    R = []\n",
    "    CTB = []\n",
    "    CTBE = []\n",
    "\n",
    "    S = np.array(S)\n",
    "    T = np.array(T)\n",
    "    E = np.array(E)\n",
    "    \n",
    "    for i in range(len(S)):\n",
    "        R.append(Vhigh7 * T[i])  #velocity over time                  #R in cm\n",
    "        angular_diam = 206265 * ((2*R[i])/ Distlow7)                       #unitless\n",
    "        CTB.append(1765.8 * (nu**(-2)) * S[i]*(angular_diam**(-2)))    #mJy / (Ghz^2)\n",
    "        CTBE.append(1765.8 * (nu**(-2)) * E[i]*(angular_diam**(-2)))\n",
    "    \n",
    "    return(CTB, CTBE)\n",
    "\n",
    "\n",
    "\n",
    "def Con_TBhigh(S,T,E,nu): #flux denisty, time, error of flux density, frequency in order those are the plug ins\n",
    "    R = []\n",
    "    CTB = []\n",
    "    CTBE = []\n",
    "\n",
    "    S = np.array(S)\n",
    "    T = np.array(T)\n",
    "    E = np.array(E)\n",
    "    \n",
    "    for i in range(len(S)):\n",
    "        R.append(Vlow7 * T[i])  #velocity over time                  #R in cm\n",
    "        angular_diam = 206265 * ((2*R[i])/ Disthigh7)                       #unitless\n",
    "        CTB.append(1765.8 * (nu**(-2)) * S[i]*(angular_diam**(-2)))    #mJy / (Ghz^2)\n",
    "        CTBE.append(1765.8 * (nu**(-2)) * E[i]*(angular_diam**(-2)))\n",
    "    \n",
    "    return(CTB, CTBE)\n",
    "        "
   ]
  },
  {
   "cell_type": "code",
   "execution_count": 50,
   "id": "82c533d8-a74f-4382-8d6c-99f96722cc24",
   "metadata": {},
   "outputs": [],
   "source": [
    "nu7_7 = 7\n",
    "date_CAC_sec_n7_7 = days7_7 * 86400    #time in seconds  (date_CAC is going to be a list of times (from t0))"
   ]
  },
  {
   "cell_type": "code",
   "execution_count": 51,
   "id": "e9015b57-d4c6-45ba-901a-7575df717e08",
   "metadata": {},
   "outputs": [
    {
     "name": "stdout",
     "output_type": "stream",
     "text": [
      "[19784.646791454492, 12063.453012068818]\n"
     ]
    }
   ],
   "source": [
    "CTB_nuhigh7, CTBError_nuhigh7 = Con_TBhigh(flux7_7, date_CAC_sec_n7_7, flux_err7_7, nu7_7)\n",
    "print(CTB_nuhigh7)"
   ]
  },
  {
   "cell_type": "code",
   "execution_count": 52,
   "id": "bdc7c89a-376d-4880-bf21-64a0414f1ca4",
   "metadata": {},
   "outputs": [
    {
     "name": "stdout",
     "output_type": "stream",
     "text": [
      "[1148.8037420431924, 700.469414910796]\n"
     ]
    }
   ],
   "source": [
    "CTB_nulow7, CTBError_nulow7 = Con_TBlow(flux7_7, date_CAC_sec_n7_7, flux_err7_7, nu7_7)\n",
    "print(CTB_nulow7)"
   ]
  },
  {
   "cell_type": "markdown",
   "id": "b6e981a9-8296-40c1-8008-7fca2ee24df9",
   "metadata": {},
   "source": [
    "## Now to plot them all together"
   ]
  },
  {
   "cell_type": "code",
   "execution_count": 53,
   "id": "56b1873d-e15d-425a-8bf2-b69442d34f86",
   "metadata": {
    "scrolled": true
   },
   "outputs": [
    {
     "data": {
      "image/png": "[encoded data removed]",
      "text/plain": [
       "<Figure size 1500x1000 with 1 Axes>"
      ]
     },
     "metadata": {},
     "output_type": "display_data"
    }
   ],
   "source": [
    "fig, ax = plt.subplots()\n",
    "fig.set_size_inches(15,10)\n",
    "\n",
    "ax.axhline(y=5*10**4, color='black', linestyle='--', linewidth=1.5)\n",
    "\n",
    "#using a function to plot the detections only\n",
    "# Store which labels have already been used\n",
    "used_labels = set()\n",
    "\n",
    "def plot(days, CTBs, CTBerrors, fluxes, errors, color, label_name):\n",
    "    for day, CTB, CTBerr, flux, err in zip(days, CTBs, CTBerrors, fluxes, errors):\n",
    "        if flux < 3 * err:\n",
    "            fmt = 'x'  # square for non-detection\n",
    "            label = None  # no label for non-detections\n",
    "            ax.errorbar(day, CTB, fmt=fmt, color=color, label=label)\n",
    "            \n",
    "        else:\n",
    "            fmt = '^'  # triangle for detection\n",
    "            label = label_name if label_name not in used_labels else None\n",
    "        \n",
    "            ax.errorbar(day, CTB, yerr=CTBerr, fmt=fmt, color=color, label=label)\n",
    "        \n",
    "        if label:\n",
    "            used_labels.add(label)\n",
    "\n",
    "## V392 Per ploting\n",
    "#plot(days1_26_0, CTB_nuhigh0, CTBError_nuhigh0, flux1_26_0, flux_err1_26_0,'green', 'V392 Per')\n",
    "ax.plot(days1_26_0[0:27], CTB_nuhigh0[0:27], color='green', linestyle = '-', alpha=.50)\n",
    "\n",
    "#plot(days1_26_0, CTB_nulow0, CTBError_nulow0, flux1_26_0, flux_err1_26_0,'green', 'V392 Per')\n",
    "ax.plot(days1_26_0[0:27], CTB_nulow0[0:27], color='green', linestyle = '-', alpha=.50)\n",
    "\n",
    "ax.fill_between(days1_26_0, CTB_nulow0, CTB_nuhigh0, alpha=.25, color='green', label=\"V392 Per\")\n",
    "\n",
    "## V5589 Sgr plotting\n",
    "#plot(days1_35_1, CTB_nuhigh1, CTBError_nuhigh1, flux1_35_1, flux_err1_35_1,'blue', 'V5589 Sgr')\n",
    "ax.plot(days1_35_1[0:27], CTB_nuhigh1[0:27], color='mediumblue', linestyle = '-', alpha=.50)\n",
    "\n",
    "#plot(days1_35_1, CTB_nulow1, CTBError_nulow1, flux1_35_1, flux_err1_35_1,'blue', 'V5589 Sgr')\n",
    "ax.plot(days1_35_1[0:27], CTB_nulow1[0:27], color='mediumblue', linestyle = '-', alpha=.50)\n",
    "\n",
    "ax.fill_between(days1_35_1, CTB_nulow1, CTB_nuhigh1, alpha=.25, color='mediumblue', label=\"V5589 Sgr\")\n",
    "\n",
    "## V1535 Sco Plotting\n",
    "\n",
    "#plot(days1_26_2, CTB_nuhigh2, CTBError_nuhigh2, flux1_26_2, flux_err1_26_2,'gold', 'V1535 Sco')\n",
    "ax.plot(days1_26_2[0:27], CTB_nuhigh2[0:27], color='aqua', linestyle = '-', alpha=.50)\n",
    "\n",
    "#plot(days1_26_2, CTB_nulow2, CTBError_nulow2, flux1_26_2, flux_err1_26_2,'gold', 'V1535 Sco')\n",
    "ax.plot(days1_26_2[0:27], CTB_nulow2[0:27], color='aqua', linestyle = '-', alpha=.50)\n",
    "\n",
    "ax.fill_between(days1_26_2, CTB_nulow2, CTB_nuhigh2, alpha=.25, color='aqua', label=\"V1535 Sco\")\n",
    "\n",
    "## RS Oph Plotting\n",
    "\n",
    "#plot(days2_6_3, CTB_nuhigh3, CTBError_nuhigh3, flux2_6_3, flux_err2_6_3,'orange', 'RS Oph')\n",
    "ax.plot(days2_6_3[0:27], CTB_nuhigh3[0:27], color='orange', linestyle = '-', alpha=.60)\n",
    "\n",
    "#plot(days2_6_3, CTB_nulow3, CTBError_nulow3, flux2_6_3, flux_err2_6_3,'orange', 'RS Oph')\n",
    "ax.plot(days2_6_3[0:27], CTB_nulow3[0:27], color='orange', linestyle = '-', alpha=.60)\n",
    "\n",
    "ax.fill_between(days2_6_3, CTB_nulow3, CTB_nuhigh3, alpha=.3, color='orange', label = \"RS Oph\")\n",
    "\n",
    "## V1534 Sco Plotting\n",
    "\n",
    "#plot(days1_26_4, CTB_nuhigh4, CTBError_nuhigh4, flux1_26_4, flux_err1_26_4,'red', 'V1534 Sco')\n",
    "ax.plot(days1_26_4[0:27], CTB_nuhigh4[0:27], color='red', linestyle = '-', alpha=.50)\n",
    "\n",
    "#plot(days1_26_4, CTB_nulow4, CTBError_nulow4, flux1_26_4, flux_err1_26_4,'red', 'V1534 Sco')\n",
    "ax.plot(days1_26_4[0:27], CTB_nulow4[0:27], color='red', linestyle = '-', alpha=.50)\n",
    "\n",
    "ax.fill_between(days1_26_4, CTB_nulow4, CTB_nuhigh4, alpha=.25, color='red', label=\"V1534 Sco\")\n",
    "\n",
    "## V407 Cyg Plotting\n",
    "\n",
    "#plot(days1_4_5, CTB_nuhigh5, CTBError_nuhigh5, flux1_4_5, flux_err1_4_5,'purple', 'V407 Cyg')\n",
    "ax.plot(days1_4_5[0:27], CTB_nuhigh5[0:27], color='purple', linestyle = '-', alpha=.50)\n",
    "\n",
    "#plot(days1_4_5, CTB_nulow5, CTBError_nulow5, flux1_4_5, flux_err1_4_5,'purple', 'V407 Cyg')\n",
    "ax.plot(days1_4_5[0:27], CTB_nulow5[0:27], color='purple', linestyle = '-', alpha=.50)\n",
    "\n",
    "ax.fill_between(days1_4_5, CTB_nulow5, CTB_nuhigh5, alpha=.25, color='purple', label=\"V407 Cyg\")\n",
    "\n",
    "## V723 Cas plotting\n",
    "\n",
    "#plot(days5_6, CTB_nuhigh6, CTBError_nuhigh6, flux5_6, flux_err5_6,'pink', 'V723 Cas')\n",
    "ax.plot(days5_6[0:27], CTB_nuhigh6[0:27], color='deeppink', linestyle = '-', alpha=.50)\n",
    "\n",
    "#plot(days5_6, CTB_nulow6, CTBError_nulow6, flux5_6, flux_err5_6,'pink', 'V723 Cas')\n",
    "ax.plot(days5_6[0:27], CTB_nulow6[0:27], color='deeppink', linestyle = '-', alpha=.50)\n",
    "\n",
    "ax.fill_between(days5_6, CTB_nulow6, CTB_nuhigh6, alpha=.25, color='deeppink', label=\"V723 Cas\")\n",
    "\n",
    "\n",
    "#plot(days5_6, CTB_nuhigh6, CTBError_nuhigh6, flux5_6, flux_err5_6,'pink', 'V723 Cas')\n",
    "ax.plot(days7_7[0:27], CTB_nuhigh7[0:27], color='yellow', linestyle = '-', alpha=.50)\n",
    "\n",
    "#plot(days5_6, CTB_nulow6, CTBError_nulow6, flux5_6, flux_err5_6,'pink', 'V723 Cas')\n",
    "ax.plot(days7_7[0:27], CTB_nulow7[0:27], color='yellow', linestyle = '-', alpha=.50)\n",
    "\n",
    "ax.fill_between(days7_7, CTB_nulow7, CTB_nuhigh7, alpha=.25, color='yellow', label=\"U Sco\")\n",
    "\n",
    "\n",
    "ax.set_xscale('log')\n",
    "ax.set_xticks([10,20,50,100,500,1000], labels = ['10','20','50','100','500', '1000'])\n",
    "ax.set_yscale('log')\n",
    "ax.set_xlabel(\"Time since eruption (days)\", fontsize=20)\n",
    "ax.set_ylabel(\"Brightness Temperature (K)\", fontsize=20)\n",
    "\n",
    "\n",
    "ax.tick_params(axis='both', which='both', direction='in', top=True, right=True)\n",
    "\n",
    "#ax.set_title(\"Brightness Temperature\", fontsize=20)\n",
    "plt.legend(title='')\n",
    "plt.show();"
   ]
  },
  {
   "cell_type": "code",
   "execution_count": null,
   "id": "9f6c04d2-81a7-446c-8945-63673d00d1ef",
   "metadata": {},
   "outputs": [],
   "source": []
  },
  {
   "cell_type": "code",
   "execution_count": null,
   "id": "f1967ab0-3f37-4559-8372-5fbff552fa5c",
   "metadata": {},
   "outputs": [],
   "source": []
  },
  {
   "cell_type": "code",
   "execution_count": null,
   "id": "eecd5b76-fc13-4691-ac1b-1428bf5b7a98",
   "metadata": {},
   "outputs": [],
   "source": []
  }
 ],
 "metadata": {
  "kernelspec": {
   "display_name": "Python [conda env:base] *",
   "language": "python",
   "name": "conda-base-py"
  },
  "language_info": {
   "codemirror_mode": {
    "name": "ipython",
    "version": 3
   },
   "file_extension": ".py",
   "mimetype": "text/x-python",
   "name": "python",
   "nbconvert_exporter": "python",
   "pygments_lexer": "ipython3",
   "version": "3.12.7"
  }
 },
 "nbformat": 4,
 "nbformat_minor": 5
}
