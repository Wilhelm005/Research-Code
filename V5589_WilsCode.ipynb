{
 "cells": [
  {
   "cell_type": "markdown",
   "id": "76da132b-9ab3-48a9-9b4b-d3a41a0087e0",
   "metadata": {},
   "source": [
    "## V5589 Sgr Spectral Index"
   ]
  },
  {
   "cell_type": "code",
   "execution_count": 2,
   "id": "9c6eea01-76bf-4216-bfa4-cca0a37e9875",
   "metadata": {},
   "outputs": [],
   "source": [
    "#imports\n",
    "import math\n",
    "import pandas as pd\n",
    "import numpy as np\n",
    "import matplotlib.pyplot as plt\n",
    "%matplotlib inline\n",
    "\n",
    "from sympy import diff as dif\n",
    "\n",
    "from astropy.io import ascii\n",
    "import astropy.units as u\n",
    "import astropy.constants as const\n",
    "from astropy.modeling.powerlaws import BrokenPowerLaw1D, SmoothlyBrokenPowerLaw1D, PowerLaw1D\n",
    "from astropy.modeling import fitting, models"
   ]
  },
  {
   "cell_type": "markdown",
   "id": "d0af1cf7-9a70-41a5-a763-f0638c89a226",
   "metadata": {},
   "source": [
    "### Importing the data and putting it in a large dataframe"
   ]
  },
  {
   "cell_type": "code",
   "execution_count": 3,
   "id": "a88e73e8-1c57-401b-a028-828f7ad8aa40",
   "metadata": {},
   "outputs": [],
   "source": [
    "data = ([56040.4,\t1,\t33,\t0.032,\t0.025,\t1.00E-10,\t0.05],\n",
    "    [56069.0,\t'A',\t225.3,\t13.80,\t2.000,\t1.00E-10,\t0.05],\n",
    "    [56084.4,\t2,\t5,\t1.089,\t0.028,\t1.00E-10,\t0.05],\n",
    "    [56084.4,\t2,\t6.8,\t1.381,\t0.025,\t1.00E-10,\t0.05],\n",
    "    [56092.2,\t3,\t13.3,\t3.523,\t0.042,\t1.00E-10,\t0.05],\n",
    "    [56092.2,\t3,\t16,\t3.98,\t0.049,\t1.00E-10,\t0.05],\n",
    "    [56092.2,\t3,\t28.2,\t5.727,\t0.098,\t1.00E-10,\t0.05],\n",
    "    [56092.2,\t3,\t36.5,\t5.961,\t0.139,\t1.00E-10,\t0.05],\n",
    "    [56100.3,\t4,\t2.5,\t3.094,\t0.037,\t1.00E-10,\t0.05],\n",
    "    [56100.3,\t4,\t3.5,\t3.201,\t0.030,\t1.00E-10,\t0.05],\n",
    "    [56100.3,\t4,\t5,\t3.423,\t0.023,\t1.00E-10,\t0.05],\n",
    "    [56100.3,\t4,\t6.8,\t3.629,\t0.025,\t1.00E-10,\t0.05],\n",
    "    [56100.3,\t4,\t8.5,\t3.683,\t0.052,\t1.00E-10,\t0.05],\n",
    "    [56100.3,\t4,\t11.4,\t3.779,\t0.071,\t1.00E-10,\t0.05],\n",
    "    [56117.9,\t'B',\t225.5,\t0.000,\t0.068,\t1.00E-10,\t0.05],\n",
    "    [56119.1,\t5,\t1.35,\t1.68,\t0.120,\t1.00E-10,\t0.05],\n",
    "    [56119.1,\t5,\t1.84,\t1.391,\t0.066,\t1.00E-10,\t0.05],\n",
    "    [56119.1,\t5,\t4.74,\t1.907,\t0.027,\t1.00E-10,\t0.05],\n",
    "    [56119.1,\t5,\t7.59,\t1.921,\t0.023,\t1.00E-10,\t0.05],\n",
    "    [56128.3,\t6,\t17.5,\t1.374,\t0.091,\t1.00E-10,\t0.05],\n",
    "    [56128.3,\t6,\t27.5,\t1.438,\t0.143,\t1.00E-10,\t0.05],\n",
    "    [56128.3,\t6,\t36.5,\t1.136,\t0.194,\t1.00E-10,\t0.05],\n",
    "    [56148.0,\t7,\t1.2555,\t0.340,\t0.071,\t1.00E-10,\t0.05],\n",
    "    [56148.0,\t7,\t1.7715,\t0.560,\t0.072,\t1.00E-10,\t0.05],\n",
    "    [56148.0,\t7,\t4.74,\t0.521,\t0.033,\t1.00E-10,\t0.05],\n",
    "    [56148.0,\t7,\t7.59,\t0.528,\t0.025,\t1.00E-10,\t0.05],\n",
    "    [56148.0,\t7,\t8.53,\t0.556,\t0.031,\t1.00E-10,\t0.05],\n",
    "    [56148.0,\t7,\t11.38,\t0.571,\t0.060,\t1.00E-10,\t0.05],\n",
    "    [56150.2,\t8,\t13.3,\t0.495,\t0.042,\t1.00E-10,\t0.05],\n",
    "    [56150.2,\t8,\t17.45,\t0.38,\t0.049,\t1.00E-10,\t0.05],\n",
    "    [56150.2,\t8,\t27.5,\t0.469,\t0.078,\t1.00E-10,\t0.05],\n",
    "    [56150.2,\t8,\t36.5,\t0.39,\t0.086,\t1.00E-10,\t0.05],\n",
    "    [56151.3,\t8,\t1.25,\t0,\t0.091,\t1.00E-10,\t0.05],\n",
    "    [56151.3,\t8,\t1.80,\t0.497,\t0.088,\t1.00E-10,\t0.05],\n",
    "    [56151.3,\t8,\t4.549,\t0.502,\t0.034,\t1.00E-10,\t0.05],\n",
    "    [56151.3,\t8,\t7.399,\t0.469,\t0.025,\t1.00E-10,\t0.05],\n",
    "    [56151.3,\t8,\t8.51,\t0.443,\t0.021,\t1.00E-10,\t0.05],\n",
    "    [56151.3,\t8,\t11.34,\t0.418,\t0.035,\t1.00E-10,\t0.05],\n",
    "    \n",
    "#S4322\n",
    "    [56167.0,\t9,\t1.36,\t0.244,\t0.049,\t1.00E-10,\t0.05],\n",
    "    [56167.0,\t9,\t1.78,\t0.431,\t0.048,\t1.00E-10,\t0.05],\n",
    "\n",
    "#12A-479\n",
    "#56167.0\t9\t1.3835\t0\t0.075\t1.00E-10\t0.05\n",
    "#56167.0\t9\t1.8035\t0\t0.029\t1.00E-10\t0.05\n",
    "    [56167.0,\t9,\t4.608,\t0.347,\t0.028,\t1.00E-10,\t0.05],\n",
    "    [56167.0,\t9,\t7.458,\t0.292,\t0.016,\t1.00E-10,\t0.05],\n",
    "    [56167.0,\t9,\t8.5,\t0.289,\t0.018,\t1.00E-10,\t0.05],\n",
    "    [56167.0,\t9,\t11.4,\t0.368,\t0.031,\t1.00E-10,\t0.05],\n",
    "\n",
    "#12A-483\n",
    "#56167.0\t9\t1.2555\t0\t0.086\t1.00E-10\t0.05\n",
    "#56167.0\t9\t1.7395\t0.346\t0.093\t1.00E-10\t0.05\n",
    "#56167.0\t9\t4.5490\t0.282\t0.036\t1.00E-10\t0.05\n",
    "#56167.0\t9\t7.399\t0.286\t0.024\t1.00E-10\t0.05\n",
    "\n",
    "    [56174.2,\t10,\t13.3,\t0.188,\t0.019,\t1.00E-10,\t0.05],\n",
    "    [56174.2,\t10,\t17.45,\t0.110,\t0.029,\t1.00E-10,\t0.05],\n",
    "    [56174.2,\t10,\t27.5,\t0.106,\t0.027,\t1.00E-10,\t0.05],\n",
    "    [56174.2,\t10,\t36.5,\t0.365,\t0.131,\t1.00E-10,\t0.05],\n",
    "    [56177.9,\t11,\t1.33,\t0.225,\t0.044,\t1.00E-10,\t0.05],\n",
    "    [56177.9,\t11,\t1.77,\t0.201,\t0.042,\t1.00E-10,\t0.05],\n",
    "    [56231.0,\t12,\t13.3,\t0.035,\t0.021,\t1.00E-10,\t0.05],\n",
    "    [56231.0,\t12,\t17.4,\t0.043,\t0.027,\t1.00E-10,\t0.05],\n",
    "    [56231.0,\t12,\t27.5,\t0.060,\t0.044,\t1.00E-10,\t0.05],\n",
    "    [56231.0,\t12,\t36.5,\t0.044,\t0.052,\t1.00E-10,\t0.05],\n",
    "    [56270.8,\t13,\t1.2555,\t0,\t0.083,\t1.00E-10,\t0.05],\n",
    "    [56270.8,\t13,\t1.7395,\t0,\t0.084,\t1.00E-10,\t0.05],\n",
    "    [56270.8,\t13,\t4.549,\t0,\t0.021,\t1.00E-10,\t0.05],\n",
    "    [56270.8,\t13,\t7.399,\t0,\t0.016,\t1.00E-10,\t0.05],\n",
    "    [56270.8,\t13,\t8.519,\t0,\t0.025,\t1.00E-10,\t0.05],\n",
    "    [56270.8,\t13,\t11.399,\t0,\t0.030,\t1.00E-10,\t0.05],\n",
    "    [56284.6,\t14,\t13.299,\t0,\t0.029,\t1.00E-10,\t0.05],\n",
    "    [56284.6,\t14,\t17.449,\t0,\t0.035,\t1.00E-10,\t0.05],\n",
    "    [56284.6,\t14,\t13.30,\t0.047,\t0.022,\t1.00E-10,\t0.05],\n",
    "    [56284.6,\t14,\t17.45,\t0.049,\t0.026,\t1.00E-10,\t0.05],\n",
    "    [56284.6,\t14,\t27.50,\t0.036,\t0.050,\t1.00E-10,\t0.05],\n",
    "    [56284.6,\t14,\t36.50,\t0.020,\t0.068,\t1.00E-10,\t0.05],\n",
    "    [56297.7,\t15,\t1.26,\t0.0504,\t0.102,\t1.00E-10,\t0.05],\n",
    "    [56297.7,\t15,\t1.74,\t-0.00249,\t0.068,\t1.00E-10,\t0.05],\n",
    "    [56297.7,\t15,\t4.55,\t0.0328,\t0.033,\t1.00E-10,\t0.05],\n",
    "    [56297.7,\t15,\t7.399,\t0.0288,\t0.023,\t1.00E-10,\t0.05],\n",
    "    [56297.7,\t15,\t8.52,\t0.0286,\t0.018,\t1.00E-10,\t0.05],\n",
    "    [56297.7,\t15,\t11.4,\t0.0413,\t0.023,\t1.00E-10,\t0.05],\n",
    "    [56347.7,\t16,\t1.26,\t0.346,\t0.503,\t1.00E-10,\t0.05],\n",
    "    [56347.7,\t16,\t1.74,\t-0.0272,\t0.368,\t1.00E-10,\t0.05],\n",
    "    [56347.7,\t16,\t4.55,\t-0.232,\t0.114,\t1.00E-10,\t0.05],\n",
    "    [56347.7,\t16,\t7.399,\t-0.00948,\t0.160,\t1.00E-10,\t0.05],\n",
    "    [56347.7,\t16,\t8.52,\t0.465,\t0.201,\t1.00E-10,\t0.05],\n",
    "    [56347.7,\t16,\t11.4,\t-0.0358,\t0.301,\t1.00E-10,\t0.05],\n",
    "    [56358.6,\t17,\t13.22,\t0.025,\t0.027,\t1.00E-10,\t0.05],\n",
    "    [56358.6,\t17,\t17.45,\t0.009,\t0.025,\t1.00E-10,\t0.05],\n",
    "    [56358.6,\t17,\t27.50,\t0.046,\t0.049,\t1.00E-10,\t0.05],\n",
    "    [56358.6,\t17,\t36.50,\t0.120,\t0.062,\t1.00E-10,\t0.05],\n",
    "    [56369.6,\t17,\t13.3,\t-0.0319,\t0.023,\t1.00E-10,\t0.05],\n",
    "    [56369.6,\t17,\t17.4,\t0.0240,\t0.029,\t1.00E-10,\t0.05],\n",
    "    [56369.6,\t17,\t27.5,\t0.113,\t0.065,\t1.00E-10,\t0.05],\n",
    "    [56369.6,\t17,\t36.5,\t0.0109,\t0.083,\t1.00E-10,\t0.05],\n",
    "    [56441.4,\t18,\t1.26,\t0.0811,\t0.396,\t1.00E-10,\t0.05],\n",
    "    [56441.4,\t18,\t1.74,\t-0.202,\t0.326,\t1.00E-10,\t0.05],\n",
    "    [56441.4,\t18,\t4.55,\t0.0437,\t0.033,\t1.00E-10,\t0.05],\n",
    "    [56441.4,\t18,\t7.399,\t-0.0098,\t0.021,\t1.00E-10,\t0.05],\n",
    "    [56441.4,\t18,\t8.52,\t-0.00263,\t0.018,\t1.00E-10,\t0.05],\n",
    "    [56441.4,\t18,\t11.4,\t-0.0266,\t0.019,\t1.00E-10,\t0.05],\n",
    "    [56446.2,\t18,\t13.3,\t-0.0169,\t0.024,\t1.00E-10,\t0.05],\n",
    "    [56446.2,\t18,\t17.4,\t0.0260,\t0.029,\t1.00E-10,\t0.05],\n",
    "    [56446.2,\t18,\t27.5,\t0.112,\t0.077,\t1.00E-10,\t0.05],\n",
    "    [56446.2,\t18,\t36.5,\t-0.0663,\t0.095,\t1.00E-10,\t0.05],\n",
    "    [56526.7,\t19,\t1.26,\t-0.571,\t0.276,\t1.00E-10,\t0.05],\n",
    "    [56526.7,\t19,\t1.74,\t-0.348,\t0.169,\t1.00E-10,\t0.05],\n",
    "    [56526.7,\t19,\t4.55,\t-0.00306,\t0.028,\t1.00E-10,\t0.05],\n",
    "    [56526.7,\t19,\t7.40,\t-0.0045,\t0.019,\t1.00E-10,\t0.05],\n",
    "    [56526.7,\t19,\t8.52,\t0.00449,\t0.022,\t1.00E-10,\t0.05],\n",
    "    [56526.7,\t19,\t11.4,\t-0.0051,\t0.024,\t1.00E-10,\t0.05],\n",
    "    [56530.7,\t19,\t13.3,\t-0.00734,\t0.031,\t1.00E-10,\t0.05],\n",
    "    [56530.7,\t19,\t17.4,\t-0.00912,\t0.053,\t1.00E-10,\t0.05],\n",
    "    [56530.7,\t19,\t27.5,\t0.0271,\t0.011,\t1.00E-10,\t0.05],\n",
    "    [56530.7,\t19,\t36.5,\t0.110,\t0.110,\t1.00E-10,\t0.05],\n",
    "       )\n",
    "\n",
    "df =  pd.DataFrame(data, columns = [\"MJD\",\t\"Epoch\",\t\"Freq\",\t\"Flux\",\t\"error\",\"RM\", \"systematics\"])"
   ]
  },
  {
   "cell_type": "code",
   "execution_count": 4,
   "id": "f334bcc9",
   "metadata": {},
   "outputs": [
    {
     "data": {
      "text/plain": [
       "0      0.025\n",
       "1      2.000\n",
       "2      0.028\n",
       "3      0.025\n",
       "4      0.042\n",
       "       ...  \n",
       "101    0.024\n",
       "102    0.031\n",
       "103    0.053\n",
       "104    0.011\n",
       "105    0.110\n",
       "Name: error, Length: 106, dtype: float64"
      ]
     },
     "execution_count": 4,
     "metadata": {},
     "output_type": "execute_result"
    }
   ],
   "source": [
    "df['error']"
   ]
  },
  {
   "cell_type": "markdown",
   "id": "35371399-a66c-4cd4-8034-b1741c4e66e6",
   "metadata": {},
   "source": [
    "### now to seperate it into dataframe based on days"
   ]
  },
  {
   "cell_type": "code",
   "execution_count": 5,
   "id": "4595cf37-f4ec-4ce3-9d20-e98639c29f0e",
   "metadata": {},
   "outputs": [],
   "source": [
    "E1=(    [56040.4,\t1,\t33,\t0.032,\t0.025,\t1.00E-10,\t0.05],)\n",
    "\n",
    "E2=(    [56069.0,\t'A',\t225.3,\t13.80,\t2.000,\t1.00E-10,\t0.05],)\n",
    "\n",
    "E3=(    [56084.4,\t2,\t5,\t1.089,\t0.028,\t1.00E-10,\t0.05],\n",
    "    [56084.4,\t2,\t6.8,\t1.381,\t0.025,\t1.00E-10,\t0.05],)\n",
    "\n",
    "E4=(    [56092.2,\t3,\t13.3,\t3.523,\t0.042,\t1.00E-10,\t0.05],\n",
    "    [56092.2,\t3,\t16,\t3.98,\t0.049,\t1.00E-10,\t0.05],\n",
    "    [56092.2,\t3,\t28.2,\t5.727,\t0.098,\t1.00E-10,\t0.05],\n",
    "    [56092.2,\t3,\t36.5,\t5.961,\t0.139,\t1.00E-10,\t0.05],)\n",
    "\n",
    "E5=(\n",
    "    [56100.3,\t4,\t2.5,\t3.094,\t0.037,\t1.00E-10,\t0.05],\n",
    "    [56100.3,\t4,\t3.5,\t3.201,\t0.030,\t1.00E-10,\t0.05],\n",
    "    [56100.3,\t4,\t5,\t3.423,\t0.023,\t1.00E-10,\t0.05],\n",
    "    [56100.3,\t4,\t6.8,\t3.629,\t0.025,\t1.00E-10,\t0.05],\n",
    "    [56100.3,\t4,\t8.5,\t3.683,\t0.052,\t1.00E-10,\t0.05],\n",
    "    [56100.3,\t4,\t11.4,\t3.779,\t0.071,\t1.00E-10,\t0.05],)\n",
    "\n",
    "E6 =(\n",
    "    [56117.9,\t'B',\t225.5,\t0.000,\t0.068,\t1.00E-10,\t0.05],)\n",
    "\n",
    "E7 =(\n",
    "    [56119.1,\t5,\t1.35,\t1.68,\t0.120,\t1.00E-10,\t0.05],\n",
    "    [56119.1,\t5,\t1.84,\t1.391,\t0.066,\t1.00E-10,\t0.05],\n",
    "    [56119.1,\t5,\t4.74,\t1.907,\t0.027,\t1.00E-10,\t0.05],\n",
    "    [56119.1,\t5,\t7.59,\t1.921,\t0.023,\t1.00E-10,\t0.05],)\n",
    "\n",
    "E8 =(\n",
    "    [56128.3,\t6,\t17.5,\t1.374,\t0.091,\t1.00E-10,\t0.05],\n",
    "    [56128.3,\t6,\t27.5,\t1.438,\t0.143,\t1.00E-10,\t0.05],\n",
    "    [56128.3,\t6,\t36.5,\t1.136,\t0.194,\t1.00E-10,\t0.05],)\n",
    "\n",
    "E9 = (\n",
    "    [56148.0,\t7,\t1.2555,\t0.340,\t0.071,\t1.00E-10,\t0.05],\n",
    "    [56148.0,\t7,\t1.7715,\t0.560,\t0.072,\t1.00E-10,\t0.05],\n",
    "    [56148.0,\t7,\t4.74,\t0.521,\t0.033,\t1.00E-10,\t0.05],\n",
    "    [56148.0,\t7,\t7.59,\t0.528,\t0.025,\t1.00E-10,\t0.05],\n",
    "    [56148.0,\t7,\t8.53,\t0.556,\t0.031,\t1.00E-10,\t0.05],\n",
    "    [56148.0,\t7,\t11.38,\t0.571,\t0.060,\t1.00E-10,\t0.05],)\n",
    "\n",
    "E10=(\n",
    "    [56150.2,\t8,\t13.3,\t0.495,\t0.042,\t1.00E-10,\t0.05],\n",
    "    [56150.2,\t8,\t17.45,\t0.38,\t0.049,\t1.00E-10,\t0.05],\n",
    "    [56150.2,\t8,\t27.5,\t0.469,\t0.078,\t1.00E-10,\t0.05],\n",
    "    [56150.2,\t8,\t36.5,\t0.39,\t0.086,\t1.00E-10,\t0.05],\n",
    "    [56151.3,\t8,\t1.25,\t0,\t0.091,\t1.00E-10,\t0.05],\n",
    "    [56151.3,\t8,\t1.80,\t0.497,\t0.088,\t1.00E-10,\t0.05],\n",
    "    [56151.3,\t8,\t4.549,\t0.502,\t0.034,\t1.00E-10,\t0.05],\n",
    "    [56151.3,\t8,\t7.399,\t0.469,\t0.025,\t1.00E-10,\t0.05],\n",
    "    [56151.3,\t8,\t8.51,\t0.443,\t0.021,\t1.00E-10,\t0.05],\n",
    "    [56151.3,\t8,\t11.34,\t0.418,\t0.035,\t1.00E-10,\t0.05],)\n",
    "\n",
    "E11 = (\n",
    "#S4322\n",
    "    [56167.0,\t9,\t1.36,\t0.244,\t0.049,\t1.00E-10,\t0.05],\n",
    "    [56167.0,\t9,\t1.78,\t0.431,\t0.048,\t1.00E-10,\t0.05],\n",
    "#12A-479\n",
    "#56167.0\t9\t1.3835\t0\t0.075\t1.00E-10\t0.05\n",
    "#56167.0\t9\t1.8035\t0\t0.029\t1.00E-10\t0.05\n",
    "    [56167.0,\t9,\t4.608,\t0.347,\t0.028,\t1.00E-10,\t0.05],\n",
    "    [56167.0,\t9,\t7.458,\t0.292,\t0.016,\t1.00E-10,\t0.05],\n",
    "    [56167.0,\t9,\t8.5,\t0.289,\t0.018,\t1.00E-10,\t0.05],\n",
    "    [56167.0,\t9,\t11.4,\t0.368,\t0.031,\t1.00E-10,\t0.05],\n",
    "#12A-483\n",
    "#56167.0\t9\t1.2555\t0\t0.086\t1.00E-10\t0.05\n",
    "#56167.0\t9\t1.7395\t0.346\t0.093\t1.00E-10\t0.05\n",
    "#56167.0\t9\t4.5490\t0.282\t0.036\t1.00E-10\t0.05\n",
    "#56167.0\t9\t7.399\t0.286\t0.024\t1.00E-10\t0.05\n",
    ")\n",
    "\n",
    "E12 = (\n",
    "    [56174.2,\t10,\t13.3,\t0.188,\t0.019,\t1.00E-10,\t0.05],\n",
    "    [56174.2,\t10,\t17.45,\t0.110,\t0.029,\t1.00E-10,\t0.05],\n",
    "    [56174.2,\t10,\t27.5,\t0.106,\t0.027,\t1.00E-10,\t0.05],\n",
    "    [56174.2,\t10,\t36.5,\t0.365,\t0.131,\t1.00E-10,\t0.05],)\n",
    "\n",
    "E13= (\n",
    "    [56177.9,\t11,\t1.33,\t0.225,\t0.044,\t1.00E-10,\t0.05],\n",
    "    [56177.9,\t11,\t1.77,\t0.201,\t0.042,\t1.00E-10,\t0.05],)\n",
    "\n",
    "E14 = (\n",
    "    [56231.0,\t12,\t13.3,\t0.035,\t0.021,\t1.00E-10,\t0.05],\n",
    "    [56231.0,\t12,\t17.4,\t0.043,\t0.027,\t1.00E-10,\t0.05],\n",
    "    [56231.0,\t12,\t27.5,\t0.060,\t0.044,\t1.00E-10,\t0.05],\n",
    "    [56231.0,\t12,\t36.5,\t0.044,\t0.052,\t1.00E-10,\t0.05],)\n",
    "\n",
    "E15 = (\n",
    "    [56270.8,\t13,\t1.2555,\t0,\t0.083,\t1.00E-10,\t0.05],\n",
    "    [56270.8,\t13,\t1.7395,\t0,\t0.084,\t1.00E-10,\t0.05],\n",
    "    [56270.8,\t13,\t4.549,\t0,\t0.021,\t1.00E-10,\t0.05],\n",
    "    [56270.8,\t13,\t7.399,\t0,\t0.016,\t1.00E-10,\t0.05],\n",
    "    [56270.8,\t13,\t8.519,\t0,\t0.025,\t1.00E-10,\t0.05],\n",
    "    [56270.8,\t13,\t11.399,\t0,\t0.030,\t1.00E-10,\t0.05],)\n",
    "\n",
    "E16 = (\n",
    "    [56284.6,\t14,\t13.299,\t0,\t0.029,\t1.00E-10,\t0.05],\n",
    "    [56284.6,\t14,\t17.449,\t0,\t0.035,\t1.00E-10,\t0.05],\n",
    "    [56284.6,\t14,\t13.30,\t0.047,\t0.022,\t1.00E-10,\t0.05],\n",
    "    [56284.6,\t14,\t17.45,\t0.049,\t0.026,\t1.00E-10,\t0.05],\n",
    "    [56284.6,\t14,\t27.50,\t0.036,\t0.050,\t1.00E-10,\t0.05],\n",
    "    [56284.6,\t14,\t36.50,\t0.020,\t0.068,\t1.00E-10,\t0.05],)\n",
    "\n",
    "E17 = (\n",
    "    [56297.7,\t15,\t1.26,\t0.0504,\t0.102,\t1.00E-10,\t0.05],\n",
    "    [56297.7,\t15,\t1.74,\t-0.00249,\t0.068,\t1.00E-10,\t0.05],\n",
    "    [56297.7,\t15,\t4.55,\t0.0328,\t0.033,\t1.00E-10,\t0.05],\n",
    "    [56297.7,\t15,\t7.399,\t0.0288,\t0.023,\t1.00E-10,\t0.05],\n",
    "    [56297.7,\t15,\t8.52,\t0.0286,\t0.018,\t1.00E-10,\t0.05],\n",
    "    [56297.7,\t15,\t11.4,\t0.0413,\t0.023,\t1.00E-10,\t0.05],)\n",
    "\n",
    "E18 = (\n",
    "    [56347.7,\t16,\t1.26,\t0.346,\t0.503,\t1.00E-10,\t0.05],\n",
    "    [56347.7,\t16,\t1.74,\t-0.0272,\t0.368,\t1.00E-10,\t0.05],\n",
    "    [56347.7,\t16,\t4.55,\t-0.232,\t0.114,\t1.00E-10,\t0.05],\n",
    "    [56347.7,\t16,\t7.399,\t-0.00948,\t0.160,\t1.00E-10,\t0.05],\n",
    "    [56347.7,\t16,\t8.52,\t0.465,\t0.201,\t1.00E-10,\t0.05],\n",
    "    [56347.7,\t16,\t11.4,\t-0.0358,\t0.301,\t1.00E-10,\t0.05],)\n",
    "\n",
    "E19 = (\n",
    "    [56358.6,\t17,\t13.22,\t0.025,\t0.027,\t1.00E-10,\t0.05],\n",
    "    [56358.6,\t17,\t17.45,\t0.009,\t0.025,\t1.00E-10,\t0.05],\n",
    "    [56358.6,\t17,\t27.50,\t0.046,\t0.049,\t1.00E-10,\t0.05],\n",
    "    [56358.6,\t17,\t36.50,\t0.120,\t0.062,\t1.00E-10,\t0.05],)\n",
    "\n",
    "E20 = (\n",
    "    [56369.6,\t17,\t13.3,\t-0.0319,\t0.023,\t1.00E-10,\t0.05],\n",
    "    [56369.6,\t17,\t17.4,\t0.0240,\t0.029,\t1.00E-10,\t0.05],\n",
    "    [56369.6,\t17,\t27.5,\t0.113,\t0.065,\t1.00E-10,\t0.05],\n",
    "    [56369.6,\t17,\t36.5,\t0.0109,\t0.083,\t1.00E-10,\t0.05],)\n",
    "\n",
    "E21 = (\n",
    "    [56441.4,\t18,\t1.26,\t0.0811,\t0.396,\t1.00E-10,\t0.05],\n",
    "    [56441.4,\t18,\t1.74,\t-0.202,\t0.326,\t1.00E-10,\t0.05],\n",
    "    [56441.4,\t18,\t4.55,\t0.0437,\t0.033,\t1.00E-10,\t0.05],\n",
    "    [56441.4,\t18,\t7.399,\t-0.0098,\t0.021,\t1.00E-10,\t0.05],\n",
    "    [56441.4,\t18,\t8.52,\t-0.00263,\t0.018,\t1.00E-10,\t0.05],\n",
    "    [56441.4,\t18,\t11.4,\t-0.0266,\t0.019,\t1.00E-10,\t0.05],)\n",
    "\n",
    "E22 = (\n",
    "    [56446.2,\t18,\t13.3,\t-0.0169,\t0.024,\t1.00E-10,\t0.05],\n",
    "    [56446.2,\t18,\t17.4,\t0.0260,\t0.029,\t1.00E-10,\t0.05],\n",
    "    [56446.2,\t18,\t27.5,\t0.112,\t0.077,\t1.00E-10,\t0.05],\n",
    "    [56446.2,\t18,\t36.5,\t-0.0663,\t0.095,\t1.00E-10,\t0.05],)\n",
    "\n",
    "E23 = (\n",
    "    [56526.7,\t19,\t1.26,\t-0.571,\t0.276,\t1.00E-10,\t0.05],\n",
    "    [56526.7,\t19,\t1.74,\t-0.348,\t0.169,\t1.00E-10,\t0.05],\n",
    "    [56526.7,\t19,\t4.55,\t-0.00306,\t0.028,\t1.00E-10,\t0.05],\n",
    "    [56526.7,\t19,\t7.40,\t-0.0045,\t0.019,\t1.00E-10,\t0.05],\n",
    "    [56526.7,\t19,\t8.52,\t0.00449,\t0.022,\t1.00E-10,\t0.05],\n",
    "    [56526.7,\t19,\t11.4,\t-0.0051,\t0.024,\t1.00E-10,\t0.05],)\n",
    "\n",
    "E24 = (\n",
    "    [56530.7,\t19,\t13.3,\t-0.00734,\t0.031,\t1.00E-10,\t0.05],\n",
    "    [56530.7,\t19,\t17.4,\t-0.00912,\t0.053,\t1.00E-10,\t0.05],\n",
    "    [56530.7,\t19,\t27.5,\t0.0271,\t0.011,\t1.00E-10,\t0.05],\n",
    "    [56530.7,\t19,\t36.5,\t0.110,\t0.110,\t1.00E-10,\t0.05],)"
   ]
  },
  {
   "cell_type": "markdown",
   "id": "a940fb78-a97d-4a45-a27c-9be9985e1f2a",
   "metadata": {},
   "source": [
    "### Creating the dataframes"
   ]
  },
  {
   "cell_type": "code",
   "execution_count": 6,
   "id": "d3848616-8bb4-451d-817c-913fa637f7fe",
   "metadata": {},
   "outputs": [],
   "source": [
    "df1 =  pd.DataFrame(E1, columns = [\"MJD\",\t\"Epoch\",\t\"Freq\",\t\"Flux\",\t\"error\",\"RM\", \"systematics\"])\n",
    "\n",
    "df2 =  pd.DataFrame(E2, columns = [\"MJD\",\t\"Epoch\",\t\"Freq\",\t\"Flux\",\t\"error\",\"RM\", \"systematics\"])\n",
    "\n",
    "df3 =  pd.DataFrame(E3, columns = [\"MJD\",\t\"Epoch\",\t\"Freq\",\t\"Flux\",\t\"error\",\"RM\", \"systematics\"])\n",
    "\n",
    "df4 =  pd.DataFrame(E4, columns = [\"MJD\",\t\"Epoch\",\t\"Freq\",\t\"Flux\",\t\"error\",\"RM\", \"systematics\"])\n",
    "\n",
    "df5 =  pd.DataFrame(E5, columns = [\"MJD\",\t\"Epoch\",\t\"Freq\",\t\"Flux\",\t\"error\",\"RM\", \"systematics\"])\n",
    "\n",
    "df6 =  pd.DataFrame(E6, columns = [\"MJD\",\t\"Epoch\",\t\"Freq\",\t\"Flux\",\t\"error\",\"RM\", \"systematics\"])\n",
    "\n",
    "df7 =  pd.DataFrame(E7, columns = [\"MJD\",\t\"Epoch\",\t\"Freq\",\t\"Flux\",\t\"error\",\"RM\", \"systematics\"])\n",
    "\n",
    "df8 =  pd.DataFrame(E8, columns = [\"MJD\",\t\"Epoch\",\t\"Freq\",\t\"Flux\",\t\"error\",\"RM\", \"systematics\"])\n",
    "\n",
    "df9 =  pd.DataFrame(E9, columns = [\"MJD\",\t\"Epoch\",\t\"Freq\",\t\"Flux\",\t\"error\",\"RM\", \"systematics\"])\n",
    "\n",
    "df10 =  pd.DataFrame(E10, columns = [\"MJD\",\t\"Epoch\",\t\"Freq\",\t\"Flux\",\t\"error\",\"RM\", \"systematics\"])\n",
    "\n",
    "df11 =  pd.DataFrame(E11, columns = [\"MJD\",\t\"Epoch\",\t\"Freq\",\t\"Flux\",\t\"error\",\"RM\", \"systematics\"])\n",
    "\n",
    "df12 =  pd.DataFrame(E12, columns = [\"MJD\",\t\"Epoch\",\t\"Freq\",\t\"Flux\",\t\"error\",\"RM\", \"systematics\"])\n",
    "\n",
    "df13 =  pd.DataFrame(E13, columns = [\"MJD\",\t\"Epoch\",\t\"Freq\",\t\"Flux\",\t\"error\",\"RM\", \"systematics\"])\n",
    "\n",
    "df14 =  pd.DataFrame(E14, columns = [\"MJD\",\t\"Epoch\",\t\"Freq\",\t\"Flux\",\t\"error\",\"RM\", \"systematics\"])\n",
    "\n",
    "df15 =  pd.DataFrame(E15, columns = [\"MJD\",\t\"Epoch\",\t\"Freq\",\t\"Flux\",\t\"error\",\"RM\", \"systematics\"])\n",
    "\n",
    "df16 =  pd.DataFrame(E16, columns = [\"MJD\",\t\"Epoch\",\t\"Freq\",\t\"Flux\",\t\"error\",\"RM\", \"systematics\"])\n",
    "\n",
    "df17 =  pd.DataFrame(E17, columns = [\"MJD\",\t\"Epoch\",\t\"Freq\",\t\"Flux\",\t\"error\",\"RM\", \"systematics\"])\n",
    "\n",
    "df18 =  pd.DataFrame(E18, columns = [\"MJD\",\t\"Epoch\",\t\"Freq\",\t\"Flux\",\t\"error\",\"RM\", \"systematics\"])\n",
    "\n",
    "df19 =  pd.DataFrame(E19, columns = [\"MJD\",\t\"Epoch\",\t\"Freq\",\t\"Flux\",\t\"error\",\"RM\", \"systematics\"])\n",
    "\n",
    "df20 =  pd.DataFrame(E20, columns = [\"MJD\",\t\"Epoch\",\t\"Freq\",\t\"Flux\",\t\"error\",\"RM\", \"systematics\"])\n",
    "\n",
    "df21 =  pd.DataFrame(E21, columns = [\"MJD\",\t\"Epoch\",\t\"Freq\",\t\"Flux\",\t\"error\",\"RM\", \"systematics\"])\n",
    "\n",
    "df22 =  pd.DataFrame(E22, columns = [\"MJD\",\t\"Epoch\",\t\"Freq\",\t\"Flux\",\t\"error\",\"RM\", \"systematics\"])\n",
    "\n",
    "df23 =  pd.DataFrame(E23, columns = [\"MJD\",\t\"Epoch\",\t\"Freq\",\t\"Flux\",\t\"error\",\"RM\", \"systematics\"])\n",
    "\n",
    "df24 =  pd.DataFrame(E24, columns = [\"MJD\",\t\"Epoch\",\t\"Freq\",\t\"Flux\",\t\"error\",\"RM\", \"systematics\"])\n"
   ]
  },
  {
   "cell_type": "code",
   "execution_count": 7,
   "id": "de04581b",
   "metadata": {},
   "outputs": [
    {
     "data": {
      "text/plain": [
       "0    2.0\n",
       "Name: error, dtype: float64"
      ]
     },
     "execution_count": 7,
     "metadata": {},
     "output_type": "execute_result"
    }
   ],
   "source": [
    "df2['error']"
   ]
  },
  {
   "cell_type": "code",
   "execution_count": 8,
   "id": "38552d6d",
   "metadata": {},
   "outputs": [],
   "source": [
    "#Error on alpha for only two data points\n",
    "def two_points(Flux, Freq, Err):\n",
    "    \n",
    "    alpha = (np.log10(Flux[0]/Flux[1])) / (np.log10(Freq[0]/Freq[1]))\n",
    "    \n",
    "    \n",
    "    der_s1 = 1 / (Flux[0] * np.log(Freq[0]/Freq[1]))\n",
    "    der_s2 = -1 / (Flux[1] * np.log(Freq[0]/Freq[1]))\n",
    "    \n",
    "    \n",
    "    err_alph_squared = (der_s1)**2 * (Err[0]**2) + (der_s2)**2 * (Err[1]**2) \n",
    "    err_alph = np.sqrt(err_alph_squared)\n",
    "    \n",
    "    return(alpha, err_alph)"
   ]
  },
  {
   "cell_type": "markdown",
   "id": "966ba662-00fd-402d-b461-d798e8e180ec",
   "metadata": {},
   "source": [
    "### Now plotting the alpha lines using power laws"
   ]
  },
  {
   "cell_type": "code",
   "execution_count": 9,
   "id": "ea85d6f2-6599-4d51-93b0-553cb9f44f6b",
   "metadata": {},
   "outputs": [],
   "source": [
    "def onedlineneg(x_data, y_data, y_err):\n",
    "\n",
    "    #LevMarLSQFitter calc uncertainties=True to get covariance matrix and find error on slope\n",
    "    #Inputting the first point in the x and y data and an estimate on alpha\n",
    "    PL =  PowerLaw1D(amplitude = y_data[0], x_0= x_data[0], alpha= -1.4,\n",
    "                     bounds={\n",
    "        'amplitude': (0, None),  # Amplitude should be positive\n",
    "        'x_0': (min(x_data), max(x_data)),  # Frequency must stay within data\n",
    "        'alpha': (-10, 10)  # Keep alpha within a realistic range\n",
    "    }) \n",
    "\n",
    "    #Initialize fitters\n",
    "    #setting calc_uncertainties=True to output errors on measurement \n",
    "\n",
    "    fit = fitting.LevMarLSQFitter(calc_uncertainties=True)\n",
    "\n",
    "    #Fit the data w/o weights\n",
    "    fit_model = fit(PL, x_data, y_data)\n",
    "\n",
    "    #weight is 1/error^2\n",
    "    y_weight = 1/ (np.power(y_err,2))  \n",
    "\n",
    "    # fit the data using the uncertainties as weights\n",
    "    fit_model_weights = fit(PL, x_data, y_data, weights=y_weight)\n",
    "\n",
    "    return fit_model_weights\n",
    "\n"
   ]
  },
  {
   "cell_type": "markdown",
   "id": "ee3f9c76-f70e-4313-9f32-16bd88bc4a2b",
   "metadata": {},
   "source": [
    "#### Day 46.4"
   ]
  },
  {
   "cell_type": "code",
   "execution_count": 10,
   "id": "82dc1a89-354d-42b5-92fd-cfd8cf5e3bc2",
   "metadata": {},
   "outputs": [
    {
     "data": {
      "text/plain": [
       "<PowerLaw1D(amplitude=1.089, x_0=5., alpha=-0.77255236)>"
      ]
     },
     "execution_count": 10,
     "metadata": {},
     "output_type": "execute_result"
    }
   ],
   "source": [
    "#Since this day has only two data points, I have to make x_0 fixed in order to run the powerlaw1d. \n",
    "#this is done in the code below so I can use the function for the rest of the points\n",
    "\n",
    "mask = df3['Flux'] > 3 * df3['error']  # apply detection threshold\n",
    "if mask.any():\n",
    "    x3 = df3['Freq'][mask].values.tolist()\n",
    "    y3 = df3['Flux'][mask].values.tolist()\n",
    "    yerr3 = df3['error'][mask].values.tolist()\n",
    "\n",
    "fit = fitting.LevMarLSQFitter(calc_uncertainties=True)\n",
    "\n",
    "PL3 =  PowerLaw1D(amplitude = y3[0], x_0= x3[0], alpha= -1.4,\n",
    "                     bounds={\n",
    "        'amplitude': (0, None),  # Amplitude should be positive\n",
    "        #'x_0': (x3[0], x3[0]),  # Frequency must stay within data\n",
    "        'alpha': (-10, 10)  # Keep alpha within a realistic range\n",
    "    },\n",
    "                 fixed={'x_0': True}) \n",
    "\n",
    "    #Initialize fitters\n",
    "    #setting calc_uncertainties=True to output errors on measurement \n",
    "\n",
    "\n",
    "    #Fit the data w/o weights\n",
    "fit_model3 = fit(PL3, x3, y3)\n",
    "\n",
    "    #weight is 1/error^2\n",
    "y_weight3 = 1/ (np.power(yerr3,2))  \n",
    "\n",
    "    # fit the data using the uncertainties as weights\n",
    "fit_model_weights3 = fit(PL3, x3, y3, weights=y_weight3)\n",
    "\n",
    "fit_model_weights3\n"
   ]
  },
  {
   "cell_type": "code",
   "execution_count": 11,
   "id": "9b12152a",
   "metadata": {},
   "outputs": [
    {
     "name": "stdout",
     "output_type": "stream",
     "text": [
      "(0.772552360072047, 0.10226596359570364)\n"
     ]
    }
   ],
   "source": [
    "#Same slope as PL3 \n",
    "alpha_err3 = two_points(y3,x3,yerr3)\n",
    "print(alpha_err3)"
   ]
  },
  {
   "cell_type": "code",
   "execution_count": 12,
   "id": "ba21e249-6ebd-4484-87cb-8a7387c75ed9",
   "metadata": {},
   "outputs": [
    {
     "data": {
      "image/png": "[encoded data removed]",
      "text/plain": [
       "<Figure size 640x480 with 1 Axes>"
      ]
     },
     "metadata": {},
     "output_type": "display_data"
    }
   ],
   "source": [
    "fig,ax = plt.subplots()\n",
    "mask = df3['Flux'] > 3 * df3['error']  # apply detection threshold\n",
    "if mask.any():  # proceed only if at least one detection\n",
    "    ax.errorbar(df3['Freq'][mask], df3['Flux'][mask], yerr=df3['error'][mask], fmt='^')\n",
    "    ax.set_xscale('log')\n",
    "    ax.set_xticks([1, 5, 10, 50], labels=['1', '5', '10', '50'])\n",
    "    ax.set_yscale('log')\n",
    "    ax.set_yticks([1, 5, 10, 20, 50], labels=['1', '5', '10', '20', '50'])\n",
    "    ax.annotate('Day 46.4', xy=(60, 100), xycoords='axes points', size=9, ha='right', va='top', bbox=dict(boxstyle='round', fc='w', ec=\"w\"))\n",
    "    ax.tick_params(axis='both', which='both', direction='in', top=True, right=True)\n",
    "    ax.plot(df3['Freq'][mask], fit_model_weights3(df3['Freq'][mask]), 'r--')\n",
    "    ax.annotate('${\\u03B1 = 0.77 \\\\pm 0.10}$', xy=(90, 80), xycoords='axes points', size=9, ha='right', va='top', bbox=dict(boxstyle='round', fc='w', ec=\"w\"))\n",
    "\n",
    "plt.show();"
   ]
  },
  {
   "cell_type": "markdown",
   "id": "618dd31d-b436-4798-9f55-11208866935f",
   "metadata": {},
   "source": [
    "#### Day 54.2"
   ]
  },
  {
   "cell_type": "code",
   "execution_count": 13,
   "id": "fb5c45c8-8c80-467b-8b91-c1d804087320",
   "metadata": {},
   "outputs": [
    {
     "data": {
      "text/plain": [
       "<PowerLaw1D(amplitude=3.84737053, x_0=15.28140064, alpha=-0.60591969)>"
      ]
     },
     "execution_count": 13,
     "metadata": {},
     "output_type": "execute_result"
    }
   ],
   "source": [
    "mask = df4['Flux'] > 3 * df4['error']  # apply detection threshold\n",
    "if mask.any():\n",
    "    x4 = df4['Freq'][mask].values.tolist()\n",
    "    y4 = df4['Flux'][mask].values.tolist()\n",
    "    yerr4 = df4['error'][mask].values.tolist()\n",
    "\n",
    "onedlineneg(x4, y4, yerr4)"
   ]
  },
  {
   "cell_type": "code",
   "execution_count": 14,
   "id": "24dbfd56-bd0a-4581-be35-4e414a05557a",
   "metadata": {},
   "outputs": [
    {
     "data": {
      "text/plain": [
       "<PowerLaw1D(amplitude=3.84737053, x_0=15.28140064, alpha=-0.60591969)>"
      ]
     },
     "execution_count": 14,
     "metadata": {},
     "output_type": "execute_result"
    }
   ],
   "source": [
    "PL4 =  PowerLaw1D(amplitude = y4[0], x_0= x4[0], alpha= -1.4,\n",
    "                     bounds={\n",
    "        'amplitude': (0, None),  # Amplitude should be positive\n",
    "        'x_0': (min(x4), max(x4)),  # Frequency must stay within data\n",
    "        'alpha': (-10, 10)  # Keep alpha within a realistic range\n",
    "    }) \n",
    "\n",
    "    #Initialize fitters\n",
    "    #setting calc_uncertainties=True to output errors on measurement \n",
    "\n",
    "fit4 = fitting.LevMarLSQFitter(calc_uncertainties=True)\n",
    "\n",
    "    #Fit the data w/o weights\n",
    "fit_model4 = fit4(PL4, x4, y4)\n",
    "\n",
    "    #weight is 1/error^2\n",
    "y_weight4 = 1/ (np.power(yerr4,2))  \n",
    "\n",
    "    # fit the data using the uncertainties as weights\n",
    "fit_model_weights4 = fit4(PL4, x4, y4, weights=y_weight4)\n",
    "fit_model_weights4"
   ]
  },
  {
   "cell_type": "code",
   "execution_count": 15,
   "id": "c58b9d75-497a-4a53-a310-20b5b944ae97",
   "metadata": {},
   "outputs": [
    {
     "data": {
      "text/plain": [
       "{'nfev': 15,\n",
       " 'fvec': array([  7.86732905,  -9.9959823 , -15.6317535 ,  28.95761926]),\n",
       " 'fjac': array([[-6.96753340e+02, -4.76683117e+01,  1.06290628e+02,\n",
       "          1.25894736e-01],\n",
       "        [-4.76683117e+01,  5.42132702e+02, -5.09190365e-13,\n",
       "          5.85327661e-01],\n",
       "        [ 1.06290628e+02,  4.99053342e-15, -1.33057494e-14,\n",
       "          6.25143769e-01]]),\n",
       " 'ipvt': array([1, 3, 2], dtype=int32),\n",
       " 'qtf': array([-9.79660797e-13, -6.65234570e-08, -1.36305383e+01]),\n",
       " 'message': 'Both actual and predicted relative reductions in the sum of squares\\n  are at most 0.000000',\n",
       " 'ierr': 1,\n",
       " 'param_jac': None,\n",
       " 'param_cov': array([[ 1.31447747e+26,  8.61662579e+26, -7.93192494e+09],\n",
       "        [ 8.61662579e+26,  5.64834634e+27, -5.19951316e+10],\n",
       "        [-7.93192494e+09, -5.19951316e+10,  3.88106134e-06]]),\n",
       " 'njev': 8,\n",
       " 'cov_x': array([[ 1.31447747e+26,  8.61662579e+26, -7.93192494e+09],\n",
       "        [ 8.61662579e+26,  5.64834634e+27, -5.19951316e+10],\n",
       "        [-7.93192494e+09, -5.19951316e+10,  3.88106134e-06]])}"
      ]
     },
     "execution_count": 15,
     "metadata": {},
     "output_type": "execute_result"
    }
   ],
   "source": [
    "fit4.fit_info"
   ]
  },
  {
   "cell_type": "code",
   "execution_count": 17,
   "id": "d9af2f44-5241-4685-a939-6a0f136c0d6c",
   "metadata": {},
   "outputs": [
    {
     "data": {
      "text/plain": [
       "303.3413918040618"
      ]
     },
     "execution_count": 17,
     "metadata": {},
     "output_type": "execute_result"
    }
   ],
   "source": [
    "var4 = np.var(np.array([  7.86732905,  -9.9959823 , -15.6317535 ,  28.95761926]))\n",
    "var4"
   ]
  },
  {
   "cell_type": "code",
   "execution_count": 18,
   "id": "9b358160-8046-4b84-a859-33fdb8b5b78c",
   "metadata": {},
   "outputs": [
    {
     "name": "stdout",
     "output_type": "stream",
     "text": [
      "0.03431160953019454\n"
     ]
    }
   ],
   "source": [
    "param_cov4_1 =  np.array([[ 1.31447747e+26,  8.61662579e+26, -7.93192494e+09],\n",
    "        [ 8.61662579e+26,  5.64834634e+27, -5.19951316e+10],\n",
    "        [-7.93192494e+09, -5.19951316e+10,  3.88106134e-06]])\n",
    "\n",
    "diag4_1 = np.diagonal(param_cov4_1*var4)[2]\n",
    "stand_dev4_1 = np.sqrt(diag4_1)\n",
    "print(stand_dev4_1)"
   ]
  },
  {
   "cell_type": "code",
   "execution_count": 40,
   "id": "10db4902",
   "metadata": {},
   "outputs": [
    {
     "name": "stdout",
     "output_type": "stream",
     "text": [
      "0.06640153145824274\n",
      "The slope is -0.606 +/- 0.066\n"
     ]
    }
   ],
   "source": [
    "param_cov4 = np.array([[5.37617877e+29, 3.60384484e+30, 9.67558500e+12],\n",
    "                       [3.60384484e+30, 2.41578604e+31, 6.48589054e+13],\n",
    "                       [9.67558500e+12, 6.48589054e+13, 4.40916338e-03]])\n",
    "\n",
    "\n",
    "diag4 = np.diagonal(param_cov4)[2]\n",
    "stand_dev4 = np.sqrt(diag4)\n",
    "print(stand_dev4)\n",
    "print('The slope is -0.606 +/- 0.066' )"
   ]
  },
  {
   "cell_type": "code",
   "execution_count": 41,
   "id": "3d7b1ae8",
   "metadata": {},
   "outputs": [
    {
     "data": {
      "image/png": "[encoded data removed]",
      "text/plain": [
       "<Figure size 640x480 with 1 Axes>"
      ]
     },
     "metadata": {},
     "output_type": "display_data"
    }
   ],
   "source": [
    "\n",
    "fig,ax = plt.subplots()\n",
    "mask = df4['Flux'] > 3 * df4['error']  # apply detection threshold\n",
    "if mask.any():  # proceed only if at least one detection\n",
    "    ax.errorbar(df4['Freq'][mask], df4['Flux'][mask], yerr=df4['error'][mask], fmt='^')\n",
    "    ax.set_xscale('log')\n",
    "    ax.set_xticks([1, 5, 10, 50], labels=['1', '5', '10', '50'])\n",
    "    ax.set_yscale('log')\n",
    "    ax.set_yticks([1, 5, 10, 20, 50], labels=['1', '5', '10', '20', '50'])\n",
    "    ax.annotate('Day 54.2', xy=(60, 100), xycoords='axes points', size=9, ha='right', va='top', bbox=dict(boxstyle='round', fc='w', ec=\"w\"))\n",
    "    ax.tick_params(axis='both', which='both', direction='in', top=True, right=True)\n",
    "    ax.plot(df4['Freq'][mask], fit_model_weights4(df4['Freq'][mask]), 'r--')\n",
    "    ax.annotate('${\\u03B1 = 0.61 \\\\pm 0.07}$', xy=(90, 80), xycoords='axes points', size=9, ha='right', va='top', bbox=dict(boxstyle='round', fc='w', ec=\"w\"))\n",
    "\n",
    "plt.show();\n"
   ]
  },
  {
   "cell_type": "markdown",
   "id": "c29564c6-3741-48c8-b767-ca87f93efd1f",
   "metadata": {},
   "source": [
    "#### Day 62.3"
   ]
  },
  {
   "cell_type": "code",
   "execution_count": 42,
   "id": "e18a0444-aaea-49d8-b9cc-dd3e96959b29",
   "metadata": {},
   "outputs": [
    {
     "data": {
      "text/plain": [
       "<PowerLaw1D(amplitude=3.62427625, x_0=6.94575726, alpha=-0.16890168)>"
      ]
     },
     "execution_count": 42,
     "metadata": {},
     "output_type": "execute_result"
    }
   ],
   "source": [
    "mask = df5['Flux'] > 3 * df5['error']  # apply detection threshold\n",
    "if mask.any():\n",
    "    x5 = df5['Freq'][mask].values.tolist()\n",
    "    y5 = df5['Flux'][mask].values.tolist()\n",
    "    yerr5 = df5['error'][mask].values.tolist()\n",
    "\n",
    "onedlineneg(x5, y5, yerr5)"
   ]
  },
  {
   "cell_type": "code",
   "execution_count": 43,
   "id": "eb2b3000-f798-4e7e-a3f3-4bc7ea095dc6",
   "metadata": {},
   "outputs": [],
   "source": [
    "PL5 =  PowerLaw1D(amplitude = y5[0], x_0= x5[0], alpha= -1.4,\n",
    "                     bounds={\n",
    "        'amplitude': (0, None),  # Amplitude should be positive\n",
    "        'x_0': (min(x5), max(x5)),  # Frequency must stay within data\n",
    "        'alpha': (-10, 10)  # Keep alpha within a realistic range\n",
    "    }) \n",
    "\n",
    "    #Initialize fitters\n",
    "    #setting calc_uncertainties=True to output errors on measurement \n",
    "\n",
    "fit5 = fitting.LevMarLSQFitter(calc_uncertainties=True)\n",
    "\n",
    "    #Fit the data w/o weights\n",
    "fit_model5 = fit5(PL5, x5, y5)\n",
    "\n",
    "    #weight is 1/error^2\n",
    "y_weight5 = 1/ (np.power(yerr5,2))  \n",
    "\n",
    "    # fit the data using the uncertainties as weights\n",
    "fit_model_weights5 = fit5(PL5, x5, y5, weights=y_weight5)\n"
   ]
  },
  {
   "cell_type": "code",
   "execution_count": 44,
   "id": "cacee461-313f-44e8-8306-5abda83ce198",
   "metadata": {},
   "outputs": [
    {
     "data": {
      "text/plain": [
       "{'nfev': 19,\n",
       " 'fvec': array([-32.31293841,  30.11495686,  10.49387062, -28.29306318,\n",
       "         24.78637314,  32.06449405]),\n",
       " 'fjac': array([[-4.00084309e+03, -1.91117739e+03,  1.68436674e+02,\n",
       "          3.06296377e-02, -6.99983150e-02, -9.68113808e-02],\n",
       "        [-1.91117739e+03, -1.90715085e+03,  1.68081806e+02,\n",
       "          8.10092779e-01,  2.59728688e-01,  1.94815673e-01],\n",
       "        [ 1.68436674e+02,  1.68081806e+02,  3.48093429e-14,\n",
       "         -0.00000000e+00, -4.08248290e-01, -4.08248290e-01]]),\n",
       " 'ipvt': array([3, 1, 2], dtype=int32),\n",
       " 'qtf': array([-2.80022835e-04, -2.79432944e-04,  1.33942862e+01]),\n",
       " 'message': 'Both actual and predicted relative reductions in the sum of squares\\n  are at most 0.000000',\n",
       " 'ierr': 1,\n",
       " 'param_jac': None,\n",
       " 'param_cov': array([[ 6.41031940e+24,  7.27350949e+25, -1.84861062e+09],\n",
       "        [ 7.27350949e+25,  8.25293360e+26, -2.09753774e+10],\n",
       "        [-1.84861062e+09, -2.09753774e+10,  6.58314513e-07]]),\n",
       " 'njev': 10,\n",
       " 'cov_x': array([[ 6.41031940e+24,  7.27350949e+25, -1.84861062e+09],\n",
       "        [ 7.27350949e+25,  8.25293360e+26, -2.09753774e+10],\n",
       "        [-1.84861062e+09, -2.09753774e+10,  6.58314513e-07]])}"
      ]
     },
     "execution_count": 44,
     "metadata": {},
     "output_type": "execute_result"
    }
   ],
   "source": [
    "fit5.fit_info"
   ]
  },
  {
   "cell_type": "code",
   "execution_count": 19,
   "id": "62832f2d-60b2-4c36-9987-84e2899c84cb",
   "metadata": {},
   "outputs": [
    {
     "data": {
      "text/plain": [
       "712.9642749850351"
      ]
     },
     "execution_count": 19,
     "metadata": {},
     "output_type": "execute_result"
    }
   ],
   "source": [
    "fvec =  np.array([-32.31293841,  30.11495686,  10.49387062, -28.29306318,\n",
    "         24.78637314,  32.06449405])\n",
    "var5 = np.var(fvec)\n",
    "var5"
   ]
  },
  {
   "cell_type": "code",
   "execution_count": 20,
   "id": "0cb79cb7-f8a1-4cc5-862d-63e5f3409630",
   "metadata": {},
   "outputs": [
    {
     "name": "stdout",
     "output_type": "stream",
     "text": [
      "0.021664596222250983\n"
     ]
    }
   ],
   "source": [
    "param_cov = np.array([[ 6.41031940e+24,  7.27350949e+25, -1.84861062e+09],\n",
    "        [ 7.27350949e+25,  8.25293360e+26, -2.09753774e+10],\n",
    "        [-1.84861062e+09, -2.09753774e+10,  6.58314513e-07]])\n",
    "\n",
    "diag = np.diagonal(param_cov*var5)[2]\n",
    "stand_dev = np.sqrt(diag)\n",
    "print(stand_dev)"
   ]
  },
  {
   "cell_type": "code",
   "execution_count": 40,
   "id": "62bb99aa-f50e-40c4-a7a4-040e7819741a",
   "metadata": {},
   "outputs": [
    {
     "name": "stdout",
     "output_type": "stream",
     "text": [
      "0.015734924118024844\n",
      "The slope is -0.1689 +/- 0.0157\n"
     ]
    }
   ],
   "source": [
    "param_cov5 = np.array([[2.23557274e+28, 9.05956936e+28, 1.25726781e+12],\n",
    "                        [9.05956936e+28, 3.67135434e+29, 5.09502766e+12],\n",
    "                        [1.25726781e+12, 5.09502766e+12, 2.47587837e-04]])\n",
    "\n",
    "diag5 = np.diagonal(param_cov5)[2]\n",
    "stand_dev5 = np.sqrt(diag5)\n",
    "\n",
    "\n",
    "print(stand_dev5)\n",
    "print('The slope is -0.1689 +/- 0.0157' )"
   ]
  },
  {
   "cell_type": "code",
   "execution_count": 159,
   "id": "bad59753",
   "metadata": {},
   "outputs": [
    {
     "data": {
      "image/png": "[encoded data removed]",
      "text/plain": [
       "<Figure size 640x480 with 1 Axes>"
      ]
     },
     "metadata": {},
     "output_type": "display_data"
    }
   ],
   "source": [
    "\n",
    "fig,ax = plt.subplots()\n",
    "mask = df5['Flux'] > 3 * df5['error']  # apply detection threshold\n",
    "if mask.any():  # proceed only if at least one detection\n",
    "    ax.errorbar(df5['Freq'][mask], df5['Flux'][mask], yerr=df5['error'][mask], fmt='^')\n",
    "    ax.set_xscale('log')\n",
    "    ax.set_xticks([1, 5, 10, 50], labels=['1', '5', '10', '50'])\n",
    "    ax.set_yscale('log')\n",
    "    ax.set_yticks([1, 5, 10, 20, 50], labels=['1', '5', '10', '20', '50'])\n",
    "    ax.annotate('Day 62.3', xy=(60, 100), xycoords='axes points', size=9, ha='right', va='top', bbox=dict(boxstyle='round', fc='w', ec=\"w\"))\n",
    "    ax.tick_params(axis='both', which='both', direction='in', top=True, right=True)\n",
    "    ax.plot(df5['Freq'][mask], fit_model_weights5(df5['Freq'][mask]), 'r--')\n",
    "    ax.annotate('${\\u03B1 = 0.17 \\\\pm 0.02}$', xy=(90, 80), xycoords='axes points', size=9, ha='right', va='top', bbox=dict(boxstyle='round', fc='w', ec=\"w\"))\n",
    "\n",
    "plt.show();"
   ]
  },
  {
   "cell_type": "markdown",
   "id": "86eb2aa7-4d5f-4c85-b6a5-7d8b652fef7b",
   "metadata": {},
   "source": [
    "#### Day 81.1"
   ]
  },
  {
   "cell_type": "code",
   "execution_count": 112,
   "id": "aa4d4c5b-de94-4000-a097-563a0445bf96",
   "metadata": {},
   "outputs": [
    {
     "data": {
      "text/plain": [
       "<PowerLaw1D(amplitude=0., x_0=1.35, alpha=-1.19858349)>"
      ]
     },
     "execution_count": 112,
     "metadata": {},
     "output_type": "execute_result"
    }
   ],
   "source": [
    "mask = df7['Flux'] > 3 * df7['error']  # apply detection threshold\n",
    "if mask.any():\n",
    "    x7 = df7['Freq'][mask].values.tolist()\n",
    "    y7 = df7['Flux'][mask].values.tolist()\n",
    "    yerr7 = df7['error'][mask].values.tolist()\n",
    "\n",
    "onedlineneg(x7, y7, yerr7)"
   ]
  },
  {
   "cell_type": "code",
   "execution_count": 113,
   "id": "25739716",
   "metadata": {},
   "outputs": [
    {
     "data": {
      "text/plain": [
       "<PowerLaw1D(amplitude=1.92964427, x_0=7.47310505, alpha=-0.06152324)>"
      ]
     },
     "execution_count": 113,
     "metadata": {},
     "output_type": "execute_result"
    }
   ],
   "source": [
    "PL7 =  PowerLaw1D(amplitude = y7[0], x_0= x7[0], alpha= -1.0,\n",
    "                     bounds={\n",
    "        'amplitude': (0, None),  # Amplitude should be positive\n",
    "        'x_0': (min(x7), max(x7)),  # Frequency must stay within data\n",
    "        'alpha': (-10, 10)  # Keep alpha within a realistic range\n",
    "    }) \n",
    "\n",
    "fit7 = fitting.LevMarLSQFitter(calc_uncertainties=True)\n",
    "\n",
    "fit_model7 = fit7(PL7, x7, y7)\n",
    "\n",
    "y_weight7 = 1/ (np.power(yerr7,2))  \n",
    "\n",
    "fit_model_weights7 = fit7(PL7, x7, y7, weights=y_weight7)\n",
    "fit_model_weights7"
   ]
  },
  {
   "cell_type": "code",
   "execution_count": 116,
   "id": "160257a7",
   "metadata": {},
   "outputs": [
    {
     "name": "stdout",
     "output_type": "stream",
     "text": [
      "0.11460209204024158\n",
      "The slope is 0.06 +/- 0.11\n"
     ]
    }
   ],
   "source": [
    "#fit7.fit_info\n",
    "param_cov7 = np.array([[ 3.30093214e+29,  2.07788371e+31, -4.25768177e+13],\n",
    "                        [ 2.07788371e+31,  1.30799438e+33, -2.68014221e+15],\n",
    "                        [-4.25768177e+13, -2.68014221e+15,  1.31336395e-02]])\n",
    "\n",
    "diag7 = np.diagonal(param_cov7)[2]\n",
    "\n",
    "stand_dev7 = np.sqrt(diag7)\n",
    "\n",
    "print(stand_dev7)\n",
    "print('The slope is 0.06 +/- 0.11')"
   ]
  },
  {
   "cell_type": "code",
   "execution_count": 118,
   "id": "c16bacd3-be05-4cf6-8118-cffab6f958fc",
   "metadata": {},
   "outputs": [
    {
     "data": {
      "image/png": "[encoded data removed]",
      "text/plain": [
       "<Figure size 640x480 with 1 Axes>"
      ]
     },
     "metadata": {},
     "output_type": "display_data"
    }
   ],
   "source": [
    "fig,ax = plt.subplots()\n",
    "mask = df7['Flux'] > 3 * df7['error']  # apply detection threshold\n",
    "if mask.any():  # proceed only if at least one detection\n",
    "    ax.errorbar(df7['Freq'][mask], df7['Flux'][mask], yerr=df7['error'][mask], fmt='^')\n",
    "    ax.set_xscale('log')\n",
    "    ax.set_xticks([1, 5, 10, 50], labels=['1', '5', '10', '50'])\n",
    "    ax.set_yscale('log')\n",
    "    ax.set_yticks([1, 5, 10, 20, 50], labels=['1', '5', '10', '20', '50'])\n",
    "    ax.annotate('Day 81.1', xy=(60, 100), xycoords='axes points', size=9, ha='right', va='top', bbox=dict(boxstyle='round', fc='w', ec=\"w\"))\n",
    "    ax.tick_params(axis='both', which='both', direction='in', top=True, right=True)\n",
    "    ax.plot(df7['Freq'][mask], fit_model_weights7(df7['Freq'][mask]), 'r--')\n",
    "    ax.annotate('${\\u03B1 = -0.06 \\\\pm 0.11}$', xy=(90, 80), xycoords='axes points', size=9, ha='right', va='top', bbox=dict(boxstyle='round', fc='w', ec=\"w\"))\n",
    "\n",
    "plt.show();"
   ]
  },
  {
   "cell_type": "markdown",
   "id": "84c17955-3f11-4b7a-bbd4-41c1e9acc72b",
   "metadata": {},
   "source": [
    "### Day 90.3"
   ]
  },
  {
   "cell_type": "code",
   "execution_count": 119,
   "id": "0e3a4fa1-b76f-4415-9821-0b9103201975",
   "metadata": {},
   "outputs": [
    {
     "data": {
      "text/plain": [
       "<PowerLaw1D(amplitude=1.36855667, x_0=20.40492784, alpha=0.05228461)>"
      ]
     },
     "execution_count": 119,
     "metadata": {},
     "output_type": "execute_result"
    }
   ],
   "source": [
    "mask = df8['Flux'] > 3 * df8['error']  # apply detection threshold\n",
    "if mask.any():\n",
    "    x8 = df8['Freq'][mask].values.tolist()\n",
    "    y8 = df8['Flux'][mask].values.tolist()\n",
    "    yerr8 = df8['error'][mask].values.tolist()\n",
    "\n",
    "onedlineneg(x8, y8, yerr8)"
   ]
  },
  {
   "cell_type": "code",
   "execution_count": 152,
   "id": "66d3c287-b2c5-4120-a845-b7e1da289eb6",
   "metadata": {},
   "outputs": [
    {
     "data": {
      "text/plain": [
       "<PowerLaw1D(amplitude=1.37958689, x_0=17.5, alpha=0.05228276)>"
      ]
     },
     "execution_count": 152,
     "metadata": {},
     "output_type": "execute_result"
    }
   ],
   "source": [
    "PL8 =  PowerLaw1D(amplitude = y8[0], x_0= x8[0], alpha= 0.03,\n",
    "                     bounds={\n",
    "        'amplitude': (0, None),  # Amplitude should be positive\n",
    "        'x_0': (min(x8), max(x8)),  # Frequency must stay within data\n",
    "        'alpha': (-10, 10)  # Keep alpha within a realistic range\n",
    "    }) \n",
    "\n",
    "    #Initialize fitters\n",
    "    #setting calc_uncertainties=True to output errors on measurement \n",
    "\n",
    "fit8 = fitting.LevMarLSQFitter(calc_uncertainties=True)\n",
    "\n",
    "    #Fit the data w/o weights\n",
    "fit_model8 = fit8(PL8, x8, y8)\n",
    "\n",
    "    #weight is 1/error^2\n",
    "y_weight8 = 1/ (np.power(yerr8,2))  \n",
    "\n",
    "    # fit the data using the uncertainties as weights\n",
    "fit_model_weights8 = fit8(PL8, x8, y8, weights=y_weight8)\n",
    "\n",
    "fit_model_weights8"
   ]
  },
  {
   "cell_type": "code",
   "execution_count": 154,
   "id": "28aa1a62",
   "metadata": {},
   "outputs": [
    {
     "name": "stdout",
     "output_type": "stream",
     "text": [
      "Slope: -0.06508755976409032 +/- 0.19433432497259354\n",
      "Intercept: 0.5084722832905935 +/- 0.5751575665207337\n"
     ]
    }
   ],
   "source": [
    "#Find the slope and error \n",
    "\n",
    "p, V = np.polyfit(np.log(x8),np.log(y8), 1, w = y_weight8, cov=True)\n",
    "\n",
    "print(\"Slope: {} +/- {}\".format(p[0], np.sqrt(V[0][0]))) #slope and error \n",
    "print(\"Intercept: {} +/- {}\".format(p[1], np.sqrt(V[1][1]))) #intercept and error"
   ]
  },
  {
   "cell_type": "code",
   "execution_count": 155,
   "id": "cfa4346a",
   "metadata": {},
   "outputs": [
    {
     "data": {
      "image/png": "[encoded data removed]",
      "text/plain": [
       "<Figure size 640x480 with 1 Axes>"
      ]
     },
     "metadata": {},
     "output_type": "display_data"
    }
   ],
   "source": [
    "\n",
    "fig,ax = plt.subplots()\n",
    "mask = df8['Flux'] > 3 * df8['error']  # apply detection threshold\n",
    "if mask.any():  # proceed only if at least one detection\n",
    "    ax.errorbar(df8['Freq'][mask], df8['Flux'][mask], yerr=df8['error'][mask], fmt='^')\n",
    "    ax.set_xscale('log')\n",
    "    ax.set_xticks([1, 5, 10, 50], labels=['1', '5', '10', '50'])\n",
    "    ax.set_yscale('log')\n",
    "    ax.set_yticks([1, 5, 10, 20, 50], labels=['1', '5', '10', '20', '50'])\n",
    "    ax.annotate('Day 90.3', xy=(60, 100), xycoords='axes points', size=9, ha='right', va='top', bbox=dict(boxstyle='round', fc='w', ec=\"w\"))\n",
    "    ax.tick_params(axis='both', which='both', direction='in', top=True, right=True)\n",
    "    ax.plot(df8['Freq'][mask], fit_model_weights8(df8['Freq'][mask]), 'r--')\n",
    "    ax.annotate('${\\u03B1 = -0.07 \\\\pm 0.20}$', xy=(90, 80), xycoords='axes points', size=9, ha='right', va='top', bbox=dict(boxstyle='round', fc='w', ec=\"w\"))\n",
    "\n",
    "plt.show();"
   ]
  },
  {
   "cell_type": "markdown",
   "id": "9ee8907d-30dc-42f3-9f00-612720e9a65a",
   "metadata": {},
   "source": [
    "#### Day 110"
   ]
  },
  {
   "cell_type": "code",
   "execution_count": 129,
   "id": "99b6f06d-04b2-42ab-8534-58601785c709",
   "metadata": {},
   "outputs": [
    {
     "data": {
      "text/plain": [
       "<PowerLaw1D(amplitude=0., x_0=5.9555801, alpha=-0.93005771)>"
      ]
     },
     "execution_count": 129,
     "metadata": {},
     "output_type": "execute_result"
    }
   ],
   "source": [
    "mask = df9['Flux'] > 3 * df9['error']  # apply detection threshold\n",
    "if mask.any():\n",
    "    x9 = df9['Freq'][mask].values.tolist()\n",
    "    y9 = df9['Flux'][mask].values.tolist()\n",
    "    yerr9 = df9['error'][mask].values.tolist()\n",
    "\n",
    "onedlineneg(x9, y9, yerr9)   "
   ]
  },
  {
   "cell_type": "code",
   "execution_count": 137,
   "id": "6bd53aa5",
   "metadata": {},
   "outputs": [
    {
     "data": {
      "text/plain": [
       "<PowerLaw1D(amplitude=0.50868677, x_0=4.50914544, alpha=-0.10307773)>"
      ]
     },
     "execution_count": 137,
     "metadata": {},
     "output_type": "execute_result"
    }
   ],
   "source": [
    "PL9 =  PowerLaw1D(amplitude = y9[0], x_0= x9[0], alpha= 0.01,\n",
    "                     bounds={\n",
    "        'amplitude': (0, None),  # Amplitude should be positive\n",
    "        'x_0': (min(x9), max(x9)),  # Frequency must stay within data\n",
    "        'alpha': (-10, 10)  # Keep alpha within a realistic range\n",
    "    }) \n",
    "\n",
    "    #Initialize fitters\n",
    "    #setting calc_uncertainties=True to output errors on measurement \n",
    "\n",
    "fit9 = fitting.LevMarLSQFitter(calc_uncertainties=True)\n",
    "\n",
    "    #Fit the data w/o weights\n",
    "fit_model9 = fit9(PL9, x9, y9)\n",
    "\n",
    "    #weight is 1/error^2\n",
    "y_weight9 = 1/ (np.power(yerr9,2))  \n",
    "\n",
    "    # fit the data using the uncertainties as weights\n",
    "fit_model_weights9 = fit9(PL9, x9, y9, weights=y_weight9)\n",
    "\n",
    "fit_model_weights9"
   ]
  },
  {
   "cell_type": "code",
   "execution_count": 139,
   "id": "9f55184e",
   "metadata": {},
   "outputs": [],
   "source": [
    "#fit9.fit_info"
   ]
  },
  {
   "cell_type": "code",
   "execution_count": 133,
   "id": "c05ee442",
   "metadata": {},
   "outputs": [
    {
     "name": "stdout",
     "output_type": "stream",
     "text": [
      "0.07447160781129947\n",
      "The slope is 0.10 +/- 0.07\n"
     ]
    }
   ],
   "source": [
    "\n",
    "param_cov9 = np.array([[6.06187671e+26, 1.06873192e+29, 8.12087362e+11],\n",
    "        [1.06873192e+29, 1.88421503e+31, 1.43174091e+14],\n",
    "        [8.12087362e+11, 1.43174091e+14, 5.54602037e-03]])\n",
    "\n",
    "diag9 = np.diagonal(param_cov9)[2]\n",
    "stand_dev9 = np.sqrt(diag9)\n",
    "\n",
    "print(stand_dev9)\n",
    "print('The slope is 0.10 +/- 0.07')"
   ]
  },
  {
   "cell_type": "code",
   "execution_count": 140,
   "id": "557967c7-34a4-41b0-a8d9-49793cc5eccb",
   "metadata": {},
   "outputs": [
    {
     "data": {
      "image/png": "[encoded data removed]",
      "text/plain": [
       "<Figure size 640x480 with 1 Axes>"
      ]
     },
     "metadata": {},
     "output_type": "display_data"
    }
   ],
   "source": [
    "fig,ax = plt.subplots()\n",
    "mask = df9['Flux'] > 3 * df9['error']  # apply detection threshold\n",
    "if mask.any():  # proceed only if at least one detection\n",
    "    ax.errorbar(df9['Freq'][mask], df9['Flux'][mask], yerr=df9['error'][mask], fmt='^')\n",
    "    ax.set_xscale('log')\n",
    "    ax.set_xticks([1, 5, 10, 50], labels=['1', '5', '10', '50'])\n",
    "    ax.set_yscale('log')\n",
    "    ax.set_yticks([1, 5, 10, 20, 50], labels=['1', '5', '10', '20', '50'])\n",
    "    ax.annotate('Day 110.0', xy=(60, 100), xycoords='axes points', size=9, ha='right', va='top', bbox=dict(boxstyle='round', fc='w', ec=\"w\"))\n",
    "    ax.tick_params(axis='both', which='both', direction='in', top=True, right=True)\n",
    "    ax.plot(df9['Freq'][mask],  fit_model_weights9(df9['Freq'][mask]), 'r--')\n",
    "    ax.annotate('${\\u03B1 = 0.10\\\\pm 0.07}$', xy=(90, 80), xycoords='axes points', size=9, ha='right', va='top', bbox=dict(boxstyle='round', fc='w', ec=\"w\"))\n",
    "plt.show();"
   ]
  },
  {
   "cell_type": "markdown",
   "id": "d3bf5408-ab64-46c0-9569-2bb7efebbf01",
   "metadata": {},
   "source": [
    "#### Day 113.3"
   ]
  },
  {
   "cell_type": "code",
   "execution_count": 50,
   "id": "bfb686a5-2e88-4fa1-b89a-3002786fe9b9",
   "metadata": {},
   "outputs": [],
   "source": [
    "mask = df10['Flux'] > 3 * df10['error']  # apply detection threshold\n",
    "if mask.any():\n",
    "    x10 = df10['Freq'][mask].values.tolist()\n",
    "    y10 = df10['Flux'][mask].values.tolist()\n",
    "    yerr10 = df10['error'][mask].values.tolist()\n",
    "\n"
   ]
  },
  {
   "cell_type": "code",
   "execution_count": 51,
   "id": "30ee4307-2b2d-47e6-b265-7da06ed452a4",
   "metadata": {},
   "outputs": [
    {
     "name": "stderr",
     "output_type": "stream",
     "text": [
      "/Users/isabellamolina/opt/anaconda3/lib/python3.10/site-packages/astropy/modeling/powerlaws.py:58: RuntimeWarning: invalid value encountered in power\n",
      "  d_amplitude = xx ** (-alpha)\n",
      "/Users/isabellamolina/opt/anaconda3/lib/python3.10/site-packages/astropy/modeling/powerlaws.py:60: RuntimeWarning: invalid value encountered in log\n",
      "  d_alpha = -amplitude * d_amplitude * np.log(xx)\n"
     ]
    },
    {
     "data": {
      "text/plain": [
       "<PowerLaw1D(amplitude=0.42705815, x_0=12.56859572, alpha=0.13931653)>"
      ]
     },
     "execution_count": 51,
     "metadata": {},
     "output_type": "execute_result"
    }
   ],
   "source": [
    "onedlineneg(x10, y10, yerr10)"
   ]
  },
  {
   "cell_type": "code",
   "execution_count": 52,
   "id": "b793be59-a137-4249-a15e-b0281efa5b0b",
   "metadata": {},
   "outputs": [
    {
     "data": {
      "text/plain": [
       "<PowerLaw1D(amplitude=0.42705815, x_0=12.56859572, alpha=0.13931653)>"
      ]
     },
     "execution_count": 52,
     "metadata": {},
     "output_type": "execute_result"
    }
   ],
   "source": [
    "PL10 =  PowerLaw1D(amplitude = y10[0], x_0= x10[0], alpha= -1.4,\n",
    "                     bounds={\n",
    "        'amplitude': (0, None),  # Amplitude should be positive\n",
    "        'x_0': (min(x10), max(x10)),  # Frequency must stay within data\n",
    "        'alpha': (-10, 10)  # Keep alpha within a realistic range\n",
    "    }) \n",
    "\n",
    "fit10 = fitting.LevMarLSQFitter(calc_uncertainties=True)\n",
    "\n",
    "    #Fit the data w/o weights\n",
    "fit_model10 = fit10(PL10, x10, y10)\n",
    "\n",
    "    #weight is 1/error^2\n",
    "y_weight10 = 1/ (np.power(yerr10,2))  \n",
    "\n",
    "    # fit the data using the uncertainties as weights\n",
    "fit_model_weights10 = fit10(PL10, x10, y10, weights=y_weight10)\n",
    "\n",
    "fit_model_weights10\n"
   ]
  },
  {
   "cell_type": "code",
   "execution_count": 54,
   "id": "41892284",
   "metadata": {},
   "outputs": [
    {
     "name": "stdout",
     "output_type": "stream",
     "text": [
      "0.061593276743488815\n"
     ]
    }
   ],
   "source": [
    "param_cov10 = np.array([[ 1.76357185e+27, -3.73151804e+29,  7.82017502e+11],\n",
    "                        [-3.73151804e+29,  7.89546904e+31, -1.65466036e+14],\n",
    "                        [ 7.82017502e+11, -1.65466036e+14,  3.79373174e-03]])\n",
    "\n",
    "\n",
    "diag10 = np.diagonal(param_cov10)\n",
    "\n",
    "stand_dev10 = np.sqrt(diag10[2])\n",
    "\n",
    "print(stand_dev10)\n",
    "print('The slope is -0.139 +/- 0.06159')"
   ]
  },
  {
   "cell_type": "code",
   "execution_count": 61,
   "id": "1b63508d",
   "metadata": {},
   "outputs": [
    {
     "data": {
      "image/png": "[encoded data removed]",
      "text/plain": [
       "<Figure size 640x480 with 1 Axes>"
      ]
     },
     "metadata": {},
     "output_type": "display_data"
    }
   ],
   "source": [
    "fig,ax = plt.subplots()\n",
    "mask = df10['Flux'] > 3 * df10['error']  # apply detection threshold\n",
    "if mask.any():  # proceed only if at least one detection\n",
    "    ax.errorbar(df10['Freq'][mask], df10['Flux'][mask], yerr=df10['error'][mask], fmt='^')\n",
    "    ax.set_xscale('log')\n",
    "    ax.set_xticks([1, 5, 10, 50], labels=['1', '5', '10', '50'])\n",
    "    ax.set_yscale('log')\n",
    "    ax.set_yticks([1, 5, 10, 20, 50], labels=['1', '5', '10', '20', '50'])\n",
    "    ax.annotate('Day 113.3', xy=(60, 100), xycoords='axes points', size=9, ha='right', va='top', bbox=dict(boxstyle='round', fc='w', ec=\"w\"))\n",
    "    ax.tick_params(axis='both', which='both', direction='in', top=True, right=True)\n",
    "    ax.plot(df10['Freq'][mask], fit_model_weights10(df10['Freq'][mask]), 'r--')\n",
    "    ax.annotate('${\\u03B1 = -0.14 \\\\pm 0.06}$', xy=(90, 80), xycoords='axes points', size=9, ha='right', va='top', bbox=dict(boxstyle='round', fc='w', ec=\"w\"))\n",
    "\n",
    "plt.show();"
   ]
  },
  {
   "cell_type": "markdown",
   "id": "0ad5efc2-0d65-4e89-bea4-c0f1f5469dce",
   "metadata": {},
   "source": [
    "### Day 129"
   ]
  },
  {
   "cell_type": "code",
   "execution_count": 62,
   "id": "4bca4c95-ca44-4a5a-92ed-84f85c0f71ad",
   "metadata": {},
   "outputs": [],
   "source": [
    "mask = df11['Flux'] > 3 * df11['error']  # apply detection threshold\n",
    "if mask.any():\n",
    "    x11 = df11['Freq'][mask].values.tolist()\n",
    "    y11 = df11['Flux'][mask].values.tolist()\n",
    "    yerr11 = df11['error'][mask].values.tolist()\n"
   ]
  },
  {
   "cell_type": "code",
   "execution_count": 66,
   "id": "7f190fb6-ea82-4f41-bdc9-899b7f48e609",
   "metadata": {},
   "outputs": [
    {
     "data": {
      "text/plain": [
       "<PowerLaw1D(amplitude=0.32288939, x_0=2.64086184, alpha=0.07719678)>"
      ]
     },
     "execution_count": 66,
     "metadata": {},
     "output_type": "execute_result"
    }
   ],
   "source": [
    "#print(onedlineneg(x11, y11, yerr11))\n",
    "\n",
    "PL11 =  PowerLaw1D(amplitude = y11[0], x_0= x11[0], alpha= -1.4,\n",
    "                     bounds={\n",
    "        'amplitude': (0, None),  # Amplitude should be positive\n",
    "        'x_0': (min(x11), max(x11)),  # Frequency must stay within data\n",
    "        'alpha': (-10, 10)  # Keep alpha within a realistic range\n",
    "    }) \n",
    "\n",
    "    #Initialize fitters\n",
    "    #setting calc_uncertainties=True to output errors on measurement \n",
    "\n",
    "fit11 = fitting.LevMarLSQFitter(calc_uncertainties=True)\n",
    "\n",
    "    #Fit the data w/o weights\n",
    "fit_model11 = fit11(PL11, x11, y11)\n",
    "\n",
    "    #weight is 1/error^2\n",
    "y_weight11 = 1/ (np.power(yerr11,2))  \n",
    "\n",
    "    # fit the data using the uncertainties as weights\n",
    "fit_model_weights11 = fit11(PL11, x11, y11, weights=y_weight11)\n",
    "\n",
    "fit_model_weights11"
   ]
  },
  {
   "cell_type": "code",
   "execution_count": 69,
   "id": "100e43fa",
   "metadata": {},
   "outputs": [
    {
     "name": "stdout",
     "output_type": "stream",
     "text": [
      "0.2051699427304107\n",
      "The slope is -0.077 +/- 0.205\n"
     ]
    }
   ],
   "source": [
    "fit11.fit_info\n",
    "param_cov11 = np.array([[ 3.78793096e+28, -4.01323644e+30,  2.40335011e+13],\n",
    "                        [-4.01323644e+30,  4.25194306e+32, -2.54630097e+15],\n",
    "                        [ 2.40335011e+13, -2.54630097e+15,  4.20947054e-02]])\n",
    "\n",
    "diag = np.diagonal(param_cov11)[2]\n",
    "stand_dev11 = np.sqrt(diag)\n",
    "\n",
    "print(stand_dev11)\n",
    "print('The slope is -0.077 +/- 0.205')"
   ]
  },
  {
   "cell_type": "code",
   "execution_count": 158,
   "id": "caaa01da",
   "metadata": {},
   "outputs": [
    {
     "data": {
      "image/png": "[encoded data removed]",
      "text/plain": [
       "<Figure size 640x480 with 1 Axes>"
      ]
     },
     "metadata": {},
     "output_type": "display_data"
    }
   ],
   "source": [
    "fig,ax = plt.subplots()\n",
    "mask = df11['Flux'] > 3 * df11['error']  # apply detection threshold\n",
    "if mask.any():  # proceed only if at least one detection\n",
    "    ax.errorbar(df11['Freq'][mask], df11['Flux'][mask], yerr=df11['error'][mask], fmt='^')\n",
    "    ax.set_xscale('log')\n",
    "    ax.set_xticks([1, 5, 10, 50], labels=['1', '5', '10', '50'])\n",
    "    ax.set_yscale('log')\n",
    "    ax.set_yticks([1, 5, 10, 20, 50], labels=['1', '5', '10', '20', '50'])\n",
    "    ax.annotate('Day 129', xy=(60, 100), xycoords='axes points', size=9, ha='right', va='top', bbox=dict(boxstyle='round', fc='w', ec=\"w\"))\n",
    "    ax.tick_params(axis='both', which='both', direction='in', top=True, right=True)\n",
    "    ax.plot(df11['Freq'][mask], fit_model_weights11(df11['Freq'][mask]), 'r--')\n",
    "    ax.annotate('${\\u03B1 = -0.08 \\\\pm 0.21}$', xy=(90, 80), xycoords='axes points', size=9, ha='right', va='top', bbox=dict(boxstyle='round', fc='w', ec=\"w\"))\n",
    "\n",
    "plt.show();"
   ]
  },
  {
   "cell_type": "markdown",
   "id": "3f0591cc-e0e2-486a-a0f6-dd503f178e57",
   "metadata": {},
   "source": [
    "### Day 136.2"
   ]
  },
  {
   "cell_type": "code",
   "execution_count": 72,
   "id": "2f6c1820-3924-4d10-a6e3-9ca79837a9c0",
   "metadata": {},
   "outputs": [],
   "source": [
    "mask = df12['Flux'] > 3 * df12['error']  # apply detection threshold\n",
    "if mask.any():\n",
    "    x12 = df12['Freq'][mask].values.tolist()\n",
    "    y12 = df12['Flux'][mask].values.tolist()\n",
    "    yerr12 = df12['error'][mask].values.tolist()\n",
    "\n",
    "\n",
    "#print(onedlineneg(x12, y12, yerr12))"
   ]
  },
  {
   "cell_type": "code",
   "execution_count": 82,
   "id": "46934bd0-7a97-4f26-bb53-3239b5fae497",
   "metadata": {},
   "outputs": [
    {
     "data": {
      "text/plain": [
       "<PowerLaw1D(amplitude=0.16639861, x_0=14.85423994, alpha=0.96460975)>"
      ]
     },
     "execution_count": 82,
     "metadata": {},
     "output_type": "execute_result"
    }
   ],
   "source": [
    "PL12 =  PowerLaw1D(amplitude = y12[0], x_0= x12[0], alpha= 0.9,\n",
    "                     bounds={\n",
    "        'amplitude': (0, None),  # Amplitude should be positive\n",
    "        'x_0': (min(x12), max(x12)),  # Frequency must stay within data\n",
    "        'alpha': (-10, 10)  # Keep alpha within a realistic range\n",
    "    }) \n",
    "\n",
    "    #Initialize fitters\n",
    "    #setting calc_uncertainties=True to output errors on measurement \n",
    "\n",
    "fit12 = fitting.LevMarLSQFitter(calc_uncertainties=True)\n",
    "\n",
    "    #Fit the data w/o weights\n",
    "fit_model12 = fit12(PL12, x12, y12)\n",
    "\n",
    "    #weight is 1/error^2\n",
    "y_weight12 = 1/ (np.power(yerr12,2))  \n",
    "\n",
    "    # fit the data using the uncertainties as weights\n",
    "fit_model_weights12 = fit12(PL12, x12, y12, weights=y_weight12)\n",
    "\n",
    "fit_model_weights12"
   ]
  },
  {
   "cell_type": "code",
   "execution_count": 156,
   "id": "3ee8fbb8",
   "metadata": {},
   "outputs": [
    {
     "name": "stdout",
     "output_type": "stream",
     "text": [
      "Slope: -0.851080849988526 +/- 0.3899130990078782\n",
      "Intercept: 0.4995523236115625 +/- 1.0765184490190454\n"
     ]
    }
   ],
   "source": [
    "#No Param Cov from fit12.fit_info\n",
    "\n",
    "p, V = np.polyfit(np.log(x12),np.log(y12), 1, w = y_weight12, cov=True)\n",
    "\n",
    "print(\"Slope: {} +/- {}\".format(p[0], np.sqrt(V[0][0]))) #slope and error \n",
    "print(\"Intercept: {} +/- {}\".format(p[1], np.sqrt(V[1][1]))) #intercept and error"
   ]
  },
  {
   "cell_type": "code",
   "execution_count": 157,
   "id": "9fdad807",
   "metadata": {},
   "outputs": [
    {
     "data": {
      "image/png": "[encoded data removed]",
      "text/plain": [
       "<Figure size 640x480 with 1 Axes>"
      ]
     },
     "metadata": {},
     "output_type": "display_data"
    }
   ],
   "source": [
    "\n",
    "fig,ax = plt.subplots()\n",
    "mask = df12['Flux'] > 3 * df12['error']  # apply detection threshold\n",
    "if mask.any():  # proceed only if at least one detection\n",
    "    ax.errorbar(df12['Freq'][mask], df12['Flux'][mask], yerr=df12['error'][mask], fmt='^')\n",
    "    ax.set_xscale('log')\n",
    "    ax.set_xticks([1, 5, 10, 50], labels=['1', '5', '10', '50'])\n",
    "    ax.set_yscale('log')\n",
    "    ax.set_yticks([1, 5, 10, 20, 50], labels=['1', '5', '10', '20', '50'])\n",
    "    ax.annotate('Day 136.2', xy=(60, 100), xycoords='axes points', size=9, ha='right', va='top', bbox=dict(boxstyle='round', fc='w', ec=\"w\"))\n",
    "    ax.tick_params(axis='both', which='both', direction='in', top=True, right=True)\n",
    "    ax.plot(df12['Freq'][mask], fit_model_weights12(df12['Freq'][mask]), 'r--')\n",
    "    ax.annotate('${\\u03B1 = -0.85 \\\\pm 0.39}$', xy=(90, 80), xycoords='axes points', size=9, ha='right', va='top', bbox=dict(boxstyle='round', fc='w', ec=\"w\"))\n",
    "\n",
    "plt.show();"
   ]
  },
  {
   "cell_type": "markdown",
   "id": "2de5659b-6c31-4f95-bdc2-1ddd548b039d",
   "metadata": {},
   "source": [
    "### Day 139.9"
   ]
  },
  {
   "cell_type": "code",
   "execution_count": 91,
   "id": "77749ee3-f12e-4167-9557-0ed8c12b2520",
   "metadata": {},
   "outputs": [
    {
     "data": {
      "text/plain": [
       "<PowerLaw1D(amplitude=0.225, x_0=1.33, alpha=0.394665)>"
      ]
     },
     "execution_count": 91,
     "metadata": {},
     "output_type": "execute_result"
    }
   ],
   "source": [
    "#Since this day has only two data points, I have to make x_0 fixed in order to run the powerlaw1d. \n",
    "#this is done in the code below so I can use the function for the rest of the points\n",
    "\n",
    "mask = df13['Flux'] > 3 * df13['error']  # apply detection threshold\n",
    "if mask.any():\n",
    "    x13 = df13['Freq'][mask].values.tolist()\n",
    "    y13 = df13['Flux'][mask].values.tolist()\n",
    "    yerr13 = df13['error'][mask].values.tolist()\n",
    "\n",
    "\n",
    "PL13 =  PowerLaw1D(amplitude = y13[0], x_0= x13[0], alpha= 0.5,\n",
    "                     bounds={\n",
    "        'amplitude': (0, None),  # Amplitude should be positive\n",
    "        #'x_0': (x3[0], x3[0]),  # Frequency must stay within data\n",
    "        'alpha': (-10, 10)  # Keep alpha within a realistic range\n",
    "    },\n",
    "                 fixed={'x_0': True}) \n",
    "\n",
    "    #Initialize fitters\n",
    "    #setting calc_uncertainties=True to output errors on measurement \n",
    "\n",
    "fit13 = fitting.LevMarLSQFitter(calc_uncertainties=True)\n",
    "\n",
    "    #Fit the data w/o weights\n",
    "fit_model13 = fit13(PL13, x13, y13)\n",
    "\n",
    "    #weight is 1/error^2\n",
    "y_weight13 = 1/ (np.power(yerr13,2))  \n",
    "\n",
    "    # fit the data using the uncertainties as weights\n",
    "fit_model_weights13 = fit13(PL13, x13, y13, weights=y_weight13)\n",
    "\n",
    "fit_model_weights13\n"
   ]
  },
  {
   "cell_type": "code",
   "execution_count": 142,
   "id": "c142a6bb",
   "metadata": {},
   "outputs": [
    {
     "data": {
      "text/plain": [
       "(-0.3946649952020133, 1.0013596904884243)"
      ]
     },
     "execution_count": 142,
     "metadata": {},
     "output_type": "execute_result"
    }
   ],
   "source": [
    "#Same alpha as above\n",
    "two_points(y13, x13, yerr13)"
   ]
  },
  {
   "cell_type": "code",
   "execution_count": 143,
   "id": "8b251036-483a-475b-b6e7-09cda086f168",
   "metadata": {},
   "outputs": [
    {
     "data": {
      "image/png": "[encoded data removed]",
      "text/plain": [
       "<Figure size 640x480 with 1 Axes>"
      ]
     },
     "metadata": {},
     "output_type": "display_data"
    }
   ],
   "source": [
    "fig,ax = plt.subplots()\n",
    "mask = df13['Flux'] > 3 * df13['error']  # apply detection threshold\n",
    "if mask.any():  # proceed only if at least one detection\n",
    "    ax.errorbar(df13['Freq'][mask], df13['Flux'][mask], yerr=df13['error'][mask], fmt='^')\n",
    "    ax.set_xscale('log')\n",
    "    ax.set_xticks([1, 5, 10, 50], labels=['1', '5', '10', '50'])\n",
    "    ax.set_yscale('log')\n",
    "    ax.set_yticks([1, 5, 10, 20, 50], labels=['1', '5', '10', '20', '50'])\n",
    "    ax.annotate('Day 139.9', xy=(60, 100), xycoords='axes points', size=9, ha='right', va='top', bbox=dict(boxstyle='round', fc='w', ec=\"w\"))\n",
    "    ax.tick_params(axis='both', which='both', direction='in', top=True, right=True)\n",
    "    ax.plot(df13['Freq'][mask], fit_model_weights13(df13['Freq'][mask]), 'r--')\n",
    "    ax.annotate('${\\u03B1 = -0.39 \\\\pm 1.00}$', xy=(90, 80), xycoords='axes points', size=9, ha='right', va='top', bbox=dict(boxstyle='round', fc='w', ec=\"w\"))\n",
    "\n",
    "plt.show();"
   ]
  },
  {
   "cell_type": "code",
   "execution_count": null,
   "id": "4ea28030-c88c-478c-9c15-f16f44471c2b",
   "metadata": {},
   "outputs": [],
   "source": []
  }
 ],
 "metadata": {
  "kernelspec": {
   "display_name": "Python [conda env:base] *",
   "language": "python",
   "name": "conda-base-py"
  },
  "language_info": {
   "codemirror_mode": {
    "name": "ipython",
    "version": 3
   },
   "file_extension": ".py",
   "mimetype": "text/x-python",
   "name": "python",
   "nbconvert_exporter": "python",
   "pygments_lexer": "ipython3",
   "version": "3.12.7"
  }
 },
 "nbformat": 4,
 "nbformat_minor": 5
}
