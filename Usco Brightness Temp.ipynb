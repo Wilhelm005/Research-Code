{
 "cells": [
  {
   "cell_type": "markdown",
   "id": "293f57eb-1f54-4df8-8cbf-054c899f3358",
   "metadata": {},
   "source": [
    "## Usco Brightness Temp"
   ]
  },
  {
   "cell_type": "code",
   "execution_count": 79,
   "id": "1bc71a4a-fbf7-4cc0-a9ca-1dd6205246b0",
   "metadata": {},
   "outputs": [],
   "source": [
    "#importsss \n",
    "import math\n",
    "import pandas as pd\n",
    "import numpy as np\n",
    "import matplotlib.pyplot as plt\n",
    "%matplotlib inline\n",
    "\n",
    "from sympy import diff as dif\n",
    "\n",
    "from astropy.io import ascii\n",
    "import astropy.units as u\n",
    "import astropy.constants as const\n",
    "from astropy.modeling.powerlaws import BrokenPowerLaw1D, SmoothlyBrokenPowerLaw1D, PowerLaw1D\n",
    "from astropy.modeling import fitting, models"
   ]
  },
  {
   "cell_type": "code",
   "execution_count": 80,
   "id": "c9249156-e9cf-4f09-843c-94cea62f6997",
   "metadata": {},
   "outputs": [],
   "source": [
    "data = (\n",
    "\n",
    "[59755.22,\t2.6,\t0.005,\t0.036],\n",
    "[59755.22,\t3.4,\t0.0002,\t0.022],\n",
    "[59755.22,\t5.1,\t0.013,\t0.023],\n",
    "[59755.22,\t7.0,\t0.061,\t0.019],\n",
    "[59755.22,\t13.7,\t0.211,\t0.027],\n",
    "[59755.22,\t16.5,\t0.216,\t0.032],\n",
    "[59755.22,\t31.1,\t0.424,\t0.081],\n",
    "[59755.22,\t34.9,\t0.452,\t0.099],\n",
    "[59769.25,\t2.6,\t0.019,\t0.032],\n",
    "[59769.25,\t3.4,\t0.013,\t0.028],\n",
    "[59769.25,\t5.1,\t0.065,\t0.031],\n",
    "[59769.25,\t7.0,\t0.115,\t0.029],\n",
    "[59769.25,\t13.7,\t0.125,\t0.031],\n",
    "[59769.25,\t16.5,\t0.169,\t0.029],\n",
    "[59769.25,\t31.1,\t0.010,\t0.099],\n",
    "[59769.25,\t34.9,\t0.193,\t0.126],\n",
    "[59776.14,\t2.6,\t0.002,\t0.009],\n",
    "[59776.14,\t3.4,\t0.010,\t0.015],\n",
    "[59776.14,\t5.1,\t0.017,\t0.010],\n",
    "[59776.14,\t7.0,\t0.057,\t0.026],\n",
    "[59776.14,\t13.7,\t0.105,\t0.012],\n",
    "[59776.14,\t16.5,\t0.108,\t0.013],\n",
    "[59776.14,\t31.1,\t0.185,\t0.044],\n",
    "[59776.14,\t34.9,\t0.152,\t0.052],\n",
    "[59796.03,\t2.6,\t-0.008,\t0.038],\n",
    "[59796.03,\t3.4,\t0.026,\t0.025],\n",
    "[59796.03,\t5.1,\t0.024,\t0.022],\n",
    "[59796.03,\t7.0,\t0.030,\t0.020],\n",
    "[59796.03,\t13.7,\t0.048,\t0.025],\n",
    "[59796.03,\t16.5,\t0.042,\t0.029],\n",
    "[59796.03,\t31.1,\t0.103,\t0.072],\n",
    "[59796.03,\t34.9,\t0.009,\t0.083],\n",
    "[59815.03,\t2.6,\t0.020,\t0.057],\n",
    "[59815.03,\t3.4,\t0.018,\t0.027],\n",
    "[59815.03,\t5.1,\t0.025,\t0.024],\n",
    "[59815.03,\t7.0,\t0.020,\t0.023],\n",
    "[59815.03,\t13.7,\t0.014,\t0.022],\n",
    "[59815.03,\t16.5,\t0.023,\t0.027],\n",
    "[59815.03,\t31.1,\t0.035,\t0.065],\n",
    "[59815.03,\t34.9,\t0.026,\t0.070]\n",
    "\n",
    ")\n",
    "\n",
    "df =  pd.DataFrame(data, columns = [\"MJD\",\t\"Frequency(GHz)\",\t\"Fluxdensity(mJy)\",\t\"error(mJy)\"])"
   ]
  },
  {
   "cell_type": "code",
   "execution_count": 81,
   "id": "f247c7b3-457a-43db-9a02-07d45084289a",
   "metadata": {},
   "outputs": [],
   "source": [
    "f2_6 = (\n",
    " [59755.22,\t2.6,\t0.005,\t0.036],\n",
    "    [59769.25,\t2.6,\t0.019,\t0.032],\n",
    "    [59776.14,\t2.6,\t0.002,\t0.009],\n",
    "    [59796.03,\t2.6,\t-0.008,\t0.038],\n",
    "    [59815.03,\t2.6,\t0.020,\t0.057],\n",
    ")\n",
    "\n",
    "f3_4 = (\n",
    "[59755.22,\t3.4,\t0.0002,\t0.022],\n",
    "    [59769.25,\t3.4,\t0.013,\t0.028],\n",
    "    [59776.14,\t3.4,\t0.010,\t0.015],\n",
    "    [59796.03,\t3.4,\t0.026,\t0.025],\n",
    "    [59815.03,\t3.4,\t0.018,\t0.027],\n",
    ")\n",
    "\n",
    "f5_1 = (\n",
    "[59755.22,\t5.1,\t0.013,\t0.023],\n",
    "    [59769.25,\t5.1,\t0.065,\t0.031],\n",
    "    [59776.14,\t5.1,\t0.017,\t0.010],\n",
    "    [59796.03,\t5.1,\t0.024,\t0.022],\n",
    "    [59815.03,\t5.1,\t0.025,\t0.024],\n",
    ")\n",
    "\n",
    "f7 = (\n",
    "[59755.22,\t7.0,\t0.061,\t0.019],\n",
    "    [59769.25,\t7.0,\t0.115,\t0.029],\n",
    "    [59776.14,\t7.0,\t0.057,\t0.026],\n",
    "    [59796.03,\t7.0,\t0.030,\t0.020],\n",
    "    [59815.03,\t7.0,\t0.020,\t0.023],\n",
    ")\n",
    "\n",
    "f13_7 = (\n",
    "[59755.22,\t13.7,\t0.211,\t0.027],\n",
    "    [59769.25,\t13.7,\t0.125,\t0.031],\n",
    "    [59776.14,\t13.7,\t0.105,\t0.012],\n",
    "    [59796.03,\t13.7,\t0.048,\t0.025],\n",
    "    [59815.03,\t13.7,\t0.014,\t0.022],\n",
    ")\n",
    "\n",
    "f16_5 = (\n",
    "[59755.22,\t16.5,\t0.216,\t0.032],\n",
    "    [59769.25,\t16.5,\t0.169,\t0.029],\n",
    "    [59776.14,\t16.5,\t0.108,\t0.013],\n",
    "    [59796.03,\t16.5,\t0.042,\t0.029],\n",
    "    [59815.03,\t16.5,\t0.023,\t0.027],\n",
    ")\n",
    "\n",
    "f31_1 = (\n",
    "[59755.22,\t31.1,\t0.424,\t0.081],\n",
    "    [59769.25,\t31.1,\t0.010,\t0.099],\n",
    "    [59776.14,\t31.1,\t0.185,\t0.044],\n",
    "    [59796.03,\t31.1,\t0.103,\t0.072],\n",
    "    [59815.03,\t31.1,\t0.035,\t0.065],\n",
    ")\n",
    "\n",
    "f34_9 = (\n",
    "[59755.22,\t34.9,\t0.452,\t0.099],\n",
    "    [59769.25,\t34.9,\t0.193,\t0.126],\n",
    "    [59776.14,\t34.9,\t0.152,\t0.052],\n",
    "    [59796.03,\t34.9,\t0.009,\t0.083],\n",
    "    [59815.03,\t34.9,\t0.026,\t0.070]\n",
    ")\n",
    "\n"
   ]
  },
  {
   "cell_type": "code",
   "execution_count": 82,
   "id": "ccc4b3af-b914-4d51-ad9f-cd0f1974410e",
   "metadata": {},
   "outputs": [],
   "source": [
    "df2_6 =  pd.DataFrame(f2_6, columns = [\"MJD\",\t\"Frequency(GHz)\",\t\"Fluxdensity(mJy)\",\t\"error(mJy)\"])\n",
    "\n",
    "df3_4 =  pd.DataFrame(f3_4, columns = [\"MJD\",\t\"Frequency(GHz)\",\t\"Fluxdensity(mJy)\",\t\"error(mJy)\"])\n",
    "\n",
    "df5_1 =  pd.DataFrame(f5_1, columns = [\"MJD\",\t\"Frequency(GHz)\",\t\"Fluxdensity(mJy)\",\t\"error(mJy)\"])\n",
    "\n",
    "df7 =  pd.DataFrame(f7, columns = [\"MJD\",\t\"Frequency(GHz)\",\t\"Fluxdensity(mJy)\",\t\"error(mJy)\"])\n",
    "\n",
    "df13_7 =  pd.DataFrame(f13_7, columns = [\"MJD\",\t\"Frequency(GHz)\",\t\"Fluxdensity(mJy)\",\t\"error(mJy)\"])\n",
    "\n",
    "df16_5 =  pd.DataFrame(f16_5, columns = [\"MJD\",\t\"Frequency(GHz)\",\t\"Fluxdensity(mJy)\",\t\"error(mJy)\"])\n",
    "\n",
    "df31_1 =  pd.DataFrame(f31_1, columns = [\"MJD\",\t\"Frequency(GHz)\",\t\"Fluxdensity(mJy)\",\t\"error(mJy)\"])\n",
    "\n",
    "df34_9 =  pd.DataFrame(f34_9, columns = [\"MJD\",\t\"Frequency(GHz)\",\t\"Fluxdensity(mJy)\",\t\"error(mJy)\"])"
   ]
  },
  {
   "cell_type": "markdown",
   "id": "9105d639-069a-40fe-9708-5e2343c8890a",
   "metadata": {},
   "source": [
    "### Eruption on MJD 59736.72 (from Moriyama M., 2022, vsnet-alert 26798)"
   ]
  },
  {
   "cell_type": "code",
   "execution_count": 83,
   "id": "972f5391-d420-4474-a779-9ca7581594f2",
   "metadata": {},
   "outputs": [],
   "source": [
    "mask1 = df2_6['Fluxdensity(mJy)'] > 3 * np.sqrt(df2_6[\"error(mJy)\"]**2 + (df2_6[\"Fluxdensity(mJy)\"]*0.05)**2) #don't show the non-detections\n",
    "days2_6 = df2_6['MJD'][mask1] - 59736.72\n",
    "flux2_6 = df2_6[\"Fluxdensity(mJy)\"][mask1]\n",
    "flux_err2_6 = np.sqrt(df2_6[\"error(mJy)\"][mask1]**2 + (df2_6[\"Fluxdensity(mJy)\"][mask1]*0.05)**2)\n",
    "\n",
    "mask2 = df3_4['Fluxdensity(mJy)'] > 3 * np.sqrt(df3_4[\"error(mJy)\"]**2 + (df3_4[\"Fluxdensity(mJy)\"]*0.05)**2) #don't show the non-detections\n",
    "days3_4 = df3_4['MJD'][mask2] - 59736.72\n",
    "flux3_4 = df3_4[\"Fluxdensity(mJy)\"][mask2]\n",
    "flux_err3_4 = np.sqrt(df3_4[\"error(mJy)\"][mask2]**2 + (df3_4[\"Fluxdensity(mJy)\"][mask2]*0.05)**2)\n",
    "\n",
    "mask3 = df5_1['Fluxdensity(mJy)'] > 3 * np.sqrt(df5_1[\"error(mJy)\"]**2 + (df5_1[\"Fluxdensity(mJy)\"]*0.05)**2) #don't show the non-detections\n",
    "days5_1 = df5_1['MJD'][mask3] - 59736.72\n",
    "flux5_1 = df5_1[\"Fluxdensity(mJy)\"][mask3]\n",
    "flux_err5_1 = np.sqrt(df5_1[\"error(mJy)\"][mask3]**2 + (df5_1[\"Fluxdensity(mJy)\"][mask3]*0.05)**2)\n",
    "\n",
    "mask4 = df7['Fluxdensity(mJy)'] > 3 * np.sqrt(df7[\"error(mJy)\"]**2 + (df7[\"Fluxdensity(mJy)\"]*0.05)**2) #don't show the non-detections\n",
    "days7 = df7['MJD'][mask4] - 59736.72\n",
    "flux7 = df7[\"Fluxdensity(mJy)\"][mask4]\n",
    "flux_err7 = np.sqrt(df7[\"error(mJy)\"][mask4]**2 + (df7[\"Fluxdensity(mJy)\"][mask4]*0.05)**2)\n",
    "\n",
    "\n",
    "mask5 = df13_7['Fluxdensity(mJy)'] > 3 * np.sqrt(df13_7[\"error(mJy)\"]**2 + (df13_7[\"Fluxdensity(mJy)\"]*0.1)**2) #don't show the non-detections\n",
    "days13_7 = df13_7['MJD'][mask5] - 59736.72\n",
    "flux13_7 = df13_7[\"Fluxdensity(mJy)\"][mask5]\n",
    "flux_err13_7 = np.sqrt(df13_7[\"error(mJy)\"][mask5]**2 + (df13_7[\"Fluxdensity(mJy)\"][mask5]*0.1)**2)\n",
    "\n",
    "mask6 = df16_5['Fluxdensity(mJy)'] > 3 * np.sqrt(df16_5[\"error(mJy)\"]**2 + (df16_5[\"Fluxdensity(mJy)\"]*0.1)**2) #don't show the non-detections\n",
    "days16_5 = df16_5['MJD'][mask6] - 59736.72\n",
    "flux16_5 = df16_5[\"Fluxdensity(mJy)\"][mask6]\n",
    "flux_err16_5 = np.sqrt(df16_5[\"error(mJy)\"][mask6]**2 + (df16_5[\"Fluxdensity(mJy)\"][mask6]*0.1)**2)\n",
    "\n",
    "mask7 = df31_1['Fluxdensity(mJy)'] > 3 * np.sqrt(df31_1[\"error(mJy)\"]**2 + (df31_1[\"Fluxdensity(mJy)\"]*0.1)**2) #don't show the non-detections\n",
    "days31_1 = df31_1['MJD'][mask7] - 59736.72\n",
    "flux31_1 = df31_1[\"Fluxdensity(mJy)\"][mask7]\n",
    "flux_err31_1 = np.sqrt(df31_1[\"error(mJy)\"][mask7]**2 + (df31_1[\"Fluxdensity(mJy)\"][mask7]*0.1)**2)\n",
    "\n",
    "mask8 = df34_9['Fluxdensity(mJy)'] > 3 * np.sqrt(df34_9[\"error(mJy)\"]**2 + (df34_9[\"Fluxdensity(mJy)\"]*0.1)**2) #don't show the non-detections\n",
    "days34_9 = df34_9['MJD'][mask8] - 59736.72\n",
    "flux34_9 = df34_9[\"Fluxdensity(mJy)\"][mask8]\n",
    "flux_err34_9 = np.sqrt(df34_9[\"error(mJy)\"][mask8]**2 + (df34_9[\"Fluxdensity(mJy)\"][mask8]*0.1)**2)"
   ]
  },
  {
   "cell_type": "markdown",
   "id": "3b145cba-182d-4baf-a0b0-19b0bb21cd42",
   "metadata": {},
   "source": [
    "## Now to find brightness temp"
   ]
  },
  {
   "cell_type": "code",
   "execution_count": 84,
   "id": "5b3eadfc-1b66-43b6-9b96-c07f26adb03e",
   "metadata": {},
   "outputs": [],
   "source": [
    "###distance is 6.56 + 3.17 - 4.02 kpc\n",
    "\n",
    "# Velocity is"
   ]
  },
  {
   "cell_type": "code",
   "execution_count": 85,
   "id": "d170ac09-4dbe-4071-82e9-e63755dd2b03",
   "metadata": {},
   "outputs": [],
   "source": [
    "Vlow =  500* 100000\n",
    "Vhigh =  10000* 100000\n",
    "Distlow = 2.54 *  3.086*10**21    \n",
    "Disthigh =   9.73*  3.086*10**21    \n",
    "\n",
    "Dist =   6.56 * 3.086*10**21              #distance in cm\n",
    "V_const =   5000* 100000        #velocity in cm/s\n"
   ]
  },
  {
   "cell_type": "code",
   "execution_count": 86,
   "id": "0d640f07-1245-4e95-8a78-651a4442ac92",
   "metadata": {},
   "outputs": [],
   "source": [
    "def Con_TB(S,T,E,nu): #flux denisty, time, error of flux density, frequency in order those are the plug ins\n",
    "    R = []\n",
    "    CTB = []\n",
    "    CTBE = []\n",
    "\n",
    "    S = np.array(S)\n",
    "    T = np.array(T)\n",
    "    E = np.array(E)\n",
    "    \n",
    "    for i in range(len(S)):\n",
    "        R.append(V_const * T[i])  #velocity over time                  #R in cm\n",
    "        angular_diam = 206265 * ((2*R[i])/ Dist)                       #unitless\n",
    "        CTB.append(1765.8 * (nu**(-2)) * S[i]*(angular_diam**(-2)))    #mJy / (Ghz^2)\n",
    "        CTBE.append(1765.8 * (nu**(-2)) * E[i]*(angular_diam**(-2)))\n",
    "    \n",
    "    return(CTB, CTBE)\n",
    "        "
   ]
  },
  {
   "cell_type": "code",
   "execution_count": 87,
   "id": "b0246d9d-67c9-404f-9f4f-beaa4e2825e2",
   "metadata": {},
   "outputs": [],
   "source": [
    "nu0 = 2.6 #FREQUENCY 1\n",
    "nu1 = 7 #frequency 2\n",
    "nu2 = 16.5 #frequency 3\n",
    "nu3 = 31.1  #freq 4\n",
    "\n",
    "\n",
    "date_CAC_sec_n0 = days2_6 * 86400    #time in seconds  (date_CAC is going to be a list of times (from t0))\n",
    "date_CAC_sec_n1 = days7 * 86400    #time in seconds \n",
    "date_CAC_sec_n2 = days16_5 * 86400    #time in seconds \n",
    "date_CAC_sec_n3 = days31_1 * 86400"
   ]
  },
  {
   "cell_type": "code",
   "execution_count": 88,
   "id": "344fd590-13aa-4dcf-b8c0-2333d2783dea",
   "metadata": {},
   "outputs": [],
   "source": [
    "CTB_nu0, CTBError_nu0 = Con_TB(flux2_6, date_CAC_sec_n0, flux_err2_6, nu0)\n",
    "\n",
    "CTB_nu1, CTBError_nu1 = Con_TB(flux7, date_CAC_sec_n1, flux_err7, nu1)\n",
    "\n",
    "CTB_nu2, CTBError_nu2 = Con_TB(flux16_5, date_CAC_sec_n2, flux_err16_5, nu2)\n",
    "\n",
    "CTB_nu3, CTBError_nu3 = Con_TB(flux31_1, date_CAC_sec_n3, flux_err31_1, nu3)"
   ]
  },
  {
   "cell_type": "code",
   "execution_count": 89,
   "id": "79b2bc07-440f-4f89-a8d7-6de979545d57",
   "metadata": {},
   "outputs": [
    {
     "data": {
      "image/png": "[encoded data removed]",
      "text/plain": [
       "<Figure size 1200x1000 with 1 Axes>"
      ]
     },
     "metadata": {},
     "output_type": "display_data"
    }
   ],
   "source": [
    "fig, ax = plt.subplots()\n",
    "fig.set_size_inches(12,10)\n",
    "\n",
    "ax.axhline(y=5*10**4, color='black', linestyle='-', linewidth=1.5)\n",
    "\n",
    "#using a function to plot the detections only\n",
    "# Store which labels have already been used\n",
    "used_labels = set()\n",
    "\n",
    "def plot(days, CTBs, CTBerrors, fluxes, errors, color, label_name):\n",
    "    for day, CTB, CTBerr, flux, err in zip(days, CTBs, CTBerrors, fluxes, errors):\n",
    "        if flux < 3 * err:\n",
    "            fmt = 'x'  # square for non-detection\n",
    "            label = None  # no label for non-detections\n",
    "            ax.errorbar(day, CTB, fmt=fmt, color=color, label=label)\n",
    "            \n",
    "        else:\n",
    "            fmt = '^'  # triangle for detection\n",
    "            label = label_name if label_name not in used_labels else None\n",
    "        \n",
    "            ax.errorbar(day, CTB, yerr=CTBerr, fmt=fmt, color=color, label=label)\n",
    "        \n",
    "        if label:\n",
    "            used_labels.add(label)\n",
    "\n",
    "\n",
    "plot(days2_6, CTB_nu0, CTBError_nu0, flux2_6, flux_err2_6,'green', '2.6')\n",
    "ax.plot(days2_6[0:27], CTB_nu0[0:27], color='green', linestyle = '--', alpha=.50)\n",
    "\n",
    "plot(days7, CTB_nu1, CTBError_nu1, flux7, flux_err7,'blue', '7.0')\n",
    "ax.plot(days7[0:30], CTB_nu1[0:30], color='blue', linestyle = '--', alpha=.50)\n",
    "\n",
    "plot(days16_5, CTB_nu2, CTBError_nu2, flux16_5, flux_err16_5,'orange', '16.5')\n",
    "ax.plot(days16_5[0:30], CTB_nu2[0:30], color='orange', linestyle = '--', alpha=.50)\n",
    "\n",
    "plot(days31_1, CTB_nu3, CTBError_nu3, flux31_1, flux_err31_1,'red', '31.1')\n",
    "ax.plot(days31_1[0:30], CTB_nu3[0:30], color='red', linestyle = '--', alpha=.50)\n",
    "\n",
    "\n",
    "ax.set_xscale('log')\n",
    "ax.set_xticks([10,20,30,40,50,60,100], labels = ['10','20','30','40','50','60','100'])\n",
    "ax.set_yscale('log')\n",
    "#ax.set_yticks([.1,1,10], labels = ['0.1','1.0','10.0'])\n",
    "ax.set_xlabel(\"Time since eruption (days)\")\n",
    "ax.set_ylabel(\"Brightness Temperature (K)\")\n",
    "\n",
    "\n",
    "ax.tick_params(axis='both', which='both', direction='in', top=True, right=True)\n",
    "\n",
    "ax.set_title(\"\")\n",
    "plt.legend(title='Frequency (GHz)')\n",
    "plt.show();"
   ]
  },
  {
   "cell_type": "markdown",
   "id": "1c71a8b2-0dd5-442e-8e5c-c8f5961e1b0d",
   "metadata": {},
   "source": [
    "## Now to get the high and low from the most limited freq (smallest)"
   ]
  },
  {
   "cell_type": "code",
   "execution_count": 90,
   "id": "4330a0b7-9f7e-4acf-b4b1-29e25980ebc4",
   "metadata": {},
   "outputs": [],
   "source": [
    "Vlow =  4800* 100000\n",
    "Vhigh =  5200* 100000\n",
    "Distlow = 2.54 *  3.086*10**21    \n",
    "Disthigh =   9.73*  3.086*10**21    "
   ]
  },
  {
   "cell_type": "code",
   "execution_count": 91,
   "id": "eddbd958-7dfc-4ddf-b930-170b1cc7d6f3",
   "metadata": {},
   "outputs": [],
   "source": [
    "def Con_TBlow(S,T,E,nu): #flux denisty, time, error of flux density, frequency in order those are the plug ins\n",
    "    R = []\n",
    "    CTB = []\n",
    "    CTBE = []\n",
    "\n",
    "    S = np.array(S)\n",
    "    T = np.array(T)\n",
    "    E = np.array(E)\n",
    "    \n",
    "    for i in range(len(S)):\n",
    "        R.append(Vhigh * T[i])  #velocity over time                  #R in cm\n",
    "        angular_diam = 206265 * ((2*R[i])/ Distlow)                       #unitless\n",
    "        CTB.append(1765.8 * (nu**(-2)) * S[i]*(angular_diam**(-2)))    #mJy / (Ghz^2)\n",
    "        CTBE.append(1765.8 * (nu**(-2)) * E[i]*(angular_diam**(-2)))\n",
    "    \n",
    "    return(CTB, CTBE)\n",
    "\n",
    "\n",
    "\n",
    "def Con_TBhigh(S,T,E,nu): #flux denisty, time, error of flux density, frequency in order those are the plug ins\n",
    "    R = []\n",
    "    CTB = []\n",
    "    CTBE = []\n",
    "\n",
    "    S = np.array(S)\n",
    "    T = np.array(T)\n",
    "    E = np.array(E)\n",
    "    \n",
    "    for i in range(len(S)):\n",
    "        R.append(Vlow * T[i])  #velocity over time                  #R in cm\n",
    "        angular_diam = 206265 * ((2*R[i])/ Disthigh)                       #unitless\n",
    "        CTB.append(1765.8 * (nu**(-2)) * S[i]*(angular_diam**(-2)))    #mJy / (Ghz^2)\n",
    "        CTBE.append(1765.8 * (nu**(-2)) * E[i]*(angular_diam**(-2)))\n",
    "    \n",
    "    return(CTB, CTBE)\n",
    "        "
   ]
  },
  {
   "cell_type": "code",
   "execution_count": 92,
   "id": "a3b524a7-1c94-4e8c-b120-15e0a5fe62b7",
   "metadata": {},
   "outputs": [],
   "source": [
    "nu7 = 7\n",
    "date_CAC_sec_n7 = days7 * 86400    #time in seconds  (date_CAC is going to be a list of times (from t0))"
   ]
  },
  {
   "cell_type": "code",
   "execution_count": 93,
   "id": "d7c70929-bf3f-4b62-8030-2348cae85460",
   "metadata": {},
   "outputs": [
    {
     "name": "stdout",
     "output_type": "stream",
     "text": [
      "[np.float64(19784.646791454492), np.float64(12063.453012068818)]\n"
     ]
    }
   ],
   "source": [
    "CTB_nuhigh, CTBError_nuhigh = Con_TBhigh(flux7, date_CAC_sec_n7, flux_err7, nu7)\n",
    "print(CTB_nuhigh)"
   ]
  },
  {
   "cell_type": "code",
   "execution_count": 94,
   "id": "3541f05a-44f7-4fa9-b631-0cb6d87b27a7",
   "metadata": {},
   "outputs": [
    {
     "name": "stdout",
     "output_type": "stream",
     "text": [
      "[np.float64(1148.8037420431924), np.float64(700.469414910796)]\n"
     ]
    }
   ],
   "source": [
    "CTB_nulow, CTBError_nulow = Con_TBlow(flux7, date_CAC_sec_n7, flux_err7, nu7)\n",
    "print(CTB_nulow)"
   ]
  },
  {
   "cell_type": "code",
   "execution_count": 95,
   "id": "ff96a60c-7244-4cf1-be25-b6bff84fa668",
   "metadata": {},
   "outputs": [
    {
     "data": {
      "image/png": "[encoded data removed]",
      "text/plain": [
       "<Figure size 1200x1000 with 1 Axes>"
      ]
     },
     "metadata": {},
     "output_type": "display_data"
    }
   ],
   "source": [
    "fig, ax = plt.subplots()\n",
    "fig.set_size_inches(12,10)\n",
    "\n",
    "ax.axhline(y=5*10**4, color='black', linestyle='-', linewidth=1.5)\n",
    "\n",
    "#using a function to plot the detections only\n",
    "# Store which labels have already been used\n",
    "used_labels = set()\n",
    "\n",
    "def plot(days, CTBs, CTBerrors, fluxes, errors, color, label_name):\n",
    "    for day, CTB, CTBerr, flux, err in zip(days, CTBs, CTBerrors, fluxes, errors):\n",
    "        if flux < 3 * err:\n",
    "            fmt = 'x'  # square for non-detection\n",
    "            label = None  # no label for non-detections\n",
    "            ax.errorbar(day, CTB, fmt=fmt, color=color, label=label)\n",
    "            \n",
    "        else:\n",
    "            fmt = '^'  # triangle for detection\n",
    "            label = label_name if label_name not in used_labels else None\n",
    "        \n",
    "            ax.errorbar(day, CTB, yerr=CTBerr, fmt=fmt, color=color, label=label)\n",
    "        \n",
    "        if label:\n",
    "            used_labels.add(label)\n",
    "\n",
    "\n",
    "plot(days7, CTB_nuhigh, CTBError_nuhigh, flux7, flux_err7,'green', '7')\n",
    "ax.plot(days7[0:27], CTB_nuhigh[0:27], color='green', linestyle = '-', alpha=.50)\n",
    "\n",
    "plot(days7, CTB_nulow, CTBError_nulow, flux7, flux_err7,'green', '7')\n",
    "ax.plot(days7[0:27], CTB_nulow[0:27], color='green', linestyle = '-', alpha=.50)\n",
    "\n",
    "ax.fill_between(days7, CTB_nulow, CTB_nuhigh, alpha=.25, color='green')\n",
    "\n",
    "ax.set_xscale('log')\n",
    "ax.set_xticks([10,20,30,40,50,60,100], labels = ['10','20','30','40','50','60','100'])\n",
    "ax.set_yscale('log')\n",
    "#ax.set_yticks([.1,1,10], labels = ['0.1','1.0','10.0'])\n",
    "ax.set_xlabel(\"Time since eruption (days)\")\n",
    "ax.set_ylabel(\"Brightness Temperature (K)\")\n",
    "\n",
    "\n",
    "ax.tick_params(axis='both', which='both', direction='in', top=True, right=True)\n",
    "\n",
    "ax.set_title(\"\")\n",
    "plt.legend(title='Frequency (GHz)')\n",
    "plt.show();"
   ]
  },
  {
   "cell_type": "code",
   "execution_count": null,
   "id": "abc0093b-4ac9-4b95-a726-2ba21c0bbc8c",
   "metadata": {},
   "outputs": [],
   "source": []
  },
  {
   "cell_type": "code",
   "execution_count": null,
   "id": "27de1bc2-fed0-4ae6-a89f-e11748654d7b",
   "metadata": {},
   "outputs": [],
   "source": []
  }
 ],
 "metadata": {
  "kernelspec": {
   "display_name": "anaconda-2025.04-py3.11",
   "language": "python",
   "name": "conda-env-anaconda-2025.04-py3.11"
  },
  "language_info": {
   "codemirror_mode": {
    "name": "ipython",
    "version": 3
   },
   "file_extension": ".py",
   "mimetype": "text/x-python",
   "name": "python",
   "nbconvert_exporter": "python",
   "pygments_lexer": "ipython3",
   "version": "3.11.11"
  }
 },
 "nbformat": 4,
 "nbformat_minor": 5
}
